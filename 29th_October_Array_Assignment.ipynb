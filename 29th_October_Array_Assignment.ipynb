{
 "cells": [
  {
   "cell_type": "markdown",
   "id": "30363753",
   "metadata": {},
   "source": [
    "# Arrays : Assignment Solution"
   ]
  },
  {
   "cell_type": "markdown",
   "id": "3487e6a8",
   "metadata": {},
   "source": [
    "# 1. Given an array, check if it contains any duplicates or not. \n",
    "arr = [1, 2, 4, 2, 5, 9] \n",
    "Output: True"
   ]
  },
  {
   "cell_type": "code",
   "execution_count": 28,
   "id": "91eb4d24",
   "metadata": {},
   "outputs": [
    {
     "data": {
      "text/plain": [
       "True"
      ]
     },
     "execution_count": 28,
     "metadata": {},
     "output_type": "execute_result"
    }
   ],
   "source": [
    "def check_duplicate(arr):\n",
    "    # Create an empty set to store unique elements\n",
    "    unique_elements = set()\n",
    "\n",
    "    # Iterate through the array\n",
    "    for element in arr:\n",
    "        # If the element is already in the set, it's a duplicate\n",
    "        if element in unique_elements:\n",
    "            return True\n",
    "        # Otherwise, add it to the set\n",
    "        unique_elements.add(element)\n",
    "\n",
    "    # If the loop completes without finding any duplicates, return False\n",
    "    return False\n",
    "\n",
    "# call the function\n",
    "arr = [1,2,4,2,5,9]\n",
    "check_duplicate(arr)"
   ]
  },
  {
   "cell_type": "markdown",
   "id": "d02d84b3",
   "metadata": {},
   "source": [
    "Explanation:\n",
    "1. define function to that pass one array as arguments\n",
    "2. define empty set , that can store unique element using set() function\n",
    "3. then we iterate array through the for loop and using control statement we can check that it is contains duplicate or not\n",
    "4. call the function"
   ]
  },
  {
   "cell_type": "markdown",
   "id": "119ae6af",
   "metadata": {},
   "source": [
    "# 2.  Given an array and an integer k, rotate the array to the right by k steps.\n",
    "arr = [1, 2, 3, 4, 5, 6, 7] \n",
    "k = 3  \n",
    "Output = [5, 6, 7, 1, 2, 3, 4]"
   ]
  },
  {
   "cell_type": "code",
   "execution_count": 41,
   "id": "3bdd38c3",
   "metadata": {},
   "outputs": [
    {
     "name": "stdout",
     "output_type": "stream",
     "text": [
      "[5, 6, 7, 1, 2, 3, 4]\n"
     ]
    }
   ],
   "source": [
    "# define function\n",
    "def rotate_array(nums, k):\n",
    "    n = len(nums)\n",
    "    \n",
    "    # To avoid unnecessary rotations, use modulo to get the effective k\n",
    "    k = k % n\n",
    "\n",
    "    # Split the array into two parts and reverse them\n",
    "    nums[:k], nums[k:] = nums[n - k:], nums[:n - k]\n",
    "\n",
    "# Example usage:\n",
    "my_array = [1, 2, 3, 4, 5, 6, 7]\n",
    "k = 3\n",
    "rotate_array(my_array, k)\n",
    "print(my_array)  # Output: [5, 6, 7, 1, 2, 3, 4]\n"
   ]
  },
  {
   "cell_type": "markdown",
   "id": "f3a546c1",
   "metadata": {},
   "source": [
    "Explanation:\n",
    "1. We calculate the effective rotation k by taking the modulo of k with the length of the array n. This step is important to\n",
    "   prevent unnecessary full rotations that would bring the array back to its original state.\n",
    "\n",
    "2. We split the array into two parts using slicing. The first part consists of the last k elements of the array (those that will\n",
    "   be moved to the front), and the second part consists of the remaining elements.\n",
    "\n",
    "3. We then reverse both parts and combine them to get the rotated array."
   ]
  },
  {
   "cell_type": "markdown",
   "id": "e6167a40",
   "metadata": {},
   "source": [
    "# 3.  Reverse the given array in-place, means without using any extra data structure. \n",
    "arr = [2, 4, 5, 7, 9, 12] \n",
    "Output = [12, 9, 7, 5, 4, 2"
   ]
  },
  {
   "cell_type": "code",
   "execution_count": 47,
   "id": "345009eb",
   "metadata": {},
   "outputs": [
    {
     "data": {
      "text/plain": [
       "[12, 9, 7, 5, 4, 2]"
      ]
     },
     "execution_count": 47,
     "metadata": {},
     "output_type": "execute_result"
    }
   ],
   "source": [
    "# define function that pass one array as argument\n",
    "def reverse_element(arr):\n",
    "    if not arr:\n",
    "        return None\n",
    "    \n",
    "# define start and end varialbe \n",
    "    start = 0\n",
    "    end = len(arr)-1\n",
    "    while(start<end):\n",
    "        \n",
    "#  swap the element at start and end indices\n",
    "        arr[start],arr[end] = arr[end],arr[start]\n",
    "        start += 1\n",
    "        end -= 1\n",
    "    return arr\n",
    "\n",
    "# call the function\n",
    "arr = [2,4,5,7,9,12]\n",
    "reverse_element(arr)"
   ]
  },
  {
   "cell_type": "markdown",
   "id": "36270746",
   "metadata": {},
   "source": [
    "Explanation:\n",
    "1. We initialize two pointers, start and end, at the beginning and end of the array, respectively.\n",
    "2. We repeatedly swap the elements at the start and end indices and increment start while decrementing end. This process\n",
    "   continues until start is no longer less than end.\n",
    "3. finally return the array and call the function"
   ]
  },
  {
   "cell_type": "markdown",
   "id": "c1747db6",
   "metadata": {},
   "source": [
    "# 4. Given an array of integers, find the maximum element in an array\n",
    "\n",
    " arr = [10, 5, 20, 8, 15]\n",
    "\n",
    " Output = 20"
   ]
  },
  {
   "cell_type": "code",
   "execution_count": 46,
   "id": "1b3a1702",
   "metadata": {},
   "outputs": [
    {
     "name": "stdout",
     "output_type": "stream",
     "text": [
      "The maximum element in the array is: 20\n"
     ]
    }
   ],
   "source": [
    "# define function to find max element in array\n",
    "def find_max_element(arr):\n",
    "    if not arr:\n",
    "        return None  # Handle the case of an empty array\n",
    "\n",
    "    max_element = arr[0]  # Initialize max_element with the first element\n",
    "\n",
    "    for num in arr:\n",
    "        if num > max_element:\n",
    "            max_element = num  # Update max_element if a larger element is found\n",
    "\n",
    "    return max_element\n",
    "\n",
    "# Example usage:\n",
    "my_array = [10, 5, 20, 8, 15]\n",
    "max_value = find_max_element(my_array)\n",
    "print(\"The maximum element in the array is:\", max_value)  # Output: 30\n"
   ]
  },
  {
   "cell_type": "markdown",
   "id": "6d4d9120",
   "metadata": {},
   "source": [
    "Explanation:\n",
    "1. We initialize max_element with the first element of the array as the initial maximum.\n",
    "2. We then iterate through the array and compare each element with max_element. If an element is greater than max_element, we\n",
    "   update max_element to be the new maximum value.\n",
    "3. After looping through the entire array, max_element will contain the maximum element."
   ]
  },
  {
   "cell_type": "markdown",
   "id": "05f0bcb6",
   "metadata": {},
   "source": [
    "# 5. Given a sorted array, remove the duplicate element without using any extra data structure. \n",
    "\n",
    "arr = [1, 1, 2, 2, 2, 3, 3, 4, 4, 4, 5, 5] \n",
    "\n",
    "Output = [1, 2, 3, 4, 5"
   ]
  },
  {
   "cell_type": "code",
   "execution_count": 3,
   "id": "40ffa657",
   "metadata": {},
   "outputs": [
    {
     "name": "stdout",
     "output_type": "stream",
     "text": [
      "Array after removing duplicates:\n",
      "[1, 2, 3, 4, 5]\n"
     ]
    }
   ],
   "source": [
    "# define function that pass list as arugmetns\n",
    "def remove_duplicates(nums):\n",
    "    \n",
    "# if list is empty then return 0\n",
    "    if not nums:\n",
    "        return 0\n",
    "\n",
    "    unique_index = 0\n",
    "\n",
    "# iterate list in range    \n",
    "    for i in range(1, len(nums)):\n",
    "        if nums[i] != nums[unique_index]:\n",
    "            unique_index += 1\n",
    "            nums[unique_index] = nums[i]\n",
    "\n",
    "    return unique_index + 1\n",
    "\n",
    "# Example usage:\n",
    "arr = [1, 1, 2, 2, 2, 3, 4, 4, 5]\n",
    "new_length = remove_duplicates(arr)\n",
    "\n",
    "print(\"Array after removing duplicates:\")\n",
    "print(arr[:new_length])\n"
   ]
  },
  {
   "cell_type": "markdown",
   "id": "2a8c84fe",
   "metadata": {},
   "source": [
    "Explanation:\n",
    "1. we maintain a unique_index to keep track of the unique elements in the array.\n",
    "2. We iterate through the array, and whenever we encounter a new unique element, we increment the unique_index and place that\n",
    "   unique element at the next available position in the array.\n",
    "3. In the end, we return the length of the modified array, which will be the number of unique elements."
   ]
  }
 ],
 "metadata": {
  "kernelspec": {
   "display_name": "Python 3 (ipykernel)",
   "language": "python",
   "name": "python3"
  },
  "language_info": {
   "codemirror_mode": {
    "name": "ipython",
    "version": 3
   },
   "file_extension": ".py",
   "mimetype": "text/x-python",
   "name": "python",
   "nbconvert_exporter": "python",
   "pygments_lexer": "ipython3",
   "version": "3.11.4"
  }
 },
 "nbformat": 4,
 "nbformat_minor": 5
}
