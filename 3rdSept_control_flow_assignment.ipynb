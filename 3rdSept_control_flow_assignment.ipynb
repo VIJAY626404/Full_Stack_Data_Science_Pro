{
 "cells": [
  {
   "cell_type": "markdown",
   "id": "d2a4e1a2",
   "metadata": {},
   "source": [
    "#  Basic If-Else Statements:"
   ]
  },
  {
   "cell_type": "markdown",
   "id": "9218cae3",
   "metadata": {},
   "source": [
    "# 1. Write a Python program to check if a given number is positive or negative"
   ]
  },
  {
   "cell_type": "code",
   "execution_count": 1,
   "id": "b50cefff",
   "metadata": {},
   "outputs": [
    {
     "name": "stdout",
     "output_type": "stream",
     "text": [
      "Enter your number:55\n",
      "55 is positive number\n"
     ]
    }
   ],
   "source": [
    "# firstly take user input\n",
    "number = int(input(\"Enter your number:\"))\n",
    "\n",
    "# check that number is positive or negative and print your message\n",
    "if number>0:\n",
    "    print(f\"{number} is positive number\")\n",
    "else:\n",
    "    print(f\"{number} is not positive number\")"
   ]
  },
  {
   "cell_type": "markdown",
   "id": "e9f583ec",
   "metadata": {},
   "source": [
    "Explanation:\n",
    "1. take user input as integer value\n",
    "2. after input value check that number is positive or negative using if else statement\n",
    "3. if entered number>0 means , this is positve number otherwise it's negative number\n",
    "4. after check print your message using print() function"
   ]
  },
  {
   "cell_type": "markdown",
   "id": "cde7ed02",
   "metadata": {},
   "source": [
    "# 2. Create a program that determines if a person is eligible to vote based on their age"
   ]
  },
  {
   "cell_type": "code",
   "execution_count": 5,
   "id": "5917bb85",
   "metadata": {},
   "outputs": [
    {
     "name": "stdout",
     "output_type": "stream",
     "text": [
      "Enter your current age: 20\n",
      "You are eligible for vote\n"
     ]
    }
   ],
   "source": [
    "# take user input age\n",
    "age = int(input(\"Enter your current age: \"))\n",
    "\n",
    "# check that age is greater then 18 or not and print something\n",
    "if age>=18:\n",
    "    print(\"You are eligible for vote\")\n",
    "else:\n",
    "    print(\"You are not eligible for vote\")"
   ]
  },
  {
   "cell_type": "markdown",
   "id": "9aba1482",
   "metadata": {},
   "source": [
    "Explanation:\n",
    "1. take user input age\n",
    "2. afte take input check that entered age>18 or not using if-else statement\n",
    "3. if yes then print your message \"you are eligible for vote\", otherwise print \"no\""
   ]
  },
  {
   "cell_type": "markdown",
   "id": "0df287fa",
   "metadata": {},
   "source": [
    "# 3. Develop a program to find the maximum of two numbers using if-else statements"
   ]
  },
  {
   "cell_type": "code",
   "execution_count": 11,
   "id": "90827867",
   "metadata": {},
   "outputs": [
    {
     "name": "stdout",
     "output_type": "stream",
     "text": [
      "Enter your first number: 45\n",
      "Enter your second number: 78\n",
      "Maximum value between 45 and 78 is : 78\n"
     ]
    }
   ],
   "source": [
    "# take first number as user input\n",
    "num1 = int(input(\"Enter your first number: \"))\n",
    "\n",
    "# take second number as user input\n",
    "num2 = int(input(\"Enter your second number: \"))\n",
    "\n",
    "# after check take both number check that maximum number\n",
    "if num1>num2:\n",
    "    print(f\"Maximum value between {num1} and {num2 } is : {num1}\")\n",
    "else:\n",
    "    print(f\"Maximum value between {num1} and {num2} is : {num2}\")"
   ]
  },
  {
   "cell_type": "markdown",
   "id": "b564f26b",
   "metadata": {},
   "source": [
    "Explanation:\n",
    "1. first thing is take user input  both numbers\n",
    "2. after take input both number , using if-else statement check that,\n",
    "3. if numm1>num2 means num1 is maximum value between these value \n",
    "4. otherwise num2 is maximum value between num1 and num2\n",
    "5. finally print your result using print() function"
   ]
  },
  {
   "cell_type": "markdown",
   "id": "1d4579fd",
   "metadata": {},
   "source": [
    "# 4. Write a Python script to classify a given year as a leap year or not."
   ]
  },
  {
   "cell_type": "code",
   "execution_count": 15,
   "id": "ad4e250a",
   "metadata": {},
   "outputs": [
    {
     "name": "stdout",
     "output_type": "stream",
     "text": [
      "Enter your year: 2000\n",
      "Yes, 2000 is leap year\n"
     ]
    }
   ],
   "source": [
    "# enter your year as user input\n",
    "year = int(input(\"Enter your year: \"))\n",
    "\n",
    "# after take year input check that it is leap year or not and display your result\n",
    "if (year%4 == 0 and year%100 == 0) or year%400 == 0:\n",
    "    print(f\"Yes, {year} is leap year\")\n",
    "else:\n",
    "    print(f\"No, {year} is not learp year\")"
   ]
  },
  {
   "cell_type": "markdown",
   "id": "0c56d20a",
   "metadata": {},
   "source": [
    "Explanation:\n",
    "1. enter your your as user input\n",
    "2. after enter your year check that year is leap year or not using if-else statement\n",
    "3. if year%4 == 0 and year%100 == 0, or year%400 == 0 means this is leap year\n",
    "4. if above condition or not satisfied means it is not leap year\n",
    "5. finally print your message "
   ]
  },
  {
   "cell_type": "markdown",
   "id": "13e227dc",
   "metadata": {},
   "source": [
    "# 5. Create a program that checks whether a character is a vowel or a consonant."
   ]
  },
  {
   "cell_type": "code",
   "execution_count": 33,
   "id": "e09033e7",
   "metadata": {},
   "outputs": [
    {
     "name": "stdout",
     "output_type": "stream",
     "text": [
      "Enter your character: I\n",
      "Yes, I is vowel \n"
     ]
    }
   ],
   "source": [
    "# take character as user input\n",
    "def check_character(character):\n",
    "    \n",
    "# declare the value of vowels or consonant\n",
    "    vowels = \"aeiou\"\n",
    "    consonant = \"bcdfghjklmnpqrstvwxyz\"\n",
    "    \n",
    "# convert entered character into lowercase\n",
    "    new_character = character.lower()\n",
    "    \n",
    "#     check that type of character\n",
    "    if len(character)==1 :\n",
    "        if new_character in vowels :\n",
    "            print(f\"Yes, {character} is vowel \")\n",
    "        if new_character in consonant :\n",
    "            print(f\"Yes, {character} is consonant \")\n",
    "    else:\n",
    "        print(f\"{character} is Not valid character \")\n",
    " \n",
    "# call the function\n",
    "character = input(\"Enter your character: \")\n",
    "check_character(character)"
   ]
  },
  {
   "cell_type": "markdown",
   "id": "c72152e6",
   "metadata": {},
   "source": [
    "Explanation:\n",
    "1. take character as user input\n",
    "2. declare the value of vowels or consonant\n",
    "3. convert entered character into lowercase using lower() function\n",
    "4. check that entered value is character or not if len(character)==1 means it is character\n",
    "5. now check that is vowel consonat using if-else statement\n",
    "6. finally display your result using print() function"
   ]
  },
  {
   "cell_type": "markdown",
   "id": "7c823b7e",
   "metadata": {},
   "source": [
    "# 6. Implement a program to determine whether a given number is even or odd."
   ]
  },
  {
   "cell_type": "code",
   "execution_count": 33,
   "id": "25946b56",
   "metadata": {},
   "outputs": [
    {
     "name": "stdout",
     "output_type": "stream",
     "text": [
      "Enter your number: 46\n",
      "46 is even number\n"
     ]
    }
   ],
   "source": [
    "# create funtion that pass integer value as input\n",
    "def check_even_odd(number):\n",
    "    \n",
    "# check that number is divided by 2 or not\n",
    "    if number%2 == 0:\n",
    "        print(f\"{number} is even number\")\n",
    "    else:\n",
    "        print(f\"{number} is odd number\")\n",
    "        \n",
    "# call funtion\n",
    "number  = int(input(\"Enter your number: \"))\n",
    "check_even_odd(number)"
   ]
  },
  {
   "cell_type": "markdown",
   "id": "b5b8679f",
   "metadata": {},
   "source": [
    "Explanation:\n",
    "1. create funtion that pass integer value as input\n",
    "2. check that number is divided by 2 or not , if yes then it is even number\n",
    "3. if number%2!= 0, means this is odd number\n",
    "4. display your result\n",
    "5. call function"
   ]
  },
  {
   "cell_type": "markdown",
   "id": "11ed0f80",
   "metadata": {},
   "source": [
    "# 7. Write a Python function to calculate the absolute value of a number without using the `abs()` function"
   ]
  },
  {
   "cell_type": "code",
   "execution_count": 45,
   "id": "bbe44a39",
   "metadata": {},
   "outputs": [
    {
     "name": "stdout",
     "output_type": "stream",
     "text": [
      "Absolute value of -123 is: 123\n"
     ]
    }
   ],
   "source": [
    "# create function that take integer as input\n",
    "def absolute_value(number):\n",
    "    \n",
    "# and check that number is negative or positive\n",
    "    if number>0 :\n",
    "        print(f\"Absolute value of {number} is: {number}\")\n",
    "    else:\n",
    "        print(f\"Absolute value of {number} is: {-number}\")\n",
    "        \n",
    "# call the function\n",
    "number = -123\n",
    "absolute_value(number)"
   ]
  },
  {
   "cell_type": "markdown",
   "id": "f2f38756",
   "metadata": {},
   "source": [
    "Explanation:\n",
    "1. first thing is creat a funtion that take intege as input\n",
    "2. check that number is positive or negative\n",
    "3. if number is postive print simply number\n",
    "4. if number is negative then print it with (-) sign"
   ]
  },
  {
   "cell_type": "markdown",
   "id": "673be12b",
   "metadata": {},
   "source": [
    "# 8. Develop a program that determines the largest of three given numbers using if-else statements"
   ]
  },
  {
   "cell_type": "code",
   "execution_count": 29,
   "id": "690c6a6a",
   "metadata": {},
   "outputs": [
    {
     "name": "stdout",
     "output_type": "stream",
     "text": [
      "28 is the largest number among 23,5 and 28\n"
     ]
    }
   ],
   "source": [
    "# create a function that take three integer value\n",
    "def largest_number(num1, num2, num3):\n",
    "    \n",
    "# check number who greate using if else statement \n",
    "    if num1>num2 and num1>num3:\n",
    "        \n",
    "# dispaly some message\n",
    "        print(f\"{num1} is the largest number among {num1},{num2} and {num3}\")\n",
    "    if num2>num3 and num2>num1 :\n",
    "        print(f\"{num2} is the largest number among {num1},{num2} and {num3}\")\n",
    "    else :\n",
    "        \n",
    "           print(f\"{num3} is the largest number among {num1},{num2} and {num3}\")\n",
    "            \n",
    "# function call\n",
    "largest_number(23,5,28)"
   ]
  },
  {
   "cell_type": "markdown",
   "id": "7701ba2f",
   "metadata": {},
   "source": [
    "Explanation:\n",
    "1. create a function that take three integer value\n",
    "2. check number who greate using if else statement using comparision operator(>)\n",
    "3. display your message using print() function or we can return largest value\n",
    "4. finally call the function"
   ]
  },
  {
   "cell_type": "markdown",
   "id": "cb3a4944",
   "metadata": {},
   "source": [
    "# 9. Create a program that checks if a given string is a palindrome."
   ]
  },
  {
   "cell_type": "code",
   "execution_count": 20,
   "id": "6e68401b",
   "metadata": {},
   "outputs": [
    {
     "name": "stdout",
     "output_type": "stream",
     "text": [
      "lapohb\n",
      "No, bhopal is not palindrome string\n"
     ]
    }
   ],
   "source": [
    "# initialize one string with some value\n",
    "my_string = \"bhopal\"\n",
    "\n",
    "# again find reverse of above string\n",
    "reverse_string = my_string[::-1]\n",
    "\n",
    "# check that reverse string and entered string is equal or not\n",
    "if my_string == reverse_string :\n",
    "    print(f\"Yes, {my_string} is palindrome string\")\n",
    "else:\n",
    "    print(f\"No, {my_string} is not palindrome string\")"
   ]
  },
  {
   "cell_type": "markdown",
   "id": "ab1682b0",
   "metadata": {},
   "source": [
    "Explanation:\n",
    "1. initialize one string with some value\n",
    "2. again find reverse of above string\n",
    "3. check that origional string and reverse string is equal to or not\n",
    "4. if yes, then it is palindrome string , otherwise it not palindrome string"
   ]
  },
  {
   "cell_type": "markdown",
   "id": "42f85379",
   "metadata": {},
   "source": [
    "# 10. Write a Python program to calculate the grade based on a student's score."
   ]
  },
  {
   "cell_type": "code",
   "execution_count": 30,
   "id": "ffdc1364",
   "metadata": {},
   "outputs": [
    {
     "name": "stdout",
     "output_type": "stream",
     "text": [
      "Enter your score: 45\n",
      "with 45 score student's belong to B grade\n"
     ]
    }
   ],
   "source": [
    "# take user input your score\n",
    "my_score = int(input(\"Enter your score: \"))\n",
    "\n",
    "# using if else and elif statement check that score and print your message\n",
    "if my_score>=75 and my_score<=90 :\n",
    "    print(f\"with {my_score} score student's belong to A grade\")\n",
    "if my_score>90 :\n",
    "    print(f\"with {my_score} score student's belong to A++ grade\")\n",
    "else:\n",
    "     print(f\"with {my_score} score student's belong to B grade\")\n",
    "    "
   ]
  },
  {
   "cell_type": "markdown",
   "id": "a7185700",
   "metadata": {},
   "source": [
    "Explanation:\n",
    "1. take user input your score\n",
    "2. using if else and elif statement check that score and print your message"
   ]
  },
  {
   "cell_type": "markdown",
   "id": "2f6bbda1",
   "metadata": {},
   "source": [
    "# Nested If-Else Statements"
   ]
  },
  {
   "cell_type": "markdown",
   "id": "242f677c",
   "metadata": {},
   "source": [
    "# 11. Write a program to find the largest among three numbers using nested if-else statements"
   ]
  },
  {
   "cell_type": "code",
   "execution_count": 9,
   "id": "b7d34e0d",
   "metadata": {},
   "outputs": [
    {
     "name": "stdout",
     "output_type": "stream",
     "text": [
      "Enter the first number: 45\n",
      "Enter the second number: 85\n",
      "Enter the third number: 12\n",
      "The largest number among 45.0, 85.0, and 12.0 is 85.0\n"
     ]
    }
   ],
   "source": [
    "# Input three numbers\n",
    "num1 = float(input(\"Enter the first number: \"))\n",
    "num2 = float(input(\"Enter the second number: \"))\n",
    "num3 = float(input(\"Enter the third number: \"))\n",
    "\n",
    "# using nested if-else statement check that largest number\n",
    "if num1 >= num2:\n",
    "    if num1 >= num3:\n",
    "        largest = num1\n",
    "    else:\n",
    "        largest = num3\n",
    "else:\n",
    "    if num2 >= num3:\n",
    "        largest = num2\n",
    "    else:\n",
    "        largest = num3\n",
    "        \n",
    "# finally display your result\n",
    "print(f\"The largest number among {num1}, {num2}, and {num3} is {largest}\")\n"
   ]
  },
  {
   "cell_type": "markdown",
   "id": "b24e1b35",
   "metadata": {},
   "source": [
    "Explanation:\n",
    "1. take user input three integer value\n",
    "2. after take input use nested if-else statement and check that largest number\n",
    "3. then finally print your result using print() function"
   ]
  },
  {
   "cell_type": "markdown",
   "id": "ec7b4732",
   "metadata": {},
   "source": [
    "# 12. Implement a program to determine if a triangle is equilateral, isosceles, or scalene."
   ]
  },
  {
   "cell_type": "code",
   "execution_count": 10,
   "id": "7fd21844",
   "metadata": {},
   "outputs": [
    {
     "name": "stdout",
     "output_type": "stream",
     "text": [
      "Enter the length of the first side: 5\n",
      "Enter the length of the second side: 4\n",
      "Enter the length of the third side: 3\n",
      "It's a scalene triangle.\n"
     ]
    }
   ],
   "source": [
    "# Input the lengths of the three sides of the triangle\n",
    "side1 = float(input(\"Enter the length of the first side: \"))\n",
    "side2 = float(input(\"Enter the length of the second side: \"))\n",
    "side3 = float(input(\"Enter the length of the third side: \"))\n",
    "\n",
    "# Check if it's a valid triangle and print your message\n",
    "if (side1 + side2 > side3) and (side1 + side3 > side2) and (side2 + side3 > side1):\n",
    "    # Check for the type of triangle\n",
    "    if side1 == side2 == side3:\n",
    "        print(\"It's an equilateral triangle.\")\n",
    "    elif side1 == side2 or side1 == side3 or side2 == side3:\n",
    "        print(\"It's an isosceles triangle.\")\n",
    "    else:\n",
    "        print(\"It's a scalene triangle.\")\n",
    "else:\n",
    "    print(\"It's not a valid triangle.\")\n"
   ]
  },
  {
   "cell_type": "markdown",
   "id": "a9413433",
   "metadata": {},
   "source": [
    "Explanation: \n",
    "1. Input the lengths of the three sides of the triangle\n",
    "2. check if it's a valid triangle using nested if-else and print your message"
   ]
  },
  {
   "cell_type": "markdown",
   "id": "bd01f182",
   "metadata": {},
   "source": [
    "# 13. Develop a program that checks if a year is a leap year and also if it is a century year"
   ]
  },
  {
   "cell_type": "code",
   "execution_count": 11,
   "id": "9640fde8",
   "metadata": {},
   "outputs": [
    {
     "name": "stdout",
     "output_type": "stream",
     "text": [
      "Enter a year: 2456\n",
      "2456 is a leap year but not a century year.\n"
     ]
    }
   ],
   "source": [
    "# Input a year from the user\n",
    "year = int(input(\"Enter a year: \"))\n",
    "\n",
    "# Check if it's a leap year\n",
    "if (year % 4 == 0 and year % 100 != 0) or (year % 400 == 0):\n",
    "    is_leap_year = True\n",
    "else:\n",
    "    is_leap_year = False\n",
    "\n",
    "# Check if it's a century year\n",
    "is_century_year = (year % 100 == 0)\n",
    "\n",
    "# Output the results\n",
    "if is_leap_year and is_century_year:\n",
    "    print(f\"{year} is a leap year and a century year.\")\n",
    "elif is_leap_year:\n",
    "    print(f\"{year} is a leap year but not a century year.\")\n",
    "elif is_century_year:\n",
    "    print(f\"{year} is a century year but not a leap year.\")\n",
    "else:\n",
    "    print(f\"{year} is neither a leap year nor a century year.\")\n"
   ]
  },
  {
   "cell_type": "markdown",
   "id": "e4e8c1a2",
   "metadata": {},
   "source": [
    "Explanation:\n",
    "1. Input a year from the user\n",
    "2. and check that entered year is leap year or not\n",
    "3. if year%4 == 0 and year%400 == 0 means it is leap year, otherwise it is not leap year\n",
    "4. if year%100 == 0 , means it is century year\n",
    "5. finally display your message using print() function"
   ]
  },
  {
   "cell_type": "markdown",
   "id": "31590dda",
   "metadata": {},
   "source": [
    "# 14.  Write a Python script to determine if a number is positive, negative, or zero."
   ]
  },
  {
   "cell_type": "code",
   "execution_count": 21,
   "id": "4f79dcc8",
   "metadata": {},
   "outputs": [
    {
     "name": "stdout",
     "output_type": "stream",
     "text": [
      "Enter a number: 45\n",
      "The number is positive.\n"
     ]
    }
   ],
   "source": [
    "# Input a number from the user\n",
    "number = float(input(\"Enter a number: \"))\n",
    "\n",
    "# check that number is positiveor negative and print your message\n",
    "if number > 0:\n",
    "    print(\"The number is positive.\")\n",
    "elif number < 0:\n",
    "    print(\"The number is negative.\")\n",
    "else:\n",
    "    print(\"The number is zero.\")\n"
   ]
  },
  {
   "cell_type": "markdown",
   "id": "e961f4c5",
   "metadata": {},
   "source": [
    "Explanation:\n",
    "1. Input a number from the user\n",
    "2. check that number is positiveor negative and print your message\n",
    "3. if number>0 means it is positive number, if number<0 means it is negative number\n",
    "4. otherwise it is zero"
   ]
  },
  {
   "cell_type": "markdown",
   "id": "014605d8",
   "metadata": {},
   "source": [
    "# 15. Create a program to check if a person is a teenager (between 13 and 19 years old)"
   ]
  },
  {
   "cell_type": "code",
   "execution_count": 22,
   "id": "86dc36b9",
   "metadata": {},
   "outputs": [
    {
     "name": "stdout",
     "output_type": "stream",
     "text": [
      "Enter the person's age: 15\n",
      "The person is a teenager.\n"
     ]
    }
   ],
   "source": [
    "# Input the age of the person\n",
    "age = int(input(\"Enter the person's age: \"))\n",
    "\n",
    "if 13 <= age <= 19:\n",
    "    print(\"The person is a teenager.\")\n",
    "else:\n",
    "    print(\"The person is not a teenager.\")\n"
   ]
  },
  {
   "cell_type": "markdown",
   "id": "6396ce78",
   "metadata": {},
   "source": [
    "Explanation:\n",
    "1. first thing is enter your age as a input\n",
    "2. check that etered age is teeager or not using if else statement\n",
    "3. finally print your result"
   ]
  },
  {
   "cell_type": "markdown",
   "id": "d3cbf624",
   "metadata": {},
   "source": [
    "# 16. Develop a program that determines the type of angle based on its measure (acute, obtuse, or right)"
   ]
  },
  {
   "cell_type": "code",
   "execution_count": 23,
   "id": "6f951e48",
   "metadata": {},
   "outputs": [
    {
     "name": "stdout",
     "output_type": "stream",
     "text": [
      "Enter the angle measure in degrees: 45\n",
      "This is an Acute Angle\n"
     ]
    }
   ],
   "source": [
    "# Get the angle measure from the user\n",
    "angle = float(input(\"Enter the angle measure in degrees: \"))\n",
    "\n",
    "# Check the type of angle\n",
    "if angle < 90:\n",
    "    print(\"This is an Acute Angle\")\n",
    "elif angle == 90:\n",
    "    print(\"This is a Right Angle\")\n",
    "elif angle > 90 and angle < 180:\n",
    "    print(\"This is an Obtuse Angle\")\n",
    "else:\n",
    "    print(\"This is a Straight Angle\")\n"
   ]
  },
  {
   "cell_type": "markdown",
   "id": "0a46e2e2",
   "metadata": {},
   "source": [
    "Explanation:\n",
    "1. Get the angle measure from the user\n",
    "2. check type of angle\n",
    "3. if angle>90 means it is Acute angle\n",
    "4. if angle == 90 means it is Right angle otherwise it is obtuse( if angle<90) or straight angle( if angle == 180)\n",
    "5. finall print your message"
   ]
  },
  {
   "cell_type": "markdown",
   "id": "74fb8cfa",
   "metadata": {},
   "source": [
    "# 17. Write a Python program to calculate the roots of a quadratic equation."
   ]
  },
  {
   "cell_type": "code",
   "execution_count": 24,
   "id": "2f6558ec",
   "metadata": {},
   "outputs": [
    {
     "name": "stdout",
     "output_type": "stream",
     "text": [
      "Enter the coefficient 'a': 5\n",
      "Enter the coefficient 'b': 3\n",
      "Enter the coefficient 'c': 2\n",
      "The roots are complex: -0.3 + 0.5567764362830021i and -0.3 - 0.5567764362830021i\n"
     ]
    }
   ],
   "source": [
    "import math\n",
    "\n",
    "# Input coefficients of the quadratic equation\n",
    "a = float(input(\"Enter the coefficient 'a': \"))\n",
    "b = float(input(\"Enter the coefficient 'b': \"))\n",
    "c = float(input(\"Enter the coefficient 'c': \"))\n",
    "\n",
    "# Calculate the discriminant\n",
    "discriminant = b**2 - 4*a*c\n",
    "\n",
    "# Check the value of the discriminant and calculate roots accordingly\n",
    "if discriminant > 0:\n",
    "    # Two real and distinct roots\n",
    "    root1 = (-b + math.sqrt(discriminant)) / (2*a)\n",
    "    root2 = (-b - math.sqrt(discriminant)) / (2*a)\n",
    "    print(f\"The roots are real and distinct: {root1} and {root2}\")\n",
    "elif discriminant == 0:\n",
    "    # One real root (repeated)\n",
    "    root = -b / (2*a)\n",
    "    print(f\"The root is real and repeated: {root}\")\n",
    "else:\n",
    "    # Complex roots\n",
    "    real_part = -b / (2*a)\n",
    "    imaginary_part = math.sqrt(abs(discriminant)) / (2*a)\n",
    "    print(f\"The roots are complex: {real_part} + {imaginary_part}i and {real_part} - {imaginary_part}i\")\n"
   ]
  },
  {
   "cell_type": "markdown",
   "id": "c8f439c5",
   "metadata": {},
   "source": [
    "Explanation:\n",
    "1. first things is import math module or library\n",
    "2. Input coefficients of the quadratic equation\n",
    "3. Calculate the discriminant using basic math formula\n",
    "4. Check the value of the discriminant and calculate roots accordingly\n",
    "5. if discrimination>0 means it have two real and distinct roots\n",
    "6. if discriminant == 0 means it have one real root may be repated\n",
    "7. otherwise it have complex root\n",
    "8. after check that display your message"
   ]
  },
  {
   "cell_type": "markdown",
   "id": "3b906c15",
   "metadata": {},
   "source": [
    "# 18. Implement a program to determine the day of the week based on a user-provided number (1 for Monday, 2 for Tuesday, etc.)."
   ]
  },
  {
   "cell_type": "code",
   "execution_count": 25,
   "id": "59f164b6",
   "metadata": {},
   "outputs": [
    {
     "name": "stdout",
     "output_type": "stream",
     "text": [
      "Enter a number (1-7) to determine the day of the week: 5\n",
      "The day of the week corresponding to 5 is Friday.\n"
     ]
    }
   ],
   "source": [
    "# Define a dictionary to map numbers to days of the week\n",
    "days_of_week = {\n",
    "    1: \"Monday\",\n",
    "    2: \"Tuesday\",\n",
    "    3: \"Wednesday\",\n",
    "    4: \"Thursday\",\n",
    "    5: \"Friday\",\n",
    "    6: \"Saturday\",\n",
    "    7: \"Sunday\"\n",
    "}\n",
    "\n",
    "# Input a number from the user\n",
    "user_number = int(input(\"Enter a number (1-7) to determine the day of the week: \"))\n",
    "\n",
    "# Check if the input number is within the valid range\n",
    "if 1 <= user_number <= 7:\n",
    "    day = days_of_week[user_number]\n",
    "    print(f\"The day of the week corresponding to {user_number} is {day}.\")\n",
    "else:\n",
    "    print(\"Invalid input. Please enter a number between 1 and 7 to represent a day of the week.\")\n"
   ]
  },
  {
   "cell_type": "markdown",
   "id": "492ae141",
   "metadata": {},
   "source": [
    "Explanation:\n",
    "1. first thing is Define a dictionary to map numbers to days of the week\n",
    "2. Input a number from the user\n",
    "3. Check if the input number is within the valid range or not \n",
    "4. if yes, then print corresponding day otherwise print invalid input"
   ]
  },
  {
   "cell_type": "markdown",
   "id": "583470a8",
   "metadata": {},
   "source": [
    "# 19. Create a program that determines if a year is a leap year and also if it is evenly divisible by 400"
   ]
  },
  {
   "cell_type": "code",
   "execution_count": 26,
   "id": "45dd34ae",
   "metadata": {},
   "outputs": [
    {
     "name": "stdout",
     "output_type": "stream",
     "text": [
      "Enter a year: 2020\n",
      "2020 is a leap year but not evenly divisible by 400\n"
     ]
    }
   ],
   "source": [
    "# Input: Enter the year to check for leap year\n",
    "year = int(input(\"Enter a year: \"))\n",
    "\n",
    "# Check if it is evenly divisible by 400\n",
    "if year % 400 == 0:\n",
    "    print(year, \"is a leap year and is evenly divisible by 400\")\n",
    "else:\n",
    "    # If it's not divisible by 400, check if it's divisible by 4 and not divisible by 100\n",
    "    if year % 4 == 0 and year % 100 != 0:\n",
    "        print(year, \"is a leap year but not evenly divisible by 400\")\n",
    "    else:\n",
    "        print(year, \"is not a leap year\")\n"
   ]
  },
  {
   "cell_type": "markdown",
   "id": "db9aaea4",
   "metadata": {},
   "source": [
    "Explanation:\n",
    "1. take user input, Enter the year to check for leap year\n",
    "2. Check if it is evenly divisible by 400 then print your message\n",
    "3. If it's not divisible by 400, check if it's divisible by 4 and not divisible by 100"
   ]
  },
  {
   "cell_type": "markdown",
   "id": "c22bb557",
   "metadata": {},
   "source": [
    "# 20.  Develop a program that checks if a given number is prime or not using nested if-else statements."
   ]
  },
  {
   "cell_type": "code",
   "execution_count": 27,
   "id": "8b3ae99c",
   "metadata": {},
   "outputs": [
    {
     "name": "stdout",
     "output_type": "stream",
     "text": [
      "Enter a number: 15\n",
      "15 is not a prime number\n"
     ]
    }
   ],
   "source": [
    "# Input from the user\n",
    "num = int(input(\"Enter a number: \"))\n",
    "\n",
    "# Check if the number is less than 2\n",
    "if num < 2:\n",
    "    print(num, \"is not a prime number\")\n",
    "\n",
    "else:\n",
    "    is_prime = True  # Assume the number is prime until proven otherwise\n",
    "\n",
    "    # Check for factors from 2 to the square root of the number\n",
    "    for i in range(2, int(num ** 0.5) + 1):\n",
    "        if num % i == 0:\n",
    "            is_prime = False\n",
    "            break\n",
    "\n",
    "    # Output the result\n",
    "    if is_prime:\n",
    "        print(num, \"is a prime number\")\n",
    "    else:\n",
    "        print(num, \"is not a prime number\")\n"
   ]
  },
  {
   "cell_type": "markdown",
   "id": "2ea2379b",
   "metadata": {},
   "source": [
    "Explanation:\n",
    "1. Input from the user\n",
    "2. Check if the number is less than 2\n",
    "3. Assume the number is prime until proven otherwise\n",
    "4. Check for factors from 2 to the square root of the number\n",
    "5. Output the result"
   ]
  },
  {
   "cell_type": "markdown",
   "id": "d005acf7",
   "metadata": {},
   "source": [
    "#  Elif Statements:"
   ]
  },
  {
   "cell_type": "markdown",
   "id": "f408a601",
   "metadata": {},
   "source": [
    "# 21. Write a Python program to assign grades based on different ranges of scores using elif statements."
   ]
  },
  {
   "cell_type": "code",
   "execution_count": 1,
   "id": "54d5909a",
   "metadata": {},
   "outputs": [
    {
     "name": "stdout",
     "output_type": "stream",
     "text": [
      "Enter the student's score: 50\n",
      "The student's grade is: F\n"
     ]
    }
   ],
   "source": [
    "# Get the student's score as input\n",
    "score = float(input(\"Enter the student's score: \"))\n",
    "\n",
    "# Define grade ranges and corresponding grades\n",
    "A_min = 90\n",
    "B_min = 80\n",
    "C_min = 70\n",
    "D_min = 60\n",
    "\n",
    "# Check the score and assign the corresponding grade\n",
    "if score >= A_min:\n",
    "    grade = \"A\"\n",
    "elif score >= B_min:\n",
    "    grade = \"B\"\n",
    "elif score >= C_min:\n",
    "    grade = \"C\"\n",
    "elif score >= D_min:\n",
    "    grade = \"D\"\n",
    "else:\n",
    "    grade = \"F\"\n",
    "\n",
    "# Display the grade\n",
    "print(f\"The student's grade is: {grade}\")\n"
   ]
  },
  {
   "cell_type": "markdown",
   "id": "0afaa119",
   "metadata": {},
   "source": [
    "Explanation:\n",
    "1. Get the student's score as input that take float value\n",
    "2. Define grade ranges and corresponding grades like A grade,B grades, C grade or D grade\n",
    "3. Check the score and assign the corresponding grade using elif() statement\n",
    "4. Display the grade using prin() function"
   ]
  },
  {
   "cell_type": "markdown",
   "id": "daeaf0d6",
   "metadata": {},
   "source": [
    "# 22. Implement a program to determine the type of a triangle based on its angles. "
   ]
  },
  {
   "cell_type": "code",
   "execution_count": 2,
   "id": "21b05ccb",
   "metadata": {},
   "outputs": [
    {
     "name": "stdout",
     "output_type": "stream",
     "text": [
      "Enter the first angle in degrees: 65\n",
      "Enter the second angle in degrees: 70\n",
      "Enter the third angle in degrees: 55\n",
      "The given angles form a Not a Triangle.\n"
     ]
    }
   ],
   "source": [
    "# take angle's as user input\n",
    "angle1 = float(input(\"Enter the first angle in degrees: \"))\n",
    "angle2 = float(input(\"Enter the second angle in degrees: \"))\n",
    "angle3 = float(input(\"Enter the third angle in degrees: \"))\n",
    "\n",
    "# Check the type of triangle based on the entered angles\n",
    "if angle1 + angle2 + angle3 == 180:\n",
    "    if angle1 == 90 or angle2 == 90 or angle3 == 90:\n",
    "        triangle_type = \"Right-angled Triangle\"\n",
    "    elif angle1 > 90 or angle2 > 90 or angle3 > 90:\n",
    "        triangle_type = \"Obtuse-angled Triangle\"\n",
    "    else:\n",
    "        triangle_type = \"Acute-angled Triangle\"\n",
    "else:\n",
    "    triangle_type = \"Not a Triangle\"\n",
    "\n",
    "# Display the type of triangle\n",
    "print(f\"The given angles form a {triangle_type}.\")\n"
   ]
  },
  {
   "cell_type": "markdown",
   "id": "2557880d",
   "metadata": {},
   "source": [
    "Explanation:\n",
    "1. firt things is take angle's as user input\n",
    "2. check that type of angle based on entered data\n",
    "3. finally dispaly your result using print() function"
   ]
  },
  {
   "cell_type": "markdown",
   "id": "a0b8750e",
   "metadata": {},
   "source": [
    "# 23. Develop a program to categorize a given person's BMI into underweight, normal, overweight, or obese using elif statements."
   ]
  },
  {
   "cell_type": "code",
   "execution_count": 4,
   "id": "01e08b9a",
   "metadata": {},
   "outputs": [
    {
     "name": "stdout",
     "output_type": "stream",
     "text": [
      "Enter your weight in kilograms: 66\n",
      "Enter your height in meters: 1.72\n",
      "Your BMI is 22.31, and you are categorized as Normal.\n"
     ]
    }
   ],
   "source": [
    "# Enter person's weight in kilograms and height in meters as input\n",
    "weight = float(input(\"Enter your weight in kilograms: \"))\n",
    "height = float(input(\"Enter your height in meters: \"))\n",
    "\n",
    "# Calculate BMI\n",
    "bmi = weight / (height ** 2)\n",
    "\n",
    "# Categorize the BMI\n",
    "if bmi < 18.5:\n",
    "    category = \"Underweight\"\n",
    "elif 18.5 <= bmi < 24.9:\n",
    "    category = \"Normal\"\n",
    "elif 25 <= bmi < 29.9:\n",
    "    category = \"Overweight\"\n",
    "else:\n",
    "    category = \"Obese\"\n",
    "\n",
    "# Display the BMI category\n",
    "print(f\"Your BMI is {bmi:.2f}, and you are categorized as {category}.\")\n"
   ]
  },
  {
   "cell_type": "markdown",
   "id": "40c510de",
   "metadata": {},
   "source": [
    "Explanation:\n",
    "1. Enter person's weight in kilograms and height in meters as input\n",
    "2. Calculate BMI using it's formula weight/height**2\n",
    "3. categorize the BMI based on data \n",
    "4. finall display your result"
   ]
  },
  {
   "cell_type": "markdown",
   "id": "84f56aea",
   "metadata": {},
   "source": [
    "# 24. Create a program that determines whether a given number is positive, negative, or zero using elif statements."
   ]
  },
  {
   "cell_type": "code",
   "execution_count": 5,
   "id": "57b6936c",
   "metadata": {},
   "outputs": [
    {
     "name": "stdout",
     "output_type": "stream",
     "text": [
      "Enter a number: -45\n",
      "The number is negative.\n"
     ]
    }
   ],
   "source": [
    "# Get the number as input\n",
    "number = float(input(\"Enter a number: \"))\n",
    "\n",
    "# Check if the number is positive, negative, or zero\n",
    "if number > 0:\n",
    "    print(\"The number is positive.\")\n",
    "elif number < 0:\n",
    "    print(\"The number is negative.\")\n",
    "else:\n",
    "    print(\"The number is zero.\")\n"
   ]
  },
  {
   "cell_type": "markdown",
   "id": "d2b3b487",
   "metadata": {},
   "source": [
    "Explanation:\n",
    "1. first things is take user input number \n",
    "2. then check that number is positive or negative\n",
    "3. if number>0 means it is positive number\n",
    "4. if number<0 means it is negative number\n",
    "5. otherwise it is zero"
   ]
  },
  {
   "cell_type": "markdown",
   "id": "85af88de",
   "metadata": {},
   "source": [
    "# 25. Write a Python script to determine the type of a character (uppercase, lowercase, or special) using elif statements."
   ]
  },
  {
   "cell_type": "code",
   "execution_count": 9,
   "id": "f56847ca",
   "metadata": {},
   "outputs": [
    {
     "name": "stdout",
     "output_type": "stream",
     "text": [
      "Enter a character: @\n",
      "The character is a special character.\n"
     ]
    }
   ],
   "source": [
    "# Get a character as input\n",
    "char = input(\"Enter a character: \")\n",
    "\n",
    "# Check the type of character\n",
    "if char.isalpha():\n",
    "    if char.islower():\n",
    "        print(\"The character is lowercase.\")\n",
    "    else:\n",
    "        print(\"The character is uppercase.\")\n",
    "elif char.isdigit():\n",
    "    print(\"The character is a digit.\")\n",
    "else:\n",
    "    print(\"The character is a special character.\")\n"
   ]
  },
  {
   "cell_type": "markdown",
   "id": "f1af9e11",
   "metadata": {},
   "source": [
    "Explanation:\n",
    "1. take character as user input\n",
    "2. then check that type of character it is lowercse or uppercase or special character or may be numeric value\n",
    "3. display your message using print() statment"
   ]
  },
  {
   "cell_type": "markdown",
   "id": "36b38742",
   "metadata": {},
   "source": [
    "# 26. Implement a program to calculate the discounted price based on different purchase amounts using elif statements."
   ]
  },
  {
   "cell_type": "code",
   "execution_count": 10,
   "id": "6b1a7e70",
   "metadata": {},
   "outputs": [
    {
     "name": "stdout",
     "output_type": "stream",
     "text": [
      "Enter the purchase amount: $500\n",
      "Original Price: $500.00\n",
      "Discount Percentage: 10%\n",
      "Discounted Price: $450.00\n"
     ]
    }
   ],
   "source": [
    "# Get the purchase amount as input\n",
    "purchase_amount = float(input(\"Enter the purchase amount: $\"))\n",
    "\n",
    "# Define discount thresholds and corresponding discount rates\n",
    "discount_threshold_1 = 100\n",
    "discount_threshold_2 = 200\n",
    "discount_rate_1 = 0.05  # 5%\n",
    "discount_rate_2 = 0.1   # 10%\n",
    "discount_rate_3 = 0.15  # 15%\n",
    "\n",
    "# Calculate the discounted price based on purchase amount\n",
    "if purchase_amount < discount_threshold_1:\n",
    "    discounted_price = purchase_amount\n",
    "    discount_percent = 0\n",
    "elif purchase_amount < discount_threshold_2:\n",
    "    discounted_price = purchase_amount - (purchase_amount * discount_rate_1)\n",
    "    discount_percent = 5\n",
    "else:\n",
    "    discounted_price = purchase_amount - (purchase_amount * discount_rate_2)\n",
    "    discount_percent = 10\n",
    "\n",
    "# Display the discount and discounted price\n",
    "print(f\"Original Price: ${purchase_amount:.2f}\")\n",
    "print(f\"Discount Percentage: {discount_percent}%\")\n",
    "print(f\"Discounted Price: ${discounted_price:.2f}\")\n"
   ]
  },
  {
   "cell_type": "markdown",
   "id": "033e99a9",
   "metadata": {},
   "source": [
    "Explanation:\n",
    "1. take purchase amount as a user input\n",
    "2. Define discount thresholds and corresponding discount rates\n",
    "3. Calculate the discounted price based on purchase amount\n",
    "4.  Display the discount and discounted price using print() function"
   ]
  },
  {
   "cell_type": "markdown",
   "id": "ea54bf55",
   "metadata": {},
   "source": [
    "# 27. Develop a program to calculate the electricity bill based on different consumption slabs using elif statements."
   ]
  },
  {
   "cell_type": "code",
   "execution_count": null,
   "id": "884be6c0",
   "metadata": {},
   "outputs": [],
   "source": [
    "# Get the electricity consumption in kilowatt-hours as input\n",
    "consumption = float(input(\"Enter your electricity consumption in kilowatt-hours: \"))\n",
    "\n",
    "# Define different consumption slabs and their corresponding rates\n",
    "slab1_limit = 100\n",
    "slab2_limit = 200\n",
    "rate_slab1 = 0.15  # $0.15 per kWh\n",
    "rate_slab2 = 0.20  # $0.20 per kWh\n",
    "rate_slab3 = 0.25  # $0.25 per kWh\n",
    "\n",
    "# Calculate the electricity bill based on consumption\n",
    "if consumption <= slab1_limit:\n",
    "    bill = consumption * rate_slab1\n",
    "elif consumption <= slab2_limit:\n",
    "    bill = slab1_limit * rate_slab1 + (consumption - slab1_limit) * rate_slab2\n",
    "else:\n",
    "    bill = slab1_limit * rate_slab1 + (slab2_limit - slab1_limit) * rate_slab2 + (consumption - slab2_limit) * rate_slab3\n",
    "\n",
    "# Display the electricity bill\n",
    "print(f\"Your electricity bill is $ {bill:.2f}\")\n"
   ]
  },
  {
   "cell_type": "markdown",
   "id": "c3f31a64",
   "metadata": {},
   "source": [
    "Explanation:\n",
    "1. Get the electricity consumption in kilowatt-hours as input\n",
    "2. Define different consumption slabs and their corresponding rates\n",
    "3. Calculate the electricity bill based on consumption\n",
    "4. Display the electricity bill"
   ]
  },
  {
   "cell_type": "markdown",
   "id": "f40696d6",
   "metadata": {},
   "source": [
    "# 28. Create a program to determine the type of quadrilateral based on its angles and sides using elif statements."
   ]
  },
  {
   "cell_type": "code",
   "execution_count": 12,
   "id": "1910c244",
   "metadata": {},
   "outputs": [
    {
     "name": "stdout",
     "output_type": "stream",
     "text": [
      "Enter the length of side 1: 5\n",
      "Enter the length of side 2: 3\n",
      "Enter the length of side 3: 4\n",
      "Enter the length of side 4: 6\n",
      "Enter the measure of angle 1 in degrees: 6\n",
      "Enter the measure of angle 2 in degrees: 45\n",
      "Enter the measure of angle 3 in degrees: 65\n",
      "Enter the measure of angle 4 in degrees: 85\n",
      "The given sides and angles form a Quadrilateral.\n"
     ]
    }
   ],
   "source": [
    "# Get the lengths of the four sides and the measures of the four angles as input\n",
    "side1 = float(input(\"Enter the length of side 1: \"))\n",
    "side2 = float(input(\"Enter the length of side 2: \"))\n",
    "side3 = float(input(\"Enter the length of side 3: \"))\n",
    "side4 = float(input(\"Enter the length of side 4: \"))\n",
    "angle1 = float(input(\"Enter the measure of angle 1 in degrees: \"))\n",
    "angle2 = float(input(\"Enter the measure of angle 2 in degrees: \"))\n",
    "angle3 = float(input(\"Enter the measure of angle 3 in degrees: \"))\n",
    "angle4 = float(input(\"Enter the measure of angle 4 in degrees: \"))\n",
    "\n",
    "# Check the type of quadrilateral based on angles and sides\n",
    "if side1 == side2 == side3 == side4:\n",
    "    if angle1 == angle2 == angle3 == angle4 == 90:\n",
    "        quadrilateral_type = \"Square\"\n",
    "    elif angle1 == angle2 == angle3 == angle4:\n",
    "        quadrilateral_type = \"Rhombus\"\n",
    "    else:\n",
    "        quadrilateral_type = \"Quadrilateral\"\n",
    "elif side1 == side3 and side2 == side4:\n",
    "    if angle1 == angle2 == angle3 == angle4 == 90:\n",
    "        quadrilateral_type = \"Rectangle\"\n",
    "    else:\n",
    "        quadrilateral_type = \"Parallelogram\"\n",
    "elif side1 == side2 and side3 == side4:\n",
    "    quadrilateral_type = \"Trapezoid\"\n",
    "else:\n",
    "    quadrilateral_type = \"Quadrilateral\"\n",
    "\n",
    "# Display the type of quadrilateral\n",
    "print(f\"The given sides and angles form a {quadrilateral_type}.\")\n"
   ]
  },
  {
   "cell_type": "markdown",
   "id": "74f84a6a",
   "metadata": {},
   "source": [
    "Explanation:\n",
    "1. Get the lengths of the four sides and the measures of the four angles as input\n",
    "2. Check the type of quadrilateral based on angles and sides\n",
    "3. Display the type of quadrilateral"
   ]
  },
  {
   "cell_type": "markdown",
   "id": "aee34250",
   "metadata": {},
   "source": [
    "# 29. Write a Python script to determine the season based on a user-provided month using elif statements"
   ]
  },
  {
   "cell_type": "code",
   "execution_count": 15,
   "id": "6fa2bab4",
   "metadata": {},
   "outputs": [
    {
     "name": "stdout",
     "output_type": "stream",
     "text": [
      "Enter a month (e.g., January, February, etc.): december\n",
      "The season for December is Winter.\n"
     ]
    }
   ],
   "source": [
    "# Get the month as input\n",
    "month = input(\"Enter a month (e.g., January, February, etc.): \")\n",
    "\n",
    "# Convert the input to lowercase to handle case-insensitivity\n",
    "month = month.lower()\n",
    "\n",
    "# Determine the season based on the month\n",
    "if month in (\"december\", \"january\", \"february\"):\n",
    "    season = \"Winter\"\n",
    "elif month in (\"march\", \"april\", \"may\"):\n",
    "    season = \"Spring\"\n",
    "elif month in (\"june\", \"july\", \"august\"):\n",
    "    season = \"Summer\"\n",
    "elif month in (\"september\", \"october\", \"november\"):\n",
    "    season = \"Fall\"\n",
    "else:\n",
    "    season = \"Unknown\"\n",
    "\n",
    "# Display the season\n",
    "print(f\"The season for {month.capitalize()} is {season}.\")\n"
   ]
  },
  {
   "cell_type": "markdown",
   "id": "eb345867",
   "metadata": {},
   "source": [
    "Explanation:\n",
    "1. take user input months\n",
    "2. then convert the input into lowercase using lowercase() function\n",
    "3. after convert lowercase determine the season based on the month\n",
    "4. display your result as per season"
   ]
  },
  {
   "cell_type": "markdown",
   "id": "737715ca",
   "metadata": {},
   "source": [
    "# 30. Implement a program to determine the type of a year (leap or common) and month (30 or 31 days) using elif statements"
   ]
  },
  {
   "cell_type": "code",
   "execution_count": 16,
   "id": "c1c315ab",
   "metadata": {},
   "outputs": [
    {
     "name": "stdout",
     "output_type": "stream",
     "text": [
      "Enter a year: 2022\n",
      "Enter a month (e.g., January, February, etc.): march\n",
      "The year 2022 is a Common Year.\n",
      "March has 31 days.\n"
     ]
    }
   ],
   "source": [
    "# Get the year as input\n",
    "year = int(input(\"Enter a year: \"))\n",
    "\n",
    "# Get the month as input\n",
    "month = input(\"Enter a month (e.g., January, February, etc.): \")\n",
    "\n",
    "# Convert the input month to lowercase to handle case-insensitivity\n",
    "month = month.lower()\n",
    "\n",
    "# Determine if it's a leap year\n",
    "is_leap_year = (year % 4 == 0 and year % 100 != 0) or (year % 400 == 0)\n",
    "\n",
    "# Determine the number of days in the month\n",
    "if month in (\"january\", \"march\", \"may\", \"july\", \"august\", \"october\", \"december\"):\n",
    "    days_in_month = 31\n",
    "elif month in (\"april\", \"june\", \"september\", \"november\"):\n",
    "    days_in_month = 30\n",
    "elif month == \"february\":\n",
    "    if is_leap_year:\n",
    "        days_in_month = 29\n",
    "    else:\n",
    "        days_in_month = 28\n",
    "else:\n",
    "    days_in_month = \"Invalid\"\n",
    "\n",
    "# Display the results\n",
    "if is_leap_year:\n",
    "    year_type = \"Leap Year\"\n",
    "else:\n",
    "    year_type = \"Common Year\"\n",
    "\n",
    "if days_in_month == \"Invalid\":\n",
    "    print(\"Invalid month entered.\")\n",
    "else:\n",
    "    print(f\"The year {year} is a {year_type}.\")\n",
    "    print(f\"{month.capitalize()} has {days_in_month} days.\")\n"
   ]
  },
  {
   "cell_type": "markdown",
   "id": "1ac5ada5",
   "metadata": {},
   "source": [
    "Explanation:\n",
    "1. take year as user input \n",
    "2. take month as uer input\n",
    "3. Convert the input month to lowercase to handle case-insensitivity\n",
    "4. Determine if it's a leap year\n",
    "5. Determine the number of days in the month\n",
    "6. finally display your result using print() function"
   ]
  },
  {
   "cell_type": "markdown",
   "id": "1a339619",
   "metadata": {},
   "source": [
    "# Basic Level:"
   ]
  },
  {
   "cell_type": "markdown",
   "id": "071aebc6",
   "metadata": {},
   "source": [
    "# 1. Write a Python program that checks if a given number is positive, negative, or zero"
   ]
  },
  {
   "cell_type": "code",
   "execution_count": 3,
   "id": "fdba4aeb",
   "metadata": {},
   "outputs": [
    {
     "name": "stdout",
     "output_type": "stream",
     "text": [
      "Enter your number-9\n",
      "-9 is negative number\n"
     ]
    }
   ],
   "source": [
    "# take number as a user input\n",
    "number = int(input(\"Enter your number\"))\n",
    "\n",
    "# check that number is positive or negative\n",
    "if number>0:\n",
    "    print(f\"{number} is positive number\")\n",
    "elif(number<0):\n",
    "        print(f\"{number} is negative number\")\n",
    "else:\n",
    "        print(\"It is zero\")\n"
   ]
  },
  {
   "cell_type": "markdown",
   "id": "4b21ff09",
   "metadata": {},
   "source": [
    "Explanation:\n",
    "1. first things is take integer value as user input\n",
    "2. check that number is positive or negative or zero using if else statement\n",
    "3. if number>0 means it is positive ,number <0 means it negative number otherwise it is zero\n",
    "4. finally dispaly your result"
   ]
  },
  {
   "cell_type": "markdown",
   "id": "43a35a41",
   "metadata": {},
   "source": [
    "# 2. Create a program to determine if a person is eligible to vote based on their age."
   ]
  },
  {
   "cell_type": "code",
   "execution_count": 20,
   "id": "05a51c48",
   "metadata": {},
   "outputs": [
    {
     "name": "stdout",
     "output_type": "stream",
     "text": [
      "Enter your age: 21\n",
      "Yes, eligible for vote\n"
     ]
    }
   ],
   "source": [
    "# take user input data\n",
    "age = int(input(\"Enter your age: \"))\n",
    "\n",
    "# check that eligible for vote or not\n",
    "if age>18:\n",
    "    print(\"Yes, eligible for vote\")\n",
    "elif(age==18):\n",
    "    print(\"Yes,you are 18 eligible for vote\")\n",
    "elif(age<18 and age>0):\n",
    "    print(f\"In age of {age} you can't vote\")\n",
    "else:\n",
    "    print(\"you have entered invalid age: \")"
   ]
  },
  {
   "cell_type": "markdown",
   "id": "5529f854",
   "metadata": {},
   "source": [
    "Explanation:\n",
    "1. first things is take user input data \n",
    "2. check that it is eligible for vote or not\n",
    "3. if age >18 mean he can vote, if age<18 means can't vote\n",
    "4. otherwise enter your valid age\n",
    "5. display your message using print() function"
   ]
  },
  {
   "cell_type": "markdown",
   "id": "b2b867be",
   "metadata": {},
   "source": [
    "# 3. Write a program to find the maximum of two given numbers using conditional statements"
   ]
  },
  {
   "cell_type": "code",
   "execution_count": 22,
   "id": "c9be236d",
   "metadata": {},
   "outputs": [
    {
     "name": "stdout",
     "output_type": "stream",
     "text": [
      "Enter your first number:45\n",
      "Ener your second number: 26\n",
      "Maximum value between 45 and 26 is: 45\n"
     ]
    }
   ],
   "source": [
    "# take user input two integer value\n",
    "def maximum_number(num1,num2):\n",
    "    \n",
    "# check that maximum number    \n",
    "    if num1>num2:\n",
    "        return num1\n",
    "    else:\n",
    "        return num2\n",
    "  \n",
    "# call the function\n",
    "num1 = int(input(\"Enter your first number:\"))\n",
    "num2 = int(input(\"Ener your second number: \"))\n",
    "maximum_value = maximum_number(num1,num2)\n",
    "print(f\"Maximum value between {num1} and {num2} is: {maximum_value}\")"
   ]
  },
  {
   "cell_type": "markdown",
   "id": "1b9fcb13",
   "metadata": {},
   "source": [
    "Explanation:\n",
    "1. take user input two integer value\n",
    "2. check that maximum between two entered numbers\n",
    "3. finall return maximum value\n",
    "4. call the function and display your result using print() statement"
   ]
  },
  {
   "cell_type": "markdown",
   "id": "20b4907e",
   "metadata": {},
   "source": [
    "# 4. Develop a program that calculates the grade of a student based on their exam score"
   ]
  },
  {
   "cell_type": "code",
   "execution_count": 23,
   "id": "07b16db7",
   "metadata": {},
   "outputs": [
    {
     "name": "stdout",
     "output_type": "stream",
     "text": [
      "Enter your exam score: 83\n",
      "with 83 score, you eligible for B grade \n"
     ]
    }
   ],
   "source": [
    "# take exam score as user input \n",
    "exam_score = int(input(\"Enter your exam score: \"))\n",
    "\n",
    "# check that your exam score and based on score dispaly student grades\n",
    "if exam_score>90 :\n",
    "    print(f\"with {exam_score} score, you eligible for A grade \")\n",
    "elif exam_score>80 and exam_score<=90:\n",
    "    print(f\"with {exam_score} score, you eligible for B grade \")\n",
    "elif 70<exam_score<=80 :\n",
    "    print(f\"with {exam_score} score, you eligible for C grade \")\n",
    "elif 60<exam_score<=80 :\n",
    "    print(f\"with {exam_score} score, you eligible for D grade \")\n",
    "else:\n",
    "    print(f\"with {exam_score} score, you eligible for F grade\")"
   ]
  },
  {
   "cell_type": "markdown",
   "id": "e704409e",
   "metadata": {},
   "source": [
    "Explanation:\n",
    "1. take exam score as user input\n",
    "2. check that your exam score using conditional statement and\n",
    "3. display grades as per students marks using print() function"
   ]
  },
  {
   "cell_type": "markdown",
   "id": "ec16c930",
   "metadata": {},
   "source": [
    "# 5. Create a program that checks if a year is a leap year or not"
   ]
  },
  {
   "cell_type": "code",
   "execution_count": 5,
   "id": "df865d8a",
   "metadata": {},
   "outputs": [
    {
     "name": "stdout",
     "output_type": "stream",
     "text": [
      "Enter your year: 2000\n",
      " Yes,2000 is leap year \n"
     ]
    }
   ],
   "source": [
    "# create function that year as user input\n",
    "def check_leap(year):\n",
    "    \n",
    "# after check take input check leap year or not    \n",
    "    if (year%4 == 0 and year%100 == 0) or year%400 == 0:\n",
    "        return True\n",
    "    else:\n",
    "        return False\n",
    "\n",
    "#     call the function\n",
    "year = int(input(\"Enter your year: \"))\n",
    "result = check_leap(year)\n",
    "\n",
    "# display your message\n",
    "if(result):\n",
    "    print(f\" Yes,{year} is leap year \")\n",
    "    \n",
    "\n",
    "else:\n",
    "    print(f\"No,{year} is not leap year \")"
   ]
  },
  {
   "cell_type": "markdown",
   "id": "da0a1e65",
   "metadata": {},
   "source": [
    "Explanation:\n",
    "1. first things is take year as user input\n",
    "2. check that year is leap year or not if year%400==0 mean it is leap year or if year%4==0 and year%100==0 , it is leap year\n",
    "3. otherwise not leap year\n",
    "4. after check conditon using if-else statement return True or False\n",
    "5. call the function and display your message using print() function"
   ]
  },
  {
   "cell_type": "markdown",
   "id": "094bd3d7",
   "metadata": {},
   "source": [
    "# 6. Write a program to classify a triangle based on its sides' lengths."
   ]
  },
  {
   "cell_type": "code",
   "execution_count": 7,
   "id": "1dbd5881",
   "metadata": {},
   "outputs": [
    {
     "name": "stdout",
     "output_type": "stream",
     "text": [
      "Enter the length of the first side: 5\n",
      "Enter the length of the second side: 4\n",
      "Enter the length of the third side: 3\n",
      "It's a scalene triangle.\n"
     ]
    }
   ],
   "source": [
    "# Input the lengths of the three sides of the triangle\n",
    "side1 = float(input(\"Enter the length of the first side: \"))\n",
    "side2 = float(input(\"Enter the length of the second side: \"))\n",
    "side3 = float(input(\"Enter the length of the third side: \"))\n",
    "\n",
    "# Check if it's a valid triangle and print your message\n",
    "if (side1 + side2 > side3) and (side1 + side3 > side2) and (side2 + side3 > side1):\n",
    "    # Check for the type of triangle\n",
    "    if side1 == side2 == side3:\n",
    "        print(\"It's an equilateral triangle.\")\n",
    "    elif side1 == side2 or side1 == side3 or side2 == side3:\n",
    "        print(\"It's an isosceles triangle.\")\n",
    "    else:\n",
    "        print(\"It's a scalene triangle.\")\n",
    "else:\n",
    "    print(\"It's not a valid triangle.\")\n"
   ]
  },
  {
   "cell_type": "markdown",
   "id": "e16bc9dc",
   "metadata": {},
   "source": [
    "Explanation:\n",
    "\n",
    "1. firt things is take sides of triangle as user input\n",
    "2. check that type of angle based on entered data \n",
    "3. check that first (side1 + side2 > side3) and (side1 + side3 > side2) and (side2 + side3 > side1) \n",
    "4. if above conditon are true mean it is valid triangle otherwise it is not triangle\n",
    "3. finally dispaly your result using print() function"
   ]
  },
  {
   "cell_type": "markdown",
   "id": "84f74dd0",
   "metadata": {},
   "source": [
    "# 7. Build a program that determines the largest of three given numbers"
   ]
  },
  {
   "cell_type": "code",
   "execution_count": 8,
   "id": "b10b6bcf",
   "metadata": {},
   "outputs": [
    {
     "name": "stdout",
     "output_type": "stream",
     "text": [
      "6 is largest among 4,5 and 6\n"
     ]
    }
   ],
   "source": [
    "# define function that pass three arguments as integer value\n",
    "def largest_number(num1,num2,num3):\n",
    "    \n",
    "# check that all numbers are equa or not and check largest among them\n",
    "    if(num1!= num2 and num2!=num3):\n",
    "        if num3<num1>num2:\n",
    "            print(f\"{num1} is largest among {num1},{num2} and {num3}\")\n",
    "        elif num1<num2>num3:\n",
    "            print(f\"{num2} is largest among {num1},{num2} and {num3}\")\n",
    "        else:\n",
    "            print(f\"{num3} is largest among {num1},{num2} and {num3}\")\n",
    "    else:\n",
    "        print(f\" all are equal \")\n",
    "        \n",
    "# call the function\n",
    "        \n",
    "largest_number(4,5,6)"
   ]
  },
  {
   "cell_type": "markdown",
   "id": "65759106",
   "metadata": {},
   "source": [
    "Explanation:\n",
    "1. first thing is define function that take three arguments as integer value\n",
    "2. check that all numbers are equa or not and check largest among them using if-elif and else statement\n",
    "3. and display your result using print() function"
   ]
  },
  {
   "cell_type": "markdown",
   "id": "8117a982",
   "metadata": {},
   "source": [
    "# 8. Develop a program that checks whether a character is a vowel or a consonant."
   ]
  },
  {
   "cell_type": "code",
   "execution_count": 9,
   "id": "13bf652d",
   "metadata": {},
   "outputs": [
    {
     "name": "stdout",
     "output_type": "stream",
     "text": [
      "Enter your character: d\n",
      "Yes, d is consonant \n"
     ]
    }
   ],
   "source": [
    "# define function that take single character as input\n",
    "def check_character(character):\n",
    "    \n",
    "# declare the value of vowels or consonant\n",
    "    vowels = \"aeiou\"\n",
    "    consonant = \"bcdfghjklmnpqrstvwxyz\"\n",
    "    \n",
    "# convert entered character into lowercase\n",
    "    new_character = character.lower()\n",
    "    \n",
    "#     check that type of character\n",
    "    if len(character)==1 :\n",
    "        if new_character in vowels :\n",
    "            print(f\"Yes, {character} is vowel \")\n",
    "        if new_character in consonant :\n",
    "            print(f\"Yes, {character} is consonant \")\n",
    "    else:\n",
    "        print(f\"{character} is Not valid character \")\n",
    " \n",
    "# call the function\n",
    "character = input(\"Enter your character: \")\n",
    "check_character(character)"
   ]
  },
  {
   "cell_type": "markdown",
   "id": "1c3611d2",
   "metadata": {},
   "source": [
    "Explanation:\n",
    "1. define a function that take character as input\n",
    "2. declare two string string and initialize value as vowel and consonant\n",
    "3. convert the entered character in lowercase using lowercase() function\n",
    "4. and check that character is single or not\n",
    "5. if len(character)==1 , that means it is single then check that character in vowel are not\n",
    "6. finally display your result"
   ]
  },
  {
   "cell_type": "markdown",
   "id": "03a43682",
   "metadata": {},
   "source": [
    "# 9. Create a program to calculate the total cost of a shopping cart based on discounts"
   ]
  },
  {
   "cell_type": "code",
   "execution_count": 10,
   "id": "fe06c829",
   "metadata": {},
   "outputs": [
    {
     "name": "stdout",
     "output_type": "stream",
     "text": [
      "Enter the purchase amount: $850\n",
      "Original Price: $850.00\n",
      "Discount Percentage: 10%\n",
      "Discounted Price: $765.00\n"
     ]
    }
   ],
   "source": [
    "# Get the purchase amount as input\n",
    "purchase_amount = float(input(\"Enter the purchase amount: $\"))\n",
    "\n",
    "# Define discount thresholds and corresponding discount rates\n",
    "discount_threshold_1 = 100\n",
    "discount_threshold_2 = 200\n",
    "discount_rate_1 = 0.05  # 5%\n",
    "discount_rate_2 = 0.1   # 10%\n",
    "discount_rate_3 = 0.15  # 15%\n",
    "\n",
    "# Calculate the discounted price based on purchase amount\n",
    "if purchase_amount < discount_threshold_1:\n",
    "    discounted_price = purchase_amount\n",
    "    discount_percent = 0\n",
    "elif purchase_amount < discount_threshold_2:\n",
    "    discounted_price = purchase_amount - (purchase_amount * discount_rate_1)\n",
    "    discount_percent = 5\n",
    "else:\n",
    "    discounted_price = purchase_amount - (purchase_amount * discount_rate_2)\n",
    "    discount_percent = 10\n",
    "\n",
    "# Display the discount and discounted price\n",
    "print(f\"Original Price: ${purchase_amount:.2f}\")\n",
    "print(f\"Discount Percentage: {discount_percent}%\")\n",
    "print(f\"Discounted Price: ${discounted_price:.2f}\")\n"
   ]
  },
  {
   "cell_type": "markdown",
   "id": "9c771afb",
   "metadata": {},
   "source": [
    "Explanation:\n",
    "1. get purchase amount as user input using input() function\n",
    "2. as per purchase amount define discount rate and check that using control statement\n",
    "3. calculate the discount price after discount rate\n",
    "4. finally display your result using print() function"
   ]
  },
  {
   "cell_type": "markdown",
   "id": "81f47a5a",
   "metadata": {},
   "source": [
    "# 10. Write a program that checks if a given number is even or odd"
   ]
  },
  {
   "cell_type": "code",
   "execution_count": 18,
   "id": "2a1d7bcd",
   "metadata": {},
   "outputs": [
    {
     "name": "stdout",
     "output_type": "stream",
     "text": [
      "Enter your number: 5\n",
      "Yes, 5 is odd number \n"
     ]
    }
   ],
   "source": [
    "# define the function that pass one integer value\n",
    "def check_even_odd(number):\n",
    "    \n",
    "# check that number is even or not and display your message\n",
    "    if number>0:\n",
    "        if number%2==0:\n",
    "            print(f\"Yes, {number} is even number \")\n",
    "        else:\n",
    "             print(f\"Yes, {number} is odd number \")\n",
    "    else:\n",
    "        print(\"Enter valid number again\")\n",
    "        \n",
    "        \n",
    "# enter the number and call the function\n",
    "number = int(input(\"Enter your number: \"))\n",
    "result = check_even_odd(number)"
   ]
  },
  {
   "cell_type": "markdown",
   "id": "57b08ada",
   "metadata": {},
   "source": [
    "Explanation:\n",
    "1. define the function that pass one integer value\n",
    "2. check that number is even or not\n",
    "3. if number%2==2 means it is even number otherwise it is odd number\n",
    "4. finally display your message and call the function"
   ]
  },
  {
   "cell_type": "markdown",
   "id": "8670f837",
   "metadata": {},
   "source": [
    "# Intermediate Level:"
   ]
  },
  {
   "cell_type": "markdown",
   "id": "16f38990",
   "metadata": {},
   "source": [
    "# 11. Write a program that calculates the roots of a quadratic equation "
   ]
  },
  {
   "cell_type": "code",
   "execution_count": 19,
   "id": "e380f5b8",
   "metadata": {},
   "outputs": [
    {
     "name": "stdout",
     "output_type": "stream",
     "text": [
      "Enter the coefficient 'a': 2\n",
      "Enter the coefficient 'b': 3\n",
      "Enter the coefficient 'c': 4\n",
      "The roots are complex: -0.75 + 1.1989578808281798i and -0.75 - 1.1989578808281798i\n"
     ]
    }
   ],
   "source": [
    "import math\n",
    "\n",
    "# Input coefficients of the quadratic equation\n",
    "a = float(input(\"Enter the coefficient 'a': \"))\n",
    "b = float(input(\"Enter the coefficient 'b': \"))\n",
    "c = float(input(\"Enter the coefficient 'c': \"))\n",
    "\n",
    "# Calculate the discriminant\n",
    "discriminant = b**2 - 4*a*c\n",
    "\n",
    "# Check the value of the discriminant and calculate roots accordingly\n",
    "if discriminant > 0:\n",
    "    # Two real and distinct roots\n",
    "    root1 = (-b + math.sqrt(discriminant)) / (2*a)\n",
    "    root2 = (-b - math.sqrt(discriminant)) / (2*a)\n",
    "    print(f\"The roots are real and distinct: {root1} and {root2}\")\n",
    "elif discriminant == 0:\n",
    "    # One real root (repeated)\n",
    "    root = -b / (2*a)\n",
    "    print(f\"The root is real and repeated: {root}\")\n",
    "else:\n",
    "    # Complex roots\n",
    "    real_part = -b / (2*a)\n",
    "    imaginary_part = math.sqrt(abs(discriminant)) / (2*a)\n",
    "    print(f\"The roots are complex: {real_part} + {imaginary_part}i and {real_part} - {imaginary_part}i\")\n"
   ]
  },
  {
   "cell_type": "markdown",
   "id": "f65ab38f",
   "metadata": {},
   "source": [
    "Explanation:\n",
    "\n",
    "1. first things is import math module or library\n",
    "2. Input coefficients of the quadratic equation\n",
    "3. Calculate the discriminant using basic math formula\n",
    "4. Check the value of the discriminant and calculate roots accordingly\n",
    "5. if discrimination>0 means it have two real and distinct roots\n",
    "6. if discriminant == 0 means it have one real root may be repated\n",
    "7. otherwise it have complex root\n",
    "8. after check that display your message"
   ]
  },
  {
   "cell_type": "markdown",
   "id": "1ce9ffd8",
   "metadata": {},
   "source": [
    "# 12. Create a program that determines the day of the week based on the day number (1-7)"
   ]
  },
  {
   "cell_type": "code",
   "execution_count": 20,
   "id": "97e0910e",
   "metadata": {},
   "outputs": [
    {
     "name": "stdout",
     "output_type": "stream",
     "text": [
      "Enter a number (1-7) to determine the day of the week: 3\n",
      "The day of the week corresponding to 3 is Wednesday.\n"
     ]
    }
   ],
   "source": [
    "# Define a dictionary to map numbers to days of the week\n",
    "days_of_week = {\n",
    "    1: \"Monday\",\n",
    "    2: \"Tuesday\",\n",
    "    3: \"Wednesday\",\n",
    "    4: \"Thursday\",\n",
    "    5: \"Friday\",\n",
    "    6: \"Saturday\",\n",
    "    7: \"Sunday\"\n",
    "}\n",
    "\n",
    "# Input a number from the user\n",
    "user_number = int(input(\"Enter a number (1-7) to determine the day of the week: \"))\n",
    "\n",
    "# Check if the input number is within the valid range\n",
    "if 1 <= user_number <= 7:\n",
    "    day = days_of_week[user_number]\n",
    "    print(f\"The day of the week corresponding to {user_number} is {day}.\")\n",
    "else:\n",
    "    print(\"Invalid input. Please enter a number between 1 and 7 to represent a day of the week.\")\n"
   ]
  },
  {
   "cell_type": "markdown",
   "id": "755f1830",
   "metadata": {},
   "source": [
    "Explanation:\n",
    "1. first thing is Define a dictionary to map numbers to days of the week\n",
    "2. Input a number from the user using input() function\n",
    "3. Check if the input number is within the valid range or not \n",
    "4. if yes, then print corresponding day otherwise print invalid input"
   ]
  },
  {
   "cell_type": "markdown",
   "id": "6fc3ab94",
   "metadata": {},
   "source": [
    "# 13. Develop a program that calculates the factorial of a given number using recursion"
   ]
  },
  {
   "cell_type": "code",
   "execution_count": 26,
   "id": "e88c21bf",
   "metadata": {},
   "outputs": [
    {
     "name": "stdout",
     "output_type": "stream",
     "text": [
      "Enter your number: 1\n",
      "Factorial of 1 is: 1\n"
     ]
    }
   ],
   "source": [
    "# define function that take pass one arguments\n",
    "def factorial_value(number):\n",
    "    \n",
    "# if number is zero then return 1 because fact(0) =1\n",
    "    if number==0 :\n",
    "        return 1\n",
    "    fact = 1\n",
    "    return number*factorial_value(number-1)\n",
    "\n",
    "\n",
    "# take number as user input and call the function\n",
    "number = int(input(\"Enter your number: \"))\n",
    "fact_value = factorial_value(number)\n",
    "\n",
    "# diplay your value using print() function\n",
    "print(f\"Factorial of {number} is: {fact_value}\")"
   ]
  },
  {
   "cell_type": "markdown",
   "id": "61435960",
   "metadata": {},
   "source": [
    "Explanation:\n",
    "1. first thing is create function that pass one arguments\n",
    "2. check that number is 0 or not if yes, then return 1 because factorial of 0 is 1\n",
    "3. then if number>0 so, call fucntion again\n",
    "4. display your result"
   ]
  },
  {
   "cell_type": "markdown",
   "id": "d43305c9",
   "metadata": {},
   "source": [
    "# 14. Write a program to find the largest among three numbers without using the `max()` function."
   ]
  },
  {
   "cell_type": "code",
   "execution_count": 28,
   "id": "24cd9526",
   "metadata": {},
   "outputs": [
    {
     "name": "stdout",
     "output_type": "stream",
     "text": [
      "23 is largest among 12,23 and 10\n"
     ]
    }
   ],
   "source": [
    "# define function that pass three arguments as integer value\n",
    "def largest_number(num1,num2,num3):\n",
    "    \n",
    "# check that all numbers are equa or not and check largest among them\n",
    "    if(num1!= num2 and num2!=num3):\n",
    "        if num3<num1>num2:\n",
    "            print(f\"{num1} is largest among {num1},{num2} and {num3}\")\n",
    "        elif num1<num2>num3:\n",
    "            print(f\"{num2} is largest among {num1},{num2} and {num3}\")\n",
    "        else:\n",
    "            print(f\"{num3} is largest among {num1},{num2} and {num3}\")\n",
    "    else:\n",
    "        print(f\" all are equal \")\n",
    "        \n",
    "# call the function\n",
    "        \n",
    "largest_number(12,23,10)"
   ]
  },
  {
   "cell_type": "markdown",
   "id": "715e4f09",
   "metadata": {},
   "source": [
    "Explanation:\n",
    "1. first thing is define function that take three arguments as integer value\n",
    "2. check that all numbers are equa or not and check largest among them using if-elif and else statement\n",
    "3. and display your result using print() function"
   ]
  },
  {
   "cell_type": "markdown",
   "id": "9faf717d",
   "metadata": {},
   "source": [
    "# 15. Create a program that simulates a basic ATM transaction menu."
   ]
  },
  {
   "cell_type": "code",
   "execution_count": 5,
   "id": "dff540cc",
   "metadata": {},
   "outputs": [
    {
     "name": "stdout",
     "output_type": "stream",
     "text": [
      "Enter your available balance in your a/c:5000\n",
      "/n ATM MENU:\n",
      "1: Check Balance\n",
      "2: Deposite money\n",
      "3: Withdraw money\n",
      "4: Exit\n",
      "Enter your choice (1/2/3/4): 2\n",
      "Enter how much money do you want to deposite : 500\n",
      "Now your total balance after deposite 500 balance is 5500\n",
      "/n ATM MENU:\n",
      "1: Check Balance\n",
      "2: Deposite money\n",
      "3: Withdraw money\n",
      "4: Exit\n",
      "Enter your choice (1/2/3/4): 1\n",
      "Your available balance in your a/c is: 5500\n",
      "/n ATM MENU:\n",
      "1: Check Balance\n",
      "2: Deposite money\n",
      "3: Withdraw money\n",
      "4: Exit\n",
      "Enter your choice (1/2/3/4): 3\n",
      "Enter how much money do you want withdraw: 1000\n",
      "After 1000 withdraw your current balance is 4500\n",
      "/n ATM MENU:\n",
      "1: Check Balance\n",
      "2: Deposite money\n",
      "3: Withdraw money\n",
      "4: Exit\n",
      "Enter your choice (1/2/3/4): 1\n",
      "Your available balance in your a/c is: 4500\n",
      "/n ATM MENU:\n",
      "1: Check Balance\n",
      "2: Deposite money\n",
      "3: Withdraw money\n",
      "4: Exit\n",
      "Enter your choice (1/2/3/4): 4\n",
      "Thankyou for using this ATM , Goodbye\n"
     ]
    }
   ],
   "source": [
    "# ATM Simulataion program\n",
    "# initialize and enter your available balance\n",
    "balance = int(input(\"Enter your available balance in your a/c:\"))\n",
    "\n",
    "# create function for display balance\n",
    "def display_balance():\n",
    "    print(f\"Your available balance in your a/c is: {balance}\")\n",
    "    \n",
    "#  create function for deposite balance\n",
    "def deposite_balance():\n",
    "    global balance\n",
    "    amount = int(input(\"Enter how much money do you want to deposite : \"))\n",
    "    balance+=amount;\n",
    "    print(f\"Now your total balance after deposite {amount} balance is {balance}\")\n",
    "    \n",
    "#   create function for withdraw balance\n",
    "def withdraw_balance():\n",
    "    global balance\n",
    "    amount = int(input(\"Enter how much money do you want withdraw: \"))\n",
    "    if amount>balance:\n",
    "        print(\"Insuffiant balance, please entered correct amount\")\n",
    "    else:\n",
    "        balance-= amount\n",
    "        print(f\"After {amount} withdraw your current balance is {balance}\")\n",
    "\n",
    "#   main program loop\n",
    "while True:\n",
    "    \n",
    "# create choice\n",
    "    print(\"/n ATM MENU:\")\n",
    "    print(\"1: Check Balance\")\n",
    "    print(\"2: Deposite money\")\n",
    "    print(\"3: Withdraw money\")\n",
    "    print(\"4: Exit\")\n",
    "\n",
    "#  as per choice dispaly result \n",
    "    choice = int(input(\"Enter your choice (1/2/3/4): \"))\n",
    "    if choice==1:\n",
    "        display_balance()\n",
    "    elif choice==2:\n",
    "        deposite_balance()\n",
    "    elif choice==3:\n",
    "        withdraw_balance()\n",
    "    elif choice==4:\n",
    "        print(\"Thankyou for using this ATM , Goodbye\")\n",
    "        break\n",
    "    else:\n",
    "        print(\"Invalid choice, please enter valid option \")\n",
    "\n",
    "    \n",
    "    "
   ]
  },
  {
   "cell_type": "markdown",
   "id": "8a832687",
   "metadata": {},
   "source": [
    "Explanation:\n",
    "1. initialize and enter your available balance\n",
    "2. create function for display balance\n",
    "3. create function for withdraw balance\n",
    "4. main program loop,as per choice dispaly result "
   ]
  },
  {
   "cell_type": "markdown",
   "id": "460fc9a7",
   "metadata": {},
   "source": [
    "# 16. Build a program that checks if a given string is a palindrome or not"
   ]
  },
  {
   "cell_type": "code",
   "execution_count": 30,
   "id": "0fa7731b",
   "metadata": {},
   "outputs": [
    {
     "name": "stdout",
     "output_type": "stream",
     "text": [
      "Enter your string: jaipur\n",
      "No, jaipur is not palindrome string\n"
     ]
    }
   ],
   "source": [
    "# take string as user input\n",
    "my_string =str(input(\"Enter your string: \"))\n",
    "\n",
    "# again find reverse of above string\n",
    "reverse_string = my_string[::-1]\n",
    "\n",
    "# check that reverse string and entered string is equal or not\n",
    "if my_string == reverse_string :\n",
    "    print(f\"Yes, {my_string} is palindrome string\")\n",
    "else:\n",
    "    print(f\"No, {my_string} is not palindrome string\")"
   ]
  },
  {
   "cell_type": "markdown",
   "id": "f6e5f267",
   "metadata": {},
   "source": [
    "Explanation:\n",
    "\n",
    "1. take string as user input using input() function\n",
    "2. again find reverse of above string\n",
    "3. check that origional string and reverse string is equal to or not\n",
    "4. if yes, then it is palindrome string , otherwise it not palindrome string"
   ]
  },
  {
   "cell_type": "markdown",
   "id": "41139292",
   "metadata": {},
   "source": [
    "# 17. Write a program that calculates the average of a list of numbers, excluding the smallest and largest values"
   ]
  },
  {
   "cell_type": "code",
   "execution_count": 6,
   "id": "fe26994d",
   "metadata": {},
   "outputs": [
    {
     "name": "stdout",
     "output_type": "stream",
     "text": [
      "The average (excluding the smallest and largest values) is: 9.67\n"
     ]
    }
   ],
   "source": [
    "# define function that pass list as arguments\n",
    "def calculate_average(numbers):\n",
    "    if len(numbers) < 3:\n",
    "        print(\"At least three numbers are required for this calculation.\")\n",
    "        return None\n",
    "    \n",
    "    # Find the minimum and maximum values in the list\n",
    "    min_val = min(numbers)\n",
    "    max_val = max(numbers)\n",
    "    \n",
    "    # Calculate the sum of all values excluding the min and max\n",
    "    sum_excluded = sum(numbers) - min_val - max_val\n",
    "    \n",
    "    # Calculate the average\n",
    "    average = sum_excluded / (len(numbers) - 2)\n",
    "    \n",
    "    return average\n",
    "\n",
    "# Example usage:\n",
    "numbers = [12, 5, 23, 10, 7]\n",
    "result = calculate_average(numbers)\n",
    "\n",
    "if result is not None:\n",
    "    print(f\"The average (excluding the smallest and largest values) is: {result:.2f}\")\n"
   ]
  },
  {
   "cell_type": "markdown",
   "id": "dd347c07",
   "metadata": {},
   "source": [
    "Explanation:\n",
    "1. create function that pass one list arguments\n",
    "2. Find the minimum and maximum values in the list using max() and min() function\n",
    "3. Calculate the sum of all values excluding the min and max using sum() function\n",
    "4. Calculate the average using sum/length\n",
    "5. finally call the function and dispaly your result"
   ]
  },
  {
   "cell_type": "markdown",
   "id": "e02472a6",
   "metadata": {},
   "source": [
    "# 18.  Develop a program that converts a given temperature from Celsius to Fahrenheit."
   ]
  },
  {
   "cell_type": "code",
   "execution_count": 7,
   "id": "33440ee9",
   "metadata": {},
   "outputs": [
    {
     "name": "stdout",
     "output_type": "stream",
     "text": [
      "Enter temperature in Celsius: 110\n",
      "110.0°C is equal to 230.00°F\n"
     ]
    }
   ],
   "source": [
    "# Function to convert Celsius to Fahrenheit\n",
    "def celsius_to_fahrenheit(celsius):\n",
    "    fahrenheit = (celsius * 9/5) + 32\n",
    "    return fahrenheit\n",
    "\n",
    "# Get the temperature in Celsius from the user\n",
    "celsius = float(input(\"Enter temperature in Celsius: \"))\n",
    "\n",
    "# Call the conversion function and display the result\n",
    "fahrenheit = celsius_to_fahrenheit(celsius)\n",
    "print(f\"{celsius}°C is equal to {fahrenheit:.2f}°F\")"
   ]
  },
  {
   "cell_type": "markdown",
   "id": "ed92c393",
   "metadata": {},
   "source": [
    "Explanation:\n",
    "1. function to convert Celsius to Fahrenheit that pass celsius value as arguments\n",
    "2. Get the temperature in Celsius from the user using input() function\n",
    "3. Call the conversion function and display the result\n",
    "4. finally display your result"
   ]
  },
  {
   "cell_type": "markdown",
   "id": "94e4aa27",
   "metadata": {},
   "source": [
    "# 19.  Create a program that simulates a basic calculator for addition, subtraction, multiplication, and division"
   ]
  },
  {
   "cell_type": "code",
   "execution_count": 8,
   "id": "b4930ebb",
   "metadata": {},
   "outputs": [
    {
     "name": "stdout",
     "output_type": "stream",
     "text": [
      "\n",
      "Basic Calculator Menu:\n",
      "1. Addition\n",
      "2. Subtraction\n",
      "3. Multiplication\n",
      "4. Division\n",
      "5. Exit\n",
      "Enter your choice (1/2/3/4/5): 1\n",
      "Enter first number: 45\n",
      "Enter second number: 42\n",
      "Result of addition: 87.0\n",
      "\n",
      "Basic Calculator Menu:\n",
      "1. Addition\n",
      "2. Subtraction\n",
      "3. Multiplication\n",
      "4. Division\n",
      "5. Exit\n",
      "Enter your choice (1/2/3/4/5): 5\n",
      "Thank you for using the calculator. Goodbye!\n"
     ]
    }
   ],
   "source": [
    "# Function for addition\n",
    "def add(x, y):\n",
    "    return x + y\n",
    "\n",
    "# Function for subtraction\n",
    "def subtract(x, y):\n",
    "    return x - y\n",
    "\n",
    "# Function for multiplication\n",
    "def multiply(x, y):\n",
    "    return x * y\n",
    "\n",
    "# Function for division\n",
    "def divide(x, y):\n",
    "    if y == 0:\n",
    "        return \"Division by zero is not allowed.\"\n",
    "    return x / y\n",
    "\n",
    "# Main program loop\n",
    "while True:\n",
    "    print(\"\\nBasic Calculator Menu:\")\n",
    "    print(\"1. Addition\")\n",
    "    print(\"2. Subtraction\")\n",
    "    print(\"3. Multiplication\")\n",
    "    print(\"4. Division\")\n",
    "    print(\"5. Exit\")\n",
    "    \n",
    "    choice = input(\"Enter your choice (1/2/3/4/5): \")\n",
    "    \n",
    "    if choice == '5':\n",
    "        print(\"Thank you for using the calculator. Goodbye!\")\n",
    "        break\n",
    "    \n",
    "    if choice not in ('1', '2', '3', '4'):\n",
    "        print(\"Invalid choice. Please select a valid option.\")\n",
    "        continue\n",
    "    \n",
    "    num1 = float(input(\"Enter first number: \"))\n",
    "    num2 = float(input(\"Enter second number: \"))\n",
    "    \n",
    "    if choice == '1':\n",
    "        result = add(num1, num2)\n",
    "        operation = \"addition\"\n",
    "    elif choice == '2':\n",
    "        result = subtract(num1, num2)\n",
    "        operation = \"subtraction\"\n",
    "    elif choice == '3':\n",
    "        result = multiply(num1, num2)\n",
    "        operation = \"multiplication\"\n",
    "    else:\n",
    "        result = divide(num1, num2)\n",
    "        operation = \"division\"\n",
    "    \n",
    "    print(f\"Result of {operation}: {result}\")\n"
   ]
  },
  {
   "cell_type": "markdown",
   "id": "8b9ae6b1",
   "metadata": {},
   "source": [
    "Explanation:\n",
    "1. Function for addition\n",
    "2. Function for substraction\n",
    "3. Function for multipication\n",
    "4. Function for division\n",
    "5. after create function main program loop\n",
    "6. enter your choice and called fucntion as per choice and display your result using print() function"
   ]
  },
  {
   "cell_type": "markdown",
   "id": "1c1ba6c2",
   "metadata": {},
   "source": [
    "# 20. Write a program that determines the roots of a cubic equation using the Cardano formula"
   ]
  },
  {
   "cell_type": "code",
   "execution_count": 2,
   "id": "b7b98ac8",
   "metadata": {},
   "outputs": [
    {
     "name": "stdout",
     "output_type": "stream",
     "text": [
      "Enter the coefficient of x^3: 2\n",
      "Enter the coefficient of x^2: 4\n",
      "Enter the coefficient of x: 3\n",
      "Enter the constant term: 7\n"
     ]
    },
    {
     "ename": "ValueError",
     "evalue": "math domain error",
     "output_type": "error",
     "traceback": [
      "\u001b[1;31m---------------------------------------------------------------------------\u001b[0m",
      "\u001b[1;31mValueError\u001b[0m                                Traceback (most recent call last)",
      "Cell \u001b[1;32mIn[2], line 37\u001b[0m\n\u001b[0;32m     34\u001b[0m d \u001b[38;5;241m=\u001b[39m \u001b[38;5;28mfloat\u001b[39m(\u001b[38;5;28minput\u001b[39m(\u001b[38;5;124m\"\u001b[39m\u001b[38;5;124mEnter the constant term: \u001b[39m\u001b[38;5;124m\"\u001b[39m))\n\u001b[0;32m     36\u001b[0m \u001b[38;5;66;03m# Call the cubic_roots function\u001b[39;00m\n\u001b[1;32m---> 37\u001b[0m cubic_roots(a, b, c, d)\n",
      "Cell \u001b[1;32mIn[2], line 15\u001b[0m, in \u001b[0;36mcubic_roots\u001b[1;34m(a, b, c, d)\u001b[0m\n\u001b[0;32m     11\u001b[0m discriminant \u001b[38;5;241m=\u001b[39m (q \u001b[38;5;241m/\u001b[39m \u001b[38;5;241m2\u001b[39m)\u001b[38;5;241m*\u001b[39m\u001b[38;5;241m*\u001b[39m\u001b[38;5;241m2\u001b[39m \u001b[38;5;241m+\u001b[39m (p \u001b[38;5;241m/\u001b[39m \u001b[38;5;241m3\u001b[39m)\u001b[38;5;241m*\u001b[39m\u001b[38;5;241m*\u001b[39m\u001b[38;5;241m3\u001b[39m\n\u001b[0;32m     13\u001b[0m \u001b[38;5;28;01mif\u001b[39;00m discriminant \u001b[38;5;241m>\u001b[39m \u001b[38;5;241m0\u001b[39m:\n\u001b[0;32m     14\u001b[0m     \u001b[38;5;66;03m# One real root\u001b[39;00m\n\u001b[1;32m---> 15\u001b[0m     root \u001b[38;5;241m=\u001b[39m math\u001b[38;5;241m.\u001b[39mpow(\u001b[38;5;241m-\u001b[39mq \u001b[38;5;241m/\u001b[39m \u001b[38;5;241m2\u001b[39m \u001b[38;5;241m+\u001b[39m math\u001b[38;5;241m.\u001b[39msqrt(discriminant), \u001b[38;5;241m1\u001b[39m\u001b[38;5;241m/\u001b[39m\u001b[38;5;241m3\u001b[39m) \u001b[38;5;241m+\u001b[39m math\u001b[38;5;241m.\u001b[39mpow(\u001b[38;5;241m-\u001b[39mq \u001b[38;5;241m/\u001b[39m \u001b[38;5;241m2\u001b[39m \u001b[38;5;241m-\u001b[39m math\u001b[38;5;241m.\u001b[39msqrt(discriminant), \u001b[38;5;241m1\u001b[39m\u001b[38;5;241m/\u001b[39m\u001b[38;5;241m3\u001b[39m) \u001b[38;5;241m-\u001b[39m b \u001b[38;5;241m/\u001b[39m (\u001b[38;5;241m3\u001b[39m \u001b[38;5;241m*\u001b[39m a)\n\u001b[0;32m     16\u001b[0m     \u001b[38;5;28mprint\u001b[39m(\u001b[38;5;124m\"\u001b[39m\u001b[38;5;124mThe real root is:\u001b[39m\u001b[38;5;124m\"\u001b[39m, root)\n\u001b[0;32m     17\u001b[0m \u001b[38;5;28;01melif\u001b[39;00m discriminant \u001b[38;5;241m==\u001b[39m \u001b[38;5;241m0\u001b[39m:\n\u001b[0;32m     18\u001b[0m     \u001b[38;5;66;03m# Three real roots, two of them are equal\u001b[39;00m\n",
      "\u001b[1;31mValueError\u001b[0m: math domain error"
     ]
    }
   ],
   "source": [
    "\n",
    "import math\n",
    "\n",
    "def cubic_roots(a, b, c, d):\n",
    "    if a == 0:\n",
    "        print(\"This is not a cubic equation.\")\n",
    "        return\n",
    "\n",
    "    # Calculate p, q, and the discriminant\n",
    "    p = (3 * a * c - b**2) / (3 * a**2)\n",
    "    q = (2 * b**3 - 9 * a * b * c + 27 * a**2 * d) / (27 * a**3)\n",
    "    discriminant = (q / 2)**2 + (p / 3)**3\n",
    "\n",
    "    if discriminant > 0:\n",
    "        # One real root\n",
    "        root = math.pow(-q / 2 + math.sqrt(discriminant), 1/3) + math.pow(-q / 2 - math.sqrt(discriminant), 1/3) - b / (3 * a)\n",
    "        print(\"The real root is:\", root)\n",
    "    elif discriminant == 0:\n",
    "        # Three real roots, two of them are equal\n",
    "        root = math.pow(-q / 2, 1/3) - b / (3 * a)\n",
    "        print(\"The real roots are:\", root, root, -2 * root + b / (3 * a))\n",
    "    else:\n",
    "        # Three distinct real roots\n",
    "        r = math.sqrt((q / 2)**2 - (p / 3)**3)\n",
    "        theta = math.acos(-(q / 2) / r)\n",
    "        root1 = 2 * math.pow(r, 1/3) * math.cos(theta / 3) - b / (3 * a)\n",
    "        root2 = 2 * math.pow(r, 1/3) * math.cos((theta + 2 * math.pi) / 3) - b / (3 * a)\n",
    "        root3 = 2 * math.pow(r, 1/3) * math.cos((theta + 4 * math.pi) / 3) - b / (3 * a)\n",
    "        print(\"The real roots are:\", root1, root2, root3)\n",
    "\n",
    "# Get coefficients from the user\n",
    "a = float(input(\"Enter the coefficient of x^3: \"))\n",
    "b = float(input(\"Enter the coefficient of x^2: \"))\n",
    "c = float(input(\"Enter the coefficient of x: \"))\n",
    "d = float(input(\"Enter the constant term: \"))\n",
    "\n",
    "# Call the cubic_roots function\n",
    "cubic_roots(a, b, c, d)\n"
   ]
  },
  {
   "cell_type": "markdown",
   "id": "1585c5de",
   "metadata": {},
   "source": [
    "Explanation:\n",
    "1. Function to calculate the real roots of a cubic equation using the Cardano formula\n",
    "2. Calculate the discriminant\n",
    "3. if discriminant >0 ,One real root, two complex roots\n",
    "4. if discriminant==0 ,three roots are real and equal,hree real roots\n",
    "5. Input coefficients of the cubic equation\n",
    "6. Calculate and print the real roots"
   ]
  },
  {
   "cell_type": "markdown",
   "id": "403c8ec7",
   "metadata": {},
   "source": [
    "# Advanced Level"
   ]
  },
  {
   "cell_type": "markdown",
   "id": "aa31fb32",
   "metadata": {},
   "source": [
    "# 21. Create a program that calculates the income tax based on the user's income and tax brackets"
   ]
  },
  {
   "cell_type": "code",
   "execution_count": 1,
   "id": "f8434a89",
   "metadata": {},
   "outputs": [
    {
     "name": "stdout",
     "output_type": "stream",
     "text": [
      "Enter your income: 50000\n",
      "Your income tax is: $37000.00\n"
     ]
    }
   ],
   "source": [
    "# Define the tax brackets and their associated tax rates\n",
    "tax_brackets = [\n",
    "    (10000, 0.10),\n",
    "    (40000, 0.20),\n",
    "    (80000, 0.30),\n",
    "    (None, 0.40)  # The last bracket is for income above $80,000\n",
    "]\n",
    "\n",
    "# Function to calculate income tax\n",
    "def calculate_income_tax(income):\n",
    "    tax_owed = 0\n",
    "    remaining_income = income\n",
    "    \n",
    "    for bracket in tax_brackets:\n",
    "        if remaining_income <= 0:\n",
    "            break\n",
    "        bracket_limit, tax_rate = bracket\n",
    "        \n",
    "        if bracket_limit is None or remaining_income <= bracket_limit:\n",
    "            tax_owed += remaining_income * tax_rate\n",
    "        else:\n",
    "            tax_owed += bracket_limit * tax_rate\n",
    "            remaining_income -= bracket_limit\n",
    "    \n",
    "    return tax_owed\n",
    "\n",
    "# Get user input for income\n",
    "income = float(input(\"Enter your income: \"))\n",
    "\n",
    "# Calculate income tax\n",
    "income_tax = calculate_income_tax(income)\n",
    "\n",
    "# Display the result\n",
    "print(f\"Your income tax is: ${income_tax:.2f}\")\n"
   ]
  },
  {
   "cell_type": "markdown",
   "id": "f24c04be",
   "metadata": {},
   "source": [
    "Explanation:\n",
    "1.  Define the tax brackets and their associated tax rates\n",
    "2. create the function to calculate the income tax\n",
    "3. finall call the function and display your result"
   ]
  },
  {
   "cell_type": "markdown",
   "id": "02c8203f",
   "metadata": {},
   "source": [
    "# 22.  Write a program that simulates a rock-paper-scissors game against the computer."
   ]
  },
  {
   "cell_type": "code",
   "execution_count": 2,
   "id": "e36b8a7a",
   "metadata": {},
   "outputs": [
    {
     "name": "stdout",
     "output_type": "stream",
     "text": [
      "Choose rock, paper, or scissors (or 'quit' to end): paper\n",
      "You chose paper. The computer chose paper.\n",
      "It's a tie!\n",
      "Choose rock, paper, or scissors (or 'quit' to end): paper\n",
      "You chose paper. The computer chose scissors.\n",
      "Computer wins!\n",
      "Choose rock, paper, or scissors (or 'quit' to end): paper\n",
      "You chose paper. The computer chose rock.\n",
      "You win!\n",
      "Choose rock, paper, or scissors (or 'quit' to end): rock\n",
      "You chose rock. The computer chose paper.\n",
      "Computer wins!\n",
      "Choose rock, paper, or scissors (or 'quit' to end): quit\n",
      "Thanks for playing!\n"
     ]
    }
   ],
   "source": [
    "import random\n",
    "\n",
    "# Function to get the computer's choice\n",
    "def get_computer_choice():\n",
    "    choices = [\"rock\", \"paper\", \"scissors\"]\n",
    "    computer_choice = random.choice(choices)\n",
    "    return computer_choice\n",
    "\n",
    "# Function to determine the winner\n",
    "def determine_winner(user_choice, computer_choice):\n",
    "    if user_choice == computer_choice:\n",
    "        return \"It's a tie!\"\n",
    "    elif (user_choice == \"rock\" and computer_choice == \"scissors\") or \\\n",
    "         (user_choice == \"scissors\" and computer_choice == \"paper\") or \\\n",
    "         (user_choice == \"paper\" and computer_choice == \"rock\"):\n",
    "        return \"You win!\"\n",
    "    else:\n",
    "        return \"Computer wins!\"\n",
    "\n",
    "# Main game loop\n",
    "while True:\n",
    "    user_choice = input(\"Choose rock, paper, or scissors (or 'quit' to end): \").lower()\n",
    "\n",
    "    if user_choice == \"quit\":\n",
    "        break\n",
    "    elif user_choice not in [\"rock\", \"paper\", \"scissors\"]:\n",
    "        print(\"Invalid choice. Please choose rock, paper, or scissors.\")\n",
    "    else:\n",
    "        computer_choice = get_computer_choice()\n",
    "        print(f\"You chose {user_choice}. The computer chose {computer_choice}.\")\n",
    "        result = determine_winner(user_choice, computer_choice)\n",
    "        print(result)\n",
    "\n",
    "print(\"Thanks for playing!\")\n"
   ]
  },
  {
   "cell_type": "markdown",
   "id": "b5a27b45",
   "metadata": {},
   "source": [
    "Explanation:\n",
    "1. Function to get the computer's choice and import random module\n",
    "2. Function to determine the winner\n",
    "3. using if-elif and else statement determine result\n",
    "4. using print() function display your result\n",
    "5. Main game loop here "
   ]
  },
  {
   "cell_type": "markdown",
   "id": "91a6b91d",
   "metadata": {},
   "source": [
    "# 23. Develop a program that generates a random password based on user preferences (length, complexity)"
   ]
  },
  {
   "cell_type": "code",
   "execution_count": 9,
   "id": "7065eef9",
   "metadata": {},
   "outputs": [
    {
     "name": "stdout",
     "output_type": "stream",
     "text": [
      "Enter the desired password length: 6\n",
      "Include uppercase letters (y/n): VI\n",
      "Include lowercase letters (y/n): KU\n",
      "Include numbers (y/n): 2023\n",
      "Include special characters (y/n): y\n",
      "Your random password is: >#))\\=\n"
     ]
    }
   ],
   "source": [
    "import random\n",
    "import string\n",
    "\n",
    "# Function to generate a random password\n",
    "def generate_password(length, use_uppercase, use_lowercase, use_numbers, use_special_chars):\n",
    "    characters = ''\n",
    "    \n",
    "    if use_uppercase:\n",
    "        characters += string.ascii_uppercase\n",
    "    if use_lowercase:\n",
    "        characters += string.ascii_lowercase\n",
    "    if use_numbers:\n",
    "        characters += string.digits\n",
    "    if use_special_chars:\n",
    "        characters += string.punctuation\n",
    "\n",
    "    if not characters:\n",
    "        print(\"Please select at least one character type.\")\n",
    "        return None\n",
    "\n",
    "    password = ''.join(random.choice(characters) for _ in range(length))\n",
    "    return password\n",
    "\n",
    "# Get user preferences\n",
    "length = int(input(\"Enter the desired password length: \"))\n",
    "use_uppercase = input(\"Include uppercase letters (y/n): \").lower() == 'y'\n",
    "use_lowercase = input(\"Include lowercase letters (y/n): \").lower() == 'y'\n",
    "use_numbers = input(\"Include numbers (y/n): \").lower() == 'y'\n",
    "use_special_chars = input(\"Include special characters (y/n): \").lower() == 'y'\n",
    "\n",
    "# Generate and display the password\n",
    "password = generate_password(length, use_uppercase, use_lowercase, use_numbers, use_special_chars)\n",
    "\n",
    "if password:\n",
    "    print(f\"Your random password is: {password}\")\n"
   ]
  },
  {
   "cell_type": "markdown",
   "id": "57164192",
   "metadata": {},
   "source": [
    "Explanation:\n",
    "1. import two module like random and string\n",
    "2. Function to generate a random password\n",
    "3. Get user preferences\n",
    "4. finally display your result"
   ]
  },
  {
   "cell_type": "markdown",
   "id": "d1a2fae1",
   "metadata": {},
   "source": [
    "# 24. Create a program that implements a simple text-based adventure game with branching scenarios"
   ]
  },
  {
   "cell_type": "code",
   "execution_count": 11,
   "id": "0929a806",
   "metadata": {},
   "outputs": [
    {
     "name": "stdout",
     "output_type": "stream",
     "text": [
      "Welcome to the Text Adventure Game!\n",
      "\n",
      "Scenario 1: You wake up in a forest. You see two paths in front of you.\n",
      "Choose an option: left, right: left\n",
      "\n",
      "Scenario 2: You chose the left path and find a river. What do you do?\n",
      "Choose an option: cross the river, follow the river upstream, follow the river downstream: follow the river downstream\n",
      "\n",
      "Scenario 9: You follow the river downstream and end up in a friendly village.\n",
      "Thanks for playing the Text Adventure Game!\n"
     ]
    }
   ],
   "source": [
    "# Function to handle user input and validate choices\n",
    "def get_user_choice(options):\n",
    "    while True:\n",
    "        user_input = input(\"Choose an option: \" + \", \".join(options) + \": \").lower()\n",
    "        if user_input in options:\n",
    "            return user_input\n",
    "        else:\n",
    "            print(\"Invalid choice. Please choose a valid option.\")\n",
    "\n",
    "# Start the game\n",
    "print(\"Welcome to the Text Adventure Game!\")\n",
    "\n",
    "# Scenario 1\n",
    "print(\"\\nScenario 1: You wake up in a forest. You see two paths in front of you.\")\n",
    "choice = get_user_choice([\"left\", \"right\"])\n",
    "\n",
    "if choice == \"left\":\n",
    "    # Scenario 2\n",
    "    print(\"\\nScenario 2: You chose the left path and find a river. What do you do?\")\n",
    "    choice = get_user_choice([\"cross the river\", \"follow the river upstream\", \"follow the river downstream\"])\n",
    "\n",
    "    if choice == \"cross the river\":\n",
    "        # Scenario 3\n",
    "        print(\"\\nScenario 3: You cross the river and find a treasure chest. You're rich!\")\n",
    "    elif choice == \"follow the river upstream\":\n",
    "        # Scenario 4\n",
    "        print(\"\\nScenario 4: You follow the river upstream and discover a hidden cave.\")\n",
    "        choice = get_user_choice([\"enter the cave\", \"keep following the river upstream\"])\n",
    "        \n",
    "        if choice == \"enter the cave\":\n",
    "            # Scenario 5\n",
    "            print(\"\\nScenario 5: Inside the cave, you find a sleeping dragon. What will you do?\")\n",
    "            choice = get_user_choice([\"try to sneak past the dragon\", \"wake up the dragon\"])\n",
    "            \n",
    "            if choice == \"try to sneak past the dragon\":\n",
    "                # Scenario 6\n",
    "                print(\"\\nScenario 6: You successfully sneak past the dragon and find a stash of treasure.\")\n",
    "            else:\n",
    "                # Scenario 7\n",
    "                print(\"\\nScenario 7: You wake up the dragon, and it chases you out of the cave.\")\n",
    "        else:\n",
    "            # Scenario 8\n",
    "            print(\"\\nScenario 8: You keep following the river upstream and discover a beautiful waterfall.\")\n",
    "    else:\n",
    "        # Scenario 9\n",
    "        print(\"\\nScenario 9: You follow the river downstream and end up in a friendly village.\")\n",
    "\n",
    "else:\n",
    "    # Scenario 10\n",
    "    print(\"\\nScenario 10: You chose the right path and encounter a wild bear. What will you do?\")\n",
    "    choice = get_user_choice([\"try to scare the bear\", \"slowly back away\"])\n",
    "\n",
    "    if choice == \"try to scare the bear\":\n",
    "        # Scenario 11\n",
    "        print(\"\\nScenario 11: Your attempt to scare the bear fails, and it chases you away.\")\n",
    "    else:\n",
    "        # Scenario 12\n",
    "        print(\"\\nScenario 12: You back away slowly and leave the bear alone.\")\n",
    "\n",
    "# End of the game\n",
    "print(\"Thanks for playing the Text Adventure Game!\")\n"
   ]
  },
  {
   "cell_type": "markdown",
   "id": "b2f999fb",
   "metadata": {},
   "source": [
    "Explanation:\n",
    "1. Function to handle user input and validate choices\n",
    "2. define scenarion and display the result"
   ]
  },
  {
   "cell_type": "markdown",
   "id": "773f3e39",
   "metadata": {},
   "source": [
    "# 25. Build a program that solves a linear equation  for x, considering different cases."
   ]
  },
  {
   "cell_type": "code",
   "execution_count": 12,
   "id": "990c4835",
   "metadata": {},
   "outputs": [
    {
     "name": "stdout",
     "output_type": "stream",
     "text": [
      "Enter the coefficient 'a': 3\n",
      "Enter the coefficient 'b': 4\n",
      "Enter the constant 'c': 5\n",
      "Solution to the equation 3.0x + 4.0 = 5.0 is: x = 0.3333333333333333\n"
     ]
    }
   ],
   "source": [
    "# Function to solve a linear equation for x\n",
    "def solve_linear_equation(a, b, c):\n",
    "    if a == 0:\n",
    "        if b == c:\n",
    "            return \"Infinite solutions (x can be any real number)\"\n",
    "        else:\n",
    "            return \"No solution\"\n",
    "    else:\n",
    "        x = (c - b) / a\n",
    "        return f\"x = {x}\"\n",
    "\n",
    "# Get user input for coefficients\n",
    "a = float(input(\"Enter the coefficient 'a': \"))\n",
    "b = float(input(\"Enter the coefficient 'b': \"))\n",
    "c = float(input(\"Enter the constant 'c': \"))\n",
    "\n",
    "# Solve the linear equation\n",
    "solution = solve_linear_equation(a, b, c)\n",
    "\n",
    "# Display the result\n",
    "print(f\"Solution to the equation {a}x + {b} = {c} is: {solution}\")\n"
   ]
  },
  {
   "cell_type": "markdown",
   "id": "ab6b1866",
   "metadata": {},
   "source": [
    "Explanation:\n",
    "1. define Function to solve a linear equation for x that pass three arguments \n",
    "2. if a=0 and b==c then infinite solution\n",
    "3. if a==0 and b!=c, means No solution\n",
    "4. if a!=0 means x = (c-b)/a\n",
    "5. Get user input for coefficients\n",
    "6. Solve the linear equation\n",
    "7. Display the result"
   ]
  },
  {
   "cell_type": "markdown",
   "id": "38aa0f27",
   "metadata": {},
   "source": [
    "# 26. Write a program that simulates a basic quiz game with multiple-choice questions and scoring"
   ]
  },
  {
   "cell_type": "code",
   "execution_count": 23,
   "id": "1de388f0",
   "metadata": {},
   "outputs": [
    {
     "name": "stdout",
     "output_type": "stream",
     "text": [
      "Welcome to the Basic Quiz Game!\n",
      "\n",
      "Enter your name: vijay Kumar Shah\n",
      "Hello, vijay Kumar Shah!\n",
      "\n",
      "What is the capital of France?\n",
      "A) London\n",
      "B) Paris\n",
      "C) Berlin\n",
      "Enter the letter of your answer: a\n",
      "Wrong. The correct answer is B.\n",
      "\n",
      "Which planet is known as the Red Planet?\n",
      "A) Mars\n",
      "B) Venus\n",
      "C) Jupiter\n",
      "Enter the letter of your answer: a\n",
      "Correct!\n",
      "\n",
      "What is the largest mammal in the world?\n",
      "A) Elephant\n",
      "B) Giraffe\n",
      "C) Blue Whale\n",
      "Enter the letter of your answer: c\n",
      "Correct!\n",
      "\n",
      "Your score is: 2/3\n",
      "Well done!\n",
      "Thanks for playing the Basic Quiz Game!\n"
     ]
    }
   ],
   "source": [
    "# Define the quiz questions and answers\n",
    "questions = [\n",
    "    {\n",
    "        \"question\": \"What is the capital of France?\",\n",
    "        \"options\": [\"A) London\", \"B) Paris\", \"C) Berlin\"],\n",
    "        \"correct_answer\": \"B\"\n",
    "    },\n",
    "    {\n",
    "        \"question\": \"Which planet is known as the Red Planet?\",\n",
    "        \"options\": [\"A) Mars\", \"B) Venus\", \"C) Jupiter\"],\n",
    "        \"correct_answer\": \"A\"\n",
    "    },\n",
    "    {\n",
    "        \"question\": \"What is the largest mammal in the world?\",\n",
    "        \"options\": [\"A) Elephant\", \"B) Giraffe\", \"C) Blue Whale\"],\n",
    "        \"correct_answer\": \"C\"\n",
    "    }\n",
    "]\n",
    "\n",
    "# Function to display and grade the quiz\n",
    "def take_quiz(questions):\n",
    "    score = 0\n",
    "    for question in questions:\n",
    "        print(question[\"question\"])\n",
    "        for option in question[\"options\"]:\n",
    "            print(option)\n",
    "        user_answer = input(\"Enter the letter of your answer: \").upper()\n",
    "        if user_answer == question[\"correct_answer\"]:\n",
    "            print(\"Correct!\\n\")\n",
    "            score += 1\n",
    "        else:\n",
    "            print(f\"Wrong. The correct answer is {question['correct_answer']}.\\n\")\n",
    "    \n",
    "    return score\n",
    "\n",
    "# Main quiz game\n",
    "print(\"Welcome to the Basic Quiz Game!\\n\")\n",
    "player_name = input(\"Enter your name: \")\n",
    "print(f\"Hello, {player_name}!\\n\")\n",
    "\n",
    "player_score = take_quiz(questions)\n",
    "\n",
    "print(f\"Your score is: {player_score}/{len(questions)}\")\n",
    "if player_score == len(questions):\n",
    "    print(\"Congratulations! You got a perfect score.\")\n",
    "elif player_score >= len(questions) / 2:\n",
    "    print(\"Well done!\")\n",
    "else:\n",
    "    print(\"You can do better next time!\")\n",
    "\n",
    "print(\"Thanks for playing the Basic Quiz Game!\")\n"
   ]
  },
  {
   "cell_type": "markdown",
   "id": "cbd543e8",
   "metadata": {},
   "source": [
    "Explanation:\n",
    "1. Define the quiz questions and answers\n",
    "2. define Function to display and grade the quiz\n",
    "3. Main quiz game"
   ]
  },
  {
   "cell_type": "markdown",
   "id": "42cc4755",
   "metadata": {},
   "source": [
    "# 27.  Develop a program that determines whether a given year is a prime number or not."
   ]
  },
  {
   "cell_type": "code",
   "execution_count": 24,
   "id": "4e455d8e",
   "metadata": {},
   "outputs": [
    {
     "name": "stdout",
     "output_type": "stream",
     "text": [
      "Enter a year to check if it's prime: 2023\n",
      "2023 is not a prime year.\n"
     ]
    }
   ],
   "source": [
    "# Function to check if a number is prime\n",
    "def is_prime(year):\n",
    "    if year <= 1:\n",
    "        return False\n",
    "    if year <= 3:\n",
    "        return True\n",
    "\n",
    "    if year % 2 == 0 or year % 3 == 0:\n",
    "        return False\n",
    "\n",
    "    i = 5\n",
    "    while i * i <= year:\n",
    "        if year % i == 0 or year % (i + 2) == 0:\n",
    "            return False\n",
    "        i += 6\n",
    "\n",
    "    return True\n",
    "\n",
    "# Get user input for the year\n",
    "year = int(input(\"Enter a year to check if it's prime: \"))\n",
    "\n",
    "# Check if the year is prime\n",
    "if is_prime(year):\n",
    "    print(f\"{year} is a prime year.\")\n",
    "else:\n",
    "    print(f\"{year} is not a prime year.\")\n"
   ]
  },
  {
   "cell_type": "markdown",
   "id": "5b339156",
   "metadata": {},
   "source": [
    "Explanation:\n",
    "1. create function that check year is prime or not\n",
    "2. if year <=1 means it is not prime, and year<=3 means it is prime\n",
    "3. if year%2==0 or year%3==0 means it is not prime year\n",
    "4. finally get user input for the year and display your result"
   ]
  },
  {
   "cell_type": "markdown",
   "id": "7c27783a",
   "metadata": {},
   "source": [
    "# 28. Create a program that sorts three numbers in ascending order using conditional statements"
   ]
  },
  {
   "cell_type": "code",
   "execution_count": 29,
   "id": "72426c30",
   "metadata": {},
   "outputs": [
    {
     "name": "stdout",
     "output_type": "stream",
     "text": [
      "Enter the first number: 32\n",
      "Enter the second number: 21\n",
      "Enter the third number: 44\n",
      "Sorted numbers in ascending order: 21.0 , 32.0 , 44.0 \n"
     ]
    }
   ],
   "source": [
    "# Get input from the user\n",
    "num1 = float(input(\"Enter the first number: \"))\n",
    "num2 = float(input(\"Enter the second number: \"))\n",
    "num3 = float(input(\"Enter the third number: \"))\n",
    "\n",
    "# Initialize variables to hold the sorted numbers\n",
    "min_num = num1\n",
    "mid_num = num2\n",
    "max_num = num3\n",
    "\n",
    "# Compare and swap the numbers to sort them\n",
    "if mid_num < min_num:\n",
    "    min_num, mid_num = mid_num, min_num\n",
    "if max_num < mid_num:\n",
    "    max_num, mid_num = mid_num, max_num\n",
    "if mid_num < min_num:\n",
    "    min_num, mid_num = mid_num, min_num\n",
    "\n",
    "# Display the sorted numbers in ascending order\n",
    "print(f\"Sorted numbers in ascending order: {min_num} , {mid_num} , {max_num} \")\n",
    "\n"
   ]
  },
  {
   "cell_type": "markdown",
   "id": "ae645e91",
   "metadata": {},
   "source": [
    "Explanation:\n",
    "1. get three number from the user input\n",
    "2. Initialize variables to hold the sorted numbers\n",
    "3. Compare the number using if-else statement and swap the numbers to sort them\n",
    "4. Display the sorted numbers in ascending order"
   ]
  },
  {
   "cell_type": "markdown",
   "id": "4739019c",
   "metadata": {},
   "source": [
    "# 29. Build a program that determines the roots of a quartic equation using numerical methods."
   ]
  },
  {
   "cell_type": "code",
   "execution_count": 31,
   "id": "f7a30c0a",
   "metadata": {},
   "outputs": [
    {
     "name": "stdout",
     "output_type": "stream",
     "text": [
      "Enter the coefficient 'a': 5\n",
      "Enter the coefficient 'b': 6\n",
      "Enter the coefficient 'c': 2\n",
      "Enter the coefficient 'd': 3\n",
      "Enter the coefficient 'e': 6\n",
      "Enter an initial guess for the root: 8\n",
      "The Newton-Raphson method did not converge within the specified maximum iterations.\n"
     ]
    }
   ],
   "source": [
    "# Define the quartic equation in the form: ax^4 + bx^3 + cx^2 + dx + e = 0\n",
    "a = float(input(\"Enter the coefficient 'a': \"))\n",
    "b = float(input(\"Enter the coefficient 'b': \"))\n",
    "c = float(input(\"Enter the coefficient 'c': \"))\n",
    "d = float(input(\"Enter the coefficient 'd': \"))\n",
    "e = float(input(\"Enter the coefficient 'e': \"))\n",
    "\n",
    "# Function to evaluate the quartic equation\n",
    "def quartic_function(x):\n",
    "    return a * x**4 + b * x**3 + c * x**2 + d * x + e\n",
    "\n",
    "# Function to calculate the derivative of the quartic equation\n",
    "def derivative_quartic_function(x):\n",
    "    return 4 * a * x**3 + 3 * b * x**2 + 2 * c * x + d\n",
    "\n",
    "# Function to find the root using Newton-Raphson method\n",
    "def newton_raphson_method(x0, max_iterations=100, tolerance=1e-6):\n",
    "    x = x0\n",
    "    for i in range(max_iterations):\n",
    "        f_x = quartic_function(x)\n",
    "        f_prime_x = derivative_quartic_function(x)\n",
    "        if abs(f_x) < tolerance:\n",
    "            return x\n",
    "        x = x - f_x / f_prime_x\n",
    "    return None\n",
    "\n",
    "# Get an initial guess for the root\n",
    "initial_guess = float(input(\"Enter an initial guess for the root: \"))\n",
    "\n",
    "# Find a root using the Newton-Raphson method\n",
    "root = newton_raphson_method(initial_guess)\n",
    "\n",
    "if root is not None:\n",
    "    print(f\"A root of the quartic equation is approximately {root:.6f}\")\n",
    "else:\n",
    "    print(\"The Newton-Raphson method did not converge within the specified maximum iterations.\")\n"
   ]
  },
  {
   "cell_type": "markdown",
   "id": "3a022a4c",
   "metadata": {},
   "source": [
    "Explanation:\n",
    "1. Define the quartic equation in the form: ax^4 + bx^3 + cx^2 + dx + e = 0\n",
    "2. Function to evaluate the quartic equation\n",
    "3. Function to calculate the derivative of the quartic equation\n",
    "4. Function to find the root using Newton-Raphson method\n",
    "5. Get an initial guess for the root\n",
    "6. finally display your result using print() function"
   ]
  },
  {
   "cell_type": "markdown",
   "id": "4686d677",
   "metadata": {},
   "source": [
    "# 30.  Write a program that calculates the BMI (Body Mass Index) and provides health recommendations based on the user's input"
   ]
  },
  {
   "cell_type": "code",
   "execution_count": 32,
   "id": "241339b5",
   "metadata": {},
   "outputs": [
    {
     "name": "stdout",
     "output_type": "stream",
     "text": [
      "Enter your weight (in kilograms): 66\n",
      "Enter your height (in meters): 1.65\n",
      "Your BMI is: 24.24\n",
      "Health Recommendation: Your BMI is in the healthy range. Keep up the good work!\n"
     ]
    }
   ],
   "source": [
    " # Function to calculate BMI\n",
    "def calculate_bmi(weight, height):\n",
    "    return weight / (height ** 2)\n",
    "\n",
    "# Function to provide health recommendations based on BMI\n",
    "def get_health_recommendation(bmi):\n",
    "    if bmi < 18.5:\n",
    "        return \"You are underweight. You may need to gain some weight to maintain a healthy BMI.\"\n",
    "    elif 18.5 <= bmi < 24.9:\n",
    "        return \"Your BMI is in the healthy range. Keep up the good work!\"\n",
    "    elif 25 <= bmi < 29.9:\n",
    "        return \"You are overweight. Consider losing weight for better health.\"\n",
    "    else:\n",
    "        return \"You are obese. It's essential to consult a healthcare professional for guidance.\"\n",
    "\n",
    "# Get user input for weight (in kilograms) and height (in meters)\n",
    "weight = float(input(\"Enter your weight (in kilograms): \"))\n",
    "height = float(input(\"Enter your height (in meters): \"))\n",
    "\n",
    "# Calculate BMI\n",
    "bmi = calculate_bmi(weight, height)\n",
    "\n",
    "# Display the BMI and health recommendation\n",
    "print(f\"Your BMI is: {bmi:.2f}\")\n",
    "recommendation = get_health_recommendation(bmi)\n",
    "print(\"Health Recommendation: \" + recommendation)\n"
   ]
  },
  {
   "cell_type": "markdown",
   "id": "19da14ee",
   "metadata": {},
   "source": [
    "Explanation:\n",
    "1. define the function the calculate the BMI of any person that pass two arguments height and weight\n",
    "2. create Function to provide health recommendations based on BMI that pass one arguments BMI value\n",
    "3. as per BMI value create print you message\n",
    "4. finally call the function and display your message"
   ]
  },
  {
   "cell_type": "markdown",
   "id": "6ee9b48a",
   "metadata": {},
   "source": [
    "#  Challenge Level"
   ]
  },
  {
   "cell_type": "markdown",
   "id": "a772f1ea",
   "metadata": {},
   "source": [
    "# 31. Create a program that validates a password based on complexity rules (length, characters, etc.)."
   ]
  },
  {
   "cell_type": "code",
   "execution_count": 33,
   "id": "442230e5",
   "metadata": {},
   "outputs": [
    {
     "name": "stdout",
     "output_type": "stream",
     "text": [
      "Enter a password: Vijay@678\n",
      "Password is valid.\n"
     ]
    }
   ],
   "source": [
    "# Function to validate a password\n",
    "def is_valid_password(password):\n",
    "    # Check the length (at least 8 characters)\n",
    "    if len(password) < 8:\n",
    "        return False\n",
    "\n",
    "    # Check for a combination of character types (uppercase, lowercase, digits, and special characters)\n",
    "    has_uppercase = any(char.isupper() for char in password)\n",
    "    has_lowercase = any(char.islower() for char in password)\n",
    "    has_digit = any(char.isdigit() for char in password)\n",
    "    has_special = any(char in \"!@#$%^&*()_+{}[]|:;<>,.?/~\" for char in password)\n",
    "\n",
    "    if not (has_uppercase and has_lowercase and has_digit and has_special):\n",
    "        return False\n",
    "\n",
    "    # Additional checks can be added if needed\n",
    "\n",
    "    return True\n",
    "\n",
    "# Get user input for a password\n",
    "password = input(\"Enter a password: \")\n",
    "\n",
    "# Validate the password\n",
    "if is_valid_password(password):\n",
    "    print(\"Password is valid.\")\n",
    "else:\n",
    "    print(\"Password is invalid. Please follow the complexity rules.\")\n"
   ]
  },
  {
   "cell_type": "markdown",
   "id": "786fb018",
   "metadata": {},
   "source": [
    "Explanation:\n",
    "1. first thing is create function that pass one arguments as password\n",
    "2. Check the length (at least 8 characters) if no means it not valid password\n",
    "3. Check for a combination of character types (uppercase, lowercase, digits, and special characters) using function\n",
    "4. Additional checks can be added if needed\n",
    "5. Get user input for a password\n",
    "6. Validate the password\n",
    "7. finally display your result using print() function"
   ]
  },
  {
   "cell_type": "markdown",
   "id": "e5f289f6",
   "metadata": {},
   "source": [
    "# 32. Develop a program that performs matrix addition and subtraction based on user input."
   ]
  },
  {
   "cell_type": "code",
   "execution_count": 3,
   "id": "dc654e9c",
   "metadata": {},
   "outputs": [
    {
     "name": "stdout",
     "output_type": "stream",
     "text": [
      "Enter the number of rows: 2\n",
      "Enter the number of columns: 2\n",
      "Enter elements for the first matrix:\n",
      "Enter the element at row 1 and column 1: 4\n",
      "Enter the element at row 1 and column 2: 5\n",
      "Enter the element at row 2 and column 1: 6\n",
      "Enter the element at row 2 and column 2: 8\n",
      "Enter elements for the second matrix:\n",
      "Enter the element at row 1 and column 1: 7\n",
      "Enter the element at row 1 and column 2: 9\n",
      "Enter the element at row 2 and column 1: 6\n",
      "Enter the element at row 2 and column 2: 2\n",
      "Matrix addition result:\n",
      "11.0 14.0\n",
      "12.0 10.0\n",
      "Matrix subtraction result:\n",
      "-3.0 -4.0\n",
      "0.0 6.0\n"
     ]
    }
   ],
   "source": [
    "# create a function that row and columns arguments of matrix\n",
    "def create_matrix(rows, columns):\n",
    "    matrix = []\n",
    "    \n",
    "#  traverse row using for loop\n",
    "    for i in range(rows):\n",
    "        row = []\n",
    "        \n",
    "#   traverse or iterate columns using for loop\n",
    "        for j in range(columns):\n",
    "            element = float(input(f\"Enter the element at row {i + 1} and column {j + 1}: \"))\n",
    "            row.append(element)\n",
    "        matrix.append(row)\n",
    "    return matrix\n",
    "\n",
    "# define function for display matrics\n",
    "def print_matrix(matrix):\n",
    "    for row in matrix:\n",
    "        print(\" \".join(map(str, row)))\n",
    "\n",
    "        \n",
    "#  create function for addition of matricx\n",
    "def add_matrices(matrix1, matrix2):\n",
    "    if len(matrix1) != len(matrix2) or len(matrix1[0]) != len(matrix2[0]):\n",
    "        return None\n",
    "    result = []\n",
    "    for i in range(len(matrix1)):\n",
    "        row = []\n",
    "        for j in range(len(matrix1[0])):\n",
    "            row.append(matrix1[i][j] + matrix2[i][j])\n",
    "        result.append(row)\n",
    "    return result\n",
    "\n",
    "\n",
    "# create function for substraction for matricx\n",
    "def subtract_matrices(matrix1, matrix2):\n",
    "    if len(matrix1) != len(matrix2) or len(matrix1[0]) != len(matrix2[0]):\n",
    "        return None\n",
    "    result = []\n",
    "    for i in range(len(matrix1)):\n",
    "        row = []\n",
    "        for j in range(len(matrix1[0])):\n",
    "            row.append(matrix1[i][j] - matrix2[i][j])\n",
    "        result.append(row)\n",
    "    return result\n",
    "\n",
    "# Get dimensions of the matrices\n",
    "rows = int(input(\"Enter the number of rows: \"))\n",
    "columns = int(input(\"Enter the number of columns: \"))\n",
    "\n",
    "# Create the first matrix\n",
    "print(\"Enter elements for the first matrix:\")\n",
    "matrix1 = create_matrix(rows, columns)\n",
    "\n",
    "# Create the second matrix\n",
    "print(\"Enter elements for the second matrix:\")\n",
    "matrix2 = create_matrix(rows, columns)\n",
    "\n",
    "# Perform matrix addition\n",
    "sum_matrix = add_matrices(matrix1, matrix2)\n",
    "if sum_matrix is not None:\n",
    "    print(\"Matrix addition result:\")\n",
    "    print_matrix(sum_matrix)\n",
    "else:\n",
    "    print(\"Matrix addition is not possible due to incompatible dimensions.\")\n",
    "\n",
    "# Perform matrix subtraction\n",
    "diff_matrix = subtract_matrices(matrix1, matrix2)\n",
    "if diff_matrix is not None:\n",
    "    print(\"Matrix subtraction result:\")\n",
    "    print_matrix(diff_matrix)\n",
    "else:\n",
    "    print(\"Matrix subtraction is not possible due to incompatible dimensions.\")\n"
   ]
  },
  {
   "cell_type": "markdown",
   "id": "c4af4cfa",
   "metadata": {},
   "source": [
    "Explanation:\n",
    "1. create a function that row and columns arguments of matrix\n",
    "2. iterates/traverse row and column using for loop\n",
    "3. define separate function for addition and substraction for matrics that pass two matrics as arguments\n",
    "4. finally enter row and columns through the user input using input() function\n",
    "5. call the function and dispaly your finall message"
   ]
  },
  {
   "cell_type": "markdown",
   "id": "ac1f7f61",
   "metadata": {},
   "source": [
    "# 33. Write a program that calculates the greatest common divisor (GCD) of two numbers using the Euclidean algorithm."
   ]
  },
  {
   "cell_type": "code",
   "execution_count": 5,
   "id": "ba98c10d",
   "metadata": {},
   "outputs": [
    {
     "name": "stdout",
     "output_type": "stream",
     "text": [
      "Enter the first number: 400\n",
      "Enter the second number: 16\n",
      "The GCD of 400 and 16 is: 16\n"
     ]
    }
   ],
   "source": [
    "# Function to calculate the GCD using the Euclidean algorithm\n",
    "def calculate_gcd(a, b):\n",
    "    while b:\n",
    "        a, b = b, a % b\n",
    "    # When 'b' becomes zero, the last non-zero remainder is the GCD.\n",
    "    return a\n",
    "\n",
    "# Get input from the user\n",
    "num1 = int(input(\"Enter the first number: \"))\n",
    "num2 = int(input(\"Enter the second number: \"))\n",
    "\n",
    "# Calculate the GCD\n",
    "gcd = calculate_gcd(num1, num2)\n",
    "\n",
    "# Display the result\n",
    "print(f\"The GCD of {num1} and {num2} is: {gcd}\")\n"
   ]
  },
  {
   "cell_type": "markdown",
   "id": "1089c906",
   "metadata": {},
   "source": [
    "Explanation:\n",
    "1. define Function to calculate the GCD using the Euclidean algorithm that pass two number as arguments\n",
    "2. the Euclidean algorithm works by repeatedly taking the remainder\n",
    "3. when 'a' is divided by 'b' and assigning 'b' to 'a' and the remainder to 'b'.\n",
    "4. When 'b' becomes zero, the last non-zero remainder is the GCD.\n",
    "5. Get input from the user using input() functin\n",
    "6. Calculate the GCD by call the above function\n",
    "7. Display the result using print() function"
   ]
  },
  {
   "cell_type": "markdown",
   "id": "bafb905b",
   "metadata": {},
   "source": [
    "# 34. Build a program that performs matrix multiplication using nested loops and conditional statements."
   ]
  },
  {
   "cell_type": "code",
   "execution_count": 10,
   "id": "5111f7eb",
   "metadata": {},
   "outputs": [
    {
     "name": "stdout",
     "output_type": "stream",
     "text": [
      "Enter the number of rows for the first matrix: 2\n",
      "Enter the number of columns for the first matrix: 2\n",
      "Enter the number of rows for the second matrix: 2\n",
      "Enter the number of columns for the second matrix: 2\n",
      "Enter elements for the first matrix:\n",
      "Enter the element at row 1 and column 1: 2\n",
      "Enter the element at row 1 and column 2: 4\n",
      "Enter the element at row 2 and column 1: 6\n",
      "Enter the element at row 2 and column 2: 8\n",
      "Enter elements for the second matrix:\n",
      "Enter the element at row 1 and column 1: 3\n",
      "Enter the element at row 1 and column 2: 5\n",
      "Enter the element at row 2 and column 1: 7\n",
      "Enter the element at row 2 and column 2: 9\n",
      "Matrix multiplication result:\n",
      "[34.0, 46.0]\n",
      "[74.0, 102.0]\n"
     ]
    }
   ],
   "source": [
    "def matrix_multiply(matrix1, matrix2):\n",
    "    # Check if matrix multiplication is possible\n",
    "    if len(matrix1[0]) != len(matrix2):\n",
    "        print(\"Matrix multiplication is not possible due to incompatible dimensions.\")\n",
    "        return None\n",
    "\n",
    "    # Initialize the result matrix with zeros\n",
    "    result = []\n",
    "    for i in range(len(matrix1)):\n",
    "        row = []\n",
    "        for j in range(len(matrix2[0])):\n",
    "            row.append(0)\n",
    "        result.append(row)\n",
    "\n",
    "    # Perform matrix multiplication\n",
    "    for i in range(len(matrix1)):\n",
    "        for j in range(len(matrix2[0])):\n",
    "            for k in range(len(matrix2)):\n",
    "                result[i][j] += matrix1[i][k] * matrix2[k][j]\n",
    "\n",
    "    return result\n",
    "\n",
    "# Get dimensions of the matrices\n",
    "rows1 = int(input(\"Enter the number of rows for the first matrix: \"))\n",
    "columns1 = int(input(\"Enter the number of columns for the first matrix: \"))\n",
    "\n",
    "rows2 = int(input(\"Enter the number of rows for the second matrix: \"))\n",
    "columns2 = int(input(\"Enter the number of columns for the second matrix: \"))\n",
    "\n",
    "# Check if matrix multiplication is possible\n",
    "if columns1 != rows2:\n",
    "    print(\"Matrix multiplication is not possible due to incompatible dimensions.\")\n",
    "else:\n",
    "    # Create the first matrix\n",
    "    print(\"Enter elements for the first matrix:\")\n",
    "    matrix1 = []\n",
    "    for i in range(rows1):\n",
    "        row = [float(input(f\"Enter the element at row {i + 1} and column {j + 1}: \")) for j in range(columns1)]\n",
    "        matrix1.append(row)\n",
    "\n",
    "    # Create the second matrix\n",
    "    print(\"Enter elements for the second matrix:\")\n",
    "    matrix2 = []\n",
    "    for i in range(rows2):\n",
    "        row = [float(input(f\"Enter the element at row {i + 1} and column {j + 1}: \")) for j in range(columns2)]\n",
    "        matrix2.append(row)\n",
    "\n",
    "    # Perform matrix multiplication\n",
    "    result_matrix = matrix_multiply(matrix1, matrix2)\n",
    "    if result_matrix:\n",
    "        print(\"Matrix multiplication result:\")\n",
    "        for row in result_matrix:\n",
    "            print(row)\n"
   ]
  },
  {
   "cell_type": "markdown",
   "id": "b236c1b3",
   "metadata": {},
   "source": [
    "Explanation:\n",
    "1. create functin to multiply matrixs\n",
    "2. initialize the matrix with zero\n",
    "3. multipication of two matrix\n",
    "4. take dimension of matrix from the user\n",
    "5. check that matrix multipication is possible of not\n",
    "6. create the first matrix and second matrix\n",
    "7. perform matrix multipication"
   ]
  },
  {
   "cell_type": "markdown",
   "id": "4de58828",
   "metadata": {},
   "source": [
    "# 35.  Create a program that simulates a basic text-based tic-tac-toe game against the computer."
   ]
  },
  {
   "cell_type": "code",
   "execution_count": 11,
   "id": "54c490bf",
   "metadata": {},
   "outputs": [
    {
     "name": "stdout",
     "output_type": "stream",
     "text": [
      "  |   |  \n",
      "---------\n",
      "  |   |  \n",
      "---------\n",
      "  |   |  \n",
      "Enter your move (1-9): 3\n",
      "  |   | X\n",
      "---------\n",
      "  |   |  \n",
      "---------\n",
      "  |   |  \n",
      "  |   | X\n",
      "---------\n",
      "  | O |  \n",
      "---------\n",
      "  |   |  \n",
      "Enter your move (1-9): 2\n",
      "  | X | X\n",
      "---------\n",
      "  | O |  \n",
      "---------\n",
      "  |   |  \n",
      "  | X | X\n",
      "---------\n",
      "  | O |  \n",
      "---------\n",
      "O |   |  \n",
      "Enter your move (1-9): 5\n",
      "Invalid move. Try again.\n",
      "  | X | X\n",
      "---------\n",
      "  | O |  \n",
      "---------\n",
      "O |   |  \n",
      "Enter your move (1-9): 8\n",
      "  | X | X\n",
      "---------\n",
      "  | O |  \n",
      "---------\n",
      "O | X |  \n",
      "  | X | X\n",
      "---------\n",
      "  | O |  \n",
      "---------\n",
      "O | X | O\n",
      "Enter your move (1-9): 9\n",
      "Invalid move. Try again.\n",
      "  | X | X\n",
      "---------\n",
      "  | O |  \n",
      "---------\n",
      "O | X | O\n",
      "Enter your move (1-9): 4\n",
      "  | X | X\n",
      "---------\n",
      "X | O |  \n",
      "---------\n",
      "O | X | O\n",
      "O | X | X\n",
      "---------\n",
      "X | O |  \n",
      "---------\n",
      "O | X | O\n",
      "You win!\n"
     ]
    }
   ],
   "source": [
    "import random\n",
    "\n",
    "# Initialize the game board\n",
    "board = [\" \" for _ in range(9)]\n",
    "\n",
    "# Function to display the Tic-Tac-Toe board\n",
    "def display_board(board):\n",
    "    print(f\"{board[0]} | {board[1]} | {board[2]}\")\n",
    "    print(\"---------\")\n",
    "    print(f\"{board[3]} | {board[4]} | {board[5]}\")\n",
    "    print(\"---------\")\n",
    "    print(f\"{board[6]} | {board[7]} | {board[8]}\")\n",
    "\n",
    "# Function to check if the game is over\n",
    "def is_game_over(board):\n",
    "    # Check for a win\n",
    "    for i in range(0, 9, 3):\n",
    "        if board[i] == board[i + 1] == board[i + 2] != \" \":\n",
    "            return True\n",
    "    for i in range(3):\n",
    "        if board[i] == board[i + 3] == board[i + 6] != \" \":\n",
    "            return True\n",
    "    if board[0] == board[4] == board[8] != \" \":\n",
    "        return True\n",
    "    if board[2] == board[4] == board[6] != \" \":\n",
    "        return True\n",
    "\n",
    "    # Check for a tie\n",
    "    if \" \" not in board:\n",
    "        return True\n",
    "\n",
    "    return False\n",
    "\n",
    "# Function to make the computer's move\n",
    "def computer_move(board):\n",
    "    available_moves = [i for i, cell in enumerate(board) if cell == \" \"]\n",
    "    if available_moves:\n",
    "        return random.choice(available_moves)\n",
    "    else:\n",
    "        return None\n",
    "\n",
    "# Main game loop\n",
    "player_symbol = \"X\"\n",
    "computer_symbol = \"O\"\n",
    "current_player = player_symbol\n",
    "\n",
    "while True:\n",
    "    display_board(board)\n",
    "\n",
    "    if current_player == player_symbol:\n",
    "        # Player's move\n",
    "        try:\n",
    "            player_move = int(input(\"Enter your move (1-9): \")) - 1\n",
    "            if 0 <= player_move < 9 and board[player_move] == \" \":\n",
    "                board[player_move] = player_symbol\n",
    "                current_player = computer_symbol\n",
    "            else:\n",
    "                print(\"Invalid move. Try again.\")\n",
    "        except ValueError:\n",
    "            print(\"Invalid input. Enter a number from 1 to 9.\")\n",
    "    else:\n",
    "        # Computer's move\n",
    "        computer_move_index = computer_move(board)\n",
    "        if computer_move_index is not None:\n",
    "            board[computer_move_index] = computer_symbol\n",
    "            current_player = player_symbol\n",
    "\n",
    "    if is_game_over(board):\n",
    "        display_board(board)\n",
    "        if any(symbol == player_symbol for symbol in board):\n",
    "            print(\"You win!\")\n",
    "        elif any(symbol == computer_symbol for symbol in board):\n",
    "            print(\"Computer wins!\")\n",
    "        else:\n",
    "            print(\"It's a tie!\")\n",
    "        break\n"
   ]
  },
  {
   "cell_type": "markdown",
   "id": "aa6280c3",
   "metadata": {},
   "source": [
    "Explanation:\n",
    "1. Initialize the game board and import random module\n",
    "2. Function to display the Tic-Tac-Toe board\n",
    "3. Function to check if the game is over,Check for a win, Check for a tie\n",
    "4. define function for computer move\n",
    "5. Main game loop, player move and computer\n",
    "6. finally dispaly your result"
   ]
  },
  {
   "cell_type": "markdown",
   "id": "17f84eb4",
   "metadata": {},
   "source": [
    "# 36. Write a program that generates Fibonacci numbers up to a specified term using iterative methods."
   ]
  },
  {
   "cell_type": "code",
   "execution_count": 23,
   "id": "7ce18f23",
   "metadata": {},
   "outputs": [
    {
     "name": "stdout",
     "output_type": "stream",
     "text": [
      "Enter the number of Fibonacci terms to generate: 5\n",
      "Fibonacci sequence up to term 5 :\n",
      "[0, 1, 1, 2, 3]\n"
     ]
    }
   ],
   "source": [
    "# create functin to create fibb number\n",
    "def generate_fibonacci(n):\n",
    "    # Initialize variables to store the first two Fibonacci numbers\n",
    "    fib_sequence = [0, 1]\n",
    "\n",
    "    # Generate the Fibonacci sequence up to the specified term\n",
    "    for i in range(2, n):\n",
    "        next_fib = fib_sequence[i-1] + fib_sequence[i-2]\n",
    "        fib_sequence.append(next_fib)\n",
    "\n",
    "    return fib_sequence\n",
    "\n",
    "# Get the number of terms from the user\n",
    "n = int(input(\"Enter the number of Fibonacci terms to generate: \"))\n",
    "\n",
    "# Check if the input is valid\n",
    "if n <= 0:\n",
    "    print(\"Please enter a positive integer.\")\n",
    "else:\n",
    "    # Generate and print the Fibonacci sequence\n",
    "    fibonacci_sequence = generate_fibonacci(n)\n",
    "    print(\"Fibonacci sequence up to term\", n, \":\")\n",
    "    print(fibonacci_sequence)\n"
   ]
  },
  {
   "cell_type": "markdown",
   "id": "84deceea",
   "metadata": {},
   "source": [
    "Explanation:\n",
    "1. create function to create fibbonacci number\n",
    "2. Initialize variables to store the first two Fibonacci numbers\n",
    "3. Generate the Fibonacci sequence up to the specified term\n",
    "4. Get the number of terms from the user\n",
    "5. Check if the input is valid using if() and else statement\n",
    "6. Generate and print the Fibonacci sequence using print() function"
   ]
  },
  {
   "cell_type": "markdown",
   "id": "c62c23ac",
   "metadata": {},
   "source": [
    "# 37.  Develop a program that calculates the nth term of the Fibonacci sequence using memoization."
   ]
  },
  {
   "cell_type": "code",
   "execution_count": 27,
   "id": "4603aca1",
   "metadata": {},
   "outputs": [
    {
     "name": "stdout",
     "output_type": "stream",
     "text": [
      "Enter the value of n to calculate the nth Fibonacci term: 4\n",
      "The 4th Fibonacci term is 3.\n"
     ]
    }
   ],
   "source": [
    "# Dictionary to store already calculated Fibonacci values\n",
    "fib_cache = {}\n",
    "\n",
    "def fibonacci(n):\n",
    "    # Check if the value is in the cache\n",
    "    if n in fib_cache:\n",
    "        return fib_cache[n]\n",
    "\n",
    "    # Calculate the nth Fibonacci number\n",
    "    if n == 0:\n",
    "        fib_cache[n] = 0\n",
    "    elif n == 1:\n",
    "        fib_cache[n] = 1\n",
    "    else:\n",
    "        fib_cache[n] = fibonacci(n - 1) + fibonacci(n - 2)\n",
    "\n",
    "    return fib_cache[n]\n",
    "\n",
    "# Get the value of n from the user\n",
    "n = int(input(\"Enter the value of n to calculate the nth Fibonacci term: \"))\n",
    "\n",
    "# Check if the input is valid\n",
    "if n < 0:\n",
    "    print(\"Please enter a non-negative integer.\")\n",
    "else:\n",
    "    # Calculate and print the nth Fibonacci term\n",
    "    result = fibonacci(n)\n",
    "    print(f\"The {n}th Fibonacci term is {result}.\")\n"
   ]
  },
  {
   "cell_type": "markdown",
   "id": "d1190e14",
   "metadata": {},
   "source": [
    "Explanation:\n",
    "1. Dictionary to store already calculated Fibonacci values\n",
    "2. Check if the value is in the cache\n",
    "3. Calculate the nth Fibonacci number\n",
    "4. Get the value of n from the user,Check if the input is valid\n",
    "5. finally display your result using print() function"
   ]
  },
  {
   "cell_type": "markdown",
   "id": "f9df0dff",
   "metadata": {},
   "source": [
    "# 38. Create a program that generates a calendar for a given month and year using conditional statements."
   ]
  },
  {
   "cell_type": "code",
   "execution_count": 4,
   "id": "bcdbdccb",
   "metadata": {},
   "outputs": [
    {
     "name": "stdout",
     "output_type": "stream",
     "text": [
      "Enter your month: 10\n",
      "Enter your year: 2023\n",
      "Calender for October 2023: \n",
      "    October 2023\n",
      "Mo Tu We Th Fr Sa Su\n",
      "                   1\n",
      " 2  3  4  5  6  7  8\n",
      " 9 10 11 12 13 14 15\n",
      "16 17 18 19 20 21 22\n",
      "23 24 25 26 27 28 29\n",
      "30 31\n",
      "\n"
     ]
    }
   ],
   "source": [
    "# import calendar module\n",
    "import calendar\n",
    "\n",
    "# take user input month and year\n",
    "month = int(input(\"Enter your month: \"))\n",
    "year = int(input(\"Enter your year: \"))\n",
    "\n",
    "\n",
    "# check that using if else and print calendar\n",
    "if 1>month>12:\n",
    "    print(\"Invalid , data\")\n",
    "else:\n",
    "    cal = calendar.month(year,month)\n",
    "    print(f\"Calender for {calendar.month_name[month]} {year}: \")\n",
    "    print(cal)"
   ]
  },
  {
   "cell_type": "markdown",
   "id": "68e78f6f",
   "metadata": {},
   "source": [
    "Explanation:\n",
    "1. We import the calendar module, which provides functions to work with calendars.\n",
    "2. We get user input for the year and month.\n",
    "3. We validate the input to ensure that the month is between 1 and 12.\n",
    "5. If the input is valid, we use the calendar.month function to generate and print the calendar for the specified year and\n",
    "   month"
   ]
  },
  {
   "cell_type": "markdown",
   "id": "8c378f30",
   "metadata": {},
   "source": [
    "# 39. Build a program that simulates a basic text-based blackjack game against the computer."
   ]
  },
  {
   "cell_type": "code",
   "execution_count": 6,
   "id": "e7ca23db",
   "metadata": {},
   "outputs": [
    {
     "name": "stdout",
     "output_type": "stream",
     "text": [
      "Player's hand: ['A', '7'], Value: 18\n",
      "Dealer's hand: 9, Value: ?\n",
      "Do you want to 'hit' or 'stand'? hit\n",
      "Player's hand: ['A', '7', 'Q'], Value: 18\n",
      "Do you want to 'hit' or 'stand'? hit\n",
      "Player's hand: ['A', '7', 'Q', '9'], Value: 27\n",
      "Player busts! Dealer wins.\n",
      "Do you want to 'hit' or 'stand'? hit\n",
      "Player's hand: ['A', '7', 'Q', '9', '8'], Value: 35\n",
      "Player busts! Dealer wins.\n",
      "Do you want to 'hit' or 'stand'? hit\n",
      "Player's hand: ['A', '7', 'Q', '9', '8', 'A'], Value: 36\n",
      "Player busts! Dealer wins.\n",
      "Do you want to 'hit' or 'stand'? stand\n",
      "Player's hand: ['A', '7', 'Q', '9', '8', 'A'], Value: 36\n",
      "Dealer's hand: ['9', '3', 'K'], Value: 22\n",
      "Dealer busts! Player wins.\n"
     ]
    }
   ],
   "source": [
    "import random\n",
    "\n",
    "# Define a function to calculate the hand value\n",
    "def calculate_hand_value(hand):\n",
    "    value = 0\n",
    "    num_aces = 0\n",
    "\n",
    "    for card in hand:\n",
    "        if card in ['K', 'Q', 'J']:\n",
    "            value += 10\n",
    "        elif card == 'A':\n",
    "            num_aces += 1\n",
    "            value += 11\n",
    "        else:\n",
    "            value += int(card)\n",
    "\n",
    "    while value > 21 and num_aces > 0:\n",
    "        value -= 10\n",
    "        num_aces -= 1\n",
    "\n",
    "    return value\n",
    "\n",
    "# Define the deck of cards\n",
    "deck = ['2', '3', '4', '5', '6', '7', '8', '9', '10', 'J', 'Q', 'K', 'A'] * 4\n",
    "\n",
    "# Shuffle the deck\n",
    "random.shuffle(deck)\n",
    "\n",
    "# Deal two cards to the player and two to the dealer\n",
    "player_hand = [deck.pop(), deck.pop()]\n",
    "dealer_hand = [deck.pop(), deck.pop()]\n",
    "\n",
    "# Show the initial hands\n",
    "print(f\"Player's hand: {player_hand}, Value: {calculate_hand_value(player_hand)}\")\n",
    "print(f\"Dealer's hand: {dealer_hand[0]}, Value: ?\")\n",
    "\n",
    "# Player's turn\n",
    "while True:\n",
    "    action = input(\"Do you want to 'hit' or 'stand'? \").lower()\n",
    "    if action == 'hit':\n",
    "        player_hand.append(deck.pop())\n",
    "        print(f\"Player's hand: {player_hand}, Value: {calculate_hand_value(player_hand)}\")\n",
    "        if calculate_hand_value(player_hand) > 21:\n",
    "            print(\"Player busts! Dealer wins.\")\n",
    "            exit()\n",
    "    elif action == 'stand':\n",
    "        break\n",
    "\n",
    "# Dealer's turn\n",
    "while calculate_hand_value(dealer_hand) < 17:\n",
    "    dealer_hand.append(deck.pop())\n",
    "\n",
    "# Show the final hands\n",
    "print(f\"Player's hand: {player_hand}, Value: {calculate_hand_value(player_hand)}\")\n",
    "print(f\"Dealer's hand: {dealer_hand}, Value: {calculate_hand_value(dealer_hand)}\")\n",
    "\n",
    "# Determine the winner\n",
    "if calculate_hand_value(dealer_hand) > 21:\n",
    "    print(\"Dealer busts! Player wins.\")\n",
    "elif calculate_hand_value(player_hand) > calculate_hand_value(dealer_hand):\n",
    "    print(\"Player wins!\")\n",
    "elif calculate_hand_value(player_hand) < calculate_hand_value(dealer_hand):\n",
    "    print(\"Dealer wins.\")\n",
    "else:\n",
    "    print(\"It's a tie!\")\n"
   ]
  },
  {
   "cell_type": "markdown",
   "id": "07c7c210",
   "metadata": {},
   "source": [
    "Explanation:\n",
    "1. We define a function calculate_hand_value to calculate the value of a hand, taking into account the special rules for Aces.\n",
    "2. We define a deck of cards, shuffle it, and deal two cards to the player and two cards to the dealer.\n",
    "3. The player's turn is implemented with a while loop. The player can choose to 'hit' (take another card) or 'stand' (end their    turn).\n",
    "4. The dealer's turn is implemented with another while loop. The dealer must draw cards until their hand value is at least 17.\n",
    "5. After both the player and dealer have played, the program determines the winner based on the hand values. The player wins if    the dealer busts (goes over 21), the player has a higher hand value, or it's a tie."
   ]
  },
  {
   "cell_type": "markdown",
   "id": "88c05a6f",
   "metadata": {},
   "source": [
    "# 40. Write a program that generates the prime factors of a given number using trial division"
   ]
  },
  {
   "cell_type": "code",
   "execution_count": 1,
   "id": "2bf52aa2",
   "metadata": {},
   "outputs": [
    {
     "name": "stdout",
     "output_type": "stream",
     "text": [
      "Enter a number to find its prime factors: 56\n",
      "The prime factors of 56 are: [2, 2, 2, 7]\n"
     ]
    }
   ],
   "source": [
    "def get_prime_factors(n):\n",
    "    factors = []\n",
    "    divisor = 2\n",
    "\n",
    "    while n > 1:\n",
    "        while n % divisor == 0:\n",
    "            factors.append(divisor)\n",
    "            n //= divisor\n",
    "        divisor += 1\n",
    "\n",
    "    return factors\n",
    "\n",
    "# Get input from the user\n",
    "number = int(input(\"Enter a number to find its prime factors: \"))\n",
    "\n",
    "# Check if the input is a positive integer\n",
    "if number < 2:\n",
    "    print(\"Prime factors are not defined for numbers less than 2.\")\n",
    "else:\n",
    "    prime_factors = get_prime_factors(number)\n",
    "    print(f\"The prime factors of {number} are: {prime_factors}\")\n"
   ]
  },
  {
   "cell_type": "markdown",
   "id": "f553c306",
   "metadata": {},
   "source": [
    "Explanation:\n",
    "1. We define a function get_prime_factors that takes an integer n as input.\n",
    "2. We initialize an empty list factors to store the prime factors and set the divisor to 2.\n",
    "3. We use a while loop to iterate through divisors starting from 2. If n is divisible by the current divisor, we append the        divisor to the factors list and divide n by the divisor. This process continues until n becomes 1.\n",
    "4. We get the number from the user.\n",
    "5. We check if the input is a positive integer greater than or equal to 2. If it's not, we inform the user that prime factors      are not defined for such numbers.\n",
    "6. If the input is valid, we call the get_prime_factors function to calculate and print the prime factors of the given number."
   ]
  }
 ],
 "metadata": {
  "kernelspec": {
   "display_name": "Python 3 (ipykernel)",
   "language": "python",
   "name": "python3"
  },
  "language_info": {
   "codemirror_mode": {
    "name": "ipython",
    "version": 3
   },
   "file_extension": ".py",
   "mimetype": "text/x-python",
   "name": "python",
   "nbconvert_exporter": "python",
   "pygments_lexer": "ipython3",
   "version": "3.11.4"
  }
 },
 "nbformat": 4,
 "nbformat_minor": 5
}
