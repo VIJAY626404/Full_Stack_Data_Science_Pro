{
 "cells": [
  {
   "cell_type": "markdown",
   "id": "6e654380",
   "metadata": {},
   "source": [
    "# Basic Question"
   ]
  },
  {
   "cell_type": "markdown",
   "id": "0b04f8b7",
   "metadata": {},
   "source": [
    "# 1.  Write a Python program to print the numbers from 1 to 10 using a `for` loop"
   ]
  },
  {
   "cell_type": "code",
   "execution_count": 2,
   "id": "7244cd91",
   "metadata": {},
   "outputs": [
    {
     "name": "stdout",
     "output_type": "stream",
     "text": [
      "1\n",
      "2\n",
      "3\n",
      "4\n",
      "5\n",
      "6\n",
      "7\n",
      "8\n",
      "9\n"
     ]
    }
   ],
   "source": [
    "# first things iterate number using for loop()\n",
    "for i in range(1,10):\n",
    "    \n",
    "# use range() function and finally display your result\n",
    "    print(i)"
   ]
  },
  {
   "cell_type": "markdown",
   "id": "f2ae25d3",
   "metadata": {},
   "source": [
    "Explanation:\n",
    "1. first things is iterate through the for loop() in given range data\n",
    "2. to traverse between range use range() function\n",
    "3. finally print your result"
   ]
  },
  {
   "cell_type": "markdown",
   "id": "95fec2de",
   "metadata": {},
   "source": [
    "# 2.  Create a program that calculates the sum of all numbers in a list using a `for` loop"
   ]
  },
  {
   "cell_type": "code",
   "execution_count": 13,
   "id": "d42b8542",
   "metadata": {},
   "outputs": [
    {
     "name": "stdout",
     "output_type": "stream",
     "text": [
      "Sum of all numbers in list is: 29\n"
     ]
    }
   ],
   "source": [
    "# first thing is create list using some element\n",
    "list1 = [2,4,6,8,9]\n",
    "\n",
    "# initialize a variable that can store value of sums\n",
    "sum = 0\n",
    "\n",
    "# iterate through the for loop() in list1 range\n",
    "for i in range(len(list1)):\n",
    "    \n",
    "# calculate your sum using\n",
    "    sum = sum +list1[i]\n",
    "    \n",
    "# finally display your result\n",
    "print(\"Sum of all numbers in list is:\", sum)"
   ]
  },
  {
   "cell_type": "markdown",
   "id": "0ce50e96",
   "metadata": {},
   "source": [
    "Explanation:\n",
    "1. first things is create list that can store some value\n",
    "2. initialize and declare a variable to store sum of all numbers in list\n",
    "3. then iterate your list using for loop() in range of list length\n",
    "4. range() function use for traverse list in range\n",
    "5. find sum element using sum + current element\n",
    "6. finally display your result using print() function"
   ]
  },
  {
   "cell_type": "markdown",
   "id": "c6fa8122",
   "metadata": {},
   "source": [
    "# 3. Write a program to print the characters of a string in reverse order using a `for` loop"
   ]
  },
  {
   "cell_type": "code",
   "execution_count": 39,
   "id": "fb7c4028",
   "metadata": {},
   "outputs": [
    {
     "name": "stdout",
     "output_type": "stream",
     "text": [
      "Character of reverse string is:  yajiv\n"
     ]
    }
   ],
   "source": [
    "# create your string\n",
    "str1 = \"vijay\"\n",
    "\n",
    "# create empty string\n",
    "reverse_str = \" \"\n",
    "\n",
    "# iterate string using for loop\n",
    "for char in reversed(str1):\n",
    "    \n",
    "# reverse your string\n",
    "    reverse_str += char\n",
    "    \n",
    "# finally display your result\n",
    "print(\"Character of reverse string is:\",reverse_str)\n",
    "   \n"
   ]
  },
  {
   "cell_type": "markdown",
   "id": "0194d00c",
   "metadata": {},
   "source": [
    "Explanation:\n",
    "1. firt thing is create your string\n",
    "2. create empty string \n",
    "3. iterate string using for loop() and reversed it\n",
    "4. before traversing the string we need to reverse it using reversed() method\n",
    "5. store all charactor in empty string variable\n",
    "6. finally display your result"
   ]
  },
  {
   "cell_type": "markdown",
   "id": "6b105cd3",
   "metadata": {},
   "source": [
    "# 4.  Develop a program that finds the factorial of a given number using a `for` loop."
   ]
  },
  {
   "cell_type": "code",
   "execution_count": 54,
   "id": "35cacac6",
   "metadata": {},
   "outputs": [
    {
     "name": "stdout",
     "output_type": "stream",
     "text": [
      "Enter your number:5\n",
      "120\n"
     ]
    }
   ],
   "source": [
    "# take user input integer value\n",
    "number = int(input(\"Enter your number:\"))\n",
    "\n",
    "# initialize and declare one variable to store value factorial\n",
    "fact = 1\n",
    "\n",
    "# check that number is equal to 0 or not\n",
    "if number == 0:\n",
    "    print(fact)\n",
    "    \n",
    "# iterate through the for loop\n",
    "for i in range(1,number+1):\n",
    "    fact *= i\n",
    "    \n",
    "# display your result\n",
    "print(fact)\n",
    "    "
   ]
  },
  {
   "cell_type": "markdown",
   "id": "7ffaf7ae",
   "metadata": {},
   "source": [
    "Explanation:\n",
    "1. first thing take user input that take integer value\n",
    "2. initialize and declare one varible like fact = 1,\n",
    "3. if entered integer value is zeor(0) then return 1\n",
    "4. if number is not equal to zero then iterate number through the for loop()\n",
    "5. calculate factorial using fact = fact*i\n",
    "6.\n",
    "display your result using print() function"
   ]
  },
  {
   "cell_type": "markdown",
   "id": "f6ca40c9",
   "metadata": {},
   "source": [
    "# 5.  Create a program to print the multiplication table of a given number using a `for` loop"
   ]
  },
  {
   "cell_type": "code",
   "execution_count": 72,
   "id": "da44cf8c",
   "metadata": {},
   "outputs": [
    {
     "name": "stdout",
     "output_type": "stream",
     "text": [
      "Enter your number is:5\n",
      "5 x 0 = 0\n",
      "5 x 1 = 5\n",
      "5 x 2 = 10\n",
      "5 x 3 = 15\n",
      "5 x 4 = 20\n",
      "5 x 5 = 25\n",
      "5 x 6 = 30\n",
      "5 x 7 = 35\n",
      "5 x 8 = 40\n",
      "5 x 9 = 45\n",
      "5 x 10 = 50\n"
     ]
    }
   ],
   "source": [
    "# take input from the user\n",
    "number = int(input(\"Enter your number is:\"))\n",
    "\n",
    "# declare a variable that can store value of multipicaiton\n",
    "mul = \" \"\n",
    "\n",
    "# iterate through the for loop() in specific range\n",
    "for i in range(11):\n",
    "    \n",
    "# calculated multipication table\n",
    "    mul = number*i\n",
    "    \n",
    "display your result\n",
    "    print(number,\"x\",i,\"=\",mul)\n",
    "    \n",
    "# increament value of i from 1\n",
    "    i = i+1"
   ]
  },
  {
   "cell_type": "markdown",
   "id": "e3062344",
   "metadata": {},
   "source": [
    "Explanation:\n",
    "1. take user input integer value\n",
    "2. declare a variable that can store value of multipicaiton\n",
    "3. iterate through the for loop() in specific range\n",
    "4. we can traverse from 1 to 10 using range() function\n",
    "5. calculated multipication table like "
   ]
  },
  {
   "cell_type": "markdown",
   "id": "c235180a",
   "metadata": {},
   "source": [
    "# 6. Write a program that counts the number of even and odd numbers in a list using a `for` loop"
   ]
  },
  {
   "cell_type": "code",
   "execution_count": 23,
   "id": "20510e1b",
   "metadata": {},
   "outputs": [
    {
     "ename": "IndexError",
     "evalue": "list index out of range",
     "output_type": "error",
     "traceback": [
      "\u001b[1;31m---------------------------------------------------------------------------\u001b[0m",
      "\u001b[1;31mIndexError\u001b[0m                                Traceback (most recent call last)",
      "Cell \u001b[1;32mIn[23], line 20\u001b[0m\n\u001b[0;32m     16\u001b[0m         odd_count \u001b[38;5;241m+\u001b[39m\u001b[38;5;241m=\u001b[39m \u001b[38;5;241m1\u001b[39m\n\u001b[0;32m     19\u001b[0m \u001b[38;5;66;03m# finally print your result\u001b[39;00m\n\u001b[1;32m---> 20\u001b[0m \u001b[38;5;28mprint\u001b[39m(\u001b[38;5;124m\"\u001b[39m\u001b[38;5;124mEven number in given list is:\u001b[39m\u001b[38;5;124m\"\u001b[39m,even_count,list1[i])\n\u001b[0;32m     21\u001b[0m \u001b[38;5;28mprint\u001b[39m(\u001b[38;5;124m\"\u001b[39m\u001b[38;5;124mOdd number in given list is:\u001b[39m\u001b[38;5;124m\"\u001b[39m,odd_count)\n",
      "\u001b[1;31mIndexError\u001b[0m: list index out of range"
     ]
    }
   ],
   "source": [
    "# first things is create list with some element\n",
    "list1 = [1,2,3,4,5,8,10,14,20]\n",
    "\n",
    "# initialzie and declare two variable for store even and odd count\n",
    "even_count = 0\n",
    "odd_count = 0\n",
    "\n",
    "# iterate through the for loop() given list\n",
    "for i in list1:\n",
    "    \n",
    "    \n",
    "# check that element of list is even or not\n",
    "    if i%2 == 0 :\n",
    "        even_count += 1\n",
    "    else :\n",
    "        odd_count += 1\n",
    "        \n",
    "        \n",
    "# finally print your result\n",
    "print(\"Even number in given list is:\",even_count)\n",
    "print(\"Odd number in given list is:\",odd_count)"
   ]
  },
  {
   "cell_type": "markdown",
   "id": "75cdadce",
   "metadata": {},
   "source": [
    "Explanation:\n",
    "1. first things is create list with some element\n",
    "2. initialzie and declare two variable for store even and odd count like that even_count and odd_count\n",
    "3. iterate through the for loop() given list check that element of list is even or odd\n",
    "4. for even number check that number%2 == 0 , then increase even_count from 1. otherwise increase odd_count from 1.\n",
    "5. finally display your result using print() function"
   ]
  },
  {
   "cell_type": "markdown",
   "id": "78f96674",
   "metadata": {},
   "source": [
    "# 7. Develop a program that prints the squares of numbers from 1 to 5 using a `for` loop"
   ]
  },
  {
   "cell_type": "code",
   "execution_count": 29,
   "id": "9024a765",
   "metadata": {},
   "outputs": [
    {
     "name": "stdout",
     "output_type": "stream",
     "text": [
      "1\n",
      "4\n",
      "9\n",
      "16\n",
      "25\n"
     ]
    }
   ],
   "source": [
    "# create function that take integer value as input\n",
    "def print_square(n):\n",
    "    \n",
    "# iterate through the for loop() in range(1,n)\n",
    "    for i in range(1,n+1):\n",
    "        \n",
    "# finally display our result\n",
    "        print(i*i)\n",
    "    \n",
    "# call the function  \n",
    "print_square(5)"
   ]
  },
  {
   "cell_type": "markdown",
   "id": "2ce2215d",
   "metadata": {},
   "source": [
    "Explanation:\n",
    "1. create function that take integer value as input\n",
    "2. iterate through the for loop() in range(1,n) using range() function\n",
    "3. finally display our result using print() function"
   ]
  },
  {
   "cell_type": "markdown",
   "id": "dc624adb",
   "metadata": {},
   "source": [
    "# 8.  Create a program to find the length of a string without using the `len()` function."
   ]
  },
  {
   "cell_type": "code",
   "execution_count": 39,
   "id": "eaedebf0",
   "metadata": {},
   "outputs": [
    {
     "name": "stdout",
     "output_type": "stream",
     "text": [
      "Length of my string is: 5\n"
     ]
    }
   ],
   "source": [
    "# create your string \n",
    "str1 = \"vijay\"\n",
    "\n",
    "# initialize and declare length of string with 0\n",
    "str1_length = 0\n",
    "\n",
    "# iterate string through the for loop()\n",
    "for i in str1:\n",
    "    \n",
    "# check that string is alphabatical or not\n",
    "    if i.isalpha():\n",
    "        \n",
    "# if yes , then increase string length from 1\n",
    "        str1_length += 1\n",
    "    \n",
    "# finally display your result\n",
    "print(\"Length of my string is:\",str1_length)\n"
   ]
  },
  {
   "cell_type": "markdown",
   "id": "78b21679",
   "metadata": {},
   "source": [
    "Explanation:\n",
    "1. create your string \n",
    "2. initialize and declare length of string 0 \n",
    "3. iterate string through the for loop() and traverse each element\n",
    "4. check that string is alphabatical or not using isalpha() function\n",
    "5. if yes , then increase string length from 1\n",
    "6. finally display your result"
   ]
  },
  {
   "cell_type": "markdown",
   "id": "d1a23dff",
   "metadata": {},
   "source": [
    "# 9. Write a program that calculates the average of a list of numbers using a `for` loop"
   ]
  },
  {
   "cell_type": "code",
   "execution_count": 41,
   "id": "fb35ae91",
   "metadata": {},
   "outputs": [
    {
     "name": "stdout",
     "output_type": "stream",
     "text": [
      "Average of my string is: 3.0\n"
     ]
    }
   ],
   "source": [
    "# first things is create list with some element\n",
    "list1 = [1,2,3,4,5]\n",
    "\n",
    "# initialize and declare variable called sum_of_element to find average of list\n",
    "sum_of_element = 0\n",
    "\n",
    "# traverse list through the for loop() \n",
    "for i in list1:\n",
    "    \n",
    "# calculate the sum of element\n",
    "    sum_of_element += i\n",
    "    \n",
    "# calculate average using formula = sum of total element/number of element\n",
    "average_value = sum_of_element/len(list1)\n",
    "\n",
    "# finally dispaly your result\n",
    "print(\"Average of my string is:\",average_value)"
   ]
  },
  {
   "cell_type": "markdown",
   "id": "4d107c27",
   "metadata": {},
   "source": [
    "Explanation:\n",
    "1. first things is create list with some element\n",
    "2. initialize and declare variable called sum_of_element to find average of list\n",
    "3. traverse list through the for loop() \n",
    "4. calculate the sum of element , \n",
    "5. calculate average using formula = sum of total element/number of element\n",
    "6. finally dispaly your result using print() function"
   ]
  },
  {
   "cell_type": "markdown",
   "id": "d55f14e0",
   "metadata": {},
   "source": [
    "# 10.  Develop a program that prints the first `n` Fibonacci numbers using a `for` loop"
   ]
  },
  {
   "cell_type": "code",
   "execution_count": 69,
   "id": "623454db",
   "metadata": {},
   "outputs": [
    {
     "data": {
      "text/plain": [
       "[0, 1, 1, 2, 3]"
      ]
     },
     "execution_count": 69,
     "metadata": {},
     "output_type": "execute_result"
    }
   ],
   "source": [
    "# create function that take integer value as input\n",
    "def fibonacci(n):\n",
    "    \n",
    "# create empty list\n",
    "    fib_list = []\n",
    "    \n",
    "# Initialize the first two Fibonacci numbers\n",
    "    a, b = 0, 1\n",
    "    \n",
    "# Check if n is less than or equal to 0\n",
    "    if n <= 0:\n",
    "        return fib_list\n",
    "    \n",
    "# Add the first Fibonacci number (0) to the list\n",
    "    fib_list.append(a)\n",
    "    \n",
    "# If n is 1, we're done\n",
    "    if n == 1:\n",
    "        return fib_list\n",
    "    \n",
    "# Use a for loop to generate the remaining Fibonacci numbers\n",
    "    for _ in range(1, n):\n",
    "        a, b = b, a + b\n",
    "        fib_list.append(a)\n",
    "    \n",
    "    return fib_list\n",
    "\n",
    "#  function call\n",
    "fibonacci(5)"
   ]
  },
  {
   "cell_type": "markdown",
   "id": "bff872c2",
   "metadata": {},
   "source": [
    "Explanation:\n",
    "1. create function that take integer value as input\n",
    "2. create empty list\n",
    "3. Initialize the first two Fibonacci numbers\n",
    "4. Check if n is less than or equal to 0\n",
    "5. Add the first Fibonacci number (0) to the list\n",
    "6. If n is 1, we're done\n",
    "7. Use a for loop to generate the remaining Fibonacci numbers"
   ]
  },
  {
   "cell_type": "markdown",
   "id": "f178c546",
   "metadata": {},
   "source": [
    "# Intermediate Level Question"
   ]
  },
  {
   "cell_type": "markdown",
   "id": "cda169e6",
   "metadata": {},
   "source": [
    "# 11.  Write a program to check if a given list contains any duplicates using a `for` loop."
   ]
  },
  {
   "cell_type": "code",
   "execution_count": 107,
   "id": "d6e4f63c",
   "metadata": {},
   "outputs": [
    {
     "name": "stdout",
     "output_type": "stream",
     "text": [
      "Yes, My List is contains duplicates\n"
     ]
    }
   ],
   "source": [
    "# create a function that take input as a list\n",
    "def duplicate_list(input_list1):\n",
    "\n",
    "# iterate list through the for loop()\n",
    "    for i in range(len(input_list1)):\n",
    "        for j in range(i+1 ,len(input_list1)):\n",
    "            \n",
    "# check that list is duplicate or not\n",
    "            if input_list1[i] == input_list1[j]:\n",
    "                return True\n",
    "    \n",
    "    return False\n",
    "\n",
    "#  Example   \n",
    "list1 = [2,4,5,7,8,5]\n",
    "if(duplicate_list(list1)):\n",
    "    print(\"Yes, My List is contains duplicates\")\n",
    "else:\n",
    "    print(\"Not contain duplicates\")"
   ]
  },
  {
   "cell_type": "markdown",
   "id": "676f184a",
   "metadata": {},
   "source": [
    "Exmplanation:\n",
    "1. create a function that take input as a list\n",
    "2. iterate list through the for loop() inside for loop() called nested loop\n",
    "3. check that list is  contains duplicate or not using if condition\n",
    "4. the return True or False"
   ]
  },
  {
   "cell_type": "markdown",
   "id": "c8bda1c6",
   "metadata": {},
   "source": [
    "# 12. Create a program that prints the prime numbers in a given range using a `for` loop"
   ]
  },
  {
   "cell_type": "code",
   "execution_count": 15,
   "id": "b2459ac3",
   "metadata": {},
   "outputs": [
    {
     "name": "stdout",
     "output_type": "stream",
     "text": [
      "Enter the final range of prime numbers10\n",
      "Prime value in range 10 is:\n",
      "2\n",
      "3\n",
      "5\n",
      "7\n"
     ]
    }
   ],
   "source": [
    "# first things is create function that take integer value\n",
    "def check_prime(n):\n",
    "    \n",
    "# initialize empty list    \n",
    "    primes = []\n",
    "    \n",
    "# iterate through the for loop in specific range\n",
    "    for i in range(2,n+1):\n",
    "        \n",
    "# declare boolean type variable\n",
    "        is_prime = True\n",
    "    \n",
    "# again iterate through the for loop in n/2 range\n",
    "        for j in range(2,int(i**0.5) + 1):\n",
    "        \n",
    "# then check that data are prime number or not\n",
    "            if i%j == 0:\n",
    "                is_prime = False\n",
    "                break\n",
    "        if is_prime:\n",
    "            primes.append(i)\n",
    "            \n",
    "# display the prime numbers\n",
    "    for prime in primes:\n",
    "        print(prime)\n",
    "            \n",
    "num = int(input(\"Enter the final range of prime numbers\"))\n",
    "print(\"Prime value in range\",num,\"is:\")\n",
    "check_prime(num)"
   ]
  },
  {
   "cell_type": "markdown",
   "id": "6c71df19",
   "metadata": {},
   "source": [
    "Explanation:\n",
    "1. first things is create function that take integer value\n",
    "2. initialize empty list which not have any element\n",
    "3. iterate through the for loop in specific range using range() function\n",
    "4. declare boolean type variable and initialize with boolean value\n",
    "5. again iterate through the for loop in n/2 range\n",
    "6. then check that data are prime number or not\n",
    "7. finally display your result \n"
   ]
  },
  {
   "cell_type": "markdown",
   "id": "1010c87c",
   "metadata": {},
   "source": [
    "# 13. . Develop a program that counts the number of vowels in a string using a `for` loop."
   ]
  },
  {
   "cell_type": "code",
   "execution_count": null,
   "id": "91763414",
   "metadata": {},
   "outputs": [],
   "source": [
    "# create a string \n",
    "str1 = \"Barkatullah University\"\n",
    "\n",
    "# initialize and declare variable to store count value of vowel\n",
    "count = 0\n",
    "\n",
    "# define one string that contains vowels\n",
    "vowel = \"aeiou\"\n",
    "\n",
    "# iterate string using for loop\n",
    "for i in str1:\n",
    "    \n",
    "# check that element of string in vowel or not \n",
    "    if i in vowel:\n",
    "        \n",
    "# if vowel found then increase the count value from 1\n",
    "        count += 1\n",
    "    \n",
    "# finall print your result\n",
    "print(\"Number of vowel in string is:\",count)"
   ]
  },
  {
   "cell_type": "markdown",
   "id": "f18bea06",
   "metadata": {},
   "source": [
    "Explanation: \n",
    "1.first things is define string \n",
    "2. initialize and declare variable to store count value of vowel \n",
    "3. define one string that contains vowels like a,e, i, u \n",
    "4. iterate string through the for loop() and check that element of string contain vowels or not \n",
    "5. if yes, then increament the value of count from 1 \n",
    "6. finally dispaly your result"
   ]
  },
  {
   "cell_type": "markdown",
   "id": "045f7716",
   "metadata": {},
   "source": [
    "# 14.  Write a program to find the maximum element in a 2D list using a nested `for` loop"
   ]
  },
  {
   "cell_type": "code",
   "execution_count": 49,
   "id": "f79bdd68",
   "metadata": {},
   "outputs": [
    {
     "name": "stdout",
     "output_type": "stream",
     "text": [
      "Maximum element in 2d list is: 256\n"
     ]
    }
   ],
   "source": [
    "# create a list that contains some element\n",
    "list1 = [[2,4,9,16,25],[9,10,3,7],[27,256]]\n",
    "\n",
    "# initialize an declare variable for store maximum value from list\n",
    "max_value = list1[0][0]\n",
    "\n",
    "# iterate list through the for loop using nested loop means loop inside loop\n",
    "for i in range(len(list1)):\n",
    "    for j in range(len(list1[i])):\n",
    "        \n",
    "# check element of list1 is greater then max value if yes, then update the value of max\n",
    "        if list1[i][j]>max_value:\n",
    "            max_value = list1[i][j]\n",
    "            \n",
    "# finally display the max value list\n",
    "print(\"Maximum element in 2d list is:\",max_value)\n",
    "            \n",
    "        \n",
    "\n"
   ]
  },
  {
   "cell_type": "markdown",
   "id": "5598dd3d",
   "metadata": {},
   "source": [
    "Explanation:\n",
    "1.create a list that contains some element \n",
    "2.initialize an declare variable for store maximum value from list\n",
    "3.iterate list through the for loop using nested loop means loop inside loop\n",
    "4.check element of list1 is greater then max value if yes, then update the value of max\n",
    "5.finally display the max value list"
   ]
  },
  {
   "cell_type": "markdown",
   "id": "21132961",
   "metadata": {},
   "source": [
    "# 15.  Create a program that removes all occurrences of a specific element from a list using a `for` loop"
   ]
  },
  {
   "cell_type": "code",
   "execution_count": 97,
   "id": "445c6044",
   "metadata": {},
   "outputs": [
    {
     "name": "stdout",
     "output_type": "stream",
     "text": [
      "After remove occurrence of 4 my final list is: [1, 2, 3, 5, 3, 2, 2, 6]\n"
     ]
    }
   ],
   "source": [
    "#  define the function that can take list and one integer value\n",
    "def remove_occurrence(list1,value):\n",
    "    \n",
    "# create new list that can store element after remove occurence of specific element from list\n",
    "    new_list = []\n",
    "    \n",
    "# iterate through the for loop a list\n",
    "    for i in list1:\n",
    "        \n",
    "# check that if element and value is equal or not\n",
    "        if i!=value:\n",
    "\n",
    "# if no, then we can append this element in new_list\n",
    "            new_list.append(i)\n",
    "    \n",
    "# finally return a list\n",
    "    return new_list\n",
    "\n",
    "# call the function\n",
    "my_list = [1,2,3,4,5,4,4,3,2,2,6]\n",
    "final_list = remove_occurrence(my_list,4)\n",
    "print(\"After remove occurrence of\",4,\"my final list is:\",final_list)\n",
    "    "
   ]
  },
  {
   "cell_type": "markdown",
   "id": "2cbe82c8",
   "metadata": {},
   "source": [
    "Explanation:\n",
    "1.define the function that can take list and one integer value\n",
    "2.create new list that can store element after remove occurence of specific element from list\n",
    "3.iterate through the for loop a list\n",
    "4.check that if element and value is equal or not\n",
    "5.if no, then we can append this element in new_list using append() function\n",
    "6.finally return a list"
   ]
  },
  {
   "cell_type": "markdown",
   "id": "4a622856",
   "metadata": {},
   "source": [
    "# 16. Develop a program that generates a multiplication table for numbers from 1 to 5 using a nested `for` loop."
   ]
  },
  {
   "cell_type": "code",
   "execution_count": 115,
   "id": "d15faf0e",
   "metadata": {},
   "outputs": [
    {
     "name": "stdout",
     "output_type": "stream",
     "text": [
      "Enter number which you want to generates multipication table :5\n",
      "My mulitpication talbe of 5 is:\n",
      "1 x 1 = 1 , 2 x 1 = 2 , 3 x 1 = 3 , 4 x 1 = 4 , 5 x 1 = 5 , \n",
      "1 x 2 = 2 , 2 x 2 = 4 , 3 x 2 = 6 , 4 x 2 = 8 , 5 x 2 = 10 , \n",
      "1 x 3 = 3 , 2 x 3 = 6 , 3 x 3 = 9 , 4 x 3 = 12 , 5 x 3 = 15 , \n",
      "1 x 4 = 4 , 2 x 4 = 8 , 3 x 4 = 12 , 4 x 4 = 16 , 5 x 4 = 20 , \n",
      "1 x 5 = 5 , 2 x 5 = 10 , 3 x 5 = 15 , 4 x 5 = 20 , 5 x 5 = 25 , \n"
     ]
    }
   ],
   "source": [
    "# take user input as integer value\n",
    "number = int(input(\"Enter number which you want to generates multipication table :\"))\n",
    "\n",
    "# initialize and declare one variable that can find multipication of entered number\n",
    "mul = 1\n",
    "\n",
    "# check that if number is not integer then, return something else\n",
    "if number<0:\n",
    "    print(\"Invalid integer\")\n",
    "print(\"My mulitpication talbe of\",number,\"is:\")\n",
    "\n",
    "# iterate through the for loop in specific range from 1 to 10\n",
    "for i in range(1,6):\n",
    "    for j in range(1,number+1):\n",
    "        \n",
    "# calculated your table\n",
    "        mul = i*j\n",
    "    \n",
    "# finally display your result\n",
    "        print(j,\"x\",i,\"=\",mul,end = \" , \")\n",
    "    print()\n",
    "\n",
    "    "
   ]
  },
  {
   "cell_type": "markdown",
   "id": "2d7e2c3e",
   "metadata": {},
   "source": [
    "Explanation:\n",
    "1. take user input as integer value\n",
    "2. initialize and declare one variable that can find multipication of entered number like mul =1\n",
    "3. check that if number is not integer then, return something else\n",
    "4. iterate through the for loop in specific range from 1 to 10\n",
    "5. and inside loop we can iterate or traverse from 1 to 5\n",
    "6. calculated your table\n",
    "7. finall display your result"
   ]
  },
  {
   "cell_type": "markdown",
   "id": "49e26b39",
   "metadata": {},
   "source": [
    "# 17. Write a program that converts a list of Fahrenheit temperatures to Celsius using a `for` loop."
   ]
  },
  {
   "cell_type": "code",
   "execution_count": 117,
   "id": "2ed4b6d9",
   "metadata": {},
   "outputs": [
    {
     "name": "stdout",
     "output_type": "stream",
     "text": [
      "My final list is: [37.77777777777778, 10.277777777777779, 48.888888888888886, 93.33333333333333]\n"
     ]
    }
   ],
   "source": [
    "# first things is create fahrenheith list\n",
    "fahrenheit_list= [ 100,50.5,120,200]\n",
    "\n",
    "# create empty list that can store celsius list\n",
    "celsius_list = []\n",
    "\n",
    "# iterate through the for loop , my fahrenheit loop\n",
    "for i in fahrenheit_list:\n",
    "    \n",
    "# and convert your list fahrenheit into celsius list using formula\n",
    "    convert_value =  (i - 32)*5/9\n",
    "    \n",
    "# after convert list , we can append new list in celsius_list using append() function\n",
    "    celsius_list.append(convert_value)\n",
    "    \n",
    "# finally display your result\n",
    "print(\"My final list is:\",celsius_list)\n",
    "    \n",
    "    "
   ]
  },
  {
   "cell_type": "markdown",
   "id": "77f0085d",
   "metadata": {},
   "source": [
    "Explanation\n",
    "1. first things is create fahrenheith list\n",
    "2. create empty list that can store celsius list\n",
    "3. iterate through the for loop , my fahrenheit loop\n",
    "4. and convert your list fahrenheit into celsius list using formula\n",
    "5. after convert list , we can append new list in celsius_list using append() function\n",
    "6. finally display your result"
   ]
  },
  {
   "cell_type": "markdown",
   "id": "79aef882",
   "metadata": {},
   "source": [
    "# 18.  Create a program to print the common elements from two lists using a `for` loop."
   ]
  },
  {
   "cell_type": "code",
   "execution_count": 3,
   "id": "cf89a659",
   "metadata": {},
   "outputs": [
    {
     "name": "stdout",
     "output_type": "stream",
     "text": [
      "My common list is: [1, 7, 11]\n"
     ]
    }
   ],
   "source": [
    "# create two different list like list1 and list2\n",
    "list1 = [1,3,5,7,9,11,15,17,19]\n",
    "list2 = [1,2,4,6,7,11,8,10,12]\n",
    "\n",
    "# initialize and declare one common list for store common element in given list\n",
    "common_list = []\n",
    "\n",
    "# iterate through the for loop list1\n",
    "for i in list1 :\n",
    "    \n",
    "# again iterate through the for loop in list2\n",
    "    for j in list2:\n",
    "        \n",
    "# check that element of list1 and list2 are equal or not \n",
    "        if i == j:\n",
    "            \n",
    "# if yes, then append  common element in common list using append() function\n",
    "            common_list.append(i)\n",
    "    \n",
    "# finally display your result\n",
    "print(\"My common element from given list is:\",common_list)"
   ]
  },
  {
   "cell_type": "markdown",
   "id": "db74c6d1",
   "metadata": {},
   "source": [
    "Explanation:\n",
    "1.create two different list like list1 and list2\n",
    "2.initialize and declare one common list for store common element in given list\n",
    "3.iterate through the for loop list1\n",
    "4.again iterate through the for loop in list2\n",
    "5.check that element of list1 and list2 are equal or not \n",
    "6.if yes, then append  common element in common list using append() function\n",
    "7.finally display your result using print() function"
   ]
  },
  {
   "cell_type": "markdown",
   "id": "56bd15dc",
   "metadata": {},
   "source": [
    "# 19. Develop a program that prints the pattern of right-angled triangles using a `for` loop. Use ‘*’ to draw the pattern"
   ]
  },
  {
   "cell_type": "code",
   "execution_count": 14,
   "id": "a6feb11d",
   "metadata": {},
   "outputs": [
    {
     "name": "stdout",
     "output_type": "stream",
     "text": [
      "Enter number of lines:5\n",
      "* \n",
      "* * \n",
      "* * * \n",
      "* * * * \n",
      "* * * * * \n"
     ]
    }
   ],
   "source": [
    "# take user input integer value ,\n",
    "number_ofLine = int(input(\"Enter number of rows:\"))\n",
    "\n",
    "# iterate number of rows through the for loop()\n",
    "for i in range(0,number_ofLine):\n",
    "    \n",
    "# irerate number of column through the for loop()\n",
    "    for j in range(0,i+1):\n",
    "        \n",
    "# print the '*' to make right angle angled triangles\n",
    "        print(\"*\",end = \" \")\n",
    "    print()\n",
    "   \n"
   ]
  },
  {
   "cell_type": "markdown",
   "id": "0312d279",
   "metadata": {},
   "source": [
    "Explanation:\n",
    "1. take input as integer value from user as form of number of rows\n",
    "2. iterate number of rows through the for loop()\n",
    "3. irerate number of column through the for loop(), here we need to check that number of rows and column in triangle\n",
    "4. here number of column mean j = i+1\n",
    "5. print the '*' to make right angle angled triangles"
   ]
  },
  {
   "cell_type": "markdown",
   "id": "4f96ad7a",
   "metadata": {},
   "source": [
    "# 20. Write a program to find the greatest common divisor (GCD) of two numbers using a `for` loop."
   ]
  },
  {
   "cell_type": "code",
   "execution_count": 11,
   "id": "784db946",
   "metadata": {},
   "outputs": [
    {
     "name": "stdout",
     "output_type": "stream",
     "text": [
      "Enter your first number:75\n",
      "Enter your second number:15\n",
      "15\n"
     ]
    }
   ],
   "source": [
    "# take two number as a input from the user\n",
    "num1 = int(input(\"Enter your first number:\"))\n",
    "num2 = int(input(\"Enter your second number:\"))\n",
    "\n",
    "# use while loop until num1 is not equal to 0\n",
    "while num2!=0:\n",
    "    \n",
    "# calculated gcd(num1,num2)\n",
    "    num1,num2 = num2, num1%num2\n",
    "    \n",
    "# finally display your result\n",
    "    print(num1)"
   ]
  },
  {
   "cell_type": "markdown",
   "id": "60fe05d8",
   "metadata": {},
   "source": [
    "Explanation:\n",
    "1. take two number as a input from the user\n",
    "2. use while loop until num1 is not equal to 0\n",
    "3. calculated gcd(num1,num2)\n",
    "4. finally display your result"
   ]
  },
  {
   "cell_type": "markdown",
   "id": "1450fdb0",
   "metadata": {},
   "source": [
    "#  Advanced Level:"
   ]
  },
  {
   "cell_type": "markdown",
   "id": "40f892c6",
   "metadata": {},
   "source": [
    "# 21. Create a program that calculates the sum of the digits of numbers in a list using a list comprehension\n"
   ]
  },
  {
   "cell_type": "code",
   "execution_count": 10,
   "id": "66a6caac",
   "metadata": {},
   "outputs": [
    {
     "ename": "TypeError",
     "evalue": "'int' object is not callable",
     "output_type": "error",
     "traceback": [
      "\u001b[1;31m---------------------------------------------------------------------------\u001b[0m",
      "\u001b[1;31mTypeError\u001b[0m                                 Traceback (most recent call last)",
      "Cell \u001b[1;32mIn[10], line 12\u001b[0m\n\u001b[0;32m     10\u001b[0m \u001b[38;5;66;03m# Example usage\u001b[39;00m\n\u001b[0;32m     11\u001b[0m number_list \u001b[38;5;241m=\u001b[39m [\u001b[38;5;241m123\u001b[39m, \u001b[38;5;241m456\u001b[39m, \u001b[38;5;241m789\u001b[39m]\n\u001b[1;32m---> 12\u001b[0m \u001b[38;5;28mprint\u001b[39m(sum_of_digits_in_list(number_list))\n",
      "Cell \u001b[1;32mIn[10], line 7\u001b[0m, in \u001b[0;36msum_of_digits_in_list\u001b[1;34m(numbers)\u001b[0m\n\u001b[0;32m      5\u001b[0m \u001b[38;5;28;01mdef\u001b[39;00m \u001b[38;5;21msum_of_digits_in_list\u001b[39m(numbers):\n\u001b[0;32m      6\u001b[0m     \u001b[38;5;66;03m# Use a list comprehension to calculate the sum of digits for each number in the list\u001b[39;00m\n\u001b[1;32m----> 7\u001b[0m     digit_sums \u001b[38;5;241m=\u001b[39m [digit_sum(number) \u001b[38;5;28;01mfor\u001b[39;00m number \u001b[38;5;129;01min\u001b[39;00m numbers]\n\u001b[0;32m      8\u001b[0m     \u001b[38;5;28;01mreturn\u001b[39;00m digit_sums\n",
      "Cell \u001b[1;32mIn[10], line 7\u001b[0m, in \u001b[0;36m<listcomp>\u001b[1;34m(.0)\u001b[0m\n\u001b[0;32m      5\u001b[0m \u001b[38;5;28;01mdef\u001b[39;00m \u001b[38;5;21msum_of_digits_in_list\u001b[39m(numbers):\n\u001b[0;32m      6\u001b[0m     \u001b[38;5;66;03m# Use a list comprehension to calculate the sum of digits for each number in the list\u001b[39;00m\n\u001b[1;32m----> 7\u001b[0m     digit_sums \u001b[38;5;241m=\u001b[39m [digit_sum(number) \u001b[38;5;28;01mfor\u001b[39;00m number \u001b[38;5;129;01min\u001b[39;00m numbers]\n\u001b[0;32m      8\u001b[0m     \u001b[38;5;28;01mreturn\u001b[39;00m digit_sums\n",
      "Cell \u001b[1;32mIn[10], line 3\u001b[0m, in \u001b[0;36mdigit_sum\u001b[1;34m(number)\u001b[0m\n\u001b[0;32m      1\u001b[0m \u001b[38;5;28;01mdef\u001b[39;00m \u001b[38;5;21mdigit_sum\u001b[39m(number):\n\u001b[0;32m      2\u001b[0m     \u001b[38;5;66;03m# Calculate the sum of the digits in a number\u001b[39;00m\n\u001b[1;32m----> 3\u001b[0m     \u001b[38;5;28;01mreturn\u001b[39;00m \u001b[38;5;28msum\u001b[39m(\u001b[38;5;28mint\u001b[39m(digit) \u001b[38;5;28;01mfor\u001b[39;00m digit \u001b[38;5;129;01min\u001b[39;00m \u001b[38;5;28mstr\u001b[39m(number) \u001b[38;5;28;01mif\u001b[39;00m digit\u001b[38;5;241m.\u001b[39misdigit())\n",
      "\u001b[1;31mTypeError\u001b[0m: 'int' object is not callable"
     ]
    }
   ],
   "source": [
    "def digit_sum(number):\n",
    "    # Calculate the sum of the digits in a number\n",
    "    return sum(int(digit) for digit in str(number) if digit.isdigit())\n",
    "\n",
    "def sum_of_digits_in_list(numbers):\n",
    "    # Use a list comprehension to calculate the sum of digits for each number in the list\n",
    "    digit_sums = [digit_sum(number) for number in numbers]\n",
    "    return digit_sums\n",
    "\n",
    "# Example usage\n",
    "number_list = [123, 456, 789]\n",
    "print(sum_of_digits_in_list(number_list))\n",
    "# print(result)  # Output will be [6, 15, 24"
   ]
  },
  {
   "cell_type": "code",
   "execution_count": 8,
   "id": "3465d2f7",
   "metadata": {},
   "outputs": [
    {
     "name": "stdout",
     "output_type": "stream",
     "text": [
      "Enter your value: 12345\n",
      "sum of digit in given number is: 15\n"
     ]
    }
   ],
   "source": [
    "num = int(input(\"Enter your value: \"))\n",
    "sum = 0\n",
    "while(num>0):\n",
    "    \n",
    "    digit = num%10\n",
    "    sum += digit\n",
    "    num = num//10\n",
    "\n",
    "print(\"sum of digit in given number is:\",sum)"
   ]
  },
  {
   "cell_type": "markdown",
   "id": "5a45ef09",
   "metadata": {},
   "source": [
    "# 22. Write a program to find the prime factors of a given number using a `for` loop and list comprehension"
   ]
  },
  {
   "cell_type": "code",
   "execution_count": 53,
   "id": "97ac909a",
   "metadata": {},
   "outputs": [
    {
     "name": "stdout",
     "output_type": "stream",
     "text": [
      "Enter a number: 45\n",
      "Prime factors of 45 are: [3, 3, 5]\n"
     ]
    }
   ],
   "source": [
    "# Function to find prime factors of a number\n",
    "def prime_factors(n):\n",
    "    factors = []\n",
    "    # Divide n by 2 until it is even\n",
    "    while n % 2 == 0:\n",
    "        factors.append(2)\n",
    "        n //= 2\n",
    "    # Check odd factors\n",
    "    for i in range(3, int(n**0.5) + 1, 2):\n",
    "        while n % i == 0:\n",
    "            factors.append(i)\n",
    "            n //= i\n",
    "    # If n is a prime number greater than 2\n",
    "    if n > 2:\n",
    "        factors.append(n)\n",
    "    return factors\n",
    "\n",
    "# Input a number from the user\n",
    "num = int(input(\"Enter a number: \"))\n",
    "\n",
    "# Find prime factors using list comprehension\n",
    "factors = prime_factors(num)\n",
    "\n",
    "# Print the prime factors\n",
    "print(f\"Prime factors of {num} are: {factors}\")\n"
   ]
  },
  {
   "cell_type": "markdown",
   "id": "d4e3635e",
   "metadata": {},
   "source": [
    "Explanation:\n",
    "1.Function to find prime factors of a number\n",
    "2.Divide n by 2 until it is even\n",
    "3.Check odd factors\n",
    "4.If n is a prime number greater than 2\n",
    "5.Find prime factors using list comprehension\n",
    "6.Print the prime factors"
   ]
  },
  {
   "cell_type": "markdown",
   "id": "db966e6c",
   "metadata": {},
   "source": [
    "# 23. Develop a program that extracts unique elements from a list and stores them in a new list using a list comprehension."
   ]
  },
  {
   "cell_type": "code",
   "execution_count": 18,
   "id": "8f4b17eb",
   "metadata": {},
   "outputs": [
    {
     "name": "stdout",
     "output_type": "stream",
     "text": [
      "[1, 2, 3, 4, 5, 6]\n"
     ]
    }
   ],
   "source": [
    "# Original list with duplicate elements\n",
    "original_list = [1, 2, 2, 3, 4, 4, 5, 6, 6]\n",
    "\n",
    "# Use a list comprehension to extract unique elements\n",
    "unique_list = [x for i, x in enumerate(original_list) if x not in original_list[:i]]\n",
    "\n",
    "# Print the unique elements\n",
    "print(unique_list)\n"
   ]
  },
  {
   "cell_type": "markdown",
   "id": "840ce860",
   "metadata": {},
   "source": [
    "Explannation:\n",
    "1. create list with some duplicate elements\n",
    "2. then use a list comprehension to find or extract unique elements in list\n",
    "3. finally display your result"
   ]
  },
  {
   "cell_type": "markdown",
   "id": "262b7fd1",
   "metadata": {},
   "source": [
    "# 24.  Create a program that generates a list of all palindromic numbers up to a specified limit using a list comprehension."
   ]
  },
  {
   "cell_type": "code",
   "execution_count": 32,
   "id": "a7a8f5d8",
   "metadata": {},
   "outputs": [
    {
     "name": "stdout",
     "output_type": "stream",
     "text": [
      "Enter the limit: 40\n",
      "Palindromic numbers up to 40: [0, 1, 2, 3, 4, 5, 6, 7, 8, 9, 11, 22, 33]\n"
     ]
    }
   ],
   "source": [
    "# create function for check that number is palindormic not\n",
    "def is_palindrome(number):\n",
    "    return str(number) == str(number)[::-1]\n",
    "\n",
    "# second function if number palindrome then generate it\n",
    "def generate_palindromic_numbers(limit):\n",
    "    return [num for num in range(limit + 1) if is_palindrome(num)]\n",
    "\n",
    "# Specify the limit for palindromic numbers\n",
    "limit = int(input(\"Enter the limit: \"))\n",
    "\n",
    "palindromic_numbers = generate_palindromic_numbers(limit)\n",
    "\n",
    "# finally dispaly your result \n",
    "print(\"Palindromic numbers up to {}: {}\".format(limit, palindromic_numbers))"
   ]
  },
  {
   "cell_type": "markdown",
   "id": "a9e75eeb",
   "metadata": {},
   "source": [
    "Explanation:\n",
    "1. first things is that create function and check that number is palindrome or not\n",
    "2. then again create function that pass one arguments as itneger value and generate palindromic number\n",
    "3. using list comprehension return palindromic number \n",
    "4. in list comprehension we have used one function to iterate in given limit\n",
    "5. finally call the function and display the result"
   ]
  },
  {
   "cell_type": "markdown",
   "id": "f2052376",
   "metadata": {},
   "source": [
    "# 25.  Write a program to flatten a nested list using list comprehension"
   ]
  },
  {
   "cell_type": "code",
   "execution_count": 40,
   "id": "878f0af9",
   "metadata": {},
   "outputs": [
    {
     "name": "stdout",
     "output_type": "stream",
     "text": [
      "[1, 2, 3, 4, 5, 6, 7, 8]\n"
     ]
    }
   ],
   "source": [
    "# create a function that take one nested list\n",
    "def flatten_list(nested_list):\n",
    "    # Use list comprehension to flatten the nested list\n",
    "    flattened_list = [item for sublist in nested_list for item in sublist]\n",
    "    return flattened_list\n",
    "\n",
    "# Example usage:\n",
    "nested_list = [[1, 2, 3], [4, 5], [6, 7, 8]]\n",
    "flattened = flatten_list(nested_list)\n",
    "print(flattened)\n"
   ]
  },
  {
   "cell_type": "markdown",
   "id": "1fa53ca3",
   "metadata": {},
   "source": [
    "Explanation:\n",
    "1. first things is create function take one nested \n",
    "2. nested list means list inside list\n",
    "3. use list comprehension to flatten the nested list\n",
    "4. return our flattened list"
   ]
  },
  {
   "cell_type": "markdown",
   "id": "26874b62",
   "metadata": {},
   "source": [
    "# 26.  Develop a program that computes the sum of even and odd numbers in a list separately using list comprehension."
   ]
  },
  {
   "cell_type": "code",
   "execution_count": 49,
   "id": "e1dc7477",
   "metadata": {},
   "outputs": [
    {
     "name": "stdout",
     "output_type": "stream",
     "text": [
      "Sum of even numbers: 20\n",
      "Sum of odd numbers: 25\n"
     ]
    }
   ],
   "source": [
    "# create a function that contain list with some element\n",
    "def separate_sum_of_even_and_odd(numbers):\n",
    "    \n",
    "# find even sum, if element of list is even using list comprehension\n",
    "    even_sum = sum([x for x in numbers if x % 2 == 0])\n",
    "    \n",
    "    \n",
    "# find odd sum , if any element in list is odd , using list comprehension\n",
    "    odd_sum = sum([x for x in numbers if x % 2 != 0])\n",
    "    \n",
    "# finally return your result\n",
    "    return even_sum, odd_sum\n",
    "\n",
    "# Example usage:\n",
    "numbers = [1, 2, 3, 4, 5, 6, 7, 8, 9]\n",
    "even_sum, odd_sum = separate_sum_of_even_and_odd(numbers)\n",
    "print(f\"Sum of even numbers: {even_sum}\")\n",
    "print(f\"Sum of odd numbers: {odd_sum}\")\n"
   ]
  },
  {
   "cell_type": "markdown",
   "id": "049b11db",
   "metadata": {},
   "source": [
    "Explanation:\n",
    "1. create a function that contain list with some element\n",
    "2. find even sum, if element of list is even using list comprehension\n",
    "3. to check even number use it element%2 == 0 means element is even so add it\n",
    "4. to check odd number use it element%2!= 0 means element is odd\n",
    "5. after check that even and odd find sum\n",
    "6. fianlly return your result"
   ]
  },
  {
   "cell_type": "markdown",
   "id": "030719eb",
   "metadata": {},
   "source": [
    "# 27. Create a program that generates a list of squares of odd numbers between 1 and 10 using list comprehension."
   ]
  },
  {
   "cell_type": "code",
   "execution_count": 71,
   "id": "93bc1dba",
   "metadata": {},
   "outputs": [
    {
     "name": "stdout",
     "output_type": "stream",
     "text": [
      "[1, 9, 25, 49, 81]\n"
     ]
    }
   ],
   "source": [
    "# use list comprehension find square of odd number\n",
    "square_odd = [x**2 for x in range(1,11) if x%2 != 0]\n",
    "\n",
    "# finally display your result\n",
    "print(square_odd)"
   ]
  },
  {
   "cell_type": "markdown",
   "id": "218c7ba9",
   "metadata": {},
   "source": [
    "Explanation:\n",
    "1.use list comprehension find square of odd number\n",
    "2. in list comprehension iterate range through the for loop,\n",
    "3. within iterate check that number is odd or not\n",
    "4. if number is odd then find square it using x**2\n",
    "5. finally display your result"
   ]
  },
  {
   "cell_type": "markdown",
   "id": "39b7f284",
   "metadata": {},
   "source": [
    "# 28. Write a program that combines two lists into a dictionary using list comprehension"
   ]
  },
  {
   "cell_type": "code",
   "execution_count": 83,
   "id": "611f6457",
   "metadata": {},
   "outputs": [
    {
     "name": "stdout",
     "output_type": "stream",
     "text": [
      "{'name': 'vijay', 'age': 20, 'district': 'bhopal', 'course': 'dsa'}\n"
     ]
    }
   ],
   "source": [
    "# create two list with some element\n",
    "list1 = ['name','age','district','course']\n",
    "list2 = ['vijay',20,'bhopal','dsa']\n",
    "\n",
    "# use list comprehensoin combine list into dictionary\n",
    "result = {list1[i]:list2[i] for i in range(len(list1))}\n",
    "\n",
    "#  finally display your result\n",
    "print(result)"
   ]
  },
  {
   "cell_type": "markdown",
   "id": "c7e22feb",
   "metadata": {},
   "source": [
    "Explanation:\n",
    "1. creat two list like list1 and list2\n",
    "2. use list comprehensoin combine list into dictionary\n",
    "3. iterate through the for loop\n",
    "4. finally display your result"
   ]
  },
  {
   "cell_type": "markdown",
   "id": "ce3f49fc",
   "metadata": {},
   "source": [
    "# 29.  Develop a program that extracts the vowels from a string and stores them in a list using list comprehension"
   ]
  },
  {
   "cell_type": "code",
   "execution_count": 90,
   "id": "4a2db5f7",
   "metadata": {},
   "outputs": [
    {
     "name": "stdout",
     "output_type": "stream",
     "text": [
      "Enter your stringBarkatullah University Bhopal\n",
      "['a', 'a', 'u', 'a', 'U', 'i', 'e', 'i', 'o', 'a']\n"
     ]
    }
   ],
   "source": [
    "# input string\n",
    "str1 = str(input(\"Enter your string\"))\n",
    "\n",
    "# use list comprehension and check that character is vowels or not\n",
    "list1 = [x for x in str1 if x.lower() in 'aeiouAEIOU']\n",
    "\n",
    "# finally print() your result\n",
    "print(list1)"
   ]
  },
  {
   "cell_type": "markdown",
   "id": "5ad12b1e",
   "metadata": {},
   "source": [
    "Explanation:\n",
    "1. first thing is take user input as string\n",
    "2. use list comprehension and check that character is vowels or not\n",
    "3. finally print your result"
   ]
  },
  {
   "cell_type": "markdown",
   "id": "9a14bf1c",
   "metadata": {},
   "source": [
    "# 30. Create a program that removes all non-numeric characters from a list of strings using list comprehension"
   ]
  },
  {
   "cell_type": "code",
   "execution_count": 95,
   "id": "3ef34ade",
   "metadata": {},
   "outputs": [
    {
     "name": "stdout",
     "output_type": "stream",
     "text": [
      "['123', '45', '123', '456']\n"
     ]
    }
   ],
   "source": [
    "# List of strings with non-numeric characters\n",
    "string_list = [\"abc123\", \"45_def\", \"1g2h3\", \"no45_6n\"]\n",
    "\n",
    "# Remove non-numeric characters using list comprehension\n",
    "numeric_strings = [''.join(char for char in string if char.isnumeric()) for string in string_list]\n",
    "\n",
    "# Print the list of numeric strings\n",
    "print(numeric_strings)\n"
   ]
  },
  {
   "cell_type": "markdown",
   "id": "e2253220",
   "metadata": {},
   "source": [
    "Explanation:\n",
    "1. List of strings with non-numeric characters\n",
    "2. Remove non-numeric characters using list comprehension\n",
    "4. for check characters is numeric or not we use  isnumeric()\n",
    "3. Print the list of numeric strings"
   ]
  },
  {
   "cell_type": "markdown",
   "id": "e91fc113",
   "metadata": {},
   "source": [
    "# Challenge Level:"
   ]
  },
  {
   "cell_type": "markdown",
   "id": "9d056e87",
   "metadata": {},
   "source": [
    "# 31.  Write a program to generate a list of prime numbers using the Sieve of Eratosthenes algorithm and list comprehension."
   ]
  },
  {
   "cell_type": "code",
   "execution_count": 10,
   "id": "cd704034",
   "metadata": {},
   "outputs": [
    {
     "name": "stdout",
     "output_type": "stream",
     "text": [
      "Prime numbers are in given limit: [2, 3, 5, 7, 9]\n"
     ]
    }
   ],
   "source": [
    "# create a function that pass one integer value\n",
    "def sieve_of_eratosthenes(limit):\n",
    "    \n",
    "# Create a boolean list to track prime numbers, initialized to True\n",
    "    is_prime = [True]*(limit+1)\n",
    "    \n",
    "# 0 and 1 are not prime\n",
    "    is_prime[0] = is_prime[1] = False\n",
    "    \n",
    "# Start with the first prime number, 2\n",
    "    p = 2\n",
    "    while p**2<=limit:\n",
    "        if is_prime[p]:\n",
    "            \n",
    "# Mark all multiples of p as composite\n",
    "            for i in range(p**2,limit+1,p):\n",
    "                is_prime[i] = False\n",
    "                p += 1\n",
    "            \n",
    " # Create a list of prime numbers\n",
    "    prime = [p for p in range(2,limit+1) if is_prime[p]]\n",
    "    return prime\n",
    "limit = 10\n",
    "prime_numbers = sieve_of_eratosthenes(limit)\n",
    "print(\"Prime numbers are in given limit:\",prime_numbers)"
   ]
  },
  {
   "cell_type": "markdown",
   "id": "3e1e3c64",
   "metadata": {},
   "source": [
    "Explanation:\n",
    "1. create function that pass one integer value as limit of prime factor\n",
    "2. Create a boolean list to track prime numbers, initialized to True\n",
    "3. 0 and 1 are not prime\n",
    "4. Start with the first prime number, 2\n",
    "5. Mark all multiples of p as composite\n",
    "6. Create a list of prime numbers using list comprehension\n",
    "7. finally return list"
   ]
  },
  {
   "cell_type": "markdown",
   "id": "0dc5e9ba",
   "metadata": {},
   "source": [
    "# 32.  Create a program that generates a list of all Pythagorean triplets up to a specified limit using list comprehension"
   ]
  },
  {
   "cell_type": "code",
   "execution_count": 12,
   "id": "40fbdbee",
   "metadata": {},
   "outputs": [
    {
     "name": "stdout",
     "output_type": "stream",
     "text": [
      "Enter your specified limit:10\n",
      "Pythagorean triplets are: [(3, 4, 5)]\n"
     ]
    }
   ],
   "source": [
    "# function to generate pythagorean triplets using specified limit\n",
    "def generate_pythagorean_triplets(limit):\n",
    "    triplets = [(a,b,c) for a in range(1,limit)\n",
    "               for b in range(a,limit)\n",
    "               for c in range(b,limit)\n",
    "               if a**2 + b**2 == c**2]\n",
    "    return triplets\n",
    "\n",
    "# take input from the user specified limit\n",
    "limit = int(input(\"Enter your specified limit:\"))\n",
    "list_of_triplets = generate_pythagorean_triplets(limit)\n",
    "\n",
    "# print all pythagorean triplets\n",
    "print(\"Pythagorean triplets are:\",list_of_triplets)"
   ]
  },
  {
   "cell_type": "markdown",
   "id": "17e69050",
   "metadata": {},
   "source": [
    "Explanation:\n",
    "1. function to generate pythagorean triplets using specified limit\n",
    "2. using list comprehension create triplets a,b,c\n",
    "3. to create pythagorean triplets we used pythagorean theorem,\n",
    "4. pythagorean theorem is if a,b, c are positive integer then a**2 + b**2 == c**2"
   ]
  },
  {
   "cell_type": "markdown",
   "id": "dd0f8c5a",
   "metadata": {},
   "source": [
    "# 33.  Develop a program that generates a list of all possible combinations of two lists using list comprehension."
   ]
  },
  {
   "cell_type": "code",
   "execution_count": 15,
   "id": "807dc1d6",
   "metadata": {},
   "outputs": [
    {
     "name": "stdout",
     "output_type": "stream",
     "text": [
      "possible combination of list is: [(1, 'a'), (1, 'b'), (1, 'c'), (2, 'a'), (2, 'b'), (2, 'c'), (3, 'a'), (3, 'b'), (3, 'c')]\n"
     ]
    }
   ],
   "source": [
    "# Two example lists\n",
    "list1 = [1, 2, 3]\n",
    "list2 = ['a', 'b', 'c']\n",
    "\n",
    "# Generate all possible combinations of elements from the two lists\n",
    "combinations = [(x, y) for x in list1 for y in list2]\n",
    "\n",
    "# Print the list of combinations\n",
    "print(\"possible combination of list is:\",combinations)\n"
   ]
  },
  {
   "cell_type": "markdown",
   "id": "10d28ddd",
   "metadata": {},
   "source": [
    "Explanation:\n",
    "1. first things is create two list with some element\n",
    "2. then using list comprehension generate all possible combination of list\n",
    "3. finally display your result using print() function"
   ]
  },
  {
   "cell_type": "markdown",
   "id": "17944ecf",
   "metadata": {},
   "source": [
    "# 34.  Write a program that calculates the mean, median, and mode of a list of numbers using list comprehension."
   ]
  },
  {
   "cell_type": "code",
   "execution_count": 1,
   "id": "36017e8a",
   "metadata": {},
   "outputs": [
    {
     "name": "stdout",
     "output_type": "stream",
     "text": [
      "Mean: 4.3\n",
      "Median: 4.5\n",
      "Mode: [2, 5]\n"
     ]
    }
   ],
   "source": [
    "from collections import Counter\n",
    "\n",
    "# Function to calculate the mean of a list of numbers\n",
    "def calculate_mean(numbers):\n",
    "    return sum(numbers) / len(numbers)\n",
    "\n",
    "# Function to calculate the median of a list of numbers\n",
    "def calculate_median(numbers):\n",
    "    sorted_numbers = sorted(numbers)\n",
    "    n = len(numbers)\n",
    "    mid = n // 2\n",
    "    if n % 2 == 0:\n",
    "        # If the list has an even number of elements, average the middle two\n",
    "        return (sorted_numbers[mid - 1] + sorted_numbers[mid]) / 2\n",
    "    else:\n",
    "        # If the list has an odd number of elements, return the middle element\n",
    "        return sorted_numbers[mid]\n",
    "\n",
    "# Function to calculate the mode of a list of numbers\n",
    "def calculate_mode(numbers):\n",
    "    count = Counter(numbers)\n",
    "    max_count = max(count.values())\n",
    "    mode = [num for num, freq in count.items() if freq == max_count]\n",
    "    return mode\n",
    "\n",
    "# List of numbers\n",
    "numbers = [1, 2, 2, 3, 4, 5, 5, 6, 7, 8]\n",
    "\n",
    "# Calculate mean, median, and mode using list comprehension\n",
    "mean = calculate_mean(numbers)\n",
    "median = calculate_median(numbers)\n",
    "mode = calculate_mode(numbers)\n",
    "\n",
    "print(f\"Mean: {mean}\")\n",
    "print(f\"Median: {median}\")\n",
    "print(f\"Mode: {mode}\")\n"
   ]
  },
  {
   "cell_type": "markdown",
   "id": "a09cfda2",
   "metadata": {},
   "source": [
    "Explanation:\n",
    "1. first things is import some package for maths work\n",
    "2. Function to calculate the mean of a list of numbers\n",
    "3. Function to calculate the median of a list of numbers\n",
    "4. If the list has an even number of elements, average the middle two\n",
    "5. If the list has an odd number of elements, return the middle element\n",
    "6. Function to calculate the mode of a list of numbers\n",
    "7. to find mode we need to count number of frequency of element in given list \n",
    "8. after see frequency , check that max value of frequency using max() function\n",
    "9. then finally return mode in the form of max value"
   ]
  },
  {
   "cell_type": "markdown",
   "id": "97143cb3",
   "metadata": {},
   "source": [
    "# 35.  Create a program that generates Pascal's triangle up to a specified number of rows using list comprehension."
   ]
  },
  {
   "cell_type": "code",
   "execution_count": 5,
   "id": "d036de1c",
   "metadata": {},
   "outputs": [
    {
     "name": "stdout",
     "output_type": "stream",
     "text": [
      "Enter the number of rows for Pascal's triangle: 5\n",
      "    1    \n",
      "   1 1   \n",
      "  1 2 1  \n",
      " 1 3 3 1 \n",
      "1 4 6 4 1\n"
     ]
    }
   ],
   "source": [
    "# define function to create pascal's triangle that take one integer value\n",
    "def generate_pascals_triangle(num_rows):\n",
    "    \n",
    "# check that if number of row in pascal triangle is less then equal to 0 then return empty list\n",
    "    if num_rows <= 0:\n",
    "        return []\n",
    "\n",
    "    # Initialize the first row with a single 1\n",
    "    triangle = [[1]]\n",
    "    \n",
    "# iterate through the for loop() in given range\n",
    "    for _ in range(1, num_rows):\n",
    "        # Generate the next row using list comprehension\n",
    "        previous_row = triangle[-1]\n",
    "        next_row = [1] + [previous_row[i] + previous_row[i + 1] for i in range(len(previous_row) - 1)] + [1]\n",
    "        triangle.append(next_row)\n",
    "\n",
    "    return triangle\n",
    "\n",
    "\n",
    "# print pascal's triangle and create function\n",
    "def print_pascals_triangle(triangle):\n",
    "    max_width = len(' '.join(map(str, triangle[-1])))\n",
    "    for row in triangle:\n",
    "        row_str = ' '.join(map(str, row))\n",
    "        print(row_str.center(max_width))\n",
    "\n",
    "if __name__ == \"__main__\":\n",
    "    num_rows = int(input(\"Enter the number of rows for Pascal's triangle: \"))\n",
    "    pascals_triangle = generate_pascals_triangle(num_rows)\n",
    "    print_pascals_triangle(pascals_triangle)\n"
   ]
  },
  {
   "cell_type": "markdown",
   "id": "635282c3",
   "metadata": {},
   "source": [
    "Explanation:\n",
    "1. define function to create pascal's triangle that take one integer value\n",
    "2. check that if number of row in pascal triangle is less then equal to 0 then return empty list\n",
    "3. Initialize the first row with a single 1\n",
    "4. iterate through the for loop() in given range\n",
    "5. Generate the next row using list comprehension\n",
    "6. print pascal's triangle and create function"
   ]
  },
  {
   "cell_type": "markdown",
   "id": "64317c08",
   "metadata": {},
   "source": [
    "# 36.  Develop a program that calculates the sum of the digits of a factorial of numbers from 1 to 5 using list comprehension."
   ]
  },
  {
   "cell_type": "code",
   "execution_count": 19,
   "id": "615b88de",
   "metadata": {},
   "outputs": [
    {
     "name": "stdout",
     "output_type": "stream",
     "text": [
      "Factorial of 1 is 1, and the sum of its digits is 1\n",
      "Factorial of 2 is 2, and the sum of its digits is 2\n",
      "Factorial of 3 is 6, and the sum of its digits is 6\n",
      "Factorial of 4 is 24, and the sum of its digits is 6\n",
      "Factorial of 5 is 120, and the sum of its digits is 3\n"
     ]
    }
   ],
   "source": [
    "#first thing is import math library \n",
    "import math\n",
    "\n",
    "# Function to calculate the sum of digits in a number\n",
    "def sum_of_digits(number):\n",
    "    return sum(int(digit) for digit in str(number))\n",
    "\n",
    "# Calculate and print the sum of digits of factorials for numbers from 1 to 5\n",
    "for num in range(1, 6):\n",
    "    factorial = math.factorial(num)\n",
    "    digit_sum = sum_of_digits(factorial)\n",
    "    print(f\"Factorial of {num} is {factorial}, and the sum of its digits is {digit_sum}\")\n"
   ]
  },
  {
   "cell_type": "markdown",
   "id": "07e817ab",
   "metadata": {},
   "source": [
    "Explanation:\n",
    "1. first thing is import math library to calculate sum of digits in factorial value using sum() function\n",
    "2. sum() function privide me addtion of given numbers\n",
    "3. create function as to find sum of number \n",
    "3. using list comprehension return the value of sum of number\n",
    "4. Calculate and print the sum of digits of factorials for numbers from 1 to 5\n",
    "5. iterate through the for loop() and find factorial value .\n",
    "6. finally display your result"
   ]
  },
  {
   "cell_type": "markdown",
   "id": "fc6e51cf",
   "metadata": {},
   "source": [
    "# 37. Write a program that finds the longest word in a sentence using list comprehension"
   ]
  },
  {
   "cell_type": "code",
   "execution_count": 25,
   "id": "e2e5a17c",
   "metadata": {},
   "outputs": [
    {
     "name": "stdout",
     "output_type": "stream",
     "text": [
      "Enter a sentence: i am from bhopal\n",
      "The longest word in the sentence is: bhopal\n"
     ]
    }
   ],
   "source": [
    "# first thing is take user input\n",
    "sentence = input(\"Enter a sentence: \")\n",
    "\n",
    "# Use list comprehension to split the sentence into words\n",
    "words = sentence.split()\n",
    "\n",
    "# Use the max() function with a custom key function to find the longest word\n",
    "longest_word = max(words, key=lambda word: len(word))\n",
    "\n",
    "# finally display your result\n",
    "print(\"The longest word in the sentence is:\", longest_word)\n"
   ]
  },
  {
   "cell_type": "markdown",
   "id": "0ccb85bc",
   "metadata": {},
   "source": [
    "Explanation:\n",
    "1. first thing is take user input as sentence\n",
    "2. using list comprehension ot split the sentence into words\n",
    "3. use the max function with custom key function to find the longest word\n",
    "4. finally display your result"
   ]
  },
  {
   "cell_type": "markdown",
   "id": "84c6090b",
   "metadata": {},
   "source": [
    "# 38.  Create a program that filters a list of strings to include only those with more than three vowels using list comprehension."
   ]
  },
  {
   "cell_type": "code",
   "execution_count": 27,
   "id": "3cff940f",
   "metadata": {},
   "outputs": [
    {
     "name": "stdout",
     "output_type": "stream",
     "text": [
      "['examination']\n"
     ]
    }
   ],
   "source": [
    "# Function to count vowels in a string\n",
    "def count_vowels(s):\n",
    "    vowels = \"AEIOUaeiou\"\n",
    "    return sum(1 for char in s if char in vowels)\n",
    "\n",
    "# List of strings\n",
    "string_list = [\"hello\", \"world\", \"programming\", \"python\", \"example\" , \"examination\"]\n",
    "\n",
    "# Filter strings with more than three vowels\n",
    "filtered_strings = [s for s in string_list if count_vowels(s) > 3]\n",
    "\n",
    "# Print the filtered list\n",
    "print(filtered_strings)\n"
   ]
  },
  {
   "cell_type": "markdown",
   "id": "213a5a90",
   "metadata": {},
   "source": [
    "Explanation:\n",
    "1. create to to count the number of vowels in string\n",
    "2. using list comprehension find the sum of vowels and return it\n",
    "3. enter your list of string\n",
    "4. then check number of vowels in string is number of vowels > 3 \n",
    "5. print this filtered string using print() function"
   ]
  },
  {
   "cell_type": "markdown",
   "id": "a0ba981e",
   "metadata": {},
   "source": [
    "# 39.  Develop a program that calculates the sum of the digits of numbers from 1 to 1000 using list comprehension."
   ]
  },
  {
   "cell_type": "code",
   "execution_count": 33,
   "id": "ece13304",
   "metadata": {},
   "outputs": [
    {
     "name": "stdout",
     "output_type": "stream",
     "text": [
      "The sum of the digits of numbers from 1 to 1000 is: 13501\n"
     ]
    }
   ],
   "source": [
    "# Define a function to calculate the sum of digits for a given number\n",
    "def digit_sum(n):\n",
    "    return sum(int(digit) for digit in str(n))\n",
    "\n",
    "# Use a list comprehension to generate a list of digit sums for numbers from 1 to 1000\n",
    "digit_sums = [digit_sum(n) for n in range(1, 1001)]\n",
    "\n",
    "# Calculate the total sum of all digit sums\n",
    "total_sum = sum(digit_sums)\n",
    "\n",
    "# Print the total sum\n",
    "print(\"The sum of the digits of numbers from 1 to 1000 is:\", total_sum)\n"
   ]
  },
  {
   "cell_type": "markdown",
   "id": "0ceb33a2",
   "metadata": {},
   "source": [
    "Explanation:\n",
    "1. Define a function to calculate the sum of digits for a given number\n",
    "2. Use a list comprehension to generate a list of digit sums for numbers from 1 to 1000\n",
    "3. Calculate the total sum of all digit sums\n",
    "4. Print the total sum"
   ]
  },
  {
   "cell_type": "markdown",
   "id": "21f3ba24",
   "metadata": {},
   "source": [
    "# 40.  Write a program that generates a list of prime palindromic numbers using list comprehension"
   ]
  },
  {
   "cell_type": "code",
   "execution_count": 34,
   "id": "6d94b50a",
   "metadata": {},
   "outputs": [
    {
     "name": "stdout",
     "output_type": "stream",
     "text": [
      "Prime Palindromic Numbers (up to 1000): [2, 3, 5, 7, 11, 101, 131, 151, 181, 191, 313, 353, 373, 383, 727, 757, 787, 797, 919, 929]\n"
     ]
    }
   ],
   "source": [
    "# Function to check if a number is prime\n",
    "def is_prime(num):\n",
    "    if num <= 1:\n",
    "        return False\n",
    "    if num <= 3:\n",
    "        return True\n",
    "    if num % 2 == 0 or num % 3 == 0:\n",
    "        return False\n",
    "    i = 5\n",
    "    while i * i <= num:\n",
    "        if num % i == 0 or num % (i + 2) == 0:\n",
    "            return False\n",
    "        i += 6\n",
    "    return True\n",
    "\n",
    "# Function to check if a number is a palindrome\n",
    "def is_palindrome(num):\n",
    "    return str(num) == str(num)[::-1]\n",
    "\n",
    "# Generate a list of prime palindromic numbers using list comprehension\n",
    "prime_palindromic_numbers = [num for num in range(1, 1000) if is_prime(num) and is_palindrome(num)]\n",
    "\n",
    "# Print the list of prime palindromic numbers\n",
    "print(\"Prime Palindromic Numbers (up to 1000):\", prime_palindromic_numbers)\n"
   ]
  },
  {
   "cell_type": "markdown",
   "id": "18179dad",
   "metadata": {},
   "source": [
    "Explanation:\n",
    "1. Function to check if a number is prime using control statement\n",
    "2. Function to check if a number is a palindrome\n",
    "3. Generate a list of prime palindromic numbers using list comprehension\n",
    "4. Print the list of prime palindromic numbers"
   ]
  }
 ],
 "metadata": {
  "kernelspec": {
   "display_name": "Python 3 (ipykernel)",
   "language": "python",
   "name": "python3"
  },
  "language_info": {
   "codemirror_mode": {
    "name": "ipython",
    "version": 3
   },
   "file_extension": ".py",
   "mimetype": "text/x-python",
   "name": "python",
   "nbconvert_exporter": "python",
   "pygments_lexer": "ipython3",
   "version": "3.11.4"
  }
 },
 "nbformat": 4,
 "nbformat_minor": 5
}
