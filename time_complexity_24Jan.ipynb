{
 "cells": [
  {
   "cell_type": "markdown",
   "id": "8e6b422e",
   "metadata": {},
   "source": [
    "# Find time complexity of below code blocks "
   ]
  },
  {
   "cell_type": "markdown",
   "id": "690e156a",
   "metadata": {},
   "source": [
    "# Problem 1:\n",
    " def quicksort(arr):\n",
    "     if len(arr) <= 1:\n",
    "         return arr\n",
    "     pivot = arr[len(arr) // 2]\n",
    "     left = [x for x in arr if x < pivot]\n",
    "     middle = [x for x in arr if x == pivot]\n",
    "     right = [x for x in arr if x > pivot]\n",
    "     return quicksort(left) + middle + quicksort(right)"
   ]
  },
  {
   "cell_type": "markdown",
   "id": "b0843800",
   "metadata": {},
   "source": [
    "Solution: Time Complexity  O(n log n) on average, and O(n^2) on Worst Case\n",
    "Explanation:\n",
    "1. The given code implements Quicksort, a sorting algorithm:\n",
    "2. It selects a pivot element and partitions the array into smaller sub-arrays.\n",
    "3. It recursively sorts the sub-arrays.\n",
    "4. Time complexity is O(n log n) on average and O(n^2) in the worst case due to partitioning and concatenation steps.\n"
   ]
  },
  {
   "cell_type": "markdown",
   "id": "6d916ab1",
   "metadata": {},
   "source": [
    "# Problem 2:\n",
    "def nested_loop_example(matrix):\n",
    "     rows, cols = len(matrix), len(matrix[0])\n",
    "     total = 0\n",
    "     for i in range(rows):\n",
    "         for j in range(cols):\n",
    "             total += matrix[i][j]\n",
    "     return total"
   ]
  },
  {
   "cell_type": "markdown",
   "id": "958c2f14",
   "metadata": {},
   "source": [
    "Solution: Time Complexity O(rows * cols)\n",
    "Explanation:\n",
    "1. The time complexity of the provided code is O(rows * cols) because it iterates through each element of the matrix exactly        once, where 'rows' is the number of rows and 'cols' is the number of columns in the matrix."
   ]
  },
  {
   "cell_type": "markdown",
   "id": "684e5d23",
   "metadata": {},
   "source": [
    "# Problem 3: \n",
    " def example_function(arr):\n",
    "     result = 0\n",
    "     for element in arr:\n",
    "     result += element\n",
    "     return result"
   ]
  },
  {
   "cell_type": "markdown",
   "id": "8e01b5ec",
   "metadata": {},
   "source": [
    "Solution: Time Complexity O(n)\n",
    "The time complexity of the given code depends on the size of the input array arr.\n",
    "The code iterates through each element in the array once using a for loop.\n",
    "Inside the loop, it performs a constant-time operation (addition) for each element.\n",
    "Therefore, the time complexity of the code is O(n), where n is the size of the input array arr.\n",
    "This is because the time taken to execute the code scales linearly with the size of the input array."
   ]
  },
  {
   "cell_type": "markdown",
   "id": "81866e9a",
   "metadata": {},
   "source": [
    "# Problem 4:\n",
    " def longest_increasing_subsequence(nums):\n",
    "     n = len(nums)\n",
    "     lis = [1] * n\n",
    "     for i in range(1, n):\n",
    "         for j in range(0, i):\n",
    "             if nums[i] > nums[j] and lis[i] < lis[j] + 1:\n",
    "                 lis[i] = lis[j] + 1\n",
    "     return max(lis)"
   ]
  },
  {
   "cell_type": "markdown",
   "id": "131879f3",
   "metadata": {},
   "source": [
    "Solution: Time Complexity O(n^2)\n",
    "Explanation:\n",
    "1. The code finds the length of the longest increasing subsequence in the given array using dynamic programming. \n",
    "2. It iterates through the array to update the length of the LIS ending at each index. \n",
    "3. The time complexity is O(n^2), where n is the length of the input array.\n",
    "    "
   ]
  },
  {
   "cell_type": "markdown",
   "id": "6f8daf78",
   "metadata": {},
   "source": [
    "# Problem 5: \n",
    " def mysterious_function(arr):\n",
    "     n = len(arr)\n",
    "     result = 0\n",
    "     for i in range(n):\n",
    "         for j in range(i, n):\n",
    "             result += arr[i] * arr[j]\n",
    "     return result"
   ]
  },
  {
   "cell_type": "markdown",
   "id": "9657f5eb",
   "metadata": {},
   "source": [
    "Solution: Time Complexity O(n^2)\n",
    "Explanation:\n",
    "1. The given code has a time complexity of O(n^2) due to its nested loops where each iteration performs a constant-time            operation."
   ]
  },
  {
   "cell_type": "markdown",
   "id": "69812ab1",
   "metadata": {},
   "source": [
    "# Solve the following problems on recursion"
   ]
  },
  {
   "cell_type": "markdown",
   "id": "bbe60b1d",
   "metadata": {},
   "source": [
    "# Problem 6 : Sum of Digits\n",
    " Write a recursive function to calculate the sum of digits of a given positive integer.\n",
    " sum_of_digits(123) -> 6"
   ]
  },
  {
   "cell_type": "code",
   "execution_count": 13,
   "id": "6fe6f14d",
   "metadata": {},
   "outputs": [
    {
     "name": "stdout",
     "output_type": "stream",
     "text": [
      "6\n"
     ]
    }
   ],
   "source": [
    "# define function that take one argument\n",
    "def sum_of_digits(n):\n",
    "    sum=0\n",
    "    if n<10:\n",
    "        return n\n",
    "    return n%10 + sum_of_digits(n//10)\n",
    "\n",
    "# call the function\n",
    "print(sum_of_digits(123))"
   ]
  },
  {
   "cell_type": "markdown",
   "id": "a71ec009",
   "metadata": {},
   "source": [
    "Explanation:\n",
    "1. The function sum_of_digits takes an integer n as input.\n",
    "2. If n is a single digit (less than 10), it returns n.\n",
    "3. Otherwise, it extracts the last digit of n using the modulo operator %, and adds it to the result of calling sum_of_digits      recursively on the remaining digits obtained by integer division // by 10.\n",
    "4. The recursion continues until the number becomes a single digit, at which point the recursion stops, and the sum is returned.\n"
   ]
  },
  {
   "cell_type": "code",
   "execution_count": null,
   "id": "560fa9ad",
   "metadata": {},
   "outputs": [],
   "source": []
  },
  {
   "cell_type": "markdown",
   "id": "e5c77cb0",
   "metadata": {},
   "source": [
    "# Problem 7: Fibonacci Series\n",
    " Write a recursive function to generate the first n numbers of the Fibonacci series.\n",
    " fibonacci_series(6) -> [0, 1, 1, 2, 3, 5]"
   ]
  },
  {
   "cell_type": "code",
   "execution_count": 17,
   "id": "37561724",
   "metadata": {},
   "outputs": [
    {
     "data": {
      "text/plain": [
       "[0, 1, 1, 2, 3, 5]"
      ]
     },
     "execution_count": 17,
     "metadata": {},
     "output_type": "execute_result"
    }
   ],
   "source": [
    "# define function that take one arguments\n",
    "def fibonacci_series(n):\n",
    "    \n",
    "    # base case\n",
    "    if n<=0:\n",
    "        return []\n",
    "    elif n==1:\n",
    "        return [0]\n",
    "    elif n==2:\n",
    "        return [0,1]\n",
    "    else:\n",
    "        fib_series= fibonacci_series(n-1)\n",
    "        fib_series.append(fib_series[-1] + fib_series[-2])\n",
    "        return fib_series\n",
    "\n",
    "# call the function\n",
    "fibonacci_series(6)"
   ]
  },
  {
   "cell_type": "markdown",
   "id": "cdd71c94",
   "metadata": {},
   "source": [
    "Explanation:\n",
    "1. The function fibonacci_series takes an integer n as input.\n",
    "2. Base cases: If n is less than or equal to 0, return an empty list. If n is 1, return [0]. If n is 2, return [0, 1].\n",
    "3. For n greater than 2, the function recursively generates the first n-1 Fibonacci numbers and appends the sum of the last two    numbers to the list.\n",
    "4. The recursion continues until the desired length of the Fibonacci series is reached.\n"
   ]
  },
  {
   "cell_type": "markdown",
   "id": "7de6b26f",
   "metadata": {},
   "source": [
    "# Problem 8 : Subset Sum\n",
    " Given a set of positive integers and a target sum, write a recursive function to determine if there exists a subset \n",
    " of the integers that adds up to the target sum.\n",
    " subset_sum([3, 34, 4, 12, 5, 2], 9) -> True"
   ]
  },
  {
   "cell_type": "code",
   "execution_count": 18,
   "id": "266086b3",
   "metadata": {},
   "outputs": [
    {
     "name": "stdout",
     "output_type": "stream",
     "text": [
      "True\n"
     ]
    }
   ],
   "source": [
    "def subset_sum(nums, target_sum):\n",
    "    # Base cases:\n",
    "\n",
    "    if target_sum == 0:\n",
    "        return True\n",
    "    # If the list of numbers is empty or target sum is negative, no subset can achieve the target sum\n",
    "    if not nums or target_sum < 0:\n",
    "        return False\n",
    "    \n",
    "    # Check if including the last element in the subset will achieve the target sum\n",
    "    include_last = subset_sum(nums[:-1], target_sum - nums[-1])\n",
    "    # Check if excluding the last element will achieve the target sum\n",
    "    exclude_last = subset_sum(nums[:-1], target_sum)\n",
    "    \n",
    "    # Return True if either including or excluding the last element can achieve the target sum\n",
    "    return include_last or exclude_last\n",
    "\n",
    "# call the function\n",
    "print(subset_sum([3, 34, 4, 12, 5, 2], 9))"
   ]
  },
  {
   "cell_type": "markdown",
   "id": "5b941ce8",
   "metadata": {},
   "source": [
    "Explanation:\n",
    "1. The function subset_sum recursively checks if a target sum can be achieved by either including or excluding the last element    in the list of positive integers. \n",
    "2. It handles base cases where the target sum is 0 or negative or when the list is empty. \n",
    "3. The function returns True if the target sum can be achieved, otherwise False."
   ]
  },
  {
   "cell_type": "markdown",
   "id": "bc25ee98",
   "metadata": {},
   "source": [
    " # Problem 9: Word Break\n",
    "Given a non-empty string and a list of words, write a recursive function to determine if the string can be segmented into a space-separated sequence of list words.\n",
    "word_break(\"leetcode\", [\"leet\", \"code\"]) -> True"
   ]
  },
  {
   "cell_type": "code",
   "execution_count": 23,
   "id": "45e1644a",
   "metadata": {},
   "outputs": [],
   "source": [
    "def wordBreak(wordList,word):\n",
    "    if word ==\"\":\n",
    "        return True\n",
    "    else:\n",
    "        wordLen = len(word)\n",
    "        for i in range(1,wordLen+1):\n",
    "            if word[:i] in wordList and wordBreak(wordList,word[i:]):\n",
    "                return True\n",
    "        return False\n",
    "        "
   ]
  },
  {
   "cell_type": "code",
   "execution_count": 25,
   "id": "f0263a60",
   "metadata": {},
   "outputs": [
    {
     "name": "stdout",
     "output_type": "stream",
     "text": [
      "False\n"
     ]
    }
   ],
   "source": [
    "print(wordBreak([\"leet\",\"code\"],\"leetcodes\"))"
   ]
  },
  {
   "cell_type": "markdown",
   "id": "2b961b1e",
   "metadata": {},
   "source": [
    "# 10. N Queen Problem\n",
    "Implement a recursive function to solve the N-Queens problem, where you have to place N queens on an N×N \n",
    "chessboard in such a way that no two queens threaten each other.\n",
    " n_queens(4)\n",
    " [\n",
    " [\".Q..\",\n",
    " \"...Q\",\n",
    " \"Q...\",\n",
    " \"..Q.\"],\n",
    " [\"..Q.\",\n",
    " \"Q...\",\n",
    " \"...Q\",\n",
    " \".Q..\"]\n",
    " ]"
   ]
  },
  {
   "cell_type": "code",
   "execution_count": 20,
   "id": "52c5bf37",
   "metadata": {},
   "outputs": [],
   "source": [
    "# return True if it's safe to place queen on the board\n",
    "def isSafeToPlaceQueen(board,row,col,n):\n",
    "    # check in the left side\n",
    "    for i in range(col):\n",
    "        if board[row][i]==1:\n",
    "            return False\n",
    "        \n",
    "    # check in the upper left diagonal\n",
    "    for i ,j in zip(range(row,-1,-1),range(col,-1,-1)):\n",
    "        if board[i][j] ==1:\n",
    "            return False\n",
    "\n",
    "    # check lower left diagonal\n",
    "    for i, j in zip(range(row,n,1),range(col,-1,-1)):\n",
    "        if board[i][j]==1:\n",
    "            return False\n",
    "    return True\n",
    "\n",
    "def solveNQ(board,n):\n",
    "    if not solveNQtil(board,0,n):\n",
    "        print(\"Soltuion doesn't exist\")\n",
    "        return\n",
    "    printBoard(board,n)\n",
    "\n",
    "def solveNQtil(board,col,n):\n",
    "    if(col>=n): # base condition\n",
    "        return True # Means we have been able to put queens in all the columns\n",
    "    \n",
    "#      check for all the rows\n",
    "    for row in range(n):\n",
    "        if isSafeToPlaceQueen(board,row,col,n):\n",
    "            board[row][col]=1 # Set the Queen\n",
    "            \n",
    "            # Recursiverly try for the next columns\n",
    "            if solveNQtil(board,col+1,n):\n",
    "                return True\n",
    "            # back tracking\n",
    "            board[row][col]=0 # Queen can't be set here\n",
    "    return False # Won't be able to place the queen\n",
    "\n",
    "def printBoard(board,n):\n",
    "    for i in range(n):\n",
    "        for j in range(n):\n",
    "            if(board[i][j]==1):\n",
    "                print(\"Q\",end=\" \")\n",
    "            else:\n",
    "                print(\".\",end=\" \")\n",
    "        print()"
   ]
  },
  {
   "cell_type": "code",
   "execution_count": 21,
   "id": "0639072b",
   "metadata": {},
   "outputs": [
    {
     "name": "stdout",
     "output_type": "stream",
     "text": [
      ". . Q . \n",
      "Q . . . \n",
      ". . . Q \n",
      ". Q . . \n"
     ]
    }
   ],
   "source": [
    "board = [[0,0,0,0],\n",
    "         [0,0,0,0],\n",
    "         [0,0,0,0],\n",
    "         [0,0,0,0]\n",
    "        ]\n",
    "solveNQ(board,4)"
   ]
  },
  {
   "cell_type": "code",
   "execution_count": 22,
   "id": "6e62b712",
   "metadata": {},
   "outputs": [
    {
     "name": "stdout",
     "output_type": "stream",
     "text": [
      "Q . . . . . . . \n",
      ". . . . . . Q . \n",
      ". . . . Q . . . \n",
      ". . . . . . . Q \n",
      ". Q . . . . . . \n",
      ". . . Q . . . . \n",
      ". . . . . Q . . \n",
      ". . Q . . . . . \n"
     ]
    }
   ],
   "source": [
    "board8 = [[0,0,0,0,0,0,0,0],\n",
    "          [0,0,0,0,0,0,0,0],\n",
    "          [0,0,0,0,0,0,0,0],\n",
    "          [0,0,0,0,0,0,0,0],\n",
    "          [0,0,0,0,0,0,0,0],\n",
    "          [0,0,0,0,0,0,0,0],\n",
    "          [0,0,0,0,0,0,0,0],\n",
    "          [0,0,0,0,0,0,0,0]\n",
    "          ]\n",
    "solveNQ(board8,8)"
   ]
  },
  {
   "cell_type": "code",
   "execution_count": null,
   "id": "756343a5",
   "metadata": {},
   "outputs": [],
   "source": []
  }
 ],
 "metadata": {
  "kernelspec": {
   "display_name": "Python 3 (ipykernel)",
   "language": "python",
   "name": "python3"
  },
  "language_info": {
   "codemirror_mode": {
    "name": "ipython",
    "version": 3
   },
   "file_extension": ".py",
   "mimetype": "text/x-python",
   "name": "python",
   "nbconvert_exporter": "python",
   "pygments_lexer": "ipython3",
   "version": "3.11.4"
  }
 },
 "nbformat": 4,
 "nbformat_minor": 5
}
