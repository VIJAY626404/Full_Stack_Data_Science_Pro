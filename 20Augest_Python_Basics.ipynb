{
 "cells": [
  {
   "cell_type": "markdown",
   "id": "27b560e1",
   "metadata": {},
   "source": [
    "# TOPIC: String Based Assignment Problem"
   ]
  },
  {
   "cell_type": "markdown",
   "id": "3ca1e529",
   "metadata": {},
   "source": [
    "# 1.  Write a program to reverse a string"
   ]
  },
  {
   "cell_type": "markdown",
   "id": "51bf47c9",
   "metadata": {},
   "source": [
    "Method:1 "
   ]
  },
  {
   "cell_type": "code",
   "execution_count": 1,
   "id": "44dff476",
   "metadata": {
    "scrolled": true
   },
   "outputs": [
    {
     "name": "stdout",
     "output_type": "stream",
     "text": [
      "reverse string is: hahS ramuK yajiV\n"
     ]
    }
   ],
   "source": [
    "# step1: firstly i have take string\n",
    "str1 = \"Vijay Kumar Shah\"\n",
    "\n",
    "# step2: using slicing method to reverse it \n",
    "reverse_str1 = str1[::-1]\n",
    "\n",
    "# step3: Display after reverse string\n",
    "print(\"reverse string is:\",reverse_str1)"
   ]
  },
  {
   "cell_type": "markdown",
   "id": "87da46bb",
   "metadata": {},
   "source": [
    "Method:2"
   ]
  },
  {
   "cell_type": "code",
   "execution_count": 1,
   "id": "5f4c649a",
   "metadata": {},
   "outputs": [],
   "source": [
    "def reverse_string(input_string):\n",
    "    # Step 1: Define a function called reverse_string that takes an input_string as its parameter.\n",
    "\n",
    "    reversed_string = \"\"\n",
    "    # Step 2: Initialize an empty string called reversed_string to store the reversed characters.\n",
    "\n",
    "    for char in input_string:\n",
    "        # Step 3: Start a loop that iterates through each character in the input_string.\n",
    "\n",
    "        reversed_string = char + reversed_string\n",
    "        # Step 4: Concatenate the current character with the existing reversed_string.\n",
    "        # This effectively adds the current character to the beginning of the reversed string.\n",
    "\n",
    "    return reversed_string\n",
    "    # Step 5: After the loop is done, return the reversed_string as the output of the function."
   ]
  },
  {
   "cell_type": "code",
   "execution_count": 3,
   "id": "aa554051",
   "metadata": {},
   "outputs": [
    {
     "name": "stdout",
     "output_type": "stream",
     "text": [
      "vihS mayhS maR\n"
     ]
    }
   ],
   "source": [
    "input_str = \"Ram Shyam Shiv\"\n",
    "reversed_str = reverse_string(input_str)\n",
    "print(reversed_str)"
   ]
  },
  {
   "cell_type": "markdown",
   "id": "1c1c764c",
   "metadata": {},
   "source": [
    "Explanation:\n",
    "1. firstly i have created function for input string that takes string as a input\n",
    "2. initialize an empty string that will store reverse characters.\n",
    "3. with the help of for loop, we iterate string\n",
    "4. after iteration ,Concatenate the current character with the existing reversed_string."
   ]
  },
  {
   "cell_type": "markdown",
   "id": "674854aa",
   "metadata": {},
   "source": [
    "# 2. Check if a string is a palindrome."
   ]
  },
  {
   "cell_type": "code",
   "execution_count": 11,
   "id": "04c50635",
   "metadata": {},
   "outputs": [],
   "source": [
    "#step1: in first i have created function that take string\n",
    "def palindrome_str(input_str):\n",
    "    \n",
    "#step2: convert input string in lowere case\n",
    "    input_str = input_str.lower()\n",
    "\n",
    "# step3: remove space other thing in like punctuation from string\n",
    "    input_str = ''.join(e for e in input_str if e.isalnum())\n",
    "\n",
    "# step4: compare the input_str and with its reverse string\n",
    "    return input_str == input_str[::-1]"
   ]
  },
  {
   "cell_type": "code",
   "execution_count": 12,
   "id": "9d1bef15",
   "metadata": {},
   "outputs": [
    {
     "name": "stdout",
     "output_type": "stream",
     "text": [
      "False\n",
      "True\n",
      "False\n"
     ]
    }
   ],
   "source": [
    "print(palindrome_str(\"Ram\"))\n",
    "print(palindrome_str(\"noon\"))\n",
    "print(palindrome_str(\"jawan\"))\n"
   ]
  },
  {
   "cell_type": "markdown",
   "id": "13da2e14",
   "metadata": {},
   "source": [
    "Explanation:\n",
    "1. create function who input as string\n",
    "2. convert above input string in lower case using .lower() method\n",
    "3. after convert in lowercase , i need to remove space and other things like punctuaion from string\n",
    "4. finally compare input string with his reverse string"
   ]
  },
  {
   "cell_type": "markdown",
   "id": "24110f57",
   "metadata": {},
   "source": [
    "# 3. Convert a string to uppercase"
   ]
  },
  {
   "cell_type": "code",
   "execution_count": null,
   "id": "75f4d16d",
   "metadata": {},
   "outputs": [],
   "source": [
    "# step1: create function that take input as a string\n",
    "def s_uppercase(s):\n",
    "    \n",
    "# step2: convert input string in upper case\n",
    "    s = s.upper()\n",
    "    \n",
    "# step3: finnaly return modified string in the form of uppercase\n",
    "    return s"
   ]
  },
  {
   "cell_type": "code",
   "execution_count": 16,
   "id": "b421b5bd",
   "metadata": {},
   "outputs": [
    {
     "name": "stdout",
     "output_type": "stream",
     "text": [
      "AMBRESH\n",
      "SHAHRUKH KHAN\n",
      "JAWAN\n"
     ]
    }
   ],
   "source": [
    "print(s_uppercase(\"ambresh\"))\n",
    "print(s_uppercase(\"shahRukh Khan\"))\n",
    "print(s_uppercase(\"jawan\"))"
   ]
  },
  {
   "cell_type": "markdown",
   "id": "b212a2fd",
   "metadata": {},
   "source": [
    "Explanation:\n",
    "1. first we can create function who take input as a string or we can input as string from the users\n",
    "2. convert input string in uppercase with the help of .lower() function\n",
    "3. we can return our string after convert in uppercase"
   ]
  },
  {
   "cell_type": "markdown",
   "id": "c9a4b210",
   "metadata": {},
   "source": [
    "# 4.   Convert a string to lowercase"
   ]
  },
  {
   "cell_type": "code",
   "execution_count": 19,
   "id": "596463be",
   "metadata": {},
   "outputs": [
    {
     "name": "stdout",
     "output_type": "stream",
     "text": [
      "Enter your string :Bhopal , madhya pradesh india\n",
      "Uppercase string is: BHOPAL , MADHYA PRADESH INDIA\n"
     ]
    }
   ],
   "source": [
    "# step1: we can take input as a string from user\n",
    "input_string = str(input(\"Enter your string :\"))\n",
    "\n",
    "# step2: convert input string in uppercase\n",
    "uppercase_string = input_string.upper()\n",
    "\n",
    "# step3: display after convert uppercase string\n",
    "print(\"Uppercase string is:\", uppercase_string)"
   ]
  },
  {
   "cell_type": "markdown",
   "id": "18ac6aba",
   "metadata": {},
   "source": [
    "Explantion:\n",
    "1. we can take input as a string from user with help of input() function\n",
    "2. convert input string in uppercase with the help of string.upper() method\n",
    "3. display after convert uppercase string and use print()"
   ]
  },
  {
   "cell_type": "markdown",
   "id": "419d8e22",
   "metadata": {},
   "source": [
    "# 5. Count the number of vowels in a string"
   ]
  },
  {
   "cell_type": "code",
   "execution_count": 26,
   "id": "e546f10b",
   "metadata": {},
   "outputs": [],
   "source": [
    "# step1: create function tha takes input as string\n",
    "def count_vowels(s):\n",
    "    \n",
    "# step2: initialize number of vowel\n",
    "    no_vowels = 0\n",
    "    \n",
    "# step3: convert input string in lowercase\n",
    "    s = s.lower()\n",
    "\n",
    "# step4: define set of vowels\n",
    "    vowels = set(\"aeiou\")\n",
    "    \n",
    "# step5: itreate with the help of for loop\n",
    "    for char in s:\n",
    "        \n",
    "# step6: check that character is vowel or no\n",
    "        if char in vowels:\n",
    "            no_vowels += 1\n",
    "    return no_vowels"
   ]
  },
  {
   "cell_type": "code",
   "execution_count": 27,
   "id": "cdc565b8",
   "metadata": {},
   "outputs": [
    {
     "name": "stdout",
     "output_type": "stream",
     "text": [
      "5\n"
     ]
    }
   ],
   "source": [
    "print(count_vowels(\"india, bharat\"))"
   ]
  },
  {
   "cell_type": "markdown",
   "id": "b6bc4d7e",
   "metadata": {},
   "source": [
    "Explantion:\n",
    "1. create function tha takes input as string\n",
    "2. step2: initialize number of vowel\n",
    "3. convert input string in lowercase\n",
    "4. define set of vowels\n",
    "5. itreate with the help of for loop\n",
    "6. check that character is vowel or no\n",
    "7. finally return the number of vowels\n"
   ]
  },
  {
   "cell_type": "markdown",
   "id": "21d7eccb",
   "metadata": {},
   "source": [
    "# 6.  Count the number of consonants in a string"
   ]
  },
  {
   "cell_type": "code",
   "execution_count": 39,
   "id": "37832868",
   "metadata": {},
   "outputs": [],
   "source": [
    "# step1: create function tha takes input as string\n",
    "def count_consonants(s):\n",
    "    \n",
    "# step2: initialize number of consonants\n",
    "    no_consonants = 0\n",
    "    \n",
    "# step3: convert input string in lowercase\n",
    "    s = s.lower()\n",
    "\n",
    "# step4: define set of consonants\n",
    "    consonants = \"bcdfghjklmnpqrstvwxyzBCDFGHJKLMNPQRSTVWXYZ\"\n",
    "    \n",
    "# step5: itreate with the help of for loop\n",
    "    for char in s:\n",
    "        \n",
    "# step6: check that character is consonants or no\n",
    "        if char in consonants:\n",
    "            no_consonants += 1\n",
    "            \n",
    "# step7: return the number of consonants            \n",
    "    return no_consonants"
   ]
  },
  {
   "cell_type": "code",
   "execution_count": 40,
   "id": "13cc8f93",
   "metadata": {},
   "outputs": [
    {
     "name": "stdout",
     "output_type": "stream",
     "text": [
      "Enter your string:india is bharat\n",
      "Number of consonants is:  7\n"
     ]
    }
   ],
   "source": [
    "input_string = input(\"Enter your string:\")\n",
    "result = count_consonants(input_string)\n",
    "print(\"Number of consonants is: \", result)"
   ]
  },
  {
   "cell_type": "markdown",
   "id": "077795e6",
   "metadata": {},
   "source": [
    "Explanation:\n",
    "1. create function tha takes input as string\n",
    "2. initialize number of consonants\n",
    "3. convert input string in lowercase\n",
    "4. define set of consonants\n",
    "5. itreate with the help of for loop\n",
    "6. check that character is consonants or no\n",
    "7. return the number of consonants            "
   ]
  },
  {
   "cell_type": "markdown",
   "id": "4306689c",
   "metadata": {},
   "source": [
    "# 7.  Remove all whitespaces from a string"
   ]
  },
  {
   "cell_type": "code",
   "execution_count": 43,
   "id": "947cbd5b",
   "metadata": {},
   "outputs": [
    {
     "name": "stdout",
     "output_type": "stream",
     "text": [
      "Enter your string :vijay kumar shah\n",
      "Without whitespacs string is:  vijaykumarshah\n"
     ]
    }
   ],
   "source": [
    "# step1: we can take input as a string from user\n",
    "input_string = str(input(\"Enter your string :\"))\n",
    "\n",
    "# step2: create string without spaces\n",
    "withoutspaces_string = \"\"\n",
    "\n",
    "# step3: iterate string with the use of for loop\n",
    "for char in input_string:\n",
    "    if char!= \" \":\n",
    "        \n",
    "# step4:if character is not whiltespaces\n",
    "        withoutspaces_string += char\n",
    "    \n",
    "# step5: display string without spaces\n",
    "print(\"Without whitespacs string is: \", withoutspaces_string)"
   ]
  },
  {
   "cell_type": "markdown",
   "id": "bdb5906c",
   "metadata": {},
   "source": [
    "Explanation:\n",
    "1. we can take input as a string from user\n",
    "2. create string without spaces\n",
    "3. iterate string with the use of for loop.\n",
    "4. if character is not whiltespaces\n",
    "5. display string without spaces"
   ]
  },
  {
   "cell_type": "markdown",
   "id": "5bfb4e8c",
   "metadata": {},
   "source": [
    "# 8.  Find the length of a string without using the `len()` function"
   ]
  },
  {
   "cell_type": "code",
   "execution_count": 47,
   "id": "6316dd10",
   "metadata": {},
   "outputs": [
    {
     "name": "stdout",
     "output_type": "stream",
     "text": [
      "Enter your string :vijay kumar shah\n",
      "Length of entered string is:  14\n"
     ]
    }
   ],
   "source": [
    "# step1: we can take input as a string from user\n",
    "input_string = str(input(\"Enter your string :\"))\n",
    "\n",
    "# step2: initialize string from 0 , assume that initially string length is 0\n",
    "length_str = 0\n",
    "\n",
    "# step3: iterate string with the use of for loop\n",
    "for char in input_string:\n",
    "    if char!= \" \":\n",
    "        \n",
    "# step4:if only character is found in string then increament length of string with 1\n",
    "        length_str += 1\n",
    "    \n",
    "# step5: display the length of string\n",
    "print(\"Length of entered string is: \", length_str)"
   ]
  },
  {
   "cell_type": "markdown",
   "id": "1336e463",
   "metadata": {},
   "source": [
    "Explanation:\n",
    "1. firstly we can take input as a string from user\n",
    "2. initialize string from 0 , assume that initially string length is 0\n",
    "3. iterate string with the use of for loop\n",
    "4. if only character is found in string then increament length of string with    1.\n",
    "5.  display the length of string using print() "
   ]
  },
  {
   "cell_type": "markdown",
   "id": "8cd85eee",
   "metadata": {},
   "source": [
    "# 9. Check if a string contains a specific word"
   ]
  },
  {
   "cell_type": "code",
   "execution_count": 1,
   "id": "440625c2",
   "metadata": {},
   "outputs": [
    {
     "name": "stdout",
     "output_type": "stream",
     "text": [
      "Enter your string : i am from bhopal and i am doing my engineering from barkaullah university\n",
      "Enter your specific word: from\n",
      "The string is contains of the word 'from'.\n"
     ]
    }
   ],
   "source": [
    "# step1: take user input and specific word \n",
    "input_string = input(\"Enter your string : \")\n",
    "specific_word = input(\"Enter your specific word: \")\n",
    "\n",
    "# step2: check that specific word is present in input_string or not\n",
    "if specific_word in input_string:\n",
    "    \n",
    "# step3: if yes then print your thought\n",
    "    print(f\"The string is contains of the word '{specific_word}'.\")\n",
    "    \n",
    "# step4: print message if word in contains of input string\n",
    "else:\n",
    "    print(f\"The string is not contains of the word '{specific_word}'.\")"
   ]
  },
  {
   "cell_type": "markdown",
   "id": "2dd882f7",
   "metadata": {},
   "source": [
    "Explantion:\n",
    "1. initially take user input string and specific word \n",
    "2. check that specific word is present in input_string or not \n",
    "3. if input string is contains of specific word then printout your message using print()\n",
    "4. if input string is not contains of specific word then print your specific message"
   ]
  },
  {
   "cell_type": "markdown",
   "id": "3b5438c5",
   "metadata": {},
   "source": [
    "# 10.  Replace a word in a string with another word"
   ]
  },
  {
   "cell_type": "code",
   "execution_count": 6,
   "id": "c57ada85",
   "metadata": {},
   "outputs": [
    {
     "name": "stdout",
     "output_type": "stream",
     "text": [
      "Enter your string :  i am vijay kumar shah from bhopal\n",
      "Enter your old word to be replace: bhopal\n",
      "Enter your new word: jabalpur\n",
      "After replace string is:   i am vijay kumar shah from jabalpur\n"
     ]
    }
   ],
   "source": [
    "# step1: take user input string\n",
    "input_string = input(\"Enter your string : \")\n",
    "\n",
    "# step2: take input string as old word and new word that which want to replace\n",
    "old_word = input(\"Enter your old word to be replace: \")\n",
    "new_word = input(\"Enter your new word: \")\n",
    "\n",
    "# step3: replace your old word with new word  \n",
    "result_string = input_string.replace(old_word,new_word)\n",
    "\n",
    "# step4: After replace world print your modifeid string\n",
    "print(\"After replace string is: \", result_string)\n"
   ]
  },
  {
   "cell_type": "markdown",
   "id": "8d1b7274",
   "metadata": {},
   "source": [
    "Explantion:\n",
    "1. take user input string and use input() function\n",
    "2. take input string as old word and new word that which want to replace\n",
    "3. replace your old word with new word and used replace()\n",
    "4. After replace world print your modifeid string with the help of print()"
   ]
  },
  {
   "cell_type": "markdown",
   "id": "e9ec8f3b",
   "metadata": {},
   "source": [
    "# 11.  Count the occurrences of a word in a string"
   ]
  },
  {
   "cell_type": "code",
   "execution_count": 12,
   "id": "b9087352",
   "metadata": {},
   "outputs": [
    {
     "data": {
      "text/plain": [
       "2"
      ]
     },
     "execution_count": 12,
     "metadata": {},
     "output_type": "execute_result"
    }
   ],
   "source": [
    "# step1: first i have create one function who take input as string and word\n",
    "def count_occurrence(input_string, target_word):\n",
    "    \n",
    "# step2: i have initialize one variable that count the number of words in input_string\n",
    "    word_count = 0\n",
    "\n",
    "#step3: in third step i have split string for to list then we can easily breakdown the string into list\n",
    "    string_words = input_string.split()\n",
    "\n",
    "# step4: itrete throw the for loop\n",
    "    for char in string_words:\n",
    "        \n",
    "#step5: check that if target_word are contains , in string words or not        \n",
    "        if char == target_word:\n",
    "\n",
    "# step6: if targeted words are found in string then increament the word_count value from 1\n",
    "            word_count += 1\n",
    "    \n",
    "#step7: finnaly return the value of number of words in given string    \n",
    "    return word_count\n"
   ]
  },
  {
   "cell_type": "code",
   "execution_count": 14,
   "id": "0f269283",
   "metadata": {},
   "outputs": [
    {
     "data": {
      "text/plain": [
       "3"
      ]
     },
     "execution_count": 14,
     "metadata": {},
     "output_type": "execute_result"
    }
   ],
   "source": [
    "count_occurrence(\"Read the migration plan to Notebook 7 to learn about the new features and the action to take if you are using extensions\",\"the\")"
   ]
  },
  {
   "cell_type": "markdown",
   "id": "52c00ce8",
   "metadata": {},
   "source": [
    "Explantion: \n",
    "1. first i have create one function who take input as string and word\n",
    "2. i have initialize one variable that count the number of words in input_string\n",
    "3. in third step i have split string for to list then we can easily  breakdown the string into list wit the help of .split()\n",
    "4. itrete throw the for loop and traverse all string\n",
    "5. check that if target_word are contains , in string words or not if char == target_word     \n",
    "6. if targeted words are found in string then increament the word_count value from 1 using increament function i++ or i= i+1\n",
    "7. finnaly return the value of number of words in given string "
   ]
  },
  {
   "cell_type": "markdown",
   "id": "47bc4c84",
   "metadata": {},
   "source": [
    "# 12. Find the first occurrence of a word in a string"
   ]
  },
  {
   "cell_type": "code",
   "execution_count": 37,
   "id": "514b4820",
   "metadata": {},
   "outputs": [],
   "source": [
    "# step1: create function that take input as string and words\n",
    "def first_occurrence(input_string, target_word):\n",
    " \n",
    "# step2: find the first occurrence of word in string \n",
    "    first_index = input_string.find(target_word)\n",
    "\n",
    "# step3: check that if word is not present in string then return none    \n",
    "    if first_index == -1:\n",
    "        return none\n",
    "    \n",
    "# step4: return index string who appear first occurrence of word    \n",
    "    return first_index\n"
   ]
  },
  {
   "cell_type": "code",
   "execution_count": 39,
   "id": "1c0e26e1",
   "metadata": {},
   "outputs": [
    {
     "data": {
      "text/plain": [
       "11"
      ]
     },
     "execution_count": 39,
     "metadata": {},
     "output_type": "execute_result"
    }
   ],
   "source": [
    "first_occurrence(\"find the firs occurrence of a word in a string\",\"r\")"
   ]
  },
  {
   "cell_type": "markdown",
   "id": "74520cd3",
   "metadata": {},
   "source": [
    "Explanation:\n",
    "1. create function that take input as string and words\n",
    "2. find the first occurrence of word in string with the help of find() function\n",
    "3. check that if word is not present in string then return none\n",
    "4. return index string who appear first occurrence of word"
   ]
  },
  {
   "cell_type": "markdown",
   "id": "a559616c",
   "metadata": {},
   "source": [
    "# 13. Find the last occurrence of a word in a string"
   ]
  },
  {
   "cell_type": "code",
   "execution_count": 43,
   "id": "aacdf6e7",
   "metadata": {},
   "outputs": [],
   "source": [
    "# step1: create function that take input as string and words\n",
    "def last_occurrence(input_string, target_word):\n",
    " \n",
    "# step2: find the last occurrence of word in string \n",
    "    last_index = input_string.rfind(target_word)\n",
    "\n",
    "# step3: check that if word is not present in string then return none    \n",
    "    if last_index == -1:\n",
    "        return none\n",
    "    \n",
    "# step4: return index string who appear last occurrence of word    \n",
    "    return last_index"
   ]
  },
  {
   "cell_type": "code",
   "execution_count": 44,
   "id": "ec5fa191",
   "metadata": {},
   "outputs": [
    {
     "data": {
      "text/plain": [
       "42"
      ]
     },
     "execution_count": 44,
     "metadata": {},
     "output_type": "execute_result"
    }
   ],
   "source": [
    "last_occurrence(\"Find the last occurrence of a word in a string\",\"r\")"
   ]
  },
  {
   "cell_type": "markdown",
   "id": "7a17ec31",
   "metadata": {},
   "source": [
    "Explanation:\n",
    "1. create function that take input as string and words\n",
    "2. find the last occurrence of word in string  with the help of rfind() function\n",
    "3. check that if word is not present in string then return none  \n",
    "4. return index string who appear last occurrence of word    "
   ]
  },
  {
   "cell_type": "markdown",
   "id": "4ded7f3a",
   "metadata": {},
   "source": [
    "# 14. Split a string into a list of words"
   ]
  },
  {
   "cell_type": "code",
   "execution_count": 45,
   "id": "33f588d9",
   "metadata": {},
   "outputs": [],
   "source": [
    "# step1: define funtion that takes input as string\n",
    "def string_to_list(input_string):\n",
    "\n",
    "# step2: split the string into list with the help of split() fuction\n",
    "    list_of_words = input_string.split()\n",
    "    \n",
    "# step3: return the all words in the form of list from string\n",
    "    return list_of_words"
   ]
  },
  {
   "cell_type": "code",
   "execution_count": 48,
   "id": "4f4f2923",
   "metadata": {},
   "outputs": [
    {
     "data": {
      "text/plain": [
       "['pathan', 'jawan', 'dunkey', 'ddl,', 'omshantiom']"
      ]
     },
     "execution_count": 48,
     "metadata": {},
     "output_type": "execute_result"
    }
   ],
   "source": [
    "string_to_list(\"pathan jawan dunkey ddl, omshantiom\")"
   ]
  },
  {
   "cell_type": "markdown",
   "id": "a90ecd74",
   "metadata": {},
   "source": [
    "Explanation:\n",
    "\n",
    "1. define funtion that takes input as string\n",
    "2. split the string into list with the help of split() fuction\n",
    "3. return the all words in the form of list from string"
   ]
  },
  {
   "cell_type": "markdown",
   "id": "1da59c78",
   "metadata": {},
   "source": [
    "# 15. Join a list of words into a string"
   ]
  },
  {
   "cell_type": "code",
   "execution_count": 57,
   "id": "c29aac62",
   "metadata": {},
   "outputs": [],
   "source": [
    "# step1: define funtion that takes input as string\n",
    "def list_to_string(input_list):\n",
    "\n",
    "# step2: split the string into list with the help of split() fuction\n",
    "    output_string = \" \".join(input_list)\n",
    "    \n",
    "# step3: return the all words in the form of list from string\n",
    "    return output_string"
   ]
  },
  {
   "cell_type": "code",
   "execution_count": 58,
   "id": "5e8d7eb8",
   "metadata": {},
   "outputs": [
    {
     "data": {
      "text/plain": [
       "'vijay ambresh prabhat kumar shah ajeet'"
      ]
     },
     "execution_count": 58,
     "metadata": {},
     "output_type": "execute_result"
    }
   ],
   "source": [
    "list_to_string([\"vijay\",\"ambresh\",\"prabhat kumar shah\",\"ajeet\"])"
   ]
  },
  {
   "cell_type": "code",
   "execution_count": null,
   "id": "eee6219b",
   "metadata": {},
   "outputs": [],
   "source": [
    "Explanation:\n",
    "# step1: define funtion that takes input as string\n",
    "# step2: split the string into list with the help of split() fuction\n",
    "# step3: return the all words in the form of list from string"
   ]
  },
  {
   "cell_type": "markdown",
   "id": "43a8b49f",
   "metadata": {},
   "source": [
    "# 16. Convert a string where words are separated by spaces to one where words are separated by underscores"
   ]
  },
  {
   "cell_type": "code",
   "execution_count": 70,
   "id": "88856f6c",
   "metadata": {},
   "outputs": [],
   "source": [
    "# step1: define funtion that takes input as string\n",
    "def string_to_list(input_string):\n",
    "    \n",
    "# step2: replace the spaces of string in underscore(-)\n",
    "    modified_string = input_string.replace(\" \",\"_\")\n",
    "    \n",
    "# step3: after replace space to underscore(_) return the modified string\n",
    "    return modified_string"
   ]
  },
  {
   "cell_type": "code",
   "execution_count": 71,
   "id": "02380e4e",
   "metadata": {},
   "outputs": [
    {
     "data": {
      "text/plain": [
       "'My_Name_Is_Vijay'"
      ]
     },
     "execution_count": 71,
     "metadata": {},
     "output_type": "execute_result"
    }
   ],
   "source": [
    "string_to_list(\"My Name Is Vijay\")"
   ]
  },
  {
   "cell_type": "markdown",
   "id": "ec268c57",
   "metadata": {},
   "source": [
    "Explanatio:\n",
    "<!--\n",
    "step1: define funtion that takes input as string \n",
    "step2: replace the spaces of string in underscore(-)\n",
    "step3: after replace space to underscore(_) return the modified string\n",
    "-->"
   ]
  },
  {
   "cell_type": "markdown",
   "id": "1ec2faaf",
   "metadata": {},
   "source": [
    "# 17.  Check if a string starts with a specific word or phrase"
   ]
  },
  {
   "cell_type": "code",
   "execution_count": 5,
   "id": "28329b7f",
   "metadata": {},
   "outputs": [],
   "source": [
    "def string_check(input_string,specific_word):\n",
    "# Step 1: Use the startswith() method to check if the text starts with the specified prefix.\n",
    "    \n",
    "    \n",
    "    is_start  = input_string.startswith(specific_word)\n",
    "    \n",
    "# Step 2: Return the result of the check.\n",
    "    return is_start"
   ]
  },
  {
   "cell_type": "code",
   "execution_count": 13,
   "id": "87abd5c4",
   "metadata": {},
   "outputs": [
    {
     "data": {
      "text/plain": [
       "True"
      ]
     },
     "execution_count": 13,
     "metadata": {},
     "output_type": "execute_result"
    }
   ],
   "source": [
    "string_check(\"bhopal madhya pradesh india\",\"bhopal\")"
   ]
  },
  {
   "cell_type": "markdown",
   "id": "d33bcec6",
   "metadata": {},
   "source": [
    "Explanation:\n",
    "1. first create function that take input as a string and prefix word\n",
    "2. use the startswith() method to check that if the next starts with specifiec prefix.\n",
    "3. finally return the result"
   ]
  },
  {
   "cell_type": "markdown",
   "id": "b752cb14",
   "metadata": {},
   "source": [
    "# 18. Check if a string ends with a specific word or phrase"
   ]
  },
  {
   "cell_type": "code",
   "execution_count": 16,
   "id": "d6fd5231",
   "metadata": {},
   "outputs": [],
   "source": [
    "def string_check(input_string,specific_word):\n",
    "# Step 1: Use the endswith() method to check if the text ends with the specified prefix.\n",
    "    \n",
    "    \n",
    "    is_start  = input_string.endswith(specific_word)\n",
    "    \n",
    "# Step 2: Return the result of the check.\n",
    "    return is_start"
   ]
  },
  {
   "cell_type": "code",
   "execution_count": 17,
   "id": "eb51a1f1",
   "metadata": {},
   "outputs": [
    {
     "data": {
      "text/plain": [
       "True"
      ]
     },
     "execution_count": 17,
     "metadata": {},
     "output_type": "execute_result"
    }
   ],
   "source": [
    "string_check(\"bhopal madhya pradesh india\",\"india\")"
   ]
  },
  {
   "cell_type": "markdown",
   "id": "98efd282",
   "metadata": {},
   "source": [
    "Explanation:\n",
    "1. first create function that take input as a string and suffix word\n",
    "2. use the endswith() method to check that if the next starts with specifiec prefix.\n",
    "3. finally return the result"
   ]
  },
  {
   "cell_type": "markdown",
   "id": "cc2e1b27",
   "metadata": {},
   "source": [
    "# 19. Convert a string to title case (e.g., \"hello world\" to \"Hello World\")"
   ]
  },
  {
   "cell_type": "code",
   "execution_count": 20,
   "id": "1776e9ce",
   "metadata": {},
   "outputs": [],
   "source": [
    "def convert_to_title_case(text):\n",
    "    # Step 1: Use the title() method to convert the text to title case.\n",
    "    title_case_text = text.title()\n",
    "\n",
    "    # Step 2: Return the converted text.\n",
    "    return title_case_text\n"
   ]
  },
  {
   "cell_type": "code",
   "execution_count": 21,
   "id": "20c8a476",
   "metadata": {},
   "outputs": [
    {
     "data": {
      "text/plain": [
       "'Vijay Kumar Shah'"
      ]
     },
     "execution_count": 21,
     "metadata": {},
     "output_type": "execute_result"
    }
   ],
   "source": [
    "convert_to_title_case(\"vijay kUmar ShaH\")"
   ]
  },
  {
   "cell_type": "markdown",
   "id": "2010fd88",
   "metadata": {},
   "source": [
    "Explanation:\n",
    "1. craete function that's take input as string\n",
    "2. Use the title() method to convert the text to title case.\n",
    "3. Return the converted text."
   ]
  },
  {
   "cell_type": "markdown",
   "id": "458780e2",
   "metadata": {},
   "source": [
    "# 20. Find the longest word in a string"
   ]
  },
  {
   "cell_type": "code",
   "execution_count": 25,
   "id": "e1d1ba45",
   "metadata": {},
   "outputs": [],
   "source": [
    "def find_longest_word(text):\n",
    "    # Step 1: Use the split() method to split the text into a list of words.\n",
    "    words = text.split()\n",
    "\n",
    "    # Step 2: Initialize variables to keep track of the longest word and its length.\n",
    "    longest_word = \"\"\n",
    "    max_length = 0\n",
    "\n",
    "    # Step 3: Iterate through the list of words.\n",
    "    for word in words:\n",
    "        # Check if the length of the current word is greater than the current max_length.\n",
    "        if len(word) > max_length:\n",
    "            max_length = len(word)\n",
    "            longest_word = word\n",
    "\n",
    "    # Step 4: Return the longest word.\n",
    "    return longest_word\n"
   ]
  },
  {
   "cell_type": "code",
   "execution_count": 26,
   "id": "c8207ba8",
   "metadata": {},
   "outputs": [
    {
     "data": {
      "text/plain": [
       "'vijay'"
      ]
     },
     "execution_count": 26,
     "metadata": {},
     "output_type": "execute_result"
    }
   ],
   "source": [
    "find_longest_word(\"vijay kumar shah\")"
   ]
  },
  {
   "cell_type": "markdown",
   "id": "1e3677b3",
   "metadata": {},
   "source": [
    "Explanation:\n",
    "1. Use the split() method to split the text into a list of words.\n",
    "2. Initialize variables to keep track of the longest word and its length.\n",
    "3. Iterate through the list of words.\n",
    "4. Check if the length of the current word is greater than the current max_length.\n",
    "5. Return the longest word."
   ]
  },
  {
   "cell_type": "markdown",
   "id": "baa85010",
   "metadata": {},
   "source": [
    "# 21 . Find the shortest word in a string"
   ]
  },
  {
   "cell_type": "code",
   "execution_count": 29,
   "id": "6c530e21",
   "metadata": {},
   "outputs": [],
   "source": [
    "def find_shortest_word(text):\n",
    "    # Step 1: Use the split() method to split the text into a list of words.\n",
    "    words = text.split()\n",
    "\n",
    "    # Step 2: Initialize variables to keep track of the shortest word and its length.\n",
    "    shortest_word = None\n",
    "    min_length = float('inf')  # Initialize to a large value\n",
    "\n",
    "    # Step 3: Iterate through the list of words.\n",
    "    for word in words:\n",
    "        # Check if the length of the current word is smaller than the current min_length.\n",
    "        if len(word) < min_length:\n",
    "            min_length = len(word)\n",
    "            shortest_word = word\n",
    "\n",
    "    # Step 4: Return the shortest word.\n",
    "    return shortest_word"
   ]
  },
  {
   "cell_type": "code",
   "execution_count": 30,
   "id": "8e984726",
   "metadata": {},
   "outputs": [
    {
     "data": {
      "text/plain": [
       "'is'"
      ]
     },
     "execution_count": 30,
     "metadata": {},
     "output_type": "execute_result"
    }
   ],
   "source": [
    "find_shortest_word(\" shahrukh is one of the richest actor in the india\")"
   ]
  },
  {
   "cell_type": "markdown",
   "id": "f3ab22f4",
   "metadata": {},
   "source": [
    "Explanation:\n",
    "1. Use the split() method to split the text into a list of words.\n",
    "2. Initialize variables to keep track of the shortest word and its length.\n",
    "3. Iterate through the list of words.\n",
    "4. Check if the length of the current word is less than the current min_length.\n",
    "5. Return the shortest word."
   ]
  },
  {
   "cell_type": "markdown",
   "id": "e6e3494d",
   "metadata": {},
   "source": [
    "# 22. Reverse the order of words in a string"
   ]
  },
  {
   "cell_type": "code",
   "execution_count": 31,
   "id": "0cedafc6",
   "metadata": {},
   "outputs": [],
   "source": [
    "# step1: create funtion that take input as string\n",
    "def Reverse_order(input_string):\n",
    "    \n",
    "# step2: divide the string into list\n",
    "    modified_list = input_string.split()\n",
    "    \n",
    "# step3: using slicing method we can reverse\n",
    "    result_list = modified_list[::-1]\n",
    "    \n",
    "# step4: after reverse we need to again join string using join() method\n",
    "    reverse_string = \" \".join(result_list)\n",
    "    \n",
    "# step5: finally return the reverse order of string    \n",
    "    return reverse_string"
   ]
  },
  {
   "cell_type": "code",
   "execution_count": 32,
   "id": "e81b1ac5",
   "metadata": {},
   "outputs": [
    {
     "data": {
      "text/plain": [
       "'shah kuamr vijay'"
      ]
     },
     "execution_count": 32,
     "metadata": {},
     "output_type": "execute_result"
    }
   ],
   "source": [
    "Reverse_order(\"vijay kuamr shah\")"
   ]
  },
  {
   "cell_type": "markdown",
   "id": "1cda9332",
   "metadata": {},
   "source": [
    "Explanatin:\n",
    "1. create funtion that take input as string\n",
    "2. divide the string into list using split() method\n",
    "3. using slicing method we can reverse like [::-1]\n",
    "4. after reverse we need to again join string using join() method\n",
    "5. finally return the reverse order of string    "
   ]
  },
  {
   "cell_type": "markdown",
   "id": "e89a20c9",
   "metadata": {},
   "source": [
    "# 24.  Check if a string is alphanumeric"
   ]
  },
  {
   "cell_type": "code",
   "execution_count": 40,
   "id": "3d7b979e",
   "metadata": {},
   "outputs": [],
   "source": [
    "def check_alphanumeric(input_string):\n",
    "    \n",
    "# step1: check that is alphanumeric or not \n",
    "    text = input_string.isalnum()\n",
    "    \n",
    "# step2: finally return the result\n",
    "    return text"
   ]
  },
  {
   "cell_type": "code",
   "execution_count": 45,
   "id": "7858b9ef",
   "metadata": {},
   "outputs": [
    {
     "data": {
      "text/plain": [
       "True"
      ]
     },
     "execution_count": 45,
     "metadata": {},
     "output_type": "execute_result"
    }
   ],
   "source": [
    "check_alphanumeric(\"pw2002\")"
   ]
  },
  {
   "cell_type": "markdown",
   "id": "3ae7e466",
   "metadata": {},
   "source": [
    "Explanation:\n",
    "1. check that entered string is alphanumeric or not using isalnum() method\n",
    "2. after check that return the value or result in bool form"
   ]
  },
  {
   "cell_type": "markdown",
   "id": "af759d53",
   "metadata": {},
   "source": [
    "# 25. . Extract all alphabets from a string"
   ]
  },
  {
   "cell_type": "code",
   "execution_count": 1,
   "id": "132bc592",
   "metadata": {},
   "outputs": [],
   "source": [
    "def extract_alphabets(input_string):\n",
    "    alphabets = ' '.join([char for char in input_string if char.isalpha()])\n",
    "    return alphabets\n"
   ]
  },
  {
   "cell_type": "code",
   "execution_count": 2,
   "id": "8e0cc6b2",
   "metadata": {},
   "outputs": [
    {
     "data": {
      "text/plain": [
       "'v i j a y k u m a r s h a h'"
      ]
     },
     "execution_count": 2,
     "metadata": {},
     "output_type": "execute_result"
    }
   ],
   "source": [
    "extract_alphabets(\"vijay kumar shah\")"
   ]
  },
  {
   "cell_type": "markdown",
   "id": "c71cb7c5",
   "metadata": {},
   "source": [
    "Explanation:\n",
    "1. first create function which take input as a string\n",
    "2. check that input string is contains of alphabet or not using .isalpha() method\n",
    "3. initialize a string for all alphabets from string\n",
    "4. using join method we can combine character from the list\n",
    "5. after perform jooi() method we can return our alphabets"
   ]
  },
  {
   "cell_type": "markdown",
   "id": "6cea22b5",
   "metadata": {},
   "source": [
    "# 26. Count the number of uppercase letters in a string "
   ]
  },
  {
   "cell_type": "code",
   "execution_count": 3,
   "id": "f1d65e3f",
   "metadata": {},
   "outputs": [],
   "source": [
    "# step1: create function that take input as a string\n",
    "def count_uppercase(input_string):\n",
    "    \n",
    "# step2: initialize the variable that can count number of uppercase letters in string\n",
    "    count = 0\n",
    "    \n",
    "# step3: iterate throw the foor loop and check that string is contains of uppercase or not\n",
    "    for char in input_string:\n",
    "        if char.isupper():\n",
    "            \n",
    "# step4: after check that ,if string uppercase found then increament the value of count from 1\n",
    "            count = count+1\n",
    "    \n",
    "#step5: finally return the value of count\n",
    "    return count\n",
    "            "
   ]
  },
  {
   "cell_type": "code",
   "execution_count": 5,
   "id": "b01f3ddc",
   "metadata": {},
   "outputs": [
    {
     "data": {
      "text/plain": [
       "6"
      ]
     },
     "execution_count": 5,
     "metadata": {},
     "output_type": "execute_result"
    }
   ],
   "source": [
    "count_uppercase(\"Vijay Kumar SHAH\")"
   ]
  },
  {
   "cell_type": "markdown",
   "id": "9a2279de",
   "metadata": {},
   "source": [
    "Explanation:\n",
    "1. create function that take input as a string\n",
    "2. initialize the variable that can count number of uppercase letters in string\n",
    "3. iterate throw the foor loop and check that string is contains of uppercase or not using .isupper()\n",
    "4. after check that ,if string uppercase found then increament the value of count from 1 ,count += 1\n",
    "5. finally return the value of count"
   ]
  },
  {
   "cell_type": "markdown",
   "id": "f4f27745",
   "metadata": {},
   "source": [
    "# 27. Count the number of lowercase letters in a string"
   ]
  },
  {
   "cell_type": "code",
   "execution_count": 6,
   "id": "3903d479",
   "metadata": {},
   "outputs": [],
   "source": [
    "# step1: create function that take input as a string\n",
    "def count_lowercase(input_string):\n",
    "    \n",
    "# step2: initialize the variable that can count number of lowercae letters in string\n",
    "    count = 0\n",
    "    \n",
    "# step3: iterate throw the foor loop and check that string is contains of lowercase or not\n",
    "    for char in input_string:\n",
    "        if char.islower():\n",
    "            \n",
    "# step4: after check that ,if string lowercase found then increament the value of count from 1\n",
    "            count = count+1\n",
    "    \n",
    "#step5: finally return the value of count\n",
    "    return count"
   ]
  },
  {
   "cell_type": "code",
   "execution_count": 7,
   "id": "d1584833",
   "metadata": {},
   "outputs": [
    {
     "data": {
      "text/plain": [
       "12"
      ]
     },
     "execution_count": 7,
     "metadata": {},
     "output_type": "execute_result"
    }
   ],
   "source": [
    "count_lowercase(\"Vijay kumar Shah\")"
   ]
  },
  {
   "cell_type": "markdown",
   "id": "bb91717e",
   "metadata": {},
   "source": [
    "Explanation:\n",
    "1. create function that take input as a string\n",
    "2. initialize the variable that can count number of lowercase letters in string\n",
    "3. iterate throw the foor loop and check that string is contains of uppercase or not using .islower()\n",
    "4. after check that ,if string lowercase found then increament the value of count from 1 ,count += 1\n",
    "5. finally return the value of count"
   ]
  },
  {
   "cell_type": "markdown",
   "id": "8a399e82",
   "metadata": {},
   "source": [
    "# 28.  Swap the case of each character in a string"
   ]
  },
  {
   "cell_type": "code",
   "execution_count": 8,
   "id": "c680d3e4",
   "metadata": {},
   "outputs": [],
   "source": [
    "def swap_case(input_string):\n",
    "    swapped_string = input_string.swapcase()\n",
    "    return swapped_string"
   ]
  },
  {
   "cell_type": "code",
   "execution_count": 9,
   "id": "b54b1a9d",
   "metadata": {},
   "outputs": [
    {
     "data": {
      "text/plain": [
       "'bARKATULLAH uNIVERSITY bHOPAL'"
      ]
     },
     "execution_count": 9,
     "metadata": {},
     "output_type": "execute_result"
    }
   ],
   "source": [
    "swap_case(\"Barkatullah University Bhopal\")"
   ]
  },
  {
   "cell_type": "markdown",
   "id": "8cc2350e",
   "metadata": {},
   "source": [
    "Explanation:\n",
    "1. create function that take input as a string\n",
    "2. initialize the variable that can store after swapped the case of string\n",
    "3. swap each word of string upper to lower or lower to upper case using swapcase() funtion\n",
    "4. after swap the case of string retur it and display the result\n"
   ]
  },
  {
   "cell_type": "markdown",
   "id": "2801079b",
   "metadata": {},
   "source": [
    "# 29.  Remove a specific word from a string"
   ]
  },
  {
   "cell_type": "code",
   "execution_count": 10,
   "id": "849696bf",
   "metadata": {},
   "outputs": [],
   "source": [
    "def remove_word(input_string, word_to_remove):\n",
    "    words = input_string.split()  # Split the input string into a list of words\n",
    "    filtered_words = [word for word in words if word != word_to_remove]  # Create a new list excluding the word to remove\n",
    "    modified_string = ' '.join(filtered_words)  # Join the filtered words back into a string\n",
    "    return modified_string"
   ]
  },
  {
   "cell_type": "code",
   "execution_count": 11,
   "id": "27ff867f",
   "metadata": {},
   "outputs": [
    {
     "data": {
      "text/plain": [
       "'vijay shah ambresh vaishay'"
      ]
     },
     "execution_count": 11,
     "metadata": {},
     "output_type": "execute_result"
    }
   ],
   "source": [
    "remove_word(\"vijay kumar shah ambresh kumar vaishay\",\"kumar\")"
   ]
  },
  {
   "cell_type": "markdown",
   "id": "f4bb8dbb",
   "metadata": {},
   "source": [
    "Explanation\n",
    "1. create function that take two string as a input first string is complete string and second string is specific string which i need to remove from string first\n",
    "2. split the string into list using split function\n",
    "3. iterate throw the for loop and check that , if word is equal to specific string or not\n",
    "4. after check that modify the string again combline character using .join() method\n",
    "5. finally return the value of modified string"
   ]
  },
  {
   "cell_type": "markdown",
   "id": "c29c6603",
   "metadata": {},
   "source": [
    "# 30.  Check if a string is a valid email address"
   ]
  },
  {
   "cell_type": "code",
   "execution_count": 12,
   "id": "d61c9219",
   "metadata": {},
   "outputs": [],
   "source": [
    "import re  # Import the regular expression module\n",
    "\n",
    "def is_valid_email(email):\n",
    "    pattern = r'^[\\w\\.-]+@[\\w\\.-]+\\.\\w+$'  # Regular expression pattern for a basic email validation\n",
    "    if re.match(pattern, email):\n",
    "        return True\n",
    "    else:\n",
    "        return False\n"
   ]
  },
  {
   "cell_type": "code",
   "execution_count": 13,
   "id": "157ef002",
   "metadata": {},
   "outputs": [
    {
     "data": {
      "text/plain": [
       "True"
      ]
     },
     "execution_count": 13,
     "metadata": {},
     "output_type": "execute_result"
    }
   ],
   "source": [
    "is_valid_email(\"ambershvaishy123@gmail.com\")"
   ]
  },
  {
   "cell_type": "markdown",
   "id": "a3340ae0",
   "metadata": {},
   "source": [
    "Explantion:\n",
    "1. import the re module from libery for regular expression in python\n",
    "2. define the function that can input parameter as a email\n",
    "3. then create Regular expression pattern for a basic email validation\n",
    "4. check that pattern and email are match are not \n",
    "5. return value in bool form"
   ]
  },
  {
   "cell_type": "markdown",
   "id": "8640e37f",
   "metadata": {},
   "source": [
    "# LIST BASED PRACTICE PROBLEMS"
   ]
  },
  {
   "cell_type": "markdown",
   "id": "331a89c0",
   "metadata": {},
   "source": [
    "# 1. Create a list with integers from 1 to 10"
   ]
  },
  {
   "cell_type": "code",
   "execution_count": 21,
   "id": "6f967b2a",
   "metadata": {},
   "outputs": [
    {
     "name": "stdout",
     "output_type": "stream",
     "text": [
      "[1, 2, 3, 4, 5, 6, 7, 8, 9, 10]\n"
     ]
    }
   ],
   "source": [
    "# Use a list comprehension to create a list of integers from 1 to 10\n",
    "integer_list = [i for i in range(1, 11)]\n",
    "\n",
    "# Print the list\n",
    "print(integer_list)"
   ]
  },
  {
   "cell_type": "markdown",
   "id": "b3f11969",
   "metadata": {},
   "source": [
    "Explanation:\n",
    "1. Use a list comprehension to create a list of integers from 1 to 10\n",
    "2. i for i in range(1,11) basically iterate throw the for loop and add number in list\n",
    "3. print the list using print() function"
   ]
  },
  {
   "cell_type": "markdown",
   "id": "056ba091",
   "metadata": {},
   "source": [
    "# 2. Find the length of a list without using the `len()` function"
   ]
  },
  {
   "cell_type": "code",
   "execution_count": 22,
   "id": "c15b01cd",
   "metadata": {},
   "outputs": [],
   "source": [
    "# step1. create function that take input as list\n",
    "def custom_len(input_list):\n",
    "    \n",
    "# step2: initialize the count from 0 that store the value of length    \n",
    "    count = 0\n",
    "    \n",
    "# step3: iterate throw the for loop and check that     \n",
    "    for _ in input_list:\n",
    "        \n",
    "# step3: increament the value of count from 1 \n",
    "        count += 1\n",
    "    \n",
    "# step4: finally return the value of count\n",
    "    return count\n"
   ]
  },
  {
   "cell_type": "code",
   "execution_count": 24,
   "id": "8c22cd18",
   "metadata": {},
   "outputs": [
    {
     "data": {
      "text/plain": [
       "6"
      ]
     },
     "execution_count": 24,
     "metadata": {},
     "output_type": "execute_result"
    }
   ],
   "source": [
    "custom_len([2,3,4,5,6,78])"
   ]
  },
  {
   "cell_type": "markdown",
   "id": "48e1ce89",
   "metadata": {},
   "source": [
    "Explanation:\n",
    "1. create function that take input as list which we will find length\n",
    "2. initialize the count from 0 that store the value of length\n",
    "3. iterate throw the for loop  in given list \n",
    "4. during the traversing increament the value of count from 1 \n",
    "4. finally return the value of count"
   ]
  },
  {
   "cell_type": "markdown",
   "id": "1a1f4ebb",
   "metadata": {},
   "source": [
    "# 3.  Append an element to the end of a list"
   ]
  },
  {
   "cell_type": "code",
   "execution_count": 32,
   "id": "a63c5f22",
   "metadata": {},
   "outputs": [],
   "source": [
    "# step1: create the function that take two arguments fist is list and second new element which i want to add in list\n",
    "def add_new_element(initial_list,new_element):\n",
    "\n",
    "# step2: append the list with new element\n",
    "    initial_list.append(new_element)\n",
    "    \n",
    "# step3: finally display the value updated list\n",
    "    print(\"My Updated list is:\", initial_list)"
   ]
  },
  {
   "cell_type": "code",
   "execution_count": 33,
   "id": "fb792661",
   "metadata": {},
   "outputs": [
    {
     "name": "stdout",
     "output_type": "stream",
     "text": [
      "My Updated list is: [1, 2, 3, 4, 56, 44]\n"
     ]
    }
   ],
   "source": [
    "add_new_element([1,2,3,4,56],44)"
   ]
  },
  {
   "cell_type": "markdown",
   "id": "2b1d682d",
   "metadata": {},
   "source": [
    "Explanation:\n",
    "1. create the function that take two arguments fist is list and second new element which i want to add in list\n",
    "2. append the list with new element with the help of append() method\n",
    "3. finally display the value updated list and use print()"
   ]
  },
  {
   "cell_type": "markdown",
   "id": "fcc60083",
   "metadata": {},
   "source": [
    "# 4. Insert an element at a specific index in a list"
   ]
  },
  {
   "cell_type": "code",
   "execution_count": 34,
   "id": "3672383f",
   "metadata": {},
   "outputs": [
    {
     "name": "stdout",
     "output_type": "stream",
     "text": [
      "Updated list: [10, 20, 25, 30, 40, 50]\n"
     ]
    }
   ],
   "source": [
    "# Example list\n",
    "my_list = [10, 20, 30, 40, 50]\n",
    "\n",
    "# Element to insert\n",
    "new_element = 25\n",
    "\n",
    "# Index at which to insert the element\n",
    "index_to_insert = 2\n",
    "\n",
    "# Insert the new element at the specified index\n",
    "my_list.insert(index_to_insert, new_element)\n",
    "\n",
    "# Print the updated list\n",
    "print(\"Updated list:\", my_list)"
   ]
  },
  {
   "cell_type": "markdown",
   "id": "4b489c5f",
   "metadata": {},
   "source": [
    "Explanation:f\n",
    "1. irst we need to create list \n",
    "2. choose new which i want want to insert in list\n",
    "3. Index at which to insert the element\n",
    "4. Insert the new element at the specified index using inset() function\n",
    "5. Print the updated list"
   ]
  },
  {
   "cell_type": "markdown",
   "id": "81e40ecc",
   "metadata": {},
   "source": [
    "# 5. Remove an element from a list by its value"
   ]
  },
  {
   "cell_type": "code",
   "execution_count": 35,
   "id": "394a059c",
   "metadata": {},
   "outputs": [
    {
     "name": "stdout",
     "output_type": "stream",
     "text": [
      "Updated list: [10, 20, 40, 50]\n"
     ]
    }
   ],
   "source": [
    "# Example list\n",
    "my_list = [10, 20, 30, 40, 50]\n",
    "\n",
    "# Element to remove\n",
    "element_to_remove = 30\n",
    "\n",
    "# Remove the element by its value\n",
    "my_list.remove(element_to_remove)\n",
    "\n",
    "# Print the updated list\n",
    "print(\"Updated list:\", my_list)"
   ]
  },
  {
   "cell_type": "markdown",
   "id": "e840d300",
   "metadata": {},
   "source": [
    "1. first i need to create list \n",
    "2. choose new value which i want want to remove from the list\n",
    "3. remove the element from the list which have given using .remove() function\n",
    "4. finnaly print your modified list"
   ]
  },
  {
   "cell_type": "markdown",
   "id": "d552cae8",
   "metadata": {},
   "source": [
    "# 6.  Remove an element from a list by its index"
   ]
  },
  {
   "cell_type": "code",
   "execution_count": 45,
   "id": "c6d3f68a",
   "metadata": {},
   "outputs": [],
   "source": [
    "# create function that take two arguments list and index \n",
    "def remove_element(input_list,idx):\n",
    "    \n",
    "# pop() element from the specific index\n",
    "    input_list.pop(idx);\n",
    "    \n",
    "# finnaly the return the value of modified list\n",
    "    return input_list"
   ]
  },
  {
   "cell_type": "code",
   "execution_count": 46,
   "id": "1a156ca8",
   "metadata": {},
   "outputs": [
    {
     "data": {
      "text/plain": [
       "[1, 2, 4, 5, 6]"
      ]
     },
     "execution_count": 46,
     "metadata": {},
     "output_type": "execute_result"
    }
   ],
   "source": [
    "remove_element([1,2,3,4,5,6],2)"
   ]
  },
  {
   "cell_type": "markdown",
   "id": "f1668332",
   "metadata": {},
   "source": [
    "Explnation:\n",
    "1. create function that take two arguments first is list and second is index \n",
    "2. we need to pop element on the specific index which i have entered \n",
    "3. use the pop() method to delete element from list.\n",
    "4. finnaly return modified list as as finall list"
   ]
  },
  {
   "cell_type": "markdown",
   "id": "1414b36b",
   "metadata": {},
   "source": [
    "# 7. Check if an element exists in a list"
   ]
  },
  {
   "cell_type": "code",
   "execution_count": 3,
   "id": "f97a7be2",
   "metadata": {},
   "outputs": [],
   "source": [
    "# create function that take two arguments input list and other is element\n",
    "def check_element(input_list, element):\n",
    "    \n",
    "    \n",
    "# check that element is exist in given list or not\n",
    "        if element in input_list:\n",
    "            print(element,\"are present in the list\")\n",
    "        else:\n",
    "            print(element,\"are not present in the list\")"
   ]
  },
  {
   "cell_type": "code",
   "execution_count": 4,
   "id": "11f6fc6f",
   "metadata": {},
   "outputs": [
    {
     "name": "stdout",
     "output_type": "stream",
     "text": [
      "4 are not present in the list\n"
     ]
    }
   ],
   "source": [
    "check_element([1,2,3,45],4)"
   ]
  },
  {
   "cell_type": "markdown",
   "id": "bdff9559",
   "metadata": {},
   "source": [
    "Explanation:\n",
    "1. create function that take two arguments input list and other is element which i want to check\n",
    "2. through if(), else() condition i need to check that element are present in list or not\n",
    "3. if yes then print(element,\"are present in the list\")\n",
    "4. if element is not exist in list then, print(element,\"are not present in the list\")\n",
    "                     "
   ]
  },
  {
   "cell_type": "markdown",
   "id": "f09fc62f",
   "metadata": {},
   "source": [
    "# 8. Find the index of the first occurrence of an element in a list"
   ]
  },
  {
   "cell_type": "code",
   "execution_count": 11,
   "id": "f5d5eeda",
   "metadata": {},
   "outputs": [
    {
     "name": "stdout",
     "output_type": "stream",
     "text": [
      "The index of 30 is 2\n"
     ]
    }
   ],
   "source": [
    "# Example list\n",
    "my_list = [10, 20, 30, 40, 50, 30]\n",
    "\n",
    "# Element to find the index of\n",
    "element_to_find = 30\n",
    "\n",
    "# Find the index of the first occurrence of the element\n",
    "index = my_list.index(element_to_find)\n",
    "\n",
    "# Print the index\n",
    "print(f\"The index of {element_to_find} is {index}\")"
   ]
  },
  {
   "cell_type": "markdown",
   "id": "131ce3ef",
   "metadata": {},
   "source": [
    "Explanation:\n",
    "1. firstly i have created my list where i need to find my element index\n",
    "2. second thing that is to enter your element then can check that my element in list or not\n",
    "3. using .index() method check that element\n",
    "4. after check if yes then print first occurrence means index of element"
   ]
  },
  {
   "cell_type": "markdown",
   "id": "28091d23",
   "metadata": {},
   "source": [
    "# 9. Count the occurrences of an element in a list"
   ]
  },
  {
   "cell_type": "code",
   "execution_count": 17,
   "id": "d84c5288",
   "metadata": {},
   "outputs": [
    {
     "name": "stdout",
     "output_type": "stream",
     "text": [
      "The element 30 occurs 3 times in the list.\n"
     ]
    }
   ],
   "source": [
    "# Example list\n",
    "my_list = [10, 20, 30, 40, 50, 30, 30]\n",
    "\n",
    "# Element to count occurrences of\n",
    "element_to_count = 30\n",
    "\n",
    "# Count the occurrences of the element\n",
    "count = my_list.count(element_to_count)\n",
    "\n",
    "# Print the count\n",
    "print(f\"The element {element_to_count} occurs {count} times in the list.\")"
   ]
  },
  {
   "cell_type": "markdown",
   "id": "5c3940ee",
   "metadata": {},
   "source": [
    "Explanation:\n",
    "1. in first step create your list\n",
    "2. enter your element which i want to count in list\n",
    "3. Count the occurrences of the element using count() method\n",
    "4. Print the count"
   ]
  },
  {
   "cell_type": "markdown",
   "id": "ae56d7e0",
   "metadata": {},
   "source": [
    "# 10. Reverse the order of elements in a list"
   ]
  },
  {
   "cell_type": "code",
   "execution_count": 18,
   "id": "9b840c06",
   "metadata": {},
   "outputs": [
    {
     "name": "stdout",
     "output_type": "stream",
     "text": [
      "Reversed list: [50, 40, 30, 20, 10]\n"
     ]
    }
   ],
   "source": [
    "# Example list\n",
    "my_list = [10, 20, 30, 40, 50]\n",
    "\n",
    "# Reverse the order of elements in the list\n",
    "my_list.reverse()\n",
    "\n",
    "# Print the reversed list\n",
    "print(\"Reversed list:\", my_list)"
   ]
  },
  {
   "cell_type": "markdown",
   "id": "5e94dcc6",
   "metadata": {},
   "source": [
    "Explanation:\n",
    "1. in first step create your list\n",
    "2. to find reverse order of  the list using .reverse() method\n",
    "3. display the reversed list using print() "
   ]
  },
  {
   "cell_type": "markdown",
   "id": "888afdae",
   "metadata": {},
   "source": [
    "# 11.  Sort a list in ascending order"
   ]
  },
  {
   "cell_type": "code",
   "execution_count": 26,
   "id": "0242ba4c",
   "metadata": {},
   "outputs": [
    {
     "name": "stdout",
     "output_type": "stream",
     "text": [
      "Sorted list in ascending order: [10, 20, 30, 40, 50]\n"
     ]
    }
   ],
   "source": [
    "# Example list\n",
    "my_list = [50, 10, 30, 40, 20]\n",
    "\n",
    "# Sort the list in ascending order\n",
    "my_list.sort()\n",
    "\n",
    "# Print the sorted list\n",
    "print(\"Sorted list in ascending order:\", my_list)"
   ]
  },
  {
   "cell_type": "markdown",
   "id": "e162d930",
   "metadata": {},
   "source": [
    "Explanation:\n",
    "1. in first step create your list\n",
    "2. Sort the list in ascending order using .sort() method\n",
    "3. display the sortest list using print() method"
   ]
  },
  {
   "cell_type": "markdown",
   "id": "2312b775",
   "metadata": {},
   "source": [
    "# 12. Sort a list in descending order"
   ]
  },
  {
   "cell_type": "code",
   "execution_count": 27,
   "id": "edf7b819",
   "metadata": {},
   "outputs": [
    {
     "name": "stdout",
     "output_type": "stream",
     "text": [
      "Sorted list in descending order: [50, 40, 30, 20, 10]\n"
     ]
    }
   ],
   "source": [
    "# Example list\n",
    "my_list = [50, 10, 30, 40, 20]\n",
    "\n",
    "# Sort the list in descending order\n",
    "my_list.sort(reverse=True)\n",
    "\n",
    "# Print the sorted list\n",
    "print(\"Sorted list in descending order:\", my_list)"
   ]
  },
  {
   "cell_type": "markdown",
   "id": "331d8323",
   "metadata": {},
   "source": [
    "Explanation:\n",
    "1. 1. in first step create your list\n",
    "2. Sort the list in descending order using .sort() method list with reverse parameter set True to sort the element in descending order\n",
    "3. display the sortest list using print() method"
   ]
  },
  {
   "cell_type": "markdown",
   "id": "a9b607b3",
   "metadata": {},
   "source": [
    "# 13. Create a list of even numbers from 1 to 20"
   ]
  },
  {
   "cell_type": "code",
   "execution_count": 28,
   "id": "2cfc7012",
   "metadata": {},
   "outputs": [
    {
     "name": "stdout",
     "output_type": "stream",
     "text": [
      "List of even numbers: [2, 4, 6, 8, 10, 12, 14, 16, 18, 20]\n"
     ]
    }
   ],
   "source": [
    "# Use a list comprehension to create a list of even numbers from 1 to 20\n",
    "even_numbers = [x for x in range(2, 21, 2)]\n",
    "\n",
    "# Print the list of even numbers\n",
    "print(\"List of even numbers:\", even_numbers)"
   ]
  },
  {
   "cell_type": "markdown",
   "id": "10588540",
   "metadata": {},
   "source": [
    "Explanation:\n",
    "1. Use a list comprehension to create a list of even numbers from 1 to 20 using range() function\n",
    "2. here we can start our range function with range(2,20,2)\n",
    "3. Print the list of even numbers"
   ]
  },
  {
   "cell_type": "markdown",
   "id": "6fe2aea3",
   "metadata": {},
   "source": [
    "# 14. Create a list of odd numbers from 1 to 20"
   ]
  },
  {
   "cell_type": "code",
   "execution_count": 30,
   "id": "62c3d51c",
   "metadata": {},
   "outputs": [
    {
     "name": "stdout",
     "output_type": "stream",
     "text": [
      "List of odd numbers: [1, 3, 5, 7, 9, 11, 13, 15, 17, 19]\n"
     ]
    }
   ],
   "source": [
    "# Use a list comprehension to create a list of odd numbers from 1 to 20\n",
    "odd_numbers = [x for x in range(1, 21, 2)]\n",
    "\n",
    "# Print the list of odd numbers\n",
    "print(\"List of odd numbers:\", odd_numbers)"
   ]
  },
  {
   "cell_type": "markdown",
   "id": "cd5fc894",
   "metadata": {},
   "source": [
    "Explanation:\n",
    "1. Use a list comprehension to create a list of odd numbers from 1 to 20 using range() function\n",
    "2. here we can start our range function with range(1,20,2)\n",
    "3. Print the list of odd numbers"
   ]
  },
  {
   "cell_type": "markdown",
   "id": "57e4912c",
   "metadata": {},
   "source": [
    "# 15.  Find the sum of all elements in a list"
   ]
  },
  {
   "cell_type": "code",
   "execution_count": 31,
   "id": "221ecdef",
   "metadata": {},
   "outputs": [
    {
     "name": "stdout",
     "output_type": "stream",
     "text": [
      "Sum of elements: 150\n"
     ]
    }
   ],
   "source": [
    "# Example list\n",
    "my_list = [10, 20, 30, 40, 50]\n",
    "\n",
    "# Calculate the sum of all elements in the list\n",
    "total_sum = sum(my_list)\n",
    "\n",
    "# Print the sum\n",
    "print(\"Sum of elements:\", total_sum)"
   ]
  },
  {
   "cell_type": "markdown",
   "id": "e7ffebaa",
   "metadata": {},
   "source": [
    "Explanation:\n",
    "1. create your list\n",
    "2. Calculate the sum of all elements in the list using sum() function\n",
    "3. in sum i need to pass my list like sum(my_list)\n",
    "4. dispaly your sum of element in list"
   ]
  },
  {
   "cell_type": "markdown",
   "id": "4600af52",
   "metadata": {},
   "source": [
    "# 16. Find the maximum value in a list"
   ]
  },
  {
   "cell_type": "code",
   "execution_count": 33,
   "id": "a4610f81",
   "metadata": {},
   "outputs": [
    {
     "name": "stdout",
     "output_type": "stream",
     "text": [
      "Maximum value: 50\n"
     ]
    }
   ],
   "source": [
    "# create your  list\n",
    "my_list = [10, 20, 30, 40, 50]\n",
    "\n",
    "# Find the maximum value in the list\n",
    "max_value = max(my_list)\n",
    "\n",
    "# Print the maximum value\n",
    "print(\"Maximum value:\", max_value)"
   ]
  },
  {
   "cell_type": "markdown",
   "id": "dd055ed8",
   "metadata": {},
   "source": [
    "Explanation:\n",
    "1. create your list\n",
    "2. finding maximum value in the list using max() method\n",
    "3. max() function basically return the max value in any list\n",
    "4. display the maximum value of list "
   ]
  },
  {
   "cell_type": "markdown",
   "id": "d7834e9f",
   "metadata": {},
   "source": [
    "# 17. Find the minimum value in a list"
   ]
  },
  {
   "cell_type": "code",
   "execution_count": 34,
   "id": "fa748df8",
   "metadata": {},
   "outputs": [
    {
     "name": "stdout",
     "output_type": "stream",
     "text": [
      "Minimum value: 10\n"
     ]
    }
   ],
   "source": [
    "# create your list\n",
    "my_list = [10, 20, 30, 40, 50]\n",
    "\n",
    "# Find the minimum value in the list\n",
    "min_value = min(my_list)\n",
    "\n",
    "# Print the minimum value\n",
    "print(\"Minimum value:\", min_value)"
   ]
  },
  {
   "cell_type": "markdown",
   "id": "8bba5753",
   "metadata": {},
   "source": [
    "Explanation:\n",
    "1. create your list\n",
    "2. finding minimum value in the list using min() method\n",
    "3. min() function basically return the minmum value in any list\n",
    "4. display the minimum value of the list "
   ]
  },
  {
   "cell_type": "markdown",
   "id": "c7609e5a",
   "metadata": {},
   "source": [
    "# 18. Create a list of squares of numbers from 1 to 10"
   ]
  },
  {
   "cell_type": "code",
   "execution_count": 35,
   "id": "21cae208",
   "metadata": {},
   "outputs": [
    {
     "name": "stdout",
     "output_type": "stream",
     "text": [
      "List of squares: [1, 4, 9, 16, 25, 36, 49, 64, 81, 100]\n"
     ]
    }
   ],
   "source": [
    "# Use a list comprehension to create a list of squares of numbers from 1 to 10\n",
    "squares = [x ** 2 for x in range(1, 11)]\n",
    "\n",
    "# Print the list of squares\n",
    "print(\"List of squares:\", squares)"
   ]
  },
  {
   "cell_type": "markdown",
   "id": "b500a29c",
   "metadata": {},
   "source": [
    "# Explanation:\n",
    "1. Use a list comprehension to create a list of squares of numbers from 1 to 10\n",
    "2. the expression [x**2 for x in ] basically itretate in range(1,11)\n",
    "3. for each value of first its do square and then add these on list\n",
    "4. square variable basically store all these value\n",
    "5. Print the list of squares"
   ]
  },
  {
   "cell_type": "markdown",
   "id": "728b168c",
   "metadata": {},
   "source": [
    "# 19. Create a list of random numbers"
   ]
  },
  {
   "cell_type": "code",
   "execution_count": 36,
   "id": "2ee5d37a",
   "metadata": {},
   "outputs": [
    {
     "name": "stdout",
     "output_type": "stream",
     "text": [
      "List of random integers: [48, 70, 89, 72, 74, 19, 78, 20, 21, 18]\n"
     ]
    }
   ],
   "source": [
    "import random\n",
    "\n",
    "# Create a list of random integers between 1 and 100\n",
    "random_integers = [random.randint(1, 100) for _ in range(10)]\n",
    "\n",
    "# Print the list of random integers\n",
    "print(\"List of random integers:\", random_integers)"
   ]
  },
  {
   "cell_type": "markdown",
   "id": "c421c0a7",
   "metadata": {},
   "source": [
    "1. import radom module at begining of the code\n",
    "2. comprehension expression basically generate random value in range and use it\n",
    "3. i have generate 10 random value of range(1,100)\n",
    "4. finnaly display your result"
   ]
  },
  {
   "cell_type": "markdown",
   "id": "1cdf16ef",
   "metadata": {},
   "source": [
    "# 20. Remove duplicates from a list"
   ]
  },
  {
   "cell_type": "code",
   "execution_count": 37,
   "id": "02df1e67",
   "metadata": {},
   "outputs": [],
   "source": [
    "# create your function that take input as a list\n",
    "def remove_duplicates(input_list):\n",
    "    \n",
    "# and create one variable than store list like ...\n",
    "    without_duplicate = list(set(input_list))\n",
    "    \n",
    "# finally return your modifild list\n",
    "    return without_duplicate"
   ]
  },
  {
   "cell_type": "code",
   "execution_count": 38,
   "id": "7064eb4e",
   "metadata": {},
   "outputs": [
    {
     "data": {
      "text/plain": [
       "[1, 2, 3, 4, 5]"
      ]
     },
     "execution_count": 38,
     "metadata": {},
     "output_type": "execute_result"
    }
   ],
   "source": [
    "remove_duplicates([1,2,3,4,5,2,3,4,5])"
   ]
  },
  {
   "cell_type": "markdown",
   "id": "ec4d5ce9",
   "metadata": {},
   "source": [
    "Explanation:\n",
    "1. create your function and pass one argument as a list\n",
    "2. and create one variable than store list\n",
    "3. convert your list into set, because set always remove the duplicate values\n",
    "4. again convert value in list\n",
    "5. that's all things are going to store in with_duplicate variable\n",
    "6. finally return your modified list , with duplicates"
   ]
  },
  {
   "cell_type": "markdown",
   "id": "de6b1814",
   "metadata": {},
   "source": [
    "# 21. Find the common elements between two lists"
   ]
  },
  {
   "cell_type": "code",
   "execution_count": 10,
   "id": "e77dcdf1",
   "metadata": {},
   "outputs": [
    {
     "name": "stdout",
     "output_type": "stream",
     "text": [
      "common element between two list is: [3, 2]\n"
     ]
    }
   ],
   "source": [
    "# create two list where i have to find common element between them\n",
    "first_list = [3,4,6,78,9,2]\n",
    "second_list = [2,3,89,43,21]\n",
    "\n",
    "# throw the comprehension expression itreate list one then check that element is present or not\n",
    "find_common = [x for x in first_list if x in second_list]\n",
    "\n",
    "# display the finnaly result using print() method\n",
    "print(\"common element between two list is:\",find_common)"
   ]
  },
  {
   "cell_type": "markdown",
   "id": "afe62dc3",
   "metadata": {},
   "source": [
    "Explanation:\n",
    "1. create two list first_list and second_list\n",
    "2. iterate throw the comprehension expression using x for x in\n",
    "3. check that in first_list element avaiable are not in second_list\n",
    "4. store all these element one common variable\n",
    "5. finally display your result using print() function"
   ]
  },
  {
   "cell_type": "markdown",
   "id": "791fd529",
   "metadata": {},
   "source": [
    "# 22.  Find the difference between two lists"
   ]
  },
  {
   "cell_type": "code",
   "execution_count": 11,
   "id": "745a6050",
   "metadata": {},
   "outputs": [
    {
     "name": "stdout",
     "output_type": "stream",
     "text": [
      "Difference between lists: [20, 10]\n"
     ]
    }
   ],
   "source": [
    "# Example lists\n",
    "list1 = [10, 20, 30, 40, 50]\n",
    "list2 = [30, 40, 50, 60, 70]\n",
    "\n",
    "# Find the difference between lists using the difference() method\n",
    "difference = list(set(list1).difference(list2))\n",
    "\n",
    "# Print the difference\n",
    "print(\"Difference between lists:\", difference)"
   ]
  },
  {
   "cell_type": "markdown",
   "id": "0855abd0",
   "metadata": {},
   "source": [
    "Explanation:\n",
    "1. create two list first_list and second_list\n",
    "2. Find the difference between lists using the difference() method\n",
    "3. difference() method basically provide me difference two list\n",
    "4. store all these element one common variable like difference\n",
    "5. finally display your result using print() function"
   ]
  },
  {
   "cell_type": "markdown",
   "id": "42b5363b",
   "metadata": {},
   "source": [
    "# 23.  Merge two lists"
   ]
  },
  {
   "cell_type": "code",
   "execution_count": 12,
   "id": "e2fb7a3b",
   "metadata": {},
   "outputs": [
    {
     "name": "stdout",
     "output_type": "stream",
     "text": [
      "Merged list: [10, 20, 30, 40, 50, 60]\n"
     ]
    }
   ],
   "source": [
    "# Example lists\n",
    "list1 = [10, 20, 30]\n",
    "list2 = [40, 50, 60]\n",
    "\n",
    "# Merge lists using the + operator\n",
    "merged_list = list1 + list2\n",
    "\n",
    "# Print the merged list\n",
    "print(\"Merged list:\", merged_list)"
   ]
  },
  {
   "cell_type": "markdown",
   "id": "0f59549e",
   "metadata": {},
   "source": [
    "Explanation:\n",
    "1. create two list first_list and second_list\n",
    "2. Merge lists using the + operator\n",
    "3. through the + operator we easily merge two list\n",
    "4. store merge list one other variable\n",
    "5. finally display your result using print() function"
   ]
  },
  {
   "cell_type": "markdown",
   "id": "fbc939c0",
   "metadata": {},
   "source": [
    "# 24.  Multiply all elements in a list by 2"
   ]
  },
  {
   "cell_type": "code",
   "execution_count": 13,
   "id": "e69fc6a3",
   "metadata": {},
   "outputs": [
    {
     "name": "stdout",
     "output_type": "stream",
     "text": [
      "Multiplied list: [20, 40, 60, 80, 100]\n"
     ]
    }
   ],
   "source": [
    "# Example list\n",
    "my_list = [10, 20, 30, 40, 50]\n",
    "\n",
    "# Multiply all elements by 2 using a list comprehension\n",
    "multiplied_list = [x * 2 for x in my_list]\n",
    "\n",
    "# Print the multiplied list\n",
    "print(\"Multiplied list:\", multiplied_list)"
   ]
  },
  {
   "cell_type": "markdown",
   "id": "656be8f1",
   "metadata": {},
   "source": [
    "Explanation:\n",
    "1. create list\n",
    "2. Merge lists using the + operator\n",
    "3. Multiply all elements by 2 using a list comprehension\n",
    "4. Print the multiplied list\n"
   ]
  },
  {
   "cell_type": "markdown",
   "id": "2109dfec",
   "metadata": {},
   "source": [
    "# 25.  Filter out all even numbers from a list"
   ]
  },
  {
   "cell_type": "code",
   "execution_count": 1,
   "id": "6ad18f74",
   "metadata": {},
   "outputs": [
    {
     "name": "stdout",
     "output_type": "stream",
     "text": [
      "Multiplied list: [2, 4, 8]\n"
     ]
    }
   ],
   "source": [
    "# Example list\n",
    "my_list = [1,2,3,4,5,7,8]\n",
    "\n",
    "# Multiply all elements by 2 using a list comprehension\n",
    "multiplied_list = [x for x in my_list if x%2 ==0]\n",
    "\n",
    "# Print the multiplied list\n",
    "print(\"Multiplied list:\", multiplied_list)"
   ]
  },
  {
   "cell_type": "markdown",
   "id": "eaa191c2",
   "metadata": {},
   "source": [
    "Explanation:\n",
    "\n",
    "1. create a list\n",
    "2. interate through the comprehension expression every element in the list\n",
    "3. through the traversing check that element is even or not using x%2==0\n",
    "4. finally dislay the value of our list using print() method"
   ]
  },
  {
   "cell_type": "markdown",
   "id": "1e4375b8",
   "metadata": {},
   "source": [
    "# 26. Convert a list of strings to a list of integers"
   ]
  },
  {
   "cell_type": "code",
   "execution_count": 10,
   "id": "2234a56c",
   "metadata": {},
   "outputs": [
    {
     "name": "stdout",
     "output_type": "stream",
     "text": [
      "List of integers: [10, 20, 30, 40, 50]\n"
     ]
    }
   ],
   "source": [
    "# Example list of strings\n",
    "string_list = [\"10\", \"20\", \"30\", \"40\", \"50\"]\n",
    "\n",
    "# Convert list of strings to list of integers using a list comprehension\n",
    "integer_list = [int(x) for x in string_list]\n",
    "\n",
    "# Print the list of integers\n",
    "print(\"List of integers:\", integer_list)"
   ]
  },
  {
   "cell_type": "markdown",
   "id": "aa369175",
   "metadata": {},
   "source": [
    "Explnation:\n",
    "1. we start list with in the form of string element\n",
    "2. iterate through the comprehension list in string_list\n",
    "3. using int() function we can covert our string to integer value\n",
    "4. display the finnaly outcome of your list using print() function"
   ]
  },
  {
   "cell_type": "markdown",
   "id": "a12ba5bd",
   "metadata": {},
   "source": [
    "# 27.  Convert a list of integers to a list of strings"
   ]
  },
  {
   "cell_type": "code",
   "execution_count": 14,
   "id": "039b73b7",
   "metadata": {},
   "outputs": [
    {
     "name": "stdout",
     "output_type": "stream",
     "text": [
      "List of string is: ['1', '23', '4', '5', '6', '7']\n"
     ]
    }
   ],
   "source": [
    "# create your own integer list\n",
    "integer_list = [ 1,23,4,5,6,7]\n",
    "\n",
    "# convert integer list to string list using comprehensive list\n",
    "string_list = [str(x) for x in integer_list]\n",
    "\n",
    "# print your string list using print() fucntion\n",
    "print(\"List of string is:\",string_list)"
   ]
  },
  {
   "cell_type": "markdown",
   "id": "cc9ef90f",
   "metadata": {},
   "source": [
    "Explanation:\n",
    "1. we can start our list with integer value\n",
    "2. iterate throw the comprehesive list \n",
    "3. using str() function convert integer to string value\n",
    "4. finnaly display your string ling"
   ]
  },
  {
   "cell_type": "markdown",
   "id": "4bd10465",
   "metadata": {},
   "source": [
    "# 28.  Flatten a nested list."
   ]
  },
  {
   "cell_type": "code",
   "execution_count": 15,
   "id": "eff21db8",
   "metadata": {},
   "outputs": [
    {
     "name": "stdout",
     "output_type": "stream",
     "text": [
      "Flattened list: [1, 2, 3, 4, 5, 6, 7, 8, 9]\n"
     ]
    }
   ],
   "source": [
    "# Example nested list\n",
    "nested_list = [[1, 2, 3], [4, 5], [6, 7, 8, 9]]\n",
    "\n",
    "# Function to flatten a nested list\n",
    "def flatten_list(nested):\n",
    "    flattened = []\n",
    "    for sublist in nested:\n",
    "        if isinstance(sublist, list):\n",
    "            flattened.extend(flatten_list(sublist))\n",
    "        else:\n",
    "            flattened.append(sublist)\n",
    "    return flattened\n",
    "\n",
    "# Flatten the nested list\n",
    "flattened_list = flatten_list(nested_list)\n",
    "\n",
    "# Print the flattened list\n",
    "print(\"Flattened list:\", flattened_list)"
   ]
  },
  {
   "cell_type": "markdown",
   "id": "3d77787b",
   "metadata": {},
   "source": [
    "Explanation:\n",
    "1. create your nested list means list inside or sublist\n",
    "2. then define your function flatten_list that one argument as nested list\n",
    "3. initialize and declare one variable with empty list\n",
    "4. iterate through the for loop\n",
    "5. if the list flatten list then directly call the recursively flatten_list() function\n",
    "6. if element is not sublist then directly append it in flatten_list\n",
    "7. Finally return your flatten list"
   ]
  },
  {
   "cell_type": "markdown",
   "id": "0df18dd5",
   "metadata": {},
   "source": [
    "# 29. Create a list of the first 10 Fibonacci numbers."
   ]
  },
  {
   "cell_type": "code",
   "execution_count": 23,
   "id": "2335565c",
   "metadata": {},
   "outputs": [],
   "source": [
    "# create function that take one arguments , integer value\n",
    "def fibonacci_number(n):\n",
    "    \n",
    "# initialize first two term of fibonacci series    \n",
    "    fibonacci_list = [0,1]\n",
    "    \n",
    "# iterate through the for loop in given range of seris    \n",
    "    for i in range(2,n):\n",
    "        \n",
    "# find fibonacci element nth term = (n-1)th term + (n-2)th term\n",
    "        next_fibonacci = fibonacci_list[i-1]+fibonacci_list[i-2]\n",
    "    \n",
    "# we can append our next list with starting fibonacci list\n",
    "        fibonacci_list.append(next_fibonacci)\n",
    "    \n",
    "# finally return the fibonacci list\n",
    "    return fibonacci_list"
   ]
  },
  {
   "cell_type": "code",
   "execution_count": 21,
   "id": "085248b4",
   "metadata": {},
   "outputs": [
    {
     "data": {
      "text/plain": [
       "[0, 1, 1, 2, 3, 5, 8, 13, 21, 34]"
      ]
     },
     "execution_count": 21,
     "metadata": {},
     "output_type": "execute_result"
    }
   ],
   "source": [
    "fibonacci_number(10)"
   ]
  },
  {
   "cell_type": "markdown",
   "id": "38f818bd",
   "metadata": {},
   "source": [
    "Explanation:\n",
    "1. create function that take one arguments , integer value\n",
    "2. initialize first two term of fibonacci series from 0 to 1 like [0,1]\n",
    "3. iterate through the for loop in given range of seris  like range(2,n)\n",
    "4. range() function provide me value given range\n",
    "5. use append() function for join all list\n",
    "6. finally return your fibonacci list"
   ]
  },
  {
   "cell_type": "markdown",
   "id": "48119d05",
   "metadata": {},
   "source": [
    "# 30. Check if a list is sorted"
   ]
  },
  {
   "cell_type": "code",
   "execution_count": null,
   "id": "6a49a727",
   "metadata": {},
   "outputs": [],
   "source": [
    "# Function to check if a list is sorted in ascending order\n",
    "def is_sorted_ascending(lst):\n",
    "    for i in range(1, len(lst)):\n",
    "        if lst[i] < lst[i - 1]:\n",
    "            return False\n",
    "    return True\n",
    "\n",
    "# Example list\n",
    "ascending_list = [10, 20, 30, 5, 50]\n",
    "\n",
    "# Check if the list is sorted in ascending order\n",
    "if is_sorted_ascending(ascending_list):\n",
    "    print(\"The list is sorted in ascending order.\")\n",
    "else:\n",
    "    print(\"The list is not sorted in ascending order.\")"
   ]
  },
  {
   "cell_type": "markdown",
   "id": "5f076da4",
   "metadata": {},
   "source": [
    "Explanation:\n",
    "1. create function that take one argument as list\n",
    "2. iterate through the for loop in given range()\n",
    "3. range() function basically help in traverse element in loop\n",
    "4. check that given list sort in ascending order or not\n",
    "5. if list is sorted then, print,list is sorted using print() function\n",
    "6. if list is not sorted then, print,list is sorted using print() function"
   ]
  },
  {
   "cell_type": "markdown",
   "id": "ad3500e4",
   "metadata": {},
   "source": [
    "# Tuple Based Practice Problem :"
   ]
  },
  {
   "cell_type": "markdown",
   "id": "1bfbec95",
   "metadata": {},
   "source": [
    "# 1. Create a tuple with integers from 1 to 5"
   ]
  },
  {
   "cell_type": "code",
   "execution_count": 67,
   "id": "2f5f89f8",
   "metadata": {},
   "outputs": [
    {
     "name": "stdout",
     "output_type": "stream",
     "text": [
      "(1, 2, 3, 4, 5)\n"
     ]
    }
   ],
   "source": [
    "# declare your tuple and put element in range\n",
    "integer_tuple = (1,2,3,4,5)\n",
    "\n",
    "# dispaly your tuple value\n",
    "print(integer_tuple)"
   ]
  },
  {
   "cell_type": "code",
   "execution_count": 68,
   "id": "ca6bc16f",
   "metadata": {},
   "outputs": [
    {
     "data": {
      "text/plain": [
       "tuple"
      ]
     },
     "execution_count": 68,
     "metadata": {},
     "output_type": "execute_result"
    }
   ],
   "source": [
    "type(integer_tuple)"
   ]
  },
  {
   "cell_type": "markdown",
   "id": "cf688978",
   "metadata": {},
   "source": [
    "Explanation:\n",
    "1. we can create our tuple using () parantheis in given range\n",
    "2. and display your final tuple using print() function"
   ]
  },
  {
   "cell_type": "markdown",
   "id": "6bfd6118",
   "metadata": {},
   "source": [
    "# 2. Access the third element of a tuple"
   ]
  },
  {
   "cell_type": "code",
   "execution_count": 69,
   "id": "caa5f609",
   "metadata": {},
   "outputs": [
    {
     "name": "stdout",
     "output_type": "stream",
     "text": [
      "The third element of the tuple is: 30\n"
     ]
    }
   ],
   "source": [
    "# Step 1: Create a tuple with some elements\n",
    "my_tuple = (10, 20, 30, 40, 50)\n",
    "\n",
    "# Step 2: Access the third element (index 2) of the tuple\n",
    "third_element = my_tuple[2]\n",
    "\n",
    "# Step 3: Print the third element\n",
    "print(\"The third element of the tuple is:\", third_element)"
   ]
  },
  {
   "cell_type": "markdown",
   "id": "aa6d0104",
   "metadata": {},
   "source": [
    "Explanation:\n",
    "1. we can do first thing is a create a tuple with some of element\n",
    "2. we can perform indexing operation for access third element from tuple\n",
    "3. my_tuple[2] like that we can access our element \n",
    "4. display your result using print()"
   ]
  },
  {
   "cell_type": "markdown",
   "id": "f4c93cf9",
   "metadata": {},
   "source": [
    "# 3.  Find the length of a tuple without using the `len()` function"
   ]
  },
  {
   "cell_type": "code",
   "execution_count": 78,
   "id": "80412e1c",
   "metadata": {},
   "outputs": [
    {
     "name": "stdout",
     "output_type": "stream",
     "text": [
      "length of tuple is: 7\n"
     ]
    }
   ],
   "source": [
    "# Step 1: Create a tuple with some elements\n",
    "my_tuple = (1,12,3,4,5,6,8)\n",
    "\n",
    "# initialize the variable that count the element\n",
    "count = 0\n",
    "# Step 2: traverse through for loop \n",
    "for i in my_tuple:\n",
    "    if i in my_tuple:\n",
    "        count =  count+1\n",
    "\n",
    "# Step 3: Print your result\n",
    "print(\"length of tuple is:\", count)"
   ]
  },
  {
   "cell_type": "markdown",
   "id": "53bc2b6b",
   "metadata": {},
   "source": [
    "Explanation:\n",
    "1. first things is that create a tuple with some element where we can check that what is length\n",
    "2. initialize and declare the varialbe that count the element in tuple\n",
    "3. then we can iterate the tuple with the help of for loop and we can traverse each element\n",
    "4. check that if integer in tuple then increament my count value from 1\n",
    "5. finally display your result using print() function"
   ]
  },
  {
   "cell_type": "markdown",
   "id": "e800c187",
   "metadata": {},
   "source": [
    "# 4.  Count the occurrences of an element in a tuple"
   ]
  },
  {
   "cell_type": "code",
   "execution_count": 86,
   "id": "c889176b",
   "metadata": {},
   "outputs": [
    {
     "name": "stdout",
     "output_type": "stream",
     "text": [
      " Occurrence of 1 in tuple (1, 2, 3, 45, 2, 3, 9, 3, 2, 1, 5) is : 2\n"
     ]
    }
   ],
   "source": [
    "# creat your tuple with some element\n",
    "my_tuple = (1,2,3,45,2,3,9,3,2,1,5)\n",
    "\n",
    "# initialize your one varialbe with interger value\n",
    "my_element = 1\n",
    "\n",
    "# decalre another variable for storing the value occurrence in tuple\n",
    "count = 0\n",
    "\n",
    "# traverse through the for loop and check that element\n",
    "for i in my_tuple:\n",
    "    if i == my_element:\n",
    "        \n",
    "# increament the value of count from 1\n",
    "        count = count+1\n",
    "    \n",
    "# finally display your number of occourrence\n",
    "print(\" Occurrence of\",my_element,\"in tuple\",my_tuple,\"is :\",count)\n",
    "    "
   ]
  },
  {
   "cell_type": "markdown",
   "id": "0b6fbbc7",
   "metadata": {},
   "source": [
    "Explanation:\n",
    "1. creat your tuple with some element\n",
    "2. initialize one variable with integer value which i have to count occurrence in tuple\n",
    "3. we can declare another variable for storing occurrence value of element \n",
    "4. traverse tuple with the help of for loop and check that  element is equal to tuple element or not\n",
    "5. if tuple element and entered element are matched , then increament value of count from 1\n",
    "6. finally use print() and display your result"
   ]
  },
  {
   "cell_type": "markdown",
   "id": "9dc1ebdd",
   "metadata": {},
   "source": [
    "# 5. Find the index of the first occurrence of an element in a tuple."
   ]
  },
  {
   "cell_type": "code",
   "execution_count": 96,
   "id": "3c81a649",
   "metadata": {},
   "outputs": [
    {
     "name": "stdout",
     "output_type": "stream",
     "text": [
      "20 are not fount in tuple (1, 2, 3, 45, 2, 3, 9, 3, 2, 1, 5).\n"
     ]
    }
   ],
   "source": [
    "# creat your tuple with some element\n",
    "my_tuple = (1,2,3,45,2,3,9,3,2,1,5)\n",
    "\n",
    "# initialize your one varialbe with interger value\n",
    "my_element = 20\n",
    "\n",
    "# initiazlie your index -1, here -1 is say that element is not found in tuple\n",
    "first_index = -1\n",
    "for i, item in enumerate(my_tuple):\n",
    "    if item == my_element:\n",
    "        first_index = i\n",
    "        break\n",
    "    \n",
    "# finally display your number of occourrence\n",
    "if first_index!= -1:\n",
    "    \n",
    "    print(\" First Occurrence of\", my_element,\"in given tuple is:\",first_index)\n",
    "else:\n",
    "    print(f\"{my_element} are not fount in tuple {my_tuple}.\")\n",
    "    "
   ]
  },
  {
   "cell_type": "markdown",
   "id": "9eb02b84",
   "metadata": {},
   "source": [
    "Explnation:\n",
    "1. creat your tuple with some element\n",
    "2. initialize your one varialbe with interger value\n",
    "3. initiazlie your index -1, here -1 is say that element is not found in tuple\n",
    "4. traverse your tuple with the help of for loop and check that , here enumerate function provide  find index i and element       items\n",
    "5. if conditon are satisfied then store index value in another variable called first_indes\n",
    "6. finally display your number of occourrence"
   ]
  },
  {
   "cell_type": "markdown",
   "id": "22b0b81a",
   "metadata": {},
   "source": [
    "# 6. Check if an element exists in a tuple"
   ]
  },
  {
   "cell_type": "code",
   "execution_count": 7,
   "id": "815f2fb5",
   "metadata": {},
   "outputs": [
    {
     "name": "stdout",
     "output_type": "stream",
     "text": [
      "10 Does not exists given tuple\n"
     ]
    }
   ],
   "source": [
    "# create your tuple with some element\n",
    "my_tuple = (2,3,4,5,6,8)\n",
    "\n",
    "# initialize your element which you to check that in given tuple\n",
    "check_element = 10\n",
    "\n",
    "# check that and print if element is exist in tuple or not\n",
    "if check_element in my_tuple:\n",
    "    print(f\"Yes, Given element {check_element} exists in tuple\")\n",
    "else:\n",
    "    print(f\"{check_element} Does not exists given tuple\")"
   ]
  },
  {
   "cell_type": "markdown",
   "id": "27e78542",
   "metadata": {},
   "source": [
    "Explanation:\n",
    "1. first thing we can do create our own tuple\n",
    "2. initialize your element which you to check that in given tuple\n",
    "3. check that element is exists in given tuple or not\n",
    "4. dispaly your message as per conditon using print() function"
   ]
  },
  {
   "cell_type": "markdown",
   "id": "3788c1b6",
   "metadata": {},
   "source": [
    "# 7. Convert a tuple to a list"
   ]
  },
  {
   "cell_type": "code",
   "execution_count": 11,
   "id": "ba7376d0",
   "metadata": {},
   "outputs": [
    {
     "name": "stdout",
     "output_type": "stream",
     "text": [
      "Tuple: (10, 20, 30, 40, 50)\n",
      "List: [10, 20, 30, 40, 50]\n"
     ]
    }
   ],
   "source": [
    "# Step 1: Create a tuple\n",
    "my_tuple = (10, 20, 30, 40, 50)\n",
    "\n",
    "# Step 2: Convert the tuple to a list\n",
    "my_list = list(my_tuple)\n",
    "\n",
    "# Step 3: Print the resulting list\n",
    "print(\"Tuple:\", my_tuple)\n",
    "print(\"List:\", my_list)"
   ]
  },
  {
   "cell_type": "markdown",
   "id": "ad134b59",
   "metadata": {},
   "source": [
    "Explanation:\n",
    "1. first thing is create tuple with some element\n",
    "2. convert our tuple into list using list() method\n",
    "3. list() method basically used to convert one any thing from tuple\n",
    "4. Print the resulting list using print() method"
   ]
  },
  {
   "cell_type": "markdown",
   "id": "50b13d6b",
   "metadata": {},
   "source": [
    "# 8. Convert a list to a tuple"
   ]
  },
  {
   "cell_type": "code",
   "execution_count": 12,
   "id": "f50d9ddc",
   "metadata": {},
   "outputs": [
    {
     "name": "stdout",
     "output_type": "stream",
     "text": [
      "List: [10, 20, 30, 40, 50]\n",
      "Tuple: (10, 20, 30, 40, 50)\n"
     ]
    }
   ],
   "source": [
    "# Step 1: Create a list\n",
    "my_list = [10, 20, 30, 40, 50]\n",
    "\n",
    "# Step 2: Convert the list into tuple\n",
    "my_tuple = tuple(my_list)\n",
    "\n",
    "# Step 3: Print the resulting list\n",
    "print(\"List:\", my_list)\n",
    "print(\"Tuple:\", my_tuple)"
   ]
  },
  {
   "cell_type": "markdown",
   "id": "ca516ec1",
   "metadata": {},
   "source": [
    "Explanation:\n",
    "1. first thing is create tuple with some element\n",
    "2. convert our list into tuple with help of tuple() method\n",
    "3. tuple() method basically used to convert in the form of tuple\n",
    "4. Print the resulting list using print() method"
   ]
  },
  {
   "cell_type": "markdown",
   "id": "9bbc6e1e",
   "metadata": {},
   "source": [
    "# 9. Unpack the elements of a tuple into variables"
   ]
  },
  {
   "cell_type": "code",
   "execution_count": 15,
   "id": "cd32b2d3",
   "metadata": {},
   "outputs": [
    {
     "name": "stdout",
     "output_type": "stream",
     "text": [
      "first variable is: 3\n",
      "second variable is: 43\n",
      "third variable is: 5\n",
      "fourth variable is: 6\n"
     ]
    }
   ],
   "source": [
    "# create tuple\n",
    "my_tuple = (3,43,5,6)\n",
    "\n",
    "# unpack the tuple of element into variable\n",
    "var1,var2,var3, var4 = my_tuple\n",
    "\n",
    "# print our tuple value\n",
    "print(\"first variable is:\",var1)\n",
    "print(\"second variable is:\",var2)\n",
    "print(\"third variable is:\" ,var3)\n",
    "print(\"fourth variable is:\",var4)"
   ]
  },
  {
   "cell_type": "markdown",
   "id": "b57f5363",
   "metadata": {},
   "source": [
    "Explanation:\n",
    "1. create your tuple with some element\n",
    "2. second thing create variable for storing tuple element\n",
    "3. then unpack the tuple of element into variable\n",
    "4. finnaly display value of variable"
   ]
  },
  {
   "cell_type": "markdown",
   "id": "86650b10",
   "metadata": {},
   "source": [
    "# 10. Create a tuple of even numbers from 1 to 10"
   ]
  },
  {
   "cell_type": "code",
   "execution_count": 18,
   "id": "b8a1d8de",
   "metadata": {},
   "outputs": [
    {
     "name": "stdout",
     "output_type": "stream",
     "text": [
      "My tuple of even number is:  (2, 4, 6, 8, 10)\n"
     ]
    }
   ],
   "source": [
    "# throw the comprehension create list in given range\n",
    "even_list = [num for num in range(2,11,2)]\n",
    "\n",
    "# convert these list in tuple\n",
    "even_tuple = tuple(even_list)\n",
    "\n",
    "# finally display your outcome\n",
    "print(\"My tuple of even number is: \", even_tuple)"
   ]
  },
  {
   "cell_type": "markdown",
   "id": "3685d3fa",
   "metadata": {},
   "source": [
    "Explanation:\n",
    "1. we use list comprehension for element generate list of even number. \n",
    "2. the range(2,11,2 generate even number from 2  and increasing by 2 upto 11\n",
    "3. convert our list into tuple using tuple() method\n",
    "4. display your final result using print function"
   ]
  },
  {
   "cell_type": "markdown",
   "id": "889fa6c1",
   "metadata": {},
   "source": [
    "# 11.  Create a tuple of odd numbers from 1 to 10"
   ]
  },
  {
   "cell_type": "code",
   "execution_count": 3,
   "id": "62501c75",
   "metadata": {},
   "outputs": [
    {
     "name": "stdout",
     "output_type": "stream",
     "text": [
      "My tuple of even number is:  (1, 3, 5, 7, 9)\n"
     ]
    }
   ],
   "source": [
    "# throw the comprehension create list in given range\n",
    "odd_list = [num for num in range(1,10,2)]\n",
    "\n",
    "# convert these list in tuple\n",
    "odd_tuple = tuple(odd_list)\n",
    "\n",
    "# finally display your outcome\n",
    "print(\"My tuple of even number is: \", odd_tuple)"
   ]
  },
  {
   "cell_type": "markdown",
   "id": "a81c9d48",
   "metadata": {},
   "source": [
    "Explanation:\n",
    "1. we generally used list comprehension for generate odd number in list\n",
    "2. convert thise list into tuple\n",
    "3. dispaly your outcome using print()"
   ]
  },
  {
   "cell_type": "markdown",
   "id": "eb4b9780",
   "metadata": {},
   "source": [
    "# 12.  Concatenate two tuples"
   ]
  },
  {
   "cell_type": "code",
   "execution_count": 6,
   "id": "f90dfb72",
   "metadata": {},
   "outputs": [
    {
     "name": "stdout",
     "output_type": "stream",
     "text": [
      "Concatenated tuple: (1, 2, 3, 4, 5, 6)\n"
     ]
    }
   ],
   "source": [
    "# Step 1: Create two tuples\n",
    "tuple1 = (1, 2, 3)\n",
    "tuple2 = (4, 5, 6)\n",
    "\n",
    "# Step 2: Concatenate the two tuples\n",
    "concatenated_tuple = tuple1 + tuple2\n",
    "\n",
    "# Step 3: Print the concatenated tuple\n",
    "print(\"Concatenated tuple:\", concatenated_tuple)"
   ]
  },
  {
   "cell_type": "markdown",
   "id": "4fb260fd",
   "metadata": {},
   "source": [
    "Explnation:\n",
    "1. create two tuple\n",
    "2. use + operator to concatenate the two tuples\n",
    "3. print the concatenated tuple"
   ]
  },
  {
   "cell_type": "markdown",
   "id": "d748b8f4",
   "metadata": {},
   "source": [
    "# 13.  Repeat a tuple three times"
   ]
  },
  {
   "cell_type": "code",
   "execution_count": 7,
   "id": "e220a2fe",
   "metadata": {},
   "outputs": [
    {
     "name": "stdout",
     "output_type": "stream",
     "text": [
      "My new tuple is: (1, 2, 3, 1, 2, 3, 1, 2, 3)\n"
     ]
    }
   ],
   "source": [
    "# Step 1: Create two tuples\n",
    "tuple1 = (1, 2, 3)\n",
    "\n",
    "\n",
    "# Step 2: Concatenate the two tuples\n",
    "repeat_tuple = 3*tuple1\n",
    "\n",
    "# Step 3: Print the concatenated tuple\n",
    "print(\"My new tuple is:\",repeat_tuple)"
   ]
  },
  {
   "cell_type": "markdown",
   "id": "fe2eec8a",
   "metadata": {},
   "source": [
    "Explnation:\n",
    "1. create tuple basically\n",
    "2. use * operator to repeat any tuple in any number of time\n",
    "3. print the finall tuple using print()"
   ]
  },
  {
   "cell_type": "markdown",
   "id": "778f2746",
   "metadata": {},
   "source": [
    "# 14. Check if a tuple is empty"
   ]
  },
  {
   "cell_type": "code",
   "execution_count": 15,
   "id": "a3f3d651",
   "metadata": {},
   "outputs": [
    {
     "name": "stdout",
     "output_type": "stream",
     "text": [
      "My tuple is empty\n",
      "My tuple is not empty\n"
     ]
    }
   ],
   "source": [
    "# Step 1: Create two tuples\n",
    "non_tuple1 = (1,2,3)\n",
    "empty_tuple = ()\n",
    "\n",
    "# check that if tuple are empty or not\n",
    "if not empty_tuple:\n",
    "    print(\"My tuple is empty\")\n",
    "else:\n",
    "     print(\"My tuple is  empty\")\n",
    "        \n",
    "        \n",
    "if  non_tuple1:\n",
    "    print(\"My tuple is not empty\")\n",
    "else:\n",
    "     print(\"My tuple is not empty\")\n",
    "\n"
   ]
  },
  {
   "cell_type": "markdown",
   "id": "5e4499cb",
   "metadata": {},
   "source": [
    "Explanation:\n",
    "1. create two first is non empty tuple that name is non_tuple1 and second is empty tuple name is empty_tuple\n",
    "2. check that empty tuple in non empty tuple\n",
    "2. print() your result"
   ]
  },
  {
   "cell_type": "markdown",
   "id": "2d42c814",
   "metadata": {},
   "source": [
    "# 15.  Create a nested tuple"
   ]
  },
  {
   "cell_type": "code",
   "execution_count": 16,
   "id": "3ea40acd",
   "metadata": {},
   "outputs": [
    {
     "name": "stdout",
     "output_type": "stream",
     "text": [
      "Nested tuple: ((1, 2, 3), ('a', 'b', 'c'), (True, False))\n"
     ]
    }
   ],
   "source": [
    "# Step 1: Create a nested tuple\n",
    "nested_tuple = ((1, 2, 3), ('a', 'b', 'c'), (True, False))\n",
    "\n",
    "# Step 2: Print the nested tuple\n",
    "print(\"Nested tuple:\", nested_tuple)"
   ]
  },
  {
   "cell_type": "markdown",
   "id": "c0562e0a",
   "metadata": {},
   "source": [
    "Explanation:\n",
    "1. create nested tuple, here nested tuple means that tuple inside tuple . you can see that nested_tuple that have three tuple\n",
    "2. display your result using print()"
   ]
  },
  {
   "cell_type": "markdown",
   "id": "937748c7",
   "metadata": {},
   "source": [
    "# 16.  Access the first element of a nested tuple"
   ]
  },
  {
   "cell_type": "code",
   "execution_count": 17,
   "id": "3cac714a",
   "metadata": {},
   "outputs": [],
   "source": [
    "# Step 1: Create a nested tuple\n",
    "nested_tuple = ((1, 2, 3), ('a', 'b', 'c'), (True, False))\n",
    "\n",
    "# Step 2: Access the first element of the nested tuple\n",
    "first_element = nested_tuple[0]\n",
    "\n",
    "# Step 3: Print the first element\n",
    "print(\"First element of the nested tuple:\", first_element)"
   ]
  },
  {
   "cell_type": "markdown",
   "id": "668d994f",
   "metadata": {},
   "source": [
    "Explnation:\n",
    "1. Create a nested tuple\n",
    "2. Access the first element of the nested tuple and we can use indexing nested_tuple[0]\n",
    "3. Print the first element"
   ]
  },
  {
   "cell_type": "markdown",
   "id": "ec9b5cbc",
   "metadata": {},
   "source": [
    "# 17. Create a tuple with a single element"
   ]
  },
  {
   "cell_type": "code",
   "execution_count": 21,
   "id": "e8849c6d",
   "metadata": {},
   "outputs": [
    {
     "name": "stdout",
     "output_type": "stream",
     "text": [
      "Single element tuple: (42,)\n"
     ]
    }
   ],
   "source": [
    "# Step 1: Create a tuple with a single element\n",
    "single_element_tuple = (42,)  # Note the trailing comma\n",
    "\n",
    "# Step 2: Print the single element tuple\n",
    "print(\"Single element tuple:\", single_element_tuple)"
   ]
  },
  {
   "cell_type": "markdown",
   "id": "f378f85f",
   "metadata": {},
   "source": [
    "Explnation:\n",
    "1. Create a single element tuple called single_element_tuple. in here you can see that trailing comma in tuple its inform that you want to only single element in tuple\n",
    "2. print your tuple "
   ]
  },
  {
   "cell_type": "markdown",
   "id": "0a98afcf",
   "metadata": {},
   "source": [
    "# 18.  Compare two tuples"
   ]
  },
  {
   "cell_type": "code",
   "execution_count": 24,
   "id": "f0ffd600",
   "metadata": {},
   "outputs": [
    {
     "name": "stdout",
     "output_type": "stream",
     "text": [
      "tuple1 == tuple2: False\n",
      "tuple1 != tuple2: True\n",
      "tuple1 < tuple2: True\n",
      "tuple1 <= tuple2: True\n",
      "tuple1 > tuple2: False\n",
      "tuple1 >= tuple2: False\n"
     ]
    }
   ],
   "source": [
    "# Step 1: Create two tuples\n",
    "tuple1 = (1, 2, 3)\n",
    "tuple2 = (1, 2, 4)\n",
    "\n",
    "# Step 2: Compare the two tuples using comparison operators\n",
    "print(\"tuple1 == tuple2:\", tuple1 == tuple2)  # Equality check\n",
    "print(\"tuple1 != tuple2:\", tuple1 != tuple2)  # Inequality check\n",
    "print(\"tuple1 < tuple2:\", tuple1 < tuple2)    # Less than check\n",
    "print(\"tuple1 <= tuple2:\", tuple1 <= tuple2)  # Less than or equal to check\n",
    "print(\"tuple1 > tuple2:\", tuple1 > tuple2)    # Greater than check\n",
    "print(\"tuple1 >= tuple2:\", tuple1 >= tuple2)  # Greater than or equal to check"
   ]
  },
  {
   "cell_type": "markdown",
   "id": "bc92469d",
   "metadata": {},
   "source": [
    "Explanation:\n",
    "1. create two tuple tuple1 and tupl2.\n",
    "2. we can compare both tuple using various type of inequality operator or comprison operator"
   ]
  },
  {
   "cell_type": "markdown",
   "id": "7af8ba8f",
   "metadata": {},
   "source": [
    "# 19. Delete a tuple"
   ]
  },
  {
   "cell_type": "code",
   "execution_count": 25,
   "id": "6aedc731",
   "metadata": {},
   "outputs": [
    {
     "ename": "NameError",
     "evalue": "name 'my_tuple' is not defined",
     "output_type": "error",
     "traceback": [
      "\u001b[1;31m---------------------------------------------------------------------------\u001b[0m",
      "\u001b[1;31mNameError\u001b[0m                                 Traceback (most recent call last)",
      "Cell \u001b[1;32mIn[25], line 8\u001b[0m\n\u001b[0;32m      5\u001b[0m \u001b[38;5;28;01mdel\u001b[39;00m my_tuple\n\u001b[0;32m      7\u001b[0m \u001b[38;5;66;03m# Step 3: Try to access the tuple (will raise a NameError)\u001b[39;00m\n\u001b[1;32m----> 8\u001b[0m \u001b[38;5;28mprint\u001b[39m(my_tuple)\n",
      "\u001b[1;31mNameError\u001b[0m: name 'my_tuple' is not defined"
     ]
    }
   ],
   "source": [
    "# Step 1: Create a tuple\n",
    "my_tuple = (1, 2, 3, 4, 5)\n",
    "\n",
    "# Step 2: Delete the tuple using the 'del' statement\n",
    "del my_tuple\n",
    "\n",
    "# Step 3: Try to access the tuple (will raise a NameError)\n",
    "print(my_tuple)"
   ]
  },
  {
   "cell_type": "markdown",
   "id": "772924d6",
   "metadata": {},
   "source": [
    "Explanation:\n",
    "1. create a tuple\n",
    "2. we can delete tuple using 'del' statement \n",
    "3. after del if i am try to call tuple then it's will give name error because now it does not exist"
   ]
  },
  {
   "cell_type": "markdown",
   "id": "d66ef942",
   "metadata": {},
   "source": [
    "# 20. Slice a tuple"
   ]
  },
  {
   "cell_type": "code",
   "execution_count": 31,
   "id": "f19a3f5e",
   "metadata": {},
   "outputs": [
    {
     "name": "stdout",
     "output_type": "stream",
     "text": [
      "My slicing tuple is: (9, 16, 25, 36, 49)\n"
     ]
    }
   ],
   "source": [
    "# Step 1: Create a tuple\n",
    "my_tuple = (1, 2, 3, 4, 5,6,7,8,9,16,25,36,49,64,81)\n",
    "\n",
    "# Step 2: element from index number 8 to 12 will be accessable\n",
    "slice_tuple = my_tuple[8:13]\n",
    "\n",
    "# Step 3: display your result\n",
    "print(\"My slicing tuple is:\",slice_tuple)"
   ]
  },
  {
   "cell_type": "markdown",
   "id": "fc709d69",
   "metadata": {},
   "source": [
    "Explanation:\n",
    "1. we can start our tuple it name is my_tuple\n",
    "2. slicing generally used to exract portion in tuple given range [start:end] . exmamle my_tuple[8:13] give me element from 8 to 12 index\n",
    "3. show your result using print() statement"
   ]
  },
  {
   "cell_type": "markdown",
   "id": "5bb70647",
   "metadata": {},
   "source": [
    "# 21.  Find the maximum value in a tuple\n"
   ]
  },
  {
   "cell_type": "code",
   "execution_count": 36,
   "id": "af5a104d",
   "metadata": {},
   "outputs": [
    {
     "name": "stdout",
     "output_type": "stream",
     "text": [
      "Max value of tuple is:  81\n"
     ]
    }
   ],
   "source": [
    "# Step 1: Create a tuple\n",
    "my_tuple = (1, 2, 3, 4, 5,6,7,8,9,16,25,36,49,64,81)\n",
    "\n",
    "# find max value using max() function\n",
    "max_value = max(my_tuple)\n",
    "\n",
    "# finnaly return your result\n",
    "print(\"Max value of tuple is: \", max_value)"
   ]
  },
  {
   "cell_type": "markdown",
   "id": "2b90a482",
   "metadata": {},
   "source": [
    "Explanation:\n",
    "1. create your tuple with some eleemnt\n",
    "2. find maximum value of tuple using max() function\n",
    "3. max() function basically return max value in tuple if pass in tuple\n",
    "4. dispaly your result"
   ]
  },
  {
   "cell_type": "markdown",
   "id": "a6c7cd55",
   "metadata": {},
   "source": [
    "# 22.  Find the minimum value in a tuple"
   ]
  },
  {
   "cell_type": "code",
   "execution_count": 37,
   "id": "75956ecf",
   "metadata": {},
   "outputs": [
    {
     "name": "stdout",
     "output_type": "stream",
     "text": [
      "Max value of tuple is:  1\n"
     ]
    }
   ],
   "source": [
    "# Step 1: Create a tuple\n",
    "my_tuple = (1, 2, 3, 4, 5,6,7,8,9,16,25,36,49,64,81)\n",
    "\n",
    "# find minimum value using min() function\n",
    "min_value = min(my_tuple)\n",
    "\n",
    "# finally return your result\n",
    "print(\"Max value of tuple is: \", min_value)"
   ]
  },
  {
   "cell_type": "markdown",
   "id": "f8864744",
   "metadata": {},
   "source": [
    "Explanation:\n",
    "1. create your tuple with some eleemnt\n",
    "2. find manimum value of tuple using min() function\n",
    "3. min() function basically return minimum value in tuple if pass in tuple\n",
    "4. dispaly your result"
   ]
  },
  {
   "cell_type": "markdown",
   "id": "54885380",
   "metadata": {},
   "source": [
    "# 23.  Convert a string to a tuple of characters"
   ]
  },
  {
   "cell_type": "code",
   "execution_count": 51,
   "id": "d4bb6903",
   "metadata": {},
   "outputs": [
    {
     "name": "stdout",
     "output_type": "stream",
     "text": [
      "Tuple of characters: ('H', 'e', 'l', 'l', 'o', ',', ' ', 'W', 'o', 'r', 'l', 'd', '!')\n"
     ]
    }
   ],
   "source": [
    "# Step 1: Create a string\n",
    "my_string = \"Hello, World!\"\n",
    "\n",
    "# Step 2: Convert the string to a tuple of characters\n",
    "tuple_of_characters = tuple(my_string)\n",
    "\n",
    "# Step 3: Print the tuple of characters\n",
    "print(\"Tuple of characters:\", tuple_of_characters)"
   ]
  },
  {
   "cell_type": "markdown",
   "id": "8932f5fc",
   "metadata": {},
   "source": [
    "Explanation:\n",
    "1. first thing is create your string basically\n",
    "2. after create string convert string into tuple using tuple() function\n",
    "3. display your tuple value"
   ]
  },
  {
   "cell_type": "markdown",
   "id": "c3ecdc16",
   "metadata": {},
   "source": [
    "# 24. Convert a tuple of characters to a string"
   ]
  },
  {
   "cell_type": "code",
   "execution_count": 56,
   "id": "b561e099",
   "metadata": {},
   "outputs": [
    {
     "name": "stdout",
     "output_type": "stream",
     "text": [
      "My latest string is: Vijay Kumar Shah\n"
     ]
    }
   ],
   "source": [
    "# create tuple of character\n",
    "tuple_of_character = ('V','i','j','a','y',' ','K','u','m','a','r',' ','S','h','a','h')\n",
    "\n",
    "# convert tuple of characters into string\n",
    "my_string = ''.join(tuple_of_character)\n",
    "\n",
    "# finally display your result\n",
    "print(\"My latest string is:\",my_string)"
   ]
  },
  {
   "cell_type": "markdown",
   "id": "172c01ad",
   "metadata": {},
   "source": [
    "Explanation:\n",
    "1. create tuple of character in the form of tuple\n",
    "2. convert tuple of character into a perfect string using join() method\n",
    "3. join() funtion basically used to create single string\n",
    "4. then print() the result"
   ]
  },
  {
   "cell_type": "markdown",
   "id": "943d56ed",
   "metadata": {},
   "source": [
    "# 25.  Create a tuple from multiple data types"
   ]
  },
  {
   "cell_type": "code",
   "execution_count": 59,
   "id": "dd2c7f17",
   "metadata": {},
   "outputs": [
    {
     "name": "stdout",
     "output_type": "stream",
     "text": [
      "My tuple with multiple data type is: (1, 2, 3, [4, 9, 16], 'vijay', 'A', 34.54, 'a')\n"
     ]
    }
   ],
   "source": [
    "# create tuple with different data types element\n",
    "my_tuple = (1,2,3,[4,9,16],'vijay','A',34.54,'a')\n",
    "\n",
    "# display your result\n",
    "print(\"My tuple with multiple data type is:\",my_tuple)"
   ]
  },
  {
   "cell_type": "markdown",
   "id": "65600d05",
   "metadata": {},
   "source": [
    "Explanation:\n",
    "1. create tuple with multiple data type like intiger, float,char,string, list\n",
    "2. and display your result"
   ]
  },
  {
   "cell_type": "markdown",
   "id": "f08df1c0",
   "metadata": {},
   "source": [
    "# 26. Check if two tuples are identical"
   ]
  },
  {
   "cell_type": "code",
   "execution_count": 60,
   "id": "fcce7f4c",
   "metadata": {},
   "outputs": [
    {
     "name": "stdout",
     "output_type": "stream",
     "text": [
      "tuple1 and tuple2 are identical or not:  True\n",
      "tuple1 and tuple3 are identical or not:  False\n"
     ]
    }
   ],
   "source": [
    "# create your tuple \n",
    "tuple1 = (1,2,3)\n",
    "tuple2 = (1,2,3)\n",
    "tuple3 = (1,4,9)\n",
    "\n",
    "# using == operator we can check that two tuples are indentical or not\n",
    "identical1 = tuple1 == tuple2\n",
    "identical2 = tuple1 == tuple3\n",
    "\n",
    "# finally dispaly your result\n",
    "print(\"tuple1 and tuple2 are identical or not: \",identical1)\n",
    "print(\"tuple1 and tuple3 are identical or not: \",identical2)"
   ]
  },
  {
   "cell_type": "markdown",
   "id": "29edb63d",
   "metadata": {},
   "source": [
    "Explanation:\n",
    "1. first thing is create tuple more then 2 or three\n",
    "2. then check that your tuples are identical or not using comparing operator '=='\n",
    "3. display your result in the form of True or False"
   ]
  },
  {
   "cell_type": "markdown",
   "id": "9d97c1d0",
   "metadata": {},
   "source": [
    "# 27. Sort the elements of a tuple"
   ]
  },
  {
   "cell_type": "code",
   "execution_count": 61,
   "id": "a8163e59",
   "metadata": {},
   "outputs": [
    {
     "name": "stdout",
     "output_type": "stream",
     "text": [
      "Sorted tuple: (1, 2, 3, 5, 8)\n"
     ]
    }
   ],
   "source": [
    "# Step 1: Create a tuple\n",
    "my_tuple = (5, 2, 8, 1, 3)\n",
    "\n",
    "# Step 2: Convert the tuple to a list, sort the list, and convert it back to a tuple\n",
    "sorted_tuple = tuple(sorted(my_tuple))\n",
    "\n",
    "# Step 3: Print the sorted tuple\n",
    "print(\"Sorted tuple:\", sorted_tuple)\n"
   ]
  },
  {
   "cell_type": "markdown",
   "id": "9cfbf604",
   "metadata": {},
   "source": [
    "Explanation:\n",
    "1. create one unsorted tuple\n",
    "2. convert your tuple in list then sorted it, after sorted list convert back into tuple\n",
    "3. we can generally use for sorting sorted() method\n",
    "4. finally return your outcome through the print() method"
   ]
  },
  {
   "cell_type": "markdown",
   "id": "29489c5c",
   "metadata": {},
   "source": [
    "# 28. Convert a tuple of integers to a tuple of strings"
   ]
  },
  {
   "cell_type": "code",
   "execution_count": 69,
   "id": "8bcca99f",
   "metadata": {},
   "outputs": [
    {
     "name": "stdout",
     "output_type": "stream",
     "text": [
      " Final Outcome is:  ('1', '2', '34', '5')\n"
     ]
    }
   ],
   "source": [
    "# create your tuple with ingeter value\n",
    "tuple_of_integers = (1,2,34,5)\n",
    "\n",
    "# use list comprehension to itrate and convert each elelment in list\n",
    "tuple_of_strings = tuple(str(item) for item in tuple_of_integers)\n",
    "\n",
    "# finally display your result\n",
    "print(\" Final Outcome is: \", tuple_of_strings)"
   ]
  },
  {
   "cell_type": "markdown",
   "id": "eb3f8ee8",
   "metadata": {},
   "source": [
    "Explanation:\n",
    "1. first thing is create your tuple\n",
    "2. generally use listcomprehension to itrate each element of list and convert it in string using str() function\n",
    "3. then we need to convert list of string to tuple using tuple() fucntion\n",
    "4. finally display your result"
   ]
  },
  {
   "cell_type": "markdown",
   "id": "2457797a",
   "metadata": {},
   "source": [
    "# 29. Convert a tuple of strings to a tuple of integers"
   ]
  },
  {
   "cell_type": "code",
   "execution_count": 72,
   "id": "9cd0cf3c",
   "metadata": {},
   "outputs": [
    {
     "name": "stdout",
     "output_type": "stream",
     "text": [
      " Final Outcome is:  (1, 2, 34, 5)\n"
     ]
    }
   ],
   "source": [
    "# create your tuple \n",
    "tuple_of_string = ('1','2','3','4','5')\n",
    "\n",
    "# use list comprehension to itrate and convert each elelment in list\n",
    "tuple_of_integer = tuple(int(item) for item in tuple_of_integers)\n",
    "\n",
    "# finally display your result\n",
    "print(\" Final Outcome is: \", tuple_of_integer)"
   ]
  },
  {
   "cell_type": "markdown",
   "id": "6b8926f0",
   "metadata": {},
   "source": [
    "Explanation:\n",
    "1. first thing is create your tuple\n",
    "2. generally use listcomprehension to itrate each element of list and convert it into integer using int() function\n",
    "3. then we need to convert list of integer to tuple using tuple() fucntion\n",
    "4. finally display your result using print() fucntion"
   ]
  },
  {
   "cell_type": "markdown",
   "id": "0d38b0e7",
   "metadata": {},
   "source": [
    "# 30. Merge two tuples"
   ]
  },
  {
   "cell_type": "code",
   "execution_count": 73,
   "id": "b36e751f",
   "metadata": {},
   "outputs": [
    {
     "name": "stdout",
     "output_type": "stream",
     "text": [
      "Merged tuple: (1, 2, 3, 4, 5, 6)\n"
     ]
    }
   ],
   "source": [
    "# Step 1: Create two tuples\n",
    "tuple1 = (1, 2, 3)\n",
    "tuple2 = (4, 5, 6)\n",
    "\n",
    "# Step 2: Merge the two tuples using the '+' operator\n",
    "merged_tuple = tuple1 + tuple2\n",
    "\n",
    "# Step 3: Print the merged tuple\n",
    "print(\"Merged tuple:\", merged_tuple)"
   ]
  },
  {
   "cell_type": "markdown",
   "id": "12a473b1",
   "metadata": {},
   "source": [
    "Explanation:\n",
    "1. create two tuples\n",
    "2. use '+' operator to merge two tuples\n",
    "3. display your merge tuple in one"
   ]
  },
  {
   "cell_type": "markdown",
   "id": "325233b1",
   "metadata": {},
   "source": [
    "# 31. Flatten a nested tuple"
   ]
  },
  {
   "cell_type": "code",
   "execution_count": 74,
   "id": "97e3c3a6",
   "metadata": {},
   "outputs": [
    {
     "name": "stdout",
     "output_type": "stream",
     "text": [
      "Flattened tuple: (1, 2, 3, 4, 5, 6, 7, 8)\n"
     ]
    }
   ],
   "source": [
    "# Recursive function to flatten a nested tuple\n",
    "def flatten_tuple(nested_tuple):\n",
    "    flattened = []\n",
    "    for item in nested_tuple:\n",
    "        if isinstance(item, tuple):\n",
    "            flattened.extend(flatten_tuple(item))\n",
    "        else:\n",
    "            flattened.append(item)\n",
    "    return flattened\n",
    "\n",
    "# Step 1: Create a nested tuple\n",
    "nested_tuple = ((1, 2), (3, 4, 5), (6, (7, 8)))\n",
    "\n",
    "# Step 2: Flatten the nested tuple\n",
    "flattened_tuple = tuple(flatten_tuple(nested_tuple))\n",
    "\n",
    "# Step 3: Print the flattened tuple\n",
    "print(\"Flattened tuple:\", flattened_tuple)"
   ]
  },
  {
   "cell_type": "code",
   "execution_count": null,
   "id": "0f5418bc",
   "metadata": {},
   "outputs": [],
   "source": [
    "Explanation:\n",
    "1. create a recursive function that name is flatten_tuple and it pass one argument as tuple called nested_tuple\n",
    "2. iterate through the for loop and check that \n",
    "3. if in nested tuple element is already tuple then we generally call recursive function on that element and extended the flattend list\n",
    "4. if element is not tuple then generally append it in tuple\n"
   ]
  },
  {
   "cell_type": "markdown",
   "id": "ce3afe77",
   "metadata": {},
   "source": [
    "#  Set Based Practice Problem :"
   ]
  },
  {
   "cell_type": "markdown",
   "id": "2f98a98d",
   "metadata": {},
   "source": [
    "# 1.  Create a set with integers from 1 to 5"
   ]
  },
  {
   "cell_type": "code",
   "execution_count": 77,
   "id": "0972e63c",
   "metadata": {},
   "outputs": [
    {
     "name": "stdout",
     "output_type": "stream",
     "text": [
      "{1, 2, 3, 4, 5}\n"
     ]
    }
   ],
   "source": [
    "# Step 1: Create an empty set\n",
    "my_set = set()\n",
    "\n",
    "# Step 2: Add integers from 1 to 5 to the set\n",
    "my_set.add(1)\n",
    "my_set.add(2)\n",
    "my_set.add(3)\n",
    "my_set.add(4)\n",
    "my_set.add(5)\n",
    "\n",
    "# Step 3: Print the final set\n",
    "print(my_set)## Set based problems:"
   ]
  },
  {
   "cell_type": "markdown",
   "id": "44f352c4",
   "metadata": {},
   "source": [
    "Explanation:\n",
    "1. create empty set which don't have element is called my_set\n",
    "2. add integer from 1 to 5 using add() method,\n",
    "3. add() function basically try to add element in set data type"
   ]
  },
  {
   "cell_type": "markdown",
   "id": "b794fc74",
   "metadata": {},
   "source": [
    "# 2.  Add an element to a set"
   ]
  },
  {
   "cell_type": "code",
   "execution_count": 1,
   "id": "0e876bdf",
   "metadata": {},
   "outputs": [
    {
     "name": "stdout",
     "output_type": "stream",
     "text": [
      "Original set: {1, 2, 3, 4, 5}\n",
      "Set after adding element: {1, 2, 3, 4, 5, 6}\n"
     ]
    }
   ],
   "source": [
    "# Step 1: Create a set\n",
    "my_set = {1, 2, 3, 4, 5}\n",
    "\n",
    "# Step 2: Display the original set\n",
    "print(\"Original set:\", my_set)\n",
    "\n",
    "# Step 3: Add an element to the set\n",
    "element_to_add = 6\n",
    "my_set.add(element_to_add)\n",
    "\n",
    "# Step 4: Display the modified set\n",
    "print(\"Set after adding element:\", my_set)"
   ]
  },
  {
   "cell_type": "markdown",
   "id": "7ed1a48c",
   "metadata": {},
   "source": [
    "Explanation:\n",
    "1. create set with some eleemnt, my_set has store element in the form of set\n",
    "2. display your origional set before add elementin set\n",
    "3. store elemen in any variable which i have to put in set\n",
    "4. add element in set using add() method\n",
    "5. after add element display your set using print() method"
   ]
  },
  {
   "cell_type": "markdown",
   "id": "a1bc5134",
   "metadata": {},
   "source": [
    "# 3. Remove an element from a set"
   ]
  },
  {
   "cell_type": "code",
   "execution_count": 2,
   "id": "4fe46adc",
   "metadata": {},
   "outputs": [
    {
     "name": "stdout",
     "output_type": "stream",
     "text": [
      "Original Set: {1, 2, 3, 4, 5}\n",
      "Set after removing 3 : {1, 2, 4, 5}\n"
     ]
    }
   ],
   "source": [
    "# Step 1: Create a set with some elements\n",
    "my_set = {1, 2, 3, 4, 5}\n",
    "\n",
    "# Step 2: Print the original set\n",
    "print(\"Original Set:\", my_set)\n",
    "\n",
    "# Step 3: Choose an element to remove\n",
    "element_to_remove = 3\n",
    "\n",
    "# Step 4: Use the remove() method to remove the chosen element\n",
    "# Note: If the element is not present in the set, remove() raises a KeyError.\n",
    "my_set.remove(element_to_remove)\n",
    "\n",
    "# Step 5: Print the modified set after removal\n",
    "print(\"Set after removing\", element_to_remove, \":\", my_set)"
   ]
  },
  {
   "cell_type": "markdown",
   "id": "36d5db2b",
   "metadata": {},
   "source": [
    "Explanation:\n",
    "1. Create a set with some elements\n",
    "2. Print the original set\n",
    "3. Choose an element to remove\n",
    "4. Use the remove() method to remove the chosen element\n",
    "5. If the element is not present in the set, remove() raises a KeyError.\n",
    "6. Print the modified set after removal\n"
   ]
  },
  {
   "cell_type": "markdown",
   "id": "084b301d",
   "metadata": {},
   "source": [
    "# 4. Check if an element exists in a set"
   ]
  },
  {
   "cell_type": "code",
   "execution_count": 5,
   "id": "36f977c5",
   "metadata": {},
   "outputs": [
    {
     "name": "stdout",
     "output_type": "stream",
     "text": [
      "Enter the element to check: 12\n",
      "12 does not exist in the set.\n"
     ]
    }
   ],
   "source": [
    "# Step 1: Create a set with some elements\n",
    "my_set = {1, 3, 5, 7, 9}\n",
    "\n",
    "# Step 2: Ask the user for the element they want to check\n",
    "element_to_check = int(input(\"Enter the element to check: \"))\n",
    "\n",
    "# Step 3: Use the \"in\" keyword to check if the element exists in the set\n",
    "if element_to_check in my_set:\n",
    "    # Step 4: If the element exists in the set, print a message\n",
    "    print(f\"{element_to_check} exists in the set.\")\n",
    "else:\n",
    "    # Step 5: If the element does not exist in the set, print a message\n",
    "    print(f\"{element_to_check} does not exist in the set.\")"
   ]
  },
  {
   "cell_type": "markdown",
   "id": "ae892477",
   "metadata": {},
   "source": [
    "Explanation:\n",
    "1. Create a set with some elements\n",
    "2. Ask the user for the element they want to check and to take input we can use input() function\n",
    "3. Use the \"in\" keyword to check if the element exists in the set\n",
    "4. If the element exists in the set, print a message\n",
    "5. If the element does not exist in the set, print a message"
   ]
  },
  {
   "cell_type": "markdown",
   "id": "a2eb7d06",
   "metadata": {},
   "source": [
    "# 5.  Find the length of a set without using the `len()` function"
   ]
  },
  {
   "cell_type": "code",
   "execution_count": 9,
   "id": "ae807a05",
   "metadata": {},
   "outputs": [
    {
     "name": "stdout",
     "output_type": "stream",
     "text": [
      "Length of the set: 5\n"
     ]
    }
   ],
   "source": [
    "# Create a set with some elements\n",
    "my_set = {1, 2, 3, 4, 5}\n",
    "\n",
    "# Initialize a variable to count the elements in the set\n",
    "count = 0\n",
    "\n",
    "# Iterate through each element in the set\n",
    "for _ in my_set:\n",
    "    # Increase the count by 1 for each element\n",
    "    count += 1\n",
    "\n",
    "# Print the count, which is the length of the set\n",
    "print(\"Length of the set:\", count)"
   ]
  },
  {
   "cell_type": "markdown",
   "id": "63184285",
   "metadata": {},
   "source": [
    "Explanation:\n",
    "1. Create a set with some elements called my_set\n",
    "2. Initialize a variable to count the elements in the set,count = 0\n",
    "3. Iterate through each element in the set and we can iterate usin for loop\n",
    "4. Increase the count by 1 for each element\n",
    "5. Print the count, which is the length of the set"
   ]
  },
  {
   "cell_type": "markdown",
   "id": "e9817b16",
   "metadata": {},
   "source": [
    "# 6.  Clear all elements from a set"
   ]
  },
  {
   "cell_type": "code",
   "execution_count": 12,
   "id": "fd1b3e9b",
   "metadata": {},
   "outputs": [
    {
     "name": "stdout",
     "output_type": "stream",
     "text": [
      "Befor Clear the element set is: {1, 2, 3, 4, 5}\n",
      "After Clear the element set is: None\n"
     ]
    }
   ],
   "source": [
    "# Create a set with some elements\n",
    "my_set = {1, 2, 3, 4, 5}\n",
    "\n",
    "# print your set before clear all element from set\n",
    "print(\"Befor Clear the element set is:\",my_set)\n",
    "\n",
    "# print your set after clear all element from set\n",
    "print(\"After Clear the element set is:\",my_set.clear())"
   ]
  },
  {
   "cell_type": "markdown",
   "id": "8f51c047",
   "metadata": {},
   "source": [
    "Explanation:\n",
    "1. create a set with some elements\n",
    "2. before clear dispaly your set using print() function\n",
    "3. for clear all element from set we can use clear() its can remove all element from set\n",
    "4. after clear element dispaly your set"
   ]
  },
  {
   "cell_type": "markdown",
   "id": "8050687b",
   "metadata": {},
   "source": [
    "# 7. Create a set of even numbers from 1 to 10"
   ]
  },
  {
   "cell_type": "code",
   "execution_count": 19,
   "id": "aa884257",
   "metadata": {},
   "outputs": [
    {
     "name": "stdout",
     "output_type": "stream",
     "text": [
      "Set of even number is: {2, 4, 6, 8, 10}\n"
     ]
    }
   ],
   "source": [
    "# create empty() set\n",
    "even_number_set = set()\n",
    "\n",
    "# iterate through for loop and check that in range (1,11)\n",
    "for num in range(1,11):\n",
    "    \n",
    "# check that number is even or not\n",
    "    if num%2 == 0:\n",
    "        \n",
    "# if number is even then add this element into empty set        \n",
    "        even_number_set.add(num)\n",
    "    \n",
    "# finally dispaly your result\n",
    "print(\"Set of even number is:\",even_number_set)"
   ]
  },
  {
   "cell_type": "markdown",
   "id": "bac921d5",
   "metadata": {},
   "source": [
    "Explanation:\n",
    "1. create one empty set using set() that is called empty set which don't have element\n",
    "2. we use for loop for iterate number in range(1,11)\n",
    "3. and we can check that number is even or not using num%2 == 0, if this condition are satisfied then it is ok\n",
    "4. then add your element number in set using add() function\n",
    "5. generally add() function are used to add element in set\n",
    "6. finally after add even element in set, we can display our set using print()"
   ]
  },
  {
   "cell_type": "markdown",
   "id": "06588ed2",
   "metadata": {},
   "source": [
    "# 8. Create a set of odd numbers from 1 to 10"
   ]
  },
  {
   "cell_type": "code",
   "execution_count": 20,
   "id": "069dc529",
   "metadata": {},
   "outputs": [
    {
     "name": "stdout",
     "output_type": "stream",
     "text": [
      "{1, 3, 5, 7, 9}\n"
     ]
    }
   ],
   "source": [
    "# Step 1: Initialize an empty set to store odd numbers.\n",
    "odd_numbers_set = set()\n",
    "\n",
    "# Step 2: Iterate through numbers from 1 to 10.\n",
    "for num in range(1, 11):\n",
    "    # Step 3: Check if the current number is odd.\n",
    "    if num % 2 != 0:\n",
    "        # Step 4: If the number is odd, add it to the set.\n",
    "        odd_numbers_set.add(num)\n",
    "\n",
    "# Step 5: Print the final set of odd numbers.\n",
    "print(odd_numbers_set)"
   ]
  },
  {
   "cell_type": "markdown",
   "id": "5a4479c2",
   "metadata": {},
   "source": [
    "Explanation:\n",
    "1. create one empty set using set() that is called empty set which don't have element\n",
    "2. we use for loop for iterate number in range(1,11)\n",
    "3. and we can check that number is odd or not using num%2 != 0, if this condition are satisfied then it is ok\n",
    "4. then add your element number in set using add() function\n",
    "5. generally add() function are used to add element in set\n",
    "6. finally after add odd element in set, we can display our set using print()"
   ]
  },
  {
   "cell_type": "markdown",
   "id": "23031ae8",
   "metadata": {},
   "source": [
    "# 9. Find the union of two sets"
   ]
  },
  {
   "cell_type": "code",
   "execution_count": 21,
   "id": "7d7af2f2",
   "metadata": {},
   "outputs": [
    {
     "name": "stdout",
     "output_type": "stream",
     "text": [
      "Set 1: {1, 2, 3, 4, 5}\n",
      "Set 2: {4, 5, 6, 7, 8}\n",
      "Union of Set 1 and Set 2: {1, 2, 3, 4, 5, 6, 7, 8}\n"
     ]
    }
   ],
   "source": [
    "# Define two sets\n",
    "set1 = {1, 2, 3, 4, 5}\n",
    "set2 = {4, 5, 6, 7, 8}\n",
    "\n",
    "# Find the union of the two sets using the `union()` method\n",
    "union_result = set1.union(set2)\n",
    "\n",
    "# Print the original sets and their union\n",
    "print(\"Set 1:\", set1)\n",
    "print(\"Set 2:\", set2)\n",
    "print(\"Union of Set 1 and Set 2:\", union_result)"
   ]
  },
  {
   "cell_type": "markdown",
   "id": "ecb97c4c",
   "metadata": {},
   "source": [
    "Explantion:\n",
    "1. first thing is create two set\n",
    "2. then we can add two set with the help of union()\n",
    "3. union() are generally used to adding element\n",
    "4. finally display your result or modified set"
   ]
  },
  {
   "cell_type": "markdown",
   "id": "3bc0de18",
   "metadata": {},
   "source": [
    "# 10.  Find the intersection of two sets"
   ]
  },
  {
   "cell_type": "code",
   "execution_count": 24,
   "id": "3d8a89f4",
   "metadata": {},
   "outputs": [
    {
     "name": "stdout",
     "output_type": "stream",
     "text": [
      "Set 1: {1, 2, 3, 4, 5}\n",
      "Set 2: {4, 5, 6, 7, 8}\n",
      "Union of Set 1 and Set 2: {4, 5}\n"
     ]
    }
   ],
   "source": [
    "# Define two sets\n",
    "set1 = {1, 2, 3, 4, 5}\n",
    "set2 = {4, 5, 6, 7, 8}\n",
    "\n",
    "# Find the intersection of the two sets using the `intersection()` method\n",
    "intersection_result = set1.intersection(set2)\n",
    "\n",
    "# Print the original sets and their union\n",
    "print(\"Set 1:\", set1)\n",
    "print(\"Set 2:\", set2)\n",
    "print(\"Union of Set 1 and Set 2:\", intersection_result)"
   ]
  },
  {
   "cell_type": "markdown",
   "id": "4efc0103",
   "metadata": {},
   "source": [
    "Explantion:\n",
    "1. first thing is create two set\n",
    "2. then we can intersect two set with the help of intersection()\n",
    "3. intersection() function are generally used to find common element from two or more set\n",
    "4. finally display your result or modified set"
   ]
  },
  {
   "cell_type": "markdown",
   "id": "66ba20a9",
   "metadata": {},
   "source": [
    "# 11.  Find the difference between two sets"
   ]
  },
  {
   "cell_type": "code",
   "execution_count": 26,
   "id": "54879179",
   "metadata": {},
   "outputs": [
    {
     "name": "stdout",
     "output_type": "stream",
     "text": [
      "Set 1: {1, 2, 3, 4, 5}\n",
      "Set 2: {3, 4, 5, 6, 7}\n",
      "Difference: {1, 2}\n"
     ]
    }
   ],
   "source": [
    "# Create two sets\n",
    "set1 = {1, 2, 3, 4, 5}\n",
    "set2 = {3, 4, 5, 6, 7}\n",
    "\n",
    "# Find the difference between the sets using the difference() method\n",
    "difference_set = set1.difference(set2)\n",
    "\n",
    "# Print the original sets and the difference set\n",
    "print(\"Set 1:\", set1)\n",
    "print(\"Set 2:\", set2)\n",
    "print(\"Difference:\", difference_set)"
   ]
  },
  {
   "cell_type": "markdown",
   "id": "5438fc5a",
   "metadata": {},
   "source": [
    "Explanation:\n",
    "1. first thing is create two set\n",
    "2. then we can find difference between two sets using difference() function\n",
    "3.difference() fuction are generall used to find difference between two set\n",
    "4. finally display your result"
   ]
  },
  {
   "cell_type": "markdown",
   "id": "565d9738",
   "metadata": {},
   "source": [
    "# 12. Check if a set is a subset of another set"
   ]
  },
  {
   "cell_type": "code",
   "execution_count": 29,
   "id": "c03cc981",
   "metadata": {},
   "outputs": [
    {
     "name": "stdout",
     "output_type": "stream",
     "text": [
      "Is set1 a subset of set2: True\n"
     ]
    }
   ],
   "source": [
    "# Define the two sets\n",
    "set1 = {1, 2, 3}\n",
    "set2 = {1, 2, 3, 4, 5}\n",
    "\n",
    "# Use the \"issubset()\" method to check if set1 is a subset of set2\n",
    "is_subset = set1.issubset(set2)\n",
    "\n",
    "# Print the result\n",
    "print(\"Is set1 a subset of set2:\", is_subset)"
   ]
  },
  {
   "cell_type": "markdown",
   "id": "df887252",
   "metadata": {},
   "source": [
    "Explanation:\n",
    "1. define two set \n",
    "2. after define two set check that sets are subset or not\n",
    "3. we can check subset using issubset() function\n",
    "4. finally dispaly your result"
   ]
  },
  {
   "cell_type": "markdown",
   "id": "c4341c88",
   "metadata": {},
   "source": [
    "# 13.  Check if a set is a superset of another set"
   ]
  },
  {
   "cell_type": "code",
   "execution_count": 30,
   "id": "6b48b36c",
   "metadata": {},
   "outputs": [
    {
     "name": "stdout",
     "output_type": "stream",
     "text": [
      "set1 is a superset of set2\n"
     ]
    }
   ],
   "source": [
    "# Create two sets\n",
    "set1 = {1, 2, 3, 4, 5, 6}\n",
    "set2 = {3, 4}\n",
    "\n",
    "# Check if set1 is a superset of set2\n",
    "is_superset = set1.issuperset(set2)\n",
    "\n",
    "# Print the result\n",
    "if is_superset:\n",
    "    print(\"set1 is a superset of set2\")\n",
    "else:\n",
    "    print(\"set1 is not a superset of set2\")"
   ]
  },
  {
   "cell_type": "markdown",
   "id": "137e4dbf",
   "metadata": {},
   "source": [
    "Explanation:\n",
    "1. define two set \n",
    "2. after define two set check that sets are superset or not\n",
    "3. we can check superset using issuperset() function\n",
    "4. finally dispaly your result"
   ]
  },
  {
   "cell_type": "markdown",
   "id": "0a5e111b",
   "metadata": {},
   "source": [
    "# 14. Create a set from a list"
   ]
  },
  {
   "cell_type": "code",
   "execution_count": 32,
   "id": "14e071b8",
   "metadata": {},
   "outputs": [
    {
     "name": "stdout",
     "output_type": "stream",
     "text": [
      "Original List: [2, 4, 1, 4, 3, 2, 5]\n",
      "Set from List: {1, 2, 3, 4, 5}\n"
     ]
    }
   ],
   "source": [
    "# Step 1: Create a list of elements\n",
    "my_list = [2, 4, 1, 4, 3, 2, 5]\n",
    "\n",
    "# Step 2: Use the set() constructor to convert the list into a set\n",
    "# This automatically removes duplicates and creates a set with unique elements\n",
    "my_set = set(my_list)\n",
    "\n",
    "# Step 3: Print the original list and the resulting set\n",
    "print(\"Original List:\", my_list)\n",
    "print(\"Set from List:\", my_set)"
   ]
  },
  {
   "cell_type": "markdown",
   "id": "3666d249",
   "metadata": {},
   "source": [
    "Explnation:\n",
    "1. create a list of element \n",
    "2. Use the set() constructor to convert the list into a set\n",
    "3. and set() automatically removes duplicates and creates a set with unique elements\n",
    "4. Print the original list and the resulting set"
   ]
  },
  {
   "cell_type": "markdown",
   "id": "9450096e",
   "metadata": {},
   "source": [
    "# 15. Convert a set to a list"
   ]
  },
  {
   "cell_type": "code",
   "execution_count": 33,
   "id": "fb8810e2",
   "metadata": {},
   "outputs": [
    {
     "name": "stdout",
     "output_type": "stream",
     "text": [
      "Original Set: {1, 2, 3, 4, 5, 6, 9}\n",
      "Converted List: [1, 2, 3, 4, 5, 6, 9]\n"
     ]
    }
   ],
   "source": [
    "# Step 1: Create a set with some elements\n",
    "my_set = {3, 1, 4, 1, 5, 9, 2, 6, 5}\n",
    "\n",
    "# Step 2: Convert the set to a list using the list() function\n",
    "my_list = list(my_set)\n",
    "\n",
    "# Now, my_list contains the elements from my_set in list format\n",
    "\n",
    "# Step 3: Print the original set and the converted list\n",
    "print(\"Original Set:\", my_set)\n",
    "print(\"Converted List:\", my_list)"
   ]
  },
  {
   "cell_type": "code",
   "execution_count": null,
   "id": "4e39a0e1",
   "metadata": {},
   "outputs": [],
   "source": []
  },
  {
   "cell_type": "markdown",
   "id": "bad3f1f7",
   "metadata": {},
   "source": [
    "Explnation:\n",
    "1.  Create a set with some elements\n",
    "2. Convert the set to a list using the list() function\n",
    "3. Now, my_list contains the elements from my_set in list format\n",
    "4.  Print the original set and the converted list using print()"
   ]
  },
  {
   "cell_type": "markdown",
   "id": "93e79af9",
   "metadata": {},
   "source": [
    "# 16.  Remove a random element from a set"
   ]
  },
  {
   "cell_type": "code",
   "execution_count": 34,
   "id": "f6e954f6",
   "metadata": {},
   "outputs": [
    {
     "name": "stdout",
     "output_type": "stream",
     "text": [
      "Original set: {1, 2, 3, 4, 5}\n",
      "Updated set after removing 4 : {1, 2, 3, 5}\n"
     ]
    }
   ],
   "source": [
    "import random  # Import the random module\n",
    "\n",
    "# Create a set with some elements\n",
    "my_set = {1, 2, 3, 4, 5}\n",
    "\n",
    "# Display the original set\n",
    "print(\"Original set:\", my_set)\n",
    "\n",
    "# Choose a random element from the set using the random.choice() function\n",
    "random_element = random.choice(list(my_set))\n",
    "\n",
    "# Remove the chosen random element from the set using the remove() method\n",
    "my_set.remove(random_element)\n",
    "\n",
    "# Display the updated set after removing the random element\n",
    "print(\"Updated set after removing\", random_element, \":\", my_set)"
   ]
  },
  {
   "cell_type": "markdown",
   "id": "baf4d521",
   "metadata": {},
   "source": [
    "\n",
    "Explanation:\n",
    "1. first thing is import random module for choose random element from the set\n",
    "2. create set with some element\n",
    "3. and we can dispaly our origional set using print()\n",
    "4. then we can choose randome variable from the set using the randome.choice() function\n",
    "5. randome.choice() basically used to choose random element\n",
    "6. after choose randome element we can remove from the set using remove() funcion\n",
    "7. finally we can display our updated set using print() function"
   ]
  },
  {
   "cell_type": "markdown",
   "id": "144fb0fa",
   "metadata": {},
   "source": [
    "# 17.  Pop an element from a set"
   ]
  },
  {
   "cell_type": "code",
   "execution_count": 39,
   "id": "1fc7236d",
   "metadata": {},
   "outputs": [
    {
     "name": "stdout",
     "output_type": "stream",
     "text": [
      "Original set: {1, 2, 3, 4, 5}\n",
      "Popped element: 1\n",
      "Set after popping: {2, 3, 4, 5}\n"
     ]
    }
   ],
   "source": [
    "# Create a set with some elements\n",
    "my_set = {1, 2, 3, 4, 5}\n",
    "\n",
    "# Print the original set\n",
    "print(\"Original set:\", my_set)\n",
    "\n",
    "# Pop an element from the set using the pop() method\n",
    "popped_element = my_set.pop()\n",
    "\n",
    "# Print the element that was popped\n",
    "print(\"Popped element:\", popped_element)\n",
    "\n",
    "# Print the set after popping an element\n",
    "print(\"Set after popping:\", my_set)"
   ]
  },
  {
   "cell_type": "markdown",
   "id": "df27115f",
   "metadata": {},
   "source": [
    "Explanation:\n",
    "1. first thing is create a set with some random elements\n",
    "2. then second thing we can do print() our origional set\n",
    "3. Pop an element from the set using the pop() method\n",
    "4. Print the element that was popped using print() function, poped_element\n",
    "5. Print the set after popping an element"
   ]
  },
  {
   "cell_type": "markdown",
   "id": "cc23d2ee",
   "metadata": {},
   "source": [
    "# 18. Check if two sets have no elements in common"
   ]
  },
  {
   "cell_type": "code",
   "execution_count": 42,
   "id": "3fbf8648",
   "metadata": {},
   "outputs": [
    {
     "name": "stdout",
     "output_type": "stream",
     "text": [
      "The two sets have no elements in common.\n"
     ]
    }
   ],
   "source": [
    "# Step 1: Define two sets\n",
    "set1 = {1, 2, 3, 4}\n",
    "set2 = {5, 6, 7, 8}\n",
    "\n",
    "# Step 2: Check if the intersection of the two sets is empty\n",
    "# The intersection is the set of elements that are common to both sets\n",
    "common_elements = set1.intersection(set2)\n",
    "\n",
    "# Step 3: Check if the common_elements set is empty\n",
    "if not common_elements:\n",
    "    print(\"The two sets have no elements in common.\")\n",
    "else:\n",
    "    print(\"The two sets have common elements:\", common_elements)"
   ]
  },
  {
   "cell_type": "markdown",
   "id": "d85345b3",
   "metadata": {},
   "source": [
    "Explanation:\n",
    "1. define two sets , here set1 and set2\n",
    "2. Check if the intersection of the two sets is empty\n",
    "3. The intersection is the set of elements that are common to both sets\n",
    "4. Check if the common_elements set is empty using if() and else() statement\n",
    "5. as per condition print your message or thought"
   ]
  },
  {
   "cell_type": "markdown",
   "id": "efa96ed1",
   "metadata": {},
   "source": [
    "# 19. . Find the symmetric difference between two sets"
   ]
  },
  {
   "cell_type": "code",
   "execution_count": 45,
   "id": "75227f67",
   "metadata": {},
   "outputs": [
    {
     "name": "stdout",
     "output_type": "stream",
     "text": [
      "Symmetric Difference: {1, 2, 3, 6, 7, 8}\n"
     ]
    }
   ],
   "source": [
    "# Define two sets\n",
    "set1 = {1, 2, 3, 4, 5}\n",
    "set2 = {4, 5, 6, 7, 8}\n",
    "\n",
    "# Calculate the symmetric difference using the ^ operator\n",
    "symmetric_difference = set1 ^ set2\n",
    "\n",
    "# Print the symmetric difference\n",
    "print(\"Symmetric Difference:\", symmetric_difference)"
   ]
  },
  {
   "cell_type": "markdown",
   "id": "353b0977",
   "metadata": {},
   "source": [
    "Explanation:\n",
    "1. define two sets , here set1 and set2\n",
    "2. calculate the symmetric difference using ^ operator\n",
    "3. ^ operator used to find symmetric difference means either element in both sets, not their intersection\n",
    "4. finnaly print your outcome"
   ]
  },
  {
   "cell_type": "markdown",
   "id": "15c905df",
   "metadata": {},
   "source": [
    "# 20. Update a set with elements from another set."
   ]
  },
  {
   "cell_type": "code",
   "execution_count": 46,
   "id": "051affe9",
   "metadata": {},
   "outputs": [
    {
     "name": "stdout",
     "output_type": "stream",
     "text": [
      "Set 1: {1, 2, 3}\n",
      "Set 2: {3, 4, 5}\n",
      "Updated Set 1: {1, 2, 3, 4, 5}\n"
     ]
    }
   ],
   "source": [
    "# Create the first set\n",
    "set1 = {1, 2, 3}\n",
    "print(\"Set 1:\", set1)\n",
    "\n",
    "# Create the second set\n",
    "set2 = {3, 4, 5}\n",
    "print(\"Set 2:\", set2)\n",
    "\n",
    "# Update set1 with elements from set2\n",
    "set1.update(set2)\n",
    "print(\"Updated Set 1:\", set1)"
   ]
  },
  {
   "cell_type": "markdown",
   "id": "ea790b3d",
   "metadata": {},
   "source": [
    "Explanation:\n",
    "1. create the set with element\n",
    "2. then second thing we can do print our set\n",
    "3. then create your second set with element\n",
    "4. print the second set\n",
    "5. Update set1 with elements from set2 using update() function\n",
    "6. after this function our set will be contain of all uniqe elements in the sets\n",
    "7. finally display our result"
   ]
  },
  {
   "cell_type": "markdown",
   "id": "248aac0c",
   "metadata": {},
   "source": [
    "# 21. Create a set of the first 5 prime numbers"
   ]
  },
  {
   "cell_type": "code",
   "execution_count": 3,
   "id": "3a2695f3",
   "metadata": {},
   "outputs": [
    {
     "name": "stdout",
     "output_type": "stream",
     "text": [
      "Set of the first 5 prime numbers: {2, 3, 5, 7, 11}\n"
     ]
    }
   ],
   "source": [
    "# Function to check if a number is prime\n",
    "def is_prime(num):\n",
    "    if num <= 1:\n",
    "        return False\n",
    "    for i in range(2, int(num ** 0.5) + 1):\n",
    "        if num % i == 0:\n",
    "            return False\n",
    "    return True\n",
    "\n",
    "# Create an empty set to store the prime numbers\n",
    "prime_set = set()\n",
    "\n",
    "# Initialize the number to start checking for primes\n",
    "num = 2\n",
    "\n",
    "# Loop until we have found the first 5 prime numbers\n",
    "while len(prime_set) < 5:\n",
    "    # Check if the current number is prime using the is_prime function\n",
    "    if is_prime(num):\n",
    "        # If the number is prime, add it to the prime_set\n",
    "        prime_set.add(num)\n",
    "\n",
    "    # Move on to the next number for the next iteration\n",
    "    num += 1\n",
    "\n",
    "# Print the set of prime numbers\n",
    "print(\"Set of the first 5 prime numbers:\", prime_set)"
   ]
  },
  {
   "cell_type": "markdown",
   "id": "b1aaecc4",
   "metadata": {},
   "source": [
    "Explanation:\n",
    "1. create Function to check if a number is prime\n",
    "2. Create an empty set to store the prime numbers called set()\n",
    "3. Initialize the number to start checking for primes\n",
    "4. Loop until we have found the first 5 prime numbers\n",
    "5. Check if the current number is prime using the is_prime function\n",
    "6. If the number is prime, add it to the prime_set\n",
    "7. Move on to the next number for the next iteration\n",
    "8. display your set of prime number using print() method"
   ]
  },
  {
   "cell_type": "markdown",
   "id": "1ad2fc0f",
   "metadata": {},
   "source": [
    "# 22.Check if two sets are identical"
   ]
  },
  {
   "cell_type": "code",
   "execution_count": 2,
   "id": "5eb12f6b",
   "metadata": {},
   "outputs": [
    {
     "name": "stdout",
     "output_type": "stream",
     "text": [
      "The sets are identical.\n"
     ]
    }
   ],
   "source": [
    "# Step 1: Define two sets\n",
    "set1 = {1, 2, 3, 4, 5}\n",
    "set2 = {3, 1, 5, 2, 4}  # The order of elements doesn't matter in sets\n",
    "\n",
    "# Step 2: Check if the sets are identical using the `==` operator\n",
    "# Sets are unordered collections, so the order of elements doesn't matter.\n",
    "# The `==` operator compares the content of the sets.\n",
    "if set1 == set2:\n",
    "    print(\"The sets are identical.\")\n",
    "else:\n",
    "    print(\"The sets are not identical.\")"
   ]
  },
  {
   "cell_type": "markdown",
   "id": "b69c7613",
   "metadata": {},
   "source": [
    "Explanation:\n",
    "1. define two sets with some element\n",
    "2. order doesn't matter in sets\n",
    "3. Check if the sets are identical using the `==` operator\n",
    "4. Sets are unordered collections, so the order of elements doesn't matter.\n",
    "5. The `==` operator compares the content of the sets.\n",
    "6. finally print your result using print() method"
   ]
  },
  {
   "cell_type": "markdown",
   "id": "57a29b82",
   "metadata": {},
   "source": [
    "# 23. Create a frozen set"
   ]
  },
  {
   "cell_type": "code",
   "execution_count": 4,
   "id": "09213a36",
   "metadata": {},
   "outputs": [
    {
     "name": "stdout",
     "output_type": "stream",
     "text": [
      "Frozen Set: frozenset({1, 2, 3, 4, 5})\n"
     ]
    }
   ],
   "source": [
    "# Step 2: Define a list of elements that you want to include in the frozen set\n",
    "elements = [1, 2, 3, 4, 5]\n",
    "\n",
    "# Step 3: Create a frozen set using the 'frozenset' constructor and passing the list of elements\n",
    "my_frozen_set = frozenset(elements)\n",
    "\n",
    "# Step 4: Print the frozen set\n",
    "print(\"Frozen Set:\", my_frozen_set)"
   ]
  },
  {
   "cell_type": "markdown",
   "id": "3334c1d3",
   "metadata": {},
   "source": [
    "Explanation:\n",
    "1. define a list of element that you want to include in the frozen set\n",
    "2. we can create frozen set using such a kind constructor \n",
    "3. after create constructure we need to pass the list of element\n",
    "4. finally print() your result"
   ]
  },
  {
   "cell_type": "markdown",
   "id": "e38b89e4",
   "metadata": {},
   "source": [
    "# 24. Check if a set is disjoint with another set"
   ]
  },
  {
   "cell_type": "code",
   "execution_count": 5,
   "id": "aa9e55aa",
   "metadata": {},
   "outputs": [
    {
     "name": "stdout",
     "output_type": "stream",
     "text": [
      "Are the sets disjoint? True\n"
     ]
    }
   ],
   "source": [
    "# Step 1: Define the two sets you want to check for disjointness\n",
    "set1 = {1, 2, 3, 4}\n",
    "set2 = {5, 6, 7, 8}\n",
    "\n",
    "# Step 2: Use the `isdisjoint()` method to check if the sets are disjoint\n",
    "# The `isdisjoint()` method returns True if the sets have no common elements,\n",
    "# and False if they have at least one common element.\n",
    "disjoint_status = set1.isdisjoint(set2)\n",
    "\n",
    "# Step 3: Print the result\n",
    "print(\"Are the sets disjoint?\", disjoint_status)"
   ]
  },
  {
   "cell_type": "markdown",
   "id": "b9e4418f",
   "metadata": {},
   "source": [
    "Explanation:\n",
    "1. Define the two sets you want to check for disjointness\n",
    "2. Use the `isdisjoint()` method to check if the sets are disjoint\n",
    "3. The `isdisjoint()` method returns True if the sets have no common elements,\n",
    "4. and False if they have at least one common element.\n",
    "5. Print the result"
   ]
  },
  {
   "cell_type": "markdown",
   "id": "254ae5b7",
   "metadata": {},
   "source": [
    "# 25. Create a set of squares of numbers from 1 to 5"
   ]
  },
  {
   "cell_type": "code",
   "execution_count": 8,
   "id": "2915fd6c",
   "metadata": {},
   "outputs": [
    {
     "name": "stdout",
     "output_type": "stream",
     "text": [
      "{1, 4, 9, 16, 25}\n"
     ]
    }
   ],
   "source": [
    "# Step 1: Create an empty set to store the squares of numbers\n",
    "squares_set = set()\n",
    "\n",
    "# Step 2: Use a loop to iterate through numbers from 1 to 5\n",
    "for num in range(1, 6):\n",
    "    # Step 3: Calculate the square of the current number\n",
    "    square = num ** 2\n",
    "\n",
    "    # Step 4: Add the square to the set\n",
    "    squares_set.add(square)\n",
    "\n",
    "# Step 5: Print the set of squares\n",
    "print(squares_set)"
   ]
  },
  {
   "cell_type": "markdown",
   "id": "ab36be40",
   "metadata": {},
   "source": [
    "Explanation:\n",
    "1. Create an empty set to store the squares of numbers\n",
    "2. Use a loop to iterate through numbers from 1 to 5\n",
    "3. Calculate the square of the current number\n",
    "4. Add the square to the set\n",
    "5. Print the set of squares\n",
    "6. here ' ** ' operator are genearally are used to calculated the square of any number"
   ]
  },
  {
   "cell_type": "markdown",
   "id": "c2d0f433",
   "metadata": {},
   "source": [
    "# 26 .  Filter out all even numbers from a set"
   ]
  },
  {
   "cell_type": "code",
   "execution_count": 9,
   "id": "ac902cac",
   "metadata": {},
   "outputs": [
    {
     "name": "stdout",
     "output_type": "stream",
     "text": [
      "Original Set: {1, 2, 3, 4, 5}\n",
      "Even Numbers Set: {2, 4}\n"
     ]
    }
   ],
   "source": [
    "# Step 1: Create a set with integers from 1 to 5\n",
    "original_set = {1, 2, 3, 4, 5}\n",
    "\n",
    "# Step 2: Initialize an empty set to store the filtered even numbers\n",
    "even_numbers_set = set()\n",
    "\n",
    "# Step 3: Iterate through each element in the original set\n",
    "for num in original_set:\n",
    "    # Step 4: Check if the current number is even (divisible by 2)\n",
    "    if num % 2 == 0:\n",
    "        # Step 5: If even, add it to the even_numbers_set\n",
    "        even_numbers_set.add(num)\n",
    "\n",
    "# Step 6: Print the original set and the set containing even numbers\n",
    "print(\"Original Set:\", original_set)\n",
    "print(\"Even Numbers Set:\", even_numbers_set)"
   ]
  },
  {
   "cell_type": "markdown",
   "id": "5190d21b",
   "metadata": {},
   "source": [
    "Explanation:\n",
    "1. Create a set with integers from 1 to 5\n",
    "2. Initialize an empty set to store the filtered even numbers\n",
    "3. Iterate through each element in the original set\n",
    "4. Check if the current number is even (divisible by 2)\n",
    "5.  If even, add it to the even_numbers_set"
   ]
  },
  {
   "cell_type": "markdown",
   "id": "7794bed0",
   "metadata": {},
   "source": [
    "# 27.  Multiply all elements in a set by 2"
   ]
  },
  {
   "cell_type": "code",
   "execution_count": 16,
   "id": "9a7170cb",
   "metadata": {},
   "outputs": [
    {
     "name": "stdout",
     "output_type": "stream",
     "text": [
      "Original Set: {1, 2, 3, 4, 5}\n",
      "Multiplied Set: {2, 4, 6, 8, 10}\n"
     ]
    }
   ],
   "source": [
    "# Create a set with integers from 1 to 5\n",
    "original_set = {1, 2, 3, 4, 5}\n",
    "\n",
    "# Initialize an empty set to store the multiplied elements\n",
    "multiplied_set = set()\n",
    "\n",
    "# Loop through each element in the original set\n",
    "for num in original_set:\n",
    "    # Multiply the current element by 2\n",
    "    multiplied_num = num * 2\n",
    "\n",
    "    # Add the multiplied element to the multiplied_set\n",
    "    multiplied_set.add(multiplied_num)\n",
    "\n",
    "# The original_set remains unchanged\n",
    "print(\"Original Set:\", original_set)\n",
    "\n",
    "# Display the set with elements multiplied by 2\n",
    "print(\"Multiplied Set:\", multiplied_set)"
   ]
  },
  {
   "cell_type": "markdown",
   "id": "8d2ca285",
   "metadata": {},
   "source": [
    "Explanation:\n",
    "1. first things is create set with integer from 1 to 5\n",
    "2. Initialize an empty set to store the multiplied elements\n",
    "3. Loop through each element in the original set we can iterate and \n",
    "4. multiply the current element by 2\n",
    "5. Add the multiplied element to the multiplied_set using add() function\n",
    "6. The original_set remains unchanged\n",
    "7. Display the set with elements multiplied by 2"
   ]
  },
  {
   "cell_type": "markdown",
   "id": "fa9e480a",
   "metadata": {},
   "source": [
    "# 28. Create a set of random numbers"
   ]
  },
  {
   "cell_type": "code",
   "execution_count": 20,
   "id": "b84dd21c",
   "metadata": {},
   "outputs": [
    {
     "name": "stdout",
     "output_type": "stream",
     "text": [
      "Generated set of random numbers: {33, 2, 97, 80, 84}\n"
     ]
    }
   ],
   "source": [
    "# Step 1: Import the `random` module to generate random numbers\n",
    "import random\n",
    "\n",
    "# Step 2: Define the number of random numbers you want in the set\n",
    "num_random_numbers = 5\n",
    "\n",
    "# Step 3: Initialize an empty set to store the random numbers\n",
    "random_number_set = set()\n",
    "\n",
    "# Step 4: Use a loop to generate random numbers and add them to the set\n",
    "for _ in range(num_random_numbers):\n",
    "    # Generate a random integer using the `randint` function from the `random` module\n",
    "    random_num = random.randint(1, 100)  # Generate a random number between 1 and 100\n",
    "    # Add the random number to the set\n",
    "    random_number_set.add(random_num)\n",
    "\n",
    "# Step 5: Print the generated set of random numbers\n",
    "print(\"Generated set of random numbers:\", random_number_set)"
   ]
  },
  {
   "cell_type": "markdown",
   "id": "2148d60a",
   "metadata": {},
   "source": [
    "Explanation:\n",
    "1. Import the `random` module to generate random numbers\n",
    "2. Define the number of random numbers you want in the set\n",
    "3. Initialize an empty set to store the random numbers called set()\n",
    "4. Use a loop to generate random numbers and add them to the set\n",
    "5. Generate a random integer using the `randint` function from the `random` module\n",
    "6. Generate a random number between 1 and 100 using random.randint() function\n",
    "7. Add the random number to the set using add() function\n",
    "8. Print the generated set of random numbers using print() function"
   ]
  },
  {
   "cell_type": "markdown",
   "id": "49976d17",
   "metadata": {},
   "source": [
    "# 29.  Check if a set is empty"
   ]
  },
  {
   "cell_type": "code",
   "execution_count": 21,
   "id": "82ee14ad",
   "metadata": {},
   "outputs": [
    {
     "name": "stdout",
     "output_type": "stream",
     "text": [
      "The set is empty.\n"
     ]
    }
   ],
   "source": [
    "# Step 1: Create a set (you can replace this with your own set)\n",
    "my_set = set()\n",
    "\n",
    "# Step 2: Check if the set is empty using the 'if' statement\n",
    "if not my_set:\n",
    "    print(\"The set is empty.\")\n",
    "else:\n",
    "    print(\"The set is not empty.\")"
   ]
  },
  {
   "cell_type": "markdown",
   "id": "54aedd9b",
   "metadata": {},
   "source": [
    "1. Create a set (you can replace this with your own set) and initialize with empty set , called set()\n",
    "2. after check that set is empty or not display your message using print() function"
   ]
  },
  {
   "cell_type": "markdown",
   "id": "52da133e",
   "metadata": {},
   "source": [
    "# 30.  Create a nested set (hint: use frozenset)"
   ]
  },
  {
   "cell_type": "code",
   "execution_count": 23,
   "id": "6825f74a",
   "metadata": {},
   "outputs": [
    {
     "name": "stdout",
     "output_type": "stream",
     "text": [
      "Nested Set: {frozenset({1, 2, 3, 4, 5}), frozenset({6, 7, 8, 9, 10})}\n"
     ]
    }
   ],
   "source": [
    "# Step 1: Create the inner sets\n",
    "set1 = {1, 2, 3, 4, 5}\n",
    "set2 = {6, 7, 8, 9, 10}\n",
    "\n",
    "# Step 2: Create frozensets from the inner sets\n",
    "frozen_set1 = frozenset(set1)\n",
    "frozen_set2 = frozenset(set2)\n",
    "\n",
    "# Step 3: Create the nested set using the frozensets\n",
    "nested_set = {frozen_set1, frozen_set2}\n",
    "\n",
    "# Print the nested set\n",
    "print(\"Nested Set:\", nested_set)\n"
   ]
  },
  {
   "cell_type": "markdown",
   "id": "edf79362",
   "metadata": {},
   "source": [
    "Explanation:\n",
    "1. create the inner set at least two set1 and set2 from (1,5) and (6,10)\n",
    "2. create frozensets from the inner sets\n",
    "3. create the nested set using the frozenset\n",
    "4. use of frozenset that ensure that inner set are immutable and can be used as element for another set\n",
    "5. finally display your result"
   ]
  },
  {
   "cell_type": "markdown",
   "id": "b90d083a",
   "metadata": {},
   "source": [
    "# 31.  Remove an element from a set using the discard method"
   ]
  },
  {
   "cell_type": "code",
   "execution_count": 24,
   "id": "bda27974",
   "metadata": {},
   "outputs": [
    {
     "name": "stdout",
     "output_type": "stream",
     "text": [
      "Initial set: {1, 2, 3, 4, 5}\n",
      "Set after removing 3 : {1, 2, 4, 5}\n"
     ]
    }
   ],
   "source": [
    "# Create a set with some elements\n",
    "my_set = {1, 2, 3, 4, 5}\n",
    "\n",
    "# Display the initial set\n",
    "print(\"Initial set:\", my_set)\n",
    "\n",
    "# Define the element to be removed\n",
    "element_to_remove = 3\n",
    "\n",
    "# Use the discard() method to remove the element from the set\n",
    "# If the element is not present in the set, discard() won't raise an error\n",
    "my_set.discard(element_to_remove)\n",
    "\n",
    "# Display the set after removing the element\n",
    "print(\"Set after removing\", element_to_remove, \":\", my_set)"
   ]
  },
  {
   "cell_type": "markdown",
   "id": "732df457",
   "metadata": {},
   "source": [
    "Explanation:\n",
    "1. create a set with some elements \n",
    "2. then we can display our set using print() function\n",
    "3. which elemet we want to remove need to define that, element_to_remove\n",
    "4. for remove element from set we generally use discard() function\n",
    "5. if element are not present in set ,then discard() will return error\n",
    "6. we can dispaly our set after remove the element from the set using print() function"
   ]
  },
  {
   "cell_type": "markdown",
   "id": "f3c6896e",
   "metadata": {},
   "source": [
    "# 32. Compare two sets"
   ]
  },
  {
   "cell_type": "code",
   "execution_count": 25,
   "id": "f5b3d269",
   "metadata": {},
   "outputs": [
    {
     "name": "stdout",
     "output_type": "stream",
     "text": [
      "Set 1: {1, 2, 3, 4, 5}\n",
      "Set 2: {4, 5, 6, 7, 8}\n",
      "Is set1 a subset of set2? False\n",
      "Is set2 a subset of set1? False\n",
      "Intersection: {4, 5}\n",
      "Union: {1, 2, 3, 4, 5, 6, 7, 8}\n",
      "Elements in set1 but not in set2: {1, 2, 3}\n",
      "Elements in set2 but not in set1: {8, 6, 7}\n"
     ]
    }
   ],
   "source": [
    "# Step 1: Define two sets\n",
    "set1 = {1, 2, 3, 4, 5}\n",
    "set2 = {4, 5, 6, 7, 8}\n",
    "\n",
    "# Step 2: Use set operations to compare the sets\n",
    "# Check if set1 is a subset of set2\n",
    "is_subset = set1.issubset(set2)\n",
    "\n",
    "# Check if set2 is a subset of set1\n",
    "is_superset = set1.issuperset(set2)\n",
    "\n",
    "# Find the intersection of the sets\n",
    "intersection = set1.intersection(set2)\n",
    "\n",
    "# Find the union of the sets\n",
    "union = set1.union(set2)\n",
    "\n",
    "# Find the elements that are in set1 but not in set2\n",
    "difference1 = set1.difference(set2)\n",
    "\n",
    "# Find the elements that are in set2 but not in set1\n",
    "difference2 = set2.difference(set1)\n",
    "\n",
    "# Step 3: Print the results\n",
    "print(\"Set 1:\", set1)\n",
    "print(\"Set 2:\", set2)\n",
    "print(\"Is set1 a subset of set2?\", is_subset)\n",
    "print(\"Is set2 a subset of set1?\", is_superset)\n",
    "print(\"Intersection:\", intersection)\n",
    "print(\"Union:\", union)\n",
    "print(\"Elements in set1 but not in set2:\", difference1)\n",
    "print(\"Elements in set2 but not in set1:\", difference2)"
   ]
  },
  {
   "cell_type": "markdown",
   "id": "1a6b4279",
   "metadata": {},
   "source": [
    "1. Define two sets , set1, and set2\n",
    "2. Use set operations to compare the sets like subset, superset,intersection, union , difference\n",
    "3. Check if set1 is a subset of set2 using issubset() function\n",
    "4. Check if set2 is a subset of set1\n",
    "5. Find the intersection of the sets , using intersection() function\n",
    "6. Find the union of the sets just use union() function\n",
    "7. Find the elements that are in set1 but not in set2 \n",
    "8. Find the elements that are in set2 but not in set1\n",
    "9. Print the results"
   ]
  },
  {
   "cell_type": "markdown",
   "id": "232067de",
   "metadata": {},
   "source": [
    "# 33.  Create a set from a string"
   ]
  },
  {
   "cell_type": "code",
   "execution_count": 31,
   "id": "7addb02d",
   "metadata": {},
   "outputs": [
    {
     "name": "stdout",
     "output_type": "stream",
     "text": [
      "{'p', 'u', 'a', 's', 'h'}\n"
     ]
    }
   ],
   "source": [
    "# Step 1: Define the input string\n",
    "input_string = \"pushpa\"\n",
    "\n",
    "# Step 2: Use the set() constructor to create a set from the characters in the string\n",
    "char_set = set(input_string)\n",
    "\n",
    "# Step 3: Print the resulting set\n",
    "print(char_set)"
   ]
  },
  {
   "cell_type": "markdown",
   "id": "900c9712",
   "metadata": {},
   "source": [
    "Explanation:\n",
    "1. first thing is define your string \n",
    "2. then we generally use the set() constructor to create a set from the characters in the string\n",
    "3. set() function have some work like , remove duplicate from set and second it's manage order of data\n",
    "4. display your result"
   ]
  },
  {
   "cell_type": "markdown",
   "id": "f4b7160e",
   "metadata": {},
   "source": [
    "# 34.  Convert a set of strings to a set of integers"
   ]
  },
  {
   "cell_type": "code",
   "execution_count": 44,
   "id": "a5381761",
   "metadata": {},
   "outputs": [
    {
     "name": "stdout",
     "output_type": "stream",
     "text": [
      "Original String Set: {'456', '123', '789'}\n",
      "Converted Integer Set: {456, 123, 789}\n"
     ]
    }
   ],
   "source": [
    "# Step 1: Create a set of strings\n",
    "string_set = {\"123\", \"456\", \"789\"}\n",
    "\n",
    "# Step 2: Initialize an empty set to store integers\n",
    "integer_set = set()\n",
    "\n",
    "# Step 3: Iterate through each string in the string set\n",
    "for string in string_set:\n",
    "    # Step 4: Convert the string to an integer using the int() function\n",
    "    integer_value = int(string)\n",
    "\n",
    "    # Step 5: Add the integer to the integer set\n",
    "    integer_set.add(integer_value)\n",
    "\n",
    "# Step 6: Print the original string set and the converted integer set\n",
    "print(\"Original String Set:\", string_set)\n",
    "print(\"Converted Integer Set:\", integer_set)"
   ]
  },
  {
   "cell_type": "markdown",
   "id": "2089c4b0",
   "metadata": {},
   "source": [
    "Explanation:\n",
    "1. frist things is create set with use integer as string\n",
    "2. second thing is initialize an empty set to store integer value called integer_set\n",
    "3. iterate string using for loop and traverse every word in string\n",
    "4. then we cna convert string to integer set values using int() and store it in any other variable\n",
    "5. after convert string to integer value add all these values in another set using add() function\n",
    "6. Print the original string set and the converted integer set"
   ]
  },
  {
   "cell_type": "markdown",
   "id": "ad245018",
   "metadata": {},
   "source": [
    "# 35.  Convert a set of integers to a set of strings"
   ]
  },
  {
   "cell_type": "code",
   "execution_count": 45,
   "id": "5da83fe4",
   "metadata": {},
   "outputs": [
    {
     "name": "stdout",
     "output_type": "stream",
     "text": [
      "Original String Set: {456, 123, 789}\n",
      "Converted Integer Set: {'456', '123', '789'}\n"
     ]
    }
   ],
   "source": [
    "# Step 1: Create a set of strings\n",
    "integer_set = {123, 456, 789}\n",
    "\n",
    "# Step 2: Initialize an empty set to store integers\n",
    "string_set = set()\n",
    "\n",
    "# Step 3: Iterate through each string in the string set\n",
    "for integer in integer_set:\n",
    "    # Step 4: Convert the string to an integer using the int() function\n",
    "    string_value = str(integer)\n",
    "\n",
    "    # Step 5: Add the integer to the integer set\n",
    "    string_set.add(string_value)\n",
    "\n",
    "# Step 6: Print the original string set and the converted integer set\n",
    "print(\"Original String Set:\", integer_set)\n",
    "print(\"Converted Integer Set:\", string_set)"
   ]
  },
  {
   "cell_type": "markdown",
   "id": "1131a2c1",
   "metadata": {},
   "source": [
    "Explanation:\n",
    "1. frist things is create set \n",
    "2. second thing is initialize an empty set to store string value called string_set\n",
    "3. iterate set using for loop and traverse every integer value\n",
    "4. then we cna convert integer to string set values using str() and store it in any other variable called string_value\n",
    "5. after convert integer to string value, add all these values in another set using add() function\n",
    "6. Print the original string set and the converted integer set"
   ]
  },
  {
   "cell_type": "markdown",
   "id": "a5f4045d",
   "metadata": {},
   "source": [
    "# 36. Create a set from a tuple"
   ]
  },
  {
   "cell_type": "code",
   "execution_count": 2,
   "id": "a26e44ff",
   "metadata": {},
   "outputs": [
    {
     "name": "stdout",
     "output_type": "stream",
     "text": [
      "My set is: (12, 3, 4, 5, 67)\n"
     ]
    }
   ],
   "source": [
    "my_tuple = (12,3,4,5,67)\n",
    "my_set = set(my_tuple)\n",
    "print(\"My set is:\",my_tuple)"
   ]
  },
  {
   "cell_type": "code",
   "execution_count": 3,
   "id": "a2316ea7",
   "metadata": {},
   "outputs": [
    {
     "name": "stdout",
     "output_type": "stream",
     "text": [
      "{1, 2, 3, 4, 5}\n"
     ]
    }
   ],
   "source": [
    "# Given tuple\n",
    "input_tuple = (1, 2, 3, 2, 4, 5, 1)\n",
    "\n",
    "# Step 1: Convert the tuple to a set\n",
    "output_set = set(input_tuple)\n",
    "# At this point, the set() function is used to convert the elements of the tuple into a set.\n",
    "# Since sets only contain unique elements, duplicate values are automatically removed.\n",
    "\n",
    "# Step 2: Print the resulting set\n",
    "print(output_set)\n",
    "# The set is now printed, and it will only contain the unique elements from the original tuple."
   ]
  },
  {
   "cell_type": "markdown",
   "id": "bb43786d",
   "metadata": {},
   "source": [
    "Explanation:\n",
    "1. first thing is create tuple tuple with some element\n",
    "2. then convert the tuple into a set using set() function\n",
    "3. we can store our new set in other variable called output_set\n",
    "4. At this , the set() is used to convert the element of the tuple into a set.\n",
    "5. finally print the resulting set using print() function"
   ]
  },
  {
   "cell_type": "markdown",
   "id": "c23eb131",
   "metadata": {},
   "source": [
    "# 37.  Convert a set to a tuple"
   ]
  },
  {
   "cell_type": "code",
   "execution_count": 4,
   "id": "6d4157ac",
   "metadata": {},
   "outputs": [
    {
     "name": "stdout",
     "output_type": "stream",
     "text": [
      "Original set: {1, 2, 3, 4, 5}\n",
      "Converted tuple: (1, 2, 3, 4, 5)\n"
     ]
    }
   ],
   "source": [
    "# Step 1: Create a set\n",
    "input_set = {1, 2, 3, 4, 5}\n",
    "\n",
    "# Step 2: Convert the set to a tuple\n",
    "output_tuple = tuple(input_set)\n",
    "\n",
    "# Step 3: Print the original set and the converted tuple\n",
    "print(\"Original set:\", input_set)\n",
    "print(\"Converted tuple:\", output_tuple)"
   ]
  },
  {
   "cell_type": "markdown",
   "id": "a1f5906d",
   "metadata": {},
   "source": [
    "Explanation:\n",
    "1. first thing is create tuple set with some element\n",
    "2. then convert the set into a set\n",
    "3. we can store tuple in other variable called output_tuple\n",
    "4. At this , the tuple() is used to convert the element of the set into tuple.\n",
    "5. finally print the resulting set using print() function"
   ]
  },
  {
   "cell_type": "markdown",
   "id": "d8eb4de0",
   "metadata": {},
   "source": [
    "# 38. Find the maximum value in a set"
   ]
  },
  {
   "cell_type": "code",
   "execution_count": 5,
   "id": "249ab4e1",
   "metadata": {},
   "outputs": [
    {
     "name": "stdout",
     "output_type": "stream",
     "text": [
      "Maximum value: 22\n"
     ]
    }
   ],
   "source": [
    "# Define a set with some values\n",
    "my_set = {15, 7, 22, 13, 8}\n",
    "\n",
    "# Initialize a variable to store the maximum value\n",
    "max_value = None\n",
    "\n",
    "# Iterate through each element in the set\n",
    "for num in my_set:\n",
    "    # Check if max_value is None (first iteration) or if the current number is greater than max_value\n",
    "    if max_value is None or num > max_value:\n",
    "        max_value = num  # Update max_value with the current number if it's greater\n",
    "\n",
    "# Print the maximum value\n",
    "print(\"Maximum value:\", max_value)"
   ]
  },
  {
   "cell_type": "markdown",
   "id": "4e0689b5",
   "metadata": {},
   "source": [
    "Explanation:\n",
    "1. define the set with some values.\n",
    "2. Initialize a variable to store the maximum value as max_value\n",
    "3. Iterate through each element in the set using for loop\n",
    "4. Check if max_value is None (first iteration) or if the current number is greater than max_value\n",
    "5. Update max_value with the current number if it's greater\n",
    "6. Print the maximum value"
   ]
  },
  {
   "cell_type": "markdown",
   "id": "7ee021ad",
   "metadata": {},
   "source": [
    "# 39.  Find the minimum value in a set"
   ]
  },
  {
   "cell_type": "code",
   "execution_count": 6,
   "id": "6cbc6c4a",
   "metadata": {},
   "outputs": [
    {
     "name": "stdout",
     "output_type": "stream",
     "text": [
      "The minimum value in the set is: 4\n"
     ]
    }
   ],
   "source": [
    "# Create a sample set of numbers\n",
    "number_set = {15, 8, 23, 4, 42, 11}\n",
    "\n",
    "# Initialize a variable to store the minimum value\n",
    "min_value = None\n",
    "\n",
    "# Iterate through each element in the set\n",
    "for num in number_set:\n",
    "    # Check if min_value is None (first iteration) or if num is smaller than the current min_value\n",
    "    if min_value is None or num < min_value:\n",
    "        # Update min_value to the current num since it's smaller\n",
    "        min_value = num\n",
    "\n",
    "# Print the minimum value found in the set\n",
    "print(\"The minimum value in the set is:\", min_value)"
   ]
  },
  {
   "cell_type": "markdown",
   "id": "a66d9ad0",
   "metadata": {},
   "source": [
    "Explanation:\n",
    "1. define the set with some values.\n",
    "2. Initialize a variable to store the manimum value as min_value\n",
    "3. Iterate through each element in the set using for loop\n",
    "4. Check if min_value is None (first iteration) or if the current number is greater than min_value\n",
    "5. Update min_value with the current number if it's greater\n",
    "6. Print the maximum value"
   ]
  },
  {
   "cell_type": "markdown",
   "id": "0d6aa22f",
   "metadata": {},
   "source": [
    "# 40. Create a set from user input"
   ]
  },
  {
   "cell_type": "code",
   "execution_count": 10,
   "id": "eb8060f9",
   "metadata": {},
   "outputs": [
    {
     "name": "stdout",
     "output_type": "stream",
     "text": [
      "Enter elements for the set (type 'done' to finish):\n",
      "> 5\n",
      "> 12\n",
      "> done\n",
      "Final set: {'12', '5'}\n"
     ]
    }
   ],
   "source": [
    "# Step 1: Initialize an empty set\n",
    "user_set = set()\n",
    "\n",
    "# Step 2: Get input from the user\n",
    "print(\"Enter elements for the set (type 'done' to finish):\")\n",
    "while True:\n",
    "    user_input = input(\"> \")  # Get input from the user\n",
    "\n",
    "    if user_input.lower() == 'done':\n",
    "        break  # Exit the loop if the user enters 'done'\n",
    "\n",
    "    # Step 3: Add the user input to the set\n",
    "    user_set.add(user_input)\n",
    "\n",
    "# Step 4: Display the final set created from user input\n",
    "print(\"Final set:\", user_set)"
   ]
  },
  {
   "cell_type": "markdown",
   "id": "ea65afea",
   "metadata": {},
   "source": [
    "Explanation:\n",
    "1. Initialize an empty set\n",
    "2. Get input from the user\n",
    "3. Get input from the user\n",
    "4. Exit the loop if the user enters 'done'\n",
    "5. Add the user input to the set\n",
    "6. Display the final set created from user input"
   ]
  },
  {
   "cell_type": "markdown",
   "id": "051a8089",
   "metadata": {},
   "source": [
    "# 41. Check if the intersection of two sets is empty"
   ]
  },
  {
   "cell_type": "code",
   "execution_count": 11,
   "id": "35cf1b2c",
   "metadata": {},
   "outputs": [
    {
     "name": "stdout",
     "output_type": "stream",
     "text": [
      "The intersection of the two sets is not empty.\n"
     ]
    }
   ],
   "source": [
    "# Step 1: Define two sets\n",
    "set1 = {1, 2, 3, 4, 5}\n",
    "set2 = {4, 5, 6, 7, 8}\n",
    "\n",
    "# Step 2: Find the intersection of the two sets using the `intersection()` method\n",
    "intersection_result = set1.intersection(set2)\n",
    "\n",
    "# Step 3: Check if the intersection result is empty\n",
    "if not intersection_result:\n",
    "    print(\"The intersection of the two sets is empty.\")\n",
    "else:\n",
    "    print(\"The intersection of the two sets is not empty.\")"
   ]
  },
  {
   "cell_type": "markdown",
   "id": "d8187161",
   "metadata": {},
   "source": [
    "Explanation:\n",
    "1. first thing is define two set \n",
    "2. Find the intersection of the two sets using the `intersection()` method\n",
    "3. Check if the intersection result is empty"
   ]
  },
  {
   "cell_type": "markdown",
   "id": "fc2da2f9",
   "metadata": {},
   "source": [
    "# 42.  Create a set of the first 5 Fibonacci numbers"
   ]
  },
  {
   "cell_type": "code",
   "execution_count": 12,
   "id": "077e1550",
   "metadata": {},
   "outputs": [
    {
     "name": "stdout",
     "output_type": "stream",
     "text": [
      "Set of the first 5 Fibonacci numbers: {0, 1, 2, 3, 5}\n"
     ]
    }
   ],
   "source": [
    "# Create a set to store the first 5 Fibonacci numbers\n",
    "fibonacci_set = set()\n",
    "\n",
    "# Initialize the first two Fibonacci numbers\n",
    "a, b = 0, 1\n",
    "\n",
    "# Loop to generate the first 5 Fibonacci numbers\n",
    "for _ in range(6):\n",
    "    # Add the current Fibonacci number to the set\n",
    "    fibonacci_set.add(a)\n",
    "\n",
    "    # Calculate the next Fibonacci number\n",
    "    a, b = b, a + b\n",
    "\n",
    "# Print the set of Fibonacci numbers\n",
    "print(\"Set of the first 5 Fibonacci numbers:\", fibonacci_set)"
   ]
  },
  {
   "cell_type": "markdown",
   "id": "5314fb63",
   "metadata": {},
   "source": [
    "Explanation:\n",
    "1. Create a set to store the first 5 Fibonacci numbers\n",
    "2. Initialize the first two Fibonacci numbers\n",
    "3. Loop to generate the first 5 Fibonacci numbers\n",
    "4. Add the current Fibonacci number to the set\n",
    "5. Calculate the next Fibonacci number\n",
    "6. Print the set of Fibonacci numbers"
   ]
  },
  {
   "cell_type": "markdown",
   "id": "85eae0a8",
   "metadata": {},
   "source": [
    "# 43.  Remove duplicates from a list using sets"
   ]
  },
  {
   "cell_type": "code",
   "execution_count": 13,
   "id": "6ec06396",
   "metadata": {},
   "outputs": [
    {
     "name": "stdout",
     "output_type": "stream",
     "text": [
      "Original List: [2, 4, 6, 8, 4, 10, 6, 12, 14, 8]\n",
      "List with Duplicates Removed: [2, 4, 6, 8, 10, 12, 14]\n"
     ]
    }
   ],
   "source": [
    "# Step 1: Define a list with duplicates\n",
    "original_list = [2, 4, 6, 8, 4, 10, 6, 12, 14, 8]\n",
    "\n",
    "# Step 2: Convert the list to a set\n",
    "unique_set = set(original_list)\n",
    "# Now, 'unique_set' contains only unique elements from 'original_list'\n",
    "\n",
    "# Step 3: Convert the set back to a list\n",
    "unique_list = list(unique_set)\n",
    "# Now, 'unique_list' is a list containing only unique elements\n",
    "\n",
    "# Step 4: Print the original list and the list with duplicates removed\n",
    "print(\"Original List:\", original_list)\n",
    "print(\"List with Duplicates Removed:\", unique_list)"
   ]
  },
  {
   "cell_type": "markdown",
   "id": "2a4039b2",
   "metadata": {},
   "source": [
    "EXplanation:\n",
    "1. Define a list with duplicates\n",
    "2. Convert the list to a set\n",
    "3. Now, 'unique_set' contains only unique elements from 'original_list'\n",
    "4. Convert the set back to a list\n",
    "5. Now, 'unique_list' is a list containing only unique elements\n",
    "6. Print the original list and the list with duplicates removed"
   ]
  },
  {
   "cell_type": "markdown",
   "id": "bf3934f8",
   "metadata": {},
   "source": [
    "# 44. Check if two sets have the same elements, regardless of their count."
   ]
  },
  {
   "cell_type": "code",
   "execution_count": 14,
   "id": "b722d028",
   "metadata": {},
   "outputs": [
    {
     "name": "stdout",
     "output_type": "stream",
     "text": [
      "The sets have the same elements.\n"
     ]
    }
   ],
   "source": [
    "def have_same_elements(set1, set2):\n",
    "    # Convert the sets to lists and sort them\n",
    "    sorted_list1 = sorted(list(set1))\n",
    "    sorted_list2 = sorted(list(set2))\n",
    "\n",
    "    # Compare the sorted lists to check if they are equal\n",
    "    return sorted_list1 == sorted_list2\n",
    "\n",
    "# Example sets\n",
    "set1 = {1, 2, 3, 2, 1}\n",
    "set2 = {3, 1, 2}\n",
    "\n",
    "# Check if the sets have the same elements\n",
    "result = have_same_elements(set1, set2)\n",
    "\n",
    "# Print the result\n",
    "if result:\n",
    "    print(\"The sets have the same elements.\")\n",
    "else:\n",
    "    print(\"The sets do not have the same elements.\")"
   ]
  },
  {
   "cell_type": "markdown",
   "id": "df813d55",
   "metadata": {},
   "source": [
    "Explanation:\n",
    "1. convert the function with two set , set1 and set2\n",
    "2. Convert the sets to lists and sort them\n",
    "3. Compare the sorted lists to check if they are equal\n",
    "4. Check if the sets have the same elements\n",
    "5. Print the result"
   ]
  },
  {
   "cell_type": "markdown",
   "id": "ef1f8b5f",
   "metadata": {},
   "source": [
    "# 45. Create a set of the first `n` powers of 2"
   ]
  },
  {
   "cell_type": "code",
   "execution_count": 21,
   "id": "9b716e49",
   "metadata": {},
   "outputs": [
    {
     "name": "stdout",
     "output_type": "stream",
     "text": [
      "{1, 2, 4, 8, 16}\n"
     ]
    }
   ],
   "source": [
    "def generate_powers_of_2(n):\n",
    "    # Initialize an empty set to store the powers of 2\n",
    "    powers_of_2 = set()\n",
    "\n",
    "    # Loop from 0 to n-1\n",
    "    for i in range(n):\n",
    "        # Calculate the current power of 2 using the exponentiation operator **\n",
    "        power = 2 ** i\n",
    "\n",
    "        # Add the current power of 2 to the set\n",
    "        powers_of_2.add(power)\n",
    "\n",
    "    # Return the set of powers of 2\n",
    "    return powers_of_2\n",
    "\n",
    "# Define the value of n\n",
    "n = 5\n",
    "\n",
    "# Call the function to generate the set of powers of 2\n",
    "powers_set = generate_powers_of_2(n)\n",
    "\n",
    "# Print the resulting set\n",
    "print(powers_set)"
   ]
  },
  {
   "cell_type": "code",
   "execution_count": 20,
   "id": "5f9716ae",
   "metadata": {},
   "outputs": [
    {
     "name": "stdout",
     "output_type": "stream",
     "text": [
      "My Set of the first n power of 2 is: {16, 1, 4, 9}\n"
     ]
    }
   ],
   "source": [
    "set_element(5)"
   ]
  },
  {
   "cell_type": "markdown",
   "id": "d7889050",
   "metadata": {},
   "source": [
    "Explanation:\n",
    "1. firs thing is define function that take one argument integer value\n",
    "2. Initialize an empty set to store the powers of 2\n",
    "3. iterate through the for Loop from 0 to n-1\n",
    "4. Calculate the current power of 2 using the exponentiation operator **\n",
    "5. ** operator are generally used to calculate square of any number\n",
    "6. Add the current power of 2 to the set\n",
    "7. Return the set of powers of 2"
   ]
  },
  {
   "cell_type": "markdown",
   "id": "df24e528",
   "metadata": {},
   "source": [
    "# 46. Find the common elements between a set and a list."
   ]
  },
  {
   "cell_type": "code",
   "execution_count": 24,
   "id": "871ed497",
   "metadata": {},
   "outputs": [
    {
     "name": "stdout",
     "output_type": "stream",
     "text": [
      "Common elements: [7, 9, 12]\n"
     ]
    }
   ],
   "source": [
    "# Step 1: Define a set and a list\n",
    "my_set = {3, 7, 9, 12, 15}\n",
    "my_list = [7, 12, 5, 9]\n",
    "\n",
    "# Step 2: Convert the list to a set for efficient comparison\n",
    "list_to_set = set(my_list)\n",
    "\n",
    "# Step 3: Initialize an empty list to store common elements\n",
    "common_elements = []\n",
    "\n",
    "# Step 4: Iterate through the elements in the set\n",
    "for element in my_set:\n",
    "    # Step 5: Check if the element is present in the converted set (list_to_set)\n",
    "    if element in list_to_set:\n",
    "        # Step 6: If the element is present in both the set and the list, add it to the common_elements list\n",
    "        common_elements.append(element)\n",
    "\n",
    "# Step 7: Print the common elements\n",
    "print(\"Common elements:\", common_elements)"
   ]
  },
  {
   "cell_type": "markdown",
   "id": "84469ae9",
   "metadata": {},
   "source": [
    "Explanation:\n",
    "1. Define a set and a list\n",
    "2. Convert the list to a set for efficient comparison\n",
    "3. Initialize an empty list to store common elements\n",
    "4. Iterate through the elements in the set\n",
    "5. Check if the element is present in the converted set (list_to_set)\n",
    "6. If the element is present in both the set and the list, add it to the common_elements list\n",
    "7. Print the common elements"
   ]
  },
  {
   "cell_type": "markdown",
   "id": "ab48f0ab",
   "metadata": {},
   "source": [
    "# 47. Create a set of the first `n` triangular numbers"
   ]
  },
  {
   "cell_type": "code",
   "execution_count": 26,
   "id": "99fe9550",
   "metadata": {},
   "outputs": [
    {
     "name": "stdout",
     "output_type": "stream",
     "text": [
      "Enter the value of n: 5\n",
      "The set of the first 5 triangular numbers is: {1, 3, 6, 10, 15}\n"
     ]
    }
   ],
   "source": [
    "def generate_triangular_numbers(n):\n",
    "    triangular_numbers = set()  # Create an empty set to store the triangular numbers\n",
    "    for i in range(1, n + 1):\n",
    "        triangular_number = i * (i + 1) // 2  # Calculate the ith triangular number using the formula\n",
    "        triangular_numbers.add(triangular_number)  # Add the calculated triangular number to the set\n",
    "    return triangular_numbers\n",
    "\n",
    "# Input the value of 'n'\n",
    "n = int(input(\"Enter the value of n: \"))\n",
    "\n",
    "# Call the function to generate the set of first 'n' triangular numbers\n",
    "triangular_set = generate_triangular_numbers(n)\n",
    "\n",
    "# Display the set of triangular numbers\n",
    "print(f\"The set of the first {n} triangular numbers is:\", triangular_set)"
   ]
  },
  {
   "cell_type": "markdown",
   "id": "c53cc402",
   "metadata": {},
   "source": [
    "Explanation:\n",
    "1. Create an empty set to store the triangular numbers\n",
    "2. Calculate the ith triangular number using the formula\n",
    "3. Add the calculated triangular number to the set\n",
    " "
   ]
  },
  {
   "cell_type": "markdown",
   "id": "ce305b09",
   "metadata": {},
   "source": [
    "# 48. Check if a set contains another set as a subset"
   ]
  },
  {
   "cell_type": "code",
   "execution_count": 27,
   "id": "da84e92a",
   "metadata": {},
   "outputs": [
    {
     "name": "stdout",
     "output_type": "stream",
     "text": [
      "set2 is a subset of set1\n"
     ]
    }
   ],
   "source": [
    "# Define two sets\n",
    "set1 = {1, 2, 3, 4, 5}\n",
    "set2 = {3, 4}\n",
    "\n",
    "# Check if set2 is a subset of set1\n",
    "is_subset = set2.issubset(set1)\n",
    "\n",
    "# Print the result\n",
    "if is_subset:\n",
    "    print(\"set2 is a subset of set1\")\n",
    "else:\n",
    "    print(\"set2 is not a subset of set1\")"
   ]
  },
  {
   "cell_type": "markdown",
   "id": "9adf0a82",
   "metadata": {},
   "source": [
    "Explanation:\n",
    "1. define two set , set1 and set2\n",
    "2. and check that set2 is subset of set1 or not\n",
    "3. display your result"
   ]
  },
  {
   "cell_type": "markdown",
   "id": "3fffe8fc",
   "metadata": {},
   "source": [
    "# 49. Create a set of alternating 1s and 0s of length `n`"
   ]
  },
  {
   "cell_type": "code",
   "execution_count": 28,
   "id": "281817ee",
   "metadata": {},
   "outputs": [
    {
     "name": "stdout",
     "output_type": "stream",
     "text": [
      "{0, 1}\n"
     ]
    }
   ],
   "source": [
    "def create_alternating_set(n):\n",
    "    # Initialize an empty set to store the alternating sequence.\n",
    "    alternating_set = set()\n",
    "\n",
    "    # Loop to generate alternating 1s and 0s.\n",
    "    for i in range(n):\n",
    "        # Alternate between adding 1 and 0 to the set based on whether i is even or odd.\n",
    "        if i % 2 == 0:\n",
    "            alternating_set.add(1)  # Add 1 if i is even.\n",
    "        else:\n",
    "            alternating_set.add(0)  # Add 0 if i is odd.\n",
    "\n",
    "    return alternating_set\n",
    "\n",
    "# Define the desired length of the alternating set.\n",
    "length_n = 10\n",
    "\n",
    "# Call the function to create the alternating set of length 'length_n'.\n",
    "result = create_alternating_set(length_n)\n",
    "\n",
    "# Print the resulting set.\n",
    "print(result)"
   ]
  },
  {
   "cell_type": "markdown",
   "id": "1a9d649d",
   "metadata": {},
   "source": [
    "Explanaiton:\n",
    "1. Initialize an empty set to store the alternating sequence.\n",
    "2. Loop to generate alternating 1s and 0s.\n",
    "3. Alternate between adding 1 and 0 to the set based on whether i is even or odd.\n",
    "4. finally return your result"
   ]
  },
  {
   "cell_type": "markdown",
   "id": "56c618fe",
   "metadata": {},
   "source": [
    "# 50.  Merge multiple sets into one"
   ]
  },
  {
   "cell_type": "code",
   "execution_count": 29,
   "id": "523fa655",
   "metadata": {},
   "outputs": [
    {
     "name": "stdout",
     "output_type": "stream",
     "text": [
      "Merged Set: {1, 2, 3, 4, 5, 6, 7}\n"
     ]
    }
   ],
   "source": [
    "# Step 1: Create multiple sets\n",
    "set1 = {1, 2, 3}\n",
    "set2 = {3, 4, 5}\n",
    "set3 = {5, 6, 7}\n",
    "\n",
    "# Step 2: Use the union() method to merge sets\n",
    "merged_set = set1.union(set2, set3)\n",
    "\n",
    "# Alternatively, you can use the | operator\n",
    "# merged_set = set1 | set2 | set3\n",
    "\n",
    "# Step 3: Print the merged set\n",
    "print(\"Merged Set:\", merged_set)"
   ]
  },
  {
   "cell_type": "markdown",
   "id": "25d9a073",
   "metadata": {},
   "source": [
    "Explanation:\n",
    "1. Create multiple sets like set1 ,set2 and set3\n",
    "2. to merge multiple set we use union() function,\n",
    "3. Alternatively, you can use the | operator\n",
    "4. merged_set = set1 | set2 | set3\n",
    "5. Print the merged set\n"
   ]
  }
 ],
 "metadata": {
  "kernelspec": {
   "display_name": "Python 3 (ipykernel)",
   "language": "python",
   "name": "python3"
  },
  "language_info": {
   "codemirror_mode": {
    "name": "ipython",
    "version": 3
   },
   "file_extension": ".py",
   "mimetype": "text/x-python",
   "name": "python",
   "nbconvert_exporter": "python",
   "pygments_lexer": "ipython3",
   "version": "3.11.4"
  }
 },
 "nbformat": 4,
 "nbformat_minor": 5
}
