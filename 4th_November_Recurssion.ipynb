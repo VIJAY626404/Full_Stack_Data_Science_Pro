{
 "cells": [
  {
   "cell_type": "markdown",
   "id": "be50dbb6",
   "metadata": {},
   "source": [
    "# Recurssion Assignment Solution"
   ]
  },
  {
   "cell_type": "markdown",
   "id": "28d2a2d9",
   "metadata": {},
   "source": [
    "# 1. Can you explain the logic and working of the Tower of Hanoi algorithm by writing a python program? How does the recursion work, and how are the movements of disks between rods accomplished"
   ]
  },
  {
   "cell_type": "markdown",
   "id": "6fa669c9",
   "metadata": {},
   "source": [
    "Certainly! The Tower of Hanoi is a classic problem in computer science and mathematics that involves moving a stack of disks from one rod to another, subject to the constraint that only one disk can be moved at a time, and no disk can be placed on top of a smaller disk. The problem can be solved using a recursive algorithm. Here's a Python program that demonstrates the Tower of Hanoi algorithm:"
   ]
  },
  {
   "cell_type": "code",
   "execution_count": null,
   "id": "3ffdc075",
   "metadata": {},
   "outputs": [],
   "source": [
    "# define function that take four parameters\n",
    "def tower_of_hanoi(n,source_rod,target_rod, auxiliary_rod):\n",
    "    if n==1:\n",
    "        print(f\"Move disk 1 from {source_rod} to {target_rod} \")\n",
    "    tower_of_hanoi(n,source_rod,target_rod,auxiliary_rod)\n",
    "    print(f\"Move disk {n} from {source_rod} to {target_rod}\")\n",
    "    tower_of_hanoi(n-1,auxiliary_rod,target_rod,source_rod)\n",
    "    \n",
    "# call the function\n",
    "tower_of_hanoi(3,'A','B','C')\n",
    "        "
   ]
  },
  {
   "cell_type": "markdown",
   "id": "548b16c1",
   "metadata": {},
   "source": [
    "Explanation:\n",
    "1. The tower_of_hanoi function takes four parameters: n (the number of disks), source_rod (the rod from which to move the          disks), target_rod (the rod to which to move the disks), and auxiliary_rod (the auxiliary rod).\n",
    "\n",
    "2. The base case of the recursion is when there is only one disk (n == 1). In this case, the program simply prints the move from    the source rod to the target rod.\n",
    "3. In the recursive case (n > 1), the algorithm follows these steps:\n",
    "Move the top n-1 disks from the source rod to the auxiliary rod using the target rod as a temporary rod.\n",
    "Move the nth disk from the source rod to the target rod.\n",
    "Move the n-1 disks from the auxiliary rod to the target rod using the source rod as a temporary rod.\n",
    "4. The recursive calls continue until the base case is reached, and the moves are printed in the correct order to solve the        Tower of Hanoi problem."
   ]
  },
  {
   "cell_type": "markdown",
   "id": "1f5ad05c",
   "metadata": {},
   "source": [
    "# 2 Given two strings word1 and word2, return the minimum number of operations required to convert word1 to word2.\n",
    "\n",
    "Example 1:\n",
    "Input: word1 = \"horse\", word2 = \"ros\"\n",
    "Output: 3\n",
    "Explanation: \n",
    "horse -> rorse (replace 'h' with 'r')\n",
    "rorse -> rose (remove 'r')\n",
    "rose -> ros (remove 'e')\n",
    "\n",
    "Example 2:\n",
    "Input: word1 = \"intention\", word2 = \"execution\"\n",
    "Output: 5\n",
    "Explanation: \n",
    "intention -> inention (remove 't')\n",
    "inention -> enention (replace 'i' with 'e')\n",
    "enention -> exention (replace 'n' with 'x')\n",
    "exention -> exection (replace 'n' with 'c')\n",
    "exection -> execution (insert 'u'"
   ]
  },
  {
   "cell_type": "code",
   "execution_count": 7,
   "id": "e201afc8",
   "metadata": {},
   "outputs": [
    {
     "name": "stdout",
     "output_type": "stream",
     "text": [
      "Example 1 Output: 3\n",
      "Example 2 Output: 5\n"
     ]
    }
   ],
   "source": [
    "def min_distance(word1, word2):\n",
    "    def helper(i, j):\n",
    "        # Base cases\n",
    "        if i == len(word1):\n",
    "            return len(word2) - j  # If word1 is empty, insert remaining characters from word2\n",
    "        if j == len(word2):\n",
    "            return len(word1) - i  # If word2 is empty, remove remaining characters from word1\n",
    "\n",
    "        # If the characters are the same, no operation needed\n",
    "        if word1[i] == word2[j]:\n",
    "            return helper(i + 1, j + 1)\n",
    "\n",
    "        # Perform operations (insert, delete, replace) and find the minimum\n",
    "        insert_op = 1 + helper(i, j + 1)\n",
    "        delete_op = 1 + helper(i + 1, j)\n",
    "        replace_op = 1 + helper(i + 1, j + 1)\n",
    "\n",
    "        return min(insert_op, delete_op, replace_op)\n",
    "\n",
    "    return helper(0, 0)\n",
    "\n",
    "# Example usage:\n",
    "word1_example1, word2_example1 = \"horse\", \"ros\"\n",
    "word1_example2, word2_example2 = \"intention\", \"execution\"\n",
    "\n",
    "output_example1 = min_distance(word1_example1, word2_example1)\n",
    "output_example2 = min_distance(word1_example2, word2_example2)\n",
    "\n",
    "print(f\"Example 1 Output: {output_example1}\")\n",
    "print(f\"Example 2 Output: {output_example2}\")\n"
   ]
  },
  {
   "cell_type": "markdown",
   "id": "542c7ed2",
   "metadata": {},
   "source": [
    "Explanation:\n",
    "1. This recursive solution explores all possible combinations of insert, delete, and replace operations. \n",
    "2. While it works for small inputs, it may become inefficient for larger inputs due to repeated calculations. \n",
    "3. You can optimize it using memoization or dynamic programming techniques to store and reuse the results of subproblems."
   ]
  },
  {
   "cell_type": "markdown",
   "id": "e2ccb996",
   "metadata": {},
   "source": [
    "# 3. Print the max value of the array [ 13, 1, -3, 22, 5]"
   ]
  },
  {
   "cell_type": "code",
   "execution_count": 2,
   "id": "afc1741e",
   "metadata": {},
   "outputs": [
    {
     "name": "stdout",
     "output_type": "stream",
     "text": [
      "The maximum value in the array is: 22\n"
     ]
    }
   ],
   "source": [
    "def find_max(arr, n):\n",
    "    # Base case: if the array has only one element, return that element\n",
    "    if n == 1:\n",
    "        return arr[0]\n",
    "    \n",
    "    # Recursive case: find the maximum of the rest of the array\n",
    "    max_of_rest = find_max(arr[1:], n - 1)\n",
    "    \n",
    "    # Compare the maximum of the rest with the first element of the array\n",
    "    return max_of_rest if max_of_rest > arr[0] else arr[0]\n",
    "\n",
    "# Example usage\n",
    "my_array = [13, 1, -3, 22, 5]\n",
    "result = find_max(my_array, len(my_array))\n",
    "print(\"The maximum value in the array is:\", result)\n"
   ]
  },
  {
   "cell_type": "markdown",
   "id": "5d2dc504",
   "metadata": {},
   "source": [
    "Explanation:\n",
    "1. This code defines a function find_max that takes an array (arr) and its length (n) as parameters. \n",
    "2. The base case checks if the array has only one element, in which case it returns that element. Otherwise, it recursively        finds the maximum of the rest of the array and compares it with the first element to determine the overall maximum."
   ]
  },
  {
   "cell_type": "markdown",
   "id": "685d46d1",
   "metadata": {},
   "source": [
    "# 4.  Find the sum of the values of the array [92, 23, 15, -20, 10]"
   ]
  },
  {
   "cell_type": "code",
   "execution_count": 3,
   "id": "4b38935b",
   "metadata": {},
   "outputs": [
    {
     "name": "stdout",
     "output_type": "stream",
     "text": [
      "The sum of the values in the array is: 120\n"
     ]
    }
   ],
   "source": [
    "def array_sum(arr, n):\n",
    "    # Base case: if the array has only one element, return that element\n",
    "    if n == 1:\n",
    "        return arr[0]\n",
    "    \n",
    "    # Recursive case: find the sum of the rest of the array\n",
    "    sum_of_rest = array_sum(arr[1:], n - 1)\n",
    "    \n",
    "    # Add the first element of the array to the sum of the rest\n",
    "    return arr[0] + sum_of_rest\n",
    "\n",
    "# Example usage\n",
    "my_array = [92, 23, 15, -20, 10]\n",
    "result = array_sum(my_array, len(my_array))\n",
    "print(\"The sum of the values in the array is:\", result)\n"
   ]
  },
  {
   "cell_type": "markdown",
   "id": "880a00e3",
   "metadata": {},
   "source": [
    "Explanation:\n",
    "1. This code defines a function array_sum that takes an array (arr) and its length (n) as parameters. \n",
    "2. The base case checks if the array has only one element, in which case it returns that element. \n",
    "3. Otherwise, it recursively finds the sum of the rest of the array and adds it to the first element to determine the overall      sum."
   ]
  },
  {
   "cell_type": "markdown",
   "id": "93f6a86e",
   "metadata": {},
   "source": [
    "# 5. Given a number n. Print if it is an armstrong number or not.An armstrong number is a number if the sum of every digit in that number raised to the power of total digits in that number is equal to the number.\n",
    "\n",
    "Example : 153 = 1^3 + 5^3 + 3^3 = 1 + 125 + 27 = 153 hence 153 is an armstrong number. (Easy)\n",
    "Input1 : 153\n",
    "Output1 : Yes\n",
    "\n",
    "\n",
    "Input 2 : 134\n",
    "Output2 : No"
   ]
  },
  {
   "cell_type": "code",
   "execution_count": 5,
   "id": "35517faa",
   "metadata": {},
   "outputs": [
    {
     "name": "stdout",
     "output_type": "stream",
     "text": [
      "Enter a number: 153\n",
      "Yes, it is an Armstrong number.\n"
     ]
    }
   ],
   "source": [
    "def armstrong_number(n, original_n, power):\n",
    "    # Base case: if n becomes 0, it means we have checked all the digits\n",
    "    if n == 0:\n",
    "        return original_n == 0\n",
    "    \n",
    "    # Get the last digit\n",
    "    digit = n % 10\n",
    "    \n",
    "    # Recursive case: check the remaining digits\n",
    "    return (digit**power) + armstrong_number(n // 10, original_n, power)\n",
    "\n",
    "def is_armstrong_number(number):\n",
    "    # Count the number of digits in the given number\n",
    "    num_digits = len(str(number))\n",
    "    \n",
    "    # Check if the number is an Armstrong number\n",
    "    return number == armstrong_number(number, number, num_digits)\n",
    "\n",
    "# Example usage\n",
    "input_number = int(input(\"Enter a number: \"))\n",
    "result = is_armstrong_number(input_number)\n",
    "\n",
    "if result:\n",
    "    print(\"Yes, it is an Armstrong number.\")\n",
    "else:\n",
    "    print(\"No, it is not an Armstrong number.\")\n"
   ]
  },
  {
   "cell_type": "markdown",
   "id": "db598126",
   "metadata": {},
   "source": [
    "Explanation:\n",
    "1. This code defines two functions: armstrong_number and is_armstrong_number.\n",
    "2. The armstrong_number function is a recursive function that calculates the sum of the digits raised to the power of the total    number of digits.\n",
    "3. The is_armstrong_number function calculates the number of digits and checks if the given number is an Armstrong number by        calling the recursive function."
   ]
  }
 ],
 "metadata": {
  "kernelspec": {
   "display_name": "Python 3 (ipykernel)",
   "language": "python",
   "name": "python3"
  },
  "language_info": {
   "codemirror_mode": {
    "name": "ipython",
    "version": 3
   },
   "file_extension": ".py",
   "mimetype": "text/x-python",
   "name": "python",
   "nbconvert_exporter": "python",
   "pygments_lexer": "ipython3",
   "version": "3.11.4"
  }
 },
 "nbformat": 4,
 "nbformat_minor": 5
}
