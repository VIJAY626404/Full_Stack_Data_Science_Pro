{
 "cells": [
  {
   "cell_type": "markdown",
   "id": "2c3cf50b",
   "metadata": {},
   "source": [
    "# Recurrence Relation Assignment Solution"
   ]
  },
  {
   "cell_type": "markdown",
   "id": "66894847",
   "metadata": {},
   "source": [
    "# 1. Find the value of T(2) for the recurrence relation T(n) = 3T(n-1) + 12n,  given that T(0)=5"
   ]
  },
  {
   "cell_type": "markdown",
   "id": "e415f970",
   "metadata": {},
   "source": [
    "Solution:\n",
    "given recurrence relation , T(n) = 3T(n-1) + 12n  -------equation(1)\n",
    "and T(0) = 5\n",
    "\n",
    "to find value of T(2) put n = 2 in equation(1) then we have,\n",
    "T(2) = 3T(2-1) + 12 * 2\n",
    "\n",
    "T(2) = 3T(1) + 24   -----------equation(2)\n",
    "\n",
    "finally to calculate value of T(2) we need to find value of T(1) , so put n = 1 in equation(1)\n",
    "then, \n",
    "T(1) = 3T(1-1) + 12*1\n",
    "T(1) = 3T(0) + 12\n",
    "\n",
    "we have given value of T(0) in question and put the value of T(0) in above equation\n",
    "T(1) = 3*5 + 12\n",
    "T(1) = 27\n",
    "\n",
    "put the value of T(1) in equation(2)\n",
    "T(2) = 3*27 + 24 \n",
    "T(2) = 105\n",
    "\n",
    "so, value of T(2) is 105.\n"
   ]
  },
  {
   "cell_type": "markdown",
   "id": "1342ae00",
   "metadata": {},
   "source": [
    "# 2. Given a recurrence relation, solve it using the substitution method:\n",
    "\n",
    "a. T(n) = T(n-1) + c\n",
    "\n",
    "b. T(n) = 2T(n/2) + n\n",
    "\n",
    "c. T(n) = 2T(n/2) + c\n",
    "\n",
    "d. T(n) = T(n/2) + c"
   ]
  },
  {
   "cell_type": "markdown",
   "id": "8d569239",
   "metadata": {},
   "source": [
    "# Solution 2. a. T(n) = T(n-1) + c"
   ]
  },
  {
   "cell_type": "markdown",
   "id": "0608691b",
   "metadata": {},
   "source": [
    "Given relation is, \n",
    "T(n) = T(n-1) + c    ---------equation(1)\n",
    "\n",
    "along with substution method firstly i will have to find the value of T(n-1)\n",
    "so, put n = n-1 in equation(1) then we have\n",
    "\n",
    "T(n-1) = T(n-2) + c\n",
    "substitute the value of T(n-1) in equation(1),\n",
    "\n",
    "T(n) = T(n-2) + 2c  ---------equation(2)\n",
    "Again find the value of T(n-2) so,put n = n-2 in equation(1),\n",
    "T(n-2) = T(n-3) + c\n",
    "\n",
    "substitute the value of T(n-2) in equation(2), then we have\n",
    "T(n) = T(n-3) + 3c\n",
    ".\n",
    ".\n",
    ".\n",
    ". after k times\n",
    ".\n",
    ".\n",
    "\n",
    "T(n) = T(n-k) + kc ----------equation(3)\n",
    "suppose base case is n == 1 then k = n-1, put the value of k in equation(3) then,\n",
    "T(n) = T(n-(n-1)) + (n-1)c\n",
    "T(n) = T(1) + nc - c\n",
    "here T(1) and -c are constant so,\n",
    "\n",
    "T(n) = nc\n",
    "\n",
    "So, time coplexity of this recerrence will be O(n)\n",
    "\n"
   ]
  },
  {
   "cell_type": "markdown",
   "id": "27a6315b",
   "metadata": {},
   "source": [
    "# Solution 2. b. "
   ]
  },
  {
   "cell_type": "markdown",
   "id": "5cf91518",
   "metadata": {},
   "source": [
    "Given relation is, \n",
    "T(n) = 2T(n/2) + n    ---------equation(1)\n",
    "\n",
    "along with substution method firstly i will have to find the value of T(n/2)\n",
    "so, put n = n/2 in equation(1) then we have\n",
    "\n",
    "T(n/2) = 2T(n/4) + n/2\n",
    "substitute the value of T(n/2) in equation(1),\n",
    "\n",
    "T(n) = 2(2T(n/4) + n/2 ) + n \n",
    "T(n) =  (4T(n/4) + n ) + n\n",
    "T(n) =  4T(n/4) + 2n  ---------equation(2)\n",
    "Again find the value of T(n/4),put n = n/4 int equation(1)\n",
    "T(n/4) = 2T(n/8) + n/4\n",
    "\n",
    "substitute the value of T(n/4) in equation(2) then we have\n",
    "T(n) = 4(2T(n/8) + n/4 ) + 2n\n",
    "T(n) = 8T(n/8) + n + 2n\n",
    "T(n) = 8T(n/8) + 3n   ------equation(3)\n",
    "T(n) = 2^3T(n/2^3) + 3n\n",
    ".\n",
    ".\n",
    ".\n",
    ". after k times\n",
    ".\n",
    ".\n",
    "\n",
    "T(n) = 2^k * T(n/2^k) + kn\n",
    "\n",
    "for base case condition let n/2^k = 1 means n = 2^k put in above equation\n",
    "T(n) = n * T(1) + k*2^k\n",
    "\n",
    "in base case condition n = 2^k we can take log of both side with base 10    \n",
    "log n = k * log2 \n",
    "k = log n - log 2\n",
    "k = log n\n",
    "put the value of k in above equation, and T(1) = 1\n",
    "\n",
    "T(n) = n + k * n\n",
    "T(n) = n + log n * n\n",
    "T(n) = n(log n + 1)\n"
   ]
  },
  {
   "cell_type": "markdown",
   "id": "9aee52cc",
   "metadata": {},
   "source": [
    "# Solution 2. c. T(n) = 2T(n/2) + c"
   ]
  },
  {
   "cell_type": "markdown",
   "id": "21e984cc",
   "metadata": {},
   "source": [
    "Given recurrene relation is,\n",
    "T(n) = 2T(n/2) + c  --------equation(1)\n",
    "\n",
    "along with substitute method firstly find the value of T(n/2) \n",
    "T(n/2) = 2T(n/4) + c\n",
    "put the value of T(n/2) in equation(1), then\n",
    "\n",
    "T(n) = 2(2T(n/4) + c) + c\n",
    "T(n) = 4T(n/4) + 3c    -------------equation(2)\n",
    "Again put n = T(n/4) in equation(1) and find value of T(n/4),\n",
    "\n",
    "T(n/4) = 2T(n/8) + c\n",
    "put this value in equation(2),\n",
    "T(n) = 4(2T(n/8) + c) + 3c\n",
    "T(n) = 8T(n/8) + 7c    ----------------equation(3)\n",
    "T(n) = 2^3(n/2^3) +(2^3 - 1)*c\n",
    ".\n",
    ".\n",
    ".\n",
    ".\n",
    ". after k times\n",
    ".\n",
    "\n",
    "T(n) = 2^k(n/2^k) + (2^k-1)c --------equation(4)\n",
    "\n",
    "for base case condition suppose that, n/2^k = 1 then\n",
    " n = 2^k\n",
    " take log both side\n",
    " k = log n/log2\n",
    " k = log n - log2\n",
    "\n",
    "then from equation(4),\n",
    "T(n) = 2^log n + (log n - 1)c\n",
    "T(n) = 2^log n + log n\n"
   ]
  },
  {
   "cell_type": "markdown",
   "id": "2a4b328f",
   "metadata": {},
   "source": [
    "# Solution 2. d. T(n) = T(n/2) + c"
   ]
  },
  {
   "cell_type": "markdown",
   "id": "bccc1382",
   "metadata": {},
   "source": [
    "Given recurrence relation is,\n",
    "T(n) = T(n/2) + c  --------equation(1)\n",
    "\n",
    "to find value of T(n/2) put n = n/2 in equationa(1), then\n",
    "T(n/2) = T(n/4) + c\n",
    "put value of T(n/2) in equation(1)\n",
    "T(n) = T(n/4) + 2c ------equation(2)\n",
    "\n",
    "Again find the value of T(n/4),put n = n/4 in equation(1),\n",
    "T(n/4) = T(n/8) + c\n",
    "put the value of T(n/4) in equation(2) then we have,\n",
    "\n",
    "T(n) = T(n/8) + 3c\n",
    "T(n) = T(n/2^3) + 3c\n",
    ".\n",
    ".\n",
    ".\n",
    ". after k times\n",
    ".\n",
    "T(n) = T(n/2^k) + k*c  ------equation(3)\n",
    "for base case condition n/2^k = 1,\n",
    "n = 2^k\n",
    "take log of both sides, then\n",
    "log n = k * log2 \n",
    "k = (log n )/log2\n",
    "k = log n - log2\n",
    "\n",
    "from equation(3),\n",
    "T(n) = T(1) + (log n - log2)*c\n",
    "put T(1) = 1 due to base condition,\n",
    "\n",
    "T(n) = log n"
   ]
  },
  {
   "cell_type": "markdown",
   "id": "13e6bb20",
   "metadata": {},
   "source": [
    "# 3. Given a recurrence relation, solve it using the recursive tree approach:\n",
    "a. T(n) = 2T(n-1) +1\n",
    "b. T(n) = 2T(n/2) + n"
   ]
  },
  {
   "cell_type": "markdown",
   "id": "d30e7f82",
   "metadata": {},
   "source": [
    "# Solution 3. a. T(n) = 2T(n-1) +1"
   ]
  },
  {
   "cell_type": "markdown",
   "id": "8eae1621",
   "metadata": {},
   "source": [
    "Given recurrence relation is, \n",
    "T(n) = 2T(n-1)\n",
    "                          T(n)   -------level1,  2^0.c\n",
    "                       /   \\\n",
    "                   T(n-1)   T(n-1)  ------level2, 2^1.c\n",
    "                    / \\      / \\\n",
    "                T(n-2) T(n-2) T(n-2) T(n-2)  -------level3, 2^2.c\n",
    "                ...   ...   ...   ...\n",
    "                ...   ...   ...   ...\n",
    "                after n times            -------\n",
    "                ...   ...   ...   ...\n",
    "                T(n-k) T(n-k) T(n-k) T(n-k)\n",
    "              /   \\      /   \\    / \\     / \\       -------level n,2^k.c\n",
    "          T(n-k) T(n-k) T(n-k) T(n-k) ...........\n",
    "                \n",
    "in above tree we can see that \n",
    "left side,       right side\n",
    "n-k = 0          n k = 0\n",
    "n = k            n = k\n",
    "number of levels are same in both side k = n then,\n",
    "T(n) = 2^0.c + 2^1.c + 2^2.c + -----------+ 2^n.c\n",
    "T(n) = (1 + 2 + 4 + -------+ 2^n).c\n",
    " we can see that above equation is G.P. Series that's why, use GM = a(r^n-1)/r-1\n",
    " and we have\n",
    " \n",
    " T(n) = 2^n - 1\n",
    " "
   ]
  },
  {
   "cell_type": "markdown",
   "id": "3e08a007",
   "metadata": {},
   "source": [
    "# Solution 3. b. T(n) = 2T(n/2) + n"
   ]
  },
  {
   "cell_type": "markdown",
   "id": "70b32d44",
   "metadata": {},
   "source": [
    "Given recurrence relation is, T(n) = 2T(n/2)   \n",
    "                        T(n)\n",
    "                       /   \\\n",
    "                T(n/2)     T(n/2)\n",
    "                /   \\       /   \\\n",
    "            T(n/4) T(n/4) T(n/4) T(n/4)\n",
    "            ...   ...   ...   ...\n",
    "in above tree we can see that here, \n",
    "left side\n",
    "n/2^k = 1\n",
    "n = 2^k\n",
    "log n = klog 2\n",
    "k = log n  here base is 2\n",
    "\n",
    "and right side\n",
    "n/2^k = 1\n",
    "n = 2^k\n",
    "log n = klog 2\n",
    "k = log n  here base is 2\n",
    "\n",
    "so overall number of level of left side and right side are same. \n",
    "T(n) = n/2^0 + n/2^1 + n/2^2 + n/2^3 + -------------+ n/2^n\n",
    "T(n) = n(1/1 + 1/2 + 1/4 + 1/8 + ----------+ n/2^k)\n",
    "\n",
    "we can observer that above relation is geomatric series where a = 1 and common ratio = 1/2, so\n",
    "T(n) = n * 1((1/2)^n - 1 )/ 1/2 - 1\n",
    "T(n) = n * (2*2^n -2)\n",
    "T(n) = c.n + 2^n"
   ]
  }
 ],
 "metadata": {
  "kernelspec": {
   "display_name": "Python 3 (ipykernel)",
   "language": "python",
   "name": "python3"
  },
  "language_info": {
   "codemirror_mode": {
    "name": "ipython",
    "version": 3
   },
   "file_extension": ".py",
   "mimetype": "text/x-python",
   "name": "python",
   "nbconvert_exporter": "python",
   "pygments_lexer": "ipython3",
   "version": "3.11.4"
  }
 },
 "nbformat": 4,
 "nbformat_minor": 5
}
