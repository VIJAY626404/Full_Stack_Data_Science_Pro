{
 "cells": [
  {
   "cell_type": "markdown",
   "id": "ca291107",
   "metadata": {},
   "source": [
    "# Constructor:"
   ]
  },
  {
   "cell_type": "markdown",
   "id": "57fffc5c",
   "metadata": {},
   "source": [
    "# 1. What is a constructor in Python? Explain its purpose and usage"
   ]
  },
  {
   "cell_type": "markdown",
   "id": "3e005589",
   "metadata": {},
   "source": [
    "Constructor:\n",
    "In Python, a constructor is a special method used to initialize and create an instance of a class. Constructors are defined within a class and are responsible for setting the initial state of an object when it is created. The most commonly used constructor in Python is the __init__ method, which is also known as the initializer.\n",
    "\n",
    "Here's an example of a simple class with a constructor:"
   ]
  },
  {
   "cell_type": "code",
   "execution_count": 1,
   "id": "88542aaf",
   "metadata": {},
   "outputs": [],
   "source": [
    "class person:\n",
    "    def __init__(self,name,age):\n",
    "        self.name = name\n",
    "        self.age = age"
   ]
  },
  {
   "cell_type": "markdown",
   "id": "7d345349",
   "metadata": {},
   "source": [
    "Usage of the constructor in Python:\n",
    "1. Creating Instances: \n",
    "You use a constructor to create instances of a class. When you call the class as if it were a function, the constructor is called to initialize the object. For example:"
   ]
  },
  {
   "cell_type": "code",
   "execution_count": 3,
   "id": "91aefde4",
   "metadata": {},
   "outputs": [],
   "source": [
    "person1 = person(\"Alice\", 30)\n",
    "person2 = person(\"Bob\", 25)\n"
   ]
  },
  {
   "cell_type": "markdown",
   "id": "79a71190",
   "metadata": {},
   "source": [
    "In this case, person1 and person2 are instances of the Person class, and their attributes are initialized according to the constructor.\n",
    "\n",
    "2. Initializing Object State: \n",
    "The constructor is responsible for setting the initial state of an object. It can assign values to instance variables, perform calculations, or any other necessary setup.\n",
    "\n",
    "3. Customization: \n",
    "You can customize the constructor to accept specific parameters or perform specific actions when an object is created. This allows you to define different behaviors for objects of the same class.\n",
    "\n",
    "4. Default Constructors:\n",
    "If you don't define a constructor for a class, Python provides a default constructor that does nothing. However, when you define a constructor like __init__, the default constructor is overridden."
   ]
  },
  {
   "cell_type": "markdown",
   "id": "549dda61",
   "metadata": {},
   "source": [
    "# 2. Differentiate between a parameterless constructor and a parameterized constructor in Python"
   ]
  },
  {
   "cell_type": "markdown",
   "id": "e5007dba",
   "metadata": {},
   "source": [
    "1. Parameterless Constructor (No-argument Constructor):\n",
    "\n",
    "A parameterless constructor, also known as a no-argument constructor, is a constructor that does not take any parameters.\n",
    "It is defined with the __init__ method, but it doesn't have any parameters other than self.\n",
    "It is used when you want to create objects with default attribute values.\n",
    "Example of a parameterless constructor:"
   ]
  },
  {
   "cell_type": "code",
   "execution_count": 13,
   "id": "5a97dcfd",
   "metadata": {},
   "outputs": [],
   "source": [
    "class student:\n",
    "    def student_details(self):\n",
    "        self.name = \"Unknown\"\n",
    "        self.branch = branch\n",
    "        self.age = 0"
   ]
  },
  {
   "cell_type": "code",
   "execution_count": 14,
   "id": "1322705c",
   "metadata": {},
   "outputs": [],
   "source": [
    "student1 = student()"
   ]
  },
  {
   "cell_type": "markdown",
   "id": "f2d0ebec",
   "metadata": {},
   "source": [
    "2. Parameterized Constructor:\n",
    "\n",
    "A parameterized constructor, as the name suggests, is a constructor that takes one or more parameters in addition to self.\n",
    "It is used when you want to create objects with custom attribute values provided during object creation.\n",
    "Example of a parameterized constructor:"
   ]
  },
  {
   "cell_type": "code",
   "execution_count": 8,
   "id": "6c30a279",
   "metadata": {},
   "outputs": [],
   "source": [
    "class Person:\n",
    "    def __init__(self, name, age):\n",
    "        self.name = name\n",
    "        self.age = age\n"
   ]
  },
  {
   "cell_type": "code",
   "execution_count": 9,
   "id": "08673d89",
   "metadata": {},
   "outputs": [],
   "source": [
    "person1 = Person(\"Vijay\",20)"
   ]
  },
  {
   "cell_type": "code",
   "execution_count": 10,
   "id": "6b7c40f8",
   "metadata": {},
   "outputs": [
    {
     "data": {
      "text/plain": [
       "20"
      ]
     },
     "execution_count": 10,
     "metadata": {},
     "output_type": "execute_result"
    }
   ],
   "source": [
    "person1.age"
   ]
  },
  {
   "cell_type": "markdown",
   "id": "0e4e4515",
   "metadata": {},
   "source": [
    "To summarize, the key difference is in the presence of parameters. A parameterless constructor doesn't take any parameters and initializes objects with default values, while a parameterized constructor accepts parameters and initializes objects with custom values provided during object creation. The choice between them depends on your specific use case and whether you want to allow customization during object initialization."
   ]
  },
  {
   "cell_type": "markdown",
   "id": "f5d024cd",
   "metadata": {},
   "source": [
    "# 3.  How do you define a constructor in a Python class? Provide an example."
   ]
  },
  {
   "cell_type": "markdown",
   "id": "d1a65846",
   "metadata": {},
   "source": [
    "In Python, you define a constructor within a class by creating a special method called __init__. The __init__ method is automatically called when an object of the class is created, and it is used to initialize the object's attributes. Here's how you define a constructor in a Python class:"
   ]
  },
  {
   "cell_type": "code",
   "execution_count": 17,
   "id": "ef520535",
   "metadata": {},
   "outputs": [],
   "source": [
    "class Bank:\n",
    "    def __init__(self,name,age,balance,account_number):\n",
    "        self.name = name\n",
    "        self.age = age\n",
    "        self.balance = balance\n",
    "        self.account_number = account_number\n",
    "    def display_details(self):\n",
    "        print(\"Name of Customer is: \",self.name)\n",
    "        print(\"Age of Customer is: \",self.age)\n",
    "        print(\"Available Balance is: \",self.balance)\n",
    "        print(\"Account number is: \",self.account_number)\n",
    "        "
   ]
  },
  {
   "cell_type": "code",
   "execution_count": 18,
   "id": "375627b1",
   "metadata": {},
   "outputs": [],
   "source": [
    "customer1 = Bank(\"ambresh\",23,50000,1234)"
   ]
  },
  {
   "cell_type": "code",
   "execution_count": 20,
   "id": "5fefdf12",
   "metadata": {},
   "outputs": [
    {
     "name": "stdout",
     "output_type": "stream",
     "text": [
      "Name of Customer is:  ambresh\n",
      "Age of Customer is:  23\n",
      "Available Balance is:  50000\n",
      "Account number is:  1234\n"
     ]
    }
   ],
   "source": [
    "customer1.display_details()"
   ]
  },
  {
   "cell_type": "markdown",
   "id": "03553d45",
   "metadata": {},
   "source": [
    "# 4. Explain the `__init__` method in Python and its role in constructors"
   ]
  },
  {
   "cell_type": "markdown",
   "id": "c2d3388b",
   "metadata": {},
   "source": [
    "In Python, the __init__ method\n",
    "It is a special method that serves as the constructor of a class. It is used to initialize and set the initial state of an object when an instance of the class is created. The __init__ method is automatically called when you create an object from a class, and it is an essential part of object-oriented programming in Python.\n",
    "\n",
    "Here are the key points about the __init__ method and its role in constructors:\n",
    "\n",
    "1. Name and Double Underscores: \n",
    "The __init__ method is defined with a double underscore (__) on both sides of \"init.\" Its name is fixed and cannot be changed. This method is recognized by Python as the constructor for a class.\n",
    "\n",
    "2. Parameters:\n",
    "The __init__ method takes at least one parameter, self, which refers to the instance of the object being created. You can also include additional parameters in the method's signature to pass values to initialize the object's attributes.\n",
    "\n",
    "3. Initialization of Object Attributes:\n",
    "Inside the __init__ method, you can perform any necessary setup, such as initializing instance variables (attributes) with values provided as arguments or default values.\n",
    "\n",
    "4. Automatic Invocation: \n",
    "When you create an instance of a class by calling the class name followed by parentheses, Python automatically calls the __init__ method to initialize the object.\n",
    "\n",
    "Here's a simple example demonstrating the __init__ method's role in a constructor:"
   ]
  },
  {
   "cell_type": "code",
   "execution_count": 21,
   "id": "d9413679",
   "metadata": {},
   "outputs": [
    {
     "name": "stdout",
     "output_type": "stream",
     "text": [
      "Alice\n",
      "25\n"
     ]
    }
   ],
   "source": [
    "class Person:\n",
    "    def __init__(self, name, age):\n",
    "        self.name = name\n",
    "        self.age = age\n",
    "\n",
    "# Creating instances of the Person class using the constructor\n",
    "person1 = Person(\"Alice\", 30)\n",
    "person2 = Person(\"Bob\", 25)\n",
    "\n",
    "# Accessing object attributes\n",
    "print(person1.name)  # Output: \"Alice\"\n",
    "print(person2.age)   # Output: 25\n"
   ]
  },
  {
   "cell_type": "markdown",
   "id": "29bc5ac0",
   "metadata": {},
   "source": [
    "# 5.  In a class named `Person`, create a constructor that initializes the `name` and `age` attributes. Provide an example of creating an object of this class"
   ]
  },
  {
   "cell_type": "code",
   "execution_count": 22,
   "id": "901e6db9",
   "metadata": {},
   "outputs": [
    {
     "name": "stdout",
     "output_type": "stream",
     "text": [
      "Name: Alice\n",
      "Age: 30\n"
     ]
    }
   ],
   "source": [
    "class Person:\n",
    "    def __init__(self, name, age):\n",
    "        self.name = name\n",
    "        self.age = age\n",
    "\n",
    "# Creating an instance of the Person class using the constructor\n",
    "person = Person(\"Alice\", 30)\n",
    "\n",
    "# Accessing object attributes\n",
    "print(\"Name:\", person.name)  # Output: Name: Alice\n",
    "print(\"Age:\", person.age)    # Output: Age: 30\n"
   ]
  },
  {
   "cell_type": "markdown",
   "id": "1b4bc183",
   "metadata": {},
   "source": [
    "Explanation:\n",
    "1. the Person class has a constructor defined as the __init__ method.\n",
    "2. It takes name and age as parameters and initializes the name and age attributes of the object.\n",
    "3. When you create an instance of the Person class by calling Person(\"Alice\", 30), the constructor is automatically called, and the object's attributes are set to the provided values."
   ]
  },
  {
   "cell_type": "markdown",
   "id": "cb7444f8",
   "metadata": {},
   "source": [
    "# 6. How can you call a constructor explicitly in Python? Give an example"
   ]
  },
  {
   "cell_type": "markdown",
   "id": "f66544d8",
   "metadata": {},
   "source": [
    "In Python, you can explicitly call a constructor by creating an instance of the class and invoking the __init__ method. However, it's not a common practice to call the constructor explicitly, as Python automatically calls it when you create an object of the class. Explicitly calling the constructor is usually not necessary unless you have a specific reason to do so.\n",
    "\n",
    "Here's an example of how you can explicitly call a constructor:"
   ]
  },
  {
   "cell_type": "code",
   "execution_count": 23,
   "id": "1923a329",
   "metadata": {},
   "outputs": [
    {
     "name": "stdout",
     "output_type": "stream",
     "text": [
      "Name: Alice\n",
      "Age: 30\n"
     ]
    }
   ],
   "source": [
    "class Person:\n",
    "    def __init__(self, name, age):\n",
    "        self.name = name\n",
    "        self.age = age\n",
    "\n",
    "# Explicitly calling the constructor to create an instance\n",
    "person = Person.__new__(Person)  # Create an instance without calling __init__\n",
    "person.__init__(\"Alice\", 30)     # Call __init__ method explicitly\n",
    "\n",
    "# Accessing object attributes\n",
    "print(\"Name:\", person.name)  # Output: Name: Alice\n",
    "print(\"Age:\", person.age)    # Output: Age: 30\n"
   ]
  },
  {
   "cell_type": "markdown",
   "id": "9eacf734",
   "metadata": {},
   "source": [
    "# 7. What is the significance of the `self` parameter in Python constructors? Explain with an example"
   ]
  },
  {
   "cell_type": "markdown",
   "id": "78728088",
   "metadata": {},
   "source": [
    "In Python, the self parameter in constructors and methods of a class plays a crucial role in object-oriented programming. It refers to the instance of the class itself and is used to access and manipulate the instance's attributes and methods. When you create an instance of a class, self allows you to differentiate between instance variables (attributes) and class variables.\n",
    "\n",
    "Here's an example to illustrate the significance of the self parameter in Python constructors:\n"
   ]
  },
  {
   "cell_type": "code",
   "execution_count": 7,
   "id": "1aade643",
   "metadata": {},
   "outputs": [],
   "source": [
    "class Library:\n",
    "    def __init__(self,book_name,author_name):\n",
    "        self.book_name = book_name\n",
    "        self.author_name = author_name\n",
    "    def Library_timing(self):\n",
    "        self.opening_time = opening_time\n",
    "        self.closing_time = clossing_time\n",
    "        print(f\"Opening time of library is {self.opening_time}\")\n",
    "        print(f\"Closing time of library is {self.closing_time}\")\n",
    "    def book_details(self):\n",
    "        print(\"Name of book is: \",self.book_name)\n",
    "        print(\"Name of author is: \",self.author_name)"
   ]
  },
  {
   "cell_type": "code",
   "execution_count": 8,
   "id": "65d0944e",
   "metadata": {},
   "outputs": [],
   "source": [
    "book1 = Library(\"Who is the villain\",\"Vijay\")"
   ]
  },
  {
   "cell_type": "code",
   "execution_count": 9,
   "id": "6b9f52f9",
   "metadata": {},
   "outputs": [
    {
     "name": "stdout",
     "output_type": "stream",
     "text": [
      "Name of book is:  Who is the villain\n",
      "Name of author is:  Vijay\n"
     ]
    }
   ],
   "source": [
    "book1.book_details()"
   ]
  },
  {
   "cell_type": "markdown",
   "id": "abc17b63",
   "metadata": {},
   "source": [
    "The self parameter is essential for ensuring that attributes and methods of a class operate on the specific instance they belong to, rather than affecting all instances of the class."
   ]
  },
  {
   "cell_type": "markdown",
   "id": "632c771d",
   "metadata": {},
   "source": [
    "# 8. Discuss the concept of default constructors in Python. When are they used?"
   ]
  },
  {
   "cell_type": "markdown",
   "id": "ada38a23",
   "metadata": {},
   "source": [
    "Python doesn't have explicit default constructors, you can achieve similar behavior by providing default values in the constructor parameters. This allows you to create instances with or without explicitly passing arguments, depending on your needs.\n",
    "\n",
    "Default constructors (constructors with default values) are used when you want to make your class more flexible and allow objects to be created with or without specific initialization values. They are particularly useful when you have optional parameters or when you want to provide sensible default values for the object's attributes. This can make your code more user-friendly and versatile by reducing the need for explicitly specifying all parameters when creating objects."
   ]
  },
  {
   "cell_type": "code",
   "execution_count": 10,
   "id": "d95b41bb",
   "metadata": {},
   "outputs": [
    {
     "name": "stdout",
     "output_type": "stream",
     "text": [
      "default_value1 default_value2\n",
      "custom_value1 custom_value2\n"
     ]
    }
   ],
   "source": [
    "class MyClass:\n",
    "    def __init__(self, param1=\"default_value1\", param2=\"default_value2\"):\n",
    "        self.param1 = param1\n",
    "        self.param2 = param2\n",
    "\n",
    "# Creating instances of MyClass\n",
    "obj1 = MyClass()\n",
    "obj2 = MyClass(\"custom_value1\", \"custom_value2\")\n",
    "\n",
    "print(obj1.param1, obj1.param2)  # Output: default_value1 default_value2\n",
    "print(obj2.param1, obj2.param2)  # Output: custom_value1 custom_value2\n"
   ]
  },
  {
   "cell_type": "markdown",
   "id": "0d52112c",
   "metadata": {},
   "source": [
    "Explanation:\n",
    "1. the constructor of the MyClass class accepts two parameters, param1 and param2, with default values.\n",
    "2. When you create an instance of MyClass without passing arguments, the default values are used. \n",
    "3. If you provide values when creating the object, those values override the defaults."
   ]
  },
  {
   "cell_type": "markdown",
   "id": "f2d230df",
   "metadata": {},
   "source": [
    "#  9. Create a Python class called `Rectangle` with a constructor that initializes the `width` and `height` attributes. Provide a method to calculate the area of the rectangle."
   ]
  },
  {
   "cell_type": "code",
   "execution_count": 28,
   "id": "c516f84e",
   "metadata": {},
   "outputs": [],
   "source": [
    "# create rectange class\n",
    "class Rectangle:\n",
    "    def __init__(self,width,height):\n",
    "        self.width = width\n",
    "        self.height = height\n",
    "        \n",
    "# calculate the area of rectangle\n",
    "        self.area = self.width*self.height\n",
    "\n",
    "# define function for display about rectangle\n",
    "    def display_details(self):\n",
    "        print(\"Width of rectangle is: \",self.width)\n",
    "        print(\"Height of rectangle is: \",self.height)\n",
    "        print(\"Area o rectangle is: \",self.area)"
   ]
  },
  {
   "cell_type": "code",
   "execution_count": 29,
   "id": "846930f6",
   "metadata": {},
   "outputs": [],
   "source": [
    "obj1 = Rectangle(5,6)"
   ]
  },
  {
   "cell_type": "code",
   "execution_count": 30,
   "id": "6251ffbb",
   "metadata": {},
   "outputs": [
    {
     "name": "stdout",
     "output_type": "stream",
     "text": [
      "Width of rectangle is:  5\n",
      "Height of rectangle is:  6\n",
      "Area o rectangle is:  30\n"
     ]
    }
   ],
   "source": [
    "obj1.display_details()"
   ]
  },
  {
   "cell_type": "markdown",
   "id": "0a8b655d",
   "metadata": {},
   "source": [
    "Explanation:\n",
    "1. define Rectangle function with __init__ constructor that pass two arguments width and height\n",
    "2. initialize object for entered attributes\n",
    "3. calculate the area o rectangle using formula\n",
    "4. create function for display details about rectangle\n",
    "5. show your result using print() function"
   ]
  },
  {
   "cell_type": "markdown",
   "id": "0c3616b3",
   "metadata": {},
   "source": [
    "# 10. How can you have multiple constructors in a Python class? Explain with an example."
   ]
  },
  {
   "cell_type": "markdown",
   "id": "18fe4a16",
   "metadata": {},
   "source": [
    "In Python, we cannot have multiple constructors in the same way you can in some other languages like Java or C++. However, you can achieve the same effect by using class methods or by overloading the constructor (i.e., __init__ method) with default arguments to create different initialization options. Here's an example demonstrating these approaches:"
   ]
  },
  {
   "cell_type": "code",
   "execution_count": 15,
   "id": "8d27f34e",
   "metadata": {},
   "outputs": [
    {
     "name": "stdout",
     "output_type": "stream",
     "text": [
      "Area of the custom rectangle: 35\n",
      "Area of the square: 16\n",
      "Area of the default rectangle: 1\n"
     ]
    }
   ],
   "source": [
    "class Rectangle:\n",
    "    def __init__(self, width, height):\n",
    "        self.width = width\n",
    "        self.height = height\n",
    "\n",
    "    @classmethod\n",
    "    def create_square(cls, side_length):\n",
    "        return cls(side_length, side_length)\n",
    "\n",
    "    @classmethod\n",
    "    def create_default_rectangle(cls):\n",
    "        return cls(1, 1)\n",
    "\n",
    "    def calculate_area(self):\n",
    "        return self.width * self.height\n",
    "\n",
    "# Creating instances of the Rectangle class using class methods\n",
    "rectangle = Rectangle(5, 7)\n",
    "square = Rectangle.create_square(4)\n",
    "default_rectangle = Rectangle.create_default_rectangle()\n",
    "\n",
    "# Calculating the areas\n",
    "area1 = rectangle.calculate_area()\n",
    "area2 = square.calculate_area()\n",
    "area3 = default_rectangle.calculate_area()\n",
    "\n",
    "print(f\"Area of the custom rectangle: {area1}\")\n",
    "print(f\"Area of the square: {area2}\")\n",
    "print(f\"Area of the default rectangle: {area3}\")\n"
   ]
  },
  {
   "cell_type": "markdown",
   "id": "c8243543",
   "metadata": {},
   "source": [
    "Explanation:\n",
    "1. The Rectangle class has a constructor that takes width and height as parameters, allowing you to create custom rectangles.\n",
    "2. It defines two class methods, create_square and create_default_rectangle, which provide alternative ways to construct\n",
    "   Rectangle objects. create_square creates a square with a given side_length, and create_default_rectangle creates a default\n",
    "   1x1 rectangle.\n",
    "3. You can create instances of the Rectangle class using the constructor for custom rectangles or the class methods to create\n",
    "   squares or default rectangles."
   ]
  },
  {
   "cell_type": "markdown",
   "id": "96ea0c78",
   "metadata": {},
   "source": [
    "# 11. What is method overloading, and how is it related to constructors in Python"
   ]
  },
  {
   "cell_type": "markdown",
   "id": "a649a60b",
   "metadata": {},
   "source": [
    "Method overloading is a concept in object-oriented programming where a class can have multiple methods with the same name but different parameters. The behavior of the method is determined by the number or types of the parameters passed to it. In some languages like Java or C++, method overloading allows you to create multiple methods in a class that have the same name but different argument lists, making the methods perform different tasks based on the provided arguments.\n",
    "\n",
    "However, in Python, method overloading works differently than in statically typed languages like Java or C++. Python does not support method overloading in the traditional sense because it is a dynamically typed language. In Python, only the most recent version of a method with a given name is retained, and it overwrites any previous versions with the same name. Therefore, if you define multiple methods with the same name in Python, only the last one defined will be available for use.\n",
    "\n",
    "This lack of traditional method overloading in Python is also applicable to constructors (i.e., the __init__ method). If you define multiple __init__ methods with different parameter lists, only the last one defined will be used as the constructor, and it will overwrite any previous definitions."
   ]
  },
  {
   "cell_type": "code",
   "execution_count": 13,
   "id": "90d0d2a5",
   "metadata": {},
   "outputs": [],
   "source": [
    "class Student:\n",
    "    def __init__(self,name):\n",
    "        self.name = name\n",
    "        \n",
    "    def __init__(self,branch):\n",
    "        self.branch = branch\n",
    "    "
   ]
  },
  {
   "cell_type": "code",
   "execution_count": 14,
   "id": "501598a0",
   "metadata": {},
   "outputs": [
    {
     "ename": "TypeError",
     "evalue": "Student.__init__() takes 2 positional arguments but 3 were given",
     "output_type": "error",
     "traceback": [
      "\u001b[1;31m---------------------------------------------------------------------------\u001b[0m",
      "\u001b[1;31mTypeError\u001b[0m                                 Traceback (most recent call last)",
      "Cell \u001b[1;32mIn[14], line 1\u001b[0m\n\u001b[1;32m----> 1\u001b[0m student1 \u001b[38;5;241m=\u001b[39m Student(\u001b[38;5;124m\"\u001b[39m\u001b[38;5;124mVijay\u001b[39m\u001b[38;5;124m\"\u001b[39m,\u001b[38;5;124m\"\u001b[39m\u001b[38;5;124mCSE\u001b[39m\u001b[38;5;124m\"\u001b[39m)\n",
      "\u001b[1;31mTypeError\u001b[0m: Student.__init__() takes 2 positional arguments but 3 were given"
     ]
    }
   ],
   "source": [
    "student1 = Student(\"Vijay\",\"CSE\")"
   ]
  },
  {
   "cell_type": "markdown",
   "id": "f95d9577",
   "metadata": {},
   "source": [
    "Explanation:\n",
    "1. the class MyClass defines two __init__ methods with different parameter lists.\n",
    "2. However, when you attempt to create an instance of MyClass with both param1 and param2, it will result in a TypeError because\n",
    "   only the second constructor definition is retained."
   ]
  },
  {
   "cell_type": "markdown",
   "id": "1d31479b",
   "metadata": {},
   "source": [
    "# 12.  Explain the use of the `super()` function in Python constructors. Provide an example"
   ]
  },
  {
   "cell_type": "markdown",
   "id": "7137c5aa",
   "metadata": {},
   "source": [
    "Using super() in constructors allows you to maintain code reusability and ensures that both the parent and child classes are properly initialized. It's a common practice in object-oriented programming to initialize common attributes and behavior in the parent class constructor using super(), and then let the child classes add their specific attributes and behavior."
   ]
  },
  {
   "cell_type": "code",
   "execution_count": 23,
   "id": "bdbc6c69",
   "metadata": {},
   "outputs": [
    {
     "name": "stdout",
     "output_type": "stream",
     "text": [
      "Buddy is a Golden Retriever and says 'Woof!'\n",
      "Whiskers is a Tabby cat and says 'Meow!'\n"
     ]
    }
   ],
   "source": [
    "class Animal:\n",
    "    def __init__(self, name):\n",
    "        self.name = name\n",
    "\n",
    "    def speak(self):\n",
    "        pass\n",
    "\n",
    "class Dog(Animal):\n",
    "    def __init__(self, name, breed):\n",
    "        super().__init__(name)  # Call the constructor of the parent class\n",
    "        self.breed = breed\n",
    "\n",
    "    def speak(self):\n",
    "        return \"Woof!\"\n",
    "\n",
    "class Cat(Animal):\n",
    "    def __init__(self, name, color):\n",
    "        super().__init__(name)  # Call the constructor of the parent class\n",
    "        self.color = color\n",
    "\n",
    "    def speak(self):\n",
    "        return \"Meow!\"\n",
    "\n",
    "# Creating instances of Dog and Cat\n",
    "dog = Dog(\"Buddy\", \"Golden Retriever\")\n",
    "cat = Cat(\"Whiskers\", \"Tabby\")\n",
    "\n",
    "# Accessing attributes and calling methods\n",
    "print(f\"{dog.name} is a {dog.breed} and says '{dog.speak()}'\")\n",
    "print(f\"{cat.name} is a {cat.color} cat and says '{cat.speak()}'\")\n"
   ]
  },
  {
   "cell_type": "markdown",
   "id": "47aeb2e3",
   "metadata": {},
   "source": [
    "Explanatino:\n",
    "1. We have a parent class Animal with a constructor that initializes the name attribute.\n",
    "2. We also have two subclasses, Dog and Cat, which inherit from the Animal class.\n",
    "3. In the constructors of the Dog and Cat subclasses, we use super().__init__(name) to call the constructor of the parent class\n",
    "   (Animal) and pass the name parameter to it. This ensures that the name attribute is properly initialized in both the parent\n",
    "   and child classes.\n",
    "4. Each subclass also defines a speak method to provide a specific implementation for their respective speak behavior.\n",
    "5. We create instances of Dog and Cat and demonstrate how to access attributes and call methods."
   ]
  },
  {
   "cell_type": "markdown",
   "id": "52a264df",
   "metadata": {},
   "source": [
    "# 13. Create a class called `Book` with a constructor that initializes the `title`, `author`, and `published_year` attributes. Provide a method to display book details"
   ]
  },
  {
   "cell_type": "code",
   "execution_count": 28,
   "id": "6cc47e51",
   "metadata": {},
   "outputs": [],
   "source": [
    "# create book class with attributes\n",
    "class Book:\n",
    "    def __init__(self,title,author,published_year):\n",
    "        self.title = title\n",
    "        self.author = author\n",
    "        self.published_year = published_year\n",
    "        \n",
    "# define function for dispaly book details\n",
    "    def display_book_detail(self):\n",
    "        print(\"Name of Book is: \",self.title)\n",
    "        print(\"Name of Author is: \",self.author)\n",
    "        print(\"Published Year of Book is: \",self.published_year)"
   ]
  },
  {
   "cell_type": "code",
   "execution_count": 31,
   "id": "0d2e370c",
   "metadata": {},
   "outputs": [],
   "source": [
    "book1 = Book(\"Rise Roar Revolt\",\"S.S Rajamauli\",\"2021\")"
   ]
  },
  {
   "cell_type": "code",
   "execution_count": 32,
   "id": "dad309e5",
   "metadata": {},
   "outputs": [
    {
     "name": "stdout",
     "output_type": "stream",
     "text": [
      "Name of Book is:  Rise Roar Revolt\n",
      "Name of Author is:  S.S Rajamauli\n",
      "Published Year of Book is:  2021\n"
     ]
    }
   ],
   "source": [
    "book1.display_book_detail()"
   ]
  },
  {
   "cell_type": "markdown",
   "id": "75742b93",
   "metadata": {},
   "source": [
    "Explanation:\n",
    "1. create Book class with constructor that pass three arguments\n",
    "2. initialzie value for objects\n",
    "3. define function for display book details"
   ]
  },
  {
   "cell_type": "markdown",
   "id": "3b51723c",
   "metadata": {},
   "source": [
    "# 14. Discuss the differences between constructors and regular methods in Python classes."
   ]
  },
  {
   "cell_type": "markdown",
   "id": "e92eb912",
   "metadata": {},
   "source": [
    "1. constructors are special methods used for initializing objects, while regular methods are used to define the behavior of        objects. \n",
    "2. They differ in their naming, usage, and invocation, and constructors have the specific purpose of setting up an object's        initial state. \n",
    "3. Regular methods, on the other hand, are called explicitly to perform actions on an object."
   ]
  },
  {
   "cell_type": "code",
   "execution_count": 34,
   "id": "0b820f28",
   "metadata": {},
   "outputs": [],
   "source": [
    "class MyClass:\n",
    "    def __init__(self, param1):\n",
    "        self.param1 = param1\n",
    "\n",
    "    def regular_method(self, param2):\n",
    "        return self.param1 + param2\n",
    "\n",
    "# Creating an object and using the constructor\n",
    "obj = MyClass(\"Hello\")\n",
    "\n",
    "# Calling a regular method on the object\n",
    "result = obj.regular_method(\" World\")\n"
   ]
  },
  {
   "cell_type": "markdown",
   "id": "a8b30a18",
   "metadata": {},
   "source": [
    "# 15. Explain the role of the `self` parameter in instance variable initialization within a constructor"
   ]
  },
  {
   "cell_type": "markdown",
   "id": "2472eaa1",
   "metadata": {},
   "source": [
    "In Python, the self parameter in a constructor plays a critical role in initializing instance variables, which are attributes specific to an instance (object) of a class. The self parameter represents the instance of the class being created and allows you to reference and manipulate the instance's attributes.\n",
    "\n",
    "Here's how self is used in instance variable initialization within a constructor:\n",
    "\n",
    "1. Creation of self: When a new instance of a class is created, Python automatically passes a reference to that instance as the    first parameter to the constructor. By convention, this parameter is named self, although you could technically use any name.\n",
    "\n",
    "2. Attribute Initialization: Inside the constructor, you use self to initialize instance variables. These variables represent      the characteristics or properties of the object and can have different values for different instances of the class.\n",
    "\n",
    "3. Access to Instance Variables: Once the instance variables are initialized using self, they can be accessed and manipulated      throughout the class methods. self provides a way to refer to these attributes within the class's methods.\n",
    "\n",
    "Here's an example to illustrate the role of the self parameter in instance variable initialization:"
   ]
  },
  {
   "cell_type": "code",
   "execution_count": 35,
   "id": "52d16159",
   "metadata": {},
   "outputs": [
    {
     "name": "stdout",
     "output_type": "stream",
     "text": [
      "Name: Alice, Age: 20\n",
      "Name: Bob, Age: 22\n"
     ]
    }
   ],
   "source": [
    "class Student:\n",
    "    def __init__(self, name, age):\n",
    "        self.name = name  # Initializes the 'name' attribute for the instance\n",
    "        self.age = age    # Initializes the 'age' attribute for the instance\n",
    "\n",
    "    def display_info(self):\n",
    "        print(f\"Name: {self.name}, Age: {self.age}\")\n",
    "\n",
    "# Creating instances of the Student class\n",
    "student1 = Student(\"Alice\", 20)\n",
    "student2 = Student(\"Bob\", 22)\n",
    "\n",
    "# Accessing and displaying instance variables\n",
    "student1.display_info()  # Output: Name: Alice, Age: 20\n",
    "student2.display_info()  # Output: Name: Bob, Age: 22\n"
   ]
  },
  {
   "cell_type": "markdown",
   "id": "4de7156a",
   "metadata": {},
   "source": [
    "# 16. How do you prevent a class from having multiple instances by using constructors in Python? Provide an example"
   ]
  },
  {
   "cell_type": "markdown",
   "id": "0a9e526e",
   "metadata": {},
   "source": [
    "In Python, we can prevent a class from having multiple instances by using a Singleton design pattern. A Singleton is a design pattern that restricts a class to having only one instance and provides a way to access that instance from anywhere in your code.\n",
    "\n",
    "To implement a Singleton, you typically override the constructor (__init__) and ensure that it creates an instance only if one doesn't already exist. If an instance already exists, the constructor returns a reference to that existing instance. Here's an example of how to implement a Singleton in Python:"
   ]
  },
  {
   "cell_type": "code",
   "execution_count": 36,
   "id": "00cbe380",
   "metadata": {},
   "outputs": [
    {
     "name": "stdout",
     "output_type": "stream",
     "text": [
      "True\n",
      "Instance 2\n",
      "Instance 2\n"
     ]
    }
   ],
   "source": [
    "class Singleton:\n",
    "    _instance = None\n",
    "\n",
    "    def __new__(cls):\n",
    "        if cls._instance is None:\n",
    "            cls._instance = super(Singleton, cls).__new__(cls)\n",
    "            cls._instance.initialized = False\n",
    "        return cls._instance\n",
    "\n",
    "    def __init__(self):\n",
    "        if self.initialized:\n",
    "            return\n",
    "        self.initialized = True\n",
    "        self.value = None  # Initialize any instance-specific attributes here\n",
    "\n",
    "# Creating instances\n",
    "singleton1 = Singleton()\n",
    "singleton1.value = \"Instance 1\"\n",
    "\n",
    "singleton2 = Singleton()\n",
    "singleton2.value = \"Instance 2\"\n",
    "\n",
    "# Both instances are the same\n",
    "print(singleton1 is singleton2)  # Output: True\n",
    "\n",
    "# The value is shared between instances\n",
    "print(singleton1.value)  # Output: Instance 2\n",
    "print(singleton2.value)  # Output: Instance 2\n"
   ]
  },
  {
   "cell_type": "markdown",
   "id": "71c32866",
   "metadata": {},
   "source": [
    "Explanation:\n",
    "1. The Singleton class uses the __new__ method to override the object creation process. It checks whether the instance already      exists (stored in the _instance class variable). If it doesn't exist, a new instance is created and stored in _instance.\n",
    "\n",
    "2. The __init__ method is used to initialize instance-specific attributes. However, it is only executed when the instance is        first created, thanks to the initialized attribute.\n",
    "\n",
    "3. When we create singleton1 and singleton2, both variables reference the same instance of the Singleton class because the class    ensures that only one instance is created."
   ]
  },
  {
   "cell_type": "markdown",
   "id": "2d849b95",
   "metadata": {},
   "source": [
    "# 17. Create a Python class called `Student` with a constructor that takes a list of subjects as a parameter and initializes the `subjects` attribute"
   ]
  },
  {
   "cell_type": "code",
   "execution_count": 40,
   "id": "6efcbae8",
   "metadata": {},
   "outputs": [],
   "source": [
    "# define student call with constructor that pass one arguments subjects list\n",
    "class Student:\n",
    "    def __init__(self,subjects):\n",
    "        self.subjects = subjects\n",
    "    def display_subject(self):\n",
    "        print(f\"Subject for student is: {','.join(self.subjects)}\")\n",
    "\n",
    "        "
   ]
  },
  {
   "cell_type": "code",
   "execution_count": 41,
   "id": "b33942e1",
   "metadata": {},
   "outputs": [],
   "source": [
    "student1 = Student([\"math\",\"physics\",\"chemistry\"])"
   ]
  },
  {
   "cell_type": "code",
   "execution_count": 42,
   "id": "1716e86b",
   "metadata": {},
   "outputs": [
    {
     "name": "stdout",
     "output_type": "stream",
     "text": [
      "Subject for student is: math,physics,chemistry\n"
     ]
    }
   ],
   "source": [
    "student1.display_subject()"
   ]
  },
  {
   "cell_type": "markdown",
   "id": "91f3cd1b",
   "metadata": {},
   "source": [
    "Explanation:\n",
    "1. The Student class has a constructor (__init__) that takes a list of subjects as a parameter.\n",
    "2. Inside the constructor, self.subjects is initialized with the list of subjects passed as an argument when creating an            instance.\n",
    "3. The display_subjects method is defined to display the subjects stored in the subjects attribute.\n",
    "4. We create an instance of the Student class (student1) and pass a list of subjects to the constructor.\n",
    "5. Finally, we call the display_subjects method to display the subjects associated with that student."
   ]
  },
  {
   "cell_type": "markdown",
   "id": "23c8d659",
   "metadata": {},
   "source": [
    "# 18. What is the purpose of the `__del__` method in Python classes, and how does it relate to constructors"
   ]
  },
  {
   "cell_type": "markdown",
   "id": "1a249bce",
   "metadata": {},
   "source": [
    "The __del__ method in Python is a special method used to define the destructor for a class. It's part of the Python data model and is called when an object is about to be destroyed, typically because it's no longer being referenced. The __del__ method allows you to define custom cleanup code that should be executed just before the object is deallocated.\n",
    "\n",
    "Here's an example of how the __del__ method is used:"
   ]
  },
  {
   "cell_type": "code",
   "execution_count": 47,
   "id": "6992ad92",
   "metadata": {},
   "outputs": [
    {
     "name": "stdout",
     "output_type": "stream",
     "text": [
      "Initializing an instance with value 1\n",
      "Initializing an instance with value 2\n",
      "Destroying an instance with value 1\n"
     ]
    }
   ],
   "source": [
    "class MyClass:\n",
    "    def __init__(self, value):\n",
    "        self.value = value\n",
    "        print(f\"Initializing an instance with value {self.value}\")\n",
    "\n",
    "    def __del__(self):\n",
    "        print(f\"Destroying an instance with value {self.value}\")\n",
    "\n",
    "obj1 = MyClass(1)\n",
    "obj2 = MyClass(2)\n",
    "\n",
    "del obj1  # This will trigger the __del__ method for obj1\n"
   ]
  },
  {
   "cell_type": "markdown",
   "id": "3d0ade77",
   "metadata": {},
   "source": [
    "Explanation:\n",
    "when an instance of MyClass is created, the __init__ method is called to initialize the object, and when the del statement is used to remove a reference to obj1, Python's garbage collector will eventually destroy the object, calling the __del__ method in the process."
   ]
  },
  {
   "cell_type": "markdown",
   "id": "eb780abc",
   "metadata": {},
   "source": [
    "# 19. Explain the use of constructor chaining in Python. Provide a practical example"
   ]
  },
  {
   "cell_type": "markdown",
   "id": "52a07558",
   "metadata": {},
   "source": [
    "Constructor chaining in Python refers to the practice of calling one constructor from another constructor within the same class or from a derived class to avoid duplicating initialization code. It allows you to reuse the initialization logic in one constructor to set up an object's state when another constructor is called. This can make your code more maintainable and help avoid redundancy."
   ]
  },
  {
   "cell_type": "code",
   "execution_count": 48,
   "id": "41b35fbd",
   "metadata": {},
   "outputs": [
    {
     "name": "stdout",
     "output_type": "stream",
     "text": [
      "Make: Toyota, Model: Camry\n",
      "Year: 2023\n",
      "Make: Honda, Model: Civic\n",
      "Year: 2022\n"
     ]
    }
   ],
   "source": [
    "class Vehicle:\n",
    "    def __init__(self, make, model):\n",
    "        self.make = make\n",
    "        self.model = model\n",
    "\n",
    "    def show_info(self):\n",
    "        print(f\"Make: {self.make}, Model: {self.model}\")\n",
    "\n",
    "class Car(Vehicle):\n",
    "    def __init__(self, make, model, year):\n",
    "        super().__init__(make, model)  # Call the base class constructor\n",
    "        self.year = year\n",
    "\n",
    "    def show_info(self):\n",
    "        super().show_info()  # Call the base class's show_info method\n",
    "        print(f\"Year: {self.year}\")\n",
    "\n",
    "car1 = Car(\"Toyota\", \"Camry\", 2023)\n",
    "car2 = Car(\"Honda\", \"Civic\", 2022)\n",
    "\n",
    "car1.show_info()\n",
    "car2.show_info()"
   ]
  },
  {
   "cell_type": "markdown",
   "id": "a5ba9f39",
   "metadata": {},
   "source": [
    "# 20. Create a Python class called `Car` with a default constructor that initializes the `make` and `model` attributes. Provide a method to display car information"
   ]
  },
  {
   "cell_type": "code",
   "execution_count": 49,
   "id": "a42b79ed",
   "metadata": {},
   "outputs": [
    {
     "name": "stdout",
     "output_type": "stream",
     "text": [
      "Car Make: Toyota\n",
      "Car Model: Camry\n"
     ]
    }
   ],
   "source": [
    "class Car:\n",
    "    def __init__(self, make, model):\n",
    "        self.make = make\n",
    "        self.model = model\n",
    "\n",
    "    def display_info(self):\n",
    "        print(f\"Car Make: {self.make}\")\n",
    "        print(f\"Car Model: {self.model}\")\n",
    "\n",
    "# Usage example:\n",
    "my_car = Car(\"Toyota\", \"Camry\")\n",
    "my_car.display_info()"
   ]
  },
  {
   "cell_type": "markdown",
   "id": "c5878520",
   "metadata": {},
   "source": [
    "Explanation:\n",
    "1. we can create an instance of the Car class by providing the make and model as arguments to the constructor. \n",
    "2. Then, you can use the display_info method to print the car's information."
   ]
  },
  {
   "cell_type": "markdown",
   "id": "c316f1f0",
   "metadata": {},
   "source": [
    "# Inheritance"
   ]
  },
  {
   "cell_type": "markdown",
   "id": "e113429e",
   "metadata": {},
   "source": [
    "# 1. What is inheritance in Python? Explain its significance in object-oriented programming."
   ]
  },
  {
   "cell_type": "markdown",
   "id": "71c11385",
   "metadata": {},
   "source": [
    "Inheritance is a fundamental concept in object-oriented programming (OOP) and is also a key feature in Python. It allows you to create a new class that is a modified version of an existing class. The existing class is referred to as the \"base class\" or \"parent class,\" and the new class is called the \"derived class\" or \"child class.\" Inheritance enables you to reuse and extend the functionality of existing classes, promoting code reuse, modularity, and a hierarchical organization of classes.\n",
    "\n",
    "Here's how inheritance works in Python and its significance in OOP:\n",
    "\n",
    "1. Creating a Derived Class:\n",
    "To create a derived class that inherits from a base class, you specify the base class in parentheses after the derived class name. For example:"
   ]
  },
  {
   "cell_type": "code",
   "execution_count": null,
   "id": "beb02e61",
   "metadata": {},
   "outputs": [],
   "source": [
    "class BaseClass:\n",
    "    # Base class attributes and methods\n",
    "\n",
    "class DerivedClass(BaseClass):\n",
    "    # Additional attributes and methods for the derived class\n"
   ]
  },
  {
   "cell_type": "markdown",
   "id": "b0097057",
   "metadata": {},
   "source": [
    "2. Inheriting Attributes and Methods:\n",
    "The derived class inherits all the attributes and methods of the base class. This means that you can access and use the attributes and methods of the base class in the derived class without redefining them.\n",
    "\n",
    "3. Extending and Modifying:\n",
    "You can extend the functionality of the derived class by adding new attributes and methods or by modifying the behavior of inherited methods. This allows you to create specialized classes based on a common foundation.\n",
    "\n",
    "4. Code Reuse:\n",
    "Inheritance promotes code reuse because you don't have to duplicate code from the base class in the derived class. This reduces redundancy and makes your code more maintainable.\n",
    "\n",
    "5. Polymorphism:\n",
    "In OOP, polymorphism is the ability of objects of different classes to respond to the same method call. Inheritance allows different classes to share a common interface, which makes it easier to apply polymorphism in your code.\n",
    "\n",
    "6. Hierarchical Organization:\n",
    "Inheritance allows you to create a hierarchical structure of classes. This is particularly useful when modeling real-world relationships, where you can represent more specific objects (derived classes) that inherit characteristics from more general objects (base classes)."
   ]
  },
  {
   "cell_type": "code",
   "execution_count": null,
   "id": "7c0bbd33",
   "metadata": {},
   "outputs": [],
   "source": [
    "# class Animal:\n",
    "    def __init__(self, name):\n",
    "        self.name = name\n",
    "\n",
    "    def speak(self):\n",
    "        pass\n",
    "\n",
    "class Dog(Animal):\n",
    "    def speak(self):\n",
    "        return f\"{self.name} says Woof!\"\n",
    "\n",
    "class Cat(Animal):\n",
    "    def speak(self):\n",
    "        return f\"{self.name} says Meow!\"\n",
    "\n",
    "dog = Dog(\"Buddy\")\n",
    "cat = Cat(\"Whiskers\")\n",
    "\n",
    "print(dog.speak())  # Output: \"Buddy says Woof!\"\n",
    "print(cat.speak())  # Output: \"Whiskers says Meow!\"\n"
   ]
  },
  {
   "cell_type": "markdown",
   "id": "c099b5cf",
   "metadata": {},
   "source": [
    "Explanation:\n",
    "1. Dog and Cat are derived classes that inherit from the Animal base class, allowing them to share the name attribute and          override the speak method to provide their own implementations. \n",
    "2. This demonstrates the concept of code reuse and specialization made possible by inheritance in Python and OOP."
   ]
  },
  {
   "cell_type": "markdown",
   "id": "2a7f6146",
   "metadata": {},
   "source": [
    "# 2. Differentiate between single inheritance and multiple inheritance in Python. Provide examples for each"
   ]
  },
  {
   "cell_type": "markdown",
   "id": "224dfcb1",
   "metadata": {},
   "source": [
    "1. Single Inheritance:\n",
    "Single inheritance is a form of inheritance in which a class inherits attributes and methods from a single parent class. It means that a derived class can have only one base class.\n",
    "\n",
    "Example of single inheritance:"
   ]
  },
  {
   "cell_type": "code",
   "execution_count": 15,
   "id": "d2aa8e4c",
   "metadata": {},
   "outputs": [],
   "source": [
    "class gadgets:\n",
    "    def computer_system(name,processor,ssd):\n",
    "        print(f\"Name of computer is: {name}\")\n",
    "        print(f\"Processor is: {processor}\")\n",
    "        print(f\"Total Available SSD in system is: {ssd}\")\n",
    "\n",
    "class phone(gadgets):\n",
    "    def avaialbe_phone(name, model,network_type):\n",
    "        print(f\"Name of phone is: {name}\")\n",
    "        print(f\"Model of phone is: {model}\")\n",
    "        print(f\"Network is 4G or 5G in {name} is: {network_type}\")\n",
    "        "
   ]
  },
  {
   "cell_type": "code",
   "execution_count": 16,
   "id": "f244a59b",
   "metadata": {},
   "outputs": [],
   "source": [
    "obj1 = phone"
   ]
  },
  {
   "cell_type": "code",
   "execution_count": 17,
   "id": "6a35d762",
   "metadata": {},
   "outputs": [
    {
     "name": "stdout",
     "output_type": "stream",
     "text": [
      "Name of phone is: Realme\n",
      "Model of phone is: C15\n",
      "Network is 4G or 5G in Realme is: 5G\n"
     ]
    }
   ],
   "source": [
    "obj1.avaialbe_phone(\"Realme\",\"C15\",\"5G\")"
   ]
  },
  {
   "cell_type": "code",
   "execution_count": 18,
   "id": "08bb05fa",
   "metadata": {},
   "outputs": [
    {
     "name": "stdout",
     "output_type": "stream",
     "text": [
      "Name of computer is: Dell\n",
      "Processor is: i7\n",
      "Total Available SSD in system is: 1TB\n"
     ]
    }
   ],
   "source": [
    "obj1.computer_system(\"Dell\",\"i7\",\"1TB\")"
   ]
  },
  {
   "cell_type": "markdown",
   "id": "dc885dcf",
   "metadata": {},
   "source": [
    "2. Multiple Inheritance:\n",
    "Multiple inheritance is a feature in Python that allows a class to inherit attributes and methods from more than one parent class. It means that a derived class can have multiple base classes.\n",
    "\n",
    "Example of multiple inheritance:"
   ]
  },
  {
   "cell_type": "code",
   "execution_count": 19,
   "id": "38c3f6a1",
   "metadata": {},
   "outputs": [
    {
     "name": "stdout",
     "output_type": "stream",
     "text": [
      "Quack\n",
      "Can fly\n",
      "Can swim\n"
     ]
    }
   ],
   "source": [
    "class Flyable:\n",
    "    def fly(self):\n",
    "        return \"Can fly\"\n",
    "\n",
    "class Swimable:\n",
    "    def swim(self):\n",
    "        return \"Can swim\"\n",
    "\n",
    "class Bird(Flyable):\n",
    "    def speak(self):\n",
    "        return \"Tweet\"\n",
    "\n",
    "class Fish(Swimable):\n",
    "    def speak(self):\n",
    "        return \"Blub\"\n",
    "\n",
    "class Duck(Bird, Swimable):\n",
    "    def speak(self):\n",
    "        return \"Quack\"\n",
    "\n",
    "duck = Duck()\n",
    "print(duck.speak())  # Output: \"Quack\"\n",
    "print(duck.fly())    # Output: \"Can fly\"\n",
    "print(duck.swim())   # Output: \"Can swim\"\n"
   ]
  },
  {
   "cell_type": "markdown",
   "id": "31a8471d",
   "metadata": {},
   "source": [
    "Explanation:\n",
    "1. the Duck class inherits from both the Bird and Swimable classes using multiple inheritance. \n",
    "2. This allows it to access the speak method from Bird, and the fly and swim methods from both Flyable and Swimable classes."
   ]
  },
  {
   "cell_type": "markdown",
   "id": "11d85dbc",
   "metadata": {},
   "source": [
    "# 3. Create a Python class called `Vehicle` with attributes `color` and `speed`. Then, create a child class called `Car` that inherits from `Vehicle` and adds a `brand` attribute. Provide an example of creating a `Car` object."
   ]
  },
  {
   "cell_type": "code",
   "execution_count": 28,
   "id": "36eef53a",
   "metadata": {},
   "outputs": [],
   "source": [
    "# create Vehicle class with some att\n",
    "class Vehicle:\n",
    "    def Vehicle_details(color,speed):\n",
    "        print(f\"Color of Vehicle is: {color}\")\n",
    "        print(f\"Speed of Vehicle is: {speed}\")\n",
    "\n",
    "class Car(Vehicle):\n",
    "    def Car_Brand(brand_name):\n",
    "        print(f\"Car Brand name is: {brand_name}\")"
   ]
  },
  {
   "cell_type": "code",
   "execution_count": 29,
   "id": "d8da16e2",
   "metadata": {},
   "outputs": [],
   "source": [
    "vehicle1 = Car"
   ]
  },
  {
   "cell_type": "code",
   "execution_count": 30,
   "id": "a189cd84",
   "metadata": {},
   "outputs": [
    {
     "name": "stdout",
     "output_type": "stream",
     "text": [
      "Color of Vehicle is: Black\n",
      "Speed of Vehicle is: 300KM/H\n"
     ]
    }
   ],
   "source": [
    "vehicle1.Vehicle_details(\"Black\",\"300KM/H\")"
   ]
  },
  {
   "cell_type": "code",
   "execution_count": 31,
   "id": "306c3b21",
   "metadata": {},
   "outputs": [
    {
     "name": "stdout",
     "output_type": "stream",
     "text": [
      "Car Brand name is: BMW\n"
     ]
    }
   ],
   "source": [
    "vehicle1.Car_Brand(\"BMW\")"
   ]
  },
  {
   "cell_type": "markdown",
   "id": "8662dcda",
   "metadata": {},
   "source": [
    "Explanation:\n",
    "1. create class of Vehicle and define function for vehicle details\n",
    "2. then create other class like Car and this is call parent class\n",
    "3. Vehicle class is parent class and Car class is child class\n",
    "4. Vehicle class is inteherited by Car class"
   ]
  },
  {
   "cell_type": "markdown",
   "id": "10b1e189",
   "metadata": {},
   "source": [
    "# 4. Explain the concept of method overriding in inheritance. Provide a practical example"
   ]
  },
  {
   "cell_type": "markdown",
   "id": "01ac094d",
   "metadata": {},
   "source": [
    "Method overriding:\n",
    "It is a concept in object-oriented programming, particularly in the context of inheritance, where a subclass provides a specific implementation of a method that is already defined in its superclass. When a subclass overrides a method from its superclass, the method in the subclass is called instead of the one in the superclass when the method is invoked on an object of the subclass. This allows you to tailor the behavior of a method to suit the needs of a particular subclass while maintaining a common interface.\n",
    "\n",
    "Practical Example in Python:\n",
    "Let's consider a practical example using Python. We'll create a base class Shape with a method area, and then we'll create two subclasses Circle and Rectangle that override the area method to calculate the area specific to their shapes."
   ]
  },
  {
   "cell_type": "code",
   "execution_count": 37,
   "id": "0f36f622",
   "metadata": {},
   "outputs": [
    {
     "name": "stdout",
     "output_type": "stream",
     "text": [
      "Area of Circle is: 154.35\n",
      "Area of Rectangle is: 20\n"
     ]
    }
   ],
   "source": [
    "class Shape:\n",
    "    def area(self):\n",
    "        pass\n",
    "class Circle(Shape):\n",
    "    \n",
    "    def __init__(self,radius):\n",
    "        self.radius = radius\n",
    "    def area(self):\n",
    "        return 3.15*self.radius*self.radius\n",
    "class Rectangle(Circle):\n",
    "    def __init__(self,length,height):\n",
    "        self.length = length\n",
    "        self.height = height\n",
    "    def area(self):\n",
    "        return self.length*self.height\n",
    "\n",
    "circle1 = Circle(7)\n",
    "rectangle1 = Rectangle(4,5)\n",
    "\n",
    "# print areas\n",
    "print(f\"Area of Circle is: {circle1.area()}\")\n",
    "print(f\"Area of Rectangle is: {rectangle1.area()}\")"
   ]
  },
  {
   "cell_type": "markdown",
   "id": "f044197f",
   "metadata": {},
   "source": [
    "Explanation:\n",
    "1. the Shape class defines an abstract method area, which is meant to be overridden by its subclasses. \n",
    "2. The Circle and Rectangle classes inherit from Shape and provide their own implementations of the area method, tailored to        calculate the area for circles and rectangles."
   ]
  },
  {
   "cell_type": "markdown",
   "id": "34c9ed0f",
   "metadata": {},
   "source": [
    "# 5. How can you access the methods and attributes of a parent class from a child class in Python? Give an example"
   ]
  },
  {
   "cell_type": "code",
   "execution_count": 48,
   "id": "c819070b",
   "metadata": {},
   "outputs": [
    {
     "name": "stdout",
     "output_type": "stream",
     "text": [
      "Hello, I'm Alice\n",
      "I'm Alice, and I'm 10 years old\n",
      "Alice\n",
      "10\n"
     ]
    }
   ],
   "source": [
    "class Parent:\n",
    "    def __init__(self, name):\n",
    "        self.name = name\n",
    "\n",
    "    def say_hello(self):\n",
    "        print(f\"Hello, I'm {self.name}\")\n",
    "\n",
    "class Child(Parent):\n",
    "    def __init__(self, name, age):\n",
    "        super().__init__(name)  # Call the parent class constructor\n",
    "        self.age = age\n",
    "\n",
    "    def say_hello(self):\n",
    "        super().say_hello()  # Call the parent class method\n",
    "        print(f\"I'm {self.name}, and I'm {self.age} years old\")\n",
    "\n",
    "# Create an instance of the Child class\n",
    "child = Child(\"Alice\", 10)\n",
    "\n",
    "# Access and call methods and attributes from the child instance\n",
    "child.say_hello()  # This calls the overridden method in Child\n",
    "print(child.name)   # This accesses the attribute from the Parent class\n",
    "print(child.age)    # This accesses the attribute from the Child class\n"
   ]
  },
  {
   "cell_type": "markdown",
   "id": "c3dc8cbd",
   "metadata": {},
   "source": [
    "Explanation:\n",
    "1. we have a Parent class with an __init__ constructor and a say_hello method, and a Child class that inherits from Parent.\n",
    "2. Inside the Child class, we use super() to call the parent class's constructor in the __init__ method and the parent class's      say_hello method within the overridden say_hello method. \n",
    "3. This allows us to reuse and extend the functionality of the parent class in the child class."
   ]
  },
  {
   "cell_type": "markdown",
   "id": "3ee30ead",
   "metadata": {},
   "source": [
    "# 6. Discuss the use of the `super()` function in Python inheritance. When and why is it used? Provide an example"
   ]
  },
  {
   "cell_type": "markdown",
   "id": "cb12ea8e",
   "metadata": {},
   "source": [
    "In Python, the super() function is used to call a method or constructor of a parent or superclass within a subclass. It is commonly used in the context of inheritance when you want to extend or override methods or constructors from a parent class while still preserving some of the functionality from the parent class. This allows you to reuse code and implement the principle of code reusability and maintainability.\n",
    "\n",
    "The primary use cases for super() in Python are as follows:\n",
    "1. Calling the superclass constructor: You can use super() to call the constructor of the parent class from within the              constructor of the subclass. This is useful when you want to initialize attributes or perform some common setup defined in      the parent class, in addition to the specific setup for the subclass.\n",
    "\n",
    "2. Calling superclass methods: You can use super() to call methods of the parent class from within the methods of the subclass.    This allows you to extend the functionality of the parent class while still utilizing its behavior.\n",
    "\n",
    "Here's an example to illustrate the use of super() in Python inheritance:"
   ]
  },
  {
   "cell_type": "code",
   "execution_count": 86,
   "id": "86adce21",
   "metadata": {},
   "outputs": [],
   "source": [
    "class Student:\n",
    "    def __init__(self,name,branch,department):\n",
    "        self.name = name\n",
    "        self.branch = branch\n",
    "        self.department = department\n",
    "    def student_details(self):\n",
    "        return f\"{self.name} - {self.branch} - {self.department}\"\n",
    "\n",
    "class Collage(Student):\n",
    "    def __init__(self,name, branch, department,HOD):\n",
    "        \n",
    "# Calling the constructor of the parent class using super()\n",
    "        super().__init__(name,branch,department)\n",
    "        self.HOD = HOD\n",
    "    def student_details(self):\n",
    "    \n",
    "        return f\"{super().student_details()} - {self.HOD}\"\n",
    "    \n",
    "    "
   ]
  },
  {
   "cell_type": "code",
   "execution_count": 87,
   "id": "e89ea0d7",
   "metadata": {},
   "outputs": [],
   "source": [
    "collage1 = Collage(\"vijay\",\"CSE\",\"UIT\",\"DD\")"
   ]
  },
  {
   "cell_type": "code",
   "execution_count": 88,
   "id": "0c45053d",
   "metadata": {},
   "outputs": [
    {
     "name": "stdout",
     "output_type": "stream",
     "text": [
      "vijay - CSE - UIT - DD\n"
     ]
    }
   ],
   "source": [
    "print(collage1.student_details())"
   ]
  },
  {
   "cell_type": "markdown",
   "id": "c5b08e36",
   "metadata": {},
   "source": [
    "1. we have a Student class with a constructor and a student_details method. \n",
    "2. The Collage class is a subclass of Student and overrides both the constructor and the student_details method.\n",
    "3. In the Car class constructor, we use super() to call the constructor of the Student class to initialize the name,branch and      department attributes. \n",
    "4. In the display_info method of the Car class, we use super() to call the display_info method of the Vehicle class to include      its information in the output."
   ]
  },
  {
   "cell_type": "markdown",
   "id": "3b2bfdf3",
   "metadata": {},
   "source": [
    "# 7. Create a Python class called `Animal` with a method `speak()`. Then, create child classes `Dog` and `Cat` that inherit from `Animal` and override the `speak()` method. Provide an example of using these classes."
   ]
  },
  {
   "cell_type": "code",
   "execution_count": 89,
   "id": "5ea33710",
   "metadata": {},
   "outputs": [
    {
     "name": "stdout",
     "output_type": "stream",
     "text": [
      "Dog says: Woof!\n",
      "Cat says: Meow!\n"
     ]
    }
   ],
   "source": [
    "class Animal:\n",
    "    def speak(self):\n",
    "        pass  # This method is meant to be overridden by child classes\n",
    "\n",
    "class Dog(Animal):\n",
    "    def speak(self):\n",
    "        return \"Woof!\"\n",
    "\n",
    "class Cat(Animal):\n",
    "    def speak(self):\n",
    "        return \"Meow!\"\n",
    "\n",
    "# Example of using the classes\n",
    "dog = Dog()\n",
    "cat = Cat()\n",
    "\n",
    "print(\"Dog says:\", dog.speak())  # Calls Dog's speak method\n",
    "# Output: \"Dog says: Woof!\"\n",
    "\n",
    "print(\"Cat says:\", cat.speak())  # Calls Cat's speak method\n",
    "# Output: \"Cat says: Meow!\"\n"
   ]
  },
  {
   "cell_type": "markdown",
   "id": "965177f7",
   "metadata": {},
   "source": [
    "Explanation:\n",
    "1. The Dog and Cat classes inherit from the Animal class and each overrides the speak() method to provide their own                implementation. \n",
    "2. When you create instances of Dog and Cat and call their speak() methods, they produce the respective sounds associated with      dogs and cats."
   ]
  },
  {
   "cell_type": "markdown",
   "id": "57a612d3",
   "metadata": {},
   "source": [
    "# 8. Explain the role of the `isinstance()` function in Python and how it relates to inheritance"
   ]
  },
  {
   "cell_type": "markdown",
   "id": "e6f7dfc9",
   "metadata": {},
   "source": [
    "The isinstance() function in Python is used to determine whether an object is an instance of a particular class or a subclass of that class. It is a built-in function that takes two arguments: the object you want to check and the class (or a tuple of classes) you want to check against. It returns True if the object is an instance of the specified class or a subclass, and False otherwise.\n",
    "\n",
    "The isinstance() function is particularly useful when working with inheritance in Python. It allows you to check the type of an object and verify whether it is derived from a specific class or any of its subclasses. This is beneficial in various scenarios, including:\n",
    "\n",
    "1. Polymorphism: When you have different classes that inherit from a common base class, you can use isinstance() to determine      the actual type of an object and make decisions or perform operations accordingly.\n",
    "\n",
    "2. Error handling: You can use isinstance() to catch specific types of exceptions or errors and handle them appropriately based    on the type of object that raised the exception.\n",
    "\n",
    "3. Generic processing: If you have a list of objects with diverse types but all derived from a common base class, you can use      isinstance() to process them in a uniform manner.\n",
    "\n",
    "Here's an example illustrating how isinstance() can be used in the context of inheritance:"
   ]
  },
  {
   "cell_type": "code",
   "execution_count": 90,
   "id": "97451067",
   "metadata": {},
   "outputs": [
    {
     "name": "stdout",
     "output_type": "stream",
     "text": [
      "True\n",
      "True\n",
      "True\n",
      "True\n",
      "This is an Animal.\n",
      "This is a Dog.\n",
      "This is an Animal.\n",
      "This is a Cat.\n"
     ]
    }
   ],
   "source": [
    "class Animal:\n",
    "    pass\n",
    "\n",
    "class Dog(Animal):\n",
    "    pass\n",
    "\n",
    "class Cat(Animal):\n",
    "    pass\n",
    "\n",
    "my_dog = Dog()\n",
    "my_cat = Cat()\n",
    "\n",
    "# Check if an object is an instance of a specific class or subclass\n",
    "print(isinstance(my_dog, Animal))  # True, because my_dog is an instance of Dog, which is a subclass of Animal\n",
    "print(isinstance(my_cat, Animal))  # True, because my_cat is an instance of Cat, which is a subclass of Animal\n",
    "\n",
    "# You can also use `isinstance()` with tuples to check for multiple classes\n",
    "print(isinstance(my_dog, (Animal, Dog)))  # True, my_dog is either an Animal or a Dog\n",
    "print(isinstance(my_cat, (Animal, Dog)))  # False, my_cat is not a Dog\n",
    "\n",
    "# Checking objects in a list\n",
    "my_animals = [my_dog, my_cat]\n",
    "for animal in my_animals:\n",
    "    if isinstance(animal, Animal):\n",
    "        print(\"This is an Animal.\")\n",
    "    if isinstance(animal, Dog):\n",
    "        print(\"This is a Dog.\")\n",
    "    if isinstance(animal, Cat):\n",
    "        print(\"This is a Cat.\")\n"
   ]
  },
  {
   "cell_type": "markdown",
   "id": "637ddff0",
   "metadata": {},
   "source": [
    "Explanation:\n",
    "1. we have an Animal base class with Dog and Cat subclasses. \n",
    "2. We use isinstance() to check if instances of these classes are indeed instances of Animal or specific subclasses. \n",
    "3. This helps in determining the type of objects and handling them accordingly."
   ]
  },
  {
   "cell_type": "markdown",
   "id": "a759c0d8",
   "metadata": {},
   "source": [
    "# 9. What is the purpose of the `issubclass()` function in Python? Provide an example"
   ]
  },
  {
   "cell_type": "markdown",
   "id": "10f6d37e",
   "metadata": {},
   "source": [
    "The issubclass() function in Python is used to check whether a class is a subclass of another class. It helps you determine the inheritance relationship between classes. It takes two arguments:\n",
    "\n",
    "1. The first argument is the class you want to check if it's a subclass.\n",
    "2. The second argument is the class you want to check against as the potential superclass.\n",
    "3. The function returns True if the first class is a subclass of the second class, and False otherwise.\n",
    "\n",
    "Here's an example:"
   ]
  },
  {
   "cell_type": "code",
   "execution_count": 91,
   "id": "46d5719c",
   "metadata": {},
   "outputs": [
    {
     "name": "stdout",
     "output_type": "stream",
     "text": [
      "True\n",
      "True\n",
      "True\n",
      "True\n",
      "False\n"
     ]
    }
   ],
   "source": [
    "class Animal:\n",
    "    pass\n",
    "\n",
    "class Mammal(Animal):\n",
    "    pass\n",
    "\n",
    "class Bird(Animal):\n",
    "    pass\n",
    "\n",
    "class Dog(Mammal):\n",
    "    pass\n",
    "\n",
    "print(issubclass(Mammal, Animal))  # True, Mammal is a subclass of Animal\n",
    "print(issubclass(Bird, Animal))    # True, Bird is a subclass of Animal\n",
    "print(issubclass(Dog, Animal))     # True, Dog is a subclass of Animal\n",
    "print(issubclass(Dog, Mammal))     # True, Dog is a subclass of Mammal\n",
    "print(issubclass(Animal, Dog))     # False, Animal is not a subclass of Dog\n"
   ]
  },
  {
   "cell_type": "markdown",
   "id": "2b1d610a",
   "metadata": {},
   "source": [
    "Explanation:\n",
    "1. issubclass() is used to check if one class is a subclass of another within this hierarchy.\n",
    "2. It returns True in cases where there's an inheritance relationship and False when there isn't."
   ]
  },
  {
   "cell_type": "markdown",
   "id": "611a4d78",
   "metadata": {},
   "source": [
    "# 10. Discuss the concept of constructor inheritance in Python. How are constructors inherited in child classes"
   ]
  },
  {
   "cell_type": "markdown",
   "id": "731ad3cb",
   "metadata": {},
   "source": [
    "In Python, constructors are special methods known as __init__ methods, and they are used for initializing objects when you create instances of a class. When it comes to constructor inheritance in child classes, there are some key principles to understand:\n",
    "\n",
    "1. Inheritance of Constructors:\n",
    "   When a class is derived from another class (a child class or subclass), it inherits all the attributes and methods of the        parent class (the base class or superclass). \n",
    "   This includes the constructor method (__init__).\n",
    "   \n",
    "   \n",
    "2. Child Class Constructor:\n",
    "   If a child class defines its own constructor (__init__ method), it will override the constructor of the parent class.\n",
    "   The child class's constructor takes precedence.\n",
    "   \n",
    "3. Calling the Parent Class Constructor:\n",
    "   To invoke the constructor of the parent class from the constructor of the child class, you can use the super() function. \n",
    "   This allows you to perform any necessary initialization specific to the parent class before customizing the initialization in    the child class.\n",
    "Here's an example to illustrate these concepts:"
   ]
  },
  {
   "cell_type": "code",
   "execution_count": 92,
   "id": "de06090a",
   "metadata": {},
   "outputs": [
    {
     "name": "stdout",
     "output_type": "stream",
     "text": [
      "Parent constructor called with name: Alice\n",
      "Child constructor called with name: Alice and age: 5\n"
     ]
    }
   ],
   "source": [
    "class Parent:\n",
    "    def __init__(self, name):\n",
    "        self.name = name\n",
    "        print(f\"Parent constructor called with name: {self.name}\")\n",
    "\n",
    "class Child(Parent):\n",
    "    def __init__(self, name, age):\n",
    "        super().__init__(name)  # Call the parent class constructor\n",
    "        self.age = age\n",
    "        print(f\"Child constructor called with name: {self.name} and age: {self.age}\")\n",
    "\n",
    "child = Child(\"Alice\", 5)\n"
   ]
  },
  {
   "cell_type": "markdown",
   "id": "2d1224ad",
   "metadata": {},
   "source": [
    "Explanation:\n",
    "1. I have a Parent class with a constructor that takes a name parameter.\n",
    "2. The Child class is derived from Parent and defines its own constructor that takes both name and age parameters."
   ]
  },
  {
   "cell_type": "markdown",
   "id": "21917d1d",
   "metadata": {},
   "source": [
    "# 11. Create a Python class called `Shape` with a method `area()` that calculates the area of a shape. Then, create child classes `Circle` and `Rectangle` that inherit from `Shape` and implement the `area()` method accordingly. Provide an example"
   ]
  },
  {
   "cell_type": "code",
   "execution_count": 17,
   "id": "68981517",
   "metadata": {},
   "outputs": [
    {
     "name": "stdout",
     "output_type": "stream",
     "text": [
      "Area of Circle with 5 radius is: 78.75\n",
      "Area of Rectangle with 5 and 6 is: 30\n"
     ]
    }
   ],
   "source": [
    "# define Shape class with area method\n",
    "class Shape:\n",
    "    def area(self):\n",
    "        pass\n",
    "    \n",
    "# define Circle class that's inherit the Shape from parent class    \n",
    "class Circle(Shape):\n",
    "    def __init__(self, radius):\n",
    "        self.radius = radius\n",
    "    def area(self):\n",
    "        return 3.15*self.radius*self.radius\n",
    "    \n",
    "# define Rectangle class that's inherit the Shape from parent class\n",
    "class Rectangle(Shape):\n",
    "    def __init__(self,length,height):\n",
    "        self.length = length\n",
    "        self.height = height\n",
    "    def area(self):\n",
    "        return self.length*self.height\n",
    "    \n",
    "# call the classes\n",
    "circle1 = Circle(5)\n",
    "print(f\"Area of Circle with {5} radius is: {circle1.area()}\")\n",
    "rectangle1 = Rectangle(5,6)\n",
    "print(f\"Area of Rectangle with 5 and 6 is: {rectangle1.area()}\")"
   ]
  },
  {
   "cell_type": "markdown",
   "id": "21c87bd2",
   "metadata": {},
   "source": [
    "Explanation:\n",
    "1. we define a base class Shape with an abstract area() method. \n",
    "2. The Circle and Rectangle classes inherit from Shape and provide their own implementations of the area() method, which            calculates the area of a circle and rectangle, respectively."
   ]
  },
  {
   "cell_type": "markdown",
   "id": "32eca955",
   "metadata": {},
   "source": [
    "# 12. Explain the use of abstract base classes (ABCs) in Python and how they relate to inheritance. Provide an example using the `abc` module"
   ]
  },
  {
   "cell_type": "markdown",
   "id": "a0fff739",
   "metadata": {},
   "source": [
    "Abstract Base Classes (ABCs) in Python are a way to define abstract classes and enforce a specific interface or set of methods that subclasses must implement. ABCs provide a blueprint for creating classes, and they are used to define a common structure for a group of related classes, ensuring that certain methods are implemented consistently in derived classes. ABCs are a form of contract or interface in Python.\n",
    "\n",
    "To use ABCs in Python, you can use the abc module, which provides the ABC (Abstract Base Class) and abstractmethod decorators. The ABC class is a metaclass for creating abstract base classes, and the abstractmethod decorator is used to mark methods as abstract, indicating that they must be implemented by concrete subclasses.\n",
    "\n",
    "Here's an example that demonstrates the use of the abc module to define an abstract base class and concrete subclasses:"
   ]
  },
  {
   "cell_type": "code",
   "execution_count": 5,
   "id": "e4319a36",
   "metadata": {},
   "outputs": [
    {
     "name": "stdout",
     "output_type": "stream",
     "text": [
      "Area of the circle with radius 5: 78.5\n",
      "Perimeter of the circle with radius 5: 31.400000000000002\n",
      "Area of the rectangle with width 4 and height 6: 24\n",
      "Perimeter of the rectangle with width 4 and height 6: 20\n"
     ]
    }
   ],
   "source": [
    "from abc import ABC, abstractmethod\n",
    "\n",
    "# Define an abstract base class called 'Shape'\n",
    "class Shape(ABC):\n",
    "    @abstractmethod\n",
    "    def area(self):\n",
    "        pass\n",
    "\n",
    "    @abstractmethod\n",
    "    def perimeter(self):\n",
    "        pass\n",
    "\n",
    "# Create concrete subclasses that inherit from 'Shape'\n",
    "class Circle(Shape):\n",
    "    def __init__(self, radius):\n",
    "        self.radius = radius\n",
    "\n",
    "    def area(self):\n",
    "        return 3.14 * self.radius * self.radius\n",
    "\n",
    "    def perimeter(self):\n",
    "        return 2 * 3.14 * self.radius\n",
    "\n",
    "class Rectangle(Shape):\n",
    "    def __init__(self, width, height):\n",
    "        self.width = width\n",
    "        self.height = height\n",
    "\n",
    "    def area(self):\n",
    "        return self.width * self.height\n",
    "\n",
    "    def perimeter(self):\n",
    "        return 2 * (self.width + self.height)\n",
    "\n",
    "# Attempt to create an instance of the abstract base class will raise a TypeError\n",
    "# shape = Shape()  # This will raise a TypeError\n",
    "\n",
    "# Create instances of the concrete subclasses\n",
    "circle = Circle(5)\n",
    "rectangle = Rectangle(4, 6)\n",
    "\n",
    "# Call the methods on the instances\n",
    "print(f\"Area of the circle with radius 5: {circle.area()}\")\n",
    "print(f\"Perimeter of the circle with radius 5: {circle.perimeter()}\")\n",
    "\n",
    "print(f\"Area of the rectangle with width 4 and height 6: {rectangle.area()}\")\n",
    "print(f\"Perimeter of the rectangle with width 4 and height 6: {rectangle.perimeter()}\")\n"
   ]
  },
  {
   "cell_type": "markdown",
   "id": "c54e502e",
   "metadata": {},
   "source": [
    "Explanation:\n",
    "1. we define an abstract base class Shape with abstract methods area and perimeter. \n",
    "2. The concrete subclasses Circle and Rectangle inherit from Shape and provide implementations for these methods.\n",
    "3. If you attempt to create an instance of the abstract base class Shape, you will get a TypeError"
   ]
  },
  {
   "cell_type": "markdown",
   "id": "17f88cec",
   "metadata": {},
   "source": [
    "# 13. How can you prevent a child class from modifying certain attributes or methods inherited from a parent class in Python"
   ]
  },
  {
   "cell_type": "markdown",
   "id": "d191b87b",
   "metadata": {},
   "source": [
    "In Python, you can prevent a child class from modifying certain attributes or methods inherited from a parent class by making those attributes or methods \"private\" using a naming convention and, if necessary, using the @property decorator to control access. Python follows a convention of prefixing attribute names with an underscore (_) to indicate that they are intended to be \"private.\"\n",
    "\n",
    "Here's how you can achieve this:\n",
    "\n",
    "1. Make attributes and methods private by using the underscore naming convention:\n",
    "\n",
    "In the parent class, prefix the attributes and methods you want to protect with an underscore. This indicates that they are intended to be private and should not be accessed or modified directly by child classes."
   ]
  },
  {
   "cell_type": "code",
   "execution_count": 6,
   "id": "1d7b3e51",
   "metadata": {},
   "outputs": [],
   "source": [
    "class Parent:\n",
    "    def __init__(self):\n",
    "        self._private_attribute = 42\n",
    "\n",
    "    def _private_method(self):\n",
    "        print(\"This is a private method\")\n",
    "\n",
    "class Child(Parent):\n",
    "    def __init__(self):\n",
    "        super().__init()\n",
    "\n",
    "    def modify_private(self):\n",
    "        self._private_attribute = 99  # Allowed, but not recommended\n",
    "        self._private_method()  # Allowed, but not recommended\n"
   ]
  },
  {
   "cell_type": "markdown",
   "id": "359da13a",
   "metadata": {},
   "source": [
    "2. Use the @property decorator to control access to attributes:\n",
    "If you want to further restrict access to an attribute in the parent class, you can use the @property decorator and define a getter method. This way, child classes can only access the attribute, but they cannot modify it directly."
   ]
  },
  {
   "cell_type": "code",
   "execution_count": 7,
   "id": "5dc9afe1",
   "metadata": {},
   "outputs": [],
   "source": [
    "class Parent:\n",
    "    def __init__(self):\n",
    "        self._private_attribute = 42\n",
    "\n",
    "    @property\n",
    "    def private_attribute(self):\n",
    "        return self._private_attribute\n",
    "\n",
    "class Child(Parent):\n",
    "    def __init__(self):\n",
    "        super().__init__()\n",
    "\n",
    "    def modify_private(self):\n",
    "        # Accessing is allowed\n",
    "        value = self.private_attribute\n",
    "        print(value)\n",
    "\n",
    "        # Modifying directly will raise an error\n",
    "        self._private_attribute = 99  # This will raise an error\n"
   ]
  },
  {
   "cell_type": "markdown",
   "id": "f85eabbd",
   "metadata": {},
   "source": [
    "# 14. Create a Python class called `Employee` with attributes `name` and `salary`. Then, create a child class `Manager` that inherits from `Employee` and adds an attribute `department`. Provide an example."
   ]
  },
  {
   "cell_type": "code",
   "execution_count": 8,
   "id": "41624496",
   "metadata": {},
   "outputs": [
    {
     "name": "stdout",
     "output_type": "stream",
     "text": [
      "Employee Details:\n",
      "Name: John Doe, Salary: 50000\n",
      "\n",
      "Manager Details:\n",
      "Name: Alice Smith, Salary: 70000, Department: HR\n"
     ]
    }
   ],
   "source": [
    "class Employee:\n",
    "    def __init__(self, name, salary):\n",
    "        self.name = name\n",
    "        self.salary = salary\n",
    "\n",
    "    def __str__(self):\n",
    "        return f\"Name: {self.name}, Salary: {self.salary}\"\n",
    "\n",
    "class Manager(Employee):\n",
    "    def __init__(self, name, salary, department):\n",
    "        super().__init__(name, salary)\n",
    "        self.department = department\n",
    "\n",
    "    def __str__(self):\n",
    "        return f\"Name: {self.name}, Salary: {self.salary}, Department: {self.department}\"\n",
    "\n",
    "# Example usage:\n",
    "employee1 = Employee(\"John Doe\", 50000)\n",
    "manager1 = Manager(\"Alice Smith\", 70000, \"HR\")\n",
    "\n",
    "print(\"Employee Details:\")\n",
    "print(employee1)\n",
    "\n",
    "print(\"\\nManager Details:\")\n",
    "print(manager1)\n"
   ]
  },
  {
   "cell_type": "markdown",
   "id": "69bdabdf",
   "metadata": {},
   "source": [
    "Explanation:\n",
    "1. we first define the Employee class with attributes name and salary.\n",
    "2. Then, we create the Manager class as a child class of Employee, and it adds an additional attribute, department.\n",
    "3. The Manager class also overrides the __str__ method to provide a custom string representation.\n",
    "4. Finally, we create instances of both the Employee and Manager classes and print their details."
   ]
  },
  {
   "cell_type": "markdown",
   "id": "b3c15ce9",
   "metadata": {},
   "source": [
    "# 15. Discuss the concept of method overloading in Python inheritance. How does it differ from method overriding"
   ]
  },
  {
   "cell_type": "markdown",
   "id": "c348e174",
   "metadata": {},
   "source": [
    "Method overloading and method overriding are two different concepts in object-oriented programming, and they have distinct purposes and behaviors in Python inheritance.\n",
    "\n",
    "Method Overloading:\n",
    "\n",
    "1. Method overloading refers to defining multiple methods in a class with the same name but different parameters (number or        types of parameters). This is used to provide multiple ways of calling a function with different argument lists.\n",
    "2. Python does not support traditional method overloading as some other languages like Java do. In Python, only the latest          defined method with a particular name is retained, and it is not based on the number or types of parameters.\n",
    "3. You can achieve a form of method overloading in Python by using default argument values or variable-length arguments (e.g.,     *args or **kwargs) to handle different parameter variations in a single method.\n",
    "\n",
    "Example of \"method overloading\" in Python:"
   ]
  },
  {
   "cell_type": "code",
   "execution_count": 16,
   "id": "a524b0b7",
   "metadata": {},
   "outputs": [
    {
     "data": {
      "text/plain": [
       "12"
      ]
     },
     "execution_count": 16,
     "metadata": {},
     "output_type": "execute_result"
    }
   ],
   "source": [
    "class calculator:\n",
    "    def add(self,a,b):\n",
    "        return a+b\n",
    "    def add(self,a,b,c):\n",
    "        return a+b+c\n",
    "\n",
    "# call the methods\n",
    "cal1 = calculator()\n",
    "cal1.add(3,4,5)\n",
    "# this will call second add method"
   ]
  },
  {
   "cell_type": "markdown",
   "id": "a4279a94",
   "metadata": {},
   "source": [
    "Method Overriding:\n",
    "\n",
    "1. Method overriding is a concept in inheritance where a subclass provides a specific implementation of a method that is already    defined in its parent class.The method in the subclass has the same name and parameters as the one in the parent class.\n",
    "2. The purpose of method overriding is to provide a more specialized behavior for a method in the subclass. It allows you to use    the same method name to provide a different implementation for the subclass without changing the behavior of the parent          class.\n",
    "3. In Python, method overriding is achieved by defining a method with the same name in the subclass as the one in the parent        class. You can use the super() function to call the overridden method from the parent class if needed.\n",
    "Example of \"method overriding\" in Python:"
   ]
  },
  {
   "cell_type": "code",
   "execution_count": 18,
   "id": "3bc5351a",
   "metadata": {},
   "outputs": [],
   "source": [
    "class Shape:\n",
    "    def area(self):\n",
    "        pass\n",
    "\n",
    "class Circle(Shape):\n",
    "    def __init__(self, radius):\n",
    "        self.radius = radius\n",
    "\n",
    "    def area(self):\n",
    "        return 3.14 * self.radius * self.radius\n",
    "\n",
    "circle = Circle(5)\n",
    "circle_area = circle.area()  # This calls the 'area' method of the 'Circle' class\n",
    "\n",
    "# You've overridden the 'area' method in the 'Circle' class to provide a specialized implementation.\n"
   ]
  },
  {
   "cell_type": "markdown",
   "id": "a8498923",
   "metadata": {},
   "source": [
    "# 16. Explain the purpose of the `__init__()` method in Python inheritance and how it is utilized in child classes"
   ]
  },
  {
   "cell_type": "markdown",
   "id": "8bfcca33",
   "metadata": {},
   "source": [
    "The __init__() method in Python is a special method (also known as a constructor) that is automatically called when an object of a class is created. It is used to initialize the attributes and state of the object. In the context of inheritance, the __init__() method is utilized in both the parent (base) class and child (derived) classes to ensure proper initialization of objects.\n",
    "\n",
    "Here's the purpose and utilization of the __init__() method in Python inheritance:\n",
    "\n",
    "In the Parent (Base) Class:\n",
    "1. In the parent class, the __init__() method is used to initialize attributes that are common to all objects created from that    class.\n",
    "2. It sets up the initial state of the object and assigns default values to its attributes.\n",
    "3. The __init__() method can also accept parameters, allowing you to provide initial values for attributes during object            creation.\n",
    "Example of the __init__() method in a parent class:"
   ]
  },
  {
   "cell_type": "code",
   "execution_count": null,
   "id": "236fa325",
   "metadata": {},
   "outputs": [],
   "source": [
    "class Person:\n",
    "    def __init__(self, name, age):\n",
    "        self.name = name\n",
    "        self.age = age\n"
   ]
  },
  {
   "cell_type": "markdown",
   "id": "96cfd719",
   "metadata": {},
   "source": [
    "In the Child (Derived) Class:\n",
    "1. In a child class that inherits from a parent class, the __init__() method can be used to add or modify attributes specific to    that child class.\n",
    "2. The child class's __init__() method typically calls the parent class's __init__() method using super().__init__(...) to          ensure that the attributes from the parent class are properly initialized.\n",
    "3. The child class can also introduce additional attributes that are unique to its instances, and these attributes are usually      initialized within its own __init__() method.\n",
    "Example of the __init__() method in a child class:"
   ]
  },
  {
   "cell_type": "code",
   "execution_count": null,
   "id": "ea362bac",
   "metadata": {},
   "outputs": [],
   "source": [
    "class Student(Person):\n",
    "    def __init__(self, name, age, student_id):\n",
    "        super().__init__(name, age)  # Call the parent class's __init__ to initialize name and age\n",
    "        self.student_id = student_id  # Initialize the student_id attribute\n"
   ]
  },
  {
   "cell_type": "markdown",
   "id": "f96e7ded",
   "metadata": {},
   "source": [
    "Explanation:\n",
    "1. Student class is a child class of the Person class. The __init__() method in the Student class calls the parent class's \n",
    "2. __init__() method to set the name and age attributes, and it introduces the student_id attribute specific to the Student        class."
   ]
  },
  {
   "cell_type": "markdown",
   "id": "aa5969f3",
   "metadata": {},
   "source": [
    "# 17. Create a Python class called `Bird` with a method `fly()`. Then, create child classes `Eagle` and `Sparrow` that inherit from `Bird` and implement the `fly()` method differently. Provide an example of using these classes."
   ]
  },
  {
   "cell_type": "code",
   "execution_count": 23,
   "id": "d4a7e2f1",
   "metadata": {},
   "outputs": [
    {
     "name": "stdout",
     "output_type": "stream",
     "text": [
      "Eagle is: Eagle is soaring high in the sky\n",
      "Sparrow is: Sparrow is flying gracefully from tree to tree\n"
     ]
    }
   ],
   "source": [
    "# create class Bird with method fly()\n",
    "class Bird:\n",
    "    def fly(self):\n",
    "        pass\n",
    "\n",
    "# create child class Eagle that inherit parent value Bird class\n",
    "class Eagle(Bird):\n",
    "    def fly(self):\n",
    "        return \"Eagle is soaring high in the sky\"\n",
    "    \n",
    "# create child class Eagle that inherit parent value Bird class\n",
    "class Sparrow(Bird):\n",
    "    def fly(self):\n",
    "        return \"Sparrow is flying gracefully from tree to tree\"\n",
    "\n",
    "eagle1 = Eagle()\n",
    "sparrow1 = Sparrow()\n",
    "print(f\"Eagle is: {eagle1.fly()}\")\n",
    "print(f\"Sparrow is: {sparrow1.fly()}\")"
   ]
  },
  {
   "cell_type": "markdown",
   "id": "d0e22b57",
   "metadata": {},
   "source": [
    "Explanation\n",
    "1. we define a base class Bird with a fly() method, which is marked as abstract.\n",
    "2. Then, we create two child classes, Eagle and Sparrow, that inherit from Bird. \n",
    "3. Each child class provides its own implementation of the fly() method, reflecting the different flying behaviors of eagle1 and    sparrow1."
   ]
  },
  {
   "cell_type": "markdown",
   "id": "1fd734f2",
   "metadata": {},
   "source": [
    "# 18. What is the \"diamond problem\" in multiple inheritance, and how does Python address it"
   ]
  },
  {
   "cell_type": "markdown",
   "id": "a07f270f",
   "metadata": {},
   "source": [
    "The \"diamond problem\" is a common issue that arises in programming languages that support multiple inheritance. It occurs when a class inherits from two or more classes that have a common ancestor. This common ancestor is at the top of the inheritance hierarchy, and as a result, the derived class inherits the same attributes and methods from multiple paths, which can lead to ambiguity and conflicts.\n",
    "\n",
    "Consider the following example:"
   ]
  },
  {
   "cell_type": "markdown",
   "id": "58085fbb",
   "metadata": {},
   "source": [
    "      A\n",
    "     / \\\n",
    "    B   C\n",
    "     \\ /\n",
    "      D\n",
    "In this diagram, classes B and C both inherit from class A, and class D inherits from both classes B and C. Now, if classes B and C both have methods with the same name, and class D tries to call that method, it's unclear which method should be used. This ambiguity is known as the \"diamond problem.\"\n",
    "\n",
    "Python addresses the diamond problem using a mechanism called Method Resolution Order (MRO) and the C3 linearization algorithm. Python's MRO ensures that method resolution is unambiguous and follows a consistent order. The C3 linearization algorithm calculates the method resolution order for a class hierarchy."
   ]
  },
  {
   "cell_type": "code",
   "execution_count": 24,
   "id": "55ffba6b",
   "metadata": {},
   "outputs": [
    {
     "name": "stdout",
     "output_type": "stream",
     "text": [
      "B's method\n"
     ]
    }
   ],
   "source": [
    "class A:\n",
    "    def method(self):\n",
    "        print(\"A's method\")\n",
    "\n",
    "class B(A):\n",
    "    def method(self):\n",
    "        print(\"B's method\")\n",
    "\n",
    "class C(A):\n",
    "    def method(self):\n",
    "        print(\"C's method\")\n",
    "\n",
    "class D(B, C):\n",
    "    pass\n",
    "\n",
    "d = D()\n",
    "d.method()  # Prints \"B's method\" because B appears before C in the MRO\n"
   ]
  },
  {
   "cell_type": "markdown",
   "id": "c4e2329c",
   "metadata": {},
   "source": [
    "Explanation:\n",
    "1. class D inherits from both classes B and C, which inherit from class A. \n",
    "2. The MRO ensures that the method method() is resolved consistently, and it follows the order of inheritance specified in the      class definition of D.\n",
    "3. This resolves the ambiguity of the diamond problem and ensures that \"B's method\" is called in this case."
   ]
  },
  {
   "cell_type": "markdown",
   "id": "5067baa5",
   "metadata": {},
   "source": [
    "# 19. Discuss the concept of \"is-a\" and \"has-a\" relationships in inheritance, and provide examples of each."
   ]
  },
  {
   "cell_type": "markdown",
   "id": "d721a214",
   "metadata": {},
   "source": [
    "\"Inheritance\" in object-oriented programming (OOP) is used to model both \"is-a\" and \"has-a\" relationships, which help in creating and organizing class hierarchies. These relationships describe how one class relates to another:\n",
    "\n",
    "\"Is-a\" Relationship (Inheritance or Generalization):\n",
    "\n",
    "1. In an \"is-a\" relationship, one class is considered to be a specialized version of another class. It signifies that an object    of the subclass \"is-a\" type of the parent class. Inheritance is used to represent \"is-a\" relationships.\n",
    "2. It's used when you have a class that shares characteristics and behaviors with another class but has some specialized            attributes or methods.\n",
    "3. The child class (subclass or derived class) inherits the attributes and methods of the parent class (base class or              superclass), and it can also introduce additional attributes or methods.\n",
    "4. \"Is-a\" relationships are typically represented by using class inheritance or subclassing.\n",
    "Example of \"is-a\" relationship:"
   ]
  },
  {
   "cell_type": "code",
   "execution_count": 25,
   "id": "ea83dcd8",
   "metadata": {},
   "outputs": [],
   "source": [
    "class Animal:\n",
    "    def __init__(self, species):\n",
    "        self.species = species\n",
    "\n",
    "class Dog(Animal):  # Dog is a type of Animal\n",
    "    def bark(self):\n",
    "        print(\"Woof!\")\n",
    "\n",
    "class Cat(Animal):  # Cat is a type of Animal\n",
    "    def meow(self):\n",
    "        print(\"Meow!\")\n",
    "\n",
    "dog = Dog(\"Canine\")\n",
    "cat = Cat(\"Feline\")\n"
   ]
  },
  {
   "cell_type": "markdown",
   "id": "079e016e",
   "metadata": {},
   "source": [
    "\"Has-a\" Relationship (Composition or Aggregation):\n",
    "\n",
    "1. In a \"has-a\" relationship, one class contains another class as an attribute or member. It signifies that an object of one        class \"has-a\" relationship with an object of another class.\n",
    "2. It's used when you want to represent that a class is composed of or aggregates other classes or objects.\n",
    "3. The containing class (often called the \"owner\" or \"composite\") holds instances of the contained class (often called the          \"component\" or \"aggregate\") as attributes.\n",
    "4. \"Has-a\" relationships are typically represented using attributes, and they promote code reusability and modularity.\n",
    "Example of \"has-a\" relationship:"
   ]
  },
  {
   "cell_type": "code",
   "execution_count": 26,
   "id": "26d23263",
   "metadata": {},
   "outputs": [],
   "source": [
    "class Engine:\n",
    "    def start(self):\n",
    "        print(\"Engine started\")\n",
    "\n",
    "class Car:\n",
    "    def __init__(self):\n",
    "        self.engine = Engine()  # Car has an Engine\n",
    "\n",
    "    def drive(self):\n",
    "        print(\"Car is moving\")\n",
    "\n",
    "my_car = Car()"
   ]
  },
  {
   "cell_type": "markdown",
   "id": "07255807",
   "metadata": {},
   "source": [
    "Explanation:\n",
    "1. we have an \"is-a\" relationship where Dog and Cat are specialized types of Animal, and they inherit the species attribute. \n",
    "2. In the second example, we have a \"has-a\" relationship where a Car has an Engine, and it contains an Engine object as an          attribute."
   ]
  },
  {
   "cell_type": "markdown",
   "id": "58f92c08",
   "metadata": {},
   "source": [
    "# 20.  Create a Python class hierarchy for a university system. Start with a base class `Person` and create child classes `Student` and `Professor`, each with their own attributes and methods. Provide an example of using these classes in a university context"
   ]
  },
  {
   "cell_type": "code",
   "execution_count": 34,
   "id": "b719b182",
   "metadata": {},
   "outputs": [
    {
     "name": "stdout",
     "output_type": "stream",
     "text": [
      "Hi, I'm Alice and I'm 20 years old.\n",
      "Alice is studying Mathematics.\n",
      "Student ID: S12345\n",
      "\n",
      "Hi, I'm Dr. Smith and I'm 45 years old.\n",
      "Dr. Smith is teaching Computer Science.\n",
      "Employee ID: P98765\n"
     ]
    }
   ],
   "source": [
    "# create class of Person with some method\n",
    "class Person:\n",
    "    def __init__(self, name, age):\n",
    "        self.name = name\n",
    "        self.age = age\n",
    "\n",
    "    def introduce(self):\n",
    "        return f\"Hi, I'm {self.name} and I'm {self.age} years old.\"\n",
    "\n",
    "# define child classes like Student with some attributes and method\n",
    "class Student(Person):\n",
    "    def __init__(self, name, age, student_id):\n",
    "\n",
    "# here we can inherit objects from parent class using super() function\n",
    "        super().__init__(name, age)\n",
    "        self.student_id = student_id\n",
    "\n",
    "    def study(self, subject):\n",
    "        return f\"{self.name} is studying {subject}.\"\n",
    "\n",
    "# define child classes like Professor with some attributes and method\n",
    "class Professor(Person):\n",
    "    def __init__(self, name, age, employee_id):\n",
    "        super().__init__(name, age)\n",
    "        self.employee_id = employee_id\n",
    "\n",
    "    def teach(self, subject):\n",
    "        return f\"{self.name} is teaching {subject}.\"\n",
    "\n",
    "# Example usage:\n",
    "student1 = Student(\"Alice\", 20, \"S12345\")\n",
    "professor1 = Professor(\"Dr. Smith\", 45, \"P98765\")\n",
    "\n",
    "print(student1.introduce())\n",
    "print(student1.study(\"Mathematics\"))\n",
    "print(f\"Student ID: {student1.student_id}\\n\")\n",
    "\n",
    "print(professor1.introduce())\n",
    "print(professor1.teach(\"Computer Science\"))\n",
    "print(f\"Employee ID: {professor1.employee_id}\")\n"
   ]
  },
  {
   "cell_type": "code",
   "execution_count": 32,
   "id": "550cbf74",
   "metadata": {},
   "outputs": [],
   "source": [
    "person1 = Student(\"vijay\",\"UIT\",\"123\",\"CSE\")"
   ]
  },
  {
   "cell_type": "code",
   "execution_count": 33,
   "id": "9fd856ce",
   "metadata": {},
   "outputs": [
    {
     "data": {
      "text/plain": [
       "'My student id is: 123 and my branch is: CSE'"
      ]
     },
     "execution_count": 33,
     "metadata": {},
     "output_type": "execute_result"
    }
   ],
   "source": [
    "person1.display()"
   ]
  },
  {
   "cell_type": "markdown",
   "id": "0541ac12",
   "metadata": {},
   "source": [
    "Explanation:\n",
    "1. We start with the Person base class, which has attributes name and age, and a method introduce() to introduce the person.\n",
    "2. The Student class inherits from Person and adds an attribute student_id and a method study().\n",
    "3. The Professor class also inherits from Person and adds an attribute employee_id and a method teach()."
   ]
  },
  {
   "cell_type": "markdown",
   "id": "f2f61a6c",
   "metadata": {},
   "source": [
    "# Encapsulation:"
   ]
  },
  {
   "cell_type": "markdown",
   "id": "526d75b8",
   "metadata": {},
   "source": [
    "# 1. Explain the concept of encapsulation in Python. What is its role in object-oriented programming"
   ]
  },
  {
   "cell_type": "markdown",
   "id": "47feb986",
   "metadata": {},
   "source": [
    "Encapsulation is one of the fundamental principles of object-oriented programming (OOP) and a concept used to restrict the access to certain attributes and methods of an object. It involves bundling the data (attributes) and the methods (functions) that operate on that data into a single unit called a class. Encapsulation serves several important roles in OOP:\n",
    "\n",
    "1. Data Hiding: \n",
    "Encapsulation allows you to hide the internal state (attributes) of an object from the outside world. By designating certain attributes as private, you prevent direct access and modification from external code. This helps maintain the integrity of the object's state and ensures that data is accessed and modified only through defined methods.\n",
    "\n",
    "2. Access Control: \n",
    "Encapsulation allows you to control the level of access to an object's attributes and methods. You can specify which parts of your class are public (accessible from outside the class), protected (accessible only by subclasses), or private (not directly accessible from outside the class).\n",
    "\n",
    "3. Abstraction: \n",
    "Encapsulation encourages you to provide an abstract interface for interacting with an object. This means that the internal details of how an object works are hidden, and clients of the class only need to know how to use the public methods and attributes. This promotes simplicity and reduces complexity for users of the class.\n",
    "\n",
    "In Python, encapsulation is achieved through naming conventions and the use of access modifiers:\n",
    "\n",
    "1. Single Underscore (_): \n",
    " By convention, attributes and methods with a single underscore prefix (e.g., _variable or _method()) are considered   \"protected.\" This means they are intended for internal use within the class or for subclasses but are not enforced as private.\n",
    "\n",
    "2. Double Underscore (__): \n",
    "Attributes and methods with a double underscore prefix (e.g., __variable or __method()) are considered \"private.\" They are name-mangled to make it more difficult to access them from outside the class. While they are not entirely inaccessible, their names are modified to include the class name, making them less obvious to use.\n",
    "\n",
    "3. No Prefix or Single Underscore with No Name Mangling: \n",
    "Attributes and methods without any prefix or a single underscore without name mangling are considered \"public.\" They are meant to be used from outside the class.\n",
    "\n",
    "Here's an example in Python that demonstrates encapsulation:"
   ]
  },
  {
   "cell_type": "code",
   "execution_count": 39,
   "id": "b7dd234b",
   "metadata": {},
   "outputs": [],
   "source": [
    "class BankAccount:\n",
    "    def __init__(self,account_number,balance):\n",
    "#         protected attributes\n",
    "        self._account_number = account_number\n",
    "#     private attributes\n",
    "        self.__balance = balance\n",
    "    def deposite(self,amount):\n",
    "        self.__balance += amount\n",
    "    def withdraw(self,amount):\n",
    "        if amount<=balance:\n",
    "            self.__balance -= amount\n",
    "        else:\n",
    "            print(\"Insufficient balance\")\n",
    "    def get_value(self):\n",
    "        return self.__balance\n",
    "\n",
    "        "
   ]
  },
  {
   "cell_type": "code",
   "execution_count": 40,
   "id": "0dcac4c9",
   "metadata": {},
   "outputs": [],
   "source": [
    "user1 = BankAccount(\"2324\",10000)"
   ]
  },
  {
   "cell_type": "code",
   "execution_count": 41,
   "id": "1b49e5b6",
   "metadata": {},
   "outputs": [
    {
     "data": {
      "text/plain": [
       "10000"
      ]
     },
     "execution_count": 41,
     "metadata": {},
     "output_type": "execute_result"
    }
   ],
   "source": [
    "user1.get_value()"
   ]
  },
  {
   "cell_type": "code",
   "execution_count": 42,
   "id": "d63bb4fc",
   "metadata": {},
   "outputs": [],
   "source": [
    "user1.deposite(230)"
   ]
  },
  {
   "cell_type": "code",
   "execution_count": 43,
   "id": "69cb1b19",
   "metadata": {},
   "outputs": [
    {
     "data": {
      "text/plain": [
       "10230"
      ]
     },
     "execution_count": 43,
     "metadata": {},
     "output_type": "execute_result"
    }
   ],
   "source": [
    "user1.get_value()"
   ]
  },
  {
   "cell_type": "markdown",
   "id": "1d91be47",
   "metadata": {},
   "source": [
    "Explanation:\n",
    "1. account_number is a protected attribute, and balance is a private attribute.\n",
    "2. The methods deposit, withdraw, and get_balance provide controlled access to these attributes.\n",
    "3. Attempting to access __balance directly from outside the class will raise an AttributeError."
   ]
  },
  {
   "cell_type": "markdown",
   "id": "09635465",
   "metadata": {},
   "source": [
    "# 2. Describe the key principles of encapsulation, including access control and data hiding"
   ]
  },
  {
   "cell_type": "markdown",
   "id": "a380f1d8",
   "metadata": {},
   "source": [
    "Encapsulation principles in OOP:\n",
    "\n",
    "1. Access Control: Determines how members of a class can be accessed: public, protected, or private.\n",
    "2. Public Members: Accessible from anywhere.\n",
    "3. Protected Members: Meant for the class and its subclasses.\n",
    "4. Private Members: Intended to be inaccessible from outside the class.\n",
    "5. Data Hiding: Restricts direct access to attributes, encouraging controlled access through methods.\n",
    "\n",
    "Key Benefits:\n",
    "\n",
    "Controlled Access\n",
    "Data Protection\n",
    "Abstraction\n",
    "Modularity\n",
    "These principles ensure code organization and maintainability."
   ]
  },
  {
   "cell_type": "markdown",
   "id": "64634e97",
   "metadata": {},
   "source": [
    "# 3. How can you achieve encapsulation in Python classes? Provide an example"
   ]
  },
  {
   "cell_type": "markdown",
   "id": "bcc955ac",
   "metadata": {},
   "source": [
    "Encapsulation in Python is achieved by following these practices:\n",
    "\n",
    "1. Defining attributes as either public, protected, or private using naming conventions.\n",
    "2. Providing public methods (getters and setters) to access or modify these attributes.\n",
    "Here's an example demonstrating encapsulation in a Python clas"
   ]
  },
  {
   "cell_type": "code",
   "execution_count": 44,
   "id": "c239f77d",
   "metadata": {},
   "outputs": [
    {
     "name": "stdout",
     "output_type": "stream",
     "text": [
      "Name: Alice\n",
      "Name: Bob\n",
      "Age: 20\n",
      "Age: 25\n"
     ]
    }
   ],
   "source": [
    "class Student:\n",
    "    def __init__(self, name, age):\n",
    "        self._name = name  # Protected attribute\n",
    "        self.__age = age  # Private attribute\n",
    "\n",
    "    def get_name(self):\n",
    "        return self._name  # Getter for protected attribute\n",
    "\n",
    "    def set_name(self, name):\n",
    "        self._name = name  # Setter for protected attribute\n",
    "\n",
    "    def get_age(self):\n",
    "        return self.__age  # Getter for private attribute\n",
    "\n",
    "    def set_age(self, age):\n",
    "        if age >= 0:\n",
    "            self.__age = age  # Setter for private attribute\n",
    "        else:\n",
    "            print(\"Age must be a non-negative value.\")\n",
    "\n",
    "# Example usage:\n",
    "student = Student(\"Alice\", 20)\n",
    "\n",
    "# Accessing and modifying protected attribute\n",
    "print(\"Name:\", student.get_name())\n",
    "student.set_name(\"Bob\")\n",
    "print(\"Name:\", student.get_name())\n",
    "\n",
    "# Accessing and modifying private attribute\n",
    "print(\"Age:\", student.get_age())\n",
    "student.set_age(25)\n",
    "print(\"Age:\", student.get_age())\n",
    "\n",
    "# Attempting to access private attribute directly will raise an AttributeError:\n",
    "# print(student.__age)  # This will raise an AttributeError\n"
   ]
  },
  {
   "cell_type": "markdown",
   "id": "c3268bfc",
   "metadata": {},
   "source": [
    "Explanation:\n",
    "1. The Student class has a protected attribute _name and a private attribute __age.\n",
    "2. Getters (get_name() and get_age()) and setters (set_name() and set_age()) are provided to access and modify these attributes.\n",
    "3. The getters and setters allow controlled access and modification of the attributes, while the attributes themselves are          hidden from direct access from outside the class.\n",
    "4. Accessing and modifying __age directly will raise an AttributeError."
   ]
  },
  {
   "cell_type": "markdown",
   "id": "f05e30e6",
   "metadata": {},
   "source": [
    "# 4. Discuss the difference between public, private, and protected access modifiers in Python."
   ]
  },
  {
   "cell_type": "markdown",
   "id": "e66cf174",
   "metadata": {},
   "source": [
    "In Python, access modifiers (also known as access specifiers) are used to control the visibility and accessibility of class members, such as attributes and methods. There are three main access modifiers in Python: public, private, and protected. They are not enforced by the language itself, but they serve as a convention to indicate the intended level of visibility and to help developers understand how to interact with class members.\n",
    "\n",
    "Public:\n",
    "1. Public members have no access restrictions. They can be accessed from anywhere, both inside and outside the class.\n",
    "2. In Python, by default, all attributes and methods are public unless explicitly marked as private or protected.\n",
    "3. Public members are typically accessed using the dot (.) notation.\n",
    "Example:"
   ]
  },
  {
   "cell_type": "code",
   "execution_count": 17,
   "id": "f3dbcdb4",
   "metadata": {},
   "outputs": [
    {
     "name": "stdout",
     "output_type": "stream",
     "text": [
      "42\n",
      "This is a public method.\n"
     ]
    }
   ],
   "source": [
    "class MyClass:\n",
    "    def __init__(self):\n",
    "        self.public_var = 42\n",
    "\n",
    "    def public_method(self):\n",
    "        return \"This is a public method.\"\n",
    "\n",
    "obj = MyClass()\n",
    "print(obj.public_var)        # Accessing a public variable\n",
    "print(obj.public_method())   # Calling a public method\n"
   ]
  },
  {
   "cell_type": "markdown",
   "id": "5d4e0435",
   "metadata": {},
   "source": [
    "Private:\n",
    "1. Private members are indicated by a double underscore prefix before the member name (e.g., __private_var or\n",
    "   __private_method()).\n",
    "2. Private members are intended to be used within the class only and are not meant to be accessed directly from outside the        class.\n",
    "3. While Python doesn't enforce strict encapsulation, it uses name mangling to make it more difficult to accidentally override      private members in subclasses.\n",
    "Example:"
   ]
  },
  {
   "cell_type": "code",
   "execution_count": 18,
   "id": "d4a456f2",
   "metadata": {},
   "outputs": [
    {
     "name": "stdout",
     "output_type": "stream",
     "text": [
      "42\n"
     ]
    }
   ],
   "source": [
    "class MyClass:\n",
    "    def __init__(self):\n",
    "        self.__private_var = 42\n",
    "\n",
    "    def __private_method(self):\n",
    "        return \"This is a private method.\"\n",
    "\n",
    "obj = MyClass()\n",
    "# The following line would raise an error:\n",
    "# print(obj.__private_var)\n",
    "# Instead, you can access it using name mangling:\n",
    "print(obj._MyClass__private_var)\n"
   ]
  },
  {
   "cell_type": "markdown",
   "id": "498f5d25",
   "metadata": {},
   "source": [
    "Protected:\n",
    "\n",
    "1. Protected members are indicated by a single underscore prefix before the member name (e.g., _protected_var or\n",
    "   _protected_method()).\n",
    "2. Protected members are not meant to be accessed from outside the class, but they can be accessed from subclasses. It is a        convention to indicate that a member should be treated as non-public but can be accessed when needed.\n",
    "Example:"
   ]
  },
  {
   "cell_type": "code",
   "execution_count": 19,
   "id": "9f7fbafd",
   "metadata": {},
   "outputs": [
    {
     "name": "stdout",
     "output_type": "stream",
     "text": [
      "42\n"
     ]
    }
   ],
   "source": [
    "class MyClass:\n",
    "    def __init__(self):\n",
    "        self._protected_var = 42\n",
    "\n",
    "    def _protected_method(self):\n",
    "        return \"This is a protected method.\"\n",
    "\n",
    "class Subclass(MyClass):\n",
    "    def access_protected(self):\n",
    "        return self._protected_var\n",
    "\n",
    "obj = MyClass()\n",
    "sub_obj = Subclass()\n",
    "print(sub_obj.access_protected())  # Accessing a protected member from a subclass\n"
   ]
  },
  {
   "cell_type": "markdown",
   "id": "25c7467c",
   "metadata": {},
   "source": [
    "# 5. Create a Python class called `Person` with a private attribute `__name`. Provide methods to get and set the name attribute"
   ]
  },
  {
   "cell_type": "code",
   "execution_count": 21,
   "id": "8f8287d5",
   "metadata": {},
   "outputs": [],
   "source": [
    "# create Person class with private attribute name\n",
    "class Person:\n",
    "    def __init__(self,name):\n",
    "        self.__name = name\n",
    "        \n",
    "#  define function for get private value\n",
    "    def get_name(self):\n",
    "        return self.__name\n",
    "    \n",
    "# define function to set new private value\n",
    "    def set_name(self,new_name):\n",
    "        self.__new_name = new_name"
   ]
  },
  {
   "cell_type": "code",
   "execution_count": 22,
   "id": "272f4f17",
   "metadata": {},
   "outputs": [],
   "source": [
    "person1 = Person(\"Sudhanshu\")"
   ]
  },
  {
   "cell_type": "code",
   "execution_count": 23,
   "id": "302050c6",
   "metadata": {},
   "outputs": [
    {
     "data": {
      "text/plain": [
       "'Sudhanshu'"
      ]
     },
     "execution_count": 23,
     "metadata": {},
     "output_type": "execute_result"
    }
   ],
   "source": [
    "person1.get_name()"
   ]
  },
  {
   "cell_type": "code",
   "execution_count": 24,
   "id": "09920ff9",
   "metadata": {},
   "outputs": [],
   "source": [
    "person1.set_name(\"Krish Nayak\")"
   ]
  },
  {
   "cell_type": "code",
   "execution_count": 26,
   "id": "f4bd4156",
   "metadata": {},
   "outputs": [
    {
     "data": {
      "text/plain": [
       "'Sudhanshu'"
      ]
     },
     "execution_count": 26,
     "metadata": {},
     "output_type": "execute_result"
    }
   ],
   "source": [
    "person1.get_name()"
   ]
  },
  {
   "cell_type": "markdown",
   "id": "314b1380",
   "metadata": {},
   "source": [
    "Explanation:\n",
    "1. I defined the __name attribute as private by prefixing it with double underscores. \n",
    "2. The get_name method allows you to retrieve the value of the __name attribute, and the set_name method allows you to change      the value of the attribute.\n",
    "3. This encapsulates the __name attribute and provides controlled access to it through method"
   ]
  },
  {
   "cell_type": "markdown",
   "id": "785ca78e",
   "metadata": {},
   "source": [
    "# 6. Explain the purpose of getter and setter methods in encapsulation. Provide examples"
   ]
  },
  {
   "cell_type": "markdown",
   "id": "2670069f",
   "metadata": {},
   "source": [
    "Getter and setter methods are used in encapsulation to control access to the attributes of a class. Encapsulation is one of the fundamental principles of object-oriented programming, which helps in keeping the internal state of an object private and providing controlled ways to read (get) and modify (set) that state. This helps in maintaining the integrity of the object's data and allows for better code organization and maintenance.\n",
    "\n",
    "In Python, we can achieve encapsulation by using getter and setter methods or properties. Here's an example to illustrate the purpose of getter and setter methods:"
   ]
  },
  {
   "cell_type": "code",
   "execution_count": 27,
   "id": "5807cb69",
   "metadata": {},
   "outputs": [
    {
     "name": "stdout",
     "output_type": "stream",
     "text": [
      "Alice\n",
      "25\n",
      "Bob\n",
      "30\n"
     ]
    }
   ],
   "source": [
    "class Person:\n",
    "    def __init__(self, name, age):\n",
    "        self.__name = name  # Private attribute\n",
    "        self.__age = age    # Private attribute\n",
    "\n",
    "    # Getter methods to access private attributes\n",
    "    def get_name(self):\n",
    "        return self.__name\n",
    "\n",
    "    def get_age(self):\n",
    "        return self.__age\n",
    "\n",
    "    # Setter methods to modify private attributes\n",
    "    def set_name(self, name):\n",
    "        self.__name = name\n",
    "\n",
    "    def set_age(self, age):\n",
    "        if age > 0:\n",
    "            self.__age = age\n",
    "\n",
    "# Create a Person object\n",
    "person1 = Person(\"Alice\", 25)\n",
    "\n",
    "# Accessing attributes using getter methods\n",
    "print(person1.get_name())  # \"Alice\"\n",
    "print(person1.get_age())   # 25\n",
    "\n",
    "# Modifying attributes using setter methods\n",
    "person1.set_name(\"Bob\")\n",
    "person1.set_age(30)\n",
    "\n",
    "# Accessing modified attributes\n",
    "print(person1.get_name())  # \"Bob\"\n",
    "print(person1.get_age())   # 30\n"
   ]
  },
  {
   "cell_type": "markdown",
   "id": "e5df95d6",
   "metadata": {},
   "source": [
    "Explanation:\n",
    "1. we have a Person class with private attributes __name and __age.\n",
    "2. The getter methods (get_name and get_age) allow us to access these private attributes from outside the class. \n",
    "3. The setter methods (set_name and set_age) provide a controlled way to modify these attributes, including validation (e.g.,      ensuring age is positive)."
   ]
  },
  {
   "cell_type": "markdown",
   "id": "b7496d01",
   "metadata": {},
   "source": [
    "# 7. What is name mangling in Python, and how does it affect encapsulation"
   ]
  },
  {
   "cell_type": "markdown",
   "id": "04b6cd54",
   "metadata": {},
   "source": [
    "Name mangling in Python is a mechanism that partially enforces the encapsulation of attributes and methods. It affects the visibility and accessibility of class members, particularly those marked as private. Name mangling is applied to attributes and methods with double underscores (__) as a prefix in their names. It is a technique that modifies the names of these members to make them less accessible from outside the class, although they are still technically reachable.\n",
    "\n",
    "Here's how name mangling works and its impact on encapsulation:\n",
    "\n",
    "1. Name Transformation:\n",
    "When a class member is given a name with a double underscore prefix (e.g., __variable or __method()), Python internally transforms the name by adding an underscore and the class name before the member's name. For example, __variable in a class named MyClass becomes _MyClass__variable.\n",
    "\n",
    "2. Limited Privacy:\n",
    "This name transformation makes it more challenging to access the member from outside the class, but it does not make the member entirely private. It provides a level of \"limited privacy,\" which means that determined programmers can still access the member if they know the modified name. However, it discourages accidental or unintentional access.\n",
    "\n",
    "3. Class-Specific:\n",
    "Name mangling is class-specific, so the name transformation occurs for each class individually. Members with double underscore prefixes in different classes will have different transformations.\n",
    "\n",
    "4. Single Underscore Prefix: \n",
    "Members with a single underscore prefix (e.g., _variable) are considered \"protected\" by convention but do not undergo name mangling. They are not enforced as private and are meant to be treated as protected, not private.\n",
    "\n",
    "Here's an example to illustrate name mangling and its impact on encapsulation:"
   ]
  },
  {
   "cell_type": "code",
   "execution_count": 60,
   "id": "3f62ba51",
   "metadata": {},
   "outputs": [
    {
     "name": "stdout",
     "output_type": "stream",
     "text": [
      "42\n",
      "42\n"
     ]
    }
   ],
   "source": [
    "class MyClass:\n",
    "    def __init__(self):\n",
    "        self.__private_var = 42\n",
    "\n",
    "    def access_private_var(self):\n",
    "        return self.__private_var\n",
    "\n",
    "# Example usage:\n",
    "obj = MyClass()\n",
    "\n",
    "# Accessing private attribute directly (name mangling applied)\n",
    "print(obj._MyClass__private_var)  # This is technically accessible\n",
    "\n",
    "# Accessing through a method (controlled access)\n",
    "print(obj.access_private_var())  # Encouraged way to access private attribute\n"
   ]
  },
  {
   "cell_type": "markdown",
   "id": "b8cff614",
   "metadata": {},
   "source": [
    "Explanation:\n",
    "1. __private_var is a private attribute, but it's not entirely inaccessible from outside the class.\n",
    "2. Python applies name mangling, which means you can technically access it using the transformed name, as shown. However, the      recommended and encapsulated way to access it is through the access_private_var() method."
   ]
  },
  {
   "cell_type": "markdown",
   "id": "c6215a77",
   "metadata": {},
   "source": [
    "# 8. Create a Python class called `BankAccount` with private attributes for the account balance (`__balance`) and account number (`__account_number`). Provide methods for depositing and withdrawing money."
   ]
  },
  {
   "cell_type": "code",
   "execution_count": 67,
   "id": "2bcb538c",
   "metadata": {},
   "outputs": [
    {
     "name": "stdout",
     "output_type": "stream",
     "text": [
      "Account 12345: Balance is $1000\n",
      "Deposited $500. New balance: $1500\n",
      "Withdrew $200. New balance: $1300\n"
     ]
    }
   ],
   "source": [
    "class BankAccount:\n",
    "    def __init__(self, account_number, initial_balance=0):\n",
    "        # Private attributes with double underscore prefix\n",
    "        self.__account_number = account_number\n",
    "        self.__balance = initial_balance\n",
    "\n",
    "    # Method to deposit money into the account\n",
    "    def deposit(self, amount):\n",
    "        if amount > 0:\n",
    "            self.__balance += amount\n",
    "            return f\"Deposited ${amount}. New balance: ${self.__balance}\"\n",
    "        else:\n",
    "            return \"Invalid deposit amount.\"\n",
    "\n",
    "    # Method to withdraw money from the account\n",
    "    def withdraw(self, amount):\n",
    "        if 0 < amount <= self.__balance:\n",
    "            self.__balance -= amount\n",
    "            return f\"Withdrew ${amount}. New balance: ${self.__balance}\"\n",
    "        else:\n",
    "            return \"Insufficient funds or invalid withdrawal amount.\"\n",
    "\n",
    "    # Method to check the account balance\n",
    "    def get_balance(self):\n",
    "        return f\"Account {self.__account_number}: Balance is ${self.__balance}\"\n",
    "\n",
    "# Example usage:\n",
    "account = BankAccount(\"12345\", 1000)\n",
    "print(account.get_balance())\n",
    "print(account.deposit(500))\n",
    "print(account.withdraw(200))\n"
   ]
  },
  {
   "cell_type": "markdown",
   "id": "ec0fa21f",
   "metadata": {},
   "source": [
    "Explanation:\n",
    "1. The BankAccount class has private attributes __account_number and __balance, which are used to store the account number and      balance. The double underscore prefix indicates that they are private members.\n",
    "\n",
    "2. The __init__ method is the constructor that initializes the account with an account number and an initial balance (defaulted    to 0 if not provided).\n",
    "\n",
    "3. The deposit method allows you to deposit money into the account, and the withdraw method allows you to withdraw money. These    methods validate the input and return messages indicating the result of the transaction.\n",
    "\n",
    "4. The get_balance method returns the current account balance.\n",
    "\n",
    "5. In the example usage at the end, an instance of BankAccount is created with an initial balance of $1,000, and we deposit $500    and withdraw $200 from the account. The balance and transaction results are printed."
   ]
  },
  {
   "cell_type": "markdown",
   "id": "da4b7d39",
   "metadata": {},
   "source": [
    "# 9. Discuss the advantages of encapsulation in terms of code maintainability and security"
   ]
  },
  {
   "cell_type": "markdown",
   "id": "a9821821",
   "metadata": {},
   "source": [
    "Encapsulation offers several advantages in terms of code maintainability and security in object-oriented programming:\n",
    "\n",
    "Advantages for Code Maintainability:\n",
    "\n",
    "1. Modularity: \n",
    "Encapsulation promotes modularity by bundling data (attributes) and behavior (methods) into a single unit (class). This makes it easier to understand, maintain, and extend the code. It also allows for code reuse, as well-encapsulated classes can be used in different parts of a program without affecting other parts.\n",
    "\n",
    "2. Abstraction: \n",
    "Encapsulation encourages abstraction, as it provides an abstract interface to interact with objects. This means that users of a class don't need to know the internal details of how it works. This simplifies code comprehension and reduces the complexity of using the class.\n",
    "\n",
    "3. Flexibility: \n",
    "By encapsulating data and behavior within a class, you can change the internal implementation of the class without affecting the code that uses the class. This decoupling of the internal implementation from the external interface makes the code more adaptable to changes and updates.\n",
    "\n",
    "4. Encapsulation of Invariants:\n",
    "Invariants are conditions that must always hold true for the integrity of an object. Encapsulation allows you to encapsulate these invariants and ensures that they are maintained, reducing the risk of bugs related to inconsistent object states.\n",
    "\n",
    "Advantages for Security:\n",
    "\n",
    "1. Data Hiding: \n",
    "Encapsulation hides the internal state (attributes) of objects from direct external access. This helps protect the data from unauthorized modifications or incorrect manipulations. By providing controlled access methods (getters and setters), you can enforce rules for data access and modification.\n",
    "\n",
    "2. Access Control: \n",
    "Encapsulation allows you to specify which parts of a class are accessible from outside the class and which parts are intended for internal use. This fine-grained control helps prevent unintended access or misuse of class members.\n",
    "\n",
    "3. Limited Exposure: \n",
    "In languages like Python that implement name mangling for private members, encapsulation provides a level of privacy by making it more challenging to access private members. While not foolproof, it discourages unauthorized access.\n",
    "\n",
    "4. Encapsulation of Security Logic: \n",
    "Encapsulation allows you to encapsulate security-related logic within the class. For example, a class can include validation checks and access control mechanisms, helping to ensure that data is handled securely.\n",
    "\n",
    "5. Isolation of Failures: \n",
    "By encapsulating data and behavior within classes, you can isolate and contain failures or security vulnerabilities within the class, preventing them from propagating to other parts of the program."
   ]
  },
  {
   "cell_type": "markdown",
   "id": "cc353015",
   "metadata": {},
   "source": [
    "# 10. How can you access private attributes in Python? Provide an example demonstrating the use of name mangling"
   ]
  },
  {
   "cell_type": "markdown",
   "id": "68971917",
   "metadata": {},
   "source": [
    "In Python, private attributes are intended to be inaccessible from outside the class, but they can still be accessed using a technique called name mangling. Name mangling involves modifying the name of a private attribute by adding an underscore and the class name before it. This makes it more challenging to access the attribute from outside the class but doesn't provide complete privacy.\n",
    "\n",
    "Here's an example demonstrating the use of name mangling to access a private attribute:"
   ]
  },
  {
   "cell_type": "code",
   "execution_count": 78,
   "id": "199b8ff5",
   "metadata": {},
   "outputs": [
    {
     "name": "stdout",
     "output_type": "stream",
     "text": [
      "42\n"
     ]
    }
   ],
   "source": [
    "class MyClass:\n",
    "    def __init__(self):\n",
    "        self.__private_var = 42\n",
    "\n",
    "    def access_private_var(self):\n",
    "        return self.__private_var\n",
    "\n",
    "# Example usage:\n",
    "obj = MyClass()\n",
    "\n",
    "# Accessing private attribute directly (name mangling applied)\n",
    "print(obj._MyClass__private_var)  # This is technically accessible\n"
   ]
  },
  {
   "cell_type": "markdown",
   "id": "d090122c",
   "metadata": {},
   "source": [
    "Explanation:\n",
    "1. The MyClass class has a private attribute __private_var.\n",
    "2. The __init__ method initializes this private attribute with the value 42.\n",
    "3. The access_private_var method provides a way to access the private attribute in a controlled manner.\n",
    "4. When we create an instance of MyClass (named obj), we can technically access the private attribute using name mangling with the modified name _MyClass__private_var."
   ]
  },
  {
   "cell_type": "markdown",
   "id": "1adc0cc9",
   "metadata": {},
   "source": [
    "# 11. Create a Python class hierarchy for a school system, including classes for students, teachers, and courses, and implement encapsulation principles to protect sensitive information"
   ]
  },
  {
   "cell_type": "code",
   "execution_count": 79,
   "id": "57320e36",
   "metadata": {},
   "outputs": [
    {
     "name": "stdout",
     "output_type": "stream",
     "text": [
      "Hi, I'm Alice and I'm 18 years old.\n",
      "Hi, I'm Mr. Smith and I'm 30 years old.\n",
      "Math 101\n",
      "[<__main__.Student object at 0x000001DE53C3ECD0>, <__main__.Student object at 0x000001DE53C9DBD0>]\n"
     ]
    }
   ],
   "source": [
    "class Person:\n",
    "    def __init__(self, name, age):\n",
    "        self._name = name  # Protected attribute\n",
    "        self.__age = age  # Private attribute\n",
    "\n",
    "    def introduce(self):\n",
    "        return f\"Hi, I'm {self._name} and I'm {self.__age} years old.\"\n",
    "\n",
    "class Student(Person):\n",
    "    def __init__(self, name, age, student_id):\n",
    "        super().__init__(name, age)\n",
    "        self.__student_id = student_id  # Private attribute\n",
    "\n",
    "    def get_student_id(self):\n",
    "        return self.__student_id\n",
    "\n",
    "class Teacher(Person):\n",
    "    def __init__(self, name, age, employee_id):\n",
    "        super().__init__(name, age)\n",
    "        self.__employee_id = employee_id  # Private attribute\n",
    "\n",
    "    def get_employee_id(self):\n",
    "        return self.__employee_id\n",
    "\n",
    "class Course:\n",
    "    def __init__(self, course_name, teacher, students):\n",
    "        self._course_name = course_name  # Protected attribute\n",
    "        self._teacher = teacher  # Protected attribute\n",
    "        self.__students = students  # Private attribute\n",
    "\n",
    "    def get_students(self):\n",
    "        return self.__students\n",
    "\n",
    "# Example usage:\n",
    "student1 = Student(\"Alice\", 18, \"S12345\")\n",
    "teacher1 = Teacher(\"Mr. Smith\", 30, \"T98765\")\n",
    "student2 = Student(\"Bob\", 17, \"S67890\")\n",
    "course1 = Course(\"Math 101\", teacher1, [student1, student2])\n",
    "\n",
    "print(student1.introduce())\n",
    "print(teacher1.introduce())\n",
    "print(course1._course_name)\n",
    "print(course1.get_students())\n"
   ]
  },
  {
   "cell_type": "markdown",
   "id": "c1e16b70",
   "metadata": {},
   "source": [
    "Explanation:\n",
    "1. We have a base class Person with protected and private attributes for name and age.\n",
    "2. The Student and Teacher classes inherit from Person and have private attributes for student_id and employee_id, respectively.\n",
    "3. The Course class has protected attributes for course_name and teacher, and a private attribute for students.\n",
    "4. We use public methods (e.g., get_student_id, get_employee_id, and get_students) to provide controlled access to private and      protected attributes."
   ]
  },
  {
   "cell_type": "markdown",
   "id": "8b165172",
   "metadata": {},
   "source": [
    "# 12. Explain the concept of property decorators in Python and how they relate to encapsulation"
   ]
  },
  {
   "cell_type": "markdown",
   "id": "fe919cf4",
   "metadata": {},
   "source": [
    "In Python, property decorators are a way to implement getter, setter, and deleter methods for class attributes while presenting them as if they were accessed directly as regular attributes. Property decorators allow you to encapsulate the internal state of an object by providing controlled access to attributes and allowing you to execute custom code when getting, setting, or deleting the attribute's value.\n",
    "\n",
    "Property decorators are typically used when you want to:\n",
    "\n",
    "1. Control access to attributes: \n",
    "You can perform validation or execute specific logic when getting or setting an attribute's value.\n",
    "\n",
    "2. Hide the implementation details: \n",
    "Property decorators allow you to hide the underlying storage mechanism for an attribute. This is particularly useful when you need to refactor or change the implementation while maintaining the same external interface.\n",
    "\n",
    "3. Ensure data consistency:\n",
    "You can enforce constraints or invariants on attribute values, helping to maintain the integrity of an object's state.\n",
    "\n",
    "Property decorators are implemented using the @property, @attribute_name.setter, and @attribute_name.deleter decorators. Here's how they work and how they relate to encapsulation:\n",
    "\n",
    "1. @property decorator is used to define a method as a getter for an attribute. It allows you to control what happens when the      attribute is accessed. This promotes data hiding and abstraction by providing a controlled way to access attribute values.\n",
    "\n",
    "2. @attribute_name.setter decorator is used to define a method as a setter for an attribute. It allows you to control what          happens when the attribute is set. This is important for encapsulation because it allows you to validate and modify attribute    values according to certain rules or constraints.\n",
    "\n",
    "3. @attribute_name.deleter decorator is used to define a method as a deleter for an attribute. It allows you to control what happens when the attribute is deleted. This can be useful for encapsulation when you want to ensure that the object's state is consistent after attribute deletion.\n",
    "\n",
    "Here's a simple example to illustrate the use of property decorators in Python:"
   ]
  },
  {
   "cell_type": "code",
   "execution_count": 2,
   "id": "59a9bd13",
   "metadata": {},
   "outputs": [
    {
     "name": "stdout",
     "output_type": "stream",
     "text": [
      "Enter number is: 44\n",
      "After modify the value is: 25\n",
      "Value attributes has been deleted\n"
     ]
    }
   ],
   "source": [
    "# create class as Number with constructor and some attribute\n",
    "class Numbers:\n",
    "    def __init__(self,value):\n",
    "        self._value = value\n",
    "    \n",
    "    @property\n",
    "    def value(self):\n",
    "        return self._value\n",
    "    \n",
    "    @value.setter\n",
    "    def value(self, new_value):\n",
    "        if new_value<0:\n",
    "            raise ValueError(\"Please Enter Positive Number\")\n",
    "        else:\n",
    "            self._value = new_value\n",
    "    \n",
    "    @value.deleter\n",
    "    def value(self):\n",
    "        print(\"Value attributes has been deleted\")\n",
    "        del self._value\n",
    "\n",
    "number1 = Numbers(44)\n",
    "print(f\"Enter number is: {number1.value}\")\n",
    "number1.value = 25\n",
    "print(f\"After modify the value is: {number1.value}\")\n",
    "del number1.value"
   ]
  },
  {
   "cell_type": "markdown",
   "id": "8992738d",
   "metadata": {},
   "source": [
    "# 13. What is data hiding, and why is it important in encapsulation? Provide examples"
   ]
  },
  {
   "cell_type": "markdown",
   "id": "76b7cb3c",
   "metadata": {},
   "source": [
    "Data hiding is a fundamental concept in encapsulation that involves restricting or hiding the internal details of a class from the outside world. It's the practice of designating certain attributes and methods as private or protected, making them not directly accessible from external code. Data hiding is crucial in encapsulation for several reasons:\n",
    "\n",
    "1. Privacy and Security: \n",
    "Hiding the internal state (attributes) of an object from external code helps protect the data from unauthorized access, modification, or misuse. This enhances security and maintains the integrity of the object's state.\n",
    "\n",
    "2. Implementation Flexibility: \n",
    "Data hiding allows the class's internal implementation to change without affecting the code that uses the class. Clients of the class only interact with the public interface, making the code more adaptable to changes and updates.\n",
    "\n",
    "3. Abstraction: \n",
    "Data hiding promotes abstraction by providing a clear separation between the public interface and the internal details of a class. Users of the class can focus on how to use it without needing to understand its implementation.\n",
    "\n",
    "4. Enforcing Invariants: \n",
    "Invariants are conditions that must always hold true for the integrity of an object. Data hiding allows you to encapsulate and protect these invariants, reducing the risk of bugs related to inconsistent object states.\n",
    "\n",
    "Here are examples demonstrating the importance of data hiding in encapsulation:\n",
    "\n",
    "Example 1: Data Privacy and Security"
   ]
  },
  {
   "cell_type": "code",
   "execution_count": 3,
   "id": "5d48905e",
   "metadata": {},
   "outputs": [
    {
     "name": "stdout",
     "output_type": "stream",
     "text": [
      "1500\n"
     ]
    }
   ],
   "source": [
    "class BankAccount:\n",
    "    def __init__(self, account_number, balance):\n",
    "        self._account_number = account_number  # Protected attribute\n",
    "        self.__balance = balance  # Private attribute\n",
    "\n",
    "    def deposit(self, amount):\n",
    "        self.__balance += amount\n",
    "\n",
    "    def get_balance(self):\n",
    "        return self.__balance\n",
    "\n",
    "# Example usage:\n",
    "account = BankAccount(\"12345\", 1000)\n",
    "account.deposit(500)\n",
    "print(account.get_balance())  # Accessing balance through a controlled method\n"
   ]
  },
  {
   "cell_type": "markdown",
   "id": "3f9cdb68",
   "metadata": {},
   "source": [
    "1. the __balance attribute is private and hidden from direct external access.\n",
    "2. Access to the balance is controlled through the get_balance method, enhancing data privacy and security.\n",
    "Example 2: Implementation Flexibility"
   ]
  },
  {
   "cell_type": "code",
   "execution_count": null,
   "id": "93c897de",
   "metadata": {},
   "outputs": [],
   "source": [
    "class ShoppingCart:\n",
    "    def __init__(self):\n",
    "        self.__items = []  # Private attribute\n",
    "\n",
    "    def add_item(self, item):\n",
    "        self.__items.append(item)\n",
    "\n",
    "    def get_total(self):\n",
    "        return sum(item.price for item in self.__items)\n",
    "\n",
    "# Example usage:\n",
    "cart = ShoppingCart()\n",
    "cart.add_item(Product(\"Laptop\", 1000))\n",
    "cart.add_item(Product(\"Mouse\", 20))\n",
    "print(cart.get_total())  # Clients interact with the public interface\n"
   ]
  },
  {
   "cell_type": "markdown",
   "id": "d3cc6172",
   "metadata": {},
   "source": [
    "Explanation:\n",
    "1. __items attribute is private, and the implementation details of the shopping cart can change without affecting the way          clients interact with the class through its public methods."
   ]
  },
  {
   "cell_type": "markdown",
   "id": "b85b6b3a",
   "metadata": {},
   "source": [
    "# 14. Create a Python class called `Employee` with private attributes for salary (`__salary`) and employee ID (`__employee_id`). Provide a method to calculate yearly bonuses."
   ]
  },
  {
   "cell_type": "code",
   "execution_count": 5,
   "id": "31d9e9cf",
   "metadata": {},
   "outputs": [
    {
     "name": "stdout",
     "output_type": "stream",
     "text": [
      "Employee ID: E12345\n",
      "Yearly Salary: $60000\n",
      "Yearly Bonus: $6000.0\n"
     ]
    }
   ],
   "source": [
    "class Employee:\n",
    "    def __init__(self, employee_id, salary):\n",
    "        self.__employee_id = employee_id  # Private attribute\n",
    "        self.__salary = salary  # Private attribute\n",
    "\n",
    "    def calculate_yearly_bonus(self, bonus_percentage):\n",
    "        bonus = (bonus_percentage / 100) * self.__salary\n",
    "        return bonus\n",
    "\n",
    "# Example usage:\n",
    "employee = Employee(\"E12345\", 60000)\n",
    "bonus_percentage = 10  # 10% bonus\n",
    "yearly_bonus = employee.calculate_yearly_bonus(bonus_percentage)\n",
    "print(f\"Employee ID: {employee._Employee__employee_id}\")\n",
    "print(f\"Yearly Salary: ${employee._Employee__salary}\")\n",
    "print(f\"Yearly Bonus: ${yearly_bonus}\")\n"
   ]
  },
  {
   "cell_type": "markdown",
   "id": "7b981418",
   "metadata": {},
   "source": [
    "Explanation:\n",
    "1. The Employee class has private attributes __employee_id and __salary, which are hidden from external access.\n",
    "2. The calculate_yearly_bonus method calculates the yearly bonus based on a given bonus percentage and the employee's salary. It    uses the private salary attribute to perform the calculation.\n",
    "3. In the example usage, an instance of the Employee class is created with a given employee ID and salary. We calculate the        yearly bonus and display the employee's ID, salary, and bonus."
   ]
  },
  {
   "cell_type": "markdown",
   "id": "30114a31",
   "metadata": {},
   "source": [
    "# 15. Discuss the use of accessors and mutators in encapsulation. How do they help maintain control over attribute access"
   ]
  },
  {
   "cell_type": "markdown",
   "id": "76646c7e",
   "metadata": {},
   "source": [
    "Accessors and mutators, often referred to as \"getters\" and \"setters,\" are methods used in encapsulation to control access to an object's attributes. They play a crucial role in maintaining control over attribute access and promoting the principles of encapsulation. Here's an explanation of their use and benefits:\n",
    "\n",
    "Accessors (Getters):\n",
    "1. Accessors are methods designed to retrieve or get the value of an object's attribute.\n",
    "2. They provide controlled and read-only access to attributes, allowing external code to retrieve the attribute value without      directly accessing the attribute.\n",
    "3. Accessors promote data hiding by exposing a controlled interface to read an attribute's value while keeping the attribute        itself private or protected.\n",
    "4. They can include additional logic for computing or formatting the attribute's value, enhancing the abstraction.\n",
    "\n",
    "Mutators (Setters):\n",
    "1. Mutators are methods designed to modify or set the value of an object's attribute.\n",
    "2. They provide controlled and write-only access to attributes, allowing external code to modify the attribute value through a      specified method rather than directly accessing the attribute.\n",
    "3. Mutators are used to enforce constraints, validation, or data modification logic before allowing attribute updates, ensuring    data integrity.\n",
    "4. They promote data hiding by encapsulating the attribute modification process and maintaining control over attribute changes."
   ]
  },
  {
   "cell_type": "code",
   "execution_count": 6,
   "id": "294aecc0",
   "metadata": {},
   "outputs": [
    {
     "name": "stdout",
     "output_type": "stream",
     "text": [
      "Initial radius: 5\n",
      "Updated radius: 7\n",
      "Updated radius (after invalid update): 7\n"
     ]
    }
   ],
   "source": [
    "class Circle:\n",
    "    def __init__(self, radius):\n",
    "        self.__radius = radius  # Private attribute\n",
    "\n",
    "    # Accessor (getter) for radius\n",
    "    def get_radius(self):\n",
    "        return self.__radius\n",
    "\n",
    "    # Mutator (setter) for radius\n",
    "    def set_radius(self, radius):\n",
    "        if radius >= 0:\n",
    "            self.__radius = radius\n",
    "\n",
    "# Example usage:\n",
    "circle = Circle(5)\n",
    "print(f\"Initial radius: {circle.get_radius()}\")\n",
    "circle.set_radius(7)\n",
    "print(f\"Updated radius: {circle.get_radius()}\")\n",
    "circle.set_radius(-1)  # Invalid radius, not allowed\n",
    "print(f\"Updated radius (after invalid update): {circle.get_radius()}\")\n"
   ]
  },
  {
   "cell_type": "markdown",
   "id": "60f3dc67",
   "metadata": {},
   "source": [
    "Explanation:\n",
    "1. Circle class uses accessors and mutators for the __radius attribute. \n",
    "2. The accessors provide read access to the radius, and the mutator enforces that the radius is non-negative before modifying      it.\n",
    "3. This maintains control over attribute access while ensuring data integrity."
   ]
  },
  {
   "cell_type": "markdown",
   "id": "d3af3aa8",
   "metadata": {},
   "source": [
    "# 16. What are the potential drawbacks or disadvantages of using encapsulation in Python"
   ]
  },
  {
   "cell_type": "markdown",
   "id": "d2e7f4f7",
   "metadata": {},
   "source": [
    "Encapsulation is one of the fundamental principles of object-oriented programming, and it is widely used in Python and many other programming languages. It refers to the practice of hiding the internal details of an object and exposing a controlled and well-defined interface for interacting with that object. While encapsulation offers several benefits, it also has some potential drawbacks or disadvantages in Python:\n",
    "\n",
    "1. Limited Access:\n",
    "Encapsulation restricts direct access to an object's internal data, which can make it more challenging to inspect or modify the object's state. This can be a drawback when you need to access or modify certain attributes for debugging or testing purposes.\n",
    "\n",
    "2. Increased Complexity:\n",
    "Implementing encapsulation often requires the creation of getter and setter methods to access and modify private attributes. This can result in more code and increased complexity, especially for classes with many attributes.\n",
    "\n",
    "3. Performance Overhead:\n",
    "Using getter and setter methods can introduce a slight performance overhead compared to directly accessing attributes. In some performance-critical applications, this overhead can be a disadvantage.\n",
    "\n",
    "4. Reduced Flexibility: \n",
    "Encapsulation can make it harder to extend or modify a class without breaking existing code that depends on its internal structure. Any changes to private attributes or methods may require updates to all code that interacts with the class.\n",
    "\n",
    "5. Limited Testing:\n",
    "When encapsulation is applied too rigorously, it can limit the ability to test or manipulate a class during unit testing. Testing can become more complicated and may require the use of additional techniques such as mocking or reflection."
   ]
  },
  {
   "cell_type": "markdown",
   "id": "9ed3f80c",
   "metadata": {},
   "source": [
    "# 17. Create a Python class for a library system that encapsulates book information, including titles, authors, and availability status"
   ]
  },
  {
   "cell_type": "code",
   "execution_count": 1,
   "id": "67d6fd5c",
   "metadata": {},
   "outputs": [
    {
     "name": "stdout",
     "output_type": "stream",
     "text": [
      "Available Books:\n",
      "The Great Gatsby by F. Scott Fitzgerald\n",
      "To Kill a Mockingbird by Harper Lee\n",
      "1984 by George Orwell\n",
      "\n",
      "You have successfully borrowed the book.\n",
      "Available Books:\n",
      "To Kill a Mockingbird by Harper Lee\n",
      "1984 by George Orwell\n",
      "\n",
      "Thank you for returning the book.\n",
      "Available Books:\n",
      "The Great Gatsby by F. Scott Fitzgerald\n",
      "To Kill a Mockingbird by Harper Lee\n",
      "1984 by George Orwell\n",
      "\n"
     ]
    }
   ],
   "source": [
    "# define class Book  and create constructor\n",
    "class Book:\n",
    "    def __init__(self, title, author):\n",
    "        \n",
    "#     initialize a value of object\n",
    "        self.title = title\n",
    "        self.author = author\n",
    "        self.available = True\n",
    "\n",
    "    def __str__(self):\n",
    "        return f\"{self.title} by {self.author}\"\n",
    "\n",
    "    def is_available(self):\n",
    "        return self.available\n",
    "\n",
    "    def borrow(self):\n",
    "        if self.available:\n",
    "            self.available = False\n",
    "            return \"You have successfully borrowed the book.\"\n",
    "        else:\n",
    "            return \"Sorry, the book is currently unavailable.\"\n",
    "\n",
    "    def return_book(self):\n",
    "        if not self.available:\n",
    "            self.available = True\n",
    "            return \"Thank you for returning the book.\"\n",
    "        else:\n",
    "            return \"The book is already available.\"\n",
    "\n",
    "# creater a library class \n",
    "class Library:\n",
    "    def __init__(self):\n",
    "        self.books = []\n",
    "\n",
    "    def add_book(self, book):\n",
    "        self.books.append(book)\n",
    "\n",
    "    def list_books(self):\n",
    "        if not self.books:\n",
    "            return \"No books available in the library.\"\n",
    "        book_list = \"Available Books:\\n\"\n",
    "        for book in self.books:\n",
    "            if book.is_available():\n",
    "                book_list += str(book) + \"\\n\"\n",
    "        return book_list\n",
    "\n",
    "# Example usage:\n",
    "\n",
    "book1 = Book(\"The Great Gatsby\", \"F. Scott Fitzgerald\")\n",
    "book2 = Book(\"To Kill a Mockingbird\", \"Harper Lee\")\n",
    "book3 = Book(\"1984\", \"George Orwell\")\n",
    "\n",
    "library = Library()\n",
    "library.add_book(book1)\n",
    "library.add_book(book2)\n",
    "library.add_book(book3)\n",
    "\n",
    "print(library.list_books())\n",
    "\n",
    "# Borrow a book\n",
    "print(book1.borrow())\n",
    "print(library.list_books())\n",
    "\n",
    "# Return the borrowed book\n",
    "print(book1.return_book())\n",
    "print(library.list_books())\n"
   ]
  },
  {
   "cell_type": "markdown",
   "id": "36361f57",
   "metadata": {},
   "source": [
    "Explanation:\n",
    "1. Book and Library. The Book class represents individual books with attributes for title, author, and availability status.\n",
    "2. The Library class manages a collection of books, allowing you to add books and list the available ones. \n",
    "3. You can also borrow and return books using the methods provided by the Book clas"
   ]
  },
  {
   "cell_type": "markdown",
   "id": "c12f5e42",
   "metadata": {},
   "source": [
    "# 18.  Explain how encapsulation enhances code reusability and modularity in Python programs"
   ]
  },
  {
   "cell_type": "markdown",
   "id": "4c820d6d",
   "metadata": {},
   "source": [
    "Encapsulation is one of the fundamental principles of object-oriented programming (OOP) and plays a crucial role in enhancing code reusability and modularity in Python programs. It involves bundling data (attributes) and the methods (functions) that operate on that data into a single unit, known as a class. Here's how encapsulation helps improve code reusability and modularity in Python:\n",
    "\n",
    "1. Data Hiding: \n",
    "Encapsulation allows you to hide the internal details of a class from external code by marking attributes as private (typically by prefixing them with an underscore, e.g., _private_var). This means that other parts of your program can't directly access or modify these attributes. This data hiding protects the integrity of the class's data and prevents external code from inadvertently changing it.\n",
    "\n",
    "2. Controlled Access: \n",
    "Instead of direct access to class attributes, you provide controlled access through methods, such as getters and setters. This way, you can enforce validation, constraints, or additional logic when accessing or modifying the data. It makes it easier to maintain and evolve the class without affecting the code that uses it.\n",
    "\n",
    "3. Code Reusability: \n",
    "Encapsulation promotes code reusability by creating self-contained and modular units (classes). Once you've defined a class, you can use it in various parts of your program without duplicating code. This leads to cleaner and more maintainable code.\n",
    "\n",
    "4. Modularity: \n",
    "Encapsulation encourages the organization of code into well-defined modules. Each class represents a module with a specific purpose and behavior. These modules can be independently developed, tested, and maintained. This modular approach simplifies debugging and troubleshooting and allows you to make changes to a specific module without affecting the rest of the code.\n",
    "\n",
    "5. Isolation of Changes: \n",
    "When you encapsulate data and functionality within a class, any changes to that class are isolated from the rest of the program. This means you can update or extend the class without worrying about how it impacts other parts of the code. This makes it easier to adapt and evolve your code over time.\n",
    "\n",
    "6. Code Readability: \n",
    "Encapsulation promotes code readability because the class itself serves as a self-contained entity with clear boundaries. Developers can understand the class's purpose, attributes, and methods more easily, making it easier to collaborate on projects and maintain code.\n",
    "\n",
    "7. Enhanced Security: \n",
    "By encapsulating data and providing controlled access, you can also enhance security. You can implement access control rules to prevent unauthorized access or modifications to sensitive data.\n",
    "\n",
    "8. Documentation:\n",
    "Classes and encapsulation make it natural to document the purpose and behavior of a module, which enhances code documentation. Well-documented classes make it easier for other developers to understand and use your code.\n",
    "\n",
    "In Python, encapsulation is implemented using conventions like prefixing attributes with underscores (e.g., _private_var) and defining properties and methods to access or modify those attributes. While Python does not enforce strict access control like some other languages, it relies on conventions and documentation to encourage encapsulation."
   ]
  },
  {
   "cell_type": "markdown",
   "id": "bd98e1af",
   "metadata": {},
   "source": [
    "# 19.  Describe the concept of information hiding in encapsulation. Why is it essential in software development"
   ]
  },
  {
   "cell_type": "markdown",
   "id": "0a99da4b",
   "metadata": {},
   "source": [
    "Information hiding, also known as data hiding, is a fundamental concept in encapsulation. It refers to the practice of restricting access to the internal details of an object or a class and exposing only the necessary and safe interface to interact with that object. Information hiding is essential in software development for several reasons:\n",
    "\n",
    "1. Modularity: \n",
    "Information hiding promotes modularity by creating well-defined boundaries between different components of a software system. Each component, encapsulated within a class or module, reveals only the information that is necessary for its operation. This isolation allows developers to work on and maintain one component without affecting the others, making it easier to manage and understand complex systems.\n",
    "\n",
    "2. Abstraction:\n",
    "Information hiding abstracts the internal workings of a class or module. It provides a high-level, simplified view of an object's behavior and data. This abstraction allows other parts of the program to interact with the object without needing to understand the intricate details of its implementation. Abstraction helps in reducing complexity and cognitive load for developers.\n",
    "\n",
    "3. Security:\n",
    "By hiding sensitive data and providing controlled access through methods, information hiding enhances security. It prevents unauthorized or unintended manipulation of data. For example, a class might have private data that should not be accessible or modifiable from outside the class. Information hiding helps enforce these access restrictions, enhancing security in software systems.\n",
    "\n",
    "4. Encapsulation: \n",
    "Information hiding is a key aspect of encapsulation. It allows the encapsulation of data and methods within a class. Encapsulation ensures that the internal state of an object is protected and manipulated only through well-defined methods. This encapsulation is crucial for maintaining the integrity and consistency of an object's data.\n",
    "\n",
    "5. Versioning and Maintenance:\n",
    "Information hiding provides a clear separation between a class's interface and its implementation. When changes are made to the implementation, the interface remains consistent as long as the methods and attributes visible to external code do not change. This simplifies versioning and maintenance, as you can modify the implementation without breaking existing code that relies on the class's interface.\n",
    "\n",
    "6. Code Reusability:\n",
    "Information hiding enables code reusability by exposing a clean, well-defined interface that can be used in different parts of a program or in other programs. This interface allows developers to interact with an object without needing to know how it works internally, which makes it easier to reuse the code in various contexts.\n",
    "\n",
    "7. Documentation and Understanding:\n",
    "Information hiding encourages the documentation of a class's interface and behavior. This documentation helps developers understand how to use the class correctly without needing to delve into the internal details. "
   ]
  },
  {
   "cell_type": "markdown",
   "id": "86a02e42",
   "metadata": {},
   "source": [
    "# 20. Create a Python class called `Customer` with private attributes for customer details like name, address, and contact information. Implement encapsulation to ensure data integrity and security"
   ]
  },
  {
   "cell_type": "code",
   "execution_count": 1,
   "id": "f2b85a97",
   "metadata": {},
   "outputs": [
    {
     "name": "stdout",
     "output_type": "stream",
     "text": [
      "Customer Name: John Doe\n",
      "Customer Address: 123 Main St\n",
      "Customer Contact Info: john.doe@email.com\n",
      "Customer Name: Jane Smith\n",
      "Customer Address: 456 Elm St\n",
      "Customer Contact Info: jane.smith@email.com\n"
     ]
    }
   ],
   "source": [
    "# define Customer class with constructor and data\n",
    "class Customer:\n",
    "    def __init__(self, name, address, contact_info):\n",
    "#         private attribute\n",
    "        self.__name = name\n",
    "        self.__address = address\n",
    "        self.__contact_info = contact_info\n",
    "\n",
    "# define method to read or get private value name\n",
    "    def get_name(self):\n",
    "        return self.__name\n",
    "\n",
    "# define method to modify value using setter function\n",
    "    def set_name(self, name):\n",
    "        if name:\n",
    "            self.__name = name\n",
    "\n",
    "    def get_address(self):\n",
    "        return self.__address\n",
    "\n",
    "    def set_address(self, address):\n",
    "        if address:\n",
    "            self.__address = address\n",
    "\n",
    "    def get_contact_info(self):\n",
    "        return self.__contact_info\n",
    "\n",
    "    def set_contact_info(self, contact_info):\n",
    "        if contact_info:\n",
    "            self.__contact_info = contact_info\n",
    "\n",
    "    def display_customer_info(self):\n",
    "        print(f\"Customer Name: {self.__name}\")\n",
    "        print(f\"Customer Address: {self.__address}\")\n",
    "        print(f\"Customer Contact Info: {self.__contact_info}\")\n",
    "\n",
    "# Example usage:\n",
    "customer = Customer(\"John Doe\", \"123 Main St\", \"john.doe@email.com\")\n",
    "customer.display_customer_info()\n",
    "\n",
    "# Modify customer information\n",
    "customer.set_name(\"Jane Smith\")\n",
    "customer.set_address(\"456 Elm St\")\n",
    "customer.set_contact_info(\"jane.smith@email.com\")\n",
    "customer.display_customer_info()\n"
   ]
  },
  {
   "cell_type": "markdown",
   "id": "fc76b14f",
   "metadata": {},
   "source": [
    "Explanation:\n",
    "1. I have defined a Customer class with private attributes for name, address, and contact information. \n",
    "2. I use getter and setter methods to access and modify these private attributes. \n",
    "3. This encapsulation ensures data integrity and security, as the internal data can only be accessed and modified through          controlled methods."
   ]
  },
  {
   "cell_type": "markdown",
   "id": "dd71db54",
   "metadata": {},
   "source": [
    "# Polymorphism:"
   ]
  },
  {
   "cell_type": "markdown",
   "id": "6dd6bc02",
   "metadata": {},
   "source": [
    "# 1. What is polymorphism in Python? Explain how it is related to object-oriented programming"
   ]
  },
  {
   "cell_type": "markdown",
   "id": "a53c8fd5",
   "metadata": {},
   "source": [
    "Polymorphism is a fundamental concept in object-oriented programming (OOP), and it's a key principle that enables objects of different classes to be treated as objects of a common superclass. This concept allows you to write code that can work with objects of multiple different types in a consistent and generic way, which makes your code more flexible and maintainable.\n",
    "\n",
    "In Python, polymorphism is closely related to the following OOP principles:\n",
    "\n",
    "1. Inheritance:\n",
    "Polymorphism often relies on class inheritance. When you have a hierarchy of classes where subclasses inherit from a common superclass (base class), you can take advantage of polymorphism. Objects of derived classes can be treated as objects of the base class.\n",
    "\n",
    "2. Method Overriding:\n",
    "Polymorphism involves overriding methods in derived classes. When a method is defined in both the base class and one or more derived classes, the specific implementation of the method in the derived class takes precedence. This allows different classes to provide their own unique behavior for the same method.\n",
    "\n",
    "Here's an example to illustrate how polymorphism works in Python:"
   ]
  },
  {
   "cell_type": "code",
   "execution_count": 2,
   "id": "5324a667",
   "metadata": {},
   "outputs": [
    {
     "name": "stdout",
     "output_type": "stream",
     "text": [
      "Woof!\n",
      "Meow!\n",
      "Moo!\n"
     ]
    }
   ],
   "source": [
    "class Animal:\n",
    "    def speak(self):\n",
    "        pass\n",
    "\n",
    "class Dog(Animal):\n",
    "    def speak(self):\n",
    "        return \"Woof!\"\n",
    "\n",
    "class Cat(Animal):\n",
    "    def speak(self):\n",
    "        return \"Meow!\"\n",
    "\n",
    "class Cow(Animal):\n",
    "    def speak(self):\n",
    "        return \"Moo!\"\n",
    "\n",
    "def animal_speak(animal):\n",
    "    return animal.speak()\n",
    "\n",
    "# Usage of polymorphism\n",
    "dog = Dog()\n",
    "cat = Cat()\n",
    "cow = Cow()\n",
    "\n",
    "print(animal_speak(dog))  # Output: Woof!\n",
    "print(animal_speak(cat))  # Output: Meow!\n",
    "print(animal_speak(cow))  # Output: Moo!\n"
   ]
  },
  {
   "cell_type": "markdown",
   "id": "2b9a133e",
   "metadata": {},
   "source": [
    "Explanation:\n",
    "1. I have an Animal base class with a speak method. \n",
    "2. Three derived classes (Dog, Cat, and Cow) inherit from the Animal class and override the speak method to provide their          specific behavior. \n",
    "2. The animal_speak function takes an Animal object as an argument and calls the speak method on it, which results in different    behaviors depending on the actual object type (polymorphism)."
   ]
  },
  {
   "cell_type": "markdown",
   "id": "1bf5050d",
   "metadata": {},
   "source": [
    "# 2. Describe the difference between compile-time polymorphism and runtime polymorphism in Python."
   ]
  },
  {
   "cell_type": "markdown",
   "id": "8572c486",
   "metadata": {},
   "source": [
    "In Python, both compile-time polymorphism and runtime polymorphism are related to method or function overloading, but they differ in when the method resolution and binding occur. Here's an explanation of the differences between the two:\n",
    "\n",
    "Compile-Time Polymorphism (Static Polymorphism):\n",
    "\n",
    "1. Compile-time polymorphism, also known as static polymorphism or method overloading, occurs during the compilation phase of \n",
    "the program. In this form of polymorphism, the decision about which method or function to call is made by the compiler based on the number, types, and order of arguments provided to the function.\n",
    "\n",
    "2. In Python, method overloading is not directly supported like in some other languages (e.g., Java or C++), where you can have multiple methods with the same name but different parameter lists. Python does not allow you to define multiple methods with the same name differing only in the number or types of parameters. If you attempt to do so, the most recent method definition will override the previous one.\n",
    "\n",
    "2. However, you can achieve method overloading in Python using default argument values or variable-length argument lists (e.g., *args and **kwargs) to handle different argument scenarios. The actual method to be called is determined at compile-time based on the provided arguments.\n",
    "\n",
    "Here's an example of compile-time polymorphism in Python using default arguments:"
   ]
  },
  {
   "cell_type": "code",
   "execution_count": 3,
   "id": "1a6291e6",
   "metadata": {},
   "outputs": [],
   "source": [
    "# define class with some method\n",
    "class Calculator:\n",
    "    def add(self, a, b=0):\n",
    "        return a + b\n",
    "\n",
    "calc = Calculator()\n",
    "result = calc.add(5)\n"
   ]
  },
  {
   "cell_type": "markdown",
   "id": "50f43be3",
   "metadata": {},
   "source": [
    "Explanation:\n",
    "1. The add method is overloaded using a default argument.\n",
    "2. If you call calc.add(5), the second argument is assumed to be 0, and the method performs addition accordingly."
   ]
  },
  {
   "cell_type": "markdown",
   "id": "731236b4",
   "metadata": {},
   "source": [
    "Runtime Polymorphism (Dynamic Polymorphism):\n",
    "\n",
    "1. Runtime polymorphism, also known as dynamic polymorphism or method overriding, occurs during the program's execution. In this form of polymorphism, the actual method or function to be called is determined at runtime based on the type of the object.\n",
    "\n",
    "2. In Python, method overriding is a common practice. When a derived class defines a method with the same name as a method in its base class, the method in the derived class overrides the one in the base class. The decision about which method to call is made dynamically based on the actual type of the object, allowing different classes to provide their own implementation for the same method.\n",
    "\n",
    "Here's an example of runtime polymorphism in Python using method overriding:"
   ]
  },
  {
   "cell_type": "code",
   "execution_count": null,
   "id": "34df6ffb",
   "metadata": {},
   "outputs": [],
   "source": [
    "class Animal:\n",
    "    def speak(self):\n",
    "        pass\n",
    "\n",
    "class Dog(Animal):\n",
    "    def speak(self):\n",
    "        return \"Woof!\"\n",
    "\n",
    "class Cat(Animal):\n",
    "    def speak(self):\n",
    "        return \"Meow!\"\n",
    "\n",
    "def animal_speak(animal):\n",
    "    return animal.speak()\n",
    "\n",
    "dog = Dog()\n",
    "cat = Cat()\n",
    "\n",
    "print(animal_speak(dog))  # Output: Woof!\n",
    "print(animal_speak(cat))  # Output: Meow!\n"
   ]
  },
  {
   "cell_type": "markdown",
   "id": "b34d52fe",
   "metadata": {},
   "source": [
    "Explanation:\n",
    "1. the speak method in the Animal base class is overridden in the Dog and Cat derived classes. \n",
    "2. The decision about which speak method to call is made at runtime based on the actual type of the object (polymorphism)  "
   ]
  },
  {
   "cell_type": "markdown",
   "id": "468a83e2",
   "metadata": {},
   "source": [
    "# 3. Create a Python class hierarchy for shapes (e.g., circle, square, triangle) and demonstrate polymorphism through a common method, such as `calculate_area()`"
   ]
  },
  {
   "cell_type": "code",
   "execution_count": 13,
   "id": "8b27b5b4",
   "metadata": {},
   "outputs": [
    {
     "name": "stdout",
     "output_type": "stream",
     "text": [
      "The area of the Circle is 78.54 square units.\n",
      "The area of the Square is 16.00 square units.\n",
      "The area of the Triangle is 9.00 square units.\n"
     ]
    }
   ],
   "source": [
    "import math\n",
    "\n",
    "# Define a base class for shapes\n",
    "class Shape:\n",
    "    def calculate_area(self):\n",
    "        pass\n",
    "\n",
    "# Create a subclass for circles\n",
    "class Circle(Shape):\n",
    "    def __init__(self, radius):\n",
    "        self.radius = radius\n",
    "\n",
    "    def calculate_area(self):\n",
    "        return math.pi * self.radius ** 2\n",
    "\n",
    "# Create a subclass for squares\n",
    "class Square(Shape):\n",
    "    def __init__(self, side_length):\n",
    "        self.side_length = side_length\n",
    "\n",
    "    def calculate_area(self):\n",
    "        return self.side_length ** 2\n",
    "\n",
    "# Create a subclass for triangles\n",
    "class Triangle(Shape):\n",
    "    def __init__(self, base, height):\n",
    "        self.base = base\n",
    "        self.height = height\n",
    "\n",
    "    def calculate_area(self):\n",
    "        return 0.5 * self.base * self.height\n",
    "\n",
    "# Demonstrate polymorphism\n",
    "shapes = [Circle(5), Square(4), Triangle(3, 6)]\n",
    "\n",
    "for shape in shapes:\n",
    "    # Regardless of the shape type, we can call calculate_area() on all of them\n",
    "    area = shape.calculate_area()\n",
    "    shape_name = shape.__class__.__name__  # Get the class name for display\n",
    "    print(f\"The area of the {shape_name} is {area:.2f} square units.\")\n"
   ]
  },
  {
   "cell_type": "markdown",
   "id": "22a4bb01",
   "metadata": {},
   "source": [
    "Explanation:\n",
    "1. define a base class Shape with a common method calculate_area()\n",
    "2. and we create three subclasses (Circle, Square, and Triangle) that inherit from the base class \n",
    "3. and override the calculate_area() method with their own implementations."
   ]
  },
  {
   "cell_type": "markdown",
   "id": "7b4b3579",
   "metadata": {},
   "source": [
    "#  4. Explain the concept of method overriding in polymorphism. Provide an example"
   ]
  },
  {
   "cell_type": "markdown",
   "id": "3399e998",
   "metadata": {},
   "source": [
    "Method overriding is a fundamental concept in polymorphism in object-oriented programming. It allows a subclass to provide a specific implementation for a method that is already defined in its superclass (base class). The overriding method in the subclass must have the same name, return type, and parameters as the method in the superclass. This enables the subclass to customize or extend the behavior of the inherited method.\n",
    "\n",
    "Here's an example with comments to illustrate the concept of method overriding:"
   ]
  },
  {
   "cell_type": "code",
   "execution_count": 14,
   "id": "20266e2e",
   "metadata": {},
   "outputs": [
    {
     "name": "stdout",
     "output_type": "stream",
     "text": [
      "Woof!\n",
      "Meow!\n"
     ]
    }
   ],
   "source": [
    "class Animal:\n",
    "    def speak(self):\n",
    "        return \"Some generic animal sound\"\n",
    "\n",
    "class Dog(Animal):\n",
    "    def speak(self):\n",
    "        return \"Woof!\"  # Specific sound for dogs\n",
    "\n",
    "class Cat(Animal):\n",
    "    def speak(self):\n",
    "        return \"Meow!\"  # Specific sound for cats\n",
    "\n",
    "# Instantiate objects of the derived classes\n",
    "dog = Dog()\n",
    "cat = Cat()\n",
    "\n",
    "# Call the speak method on objects of different classes\n",
    "print(dog.speak())  # Output: Woof! (Overridden method in Dog class is called)\n",
    "print(cat.speak())  # Output: Meow! (Overridden method in Cat class is called)\n"
   ]
  },
  {
   "cell_type": "markdown",
   "id": "8f7e5d1f",
   "metadata": {},
   "source": [
    "Explanation:\n",
    "1. define a base class Animal with a method speak that provides a generic animal sound.\n",
    "2. create two derived classes, Dog and Cat, which inherit from the Animal class.\n",
    "3. Each of the derived classes overrides the speak method to provide its specific sound, \"Woof!\" for dogs and \"Meow!\" for cats.\n",
    "4. nstantiate objects of the Dog and Cat classes and call the speak method on these objects."
   ]
  },
  {
   "cell_type": "markdown",
   "id": "3233abb6",
   "metadata": {},
   "source": [
    "# 5. How is polymorphism different from method overloading in Python? Provide examples for both"
   ]
  },
  {
   "cell_type": "markdown",
   "id": "2716b58c",
   "metadata": {},
   "source": [
    "Polymorphism and method overloading are related concepts in Python, but they serve different purposes and work in distinct ways. Here's an explanation of the differences between the two, along with examples for both:\n",
    "\n",
    "Polymorphism:\n",
    "1. Polymorphism is a fundamental concept in object-oriented programming, and it refers to the ability of different objects to      respond to the same method or function call in a way that is specific to their individual types.\n",
    "2. In polymorphism, a single method or function can work with objects of different classes, and the actual implementation of the    method is determined at runtime based on the object's type.\n",
    "3. Polymorphism allows for flexibility and code reuse in object-oriented design.\n",
    "Example of Polymorphism:"
   ]
  },
  {
   "cell_type": "code",
   "execution_count": 18,
   "id": "6ecf33e7",
   "metadata": {},
   "outputs": [
    {
     "name": "stdout",
     "output_type": "stream",
     "text": [
      "About of child is: He is my elder son\n",
      "About of child is: She is my daughter\n"
     ]
    }
   ],
   "source": [
    "class Parent:\n",
    "    def about(self):\n",
    "        pass\n",
    "\n",
    "class Child1(Parent):\n",
    "    def about(self):\n",
    "        return \"He is my elder son\"\n",
    "    \n",
    "class Child2(Parent):\n",
    "    def about(self):\n",
    "        return \"She is my daughter\"\n",
    "\n",
    "def Child_about(child):\n",
    "    return child.about()\n",
    "    \n",
    "child1 = Child1()\n",
    "print(f\"About of child is: {child1.about()}\")\n",
    "child2 = Child2()\n",
    "print(f\"About of child is: {child2.about()}\")\n"
   ]
  },
  {
   "cell_type": "markdown",
   "id": "a1127b79",
   "metadata": {},
   "source": [
    "Method Overloading:\n",
    "1. Method overloading is a feature in some programming languages, but it is not directly supported in Python as it is in            languages like Java or C++. Method overloading allows multiple methods with the same name in a class, but with different        parameter lists.\n",
    "2. In Python, you cannot have multiple methods with the same name differing only in the number or types of parameters. When you    define a method with the same name multiple times, the most recent definition overrides the previous ones.\n",
    "Example of Method Overloading (Not directly supported in Python):"
   ]
  },
  {
   "cell_type": "markdown",
   "id": "7fe500c4",
   "metadata": {},
   "source": [
    "Explanation:\n",
    "1. we attempt to define two add methods with different numbers of parameters, but only the second definition is used, and it        overrides the first one. \n",
    "2. This is because Python does not support method overloading in the traditional sense."
   ]
  },
  {
   "cell_type": "code",
   "execution_count": null,
   "id": "56004866",
   "metadata": {},
   "outputs": [],
   "source": [
    "class Calculator:\n",
    "    def add(self, a, b):\n",
    "        return a + b\n",
    "\n",
    "    def add(self, a, b, c):\n",
    "        return a + b + c\n",
    "\n",
    "calc = Calculator()\n",
    "\n",
    "# Attempting method overloading (but only the last definition is used)\n",
    "result1 = calc.add(1, 2, 3)\n",
    "result2 = calc.add(4, 5)\n"
   ]
  },
  {
   "cell_type": "markdown",
   "id": "e401a484",
   "metadata": {},
   "source": [
    "# 6. Create a Python class called `Animal` with a method `speak()`. Then, create child classes like `Dog`, `Cat`, and `Bird`, each with their own `speak()` method. Demonstrate polymorphism by calling the `speak()` method on objects of different subclasses."
   ]
  },
  {
   "cell_type": "code",
   "execution_count": 21,
   "id": "dec33e2e",
   "metadata": {},
   "outputs": [
    {
     "name": "stdout",
     "output_type": "stream",
     "text": [
      "Woof!\n",
      "Meow!\n",
      "Chirp!\n"
     ]
    }
   ],
   "source": [
    "class Animal:\n",
    "    def speak(self):\n",
    "        return \"Some generic animal sound\"\n",
    "\n",
    "class Dog(Animal):\n",
    "    def speak(self):\n",
    "        return \"Woof!\"  # Specific sound for dogs\n",
    "\n",
    "class Cat(Animal):\n",
    "    def speak(self):\n",
    "        return \"Meow!\"  # Specific sound for cats\n",
    "\n",
    "class Bird(Animal):\n",
    "    def speak(self):\n",
    "        return \"Chirp!\"  # Specific sound for birds\n",
    "\n",
    "# Instantiate objects of the derived classes\n",
    "dog = Dog()\n",
    "cat = Cat()\n",
    "bird = Bird()\n",
    "\n",
    "# Call the speak method on objects of different classes\n",
    "print(dog.speak())  # Output: Woof! (Overridden method in Dog class is called)\n",
    "print(cat.speak())  # Output: Meow! (Overridden method in Cat class is called)\n",
    "print(bird.speak()) # Output: Chirp! (Overridden method in Bird class is called)\n"
   ]
  },
  {
   "cell_type": "markdown",
   "id": "cd7bddc4",
   "metadata": {},
   "source": [
    "Explanation:\n",
    "1. define a base class Animal with a method speak() that provides a generic animal sound.\n",
    "2. create three derived classes: Dog, Cat, and Bird, each of which inherits from the Animal class and overrides the speak()        method to provide their specific sounds.\n",
    "3. instantiate objects of the Dog, Cat, and Bird classes and call the speak() method on these objects."
   ]
  },
  {
   "cell_type": "markdown",
   "id": "9861824e",
   "metadata": {},
   "source": [
    "# 7. Discuss the use of abstract methods and classes in achieving polymorphism in Python. Provide an example using the `abc` module"
   ]
  },
  {
   "cell_type": "code",
   "execution_count": 23,
   "id": "81a642c3",
   "metadata": {},
   "outputs": [
    {
     "name": "stdout",
     "output_type": "stream",
     "text": [
      "The area of the Circle is 78.50 square units.\n",
      "The area of the Square is 16.00 square units.\n",
      "The area of the Triangle is 9.00 square units.\n"
     ]
    }
   ],
   "source": [
    "from abc import ABC, abstractmethod\n",
    "\n",
    "# Define an abstract class with an abstract method\n",
    "class Shape(ABC):\n",
    "    @abstractmethod\n",
    "    def calculate_area(self):\n",
    "        pass\n",
    "\n",
    "# Create concrete subclasses that implement the abstract method\n",
    "class Circle(Shape):\n",
    "    def __init__(self, radius):\n",
    "        self.radius = radius\n",
    "\n",
    "    def calculate_area(self):\n",
    "        return 3.14 * self.radius ** 2\n",
    "\n",
    "class Square(Shape):\n",
    "    def __init__(self, side_length):\n",
    "        self.side_length = side_length\n",
    "\n",
    "    def calculate_area(self):\n",
    "        return self.side_length ** 2\n",
    "\n",
    "class Triangle(Shape):\n",
    "    def __init__(self, base, height):\n",
    "        self.base = base\n",
    "        self.height = height\n",
    "\n",
    "    def calculate_area(self):\n",
    "        return 0.5 * self.base * self.height\n",
    "\n",
    "# Demonstrate polymorphism using the common interface\n",
    "shapes = [Circle(5), Square(4), Triangle(3, 6)]\n",
    "\n",
    "for shape in shapes:\n",
    "    # Regardless of the shape type, we can call calculate_area() on all of them\n",
    "    area = shape.calculate_area()\n",
    "    shape_name = shape.__class__.__name__  # Get the class name for display\n",
    "    print(f\"The area of the {shape_name} is {area:.2f} square units.\")\n"
   ]
  },
  {
   "cell_type": "markdown",
   "id": "03c2ba60",
   "metadata": {},
   "source": [
    "Explanation:\n",
    "1. define an abstract base class Shape that inherits from ABC (an abstract base class). It includes an abstract method              calculate_area(), which is marked with the @abstractmethod decorator. Subclasses are required to implement this method.\n",
    "2. We create concrete subclasses (Circle, Square, and Triangle) that inherit from the abstract Shape class. Each of these          subclasses provides a specific implementation for the calculate_area() method.\n",
    "3. We demonstrate polymorphism by creating instances of these subclasses and storing them in a list. We then iterate through the    list of shapes and call the calculate_area() method on each shape. The polymorphism allows us to calculate the area of          various shapes using the common calculate_area() method interface."
   ]
  },
  {
   "cell_type": "markdown",
   "id": "539a4c39",
   "metadata": {},
   "source": [
    "# 8. Create a Python class hierarchy for a vehicle system (e.g., car, bicycle, boat) and implement a polymorphic `start()` method that prints a message specific to each vehicle type"
   ]
  },
  {
   "cell_type": "code",
   "execution_count": 24,
   "id": "908ec952",
   "metadata": {},
   "outputs": [
    {
     "name": "stdout",
     "output_type": "stream",
     "text": [
      "Sports Car starts its engine and revs up!\n",
      "Mountain Bike starts pedaling and gains speed!\n",
      "Sailboat starts its engine and sets sail on the water!\n"
     ]
    }
   ],
   "source": [
    "# Define a base class for vehicles\n",
    "class Vehicle:\n",
    "    def __init__(self, name):\n",
    "        self.name = name\n",
    "\n",
    "    def start(self):\n",
    "        pass  # This is an abstract method to be implemented in subclasses\n",
    "\n",
    "# Create a subclass for cars\n",
    "class Car(Vehicle):\n",
    "    def start(self):\n",
    "        return f\"{self.name} starts its engine and revs up!\"\n",
    "\n",
    "# Create a subclass for bicycles\n",
    "class Bicycle(Vehicle):\n",
    "    def start(self):\n",
    "        return f\"{self.name} starts pedaling and gains speed!\"\n",
    "\n",
    "# Create a subclass for boats\n",
    "class Boat(Vehicle):\n",
    "    def start(self):\n",
    "        return f\"{self.name} starts its engine and sets sail on the water!\"\n",
    "\n",
    "# Demonstrate polymorphism using the common interface\n",
    "vehicles = [Car(\"Sports Car\"), Bicycle(\"Mountain Bike\"), Boat(\"Sailboat\")]\n",
    "\n",
    "for vehicle in vehicles:\n",
    "    # Regardless of the vehicle type, we can call the start() method on all of them\n",
    "    start_message = vehicle.start()\n",
    "    print(start_message)\n"
   ]
  },
  {
   "cell_type": "markdown",
   "id": "7391a21d",
   "metadata": {},
   "source": [
    "Explanation:\n",
    "1. We define a base class Vehicle with an __init__ method to set the vehicle's name and an abstract start() method that should      be implemented in subclasses.\n",
    "2. We create three subclasses: Car, Bicycle, and Boat, each of which inherits from the Vehicle class and provides its specific      implementation for the start() method.\n",
    "3. We demonstrate polymorphism by creating instances of these vehicle types (objects of Car, Bicycle, and Boat classes) and        storing them in a list. We then iterate through the list of vehicles and call the start() method on each vehicle. The            polymorphism allows us to start different types of vehicles using the common start() method interface.  "
   ]
  },
  {
   "cell_type": "markdown",
   "id": "3f3c4d1e",
   "metadata": {},
   "source": [
    "# 9. Explain the significance of the `isinstance()` and `issubclass()` functions in Python polymorphism."
   ]
  },
  {
   "cell_type": "markdown",
   "id": "92e0b160",
   "metadata": {},
   "source": [
    "The isinstance() and issubclass() functions in Python are significant tools that help in checking object types and class hierarchies, respectively. They play a crucial role in polymorphism and provide the following benefits:\n",
    "\n",
    "1. isinstance() Function:\n",
    "The isinstance() function is used to check if an object belongs to a particular class or a tuple of classes. It determines the type of an object and can be used to ensure that an object is compatible with a particular class or interface, which is essential for achieving polymorphism.\n",
    "Example with comments:"
   ]
  },
  {
   "cell_type": "code",
   "execution_count": 25,
   "id": "7329a7c3",
   "metadata": {},
   "outputs": [
    {
     "name": "stdout",
     "output_type": "stream",
     "text": [
      "True\n",
      "True\n",
      "An animal is making a sound.\n",
      "Some generic animal sound\n"
     ]
    }
   ],
   "source": [
    "class Animal:\n",
    "    pass\n",
    "\n",
    "class Dog(Animal):\n",
    "    pass\n",
    "\n",
    "# Create instances\n",
    "animal = Animal()\n",
    "dog = Dog()\n",
    "\n",
    "# Check if an object is an instance of a specific class\n",
    "print(isinstance(animal, Animal))  # Output: True (animal is an instance of Animal)\n",
    "print(isinstance(dog, Animal))     # Output: True (dog is an instance of Animal, since it's a subclass)\n",
    "\n",
    "# Use in polymorphism to perform actions on objects of different classes\n",
    "def make_sound(animal):\n",
    "    if isinstance(animal, Animal):\n",
    "        print(\"An animal is making a sound.\")\n",
    "        return \"Some generic animal sound\"\n",
    "\n",
    "print(make_sound(animal))  # Output: An animal is making a sound.\n"
   ]
  },
  {
   "cell_type": "markdown",
   "id": "e94e587d",
   "metadata": {},
   "source": [
    "2. issubclass() Function:\n",
    "The issubclass() function checks if a class is a subclass of a specified class or a tuple of classes. It is valuable when dealing with class hierarchies and inheritance, allowing you to determine if a class conforms to a particular interface or inheritance structure.\n",
    "Example with comments:"
   ]
  },
  {
   "cell_type": "code",
   "execution_count": 26,
   "id": "1cbe3141",
   "metadata": {},
   "outputs": [
    {
     "name": "stdout",
     "output_type": "stream",
     "text": [
      "True\n",
      "Adding a Animal to the zoo.\n"
     ]
    },
    {
     "data": {
      "text/plain": [
       "True"
      ]
     },
     "execution_count": 26,
     "metadata": {},
     "output_type": "execute_result"
    }
   ],
   "source": [
    "class Animal:\n",
    "    pass\n",
    "\n",
    "class Dog(Animal):\n",
    "    pass\n",
    "\n",
    "# Check if a class is a subclass of a specific class\n",
    "print(issubclass(Dog, Animal))  # Output: True (Dog is a subclass of Animal)\n",
    "\n",
    "# Use in polymorphism to ensure class hierarchy and inheritance\n",
    "class Zoo:\n",
    "    def add_animal(self, animal_class):\n",
    "        if issubclass(animal_class, Animal):\n",
    "            print(f\"Adding a {animal_class.__name__} to the zoo.\")\n",
    "            return True\n",
    "        else:\n",
    "            print(f\"Cannot add a {animal_class.__name__} to the zoo.\")\n",
    "            return False\n",
    "\n",
    "zoo = Zoo()\n",
    "zoo.add_animal(Animal)  # Output: Adding an Animal to the zoo.\n"
   ]
  },
  {
   "cell_type": "markdown",
   "id": "24ddff92",
   "metadata": {},
   "source": [
    "# 10. What is the role of the `@abstractmethod` decorator in achieving polymorphism in Python? Provide an example"
   ]
  },
  {
   "cell_type": "markdown",
   "id": "2a585785",
   "metadata": {},
   "source": [
    "The @abstractmethod decorator is used in Python to mark a method as abstract within an abstract base class. It plays a crucial role in achieving polymorphism by defining a common interface that derived classes must implement. Abstract methods are methods that do not have a concrete implementation in the base class but must be implemented in any concrete (i.e., non-abstract) subclasses. This ensures that different subclasses adhere to the same interface, allowing polymorphism to be applied effectively.\n",
    "\n",
    "Here's an example with comments to illustrate the role of the @abstractmethod decorator in achieving polymorphism:"
   ]
  },
  {
   "cell_type": "code",
   "execution_count": 27,
   "id": "f1ed7d1f",
   "metadata": {},
   "outputs": [
    {
     "name": "stdout",
     "output_type": "stream",
     "text": [
      "The area of the Circle is 78.50 square units.\n",
      "The area of the Square is 16.00 square units.\n",
      "The area of the Triangle is 9.00 square units.\n"
     ]
    }
   ],
   "source": [
    "from abc import ABC, abstractmethod\n",
    "\n",
    "# Define an abstract base class with an abstract method\n",
    "class Shape(ABC):\n",
    "    @abstractmethod\n",
    "    def calculate_area(self):\n",
    "        pass\n",
    "\n",
    "# Create concrete subclasses that implement the abstract method\n",
    "class Circle(Shape):\n",
    "    def __init__(self, radius):\n",
    "        self.radius = radius\n",
    "\n",
    "    def calculate_area(self):\n",
    "        return 3.14 * self.radius ** 2\n",
    "\n",
    "class Square(Shape):\n",
    "    def __init__(self, side_length):\n",
    "        self.side_length = side_length\n",
    "\n",
    "    def calculate_area(self):\n",
    "        return self.side_length ** 2\n",
    "\n",
    "class Triangle(Shape):\n",
    "    def __init__(self, base, height):\n",
    "        self.base = base\n",
    "        self.height = height\n",
    "\n",
    "    def calculate_area(self):\n",
    "        return 0.5 * self.base * self.height\n",
    "\n",
    "# Demonstrate polymorphism using the common interface\n",
    "shapes = [Circle(5), Square(4), Triangle(3, 6)]\n",
    "\n",
    "for shape in shapes:\n",
    "    # Regardless of the shape type, we can call calculate_area() on all of them\n",
    "    area = shape.calculate_area()\n",
    "    shape_name = shape.__class__.__name__  # Get the class name for display\n",
    "    print(f\"The area of the {shape_name} is {area:.2f} square units.\")"
   ]
  },
  {
   "cell_type": "markdown",
   "id": "349d9ec4",
   "metadata": {},
   "source": [
    "Explanation:\n",
    "1. We define an abstract base class Shape that inherits from ABC (an abstract base class). It includes an abstract method          calculate_area() marked with the @abstractmethod decorator. Subclasses are required to implement this method.\n",
    "2. We create concrete subclasses (Circle, Square, and Triangle) that inherit from the abstract Shape class. Each of these          subclasses provides a specific implementation for the calculate_area() method.\n",
    "3. We demonstrate polymorphism by creating instances of these subclasses and storing them in a list. We then iterate through the   list of shapes and call the calculate_area() method on each shape. The polymorphism allows us to calculate the area of various   shapes using the common calculate_area() method interface."
   ]
  },
  {
   "cell_type": "markdown",
   "id": "228d8152",
   "metadata": {},
   "source": [
    "# 11. Create a Python class called `Shape` with a polymorphic method `area()` that calculates the area of different shapes (e.g., circle, rectangle, triangle)."
   ]
  },
  {
   "cell_type": "code",
   "execution_count": 28,
   "id": "c09f00f5",
   "metadata": {},
   "outputs": [
    {
     "name": "stdout",
     "output_type": "stream",
     "text": [
      "The area of the Circle is 78.54 square units.\n",
      "The area of the Rectangle is 24.00 square units.\n",
      "The area of the Triangle is 12.00 square units.\n"
     ]
    }
   ],
   "source": [
    "import math\n",
    "\n",
    "# Define a base class for shapes\n",
    "class Shape:\n",
    "    def area(self):\n",
    "        pass  # This is an abstract method to be implemented in subclasses\n",
    "\n",
    "# Create a subclass for circles\n",
    "class Circle(Shape):\n",
    "    def __init__(self, radius):\n",
    "        self.radius = radius\n",
    "\n",
    "    def area(self):\n",
    "        return math.pi * self.radius ** 2\n",
    "\n",
    "# Create a subclass for rectangles\n",
    "class Rectangle(Shape):\n",
    "    def __init__(self, length, width):\n",
    "        self.length = length\n",
    "        self.width = width\n",
    "\n",
    "    def area(self):\n",
    "        return self.length * self.width\n",
    "\n",
    "# Create a subclass for triangles\n",
    "class Triangle(Shape):\n",
    "    def __init__(self, base, height):\n",
    "        self.base = base\n",
    "        self.height = height\n",
    "\n",
    "    def area(self):\n",
    "        return 0.5 * self.base * self.height\n",
    "\n",
    "# Demonstrate polymorphism using the common interface\n",
    "shapes = [Circle(5), Rectangle(4, 6), Triangle(3, 8)]\n",
    "\n",
    "for shape in shapes:\n",
    "    # Regardless of the shape type, we can call the area() method on all of them\n",
    "    area = shape.area()\n",
    "    shape_name = shape.__class__.__name__  # Get the class name for display\n",
    "    print(f\"The area of the {shape_name} is {area:.2f} square units.\")\n"
   ]
  },
  {
   "cell_type": "markdown",
   "id": "d62b6487",
   "metadata": {},
   "source": [
    "Explanation:\n",
    "1. define a base class Shape with an abstract method area() marked with a pass statement. This method will be implemented          differently in subclasses to calculate the area of various shapes.\n",
    "2. create three subclasses: Circle, Rectangle, and Triangle, each of which inherits from the Shape class. Each subclass provides    its specific implementation for the area() method to calculate the area of that shape.\n",
    "3. demonstrate polymorphism by creating instances of these shape subclasses and storing them in a list. We then iterate through    the list of shapes and call the area() method on each shape. The polymorphism allows us to calculate the area of various        shapes using the common area() method interface, even though the implementation of the method is specific to each shape."
   ]
  },
  {
   "cell_type": "markdown",
   "id": "c62e7f3d",
   "metadata": {},
   "source": [
    "# 12. Discuss the benefits of polymorphism in terms of code reusability and flexibility in Python programs"
   ]
  },
  {
   "cell_type": "markdown",
   "id": "22954742",
   "metadata": {},
   "source": [
    "Polymorphism is a fundamental concept in object-oriented programming that offers several benefits in terms of code reusability and flexibility in Python programs:\n",
    "\n",
    "Code Reusability:\n",
    "1. Polymorphism allows you to write code that can work with objects of different types or classes in a consistent and generic way.\n",
    "2. You can define common interfaces and behaviors in base classes, and derived classes can provide specific implementations        while adhering to the same interface.\n",
    "3. This promotes code reusability because you can reuse the same code or algorithms for different objects that share a common      interface. It reduces the need to duplicate code for similar functionality in different classes.\n",
    "\n",
    "Flexibility:\n",
    "1. Polymorphism makes your code more flexible and adaptable to changes. When you add new classes or types that conform to the      same interface, your existing code can work with these new types without modification.\n",
    "2. You can extend the functionality of your code by simply creating new classes that inherit from the same base class and          implementing the required methods.\n",
    "3. This flexibility allows for future enhancements and modifications without affecting existing code, which is crucial for           maintaining and evolving software systems.\n",
    "\n",
    "Reduced Coupling:\n",
    "1. Polymorphism reduces tight coupling between classes. In tightly coupled systems, classes depend on specific implementations      of other classes, making the code less flexible and harder to maintain.\n",
    "2. Polymorphism promotes loose coupling by allowing classes to depend on abstractions (interfaces or base classes) rather than      concrete implementations. This decoupling makes it easier to replace or extend components without affecting the entire          system.\n",
    "\n",
    "Improved Readability:\n",
    "1. Code that uses polymorphism is often more readable and easier to understand. When you see a method call on an object, you        don't need to know the exact type of the object to understand its behavior.\n",
    "2. Polymorphism encourages a clear separation of concerns and a well-defined interface, making it easier to grasp the overall      structure of the program.\n",
    "\n",
    "Better Testing and Debugging:\n",
    "1. Polymorphism facilitates testing because you can use mock objects or stubs to create test cases and isolate specific            components for testing.\n",
    "2. Debugging is more straightforward because you can focus on the behavior of individual classes and their adherence to a common    interface, without getting entangled in the details of specific implementations.\n",
    "\n",
    "Extensibility:\n",
    "1. Polymorphism makes it easy to extend the functionality of your software by adding new classes or types. You can introduce new    features and behaviors without affecting the existing codebase."
   ]
  },
  {
   "cell_type": "markdown",
   "id": "46a56f05",
   "metadata": {},
   "source": [
    "# 13. Explain the use of the `super()` function in Python polymorphism. How does it help call methods of parent classes"
   ]
  },
  {
   "cell_type": "markdown",
   "id": "352cc513",
   "metadata": {},
   "source": [
    "The super() function in Python is used to call methods or constructors of the parent class (superclass) in the context of method overriding and inheritance. It plays a crucial role in achieving polymorphism when you want to extend or modify the behavior of a method in a subclass while still leveraging the functionality of the method in the parent class. Here's how the super() function works and its use in Python polymorphism with comments:\n",
    "\n",
    "Calling the Parent Class Constructor:\n",
    "1. You can use super() to call the constructor (init method) of the parent class from the subclass. This is useful when you want    to initialize attributes or perform actions in the parent class's constructor."
   ]
  },
  {
   "cell_type": "code",
   "execution_count": 32,
   "id": "27ba23ed",
   "metadata": {},
   "outputs": [
    {
     "name": "stdout",
     "output_type": "stream",
     "text": [
      "1\n",
      "2\n"
     ]
    }
   ],
   "source": [
    "class Parent:\n",
    "    def __init__(self, x):\n",
    "        self.x = x\n",
    "\n",
    "class Child(Parent):\n",
    "    def __init__(self, x, y):\n",
    "        super().__init__(x)  # Call the constructor of the parent class\n",
    "        self.y = y\n",
    "\n",
    "child = Child(1, 2)\n",
    "print(child.x)  # Output: 1\n",
    "print(child.y)  # Output: 2\n"
   ]
  },
  {
   "cell_type": "markdown",
   "id": "ea0ce4c1",
   "metadata": {},
   "source": [
    "Calling the Parent Class Method:\n",
    "1. You can use super() to call a method defined in the parent class from the subclass. This is especially useful when you want to extend the functionality of the parent class method while retaining some of the original behavior."
   ]
  },
  {
   "cell_type": "code",
   "execution_count": 30,
   "id": "27a3d991",
   "metadata": {},
   "outputs": [
    {
     "name": "stdout",
     "output_type": "stream",
     "text": [
      "Child speaking, and Parent speaking\n"
     ]
    }
   ],
   "source": [
    "class Parent:\n",
    "    def speak(self):\n",
    "        return \"Parent speaking\"\n",
    "\n",
    "class Child(Parent):\n",
    "    def speak(self):\n",
    "        parent_message = super().speak()  # Call the speak method of the parent class\n",
    "        return f\"Child speaking, and {parent_message}\"\n",
    "\n",
    "child = Child()\n",
    "print(child.speak())  # Output: Child speaking, and Parent speaking\n"
   ]
  },
  {
   "cell_type": "markdown",
   "id": "0904f39a",
   "metadata": {},
   "source": [
    "Multiple Inheritance:\n",
    "1. super() is often used in multiple inheritance scenarios to call the parent class's methods in a method resolution order (MRO)    that respects the inheritance hierarchy."
   ]
  },
  {
   "cell_type": "code",
   "execution_count": 33,
   "id": "64027543",
   "metadata": {},
   "outputs": [
    {
     "name": "stdout",
     "output_type": "stream",
     "text": [
      "D speaking, C speaking, and A speaking\n"
     ]
    }
   ],
   "source": [
    "class A:\n",
    "    def speak(self):\n",
    "        return \"A speaking\"\n",
    "\n",
    "class B(A):\n",
    "    def speak(self):\n",
    "        return \"B speaking\"\n",
    "\n",
    "class C(A):\n",
    "    def speak(self):\n",
    "        return \"C speaking\"\n",
    "\n",
    "class D(B, C):\n",
    "    def speak(self):\n",
    "        b_message = super(B, self).speak()  # Call B's speak method from D\n",
    "        c_message = super(C, self).speak()  # Call C's speak method from D\n",
    "        return f\"D speaking, {b_message}, and {c_message}\"\n",
    "\n",
    "d = D()\n",
    "print(d.speak())  # Output: D speaking, B speaking, and C speaking"
   ]
  },
  {
   "cell_type": "markdown",
   "id": "62361d7d",
   "metadata": {},
   "source": [
    "Summary:\n",
    "the super() function in Python is a powerful tool that helps in calling methods and constructors of parent classes, allowing  for method overriding, method extension, and flexible inheritance. It plays a crucial role in achieving polymorphism and maintaining a clear and organized code structure in class hierarchies."
   ]
  },
  {
   "cell_type": "markdown",
   "id": "6dfc78cc",
   "metadata": {},
   "source": [
    "# 14. Create a Python class hierarchy for a banking system with various account types (e.g., savings, checking, credit card) and demonstrate polymorphism by implementing a common `withdraw()` method."
   ]
  },
  {
   "cell_type": "code",
   "execution_count": 1,
   "id": "1e80ffc9",
   "metadata": {},
   "outputs": [
    {
     "name": "stdout",
     "output_type": "stream",
     "text": [
      "Account Number: SAV123, Account Holder: John Doe, Balance: $500.00, Account Type: Savings\n",
      "Account Number: CHK456, Account Holder: Alice Smith, Balance: $-500.00, Account Type: Checking\n",
      "Account Number: CC789, Account Holder: Bob Johnson, Balance: $-600.00, Account Type: Credit Card\n"
     ]
    }
   ],
   "source": [
    "\n",
    "class BankAccount:\n",
    "    def __init__(self, account_number, account_holder, balance):\n",
    "        self.account_number = account_number\n",
    "        self.account_holder = account_holder\n",
    "        self.balance = balance\n",
    "\n",
    "    def deposit(self, amount):\n",
    "        self.balance += amount\n",
    "\n",
    "    def withdraw(self, amount):\n",
    "        # Common method for withdrawing from any type of account\n",
    "        if amount <= self.balance:\n",
    "            self.balance -= amount\n",
    "        else:\n",
    "            print(\"Insufficient balance\")\n",
    "\n",
    "    def get_balance(self):\n",
    "        return self.balance\n",
    "\n",
    "    def __str__(self):\n",
    "        return f\"Account Number: {self.account_number}, Account Holder: {self.account_holder}, Balance: ${self.balance:.2f}\"\n",
    "\n",
    "class SavingsAccount(BankAccount):\n",
    "    def __init__(self, account_number, account_holder, balance, interest_rate):\n",
    "        super().__init__(account_number, account_holder, balance)\n",
    "        self.interest_rate = interest_rate\n",
    "\n",
    "    def apply_interest(self):\n",
    "        self.balance += self.balance * self.interest_rate / 100\n",
    "\n",
    "    def __str__(self):\n",
    "        return super().__str__() + f\", Account Type: Savings\"\n",
    "\n",
    "class CheckingAccount(BankAccount):\n",
    "    def __init__(self, account_number, account_holder, balance, overdraft_limit):\n",
    "        super().__init__(account_number, account_holder, balance)\n",
    "        self.overdraft_limit = overdraft_limit\n",
    "\n",
    "    def withdraw(self, amount):\n",
    "        # Overdraft protection for checking accounts\n",
    "        if amount <= self.balance + self.overdraft_limit:\n",
    "            self.balance -= amount\n",
    "        else:\n",
    "            print(\"Exceeded overdraft limit\")\n",
    "\n",
    "    def __str__(self):\n",
    "        return super().__str__() + f\", Account Type: Checking\"\n",
    "\n",
    "class CreditCardAccount(BankAccount):\n",
    "    def __init__(self, account_number, account_holder, balance, credit_limit):\n",
    "        super().__init__(account_number, account_holder, balance)\n",
    "        self.credit_limit = credit_limit\n",
    "\n",
    "    def withdraw(self, amount):\n",
    "        # Credit card allows negative balance up to the credit limit\n",
    "        if amount <= self.balance + self.credit_limit:\n",
    "            self.balance -= amount\n",
    "        else:\n",
    "            print(\"Exceeded credit limit\")\n",
    "\n",
    "    def __str__(self):\n",
    "        return super().__str__() + f\", Account Type: Credit Card\"\n",
    "\n",
    "# Demonstration of polymorphism\n",
    "def make_withdrawal(account, amount):\n",
    "    account.withdraw(amount)\n",
    "\n",
    "# Create instances of different account types\n",
    "savings_account = SavingsAccount(\"SAV123\", \"John Doe\", 1000, 2.0)\n",
    "checking_account = CheckingAccount(\"CHK456\", \"Alice Smith\", 1500, 500)\n",
    "credit_card_account = CreditCardAccount(\"CC789\", \"Bob Johnson\", 200, 1000)\n",
    "\n",
    "# Make withdrawals using the common function\n",
    "make_withdrawal(savings_account, 500)\n",
    "make_withdrawal(checking_account, 2000)\n",
    "make_withdrawal(credit_card_account, 800)\n",
    "\n",
    "# Print account information\n",
    "print(savings_account)\n",
    "print(checking_account)\n",
    "print(credit_card_account)\n"
   ]
  },
  {
   "cell_type": "markdown",
   "id": "a8e54d4e",
   "metadata": {},
   "source": [
    "Explanation:\n",
    "1. I have a common BankAccount class with a withdraw() method, and we've created three specific account types (SavingsAccount,      CheckingAccount, and CreditCardAccount) that inherit from the BankAccount class. \n",
    "2. Each account type has its own withdraw() method, allowing for polymorphic behavior.\n",
    "3. The make_withdrawal() function demonstrates the polymorphism by calling the withdraw() method on different account types."
   ]
  },
  {
   "cell_type": "markdown",
   "id": "1d4ab1cc",
   "metadata": {},
   "source": [
    "# 15. Describe the concept of operator overloading in Python and how it relates to polymorphism. Provide examples using operators like `+` and `*`"
   ]
  },
  {
   "cell_type": "markdown",
   "id": "679f82f9",
   "metadata": {},
   "source": [
    "Operator overloading is a concept in Python that allows you to define how operators, such as +, -, *, /, ==, and more, behave when applied to objects of custom classes. This enables you to give meaning to operators for your own objects, making your code more intuitive and expressive. Operator overloading is closely related to polymorphism because it allows different objects to respond to operators in ways that are specific to their individual types, which is a form of polymorphism.\n",
    "\n",
    "Here's a brief explanation of operator overloading and how it relates to polymorphism:\n",
    "\n",
    "Operator Overloading:\n",
    "1. Operator overloading allows you to define the behavior of operators for objects of your own classes by implementing special      methods (often referred to as magic methods or dunder methods) in those classes.\n",
    "2. These special methods are defined with double underscores before and after the operator, such as __add__, __sub__, __mul__,      __eq__, and so on.\n",
    "3. When an operator is used with objects of a custom class, Python looks for the corresponding special method in the class and      uses its implementation to perform the operation.\n",
    "\n",
    "Polymorphism:\n",
    "1. Polymorphism is a fundamental concept in object-oriented programming that allows objects of different classes to respond to      the same method or operator in ways that are specific to their individual types.\n",
    "2. In the context of operator overloading, polymorphism means that you can apply operators to objects of different classes, and    the actual implementation of the operator is determined at runtime based on the object's type.\n",
    "Here are examples of operator overloading using the + and * operators:"
   ]
  },
  {
   "cell_type": "code",
   "execution_count": 34,
   "id": "8159554a",
   "metadata": {},
   "outputs": [
    {
     "name": "stdout",
     "output_type": "stream",
     "text": [
      "4 + 9i\n",
      "-11 + 23i\n"
     ]
    }
   ],
   "source": [
    "class ComplexNumber:\n",
    "    def __init__(self, real, imag):\n",
    "        self.real = real\n",
    "        self.imag = imag\n",
    "\n",
    "    def __add__(self, other):\n",
    "        # Overloading the + operator for ComplexNumber objects\n",
    "        real_sum = self.real + other.real\n",
    "        imag_sum = self.imag + other.imag\n",
    "        return ComplexNumber(real_sum, imag_sum)\n",
    "\n",
    "    def __mul__(self, other):\n",
    "        # Overloading the * operator for ComplexNumber objects\n",
    "        real_product = self.real * other.real - self.imag * other.imag\n",
    "        imag_product = self.real * other.imag + self.imag * other.real\n",
    "        return ComplexNumber(real_product, imag_product)\n",
    "\n",
    "    def __str__(self):\n",
    "        return f\"{self.real} + {self.imag}i\"\n",
    "\n",
    "# Create instances of ComplexNumber\n",
    "num1 = ComplexNumber(3, 2)\n",
    "num2 = ComplexNumber(1, 7)\n",
    "\n",
    "# Operator overloading in action\n",
    "result_add = num1 + num2  # Calls num1.__add__(num2)\n",
    "result_mul = num1 * num2  # Calls num1.__mul__(num2)\n",
    "\n",
    "print(result_add)  # Output: 4 + 9i\n",
    "print(result_mul)  # Output: -11 + 23i\n"
   ]
  },
  {
   "cell_type": "markdown",
   "id": "89306f6e",
   "metadata": {},
   "source": [
    "Explanation:\n",
    "1. we've defined a ComplexNumber class and overloaded the + and * operators using the __add__ and __mul__ special methods,          respectively.\n",
    "2. When we use these operators with ComplexNumber objects, Python calls the corresponding special methods to perform the desired    operations."
   ]
  },
  {
   "cell_type": "markdown",
   "id": "5e6935a1",
   "metadata": {},
   "source": [
    "# 16. What is dynamic polymorphism, and how is it achieved in Python"
   ]
  },
  {
   "cell_type": "markdown",
   "id": "b176a1a4",
   "metadata": {},
   "source": [
    "Dynamic polymorphism, also known as runtime polymorphism or late binding, is a fundamental concept in object-oriented programming that allows objects of different classes to respond to the same method or operation in ways specific to their individual types. In dynamic polymorphism, the method to be executed is determined at runtime, based on the actual type of the object, rather than at compile time.\n",
    "\n",
    "Dynamic polymorphism is achieved in Python through method overriding and the use of inheritance and object-oriented principles. Here's how it works in Python:\n",
    "\n",
    "1. Inheritance:\n",
    "In Python, you create a base class (parent class) that defines a method or operation. Subclasses (child classes) inherit this method from the parent class. The child classes can override the inherited method by providing their specific implementation.\n",
    "\n",
    "2. Method Overriding:\n",
    "In dynamic polymorphism, the overridden method in a subclass provides a specific implementation that is different from the parent class's method. The method name and parameters remain the same.\n",
    "\n",
    "3. Runtime Dispatch: \n",
    "When you call a method on an object, Python determines which specific method implementation to execute at runtime based on the object's actual type. This is achieved through method dispatch and the method resolution order (MRO).\n",
    "\n",
    "Here's an example in Python that demonstrates dynamic polymorphism through method overriding:"
   ]
  },
  {
   "cell_type": "code",
   "execution_count": 35,
   "id": "9f32f435",
   "metadata": {},
   "outputs": [
    {
     "name": "stdout",
     "output_type": "stream",
     "text": [
      "Some generic animal sound\n",
      "Woof!\n",
      "Meow!\n"
     ]
    }
   ],
   "source": [
    "class Animal:\n",
    "    def speak(self):\n",
    "        return \"Some generic animal sound\"\n",
    "\n",
    "class Dog(Animal):\n",
    "    def speak(self):\n",
    "        return \"Woof!\"  # Specific sound for dogs\n",
    "\n",
    "class Cat(Animal):\n",
    "    def speak(self):\n",
    "        return \"Meow!\"  # Specific sound for cats\n",
    "\n",
    "# Instantiate objects of different classes\n",
    "animal = Animal()\n",
    "dog = Dog()\n",
    "cat = Cat()\n",
    "\n",
    "# Dynamic polymorphism - method dispatch at runtime\n",
    "print(animal.speak())  # Output: Some generic animal sound\n",
    "print(dog.speak())     # Output: Woof!\n",
    "print(cat.speak())     # Output: Meow!"
   ]
  },
  {
   "cell_type": "markdown",
   "id": "30c0e473",
   "metadata": {},
   "source": [
    "Explanation:\n",
    "1. We define a base class Animal with a method speak. This method provides a generic animal sound.\n",
    "2. We create two subclasses, Dog and Cat, that inherit from the Animal class and override the speak method to provide specific      sounds for dogs and cats.\n",
    "3. When we call the speak method on objects of different classes, Python determines the specific method to execute at runtime,      based on the object's actual type."
   ]
  },
  {
   "cell_type": "markdown",
   "id": "69a53247",
   "metadata": {},
   "source": [
    "#  17. Create a Python class hierarchy for employees in a company (e.g., manager, developer, designer) and implement polymorphism through a common `calculate_salary()` method."
   ]
  },
  {
   "cell_type": "code",
   "execution_count": 2,
   "id": "7b1c19b3",
   "metadata": {},
   "outputs": [
    {
     "name": "stdout",
     "output_type": "stream",
     "text": [
      "Total Salary for all employees: $ 65000.0\n"
     ]
    }
   ],
   "source": [
    "class Employee:\n",
    "    def __init__(self, employee_id, name, role):\n",
    "        self.employee_id = employee_id\n",
    "        self.name = name\n",
    "        self.role = role\n",
    "\n",
    "    def calculate_salary(self):\n",
    "        # Common method for calculating salary for all employees\n",
    "        raise NotImplementedError(\"Subclasses must implement calculate_salary()\")\n",
    "\n",
    "    def __str__(self):\n",
    "        return f\"Employee ID: {self.employee_id}, Name: {self.name}, Role: {self.role}\"\n",
    "\n",
    "class Manager(Employee):\n",
    "    def __init__(self, employee_id, name, salary, bonus_percentage):\n",
    "        super().__init__(employee_id, name, \"Manager\")\n",
    "        self.salary = salary\n",
    "        self.bonus_percentage = bonus_percentage\n",
    "\n",
    "    def calculate_salary(self):\n",
    "        return self.salary + (self.salary * self.bonus_percentage / 100)\n",
    "\n",
    "    def __str__(self):\n",
    "        return super().__str() + f\", Salary: ${self.salary:.2f}\"\n",
    "\n",
    "class Developer(Employee):\n",
    "    def __init__(self, employee_id, name, hourly_rate, hours_worked):\n",
    "        super().__init__(employee_id, name, \"Developer\")\n",
    "        self.hourly_rate = hourly_rate\n",
    "        self.hours_worked = hours_worked\n",
    "\n",
    "    def calculate_salary(self):\n",
    "        return self.hourly_rate * self.hours_worked\n",
    "\n",
    "    def __str__(self):\n",
    "        return super().__str() + f\", Hourly Rate: ${self.hourly_rate:.2f}, Hours Worked: {self.hours_worked}\"\n",
    "\n",
    "class Designer(Employee):\n",
    "    def __init__(self, employee_id, name, monthly_salary):\n",
    "        super().__init__(employee_id, name, \"Designer\")\n",
    "        self.monthly_salary = monthly_salary\n",
    "\n",
    "    def calculate_salary(self):\n",
    "        return self.monthly_salary\n",
    "\n",
    "    def __str__(self):\n",
    "        return super().__str() + f\", Monthly Salary: ${self.monthly_salary:.2f}\"\n",
    "\n",
    "# Demonstration of polymorphism\n",
    "def calculate_total_salary(employees):\n",
    "    total_salary = 0\n",
    "    for employee in employees:\n",
    "        total_salary += employee.calculate_salary()\n",
    "    return total_salary\n",
    "\n",
    "# Create instances of different employee roles\n",
    "manager = Manager(1, \"John Doe\", 50000, 10)\n",
    "developer = Developer(2, \"Alice Smith\", 25, 160)\n",
    "designer = Designer(3, \"Bob Johnson\", 6000)\n",
    "\n",
    "# Create a list of employees\n",
    "employees = [manager, developer, designer]\n",
    "\n",
    "# Calculate and print the total salary for all employees\n",
    "total_salary = calculate_total_salary(employees)\n",
    "print(\"Total Salary for all employees: $\", total_salary)\n"
   ]
  },
  {
   "cell_type": "markdown",
   "id": "cfa11740",
   "metadata": {},
   "source": [
    "Explanation:\n",
    "1. I have define a common Employee class with a calculate_salary() method. We've created three specific employee roles (Manager,    Developer, and Designer) that inherit from the Employee class. \n",
    "2. Each employee role has its own implementation of the calculate_salary() method, allowing for polymorphic behavior.\n",
    "3. The calculate_total_salary() function demonstrates the polymorphism by calling the calculate_salary() method on different        employee roles."
   ]
  },
  {
   "cell_type": "markdown",
   "id": "50256599",
   "metadata": {},
   "source": [
    "# 18. Discuss the concept of function pointers and how they can be used to achieve polymorphism in Python"
   ]
  },
  {
   "cell_type": "markdown",
   "id": "3ab7ef0b",
   "metadata": {},
   "source": [
    "In Python, you don't have traditional function pointers like you might have in languages like C or C++. However, you can achieve polymorphism and dynamic dispatch using other mechanisms like functions and dictionaries. Let's discuss how you can use functions and dictionaries to achieve a form of polymorphism similar to function pointers in Python:\n",
    "\n",
    "Concept of Function Pointers:\n",
    "1. In languages like C or C++, function pointers are used to store and call functions dynamically at runtime.\n",
    "2. Function pointers allow you to switch between different functions or methods during program execution.\n",
    "\n",
    "Achieving Polymorphism with Functions and Dictionaries in Python:\n",
    "Using Functions:\n",
    "1. In Python, you can use functions as first-class objects. This means you can store functions in variables and pass them as        arguments to other functions.\n",
    "2. By defining functions with a common interface and dynamically selecting which function to call based on the situation, you      achieve a form of polymorphism."
   ]
  },
  {
   "cell_type": "code",
   "execution_count": 36,
   "id": "76ac5525",
   "metadata": {},
   "outputs": [
    {
     "name": "stdout",
     "output_type": "stream",
     "text": [
      "8\n",
      "2\n"
     ]
    }
   ],
   "source": [
    "def operation_add(a, b):\n",
    "    return a + b\n",
    "\n",
    "def operation_subtract(a, b):\n",
    "    return a - b\n",
    "\n",
    "def perform_operation(operation, a, b):\n",
    "    return operation(a, b)\n",
    "\n",
    "result = perform_operation(operation_add, 5, 3)\n",
    "print(result)  # Output: 8\n",
    "\n",
    "result = perform_operation(operation_subtract, 5, 3)\n",
    "print(result)  # Output: 2\n"
   ]
  },
  {
   "cell_type": "markdown",
   "id": "21f861a8",
   "metadata": {},
   "source": [
    "Using Dictionaries:\n",
    "1. Another way to achieve a form of polymorphism is by using dictionaries to map keys to functions or methods.\n",
    "2. This approach allows you to dynamically select which function to call based on a key or name."
   ]
  },
  {
   "cell_type": "code",
   "execution_count": 37,
   "id": "7c67baa1",
   "metadata": {},
   "outputs": [
    {
     "name": "stdout",
     "output_type": "stream",
     "text": [
      "8\n",
      "2\n"
     ]
    }
   ],
   "source": [
    "def operation_add(a, b):\n",
    "    return a + b\n",
    "\n",
    "def operation_subtract(a, b):\n",
    "    return a - b\n",
    "\n",
    "operations = {\n",
    "    'add': operation_add,\n",
    "    'subtract': operation_subtract,\n",
    "}\n",
    "\n",
    "def perform_operation(operation_name, a, b):\n",
    "    if operation_name in operations:\n",
    "        return operations[operation_name](a, b)\n",
    "    else:\n",
    "        return \"Operation not found\"\n",
    "\n",
    "result = perform_operation('add', 5, 3)\n",
    "print(result)  # Output: 8\n",
    "\n",
    "result = perform_operation('subtract', 5, 3)\n",
    "print(result)  # Output: 2\n"
   ]
  },
  {
   "cell_type": "markdown",
   "id": "cc31c143",
   "metadata": {},
   "source": [
    "Explanation:\n",
    "1. you achieve a form of polymorphism by selecting different functions dynamically based on the operation or key.\n",
    "2. While Python doesn't use traditional function pointers, you can use functions and dictionaries to achieve similar dynamic        dispatch and flexibility, which is essential in many polymorphic scenarios."
   ]
  },
  {
   "cell_type": "markdown",
   "id": "d8dc455d",
   "metadata": {},
   "source": [
    "# 19.  Explain the role of interfaces and abstract classes in polymorphism, drawing comparisons between them"
   ]
  },
  {
   "cell_type": "markdown",
   "id": "716c965b",
   "metadata": {},
   "source": [
    "Interfaces and abstract classes are both fundamental concepts in object-oriented programming that play a key role in achieving polymorphism. Polymorphism allows you to write code that can work with objects of multiple classes in a unified way, making your code more flexible and extensible. Let's explore the roles of interfaces and abstract classes in achieving polymorphism and draw comparisons between them:\n",
    "\n",
    "Abstract Classes:\n",
    "1. Abstract classes are classes that cannot be instantiated themselves but serve as a blueprint for other classes.\n",
    "2. They can contain both abstract (unimplemented) methods and concrete (implemented) methods.\n",
    "3. Subclasses that inherit from an abstract class are required to implement the abstract methods, making them part of the          contract defined by the abstract class.\n",
    "4. Abstract classes can have instance variables, constructors, and member methods.\n",
    "   Abstract classes support code reuse, as multiple subclasses can inherit common behavior from the abstract class.\n",
    "   \n",
    "   \n",
    "Interfaces:\n",
    "1. Interfaces are a way to define a contract of methods that must be implemented by classes that implement the interface.\n",
    "2. Interfaces cannot contain concrete methods or instance variables; they only define method signatures.\n",
    "3. A class can implement multiple interfaces, which enables a class to provide different sets of behavior as needed.\n",
    "4. Interfaces promote loose coupling between classes, as they allow unrelated classes to share common behaviors without forcing    them into a specific class hierarchy.\n",
    "5. They are often used to achieve a form of multiple inheritance, where a class can inherit behavior from multiple sources.\n",
    "\n",
    "\n",
    "Comparisons:\n",
    "1. Commonality:\n",
    "Both abstract classes and interfaces are used to define contracts or blueprints for classes, ensuring that certain methods are implemented.\n",
    "\n",
    "2. Inheritance:\n",
    "a. Abstract classes are used to establish an inheritance relationship, as subclasses extend the abstract class. A class can        inherit from only one abstract class.\n",
    "b. Interfaces do not establish an inheritance relationship but are implemented by classes. A class can implement multiple          interfaces, enabling it to provide different sets of behavior.\n",
    "\n",
    "3. Implementation:\n",
    "a. Abstract classes can have both abstract (unimplemented) and concrete (implemented) methods, and they may include instance        variables.\n",
    "b. Interfaces can only define method signatures; they do not contain any method implementations or instance variables.\n",
    "\n",
    "3. Flexibility:\n",
    "a. Interfaces provide more flexibility in terms of allowing unrelated classes to share common behaviors without enforcing a        specific class hierarchy.\n",
    "b. Abstract classes promote code reuse but tie classes to a specific inheritance hierarchy.\n",
    "\n",
    "4. Multiple Inheritance:\n",
    "a. Interfaces support a form of multiple inheritance, as a class can implement multiple interfaces, inheriting behavior from        different sources.\n",
    "b. Abstract classes do not support multiple inheritance in the same way, as a class can inherit from only one abstract class.\n",
    "\n",
    "\n",
    "Summary:\n",
    "both abstract classes and interfaces play important roles in achieving polymorphism by defining contracts that classes must adhere to. The choice between using an abstract class or an interface depends on your specific design goals, the level of code reuse you require, and whether you need to support multiple inheritance."
   ]
  },
  {
   "cell_type": "markdown",
   "id": "3b164b13",
   "metadata": {},
   "source": [
    "# 20. Create a Python class for a zoo simulation, demonstrating polymorphism with different animal types (e.g., mammals, birds, reptiles) and their behavior (e.g., eating, sleeping, making sounds)"
   ]
  },
  {
   "cell_type": "code",
   "execution_count": 3,
   "id": "9b1cdf21",
   "metadata": {},
   "outputs": [
    {
     "name": "stdout",
     "output_type": "stream",
     "text": [
      "Lion:\n",
      "Lion is eating plants\n",
      "Lion is sleeping\n",
      "Lion is making mammal sound\n",
      "\n",
      "Parrot:\n",
      "Parrot is eating seeds\n",
      "Parrot is sleeping\n",
      "Parrot is making bird sound\n",
      "\n",
      "Snake:\n",
      "Snake is eating insects\n",
      "Snake is sleeping\n",
      "Snake is making reptile sound\n",
      "\n"
     ]
    }
   ],
   "source": [
    "class Animal:\n",
    "    def __init__(self, name):\n",
    "        self.name = name\n",
    "\n",
    "    def eat(self):\n",
    "        pass  # This method will be overridden in the specific animal classes\n",
    "\n",
    "    def sleep(self):\n",
    "        print(f\"{self.name} is sleeping\")\n",
    "\n",
    "    def make_sound(self):\n",
    "        pass  # This method will be overridden in the specific animal classes\n",
    "\n",
    "class Mammal(Animal):\n",
    "    def eat(self):\n",
    "        print(f\"{self.name} is eating plants\")\n",
    "\n",
    "    def make_sound(self):\n",
    "        print(f\"{self.name} is making mammal sound\")\n",
    "\n",
    "class Bird(Animal):\n",
    "    def eat(self):\n",
    "        print(f\"{self.name} is eating seeds\")\n",
    "\n",
    "    def make_sound(self):\n",
    "        print(f\"{self.name} is making bird sound\")\n",
    "\n",
    "class Reptile(Animal):\n",
    "    def eat(self):\n",
    "        print(f\"{self.name} is eating insects\")\n",
    "\n",
    "    def make_sound(self):\n",
    "        print(f\"{self.name} is making reptile sound\")\n",
    "\n",
    "# Instantiate some animals\n",
    "lion = Mammal(\"Lion\")\n",
    "parrot = Bird(\"Parrot\")\n",
    "snake = Reptile(\"Snake\")\n",
    "\n",
    "# Demonstrate polymorphism\n",
    "animals = [lion, parrot, snake]\n",
    "\n",
    "for animal in animals:\n",
    "    print(f\"{animal.name}:\")\n",
    "    animal.eat()\n",
    "    animal.sleep()\n",
    "    animal.make_sound()\n",
    "    print()\n",
    "\n"
   ]
  },
  {
   "cell_type": "markdown",
   "id": "af0f5683",
   "metadata": {},
   "source": [
    "Explanation:\n",
    "1. create a base class Animal with three methods: eat(), sleep(), and make_sound().\n",
    "2. The eat() and make_sound() methods are left as placeholders to be overridden by the specific animal classes (Mammal, Bird,      Reptile).\n",
    "3. The sleep() method is common to all animals and is implemented in the base class."
   ]
  },
  {
   "cell_type": "markdown",
   "id": "648fccf0",
   "metadata": {},
   "source": [
    "# Abstraction:"
   ]
  },
  {
   "cell_type": "markdown",
   "id": "a0de6330",
   "metadata": {},
   "source": [
    "# 1. What is abstraction in Python, and how does it relate to object-oriented programming?"
   ]
  },
  {
   "cell_type": "markdown",
   "id": "019e0561",
   "metadata": {},
   "source": [
    "Abstraction:\n",
    "in Python is a fundamental concept in object-oriented programming (OOP) and is closely related to the OOP principles of encapsulation and inheritance. Abstraction is the process of simplifying complex reality by modeling classes based on the essential properties and behaviors of objects, while ignoring the unessential details. It allows you to focus on what an object does rather than how it does it.\n",
    "\n",
    "In Python, abstraction is primarily achieved through the creation of classes and the use of abstract classes and methods. Here's how abstraction relates to object-oriented programming in Python:\n",
    "\n",
    "1. Classes and Objects: In Python, classes serve as blueprints for creating objects. An object is an instance of a class, and it encapsulates both data (attributes) and behaviors (methods) relevant to the object's type. Classes abstract the real-world entities by defining their characteristics and actions.\n",
    "\n",
    "2. Encapsulation: Encapsulation is another OOP concept closely related to abstraction. It involves bundling the data (attributes) and methods that operate on that data within a single unit (the class). This helps hide the internal details and exposes only the necessary interfaces for interacting with the object. Encapsulation is an essential part of abstraction, as it allows you to abstract away the internal workings of an object and interact with it through well-defined interfaces.\n",
    "\n",
    "3. Abstract Classes and Methods: Python allows you to define abstract classes and methods using the abc module (Abstract Base Classes). Abstract classes cannot be instantiated, and abstract methods are declared without implementation. Subclasses of abstract classes are required to provide concrete implementations for abstract methods. This enforces a level of abstraction and defines a contract that derived classes must adhere to.\n",
    "\n",
    "Example of an abstract class and method in Python:"
   ]
  },
  {
   "cell_type": "code",
   "execution_count": 5,
   "id": "0d305a57",
   "metadata": {},
   "outputs": [],
   "source": [
    "from abc import ABC, abstractmethod\n",
    "class Shape(ABC):\n",
    "    @abstractmethod\n",
    "    def area(self):\n",
    "        pass\n",
    "class Circle(Shape):\n",
    "    def __init__(self,radius):\n",
    "        self.radius = radius\n",
    "    def area(self):\n",
    "        return 3.15*self.radius**2"
   ]
  },
  {
   "cell_type": "markdown",
   "id": "1747fa0e",
   "metadata": {},
   "source": [
    "abstraction in Python is a way to simplify complex systems by modeling objects as classes, encapsulating their data and behaviors, and defining abstract classes and methods to establish a common interface for derived classes. It allows you to focus on essential characteristics and actions while hiding implementation details, making your code more maintainable and easier to work with."
   ]
  },
  {
   "cell_type": "markdown",
   "id": "206c3923",
   "metadata": {},
   "source": [
    "#  2. Describe the benefits of abstraction in terms of code organization and complexity reduction."
   ]
  },
  {
   "cell_type": "markdown",
   "id": "16f7edcd",
   "metadata": {},
   "source": [
    "Abstraction offers several significant benefits in terms of code organization and complexity reduction in software development. Here are some of the key advantages of abstraction:\n",
    "\n",
    "1. Hides Implementation Details: \n",
    "Abstraction allows you to hide the complex implementation details of a system, exposing only the essential features and behaviors of an object or module. This separation of concerns makes the code more manageable and easier to understand because developers can focus on high-level concepts without getting bogged down in the nitty-gritty details.\n",
    "\n",
    "2. Simplifies Code: \n",
    "Abstraction simplifies code by breaking down a system into smaller, more manageable components. Each component or class has a well-defined responsibility and encapsulates a specific set of functionalities. This simplification makes it easier to design, develop, and maintain the codebase, as developers can work on isolated and coherent pieces of the system.\n",
    "\n",
    "3. Modularization:\n",
    "Abstraction promotes the modularization of code. Modular code consists of small, self-contained components that can be reused across different parts of an application. This reusability reduces redundancy, encourages a \"write once, use many times\" approach, and simplifies code maintenance.\n",
    "\n",
    "4. Code Reusability:\n",
    "Abstraction allows you to define abstract classes, interfaces, or modules with well-defined contracts. These contracts specify the methods and properties that subclasses or implementing classes must provide. This results in reusable and interchangeable components, reducing the need to write the same code multiple times.\n",
    "\n",
    "5. Separation of Concerns: \n",
    "Abstraction encourages the separation of concerns in your codebase. Each class or module is responsible for a specific aspect of the system, and these concerns are organized and encapsulated within their respective components. This separation makes it easier to manage and update different aspects of the system independently.\n",
    "\n",
    "6. Flexibility and Extensibility:\n",
    "Abstraction provides a foundation for building extensible and flexible systems. When new requirements arise, you can often extend or replace components without affecting the rest of the system. This adaptability is essential for handling changing business needs and accommodating future developments.\n",
    "\n",
    "7. Improved Collaboration:\n",
    "Abstraction facilitates collaboration among developers. By clearly defining interfaces and abstract classes, different team members can work on separate components without needing to understand the intricate details of other parts of the system. This can enhance productivity and streamline development efforts.\n",
    "\n",
    "8. Easier Testing: \n",
    "Abstraction can make testing more manageable. By isolating individual components and abstracting their dependencies, you can write unit tests for each component without being concerned about the entire system. This leads to more effective testing and easier debugging.\n",
    "\n",
    "9. Better Documentation:\n",
    "Abstraction encourages the creation of clear and concise documentation. Well-defined interfaces, abstract classes, and module contracts serve as documentation for how components should be used. This makes it easier for developers to understand and work with the codebase.\n",
    "\n",
    "10. Reduced Cognitive Load:\n",
    "Abstraction reduces cognitive load by allowing developers to work at different levels of abstraction. Instead of having to keep the entire system in their heads, they can focus on specific components when needed, which is particularly valuable in large and complex projects.\n",
    "\n",
    "\n",
    "Summary:\n",
    "abstraction is a powerful concept in software engineering that simplifies code organization and reduces complexity by allowing you to work with high-level, simplified representations of objects, hide implementation details, and define clear interfaces. This results in more maintainable, reusable, and comprehensible code, which is crucial for the success of software projects, especially as they grow and evolve."
   ]
  },
  {
   "cell_type": "markdown",
   "id": "d5c8bda4",
   "metadata": {},
   "source": [
    "# 3. Create a Python class called `Shape` with an abstract method `calculate_area()`. Then, create child classes (e.g., `Circle`, `Rectangle`) that implement the `calculate_area()` method. Provide an example of using these classes"
   ]
  },
  {
   "cell_type": "code",
   "execution_count": 6,
   "id": "5e416b49",
   "metadata": {},
   "outputs": [
    {
     "name": "stdout",
     "output_type": "stream",
     "text": [
      "Circle Area: 78.54 square units\n",
      "Rectangle Area: 24 square units\n"
     ]
    }
   ],
   "source": [
    "from abc import ABC, abstractmethod\n",
    "\n",
    "# create Shape class with abstract method\n",
    "class Shape(ABC):\n",
    "    @abstractmethod\n",
    "    def calculate_area(self):\n",
    "        pass\n",
    "\n",
    "class Circle(Shape):\n",
    "    def __init__(self, radius):\n",
    "        self.radius = radius\n",
    "\n",
    "    def calculate_area(self):\n",
    "        return 3.14159 * self.radius ** 2\n",
    "\n",
    "class Rectangle(Shape):\n",
    "    def __init__(self, width, height):\n",
    "        self.width = width\n",
    "        self.height = height\n",
    "\n",
    "    def calculate_area(self):\n",
    "        return self.width * self.height\n",
    "\n",
    "# Example usage:\n",
    "if __name__ == \"__main__\":\n",
    "    # Create instances of Circle and Rectangle\n",
    "    circle = Circle(5)\n",
    "    rectangle = Rectangle(4, 6)\n",
    "\n",
    "    # Calculate and print the areas\n",
    "    print(f\"Circle Area: {circle.calculate_area():.2f} square units\")\n",
    "    print(f\"Rectangle Area: {rectangle.calculate_area()} square units\")\n"
   ]
  },
  {
   "cell_type": "markdown",
   "id": "6d27097f",
   "metadata": {},
   "source": [
    "Explanation:\n",
    "1. define an abstract base class Shape with the calculate_area() method, which is marked as an abstract method using the @abstractmethod decorator.\n",
    "2. This means that any concrete subclass of Shape must provide an implementation for calculate_area()."
   ]
  },
  {
   "cell_type": "markdown",
   "id": "61786168",
   "metadata": {},
   "source": [
    "# 4. Explain the concept of abstract classes in Python and how they are defined using the `abc` module. Provide an example."
   ]
  },
  {
   "cell_type": "markdown",
   "id": "6a444e4a",
   "metadata": {},
   "source": [
    "Abstract classes in Python are classes that cannot be instantiated on their own and are meant to serve as a blueprint for other classes. They often contain one or more abstract methods, which are methods that do not have an implementation in the abstract class but must be implemented in any concrete (non-abstract) subclass. Abstract classes are a way to enforce a common interface for a group of related classes and ensure that certain methods are always implemented in those subclasses.\n",
    "\n",
    "In Python, you can define abstract classes and abstract methods using the abc module (Abstract Base Classes). Here's how to create and use abstract classes with the abc module:\n",
    "\n",
    "1. Import the ABC (Abstract Base Class) and abstractmethod decorators from the abc module.\n",
    "2. Define an abstract class that inherits from ABC.\n",
    "3. Declare abstract methods within the abstract class using the @abstractmethod decorator. These methods do not have any           implementation in the abstract class.\n",
    "4. Create concrete (non-abstract) subclasses that inherit from the abstract class.\n",
    "5. Implement the abstract methods in the concrete subclasses to provide concrete implementations."
   ]
  },
  {
   "cell_type": "code",
   "execution_count": 8,
   "id": "1bc41545",
   "metadata": {},
   "outputs": [
    {
     "name": "stdout",
     "output_type": "stream",
     "text": [
      "Circle Area: 78.54\n",
      "Circle Perimeter: 31.42\n",
      "Square Area: 16\n",
      "Square Perimeter: 16\n"
     ]
    }
   ],
   "source": [
    "from abc import ABC, abstractmethod\n",
    "\n",
    "class Shape(ABC):  # Step 2: Define an abstract class\n",
    "    @abstractmethod  # Step 3: Declare abstract methods\n",
    "    def area(self):\n",
    "        pass\n",
    "\n",
    "    @abstractmethod\n",
    "    def perimeter(self):\n",
    "        pass\n",
    "\n",
    "class Circle(Shape):  # Step 4: Create a concrete subclass\n",
    "    def __init__(self, radius):\n",
    "        self.radius = radius\n",
    "\n",
    "    def area(self):  # Step 5: Implement abstract methods\n",
    "        return 3.14159 * self.radius ** 2\n",
    "\n",
    "    def perimeter(self):\n",
    "        return 2 * 3.14159 * self.radius\n",
    "\n",
    "class Square(Shape):  # Another concrete subclass\n",
    "    def __init__(self, side):\n",
    "        self.side = side\n",
    "\n",
    "    def area(self):\n",
    "        return self.side ** 2\n",
    "\n",
    "    def perimeter(self):\n",
    "        return 4 * self.side\n",
    "\n",
    "# Example usage\n",
    "if __name__ == \"__main__\":\n",
    "    circle = Circle(5)\n",
    "    square = Square(4)\n",
    "\n",
    "    print(f\"Circle Area: {circle.area():.2f}\")\n",
    "    print(f\"Circle Perimeter: {circle.perimeter():.2f}\")\n",
    "\n",
    "    print(f\"Square Area: {square.area()}\")\n",
    "    print(f\"Square Perimeter: {square.perimeter()}\")\n"
   ]
  },
  {
   "cell_type": "markdown",
   "id": "5fe3f506",
   "metadata": {},
   "source": [
    "Explanation:\n",
    "1. import the ABC and abstractmethod decorators from the abc module.\n",
    "2. define an abstract class Shape that inherits from ABC.\n",
    "3. Within the Shape class, we declare two abstract methods: area and perimeter.\n",
    "4. create concrete subclasses Circle and Square, which inherit from Shape.\n",
    "5. In the concrete subclasses, we provide concrete implementations for the abstract methods, ensuring that both area and            perimeter are implemented."
   ]
  },
  {
   "cell_type": "markdown",
   "id": "846af7ac",
   "metadata": {},
   "source": [
    "# 5. How do abstract classes differ from regular classes in Python? Discuss their use cases."
   ]
  },
  {
   "cell_type": "markdown",
   "id": "423fe446",
   "metadata": {},
   "source": [
    "Abstract classes and regular classes in Python have some key differences in their behavior and intended use. Here's how they differ, along with their respective use cases:\n",
    "\n",
    "Abstract Classes:\n",
    "1. Cannot Be Instantiated: \n",
    "Abstract classes cannot be instantiated on their own. You cannot create objects directly from an abstract class.\n",
    "\n",
    "2. Contain Abstract Methods: \n",
    "Abstract classes often include one or more abstract methods. These abstract methods are declared using the @abstractmethod decorator and have no implementation in the abstract class itself.\n",
    "\n",
    "3. Serve as Blueprints:\n",
    "Abstract classes are typically used as blueprints for creating concrete (non-abstract) subclasses. They define a common interface that concrete subclasses must adhere to.\n",
    "\n",
    "4. Enforce Method Implementation:\n",
    "Abstract classes enforce that concrete subclasses provide implementations for the abstract methods. If a subclass doesn't implement all the abstract methods, it will raise an error.\n",
    "\n",
    "5. Provide a Common Interface: \n",
    "Abstract classes are used to ensure that a group of related classes shares a common interface. This can be particularly useful in scenarios where you want to create a family of classes with consistent behavior.\n",
    "\n",
    "Use Cases for Abstract Classes:\n",
    "1. When you want to define a common interface for a group of related classes, ensuring that they implement specific methods. For    example, geometric shapes may have a common interface for calculating area and perimeter.\n",
    "2. When you want to create a framework or library and need to define a set of rules or behaviors that other developers must        adhere to when creating custom classes.\n",
    "3. When you want to enforce a contract or specification for classes that inherit from the abstract class.\n",
    "\n",
    "\n",
    "Regular Classes:\n",
    "1. Can Be Instantiated: \n",
    "Regular classes can be instantiated, and you can create objects directly from them.\n",
    "\n",
    "2. May or May Not Include Abstract Methods:\n",
    "Regular classes may include abstract methods, but they are not required to have them. You can define methods with implementations or include abstract methods based on your design requirements.\n",
    "\n",
    "3. Can Stand Alone:\n",
    "Regular classes can be used on their own and don't have to inherit from any other class or interface.\n",
    "\n",
    "4. May Be Used for Any Purpose:\n",
    "Regular classes can serve various purposes, from modeling real-world objects to implementing utility classes or data structures.\n",
    "\n",
    "Use Cases for Regular Classes:\n",
    "1. When you need to create standalone objects with their own behavior and attributes. For example, you might create a Person        class to model individuals, which doesn't require other classes to implement specific methods.\n",
    "2. When you want to create utility classes with concrete methods that can be used independently.\n",
    "3. When you want to encapsulate data and methods within a single unit, such as modeling database records, files, or network        connection"
   ]
  },
  {
   "cell_type": "markdown",
   "id": "4c7dd5d0",
   "metadata": {},
   "source": [
    "# 6. Create a Python class for a bank account and demonstrate abstraction by hiding the account balance and providing methods to deposit and withdraw funds"
   ]
  },
  {
   "cell_type": "code",
   "execution_count": 9,
   "id": "07141238",
   "metadata": {},
   "outputs": [
    {
     "name": "stdout",
     "output_type": "stream",
     "text": [
      "Account Number: 12345\n",
      "Initial Balance: $1000\n",
      "Deposited $500. New balance: $1500\n",
      "Withdrew $200. New balance: $1300\n",
      "Insufficient funds. Withdrawal not allowed.\n"
     ]
    }
   ],
   "source": [
    "class BankAccount:\n",
    "    def __init__(self, account_number, initial_balance=0):\n",
    "        self.account_number = account_number\n",
    "        self.__balance = initial_balance  # Double underscore prefix for private attribute\n",
    "\n",
    "    def get_balance(self):\n",
    "        return self.__balance\n",
    "\n",
    "    def deposit(self, amount):\n",
    "        if amount > 0:\n",
    "            self.__balance += amount\n",
    "            print(f\"Deposited ${amount}. New balance: ${self.__balance}\")\n",
    "        else:\n",
    "            print(\"Invalid deposit amount. Please enter a positive value.\")\n",
    "\n",
    "    def withdraw(self, amount):\n",
    "        if 0 < amount <= self.__balance:\n",
    "            self.__balance -= amount\n",
    "            print(f\"Withdrew ${amount}. New balance: ${self.__balance}\")\n",
    "        elif amount <= 0:\n",
    "            print(\"Invalid withdrawal amount. Please enter a positive value.\")\n",
    "        else:\n",
    "            print(\"Insufficient funds. Withdrawal not allowed.\")\n",
    "\n",
    "# Example usage\n",
    "if __name__ == \"__main__\":\n",
    "    account1 = BankAccount(\"12345\", 1000)\n",
    "\n",
    "    print(f\"Account Number: {account1.account_number}\")\n",
    "    print(f\"Initial Balance: ${account1.get_balance()}\")\n",
    "\n",
    "    account1.deposit(500)\n",
    "    account1.withdraw(200)\n",
    "    account1.withdraw(1500)  # Attempting to withdraw more than the balance\n"
   ]
  },
  {
   "cell_type": "markdown",
   "id": "b1aafa1d",
   "metadata": {},
   "source": [
    "Explanation:\n",
    "1. create a BankAccount class with an account number and a private (hidden) balance attribute. We use double underscores (e.g.,    __balance) to indicate that the attribute should be private.\n",
    "2. provide a get_balance() method to retrieve the balance. This method is the only way to access the account balance from          outside the class.\n",
    "3. implement deposit() and withdraw() methods that allow you to add or deduct funds from the account. These methods include        error checks to ensure that deposits are positive and withdrawals do not exceed the available balance.\n",
    "\n",
    "In the example usage section, icreate a BankAccount instance with an initial balance of $1,000 and demonstrate depositing, withdrawing, and attempting to withdraw more than the available balance."
   ]
  },
  {
   "cell_type": "markdown",
   "id": "4db23bde",
   "metadata": {},
   "source": [
    "# 7.  Discuss the concept of interface classes in Python and their role in achieving abstraction"
   ]
  },
  {
   "cell_type": "markdown",
   "id": "2b03fec0",
   "metadata": {},
   "source": [
    "In Python, the concept of interface classes is not explicitly defined as in some other programming languages like Java, where interfaces are a distinct construct. However, Python achieves similar goals through abstract classes and abstract methods, often using the abc module (Abstract Base Classes). While there is no interface keyword in Python, the principles of abstraction and achieving a common interface are still applicable.\n",
    "\n",
    "Abstract Base Classes (ABCs) and Abstract Methods:\n",
    "\n",
    "1. ABCs in Python: \n",
    "Abstract Base Classes (ABCs) are classes that cannot be instantiated and typically serve as a blueprint for other classes. The abc module in Python provides the necessary tools for creating abstract classes.\n",
    "\n",
    "2. Abstract Methods: \n",
    "Abstract methods are methods declared in an abstract class but without implementation. These methods act as placeholders, and concrete subclasses must provide their own implementations.\n",
    "\n",
    "Role of Interface Classes in Achieving Abstraction:\n",
    "\n",
    "1. Defining a Common Interface:\n",
    "Interface classes, or abstract base classes in Python's context, define a common interface for a group of related classes.\n",
    "By declaring abstract methods in the base class, you establish a set of methods that must be implemented by any concrete subclass.\n",
    "\n",
    "2. Forcing Method Implementation:\n",
    "Abstract methods in the interface class force concrete subclasses to provide their own implementations.\n",
    "This ensures that objects instantiated from different classes adhere to a consistent set of behaviors.\n",
    "\n",
    "3. Encouraging Polymorphism:\n",
    "The use of abstract classes encourages polymorphism. Objects of different concrete subclasses can be used interchangeably if they adhere to the same abstract base class/interface.\n",
    "\n",
    "4. Hiding Implementation Details:\n",
    "Abstract classes help hide the implementation details of the concrete subclasses from the client code.\n",
    "Clients interact with objects based on the common interface, without needing to know the specifics of each subclass.\n",
    "\n",
    "Example:"
   ]
  },
  {
   "cell_type": "code",
   "execution_count": 1,
   "id": "f69c664f",
   "metadata": {},
   "outputs": [
    {
     "name": "stdout",
     "output_type": "stream",
     "text": [
      "Circle Area: 78.54\n",
      "Circle Perimeter: 31.42\n",
      "Rectangle Area: 24\n",
      "Rectangle Perimeter: 20\n"
     ]
    }
   ],
   "source": [
    "from abc import ABC, abstractmethod\n",
    "\n",
    "class Shape(ABC):  # Interface class or abstract base class\n",
    "    @abstractmethod\n",
    "    def area(self):\n",
    "        pass\n",
    "\n",
    "    @abstractmethod\n",
    "    def perimeter(self):\n",
    "        pass\n",
    "\n",
    "class Circle(Shape):  # Concrete subclass implementing the interface\n",
    "    def __init__(self, radius):\n",
    "        self.radius = radius\n",
    "\n",
    "    def area(self):\n",
    "        return 3.14159 * self.radius ** 2\n",
    "\n",
    "    def perimeter(self):\n",
    "        return 2 * 3.14159 * self.radius\n",
    "\n",
    "class Rectangle(Shape):  # Another concrete subclass implementing the interface\n",
    "    def __init__(self, width, height):\n",
    "        self.width = width\n",
    "        self.height = height\n",
    "\n",
    "    def area(self):\n",
    "        return self.width * self.height\n",
    "\n",
    "    def perimeter(self):\n",
    "        return 2 * (self.width + self.height)\n",
    "\n",
    "# Usage\n",
    "circle = Circle(5)\n",
    "rectangle = Rectangle(4, 6)\n",
    "\n",
    "print(f\"Circle Area: {circle.area():.2f}\")\n",
    "print(f\"Circle Perimeter: {circle.perimeter():.2f}\")\n",
    "\n",
    "print(f\"Rectangle Area: {rectangle.area()}\")\n",
    "print(f\"Rectangle Perimeter: {rectangle.perimeter()}\")\n"
   ]
  },
  {
   "cell_type": "markdown",
   "id": "c5f40cdb",
   "metadata": {},
   "source": [
    "Explanation:\n",
    "1. Shape acts as an abstract base class (interface) with abstract methods area and perimeter.\n",
    "2. Concrete subclasses (Circle and Rectangle) implement these methods, ensuring that objects instantiated from these classes        adhere to the common interface defined by Shape."
   ]
  },
  {
   "cell_type": "markdown",
   "id": "04edf19c",
   "metadata": {},
   "source": [
    "# 8. Create a Python class hierarchy for animals and implement abstraction by defining common methods (e.g., `eat()`, `sleep()`) in an abstract base class."
   ]
  },
  {
   "cell_type": "code",
   "execution_count": 5,
   "id": "2b9c73e7",
   "metadata": {},
   "outputs": [
    {
     "name": "stdout",
     "output_type": "stream",
     "text": [
      "Buddy makes a generic mammal sound.\n",
      "Buddy is walking.\n",
      "Buddy is eating.\n",
      "Buddy is sleeping.\n",
      "Tweetie chirps.\n",
      "Tweetie is flying.\n",
      "Tweetie is eating.\n",
      "Tweetie is sleeping.\n",
      "Finny makes bubbles.\n",
      "Finny is swimming.\n",
      "Finny is eating.\n",
      "Finny is sleeping.\n"
     ]
    }
   ],
   "source": [
    "from abc import ABC, abstractmethod\n",
    "\n",
    "# Define the abstract base class for animals\n",
    "class Animal(ABC):\n",
    "    def __init__(self, name, species):\n",
    "        self.name = name\n",
    "        self.species = species\n",
    "\n",
    "    @abstractmethod\n",
    "    def make_sound(self):\n",
    "        pass\n",
    "\n",
    "    @abstractmethod\n",
    "    def move(self):\n",
    "        pass\n",
    "\n",
    "    def eat(self):\n",
    "        print(f\"{self.name} is eating.\")\n",
    "\n",
    "    def sleep(self):\n",
    "        print(f\"{self.name} is sleeping.\")\n",
    "\n",
    "# Subclass for Mammals\n",
    "class Mammal(Animal):\n",
    "    def __init__(self, name, species, fur_color):\n",
    "        super().__init__(name, species)\n",
    "        self.fur_color = fur_color\n",
    "\n",
    "    def make_sound(self):\n",
    "        print(f\"{self.name} makes a generic mammal sound.\")\n",
    "\n",
    "    def move(self):\n",
    "        print(f\"{self.name} is walking.\")\n",
    "\n",
    "# Subclass for Birds\n",
    "class Bird(Animal):\n",
    "    def __init__(self, name, species, feather_color):\n",
    "        super().__init__(name, species)\n",
    "        self.feather_color = feather_color\n",
    "\n",
    "    def make_sound(self):\n",
    "        print(f\"{self.name} chirps.\")\n",
    "\n",
    "    def move(self):\n",
    "        print(f\"{self.name} is flying.\")\n",
    "\n",
    "# Subclass for Fish\n",
    "class Fish(Animal):\n",
    "    def __init__(self, name, species, scale_color):\n",
    "        super().__init__(name, species)\n",
    "        self.scale_color = scale_color\n",
    "\n",
    "    def make_sound(self):\n",
    "        print(f\"{self.name} makes bubbles.\")\n",
    "\n",
    "    def move(self):\n",
    "        print(f\"{self.name} is swimming.\")\n",
    "\n",
    "# Example usage\n",
    "if __name__ == \"__main__\":\n",
    "    dog = Mammal(name=\"Buddy\", species=\"Dog\", fur_color=\"Brown\")\n",
    "    sparrow = Bird(name=\"Tweetie\", species=\"Sparrow\", feather_color=\"Yellow\")\n",
    "    goldfish = Fish(name=\"Finny\", species=\"Goldfish\", scale_color=\"Orange\")\n",
    "\n",
    "    # Calling common methods\n",
    "    dog.make_sound()\n",
    "    dog.move()\n",
    "    dog.eat()\n",
    "    dog.sleep()\n",
    "\n",
    "    sparrow.make_sound()\n",
    "    sparrow.move()\n",
    "    sparrow.eat()\n",
    "    sparrow.sleep()\n",
    "\n",
    "    goldfish.make_sound()\n",
    "    goldfish.move()\n",
    "    goldfish.eat()\n",
    "    goldfish.sleep()\n"
   ]
  },
  {
   "cell_type": "markdown",
   "id": "76a7f154",
   "metadata": {},
   "source": [
    "Explanation:\n",
    "1. the Animal class is an abstract base class with common methods like eat() and sleep().\n",
    "2. The Mammal, Bird, and Fish classes are subclasses that inherit from the Animal class and provide concrete implementations for    the abstract methods make_sound() and move(). \n",
    "3. Each subclass also has its own unique attributes, such as fur_color, feather_color, and scale_color. "
   ]
  },
  {
   "cell_type": "markdown",
   "id": "8bb435c7",
   "metadata": {},
   "source": [
    "# 9. Explain the significance of encapsulation in achieving abstraction. Provide examples"
   ]
  },
  {
   "cell_type": "markdown",
   "id": "6207ba8c",
   "metadata": {},
   "source": [
    "Encapsulation is one of the fundamental principles of object-oriented programming (OOP) and plays a crucial role in achieving abstraction. Encapsulation involves bundling the data (attributes) and the methods (functions) that operate on the data into a single unit known as a class. This concept helps in hiding the internal implementation details of an object and exposing only what is necessary for the outside world to interact with it. In other words, encapsulation provides a protective barrier that restricts the access to certain components of an object.\n",
    "\n",
    "Here are some key points illustrating the significance of encapsulation in achieving abstraction:\n",
    "\n",
    "1. Data Hiding:\n",
    "Encapsulation allows the hiding of the internal state (attributes) of an object from the external world. This prevents direct access to the object's data, promoting a level of security and control over how the data is manipulated."
   ]
  },
  {
   "cell_type": "code",
   "execution_count": 6,
   "id": "f9703404",
   "metadata": {},
   "outputs": [
    {
     "name": "stdout",
     "output_type": "stream",
     "text": [
      "1000\n"
     ]
    }
   ],
   "source": [
    "class BankAccount:\n",
    "    def __init__(self, account_number, balance):\n",
    "        self._account_number = account_number  # Encapsulation: hiding internal details\n",
    "        self._balance = balance\n",
    "\n",
    "    def get_balance(self):\n",
    "        return self._balance\n",
    "\n",
    "    def deposit(self, amount):\n",
    "        self._balance += amount\n",
    "\n",
    "    def withdraw(self, amount):\n",
    "        if amount <= self._balance:\n",
    "            self._balance -= amount\n",
    "        else:\n",
    "            print(\"Insufficient funds.\")\n",
    "\n",
    "# Usage\n",
    "account = BankAccount(account_number=\"123456\", balance=1000)\n",
    "print(account.get_balance())  # Accessing data through methods\n",
    "account.withdraw(500)\n"
   ]
  },
  {
   "cell_type": "markdown",
   "id": "832c9fef",
   "metadata": {},
   "source": [
    "2. Implementation Flexibility:\n",
    "Encapsulation allows the internal implementation of a class to change without affecting the external code that uses the class. This flexibility is crucial for maintaining and evolving a codebase over time."
   ]
  },
  {
   "cell_type": "code",
   "execution_count": 7,
   "id": "c70ef904",
   "metadata": {},
   "outputs": [
    {
     "name": "stdout",
     "output_type": "stream",
     "text": [
      "2022 Toyota Camry\n"
     ]
    }
   ],
   "source": [
    "class Car:\n",
    "    def __init__(self, make, model, year):\n",
    "        self._make = make\n",
    "        self._model = model\n",
    "        self._year = year\n",
    "\n",
    "    def get_info(self):\n",
    "        return f\"{self._year} {self._make} {self._model}\"\n",
    "\n",
    "# External code is not affected if internal details change\n",
    "car = Car(make=\"Toyota\", model=\"Camry\", year=2022)\n",
    "print(car.get_info())"
   ]
  },
  {
   "cell_type": "markdown",
   "id": "3ba408f7",
   "metadata": {},
   "source": [
    "3. Abstraction:\n",
    "Encapsulation facilitates abstraction by providing a clear separation between the external interface (public methods) and the internal details (private attributes and methods) of an object. Users of the class interact with a simplified interface, allowing them to use the object without needing to understand or worry about its internal workings."
   ]
  },
  {
   "cell_type": "code",
   "execution_count": 8,
   "id": "126a411c",
   "metadata": {},
   "outputs": [
    {
     "name": "stdout",
     "output_type": "stream",
     "text": [
      "True\n"
     ]
    }
   ],
   "source": [
    "class LightBulb:\n",
    "    def __init__(self):\n",
    "        self._is_on = False  # Encapsulation: hiding internal details\n",
    "\n",
    "    def turn_on(self):\n",
    "        self._is_on = True\n",
    "\n",
    "    def turn_off(self):\n",
    "        self._is_on = False\n",
    "\n",
    "    def is_on(self):\n",
    "        return self._is_on\n",
    "\n",
    "# External code interacts with a simplified interface\n",
    "bulb = LightBulb()\n",
    "bulb.turn_on()\n",
    "print(bulb.is_on())"
   ]
  },
  {
   "cell_type": "markdown",
   "id": "350880c9",
   "metadata": {},
   "source": [
    "encapsulation provides a way to hide the complexity of the internal implementation of an object, allowing for better control, security, and flexibility. It plays a vital role in achieving abstraction by exposing a simplified and well-defined interface to the outside world."
   ]
  },
  {
   "cell_type": "markdown",
   "id": "4def9943",
   "metadata": {},
   "source": [
    "# 10. What is the purpose of abstract methods, and how do they enforce abstraction in Python classes."
   ]
  },
  {
   "cell_type": "markdown",
   "id": "e0a13c82",
   "metadata": {},
   "source": [
    "Abstract methods in Python are methods declared in an abstract base class (ABC) that do not have an implementation in the base class itself. Instead, their implementation is left to the subclasses that inherit from the abstract base class. The purpose of abstract methods is to define a common interface that all subclasses must adhere to, ensuring that certain methods are implemented consistently across different subclasses.\n",
    "\n",
    "Here are the key purposes and how abstract methods enforce abstraction in Python classes:\n",
    "\n",
    "1. Common Interface:\n",
    "Abstract methods define a common interface for a group of related classes. They specify a set of methods that must be implemented by any concrete (non-abstract) subclass. This ensures a consistent structure across different classes, promoting a shared understanding of how to interact with objects of those classes.\n",
    "\n",
    "2. Forcing Implementation in Subclasses:\n",
    "When a method is declared as abstract in an abstract base class, any concrete subclass must provide an implementation for that method. If a subclass fails to do so, Python raises a TypeError at runtime, indicating that the subclass is not fully implementing the abstract methods.\n",
    "\n",
    "3. Enforcing Abstraction:\n",
    "Abstract methods enforce abstraction by emphasizing the \"what\" (the method signature) without specifying the \"how\" (the implementation details). This separation of concerns allows the abstract base class to define a high-level structure or behavior, leaving the specific details to be implemented by subclasses.\n",
    "\n",
    "4. Providing a Template for Subclasses:\n",
    "Abstract methods serve as a template or blueprint for subclasses. They guide the design of concrete classes by specifying the essential methods that must be present. This helps maintain a consistent structure and behavior across different subclasses.\n",
    "Here's an example illustrating the use of abstract methods in Python:"
   ]
  },
  {
   "cell_type": "code",
   "execution_count": 9,
   "id": "a8f79a01",
   "metadata": {},
   "outputs": [
    {
     "name": "stdout",
     "output_type": "stream",
     "text": [
      "Rectangle Area: 15\n",
      "Rectangle Perimeter: 16\n",
      "Circle Area: 50.24\n",
      "Circle Perimeter: 25.12\n"
     ]
    }
   ],
   "source": [
    "from abc import ABC, abstractmethod\n",
    "\n",
    "# Abstract base class with abstract method\n",
    "class Shape(ABC):\n",
    "    @abstractmethod\n",
    "    def area(self):\n",
    "        pass\n",
    "\n",
    "    @abstractmethod\n",
    "    def perimeter(self):\n",
    "        pass\n",
    "\n",
    "# Concrete subclass implementing abstract methods\n",
    "class Rectangle(Shape):\n",
    "    def __init__(self, length, width):\n",
    "        self.length = length\n",
    "        self.width = width\n",
    "\n",
    "    def area(self):\n",
    "        return self.length * self.width\n",
    "\n",
    "    def perimeter(self):\n",
    "        return 2 * (self.length + self.width)\n",
    "\n",
    "# Concrete subclass implementing abstract methods\n",
    "class Circle(Shape):\n",
    "    def __init__(self, radius):\n",
    "        self.radius = radius\n",
    "\n",
    "    def area(self):\n",
    "        return 3.14 * self.radius * self.radius\n",
    "\n",
    "    def perimeter(self):\n",
    "        return 2 * 3.14 * self.radius\n",
    "\n",
    "# Usage\n",
    "rectangle = Rectangle(length=5, width=3)\n",
    "circle = Circle(radius=4)\n",
    "\n",
    "print(\"Rectangle Area:\", rectangle.area())\n",
    "print(\"Rectangle Perimeter:\", rectangle.perimeter())\n",
    "\n",
    "print(\"Circle Area:\", circle.area())\n",
    "print(\"Circle Perimeter:\", circle.perimeter())"
   ]
  },
  {
   "cell_type": "markdown",
   "id": "b8156289",
   "metadata": {},
   "source": [
    "Explanation:\n",
    "1. Shape class is an abstract base class with abstract methods area() and perimeter(). \n",
    "2. The Rectangle and Circle classes are concrete subclasses that inherit from Shape and provide implementations for these          abstract methods.\n",
    "3. The abstract methods in the base class ensure that any subclass must provide its version of these methods, enforcing a          consistent interface for all shapes."
   ]
  },
  {
   "cell_type": "markdown",
   "id": "576efab0",
   "metadata": {},
   "source": [
    "# 11. Create a Python class for a vehicle system and demonstrate abstraction by defining common methods (e.g., `start()`, `stop()`) in an abstract base class."
   ]
  },
  {
   "cell_type": "code",
   "execution_count": 10,
   "id": "ad2163c6",
   "metadata": {},
   "outputs": [
    {
     "name": "stdout",
     "output_type": "stream",
     "text": [
      "Toyota Camry starts.\n",
      "Toyota Camry honks.\n",
      "Toyota Camry stops.\n",
      "Harley-Davidson Sportster roars to life.\n",
      "Harley-Davidson Sportster honks.\n",
      "Harley-Davidson Sportster comes to a stop.\n"
     ]
    }
   ],
   "source": [
    "from abc import ABC, abstractmethod\n",
    "\n",
    "# Define the abstract base class for vehicles\n",
    "class Vehicle(ABC):\n",
    "    def __init__(self, make, model, year):\n",
    "        self.make = make\n",
    "        self.model = model\n",
    "        self.year = year\n",
    "        self.is_running = False  # Represents the running state of the vehicle\n",
    "\n",
    "    @abstractmethod\n",
    "    def start(self):\n",
    "        pass\n",
    "\n",
    "    @abstractmethod\n",
    "    def stop(self):\n",
    "        pass\n",
    "\n",
    "    def honk(self):\n",
    "        print(f\"{self.make} {self.model} honks.\")\n",
    "\n",
    "# Subclass for Cars\n",
    "class Car(Vehicle):\n",
    "    def __init__(self, make, model, year, num_doors):\n",
    "        super().__init__(make, model, year)\n",
    "        self.num_doors = num_doors\n",
    "\n",
    "    def start(self):\n",
    "        if not self.is_running:\n",
    "            print(f\"{self.make} {self.model} starts.\")\n",
    "            self.is_running = True\n",
    "        else:\n",
    "            print(f\"{self.make} {self.model} is already running.\")\n",
    "\n",
    "    def stop(self):\n",
    "        if self.is_running:\n",
    "            print(f\"{self.make} {self.model} stops.\")\n",
    "            self.is_running = False\n",
    "        else:\n",
    "            print(f\"{self.make} {self.model} is already stopped.\")\n",
    "\n",
    "# Subclass for Motorcycles\n",
    "class Motorcycle(Vehicle):\n",
    "    def __init__(self, make, model, year):\n",
    "        super().__init__(make, model, year)\n",
    "\n",
    "    def start(self):\n",
    "        if not self.is_running:\n",
    "            print(f\"{self.make} {self.model} roars to life.\")\n",
    "            self.is_running = True\n",
    "        else:\n",
    "            print(f\"{self.make} {self.model} is already running.\")\n",
    "\n",
    "    def stop(self):\n",
    "        if self.is_running:\n",
    "            print(f\"{self.make} {self.model} comes to a stop.\")\n",
    "            self.is_running = False\n",
    "        else:\n",
    "            print(f\"{self.make} {self.model} is already stopped.\")\n",
    "\n",
    "# Example usage\n",
    "if __name__ == \"__main__\":\n",
    "    car = Car(make=\"Toyota\", model=\"Camry\", year=2022, num_doors=4)\n",
    "    motorcycle = Motorcycle(make=\"Harley-Davidson\", model=\"Sportster\", year=2021)\n",
    "\n",
    "    # Calling common methods\n",
    "    car.start()\n",
    "    car.honk()\n",
    "    car.stop()\n",
    "\n",
    "    motorcycle.start()\n",
    "    motorcycle.honk()\n",
    "    motorcycle.stop()\n"
   ]
  },
  {
   "cell_type": "markdown",
   "id": "d8da2ff3",
   "metadata": {},
   "source": [
    "Explanation:\n",
    "1. Vehicle class is an abstract base class with common methods start() and stop(). \n",
    "2. The Car and Motorcycle classes are concrete subclasses that inherit from Vehicle and provide implementations for these          abstract methods. \n",
    "3. Each subclass also has its unique attributes (num_doors for cars, none for motorcycles) and can have additional methods          specific to its type."
   ]
  },
  {
   "cell_type": "markdown",
   "id": "cdb7496d",
   "metadata": {},
   "source": [
    "# 12. Describe the use of abstract properties in Python and how they can be employed in abstract classes."
   ]
  },
  {
   "cell_type": "markdown",
   "id": "ea7665ad",
   "metadata": {},
   "source": [
    "In Python, abstract properties are used in abstract classes to define properties that must be implemented by any concrete (i.e., non-abstract) subclass. Abstract classes in Python are created using the ABC (Abstract Base Class) module. Abstract properties, in particular, are created using the @property decorator in conjunction with the abstractmethod decorator.\n",
    "\n",
    "Here's an example demonstrating the use of abstract properties in Python abstract classes:"
   ]
  },
  {
   "cell_type": "code",
   "execution_count": 11,
   "id": "fe81023b",
   "metadata": {},
   "outputs": [
    {
     "name": "stdout",
     "output_type": "stream",
     "text": [
      "25\n",
      "20\n",
      "28.26\n",
      "18.84\n"
     ]
    }
   ],
   "source": [
    "from abc import ABC, abstractmethod\n",
    "\n",
    "class Shape(ABC):\n",
    "    @property\n",
    "    @abstractmethod\n",
    "    def area(self):\n",
    "        pass\n",
    "\n",
    "    @property\n",
    "    @abstractmethod\n",
    "    def perimeter(self):\n",
    "        pass\n",
    "\n",
    "class Square(Shape):\n",
    "    def __init__(self, side_length):\n",
    "        self.side_length = side_length\n",
    "\n",
    "    @property\n",
    "    def area(self):\n",
    "        return self.side_length ** 2\n",
    "\n",
    "    @property\n",
    "    def perimeter(self):\n",
    "        return 4 * self.side_length\n",
    "\n",
    "class Circle(Shape):\n",
    "    def __init__(self, radius):\n",
    "        self.radius = radius\n",
    "\n",
    "    @property\n",
    "    def area(self):\n",
    "        return 3.14 * self.radius ** 2\n",
    "\n",
    "    @property\n",
    "    def perimeter(self):\n",
    "        return 2 * 3.14 * self.radius\n",
    "\n",
    "# Uncommenting the following lines would raise a TypeError, as the abstract methods are not implemented.\n",
    "# shape = Shape()  # This would raise an error\n",
    "# square = Square(5)  # This would work fine\n",
    "# circle = Circle(3)  # This would work fine\n",
    "\n",
    "print(Square(5).area)  # Output: 25\n",
    "print(Square(5).perimeter)  # Output: 20\n",
    "print(Circle(3).area)  # Output: 28.26\n",
    "print(Circle(3).perimeter)  # Output: 18.84\n"
   ]
  },
  {
   "cell_type": "markdown",
   "id": "01500147",
   "metadata": {},
   "source": [
    "Explanation:\n",
    "1. the Shape class is an abstract class with two abstract properties:area and perimeter. \n",
    "2. Concrete subclasses (Square and Circle) are then created, and they must implement these abstract properties. \n",
    "3. Attempting to create an instance of Shape directly would result in a TypeError because abstract classes cannot be                instantiated."
   ]
  },
  {
   "cell_type": "markdown",
   "id": "dff1b2ed",
   "metadata": {},
   "source": [
    "# 13. Create a Python class hierarchy for employees in a company (e.g., manager, developer, designer) and implement abstraction by defining a common `get_salary()` method."
   ]
  },
  {
   "cell_type": "code",
   "execution_count": 12,
   "id": "fb160a39",
   "metadata": {},
   "outputs": [
    {
     "name": "stdout",
     "output_type": "stream",
     "text": [
      "Name: John Doe\n",
      "Employee ID: M001\n",
      "Salary: $69000.0\n",
      "Name: Alice Smith\n",
      "Employee ID: D001\n",
      "Salary: $60000\n",
      "Name: Bob Johnson\n",
      "Employee ID: DS001\n",
      "Salary: $50000\n"
     ]
    }
   ],
   "source": [
    "from abc import ABC, abstractmethod\n",
    "\n",
    "class Employee(ABC):\n",
    "    def __init__(self, name, employee_id):\n",
    "        self.name = name\n",
    "        self.employee_id = employee_id\n",
    "\n",
    "    @abstractmethod\n",
    "    def get_salary(self):\n",
    "        \n",
    "# Abstract method to be implemented by concrete subclasses.\n",
    "# Returns the salary of the employee.\n",
    "        \n",
    "        pass\n",
    "\n",
    "    def display_info(self):\n",
    "# Display basic information about the employee.\n",
    "        print(f\"Name: {self.name}\")\n",
    "        print(f\"Employee ID: {self.employee_id}\")\n",
    "\n",
    "class Manager(Employee):\n",
    "    def __init__(self, name, employee_id, bonus_percentage):\n",
    "        super().__init__(name, employee_id)\n",
    "        self.bonus_percentage = bonus_percentage\n",
    "\n",
    "    def get_salary(self):\n",
    "# Override the abstract method to calculate the salary for a manager.\n",
    "        base_salary = 60000\n",
    "        bonus = base_salary * (self.bonus_percentage / 100)\n",
    "        total_salary = base_salary + bonus\n",
    "        return total_salary\n",
    "\n",
    "class Developer(Employee):\n",
    "    def __init__(self, name, employee_id, programming_language):\n",
    "        super().__init__(name, employee_id)\n",
    "        self.programming_language = programming_language\n",
    "\n",
    "    def get_salary(self):\n",
    "# Override the abstract method to calculate the salary for a developer.\n",
    "        base_salary = 50000\n",
    "        if self.programming_language.lower() == 'python':\n",
    "            bonus = 10000\n",
    "        else:\n",
    "            bonus = 5000\n",
    "        total_salary = base_salary + bonus\n",
    "        return total_salary\n",
    "\n",
    "class Designer(Employee):\n",
    "    def __init__(self, name, employee_id, experience_years):\n",
    "        super().__init__(name, employee_id)\n",
    "        self.experience_years = experience_years\n",
    "\n",
    "    def get_salary(self):\n",
    "# Override the abstract method to calculate the salary for a designer.\n",
    "        base_salary = 45000\n",
    "        experience_bonus = self.experience_years * 1000\n",
    "        total_salary = base_salary + experience_bonus\n",
    "        return total_salary\n",
    "\n",
    "# Example usage:\n",
    "manager = Manager(\"John Doe\", \"M001\", bonus_percentage=15)\n",
    "developer = Developer(\"Alice Smith\", \"D001\", programming_language=\"Python\")\n",
    "designer = Designer(\"Bob Johnson\", \"DS001\", experience_years=5)\n",
    "\n",
    "manager.display_info()\n",
    "print(f\"Salary: ${manager.get_salary()}\")\n",
    "\n",
    "developer.display_info()\n",
    "print(f\"Salary: ${developer.get_salary()}\")\n",
    "\n",
    "designer.display_info()\n",
    "print(f\"Salary: ${designer.get_salary()}\")\n"
   ]
  },
  {
   "cell_type": "markdown",
   "id": "c6ec1845",
   "metadata": {},
   "source": [
    "Explanation:\n",
    "1. Employee class is the abstract base class with the abstract method get_salary(). \n",
    "2. The concrete subclasses (Manager, Developer, and Designer) inherit from Employee and provide their own implementations of the    get_salary() method. \n",
    "3. The display_info() method is a common method shared by all employee types to display basic information."
   ]
  },
  {
   "cell_type": "markdown",
   "id": "818c8082",
   "metadata": {},
   "source": [
    "# 14. Discuss the differences between abstract classes and concrete classes in Python, including their instantiation"
   ]
  },
  {
   "cell_type": "markdown",
   "id": "cc0a5b66",
   "metadata": {},
   "source": [
    "In Python, abstract classes and concrete classes serve different purposes and have distinct characteristics. Let's discuss the key differences between abstract classes and concrete classes, including their instantiation:\n",
    "\n",
    "Abstract Classes:\n",
    "1. Purpose:\n",
    "Abstract classes are designed to be base classes for other classes. They provide a common interface but are not meant to be instantiated on their own.\n",
    "Abstract classes typically contain one or more abstract methods (methods without a body), which must be implemented by concrete subclasses.\n",
    "\n",
    "2. Instantiation:\n",
    "Cannot be instantiated directly. Attempting to create an instance of an abstract class will result in a TypeError.\n",
    "Abstract classes are meant to be subclassed, and instances of concrete subclasses are created instead.\n",
    "\n",
    "3. Syntax:\n",
    "Abstract classes are often created using the ABC (Abstract Base Class) module in Python.\n",
    "Abstract methods within abstract classes are marked with the @abstractmethod decorator.\n",
    "Example:"
   ]
  },
  {
   "cell_type": "code",
   "execution_count": null,
   "id": "6ee45470",
   "metadata": {},
   "outputs": [],
   "source": [
    "from abc import ABC, abstractmethod\n",
    "\n",
    "class MyAbstractClass(ABC):\n",
    "    @abstractmethod\n",
    "    def my_abstract_method(self):\n",
    "        pass"
   ]
  },
  {
   "cell_type": "markdown",
   "id": "c6e369db",
   "metadata": {},
   "source": [
    "Concrete Classes:\n",
    "1. Purpose:\n",
    "Concrete classes are meant to be instantiated directly. They provide complete implementations for all methods, including those inherited from abstract classes.\n",
    "\n",
    "2. Instantiation:\n",
    "Can be instantiated directly. Objects of concrete classes can be created using their constructors.\n",
    "Instances of concrete classes can also be created through inheritance from an abstract class.\n",
    "\n",
    "3. Syntax:\n",
    "Concrete classes do not necessarily require any specific syntax related to being concrete. They are just regular classes that provide implementations for all abstract methods.\n",
    "Example:"
   ]
  },
  {
   "cell_type": "code",
   "execution_count": null,
   "id": "24d03ee8",
   "metadata": {},
   "outputs": [],
   "source": [
    "class MyConcreteClass(MyAbstractClass):\n",
    "    def my_abstract_method(self):\n",
    "        print(\"Implementation of my_abstract_method in the concrete class.\")\n",
    "\n",
    "    def my_additional_method(self):\n",
    "        print(\"Additional method in the concrete class.\")\n"
   ]
  },
  {
   "cell_type": "markdown",
   "id": "0ea858fb",
   "metadata": {},
   "source": [
    "Abstract classes provide a blueprint for other classes and cannot be instantiated directly. They may contain abstract methods that must be implemented by concrete subclasses. Concrete classes, on the other hand, provide complete implementations for all methods and can be instantiated directly. Instances of concrete classes can also be created through inheritance from abstract classes."
   ]
  },
  {
   "cell_type": "markdown",
   "id": "75f80c01",
   "metadata": {},
   "source": [
    "# 15. Explain the concept of abstract data types (ADTs) and their role in achieving abstraction in Python."
   ]
  },
  {
   "cell_type": "markdown",
   "id": "45cf4325",
   "metadata": {},
   "source": [
    "Abstract Data Types (ADTs) are a high-level description of a set of operations that can be performed on a data structure, without specifying how these operations are implemented. The idea is to abstract away the details of the implementation, focusing on what operations can be performed and what their expected behavior is. This helps in achieving a level of abstraction that allows for modular design and implementation of programs.\n",
    "\n",
    "In Python, which is a dynamically typed and high-level programming language, ADTs are often implemented using classes. Classes in Python can be used to define a blueprint for objects, and methods within these classes can represent the operations associated with the ADT. Let's take a simple example to illustrate this concept:"
   ]
  },
  {
   "cell_type": "code",
   "execution_count": 14,
   "id": "2df3c438",
   "metadata": {},
   "outputs": [],
   "source": [
    "class Stack:\n",
    "    def __init__(self):\n",
    "        self.items = []\n",
    "\n",
    "    def is_empty(self):\n",
    "        return len(self.items) == 0\n",
    "\n",
    "    def push(self, item):\n",
    "        self.items.append(item)\n",
    "\n",
    "    def pop(self):\n",
    "        if not self.is_empty():\n",
    "            return self.items.pop()\n",
    "        else:\n",
    "            raise IndexError(\"pop from an empty stack\")\n",
    "\n",
    "    def peek(self):\n",
    "        if not self.is_empty():\n",
    "            return self.items[-1]\n",
    "        else:\n",
    "            raise IndexError(\"peek from an empty stack\")\n",
    "\n",
    "    def size(self):\n",
    "        return len(self.items)\n"
   ]
  },
  {
   "cell_type": "markdown",
   "id": "33a569dc",
   "metadata": {},
   "source": [
    "1. we have defined a simple stack as an ADT. The methods (is_empty, push, pop, peek, size) represent the operations associated      with a stack. \n",
    "2. The underlying implementation, which uses a Python list (self.items), is hidden from the user. \n",
    "3. This allows the user to interact with the stack at a higher level of abstraction without worrying about the details of how      the stack is implemented."
   ]
  },
  {
   "cell_type": "markdown",
   "id": "040d281e",
   "metadata": {},
   "source": [
    "# 16. Create a Python class for a computer system, demonstrating abstraction by defining common methods (e.g., `power_on()`, `shutdown()`) in an abstract base class."
   ]
  },
  {
   "cell_type": "code",
   "execution_count": 11,
   "id": "3a274197",
   "metadata": {},
   "outputs": [
    {
     "name": "stdout",
     "output_type": "stream",
     "text": [
      "Desktop Computer is powering on.\n",
      "Desktop Computer is shutting down.\n",
      "Desktop Computer is rebooting.\n",
      "\n",
      "Laptop Computer is powering on.\n",
      "Laptop Computer is shutting down.\n",
      "Laptop Computer is rebooting.\n"
     ]
    }
   ],
   "source": [
    "from abc import ABC, abstractmethod\n",
    "\n",
    "# Abstract Base Class for ComputerSystem\n",
    "class ComputerSystem(ABC):\n",
    "\n",
    "    @abstractmethod\n",
    "    def power_on(self):\n",
    "#  Abstract method to power on the computer system.\n",
    "        pass\n",
    "\n",
    "    @abstractmethod\n",
    "    def shutdown(self):\n",
    "# Abstract method to shut down the computer system.\n",
    "        pass\n",
    "\n",
    "    @abstractmethod\n",
    "    def reboot(self):\n",
    "# Abstract method to reboot the computer system.\n",
    "        pass\n",
    "\n",
    "# Concrete class implementing ComputerSystem\n",
    "class DesktopComputer(ComputerSystem):\n",
    "\n",
    "    def power_on(self):\n",
    "# Implementation of the power on method for a desktop computer.\n",
    "        print(\"Desktop Computer is powering on.\")\n",
    "\n",
    "    def shutdown(self):\n",
    "# Implementation of the shutdown method for a desktop computer.\n",
    "        print(\"Desktop Computer is shutting down.\")\n",
    "\n",
    "    def reboot(self):\n",
    "#  Implementation of the reboot method for a desktop computer.\n",
    "        print(\"Desktop Computer is rebooting.\")\n",
    "\n",
    "# Concrete class implementing ComputerSystem\n",
    "class LaptopComputer(ComputerSystem):\n",
    "\n",
    "    def power_on(self):\n",
    "# Implementation of the power on method for a laptop computer.\n",
    "        print(\"Laptop Computer is powering on.\")\n",
    "\n",
    "    def shutdown(self):\n",
    "# Implementation of the shutdown method for a laptop computer.\n",
    "        print(\"Laptop Computer is shutting down.\")\n",
    "\n",
    "    def reboot(self):\n",
    "# Implementation of the reboot method for a laptop computer.\n",
    "        print(\"Laptop Computer is rebooting.\")\n",
    "\n",
    "# Example usage\n",
    "if __name__ == \"__main__\":\n",
    "    desktop = DesktopComputer()\n",
    "    laptop = LaptopComputer()\n",
    "\n",
    "    desktop.power_on()\n",
    "    desktop.shutdown()\n",
    "    desktop.reboot()\n",
    "\n",
    "    print()\n",
    "\n",
    "    laptop.power_on()\n",
    "    laptop.shutdown()\n",
    "    laptop.reboot()\n"
   ]
  },
  {
   "cell_type": "markdown",
   "id": "29fc1a42",
   "metadata": {},
   "source": [
    "Explanation:\n",
    "1. ComputerSystem is an abstract base class (ABC) that defines the common methods power_on, shutdown, and reboot as abstract        methods using the @abstractmethod decorator. \n",
    "2. These methods are the interface for any class that inherits from ComputerSystem.\n",
    "3. DesktopComputer and LaptopComputer are concrete classes that inherit from ComputerSystem. \n",
    "4. They provide concrete implementations for the abstract methods.\n",
    "5. The example usage section demonstrates creating instances of DesktopComputer and LaptopComputer and calling their methods."
   ]
  },
  {
   "cell_type": "markdown",
   "id": "57b36d1b",
   "metadata": {},
   "source": [
    "# 17. Discuss the benefits of using abstraction in large-scale software development projects"
   ]
  },
  {
   "cell_type": "markdown",
   "id": "ecbbe6cc",
   "metadata": {},
   "source": [
    "Abstraction is a fundamental concept in software development that involves simplifying complex systems by representing the essential features while suppressing unnecessary details. It plays a crucial role in large-scale software development projects, offering a variety of benefits:\n",
    "\n",
    "1. Complexity Management:\n",
    "Simplification: Abstraction allows developers to focus on high-level concepts and hide the details that are not relevant to the current level of discussion. This simplification helps manage the overall complexity of the software.\n",
    "\n",
    "2. Modularity:\n",
    "Encapsulation: Abstraction enables encapsulation by grouping related functionalities into modules or classes. Each module can be treated as a black box, exposing only the necessary interfaces to the rest of the system. This modularity facilitates ease of maintenance, testing, and updates.\n",
    "\n",
    "3. Reusability:\n",
    "Generic Solutions: Abstracting common functionalities into reusable components or libraries promotes code reuse. This reduces redundancy, accelerates development, and ensures consistency across the project.\n",
    "\n",
    "4. Scalability:\n",
    "Hierarchical Structure: Abstraction facilitates the creation of a hierarchical structure within a software system. This allows developers to scale the project by adding new features or modules without affecting existing functionality, provided the interfaces remain consistent.\n",
    "\n",
    "5. Maintainability:\n",
    "Isolation of Changes: Changes to the implementation details of an abstraction are isolated from the rest of the system. This means that modifications to one part of the codebase do not necessarily require changes to other parts, making the system more maintainable.\n",
    "\n",
    "6. Understanding and Communication:\n",
    "Conceptual Clarity: Abstraction provides a higher-level view of the system, making it easier for developers to understand the architecture and design. This clarity improves communication among team members and stakeholders, especially in large development teams.\n",
    "\n",
    "7. Flexibility and Adaptability:\n",
    "Replaceability: Abstraction allows for the substitution of one implementation with another as long as the interface remains the same. This flexibility is essential for adapting to changing requirements or incorporating new technologies without affecting the entire system.\n",
    "\n",
    "8. Testing and Debugging:\n",
    "Isolation of Components: Abstraction aids in isolating components during testing and debugging. Developers can focus on testing individual modules or classes independently, leading to more effective identification and resolution of issues.\n",
    "\n",
    "9. Security:\n",
    "Encapsulation of Sensitive Information: Abstraction helps in encapsulating sensitive information, providing a layer of security by controlling access to critical parts of the system. This is particularly important for protecting data and preventing unauthorized access.\n",
    "\n",
    "10. Project Planning and Documentation:\n",
    "Abstraction Levels: Different abstraction levels support project planning and documentation. High-level abstractions can be used in project documentation and discussions with stakeholders, while lower-level abstractions are used for detailed design and implementation.\n",
    "\n",
    "\n",
    "Summary:\n",
    "abstraction is a powerful tool in large-scale software development, providing benefits such as complexity management, modularity, reusability, scalability, maintainability, improved communication, flexibility, testing support, security, and enhanced project planning and documentation. These advantages contribute to the overall success and sustainability of large software projects."
   ]
  },
  {
   "cell_type": "markdown",
   "id": "f5f9bbc9",
   "metadata": {},
   "source": [
    "# 18. Explain how abstraction enhances code reusability and modularity in Python programs."
   ]
  },
  {
   "cell_type": "markdown",
   "id": "5e3ec393",
   "metadata": {},
   "source": [
    "Abstraction enhances code reusability and modularity in Python programs by allowing developers to create generalized, high-level representations of functionality while hiding implementation details. This is achieved through various mechanisms in Python:\n",
    "\n",
    "1. Functions and Methods:\n",
    "a) Abstraction through Functions: Defining functions abstracts away the implementation details and provides a high-level interface. Functions can be reused across different parts of the program, promoting code reusability.\n",
    "b) Method Abstraction in Classes: Methods within classes encapsulate functionality. By designing classes with clear interfaces and hiding implementation details, developers can create modular and reusable components."
   ]
  },
  {
   "cell_type": "code",
   "execution_count": 16,
   "id": "cb13e57f",
   "metadata": {},
   "outputs": [],
   "source": [
    "# Function abstraction\n",
    "def calculate_area(radius):\n",
    "    return 3.14 * radius * radius\n",
    "\n",
    "# Class abstraction\n",
    "class Circle:\n",
    "    def __init__(self, radius):\n",
    "        self.radius = radius\n",
    "    \n",
    "    def calculate_area(self):\n",
    "        return 3.14 * self.radius * self.radius\n"
   ]
  },
  {
   "cell_type": "markdown",
   "id": "e9d005eb",
   "metadata": {},
   "source": [
    "2. Classes and Object-Oriented Programming (OOP):\n",
    "a) Encapsulation: OOP principles encourage encapsulation, where data and methods are bundled together into classes. This encapsulation promotes modularity, as classes can be treated as independent units with well-defined interfaces.\n",
    "b) Inheritance and Polymorphism: Inheritance allows the creation of specialized classes that inherit from more general classes. Polymorphism enables the use of these specialized classes interchangeably with their parent classes, promoting code reuse."
   ]
  },
  {
   "cell_type": "code",
   "execution_count": null,
   "id": "9d2ca3a0",
   "metadata": {},
   "outputs": [],
   "source": [
    "# Inheritance for code reuse\n",
    "class Shape:\n",
    "    def calculate_area(self):\n",
    "        pass\n",
    "\n",
    "class Circle(Shape):\n",
    "    def __init__(self, radius):\n",
    "        self.radius = radius\n",
    "    \n",
    "    def calculate_area(self):\n",
    "        return 3.14 * self.radius * self.radius\n",
    "\n",
    "class Square(Shape):\n",
    "    def __init__(self, side_length):\n",
    "        self.side_length = side_length\n",
    "    \n",
    "    def calculate_area(self):\n",
    "        return self.side_length * self.side_length\n"
   ]
  },
  {
   "cell_type": "markdown",
   "id": "d8887196",
   "metadata": {},
   "source": [
    "3. Abstract Base Classes (ABCs):\n",
    "a) Formalizing Abstraction: Python's abc module allows the creation of abstract base classes. These classes define abstract methods that must be implemented by concrete subclasses, ensuring a consistent interface and promoting modularity."
   ]
  },
  {
   "cell_type": "code",
   "execution_count": null,
   "id": "19468c5b",
   "metadata": {},
   "outputs": [],
   "source": [
    "from abc import ABC, abstractmethod\n",
    "\n",
    "# Abstract Base Class\n",
    "class Shape(ABC):\n",
    "    @abstractmethod\n",
    "    def calculate_area(self):\n",
    "        pass\n",
    "\n",
    "# Concrete subclasses\n",
    "class Circle(Shape):\n",
    "    def __init__(self, radius):\n",
    "        self.radius = radius\n",
    "    \n",
    "    def calculate_area(self):\n",
    "        return 3.14 * self.radius * self.radius\n",
    "\n",
    "class Square(Shape):\n",
    "    def __init__(self, side_length):\n",
    "        self.side_length = side_length\n",
    "    \n",
    "    def calculate_area(self):\n",
    "        return self.side_length * self.side_length\n"
   ]
  },
  {
   "cell_type": "markdown",
   "id": "92adf0c5",
   "metadata": {},
   "source": [
    "4. Module System:\n",
    "a) Separation of Concerns: Python's module system allows developers to organize code into separate files, each serving a specific purpose. This separation promotes modularity, making it easier to manage and reuse code across different parts of a program or even different projects."
   ]
  },
  {
   "cell_type": "code",
   "execution_count": null,
   "id": "429bfdc0",
   "metadata": {},
   "outputs": [],
   "source": [
    "# Module abstraction\n",
    "# shapes.py\n",
    "class Circle:\n",
    "    def __init__(self, radius):\n",
    "        self.radius = radius\n",
    "    \n",
    "    def calculate_area(self):\n",
    "        return 3.14 * self.radius * self.radius\n",
    "\n",
    "# main.py\n",
    "from shapes import Circle\n",
    "\n",
    "circle = Circle(5)\n",
    "area = circle.calculate_area()\n"
   ]
  },
  {
   "cell_type": "markdown",
   "id": "807d849e",
   "metadata": {},
   "source": [
    "By leveraging these features, Python developers can create code that is both reusable and modular, facilitating the development and maintenance of large-scale programs. Abstraction allows developers to focus on the high-level design of their software, while implementation details are encapsulated within well-defined units, promoting a clean and organized codebase."
   ]
  },
  {
   "cell_type": "markdown",
   "id": "3a7aaf78",
   "metadata": {},
   "source": [
    "# 19. Create a Python class for a library system, implementing abstraction by defining common methods (e.g., `add_book()`, `borrow_book()`) in an abstract base class."
   ]
  },
  {
   "cell_type": "code",
   "execution_count": 9,
   "id": "2a1b1f3e",
   "metadata": {},
   "outputs": [
    {
     "name": "stdout",
     "output_type": "stream",
     "text": [
      "Library Catalog:\n",
      "Book: The Catcher in the Rye by J.D. Salinger\n",
      "ISBN: 978-0-316-76948-0\n",
      "Available: True\n",
      "Book: To Kill a Mockingbird by Harper Lee\n",
      "ISBN: 978-0-06-112008-4\n",
      "Available: True\n",
      "Borrowing The Catcher in the Rye\n",
      "\n",
      "Updated Library Catalog:\n",
      "Book: The Catcher in the Rye by J.D. Salinger\n",
      "ISBN: 978-0-316-76948-0\n",
      "Available: False\n",
      "Book: To Kill a Mockingbird by Harper Lee\n",
      "ISBN: 978-0-06-112008-4\n",
      "Available: True\n"
     ]
    }
   ],
   "source": [
    "from abc import ABC, abstractmethod\n",
    "\n",
    "class LibraryItem(ABC): \n",
    "#  Abstract base class representing a library item.\n",
    "\n",
    "    def __init__(self, title, author):\n",
    "        self.title = title\n",
    "        self.author = author\n",
    "        self.is_available = True\n",
    "\n",
    "    @abstractmethod\n",
    "    def display_info(self):\n",
    "# Abstract method to display information about the library item.\n",
    "        pass\n",
    "\n",
    "class Book(LibraryItem):\n",
    "# Concrete class representing a book in the library.\n",
    "    def __init__(self, title, author, isbn):\n",
    "        super().__init__(title, author)\n",
    "        self.isbn = isbn\n",
    "\n",
    "    def display_info(self):\n",
    "# Implementation of the abstract method to display book information.\n",
    "        print(f\"Book: {self.title} by {self.author}\\nISBN: {self.isbn}\\nAvailable: {self.is_available}\")\n",
    "\n",
    "class Library:\n",
    "# Class representing a library that manages a collection of library items.\n",
    "    def __init__(self):\n",
    "        self.catalog = []\n",
    "\n",
    "    def add_item(self, item):\n",
    "# Add a library item to the catalog.\n",
    "        self.catalog.append(item)\n",
    "\n",
    "    def display_catalog(self):\n",
    "#  Display information about all items in the catalog.\n",
    "        for item in self.catalog:\n",
    "            item.display_info()\n",
    "\n",
    "    def borrow_item(self, item):\n",
    "#  Borrow a library item if it is available.\n",
    "        if item.is_available:\n",
    "            print(f\"Borrowing {item.title}\")\n",
    "            item.is_available = False\n",
    "        else:\n",
    "            print(f\"Sorry, {item.title} is not available for borrowing.\")\n",
    "\n",
    "# Example Usage:\n",
    "\n",
    "# Create a library\n",
    "library = Library()\n",
    "\n",
    "# Create some books\n",
    "book1 = Book(\"The Catcher in the Rye\", \"J.D. Salinger\", \"978-0-316-76948-0\")\n",
    "book2 = Book(\"To Kill a Mockingbird\", \"Harper Lee\", \"978-0-06-112008-4\")\n",
    "\n",
    "# Add books to the library\n",
    "library.add_item(book1)\n",
    "library.add_item(book2)\n",
    "\n",
    "# Display the catalog\n",
    "print(\"Library Catalog:\")\n",
    "library.display_catalog()\n",
    "\n",
    "# Borrow a book\n",
    "library.borrow_item(book1)\n",
    "\n",
    "# Display the catalog after borrowing\n",
    "print(\"\\nUpdated Library Catalog:\")\n",
    "library.display_catalog()"
   ]
  },
  {
   "cell_type": "markdown",
   "id": "19cf745b",
   "metadata": {},
   "source": [
    "Explanation:\n",
    "1. defines an abstract base class LibraryItem with an abstract method display_info. \n",
    "2. The concrete class Book extends LibraryItem and provides an implementation for display_info. \n",
    "3. The Library class manages a catalog of library items and has methods to add items, display the catalog, and borrow items."
   ]
  },
  {
   "cell_type": "markdown",
   "id": "73307435",
   "metadata": {},
   "source": [
    "# 20. Describe the concept of method abstraction in Python and how it relates to polymorphism."
   ]
  },
  {
   "cell_type": "markdown",
   "id": "cc1aa74d",
   "metadata": {},
   "source": [
    "Method abstraction in Python refers to the idea of hiding the implementation details of a method while exposing a simplified and consistent interface to the outside world. This is achieved through the use of abstract methods and abstract classes.\n",
    "\n",
    "1. Abstract Methods and Classes:\n",
    "An abstract method is a method declared in an abstract class but does not provide an implementation in the class itself.\n",
    "An abstract class is a class that contains one or more abstract methods. It cannot be instantiated on its own; instead, it serves as a blueprint for other classes that inherit from it.\n",
    "Here's an example using the abc module in Python:"
   ]
  },
  {
   "cell_type": "code",
   "execution_count": 19,
   "id": "787af0bd",
   "metadata": {},
   "outputs": [],
   "source": [
    "from abc import ABC, abstractmethod\n",
    "\n",
    "class Shape(ABC):\n",
    "    @abstractmethod\n",
    "    def area(self):\n",
    "        pass\n",
    "\n",
    "class Circle(Shape):\n",
    "    def __init__(self, radius):\n",
    "        self.radius = radius\n",
    "\n",
    "    def area(self):\n",
    "        return 3.14 * self.radius * self.radius\n",
    "\n",
    "class Square(Shape):\n",
    "    def __init__(self, side):\n",
    "        self.side = side\n",
    "\n",
    "    def area(self):\n",
    "        return self.side * self.side\n"
   ]
  },
  {
   "cell_type": "markdown",
   "id": "28c65042",
   "metadata": {},
   "source": [
    "2. Polymorphism:\n",
    "a) Polymorphism allows objects of different types to be treated as objects of a common type. It promotes flexibility and            reusability in code.\n",
    "b) In Python, polymorphism is often achieved through method overriding, where a subclass provides a specific implementation for    a method that is already defined in its superclass.\n",
    "In the example above, Circle and Square both have an area method, but the implementation differs based on the specific shape. This enables polymorphism, as you can treat both Circle and Square objects as instances of the common base class Shape. For example:"
   ]
  },
  {
   "cell_type": "code",
   "execution_count": 20,
   "id": "075851a8",
   "metadata": {},
   "outputs": [
    {
     "name": "stdout",
     "output_type": "stream",
     "text": [
      "Area: 78.5\n",
      "Area: 16\n"
     ]
    }
   ],
   "source": [
    "def print_area(shape):\n",
    "    print(f\"Area: {shape.area()}\")\n",
    "\n",
    "circle = Circle(radius=5)\n",
    "square = Square(side=4)\n",
    "\n",
    "print_area(circle)  # Output: Area: 78.5\n",
    "print_area(square)  # Output: Area: 16\n"
   ]
  },
  {
   "cell_type": "markdown",
   "id": "6829c1c8",
   "metadata": {},
   "source": [
    "Summary:\n",
    "1. method abstraction in Python involves creating abstract methods and classes to hide implementation details, and polymorphism    allows objects of different types to be treated as objects of a common type, facilitating code flexibility and reuse. \n",
    "2. The combination of these concepts promotes a clean and modular design in object-oriented programming."
   ]
  },
  {
   "cell_type": "code",
   "execution_count": null,
   "id": "2f443ac8",
   "metadata": {},
   "outputs": [],
   "source": []
  },
  {
   "cell_type": "markdown",
   "id": "77ba21c5",
   "metadata": {},
   "source": [
    "# Composition:"
   ]
  },
  {
   "cell_type": "markdown",
   "id": "2f8f73db",
   "metadata": {},
   "source": [
    "# 1. Explain the concept of composition in Python and how it is used to build complex objects from simpler ones."
   ]
  },
  {
   "cell_type": "markdown",
   "id": "a0dce3ac",
   "metadata": {},
   "source": [
    "In Python, composition is a design principle that allows you to build complex objects by combining simpler ones. It is an alternative to inheritance, where a class can achieve functionality by including instances of other classes rather than inheriting from them. Composition promotes code reuse, modularity, and flexibility.\n",
    "\n",
    "The key idea behind composition is to create classes that are made up of other classes, forming a \"has-a\" relationship rather than an \"is-a\" relationship as seen in inheritance. This means that instead of saying \"a class is a type of another class,\" you say \"a class has another class.\" This makes it easier to change the behavior of a class by modifying its components or adding new ones without affecting the entire class hierarchy.\n",
    "\n",
    "Let's look at an example to illustrate composition in Python:"
   ]
  },
  {
   "cell_type": "code",
   "execution_count": null,
   "id": "09c6181f",
   "metadata": {},
   "outputs": [],
   "source": [
    "class Engine:\n",
    "    def start(self):\n",
    "        print(\"Engine started\")\n",
    "\n",
    "class Car:\n",
    "    def __init__(self):\n",
    "        self.engine = Engine()\n",
    "\n",
    "    def start(self):\n",
    "        print(\"Car is starting\")\n",
    "        self.engine.start()\n",
    "\n",
    "# Using composition to build a complex object\n",
    "my_car = Car()\n",
    "my_car.start()\n"
   ]
  },
  {
   "cell_type": "markdown",
   "id": "94fa5149",
   "metadata": {},
   "source": [
    "Explanation:\n",
    "1. we have two classes: Engine and Car. \n",
    "2. The Car class has an instance variable engine that is an instance of the Engine class.\n",
    "3. This is an example of composition because a car \"has an\" engine.\n",
    "\n",
    "Composition is a powerful tool for building complex systems with reusable and interchangeable components, promoting a more modular and maintainable codebase."
   ]
  },
  {
   "cell_type": "markdown",
   "id": "f5ff526e",
   "metadata": {},
   "source": [
    "# 2. Describe the difference between composition and inheritance in object-oriented programming."
   ]
  },
  {
   "cell_type": "markdown",
   "id": "0a0e80f4",
   "metadata": {},
   "source": [
    "Composition and inheritance are two fundamental concepts in object-oriented programming (OOP) that define relationships between classes. Here's a brief overview of the key differences between composition and inheritance:\n",
    "\n",
    "1. Relationship Type:\n",
    "Inheritance: \n",
    "It represents an \"is-a\" relationship. A subclass inherits the characteristics (attributes and behaviors) of a superclass. For example, a Car class may inherit from a Vehicle class, indicating that a car is a type of vehicle.\n",
    "\n",
    "Composition: \n",
    "It represents a \"has-a\" relationship. Instead of inheriting, a class is composed of instances of other classes. For example, a Car class may have an instance of an Engine class, indicating that a car has an engine.\n",
    "\n",
    "2. Code Reusability:\n",
    "Inheritance: \n",
    "It promotes code reuse by allowing subclasses to inherit and override the behavior of their superclass. However, it can lead to issues like the diamond problem (when a class inherits from two classes that have a common ancestor).\n",
    "\n",
    "Composition:\n",
    "It also promotes code reuse by allowing a class to use instances of other classes as components. Changes in the composed class don't affect the original classes, providing more flexibility.\n",
    "\n",
    "3. Flexibility:\n",
    "Inheritance:\n",
    "While powerful, it can lead to a rigid class hierarchy. Changes in the superclass can impact all subclasses, and it might be challenging to change the behavior of a specific subclass without affecting others.\n",
    "\n",
    "Composition:\n",
    "It provides more flexibility. You can change the behavior of a class by modifying or exchanging its components without changing the class itself. This makes the code more modular and easier to maintain.\n",
    "\n",
    "4. Complexity:\n",
    "Inheritance: \n",
    "It can lead to complex and deep class hierarchies, especially in large systems. This complexity can make the code harder to understand and maintain.\n",
    "\n",
    "Composition: \n",
    "It promotes a flatter class structure, where classes are simpler and have well-defined responsibilities. This can result in more maintainable and understandable code.\n",
    "\n",
    "Dependency:\n",
    "Inheritance: \n",
    "Subclasses are dependent on the implementation details of their superclasses. Changes in the superclass can affect the functionality of all subclasses.\n",
    "\n",
    "Composition:\n",
    "Classes are less dependent on the implementation details of the classes they use as components. Changes in one class typically don't affect the others.\n",
    "\n",
    "Summary:\n",
    "while both composition and inheritance are essential OOP concepts, they serve different purposes and have distinct advantages and disadvantages. The choice between them depends on the specific requirements and design goals of a given application. Often, a combination of both techniques is used to achieve a well-balanced and maintainable codebase."
   ]
  },
  {
   "cell_type": "markdown",
   "id": "296002c5",
   "metadata": {},
   "source": [
    "# 3. Create a Python class called `Author` with attributes for name and birthdate. Then, create a `Book` class that contains an instance of `Author` as a composition. Provide an example of creating a `Book` object."
   ]
  },
  {
   "cell_type": "code",
   "execution_count": 2,
   "id": "8adfa547",
   "metadata": {},
   "outputs": [
    {
     "name": "stdout",
     "output_type": "stream",
     "text": [
      "Title: Example Book\n",
      "Author: John Doe\n",
      "Author's Birthdate: January 1, 1980\n",
      "Published Year: 2023\n"
     ]
    }
   ],
   "source": [
    "class Author:\n",
    "    def __init__(self, name, birthdate):\n",
    "        \"\"\"\n",
    "        Initialize an Author object with a name and birthdate.\n",
    "\n",
    "        Parameters:\n",
    "        - name (str): The name of the author.\n",
    "        - birthdate (str): The birthdate of the author.\n",
    "        \"\"\"\n",
    "        self.name = name\n",
    "        self.birthdate = birthdate\n",
    "\n",
    "class Book:\n",
    "    def __init__(self, title, author, published_year):\n",
    "        \"\"\"\n",
    "        Initialize a Book object with a title, an instance of Author, and published year.\n",
    "\n",
    "        Parameters:\n",
    "        - title (str): The title of the book.\n",
    "        - author (Author): An instance of the Author class representing the book's author.\n",
    "        - published_year (int): The year the book was published.\n",
    "        \"\"\"\n",
    "        self.title = title\n",
    "        self.author = author\n",
    "        self.published_year = published_year\n",
    "\n",
    "# Example of creating an Author object\n",
    "author1 = Author(\"John Doe\", \"January 1, 1980\")\n",
    "\n",
    "# Example of creating a Book object with the Author object\n",
    "book1 = Book(\"Example Book\", author1, 2023)\n",
    "\n",
    "# Accessing attributes of the Book object\n",
    "print(f\"Title: {book1.title}\")\n",
    "print(f\"Author: {book1.author.name}\")\n",
    "print(f\"Author's Birthdate: {book1.author.birthdate}\")\n",
    "print(f\"Published Year: {book1.published_year}\")\n"
   ]
  },
  {
   "cell_type": "markdown",
   "id": "386b0980",
   "metadata": {},
   "source": [
    "Explanation:\n",
    "1. the Author class has attributes name and birthdate.\n",
    "2. The Book class, in turn, contains an instance of the Author class as a composition through the author attribute. \n",
    "3. The example demonstrates the creation of an Author object and a Book object using the defined classes, and then prints some      of their attributes for verification."
   ]
  },
  {
   "cell_type": "markdown",
   "id": "0e074d4e",
   "metadata": {},
   "source": [
    "# 4. Discuss the benefits of using composition over inheritance in Python, especially in terms of code flexibility and reusability"
   ]
  },
  {
   "cell_type": "markdown",
   "id": "4ae648a5",
   "metadata": {},
   "source": [
    "Composition and inheritance are two fundamental concepts in object-oriented programming, and choosing between them depends on the specific requirements of your design. Here are some benefits of using composition over inheritance in Python, particularly in terms of code flexibility and reusability:\n",
    "\n",
    "1. Flexibility:\n",
    "a) Avoiding the Fragile Base Class Problem:\n",
    "Inheritance can lead to the \"fragile base class problem,\" where changes to the base class can have unintended consequences for derived classes. Composition avoids this problem by allowing you to change the behavior of a class without altering its structure.\n",
    "\n",
    "b) Dynamic Behavior: \n",
    "With composition, you can change the behavior of a class at runtime by altering the objects it is composed of. This dynamic behavior is harder to achieve with inheritance.\n",
    "\n",
    "2. Code Reusability:\n",
    "a) Greater Flexibility in Component Reuse:\n",
    "Composition allows you to reuse existing components more flexibly. Instead of inheriting the entire behavior of a class, you can reuse specific components and combine them in different ways.\n",
    "\n",
    "b) Favoring Interfaces over Implementation:\n",
    "Composition allows you to focus on interfaces rather than implementations. By composing objects with well-defined interfaces, you can achieve better separation of concerns and make it easier to swap out components without affecting the overall functionality.\n",
    "\n",
    "3. Easier Maintenance:\n",
    "a) Easier to Understand and Maintain:\n",
    "Composition typically results in more modular and understandable code. Each class has a clear responsibility, making it easier to understand, maintain, and extend the codebase.\n",
    "\n",
    "b) Reduced Coupling:\n",
    "Composition generally leads to lower coupling between classes, as components are more independent. This reduces the ripple effect of changes in one part of the system affecting other parts.\n",
    "\n",
    "4. Avoiding Diamond Inheritance Problem:\n",
    "a) Avoiding Complex Hierarchies:\n",
    "Multiple inheritance, which is allowed in Python, can lead to the diamond inheritance problem. This problem arises when a class inherits from two classes that have a common ancestor, causing ambiguity. Composition allows you to avoid such complexities.\n",
    "Promoting Single Responsibility Principle (SRP):\n",
    "\n",
    "b) Better Adherence to SRP:\n",
    "Composition encourages adhering to the Single Responsibility Principle, as each class can focus on a specific task or responsibility. Inheritance, on the other hand, might lead to classes with multiple responsibilities.\n",
    "\n",
    "5. Testing:\n",
    "a) Easier Unit Testing: Composition often makes unit testing more straightforward. You can isolate and test components individually, leading to more effective testing practices.\n",
    "\n",
    "summary:\n",
    "composition provides a more flexible and modular approach to building software. It promotes code reusability, reduces coupling, and makes it easier to adapt to changes. While inheritance has its use cases, especially when there is a clear \"is-a\" relationship, composition is generally favored for its advantages in code design and maintenance."
   ]
  },
  {
   "cell_type": "markdown",
   "id": "b0ed63a3",
   "metadata": {},
   "source": [
    "# 5. How can you implement composition in Python classes? Provide examples of using composition to create complex objects."
   ]
  },
  {
   "cell_type": "code",
   "execution_count": 3,
   "id": "29dfe9e4",
   "metadata": {},
   "outputs": [
    {
     "name": "stdout",
     "output_type": "stream",
     "text": [
      "Toyota Camry starting...\n",
      "Engine started.\n",
      "Toyota Camry stopping...\n",
      "Engine stopped.\n"
     ]
    }
   ],
   "source": [
    "class Engine:\n",
    "    def __init__(self, fuel_type):\n",
    "        \"\"\"\n",
    "        Initialize an Engine object with a fuel type.\n",
    "\n",
    "        Parameters:\n",
    "        - fuel_type (str): The type of fuel the engine uses.\n",
    "        \"\"\"\n",
    "        self.fuel_type = fuel_type\n",
    "\n",
    "    def start(self):\n",
    "        print(\"Engine started.\")\n",
    "\n",
    "    def stop(self):\n",
    "        print(\"Engine stopped.\")\n",
    "\n",
    "class Car:\n",
    "    def __init__(self, make, model, engine):\n",
    "        \"\"\"\n",
    "        Initialize a Car object with make, model, and an Engine object.\n",
    "\n",
    "        Parameters:\n",
    "        - make (str): The make of the car.\n",
    "        - model (str): The model of the car.\n",
    "        - engine (Engine): An instance of the Engine class.\n",
    "        \"\"\"\n",
    "        self.make = make\n",
    "        self.model = model\n",
    "        self.engine = engine\n",
    "\n",
    "    def start(self):\n",
    "        print(f\"{self.make} {self.model} starting...\")\n",
    "        self.engine.start()\n",
    "\n",
    "    def stop(self):\n",
    "        print(f\"{self.make} {self.model} stopping...\")\n",
    "        self.engine.stop()\n",
    "\n",
    "# Example of using composition to create complex objects\n",
    "# Create an Engine object\n",
    "gasoline_engine = Engine(fuel_type=\"Gasoline\")\n",
    "\n",
    "# Create a Car object composed of the Engine object\n",
    "my_car = Car(make=\"Toyota\", model=\"Camry\", engine=gasoline_engine)\n",
    "\n",
    "# Accessing methods of the Car object\n",
    "my_car.start()  # This will also start the engine\n",
    "my_car.stop()   # This will also stop the engine\n"
   ]
  },
  {
   "cell_type": "markdown",
   "id": "b8feef3c",
   "metadata": {},
   "source": [
    "Explanation:\n",
    "1. The Engine class represents an engine with methods start and stop.\n",
    "2. The Car class represents a car and has an instance of the Engine class as an attribute.\n",
    "3. The Car class has its own start and stop methods, which delegate the start and stop actions to the Engine object it contains."
   ]
  },
  {
   "cell_type": "markdown",
   "id": "e276d953",
   "metadata": {},
   "source": [
    "# 6. Create a Python class hierarchy for a music player system, using composition to represent playlists and songs."
   ]
  },
  {
   "cell_type": "code",
   "execution_count": 4,
   "id": "1243da1d",
   "metadata": {},
   "outputs": [
    {
     "name": "stdout",
     "output_type": "stream",
     "text": [
      "Playing all playlists:\n",
      "Playing playlist: Playlist 1\n",
      "Playing: Song 1 by Artist 1\n",
      "Playing: Song 2 by Artist 2\n",
      "Playing playlist: Playlist 2\n",
      "Playing: Song 2 by Artist 2\n",
      "Total duration of all playlists: 11.9 minutes\n"
     ]
    }
   ],
   "source": [
    "class Song:\n",
    "    def __init__(self, title, artist, duration):\n",
    "        self.title = title\n",
    "        self.artist = artist\n",
    "        self.duration = duration\n",
    "\n",
    "    def play(self):\n",
    "        print(f\"Playing: {self.title} by {self.artist}\")\n",
    "\n",
    "    def get_duration(self):\n",
    "        return self.duration\n",
    "\n",
    "\n",
    "class Playlist:\n",
    "    def __init__(self, name):\n",
    "        self.name = name\n",
    "        self.songs = []\n",
    "\n",
    "    def add_song(self, song):\n",
    "        self.songs.append(song)\n",
    "\n",
    "    def play(self):\n",
    "        print(f\"Playing playlist: {self.name}\")\n",
    "        for song in self.songs:\n",
    "            song.play()\n",
    "\n",
    "    def get_total_duration(self):\n",
    "        total_duration = sum(song.get_duration() for song in self.songs)\n",
    "        return total_duration\n",
    "\n",
    "\n",
    "class MusicPlayer:\n",
    "    def __init__(self):\n",
    "        self.playlists = []\n",
    "\n",
    "    def add_playlist(self, playlist):\n",
    "        self.playlists.append(playlist)\n",
    "\n",
    "    def play_all(self):\n",
    "        print(\"Playing all playlists:\")\n",
    "        for playlist in self.playlists:\n",
    "            playlist.play()\n",
    "\n",
    "    def get_total_duration(self):\n",
    "        total_duration = sum(playlist.get_total_duration() for playlist in self.playlists)\n",
    "        return total_duration\n",
    "\n",
    "\n",
    "# Example usage:\n",
    "\n",
    "# Creating songs\n",
    "song1 = Song(\"Song 1\", \"Artist 1\", 3.5)\n",
    "song2 = Song(\"Song 2\", \"Artist 2\", 4.2)\n",
    "\n",
    "# Creating playlists and adding songs\n",
    "playlist1 = Playlist(\"Playlist 1\")\n",
    "playlist1.add_song(song1)\n",
    "playlist1.add_song(song2)\n",
    "\n",
    "playlist2 = Playlist(\"Playlist 2\")\n",
    "playlist2.add_song(song2)\n",
    "\n",
    "# Creating a music player and adding playlists\n",
    "music_player = MusicPlayer()\n",
    "music_player.add_playlist(playlist1)\n",
    "music_player.add_playlist(playlist2)\n",
    "\n",
    "# Playing all playlists\n",
    "music_player.play_all()\n",
    "\n",
    "# Getting total duration\n",
    "total_duration = music_player.get_total_duration()\n",
    "print(f\"Total duration of all playlists: {total_duration} minutes\")\n"
   ]
  },
  {
   "cell_type": "markdown",
   "id": "e38806d3",
   "metadata": {},
   "source": [
    "Explanation:\n",
    "1. Song, Playlist, and MusicPlayer. \n",
    "2. The Song class represents a single song, the Playlist class represents a collection of songs, and the MusicPlayer class          represents the overall music player system.\n",
    "3. Composition is used to build the relationships between these classes, where a Playlist contains instances of Song, and          MusicPlayer contains instances of Playlist."
   ]
  },
  {
   "cell_type": "markdown",
   "id": "efc70cfd",
   "metadata": {},
   "source": [
    "# 7. Explain the concept of \"has-a\" relationships in composition and how it helps design software systems."
   ]
  },
  {
   "cell_type": "markdown",
   "id": "eaaa819d",
   "metadata": {},
   "source": [
    "The concept of \"has-a\" relationships in object-oriented programming refers to a design principle where one class contains an instance of another class as a member or attribute. This is often achieved through composition, where one class \"has\" another class as a component. This is in contrast to inheritance, where a class \"is-a\" subtype of another class.\n",
    "\n",
    "In the context of composition and \"has-a\" relationships:\n",
    "\n",
    "1. Encapsulation: \n",
    "The classes involved in a \"has-a\" relationship maintain their encapsulation. Each class is responsible for its own functionality, and changes to one class don't necessarily affect the internals of the other class. This promotes modular and maintainable code.\n",
    "\n",
    "2. Code Reusability: \n",
    "By composing classes together, you can reuse existing classes in different contexts. This can lead to more modular and reusable code, as you can build complex functionality by combining simpler, well-defined components.\n",
    "\n",
    "3. Flexibility and Maintainability: \n",
    "Composition allows for greater flexibility in changing the behavior of a system. You can easily swap out components without affecting the rest of the system. This makes the code more maintainable, as changes to one part of the system are less likely to have unintended consequences elsewhere.\n",
    "\n",
    "4. Simplified Interfaces:\n",
    "When using composition, classes expose only the necessary interfaces to the outside world. This makes the overall system easier to understand and use, as users of a class don't need to worry about the internal details of the composed classes.\n",
    "\n",
    "5. Dynamic Relationships:\n",
    "Unlike with inheritance, where the relationship is fixed at compile-time, composition allows for dynamic relationships. Objects can be composed at runtime, enabling greater flexibility and adaptability in the system.\n",
    "\n",
    "6. Avoiding the Diamond Problem:\n",
    "Inheritance can lead to the diamond problem, where a class inherits from two classes that have a common ancestor. This can result in ambiguity and maintenance challenges. Composition helps avoid this problem by allowing classes to be combined without creating complex inheritance hierarchies.\n",
    "\n",
    "Here's a simple example in Python:"
   ]
  },
  {
   "cell_type": "code",
   "execution_count": 5,
   "id": "a9c76d32",
   "metadata": {},
   "outputs": [
    {
     "name": "stdout",
     "output_type": "stream",
     "text": [
      "Car starting...\n",
      "Engine started\n"
     ]
    }
   ],
   "source": [
    "class Engine:\n",
    "    def start(self):\n",
    "        print(\"Engine started\")\n",
    "\n",
    "\n",
    "class Car:\n",
    "    def __init__(self):\n",
    "        self.engine = Engine()\n",
    "\n",
    "    def start(self):\n",
    "        print(\"Car starting...\")\n",
    "        self.engine.start()\n",
    "\n",
    "\n",
    "my_car = Car()\n",
    "my_car.start()\n"
   ]
  },
  {
   "cell_type": "markdown",
   "id": "0fbf8da7",
   "metadata": {},
   "source": [
    "Explanation:\n",
    "1. Car class has an \"has-a\" relationship with the Engine class.\n",
    "2. The Car class contains an instance of the Engine class as an attribute.\n",
    "3. This composition allows the Car class to use the functionality provided by the Engine class without inheriting from it."
   ]
  },
  {
   "cell_type": "markdown",
   "id": "e70f7703",
   "metadata": {},
   "source": [
    "# 8. Create a Python class for a computer system, using composition to represent components like CPU, RAM, and storage devices."
   ]
  },
  {
   "cell_type": "code",
   "execution_count": 6,
   "id": "eb525fce",
   "metadata": {},
   "outputs": [
    {
     "name": "stdout",
     "output_type": "stream",
     "text": [
      "Performing computations:\n",
      "Intel CPU processing at 3.0 GHz\n",
      "Reading data from 16 GB RAM\n",
      "Storing data on SSD storage, capacity: 512 GB\n"
     ]
    }
   ],
   "source": [
    "class CPU:\n",
    "    def __init__(self, brand, speed):\n",
    "        self.brand = brand\n",
    "        self.speed = speed\n",
    "\n",
    "    def process(self):\n",
    "        print(f\"{self.brand} CPU processing at {self.speed} GHz\")\n",
    "\n",
    "\n",
    "class RAM:\n",
    "    def __init__(self, capacity):\n",
    "        self.capacity = capacity\n",
    "\n",
    "    def read_data(self):\n",
    "        print(f\"Reading data from {self.capacity} GB RAM\")\n",
    "\n",
    "\n",
    "class StorageDevice:\n",
    "    def __init__(self, type, capacity):\n",
    "        self.type = type\n",
    "        self.capacity = capacity\n",
    "\n",
    "    def store_data(self):\n",
    "        print(f\"Storing data on {self.type} storage, capacity: {self.capacity} GB\")\n",
    "\n",
    "\n",
    "class Computer:\n",
    "    def __init__(self, cpu, ram, storage):\n",
    "        self.cpu = cpu\n",
    "        self.ram = ram\n",
    "        self.storage = storage\n",
    "\n",
    "    def perform_computations(self):\n",
    "        print(\"Performing computations:\")\n",
    "        self.cpu.process()\n",
    "        self.ram.read_data()\n",
    "        self.storage.store_data()\n",
    "\n",
    "\n",
    "# Example usage:\n",
    "\n",
    "# Creating components\n",
    "my_cpu = CPU(\"Intel\", 3.0)\n",
    "my_ram = RAM(16)\n",
    "my_storage = StorageDevice(\"SSD\", 512)\n",
    "\n",
    "# Creating a computer system\n",
    "my_computer = Computer(my_cpu, my_ram, my_storage)\n",
    "\n",
    "# Performing computations\n",
    "my_computer.perform_computations()\n"
   ]
  },
  {
   "cell_type": "markdown",
   "id": "64c27df8",
   "metadata": {},
   "source": [
    "Explanation:\n",
    "1. there are three component classes (CPU, RAM, and StorageDevice), each representing a specific hardware component of a            computer system. \n",
    "2. The Computer class is then composed of instances of these component classes."
   ]
  },
  {
   "cell_type": "markdown",
   "id": "0216ad9c",
   "metadata": {},
   "source": [
    "# 9. Describe the concept of \"delegation\" in composition and how it simplifies the design of complex systems."
   ]
  },
  {
   "cell_type": "markdown",
   "id": "f2adf0bd",
   "metadata": {},
   "source": [
    "In the context of composition and system design, \"delegation\" refers to the practice of assigning specific responsibilities or tasks to different components or modules within a larger system. It involves breaking down a complex system into smaller, more manageable parts, each responsible for a specific aspect of the overall functionality. This concept is often used in object-oriented programming, software engineering, and system architecture.\n",
    "\n",
    "The primary goal of delegation is to simplify the design and maintenance of complex systems by promoting modularity, encapsulation, and a clear separation of concerns. Here's how delegation works and its benefits:\n",
    "\n",
    "1. Modularity: \n",
    "Delegation encourages the division of a system into modular components, each handling a specific set of tasks or functionalities. These modules can be developed and tested independently, making it easier to understand, modify, and extend the system.\n",
    "\n",
    "2. Encapsulation:\n",
    "Each delegated component encapsulates its internal details and exposes only a well-defined interface. This helps in hiding the complexity of the underlying implementation, allowing other components to interact with it through a standardized set of methods or interfaces. Encapsulation enhances the system's maintainability by reducing dependencies between different parts.\n",
    "\n",
    "3. Clear Separation of Concerns:\n",
    "Delegation enables a clear separation of concerns by assigning specific responsibilities to designated components. This separation makes it easier to identify and address issues within the system since each component is responsible for a distinct aspect of the overall functionality.\n",
    "\n",
    "4. Code Reusability:\n",
    "Delegated components can be reused in different parts of the system or even in other projects, promoting code reusability. When a well-designed and tested component handles a particular task, it can be easily integrated into various contexts without the need for significant modifications.\n",
    "\n",
    "5. Scalability:\n",
    "Delegation facilitates scalability, as individual components can be modified or replaced without affecting the entire system. This allows for easier adaptation to changing requirements and the incorporation of new features or technologies.\n",
    "\n",
    "6. Easier Debugging and Maintenance:\n",
    "With a modular and delegated system, debugging becomes more straightforward because issues can be localized to specific components. Maintenance is also simplified, as changes or updates can be made to individual modules without disrupting the entire system.\n",
    "\n",
    "Summary:\n",
    "the concept of delegation in composition simplifies the design of complex systems by breaking them down into smaller, more manageable components. This approach enhances modularity, encapsulation, and the clear separation of concerns, making systems more understandable, maintainable, and adaptable to evolving requirements."
   ]
  },
  {
   "cell_type": "markdown",
   "id": "fb93eb5e",
   "metadata": {},
   "source": [
    "# 10. Create a Python class for a car, using composition to represent components like the engine, wheels, and transmission."
   ]
  },
  {
   "cell_type": "code",
   "execution_count": 7,
   "id": "fd1abde7",
   "metadata": {},
   "outputs": [
    {
     "name": "stdout",
     "output_type": "stream",
     "text": [
      "Engine started\n",
      "Transmission shifting\n",
      "Wheels rotating\n",
      "Car is moving\n",
      "Engine stopped\n"
     ]
    }
   ],
   "source": [
    "# Define the Engine class\n",
    "class Engine:\n",
    "    def start(self):\n",
    "        print(\"Engine started\")\n",
    "\n",
    "    def stop(self):\n",
    "        print(\"Engine stopped\")\n",
    "\n",
    "\n",
    "# Define the Wheels class\n",
    "class Wheels:\n",
    "    def rotate(self):\n",
    "        print(\"Wheels rotating\")\n",
    "\n",
    "\n",
    "# Define the Transmission class\n",
    "class Transmission:\n",
    "    def shift(self):\n",
    "        print(\"Transmission shifting\")\n",
    "\n",
    "\n",
    "# Define the Car class using composition\n",
    "class Car:\n",
    "    def __init__(self):\n",
    "        # Create instances of the Engine, Wheels, and Transmission classes\n",
    "        self.engine = Engine()\n",
    "        self.wheels = Wheels()\n",
    "        self.transmission = Transmission()\n",
    "\n",
    "    def start(self):\n",
    "        # Delegate starting to the Engine component\n",
    "        self.engine.start()\n",
    "\n",
    "    def stop(self):\n",
    "        # Delegate stopping to the Engine component\n",
    "        self.engine.stop()\n",
    "\n",
    "    def drive(self):\n",
    "        # Coordinate the components for driving\n",
    "        self.transmission.shift()\n",
    "        self.wheels.rotate()\n",
    "        print(\"Car is moving\")\n",
    "\n",
    "\n",
    "# Example usage\n",
    "if __name__ == \"__main__\":\n",
    "    # Create a car instance\n",
    "    my_car = Car()\n",
    "\n",
    "    # Start the car\n",
    "    my_car.start()\n",
    "\n",
    "    # Drive the car\n",
    "    my_car.drive()\n",
    "\n",
    "    # Stop the car\n",
    "    my_car.stop()\n"
   ]
  },
  {
   "cell_type": "markdown",
   "id": "d7a5c8de",
   "metadata": {},
   "source": [
    "Explanation:\n",
    "1. Engine, Wheels, and Transmission are individual components with specific functionalities.\n",
    "2. The Car class is composed of instances of these components in its __init__ method.\n",
    "3. Methods like start, stop, and drive in the Car class delegate their operations to the corresponding methods of the composed      components."
   ]
  },
  {
   "cell_type": "markdown",
   "id": "6a157c85",
   "metadata": {},
   "source": [
    "# 11. How can you encapsulate and hide the details of composed objects in Python classes to maintain abstraction?"
   ]
  },
  {
   "cell_type": "markdown",
   "id": "fe71da10",
   "metadata": {},
   "source": [
    "In Python, encapsulation is achieved through the use of private and protected attributes and methods. This helps in hiding the implementation details of a class and ensures that the internal workings of an object are not directly accessible from outside the class. To encapsulate and hide the details of composed objects in Python classes, you can follow these principles:\n",
    "\n",
    "1. Private Attributes and Methods:\n",
    "Use a single leading underscore (e.g., _variable, _method()) to indicate that an attribute or method is intended for internal use and should not be accessed directly from outside the class."
   ]
  },
  {
   "cell_type": "code",
   "execution_count": 9,
   "id": "ec13bd4f",
   "metadata": {},
   "outputs": [],
   "source": [
    "class Engine:\n",
    "    def __init__(self):\n",
    "        self._fuel_type = \"Petrol\"\n",
    "\n",
    "class Car:\n",
    "    def __init__(self):\n",
    "        self._engine = Engine()\n",
    "\n",
    "    def start(self):\n",
    "        print(\"Starting the car with\", self._engine._fuel_type)  # Accessing internal attribute directly (not recommended)\n"
   ]
  },
  {
   "cell_type": "markdown",
   "id": "2077296b",
   "metadata": {},
   "source": [
    "2. Properties and Getters:\n",
    "Use properties and getter methods to provide controlled access to attributes. This allows you to define custom logic for getting or setting attribute values."
   ]
  },
  {
   "cell_type": "code",
   "execution_count": null,
   "id": "df231918",
   "metadata": {},
   "outputs": [],
   "source": [
    "class Engine:\n",
    "    def __init__(self):\n",
    "        self._fuel_type = \"Petrol\"\n",
    "\n",
    "    @property\n",
    "    def fuel_type(self):\n",
    "        return self._fuel_type\n",
    "\n",
    "class Car:\n",
    "    def __init__(self):\n",
    "        self._engine = Engine()\n",
    "\n",
    "    def start(self):\n",
    "        print(\"Starting the car with\", self._engine.fuel_type)  # Accessing via property\n"
   ]
  },
  {
   "cell_type": "markdown",
   "id": "d8954614",
   "metadata": {},
   "source": [
    "3. Public Interface:\n",
    "Define a clear public interface for your classes, consisting of methods and attributes that are meant to be accessed by external code. This hides the internal details and provides a level of abstraction."
   ]
  },
  {
   "cell_type": "code",
   "execution_count": 10,
   "id": "56218c7a",
   "metadata": {},
   "outputs": [],
   "source": [
    "class Engine:\n",
    "    def __init__(self):\n",
    "        self._fuel_type = \"Petrol\"\n",
    "\n",
    "    def get_fuel_type(self):\n",
    "        return self._fuel_type\n",
    "\n",
    "class Car:\n",
    "    def __init__(self):\n",
    "        self._engine = Engine()\n",
    "\n",
    "    def start(self):\n",
    "        print(\"Starting the car with\", self._engine.get_fuel_type())  # Accessing via public method\n"
   ]
  },
  {
   "cell_type": "markdown",
   "id": "a1217c18",
   "metadata": {},
   "source": [
    "Here, get_fuel_type() serves as a public method, and external code is encouraged to use it instead of accessing the internal attribute directly.\n",
    "\n",
    "Remember that Python follows the principle of \"we are all consenting adults here,\" meaning it trusts developers to follow conventions. While these techniques help in encapsulating and hiding details, they are not strict access control mechanisms. Developers can still access private or protected attributes if they choose to do so, but the conventions and practices make it clear what is intended for internal use."
   ]
  },
  {
   "cell_type": "markdown",
   "id": "508f3e9d",
   "metadata": {},
   "source": [
    "# 12. Create a Python class for a university course, using composition to represent students, instructors, and course materials."
   ]
  },
  {
   "cell_type": "code",
   "execution_count": 7,
   "id": "423cb32a",
   "metadata": {},
   "outputs": [
    {
     "name": "stdout",
     "output_type": "stream",
     "text": [
      "Course Code: CS101\n",
      "Course Name: Introduction to Computer Science\n",
      "\n",
      "Students:\n",
      "  Student ID: 1, Name: Alice\n",
      "  Student ID: 2, Name: Bob\n",
      "\n",
      "Instructors:\n",
      "  Instructor ID: 101, Name: Dr. Smith\n",
      "  Instructor ID: 102, Name: Prof. Johnson\n",
      "\n",
      "Course Materials:\n",
      "  Textbook: Python Programming\n"
     ]
    }
   ],
   "source": [
    "class Student:\n",
    "    def __init__(self, student_id, name):\n",
    "        self.student_id = student_id\n",
    "        self.name = name\n",
    "\n",
    "class Instructor:\n",
    "    def __init__(self, instructor_id, name):\n",
    "        self.instructor_id = instructor_id\n",
    "        self.name = name\n",
    "\n",
    "class UniversityCourse:\n",
    "    def __init__(self, course_code, course_name):\n",
    "        self.course_code = course_code\n",
    "        self.course_name = course_name\n",
    "        self.students = []  # List to store student objects\n",
    "        self.instructors = []  # List to store instructor objects\n",
    "        self.course_materials = []  # List to store course materials\n",
    "\n",
    "    def add_student(self, student):\n",
    "        \"\"\"\n",
    "        Add a student to the course.\n",
    "        :param student: A Student object.\n",
    "        \"\"\"\n",
    "        self.students.append(student)\n",
    "\n",
    "    def add_instructor(self, instructor):\n",
    "        \"\"\"\n",
    "        Add an instructor to the course.\n",
    "        :param instructor: An Instructor object.\n",
    "        \"\"\"\n",
    "        self.instructors.append(instructor)\n",
    "\n",
    "    def add_course_material(self, material):\n",
    "        \"\"\"\n",
    "        Add course material to the course.\n",
    "        :param material: Course material (e.g., textbooks, slides, etc.).\n",
    "        \"\"\"\n",
    "        self.course_materials.append(material)\n",
    "\n",
    "# Example Usage:\n",
    "\n",
    "# Create students\n",
    "student1 = Student(1, \"Alice\")\n",
    "student2 = Student(2, \"Bob\")\n",
    "\n",
    "# Create instructors\n",
    "instructor1 = Instructor(101, \"Dr. Smith\")\n",
    "instructor2 = Instructor(102, \"Prof. Johnson\")\n",
    "\n",
    "# Create a course and add students, instructors, and materials\n",
    "course = UniversityCourse(\"CS101\", \"Introduction to Computer Science\")\n",
    "course.add_student(student1)\n",
    "course.add_student(student2)\n",
    "course.add_instructor(instructor1)\n",
    "course.add_instructor(instructor2)\n",
    "course.add_course_material(\"Textbook: Python Programming\")\n",
    "\n",
    "# Display information about the course\n",
    "print(f\"Course Code: {course.course_code}\")\n",
    "print(f\"Course Name: {course.course_name}\")\n",
    "print(\"\\nStudents:\")\n",
    "for student in course.students:\n",
    "    print(f\"  Student ID: {student.student_id}, Name: {student.name}\")\n",
    "print(\"\\nInstructors:\")\n",
    "for instructor in course.instructors:\n",
    "    print(f\"  Instructor ID: {instructor.instructor_id}, Name: {instructor.name}\")\n",
    "print(\"\\nCourse Materials:\")\n",
    "for material in course.course_materials:\n",
    "    print(f\"  {material}\")\n"
   ]
  },
  {
   "cell_type": "markdown",
   "id": "c5dd769d",
   "metadata": {},
   "source": [
    " Explanation:\n",
    "1. the UniversityCourse class is composed of Student and Instructor classes, and it includes methods to add students, instructors, and course materials. The example usage at the end demonstrates how to create instances of students, instructors, and a course, and how to add them to the course."
   ]
  },
  {
   "cell_type": "markdown",
   "id": "db761e50",
   "metadata": {},
   "source": [
    "# 13. Discuss the challenges and drawbacks of composition, such as increased complexity and potential for tight coupling between objects."
   ]
  },
  {
   "cell_type": "markdown",
   "id": "4d2582e0",
   "metadata": {},
   "source": [
    "Composition is a design principle in object-oriented programming where objects are combined to create more complex and functional structures. While composition offers several advantages, such as flexibility and code reuse, it also comes with its own set of challenges and drawbacks. Two prominent issues are increased complexity and the potential for tight coupling between objects.\n",
    "\n",
    "1. Increased Complexity:\n",
    "a) Code Understanding and Maintenance: \n",
    "As the number of composed objects increases, the overall complexity of the system grows. This can make it challenging for developers to understand the codebase, leading to difficulties in maintenance and debugging.\n",
    "b) Interactions and Dependencies: \n",
    "With composition, objects often need to interact with each other. Managing these interactions and dependencies can become intricate, especially as the number of composed objects and their relationships grow. This complexity can result in a system that is hard to extend and modify.\n",
    "\n",
    "2. Tight Coupling Between Objects:\n",
    "Dependency Management: \n",
    "a) Composition can lead to tight coupling between objects, where changes in one object may affect others. This tight coupling makes it more difficult to modify or replace one component without affecting the entire system.\n",
    "b) Flexibility and Extensibility: \n",
    "While composition is designed to enhance flexibility, improper implementation can lead to rigid systems. Changes to one component may have unintended consequences on others, limiting the system's overall extensibility.\n",
    "\n",
    "3. Inversion of Control (IoC):\n",
    "a) IoC Containers:\n",
    "In composition-heavy designs, there is often a need for an Inversion of Control (IoC) container to manage the creation and lifetime of objects. While IoC can promote decoupling and configurability, it introduces a new layer of complexity and requires careful configuration.\n",
    "\n",
    "4. Performance Overhead:\n",
    "a) Object Creation and Destruction:\n",
    "Composing objects can involve creating and destroying multiple objects at runtime. This process incurs a performance overhead, especially in scenarios where objects are frequently created and discarded.\n",
    "\n",
    "5. Learning Curve:\n",
    "a) Conceptual Overhead: \n",
    "Understanding and effectively using composition may introduce a learning curve for developers, especially those new to object-oriented programming. Deciding how to compose objects and manage their interactions requires a good understanding of the system's architecture.\n",
    "\n",
    "Despite these challenges, it's important to note that composition, when used appropriately, can lead to well-structured, modular, and maintainable code. Addressing these challenges often involves careful design, use of design patterns, and adherence to best practices in software development. Additionally, advancements in programming languages and tools may provide solutions to some of these challenges over time."
   ]
  },
  {
   "cell_type": "markdown",
   "id": "0814d431",
   "metadata": {},
   "source": [
    "# 14. Create a Python class hierarchy for a restaurant system, using composition to represent menus, dishes, and ingredients."
   ]
  },
  {
   "cell_type": "code",
   "execution_count": 9,
   "id": "0f71e52c",
   "metadata": {},
   "outputs": [],
   "source": [
    "class Ingredient:\n",
    "#  Represents an ingredient used in a dish.\n",
    "  \n",
    "    def __init__(self, name, quantity, unit):\n",
    "        self.name = name\n",
    "        self.quantity = quantity\n",
    "        self.unit = unit\n",
    "\n",
    "\n",
    "class Dish:\n",
    "# Represents a dish offered in the restaurant, composed of multiple ingredients.\n",
    "    def __init__(self, name, ingredients):\n",
    "        self.name = name\n",
    "        self.ingredients = ingredients\n",
    "\n",
    "\n",
    "class Menu:\n",
    "# Represents a menu in the restaurant, composed of multiple dishes.\n",
    "\n",
    "    def __init__(self, name, dishes):\n",
    "        self.name = name\n",
    "        self.dishes = dishes\n",
    "\n",
    "\n",
    "class Restaurant:\n",
    "# Represents the overall restaurant system, composed of multiple menus.\n",
    "\n",
    "    def __init__(self, name, menus):\n",
    "        self.name = name\n",
    "        self.menus = menus\n",
    "\n",
    "\n",
    "# Example Usage:\n",
    "\n",
    "# Ingredients\n",
    "ingredient1 = Ingredient(\"Tomato\", 2, \"pcs\")\n",
    "ingredient2 = Ingredient(\"Cheese\", 150, \"g\")\n",
    "ingredient3 = Ingredient(\"Dough\", 200, \"g\")\n",
    "\n",
    "# Dishes\n",
    "dish1_ingredients = [ingredient1, ingredient2, ingredient3]\n",
    "dish1 = Dish(\"Margherita Pizza\", dish1_ingredients)\n",
    "\n",
    "dish2_ingredients = [ingredient1, ingredient2]\n",
    "dish2 = Dish(\"Cheese Sandwich\", dish2_ingredients)\n",
    "\n",
    "# Menus\n",
    "menu1_dishes = [dish1, dish2]\n",
    "menu1 = Menu(\"Lunch Menu\", menu1_dishes)\n",
    "\n",
    "# Restaurant\n",
    "restaurant_menus = [menu1]\n",
    "restaurant = Restaurant(\"Fine Dining Restaurant\", restaurant_menus)\n"
   ]
  },
  {
   "cell_type": "markdown",
   "id": "e6991aa8",
   "metadata": {},
   "source": [
    "# 15.  Explain how composition enhances code maintainability and modularity in Python programs."
   ]
  },
  {
   "cell_type": "markdown",
   "id": "de68c6df",
   "metadata": {},
   "source": [
    "Composition is a fundamental principle in object-oriented programming (OOP) that promotes code organization, maintainability, and modularity. In Python, composition is achieved by creating relationships between classes through the use of objects. Here's how composition enhances code maintainability and modularity in Python programs:\n",
    "\n",
    "1. Code Reusability:\n",
    "a) Composition allows you to reuse existing classes by creating objects of those classes within other classes. This promotes a modular approach where you can use well-defined and tested components in different parts of your code.\n",
    "\n",
    "2. Modularity:\n",
    "a) Modularity is the concept of breaking down a program into smaller, independent, and interchangeable modules. In Python, modules can be classes or functions. Composition enables you to create modules that encapsulate specific functionalities.\n",
    "b) Each class can be designed to handle a specific concern or responsibility, promoting a modular structure. This makes it easier to understand, maintain, and extend your code.\n",
    "\n",
    "3. Encapsulation:\n",
    "a) Composition supports encapsulation, a key principle of OOP. Each class can hide its internal implementation details and only expose a well-defined interface. This encapsulation reduces the complexity for other parts of the program that use the class, as they only need to know how to interact with the class through its public interface.\n",
    "\n",
    "4. Reduced Code Duplication:\n",
    "a) When you use composition, you can create a set of classes with specific functionalities and then reuse them in various parts of your program. This reduces the need to duplicate code, making your codebase more maintainable and less error-prone.\n",
    "\n",
    "5. Flexibility and Extensibility:\n",
    "a) Composition allows you to change the behavior of a class by composing it with different components. You can easily replace or add components to achieve different functionalities without modifying the existing code. This makes your code more flexible and extensible, adapting to changing requirements.\n",
    "\n",
    "6. Testing and Debugging:\n",
    "a) Composition makes it easier to test individual components in isolation. You can create unit tests for each class independently, ensuring that each module behaves as expected. This isolation also simplifies debugging, as issues can be localized to specific modules.\n",
    "\n",
    "7. Dependency Management:\n",
    "a) By using composition, you manage dependencies between classes more effectively. Changes to one class don't necessarily affect other classes as long as the public interface remains the same. This loose coupling makes it easier to update or replace components without causing a ripple effect throughout the codebase.\n",
    "\n",
    "Summary: \n",
    "composition in Python promotes a modular, reusable, and maintainable code structure by encouraging the creation of small, focused classes that can be combined to build complex systems. This approach aligns with the principles of OOP and helps manage the complexity of large codebases."
   ]
  },
  {
   "cell_type": "markdown",
   "id": "5bb1284a",
   "metadata": {},
   "source": [
    "# 16. Create a Python class for a computer game character, using composition to represent attributes like weapons, armor, and inventory."
   ]
  },
  {
   "cell_type": "code",
   "execution_count": 1,
   "id": "e5c85d00",
   "metadata": {},
   "outputs": [
    {
     "name": "stdout",
     "output_type": "stream",
     "text": [
      "Hero attacks Monster with Sword!\n",
      "Monster takes 20 damage. Remaining health: 30\n",
      "Monster's health: 30\n"
     ]
    }
   ],
   "source": [
    "class Weapon:\n",
    "    def __init__(self, name, damage):\n",
    "        self.name = name\n",
    "        self.damage = damage\n",
    "\n",
    "class Armor:\n",
    "    def __init__(self, name, defense):\n",
    "        self.name = name\n",
    "        self.defense = defense\n",
    "\n",
    "class Inventory:\n",
    "    def __init__(self):\n",
    "        self.items = []\n",
    "\n",
    "    def add_item(self, item):\n",
    "        self.items.append(item)\n",
    "\n",
    "class GameCharacter:\n",
    "    def __init__(self, name, health):\n",
    "        self.name = name\n",
    "        self.health = health\n",
    "        self.weapon = None  # Composition: GameCharacter has a Weapon\n",
    "        self.armor = None   # Composition: GameCharacter has Armor\n",
    "        self.inventory = Inventory()  # Composition: GameCharacter has an Inventory\n",
    "\n",
    "    def equip_weapon(self, weapon):\n",
    "        self.weapon = weapon\n",
    "\n",
    "    def equip_armor(self, armor):\n",
    "        self.armor = armor\n",
    "\n",
    "    def attack(self, target):\n",
    "        if self.weapon:\n",
    "            print(f\"{self.name} attacks {target.name} with {self.weapon.name}!\")\n",
    "            target.receive_damage(self.weapon.damage)\n",
    "        else:\n",
    "            print(f\"{self.name} attacks {target.name} with bare hands!\")\n",
    "            target.receive_damage(10)  # Default damage for bare hands\n",
    "\n",
    "    def receive_damage(self, damage):\n",
    "        if self.armor:\n",
    "            damage -= self.armor.defense\n",
    "            damage = max(damage, 0)  # Ensure damage doesn't go below 0 with armor\n",
    "        self.health -= damage\n",
    "        print(f\"{self.name} takes {damage} damage. Remaining health: {self.health}\")\n",
    "\n",
    "# Example usage:\n",
    "if __name__ == \"__main__\":\n",
    "    sword = Weapon(\"Sword\", 20)\n",
    "    shield = Armor(\"Shield\", 10)\n",
    "\n",
    "    player = GameCharacter(\"Hero\", 100)\n",
    "    enemy = GameCharacter(\"Monster\", 50)\n",
    "\n",
    "    player.equip_weapon(sword)\n",
    "    player.equip_armor(shield)\n",
    "\n",
    "    player.attack(enemy)\n",
    "\n",
    "    print(f\"{enemy.name}'s health: {enemy.health}\")\n"
   ]
  },
  {
   "cell_type": "markdown",
   "id": "0ef00030",
   "metadata": {},
   "source": [
    "Explanation:\n",
    "1. GameCharacter has composition relationships with Weapon, Armor, and Inventory classes. \n",
    "2. The character can equip a weapon and armor, and it has an inventory to manage items. \n",
    "3. The attack method demonstrates how the character uses its equipped weapon to attack another character, taking into account      the damage and armor values."
   ]
  },
  {
   "cell_type": "markdown",
   "id": "e9406e03",
   "metadata": {},
   "source": [
    "# 17. Describe the concept of \"aggregation\" in composition and how it differs from simple composition."
   ]
  },
  {
   "cell_type": "markdown",
   "id": "f9055615",
   "metadata": {},
   "source": [
    "In the context of composition, \"aggregation\" refers to the combination or grouping together of multiple elements or entities to form a larger, more complex whole. It involves assembling various components into a unified structure, often to achieve a specific purpose or functionality. The concept of aggregation is prevalent in various fields, including software engineering, design, and architecture.\n",
    "\n",
    "Here's how aggregation differs from simple composition:\n",
    "\n",
    "1. Composition:\n",
    "In simple composition, one class is directly composed of and contains another class or classes.\n",
    "The composed class is an integral part of the whole, and its existence is entirely dependent on the containing class.\n",
    "The composed class has a strong relationship with the containing class, meaning that if the containing class is destroyed, the composed class is also typically destroyed.\n",
    "Example: In object-oriented programming, if a \"Car\" class contains an \"Engine\" class, it's a simple composition. The engine is a part of the car, and if the car is dismantled, the engine is no longer a standalone entity.\n",
    "\n",
    "2. Aggregation:\n",
    "In aggregation, multiple classes are associated to form a more complex structure, but the relationship is generally considered to be more loosely coupled.\n",
    "The associated classes can exist independently of the aggregate class, and the destruction of the aggregate class does not necessarily lead to the destruction of the associated classes.\n",
    "Aggregation implies a \"has-a\" relationship rather than a \"part-of\" relationship. The associated classes are parts that can exist independently.\n",
    "\n",
    "Example: If a \"University\" class has an aggregation relationship with a \"Department\" class, the department can exist independently, and it may be associated with other entities. The destruction of the university does not necessarily mean the destruction of the department.\n",
    "\n",
    "Summary:\n",
    "while both aggregation and composition involve combining elements to form a larger whole, the key difference lies in the strength of the relationship between the aggregated or composed elements. Aggregation implies a more loosely coupled relationship where the associated elements can exist independently, whereas composition implies a stronger, more integral relationship where the composed elements are integral parts of the whole."
   ]
  },
  {
   "cell_type": "markdown",
   "id": "46c92214",
   "metadata": {},
   "source": [
    "# 18. Create a Python class for a house, using composition to represent rooms, furniture, and appliances."
   ]
  },
  {
   "cell_type": "code",
   "execution_count": 4,
   "id": "8d76d56e",
   "metadata": {},
   "outputs": [
    {
     "name": "stdout",
     "output_type": "stream",
     "text": [
      "Living Room:\n",
      "  Furniture: ['Sofa']\n",
      "  Appliances: ['TV']\n",
      "\n",
      "Kitchen:\n",
      "  Furniture: ['Dining Table']\n",
      "  Appliances: ['Oven']\n",
      "\n"
     ]
    }
   ],
   "source": [
    "class Furniture:\n",
    "    def __init__(self, name):\n",
    "        self.name = name\n",
    "\n",
    "class Appliance:\n",
    "    def __init__(self, name):\n",
    "        self.name = name\n",
    "\n",
    "class Room:\n",
    "    def __init__(self, name):\n",
    "        self.name = name\n",
    "        self.furniture = []  # Composition: Room has Furniture\n",
    "        self.appliances = []  # Composition: Room has Appliances\n",
    "\n",
    "    def add_furniture(self, furniture):\n",
    "        self.furniture.append(furniture)\n",
    "\n",
    "    def add_appliance(self, appliance):\n",
    "        self.appliances.append(appliance)\n",
    "\n",
    "class House:\n",
    "    def __init__(self, name):\n",
    "        self.name = name\n",
    "        self.rooms = []  # Composition: House has Rooms\n",
    "\n",
    "    def add_room(self, room):\n",
    "        self.rooms.append(room)\n",
    "\n",
    "# Example usage:\n",
    "if __name__ == \"__main__\":\n",
    "    living_room = Room(\"Living Room\")\n",
    "    sofa = Furniture(\"Sofa\")\n",
    "    tv = Appliance(\"TV\")\n",
    "\n",
    "    kitchen = Room(\"Kitchen\")\n",
    "    dining_table = Furniture(\"Dining Table\")\n",
    "    oven = Appliance(\"Oven\")\n",
    "\n",
    "    my_house = House(\"My House\")\n",
    "\n",
    "    living_room.add_furniture(sofa)\n",
    "    living_room.add_appliance(tv)\n",
    "\n",
    "    kitchen.add_furniture(dining_table)\n",
    "    kitchen.add_appliance(oven)\n",
    "\n",
    "    my_house.add_room(living_room)\n",
    "    my_house.add_room(kitchen)\n",
    "\n",
    "    # Print the contents of each room\n",
    "    for room in my_house.rooms:\n",
    "        print(f\"{room.name}:\")\n",
    "        print(\"  Furniture:\", [furniture.name for furniture in room.furniture])\n",
    "        print(\"  Appliances:\", [appliance.name for appliance in room.appliances])\n",
    "        print()\n"
   ]
  },
  {
   "cell_type": "markdown",
   "id": "64e3b4de",
   "metadata": {},
   "source": [
    "Explanation:\n",
    "1. House has composition relationships with Room, and Room has composition relationships with Furniture and Appliance classes. 2. The add_room, add_furniture, and add_appliance methods are used to add rooms, furniture, and appliances to the house.\n",
    "3. The script then prints out the contents of each room in the house."
   ]
  },
  {
   "cell_type": "markdown",
   "id": "ae1db5a8",
   "metadata": {},
   "source": [
    "# 19. How can you achieve flexibility in composed objects by allowing them to be replaced or modified dynamically at runtime?"
   ]
  },
  {
   "cell_type": "markdown",
   "id": "c706c577",
   "metadata": {},
   "source": [
    "To achieve flexibility in composed objects and allow them to be replaced or modified dynamically at runtime, you can leverage concepts such as dependency injection and interfaces in object-oriented programming. Here are a few strategies to achieve this flexibility:\n",
    "\n",
    "1. Dependency Injection:\n",
    "Instead of hardcoding dependencies within a class, pass them as parameters during object creation or through setter methods.\n",
    "This allows you to inject different dependencies dynamically, making it easier to replace or modify them at runtime."
   ]
  },
  {
   "cell_type": "code",
   "execution_count": null,
   "id": "13739e6e",
   "metadata": {},
   "outputs": [],
   "source": [
    "class Car:\n",
    "    def __init__(self, engine, wheels):\n",
    "        self.engine = engine\n",
    "        self.wheels = wheels\n",
    "\n",
    "    def replace_engine(self, new_engine):\n",
    "        self.engine = new_engine\n",
    "\n",
    "# Example usage:\n",
    "car = Car(engine1, wheels1)\n",
    "car.replace_engine(engine2)\n"
   ]
  },
  {
   "cell_type": "markdown",
   "id": "271ddd29",
   "metadata": {},
   "source": [
    "2. Interfaces and Polymorphism:\n",
    "Define interfaces or abstract classes to establish a common contract for different implementations.\n",
    "Use polymorphism to allow objects of different classes to be used interchangeably if they adhere to the same interface."
   ]
  },
  {
   "cell_type": "code",
   "execution_count": 6,
   "id": "aa65fa09",
   "metadata": {},
   "outputs": [
    {
     "name": "stdout",
     "output_type": "stream",
     "text": [
      "Electric engine started.\n",
      "Gasoline engine started.\n"
     ]
    }
   ],
   "source": [
    "class Engine:\n",
    "    def start(self):\n",
    "        pass\n",
    "\n",
    "class ElectricEngine(Engine):\n",
    "    def start(self):\n",
    "        print(\"Electric engine started.\")\n",
    "\n",
    "class GasolineEngine(Engine):\n",
    "    def start(self):\n",
    "        print(\"Gasoline engine started.\")\n",
    "\n",
    "class Car:\n",
    "    def __init__(self, engine):\n",
    "        self.engine = engine\n",
    "\n",
    "    def replace_engine(self, new_engine):\n",
    "        self.engine = new_engine\n",
    "\n",
    "    def start_engine(self):\n",
    "        self.engine.start()\n",
    "\n",
    "# Example usage:\n",
    "electric_car = Car(ElectricEngine())\n",
    "gasoline_car = Car(GasolineEngine())\n",
    "\n",
    "electric_car.start_engine()\n",
    "gasoline_car.start_engine()\n"
   ]
  },
  {
   "cell_type": "markdown",
   "id": "b93e4d86",
   "metadata": {},
   "source": [
    "3. Composition and Aggregation:\n",
    "Use composition to build complex objects from simpler ones, and aggregation to allow for dynamic replacement or modification of components.\n",
    "Encapsulate components within the object and provide methods to change or replace them."
   ]
  },
  {
   "cell_type": "code",
   "execution_count": null,
   "id": "042bcad0",
   "metadata": {},
   "outputs": [],
   "source": [
    "class Car:\n",
    "    def __init__(self, engine, wheels):\n",
    "        self.engine = engine\n",
    "        self.wheels = wheels\n",
    "\n",
    "    def replace_engine(self, new_engine):\n",
    "        self.engine = new_engine\n",
    "\n",
    "    def add_wheels(self, new_wheels):\n",
    "        self.wheels = new_wheels\n",
    "\n",
    "# Example usage:\n",
    "car = Car(engine1, wheels1)\n",
    "car.replace_engine(engine2)\n"
   ]
  },
  {
   "cell_type": "markdown",
   "id": "0f7f7aec",
   "metadata": {},
   "source": [
    "# 20. Create a Python class for a social media application, using composition to represent users, posts, and comments."
   ]
  },
  {
   "cell_type": "code",
   "execution_count": 8,
   "id": "358482aa",
   "metadata": {},
   "outputs": [
    {
     "name": "stdout",
     "output_type": "stream",
     "text": [
      "Alice's Post:\n",
      "Hello, world!\n",
      "Comments:\n",
      "Bob: I agree!\n",
      "\n",
      "Bob's Post:\n",
      "Python is awesome!\n",
      "Comments:\n",
      "Alice: Thanks, Bob!\n",
      "\n"
     ]
    }
   ],
   "source": [
    "class Comment:\n",
    "    def __init__(self, user, text):\n",
    "        self.user = user\n",
    "        self.text = text\n",
    "\n",
    "    def __str__(self):\n",
    "        return f\"{self.user.username}: {self.text}\"\n",
    "\n",
    "class Post:\n",
    "    def __init__(self, user, content):\n",
    "        self.user = user\n",
    "        self.content = content\n",
    "        self.comments = []  # Composition: Post has Comments\n",
    "\n",
    "    def add_comment(self, comment):\n",
    "        self.comments.append(comment)\n",
    "\n",
    "    def display_comments(self):\n",
    "        for comment in self.comments:\n",
    "            print(comment)\n",
    "\n",
    "class User:\n",
    "    def __init__(self, username):\n",
    "        self.username = username\n",
    "        self.posts = []  # Composition: User has Posts\n",
    "\n",
    "    def create_post(self, content):\n",
    "        post = Post(self, content)\n",
    "        self.posts.append(post)\n",
    "        return post\n",
    "\n",
    "# Example usage:\n",
    "if __name__ == \"__main__\":\n",
    "    user1 = User(\"Alice\")\n",
    "    user2 = User(\"Bob\")\n",
    "\n",
    "    post1 = user1.create_post(\"Hello, world!\")\n",
    "    post2 = user2.create_post(\"Python is awesome!\")\n",
    "\n",
    "    comment1 = Comment(user2, \"I agree!\")\n",
    "    post1.add_comment(comment1)\n",
    "\n",
    "    comment2 = Comment(user1, \"Thanks, Bob!\")\n",
    "    post2.add_comment(comment2)\n",
    "\n",
    "    # Display posts and comments\n",
    "    for post in user1.posts:\n",
    "        print(f\"{user1.username}'s Post:\")\n",
    "        print(post.content)\n",
    "        print(\"Comments:\")\n",
    "        post.display_comments()\n",
    "        print()\n",
    "\n",
    "    for post in user2.posts:\n",
    "        print(f\"{user2.username}'s Post:\")\n",
    "        print(post.content)\n",
    "        print(\"Comments:\")\n",
    "        post.display_comments()\n",
    "        print()\n"
   ]
  },
  {
   "cell_type": "markdown",
   "id": "d46d6267",
   "metadata": {},
   "source": [
    "Explanation:\n",
    "1. The User class has a composition relationship with the Post class, as users can create posts.\n",
    "2. The Post class has a composition relationship with the Comment class, as posts can have comments.\n",
    "\n",
    "The script demonstrates how users can create posts, add comments to posts, and display posts with their associated comments. This basic example illustrates the concept of composition in representing relationships between users, posts, and comments in a social media application."
   ]
  }
 ],
 "metadata": {
  "kernelspec": {
   "display_name": "Python 3 (ipykernel)",
   "language": "python",
   "name": "python3"
  },
  "language_info": {
   "codemirror_mode": {
    "name": "ipython",
    "version": 3
   },
   "file_extension": ".py",
   "mimetype": "text/x-python",
   "name": "python",
   "nbconvert_exporter": "python",
   "pygments_lexer": "ipython3",
   "version": "3.11.4"
  }
 },
 "nbformat": 4,
 "nbformat_minor": 5
}
