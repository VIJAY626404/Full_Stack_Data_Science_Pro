{
 "cells": [
  {
   "cell_type": "markdown",
   "id": "42fdef00",
   "metadata": {},
   "source": [
    "# Statistics Practice Question"
   ]
  },
  {
   "cell_type": "markdown",
   "id": "cc6575aa",
   "metadata": {},
   "source": [
    "1. Generate a list of 100 integers containing values between 90 to 130 and store it in the variable `int_list`. \n",
    "   After generating the list, find the following:"
   ]
  },
  {
   "cell_type": "code",
   "execution_count": 1,
   "id": "6cb96819",
   "metadata": {},
   "outputs": [],
   "source": [
    "import numpy as np\n",
    "import pandas as pd\n",
    "import matplotlib.pyplot as plt\n",
    "import seaborn as sns"
   ]
  },
  {
   "cell_type": "code",
   "execution_count": 2,
   "id": "e7ebd0f5",
   "metadata": {},
   "outputs": [],
   "source": [
    "int_list = np.random.randint(90,130,100)"
   ]
  },
  {
   "cell_type": "code",
   "execution_count": 3,
   "id": "db117bf8",
   "metadata": {},
   "outputs": [
    {
     "data": {
      "text/plain": [
       "array([ 95, 100, 102, 123, 107, 119, 109, 121, 105, 105, 107, 119, 100,\n",
       "       109, 111,  99, 119, 129, 113, 101, 107, 120,  98,  92, 124, 129,\n",
       "       126, 107, 123, 112, 110, 116, 114, 118,  96, 122, 107,  95, 128,\n",
       "        90, 103, 123,  96, 108, 109, 109, 116, 120,  90, 119, 120, 125,\n",
       "       129, 108, 127, 128, 109, 116, 126, 108,  99,  92,  94, 113, 112,\n",
       "       104, 125, 110, 105,  95,  90, 107, 112, 122, 126, 122,  95, 121,\n",
       "        94, 101, 119, 122, 125, 124, 125, 125, 111, 123,  97,  90, 118,\n",
       "       100,  99, 112, 120,  91, 127,  97, 128, 123])"
      ]
     },
     "execution_count": 3,
     "metadata": {},
     "output_type": "execute_result"
    }
   ],
   "source": [
    "int_list"
   ]
  },
  {
   "cell_type": "markdown",
   "id": "d28c700d",
   "metadata": {},
   "source": [
    "# 1.(i) Write a Python function to calculate the mean of a given list of numbers.Create a function to find the median of a list of numbers"
   ]
  },
  {
   "cell_type": "code",
   "execution_count": 4,
   "id": "61a49864",
   "metadata": {},
   "outputs": [
    {
     "name": "stdout",
     "output_type": "stream",
     "text": [
      "Mean is:  111.31\n"
     ]
    }
   ],
   "source": [
    "# Mean:\n",
    "# np.mean(int_list)\n",
    "def mean_of_list(numbers):\n",
    "    n = len(numbers)\n",
    "    mean_value = sum(numbers)/n\n",
    "    return mean_value\n",
    "\n",
    "# call the function\n",
    "result = mean_of_list(int_list)\n",
    "print(f'Mean is: ',result)"
   ]
  },
  {
   "cell_type": "code",
   "execution_count": 5,
   "id": "6faf6eab",
   "metadata": {},
   "outputs": [
    {
     "name": "stdout",
     "output_type": "stream",
     "text": [
      "Median of Above list is:\n",
      "111.5\n"
     ]
    }
   ],
   "source": [
    "# Median:\n",
    "# np.median(int_list)\n",
    "def median_of_list(numbers):\n",
    "    sorted_list = sorted(numbers)\n",
    "    n = len(sorted_list)\n",
    "    \n",
    "    if n%2==0:\n",
    "        median= (sorted_list[n//2 -1] + sorted_list[n//2])/2\n",
    "    else:\n",
    "        median = sorted_list[n//2]\n",
    "    return median\n",
    "\n",
    "print('Median of Above list is:')\n",
    "print(median_of_list(int_list))\n"
   ]
  },
  {
   "cell_type": "markdown",
   "id": "a96b5d12",
   "metadata": {},
   "source": [
    "# 1.(ii) Develop a program to compute the mode of a list of integers"
   ]
  },
  {
   "cell_type": "code",
   "execution_count": 6,
   "id": "6327aa2e",
   "metadata": {},
   "outputs": [
    {
     "data": {
      "text/plain": [
       "107"
      ]
     },
     "execution_count": 6,
     "metadata": {},
     "output_type": "execute_result"
    }
   ],
   "source": [
    "import statistics\n",
    "statistics.mode(int_list)"
   ]
  },
  {
   "cell_type": "markdown",
   "id": "8a643d46",
   "metadata": {},
   "source": [
    "# 1.(iii) ) Implement a function to calculate the weighted mean of a list of values and their corresponding weights."
   ]
  },
  {
   "cell_type": "code",
   "execution_count": 7,
   "id": "90f6c49e",
   "metadata": {},
   "outputs": [
    {
     "name": "stdout",
     "output_type": "stream",
     "text": [
      "Corresponding Weight is:\n",
      "[(101, 2), (113, 2), (109, 3), (123, 7), (90, 6), (127, 5), (111, 3), (125, 3), (114, 2), (126, 5), (117, 2), (98, 5), (120, 3), (91, 2), (97, 2), (121, 3), (102, 5), (110, 3), (105, 2), (103, 3), (107, 3), (115, 3), (100, 4), (119, 2), (99, 2), (116, 2), (122, 1), (118, 2), (128, 4), (129, 2), (124, 1), (95, 2), (104, 1), (106, 1), (93, 1), (112, 1)]\n",
      "Weighted mean: 111.3\n"
     ]
    }
   ],
   "source": [
    "from collections import Counter\n",
    "\n",
    "\n",
    "\n",
    "# Count the occurrences of each element\n",
    "counts = Counter(int_list)\n",
    "\n",
    "print(\"Corresponding Weight is:\")\n",
    "news = list(counts.items())\n",
    "print(news)\n",
    "# Calculate the weighted mean\n",
    "weighted_sum = sum(element * count for element, count in counts.items())\n",
    "total_count = sum(counts.values())\n",
    "weighted_mean = weighted_sum / total_count\n",
    "\n",
    "print(f\"Weighted mean: {weighted_mean}\")\n"
   ]
  },
  {
   "cell_type": "markdown",
   "id": "5c6bb1c7",
   "metadata": {},
   "source": [
    "# 1.(iv) Write a Python function to find the geometric mean of a list of positive numbers"
   ]
  },
  {
   "cell_type": "code",
   "execution_count": 8,
   "id": "f61c2243",
   "metadata": {},
   "outputs": [
    {
     "name": "stdout",
     "output_type": "stream",
     "text": [
      "Given List is: [2, 4, 6, 8, 3]\n",
      "Geometric Mean is: 4.095345022158439\n"
     ]
    }
   ],
   "source": [
    "def geometric_mean(numbers):\n",
    "    n = len(numbers)\n",
    "    product = 1\n",
    "    for num in numbers:\n",
    "        product *= num\n",
    "        \n",
    "    g_means = product ** (1/n)\n",
    "    return g_means\n",
    "\n",
    "my_list = [2,4,6,8,3]\n",
    "print('Given List is:',my_list)\n",
    "result = geometric_mean(my_list)\n",
    "print('Geometric Mean is:',result)\n",
    "        "
   ]
  },
  {
   "cell_type": "code",
   "execution_count": null,
   "id": "a8069fdd",
   "metadata": {},
   "outputs": [],
   "source": []
  },
  {
   "cell_type": "markdown",
   "id": "29c88831",
   "metadata": {},
   "source": [
    "# 1. (v) Create a program to calculate the harmonic mean of a list of values"
   ]
  },
  {
   "cell_type": "code",
   "execution_count": 9,
   "id": "7504fa9f",
   "metadata": {},
   "outputs": [
    {
     "name": "stdout",
     "output_type": "stream",
     "text": [
      "Harmonic mean is: 109.97261377078587\n"
     ]
    }
   ],
   "source": [
    "def harmonic_mean(numbers):\n",
    "    n = len(numbers)\n",
    "    harmonic_sum = sum(1 / x for x in numbers)\n",
    "    harmonic_mean = n / harmonic_sum\n",
    "\n",
    "    print(\"Harmonic mean is:\", harmonic_mean)\n",
    "\n",
    "harmonic_mean(int_list)\n"
   ]
  },
  {
   "cell_type": "markdown",
   "id": "5d017492",
   "metadata": {},
   "source": [
    "# 1. (vi) Build a function to determine the midrange of a list of numbers (average of the minimum and maximum)"
   ]
  },
  {
   "cell_type": "code",
   "execution_count": 10,
   "id": "1ae45387",
   "metadata": {},
   "outputs": [
    {
     "name": "stdout",
     "output_type": "stream",
     "text": [
      "Midrange of list is:  109.5\n"
     ]
    }
   ],
   "source": [
    "def midrange_of_list(numbers):\n",
    "    min_value = min(numbers)\n",
    "    max_value = max(numbers)\n",
    "    midrange = (min_value + max_value)/2\n",
    "    return midrange\n",
    "\n",
    "# call the function\n",
    "midrange_value = midrange_of_list(int_list)\n",
    "print(\"Midrange of list is: \",midrange_value)"
   ]
  },
  {
   "cell_type": "markdown",
   "id": "99585659",
   "metadata": {},
   "source": [
    "# 1. (vii) Implement a Python program to find the trimmed mean of a list, excluding a certain percentage of outliers"
   ]
  },
  {
   "cell_type": "code",
   "execution_count": 11,
   "id": "1765fb10",
   "metadata": {},
   "outputs": [
    {
     "name": "stdout",
     "output_type": "stream",
     "text": [
      "Trimmed List is:  [69, 70, 71, 72, 73, 74, 75, 76, 77, 78, 79, 80, 81, 82, 83, 84, 85, 86, 87, 88, 89]\n",
      "Trimmed Mean is:  79.0\n"
     ]
    }
   ],
   "source": [
    "# find 25th percentile\n",
    "Q1 = np.percentile(int_list,25)\n",
    "\n",
    "# find 75 percentile\n",
    "Q3 = np.percentile(int_list,75)\n",
    "\n",
    "# calculate inter quartile range(IQR)\n",
    "IQR = Q3 - Q1\n",
    "\n",
    "# upperfence\n",
    "lower_fence = Q1 - 1.5 * IQR\n",
    "upper_fence = Q3 - 1.5 * IQR\n",
    "\n",
    "# trimmed list\n",
    "trimmed_list = []\n",
    "for x in range(len(int_list)):\n",
    "    if x>lower_fence and x<upper_fence:\n",
    "        trimmed_list.append(x)\n",
    "        \n",
    "print(\"Trimmed List is: \",trimmed_list)\n",
    "print(\"Trimmed Mean is: \",np.mean(trimmed_list))\n",
    "\n"
   ]
  },
  {
   "cell_type": "markdown",
   "id": "d45c6c1e",
   "metadata": {},
   "source": [
    "# 2. Generate a list of 500 integers containing values between 200 to 300 and store it in the variable `int_list2`. After generating the list, find the following:"
   ]
  },
  {
   "cell_type": "code",
   "execution_count": 7,
   "id": "1922b5fc",
   "metadata": {},
   "outputs": [],
   "source": [
    "int_list2 = np.random.randint(200,300,500)"
   ]
  },
  {
   "cell_type": "code",
   "execution_count": 8,
   "id": "021440b8",
   "metadata": {},
   "outputs": [
    {
     "data": {
      "text/plain": [
       "array([254, 201, 241, 215, 209, 232, 231, 269, 279, 253, 296, 280, 206,\n",
       "       233, 289, 203, 253, 269, 272, 284, 240, 205, 258, 228, 244, 217,\n",
       "       276, 262, 236, 290, 263, 204, 218, 270, 277, 253, 242, 251, 219,\n",
       "       232, 245, 286, 296, 219, 262, 237, 271, 257, 273, 241, 287, 279,\n",
       "       276, 225, 267, 246, 217, 241, 229, 219, 207, 221, 250, 286, 283,\n",
       "       224, 244, 280, 207, 259, 203, 208, 283, 212, 253, 265, 231, 254,\n",
       "       244, 207, 272, 274, 289, 263, 287, 233, 263, 272, 229, 296, 277,\n",
       "       266, 224, 294, 202, 207, 215, 295, 242, 232, 255, 208, 280, 274,\n",
       "       247, 255, 293, 275, 254, 223, 268, 258, 210, 219, 255, 284, 241,\n",
       "       273, 247, 260, 202, 281, 211, 289, 252, 226, 290, 296, 252, 202,\n",
       "       212, 230, 268, 275, 277, 261, 203, 244, 239, 256, 260, 276, 258,\n",
       "       296, 252, 288, 297, 254, 278, 275, 243, 210, 243, 289, 232, 226,\n",
       "       215, 278, 240, 299, 289, 204, 261, 254, 278, 254, 278, 278, 256,\n",
       "       207, 292, 293, 286, 246, 265, 236, 279, 204, 255, 254, 259, 205,\n",
       "       271, 259, 240, 294, 232, 203, 264, 223, 286, 250, 274, 283, 282,\n",
       "       233, 236, 237, 288, 276, 261, 227, 266, 208, 203, 231, 282, 233,\n",
       "       292, 210, 201, 212, 255, 246, 261, 290, 248, 257, 247, 254, 238,\n",
       "       237, 246, 226, 227, 290, 211, 294, 262, 210, 239, 266, 214, 280,\n",
       "       201, 267, 236, 299, 228, 218, 279, 217, 235, 260, 247, 252, 231,\n",
       "       257, 200, 265, 237, 285, 286, 282, 266, 237, 244, 223, 258, 294,\n",
       "       286, 288, 243, 279, 257, 235, 284, 262, 201, 274, 290, 258, 260,\n",
       "       218, 256, 245, 295, 201, 276, 289, 241, 205, 279, 284, 234, 260,\n",
       "       251, 259, 235, 203, 222, 208, 205, 203, 247, 230, 253, 220, 229,\n",
       "       249, 280, 286, 234, 202, 201, 233, 209, 255, 250, 233, 237, 275,\n",
       "       291, 287, 218, 252, 279, 207, 223, 245, 273, 253, 229, 243, 244,\n",
       "       249, 245, 266, 202, 272, 248, 202, 203, 268, 282, 226, 254, 258,\n",
       "       245, 208, 243, 203, 251, 283, 280, 295, 296, 249, 249, 294, 206,\n",
       "       237, 203, 250, 222, 260, 265, 272, 298, 202, 253, 221, 270, 248,\n",
       "       261, 228, 228, 246, 224, 207, 207, 202, 270, 290, 278, 253, 279,\n",
       "       204, 252, 299, 268, 265, 272, 286, 276, 207, 234, 234, 239, 229,\n",
       "       239, 236, 291, 208, 249, 277, 265, 265, 295, 224, 256, 200, 210,\n",
       "       277, 218, 237, 234, 250, 256, 288, 224, 234, 227, 236, 218, 215,\n",
       "       235, 270, 259, 295, 218, 266, 224, 253, 289, 209, 238, 204, 297,\n",
       "       202, 223, 287, 245, 236, 211, 203, 278, 232, 298, 233, 268, 236,\n",
       "       232, 242, 224, 278, 264, 283, 263, 215, 297, 248, 239, 296, 230,\n",
       "       277, 205, 223, 253, 245, 244, 245, 286, 291, 229, 202, 295, 243,\n",
       "       262, 257, 274, 217, 226, 260, 205, 216, 273, 268, 246, 231, 265,\n",
       "       239, 264, 217, 266, 237, 211, 289, 241, 273, 267, 204, 235, 259,\n",
       "       277, 249, 289, 244, 285, 216])"
      ]
     },
     "execution_count": 8,
     "metadata": {},
     "output_type": "execute_result"
    }
   ],
   "source": [
    "int_list2"
   ]
  },
  {
   "cell_type": "code",
   "execution_count": 14,
   "id": "d432f8f0",
   "metadata": {},
   "outputs": [],
   "source": [
    "# 2.(i) Compare the given list of visualization for the given data:\n",
    "# 1. Frequency & Gaussian distribution"
   ]
  },
  {
   "cell_type": "code",
   "execution_count": 10,
   "id": "dd8d77b2-530b-4643-8899-53a348e80fae",
   "metadata": {},
   "outputs": [],
   "source": [
    "from scipy.stats import norm, shapiro"
   ]
  },
  {
   "cell_type": "code",
   "execution_count": 11,
   "id": "baf094cc",
   "metadata": {},
   "outputs": [
    {
     "data": {
      "image/png": "[encoded data removed]",
      "text/plain": [
       "<Figure size 1200x600 with 4 Axes>"
      ]
     },
     "metadata": {},
     "output_type": "display_data"
    }
   ],
   "source": [
    "# Frequency Distribution\n",
    "plt.figure(figsize = (12,6))\n",
    "plt.subplot(2,2,1)\n",
    "plt.hist(int_list,bins=20,color='blue',alpha=0.7,label='int_list')\n",
    "plt.legend()\n",
    "plt.title(\"Frequency Distribution - int_list\")\n",
    "\n",
    "plt.subplot(2,2,2)\n",
    "plt.hist(int_list2,bins=20,color='red',alpha=0.7,label='int_list2')\n",
    "plt.legend()\n",
    "plt.title(\"Frequency Distribution - int_list2\")\n",
    "\n",
    "# Gaussian Distribution\n",
    "plt.subplot(2,2,3)\n",
    "plt.hist(int_list,bins=20,density=True,color='blue',alpha=0.7,label='int_list')\n",
    "xmin,xmax = plt.xlim()\n",
    "x = np.linspace(xmin,xmax,100)\n",
    "p = norm.pdf(x,np.mean(int_list),np.std(int_list))\n",
    "plt.plot(x,p,'k',linewidth=2)\n",
    "plt.title('Gaussian Distribution - int_list')\n",
    "\n",
    "plt.subplot(2, 2, 4)\n",
    "plt.hist(int_list2, bins=20, density=True, color='red', alpha=0.7, label='int_list2')\n",
    "xmin, xmax = plt.xlim()\n",
    "x = np.linspace(xmin, xmax, 100)\n",
    "p = norm.pdf(x, np.mean(int_list2), np.std(int_list2))\n",
    "plt.plot(x, p, 'k', linewidth=2)\n",
    "plt.title('Gaussian Distribution - int_list2')\n",
    "plt.tight_layout() \n",
    "plt.show()"
   ]
  },
  {
   "cell_type": "code",
   "execution_count": 12,
   "id": "032082eb-2814-4516-b8ae-12fd0805df71",
   "metadata": {},
   "outputs": [
    {
     "data": {
      "text/plain": [
       "ShapiroResult(statistic=0.9431254505246448, pvalue=0.00030058761460380665)"
      ]
     },
     "execution_count": 12,
     "metadata": {},
     "output_type": "execute_result"
    }
   ],
   "source": [
    "shapiro(int_list)"
   ]
  },
  {
   "cell_type": "code",
   "execution_count": 13,
   "id": "73fbe6da-144c-46d9-88c2-8a503e16ca03",
   "metadata": {},
   "outputs": [
    {
     "data": {
      "text/plain": [
       "ShapiroResult(statistic=0.9604200682966041, pvalue=2.435996453304587e-10)"
      ]
     },
     "execution_count": 13,
     "metadata": {},
     "output_type": "execute_result"
    }
   ],
   "source": [
    "shapiro(int_list2)"
   ]
  },
  {
   "cell_type": "markdown",
   "id": "8c91a1f7-3f4f-4c23-8f6a-7e8bd1cf37a4",
   "metadata": {},
   "source": [
    " # 2. (ii) Write a Python function to calculate the range of a given list of numbers."
   ]
  },
  {
   "cell_type": "code",
   "execution_count": 14,
   "id": "12775996-618b-4522-8c34-2dc7914b9a31",
   "metadata": {},
   "outputs": [
    {
     "data": {
      "text/plain": [
       "99"
      ]
     },
     "execution_count": 14,
     "metadata": {},
     "output_type": "execute_result"
    }
   ],
   "source": [
    "list_range = max(int_list2)-min(int_list2)\n",
    "list_range"
   ]
  },
  {
   "cell_type": "markdown",
   "id": "50184970-0afd-4916-8dcc-610fbc735255",
   "metadata": {},
   "source": [
    "# 2. (iii) Create a program to find the variance and standard deviation of a list of numbers."
   ]
  },
  {
   "cell_type": "code",
   "execution_count": 11,
   "id": "b26a2d51-7eed-42f7-84d6-3a75bd8ee12a",
   "metadata": {},
   "outputs": [
    {
     "name": "stdout",
     "output_type": "stream",
     "text": [
      "Variance: 815.8817274549097\n",
      "Standard Deviation: 28.563643455534688\n"
     ]
    }
   ],
   "source": [
    "import math\n",
    "\n",
    "def calculate_variance(numbers):\n",
    "    if len(numbers) < 2:\n",
    "        return None  # Variance requires at least two numbers\n",
    "    mean = sum(numbers) / len(numbers)\n",
    "    squared_diff = sum((x - mean) ** 2 for x in numbers)\n",
    "    return squared_diff / (len(numbers) - 1)\n",
    "\n",
    "def calculate_standard_deviation(variance):\n",
    "    if variance is None:\n",
    "        return None\n",
    "    return math.sqrt(variance)\n",
    "\n",
    "# Example usage:\n",
    "\n",
    "variance = calculate_variance(int_list2)\n",
    "standard_deviation = calculate_standard_deviation(variance)\n",
    "\n",
    "print(\"Variance:\", variance)\n",
    "print(\"Standard Deviation:\", standard_deviation)\n"
   ]
  },
  {
   "cell_type": "markdown",
   "id": "6ffa19b1-062f-451b-ab62-ef83e463e58c",
   "metadata": {},
   "source": [
    "# 2. (iv) Implement a function to compute the interquartile range (IQR) of a list of values"
   ]
  },
  {
   "cell_type": "code",
   "execution_count": 21,
   "id": "07e20e92-135c-4471-a5dc-5fb5ed9f7f07",
   "metadata": {},
   "outputs": [
    {
     "name": "stdout",
     "output_type": "stream",
     "text": [
      "IQR of List is : 16\n"
     ]
    }
   ],
   "source": [
    "# IQR: Q3 - Q1\n",
    "def IQR_of_list(numbers):\n",
    "    N = len(numbers)\n",
    "    idx1 = N//4\n",
    "    Q1 = numbers[idx1]\n",
    "    idx3 = 3 * (N//4)\n",
    "    Q3 = numbers[idx3]\n",
    "    IQR = Q3 - Q1\n",
    "    return IQR\n",
    "\n",
    "IQR = IQR_of_list(int_list2)\n",
    "print(\"IQR of List is :\",IQR)   "
   ]
  },
  {
   "cell_type": "markdown",
   "id": "740ebdfa-d2de-40b1-811f-280da2906d5e",
   "metadata": {},
   "source": [
    "# 2. (v) Build a program to calculate the coefficient of variation for a dataset"
   ]
  },
  {
   "cell_type": "code",
   "execution_count": 25,
   "id": "0d043945-cd36-4492-a96c-296998f73383",
   "metadata": {},
   "outputs": [
    {
     "data": {
      "text/plain": [
       "0.005592261300544986"
      ]
     },
     "execution_count": 25,
     "metadata": {},
     "output_type": "execute_result"
    }
   ],
   "source": [
    "# coefficient of variation: std/mean\n",
    "def coefficient_of_variation(dataset):\n",
    "    N = len(dataset)\n",
    "    mean = sum(dataset) / N\n",
    "    variance = sum((x-mean)**2 for x in dataset) / N\n",
    "    std = variance**0.05\n",
    "    cv = std/mean\n",
    "    return cv\n",
    "\n",
    "coefficient_of_variation(int_list2)"
   ]
  },
  {
   "cell_type": "markdown",
   "id": "573225d6-3fab-43fd-95c1-e3656f49da3f",
   "metadata": {},
   "source": [
    "# 2. (vi) Write a Python function to find the mean absolute deviation (MAD) of a list of numbers."
   ]
  },
  {
   "cell_type": "code",
   "execution_count": 15,
   "id": "76d612aa-1237-4ae4-b5aa-6fa510c349f6",
   "metadata": {},
   "outputs": [
    {
     "name": "stdout",
     "output_type": "stream",
     "text": [
      " Mean Absolute Deviation is : 23.880544000000015\n"
     ]
    }
   ],
   "source": [
    "# Mean Absolute Deviation: abs(xi-mue)/N\n",
    "def mean_absolute_deviation(numbers):\n",
    "    N = len(numbers)\n",
    "    mean_of_numbers = sum(numbers)/N\n",
    "    abs_value = sum(abs(x-mean_of_numbers) for x in numbers)\n",
    "    MAD = abs_value / N\n",
    "    return MAD\n",
    "\n",
    "# call the function\n",
    "MAD = mean_absolute_deviation(int_list2)\n",
    "print(\" Mean Absolute Deviation is :\",MAD)\n"
   ]
  },
  {
   "cell_type": "markdown",
   "id": "b667dbf9-f639-483c-9ce3-3a8560521b3d",
   "metadata": {},
   "source": [
    "# 2. (vii) Create a program to calculate the quartile deviation of a list of values."
   ]
  },
  {
   "cell_type": "code",
   "execution_count": 16,
   "id": "c335c40e-99d0-4e31-ad06-1f76979f20fc",
   "metadata": {},
   "outputs": [
    {
     "name": "stdout",
     "output_type": "stream",
     "text": [
      "Quartile Deviation is:  13.5\n"
     ]
    }
   ],
   "source": [
    "# Quartile Deviation : Q3 - Q1 / 2\n",
    "def Quartile_Deviation(numbers):\n",
    "    N = len(numbers)\n",
    "    idx1 = N//4\n",
    "    Q1 = numbers[idx1]\n",
    "    idx3 = 3 * (N//4)\n",
    "    Q3 = numbers[idx3]\n",
    "    QD = (Q3 - Q1) / 2\n",
    "    return QD\n",
    "\n",
    "# called the function\n",
    "QD = Quartile_Deviation(int_list2)\n",
    "print(\"Quartile Deviation is: \",QD)"
   ]
  },
  {
   "cell_type": "markdown",
   "id": "16d15248-e11a-4351-bf5e-56722f1b6860",
   "metadata": {},
   "source": [
    "# 2. (viii) Implement a function to find the range-based coefficient of dispersion for a dataset."
   ]
  },
  {
   "cell_type": "code",
   "execution_count": 19,
   "id": "6f99fb04-a27d-41d0-aa85-9eab0239971a",
   "metadata": {},
   "outputs": [
    {
     "name": "stdout",
     "output_type": "stream",
     "text": [
      "Range Based Coefficient of Dispersion 0.19839679358717435\n"
     ]
    }
   ],
   "source": [
    "# Range Based Coefficient: min(list) - max(list) / (min(list) + min(list))\n",
    "def range_based_coefficient(numbers):\n",
    "    Min = min(numbers)\n",
    "    Max = max(numbers)\n",
    "    RBC = (Max - Min) / (Min + Max)\n",
    "    return RBC\n",
    "\n",
    "# called the function\n",
    "RBC = range_based_coefficient(int_list2)\n",
    "print(\"Range Based Coefficient of Dispersion\",RBC)"
   ]
  },
  {
   "cell_type": "markdown",
   "id": "dfddbef0-aa8d-4337-94fd-9b7b8e4ff337",
   "metadata": {},
   "source": [
    " # 3. Write a Python class representing a discrete random variable with methods to calculate its expected value and variance."
   ]
  },
  {
   "cell_type": "code",
   "execution_count": 5,
   "id": "6b11207e-3f4f-4787-9650-585e35461822",
   "metadata": {},
   "outputs": [
    {
     "name": "stdout",
     "output_type": "stream",
     "text": [
      "Expected Value: 3.2\n",
      "Variance: 1.56\n"
     ]
    }
   ],
   "source": [
    "class DiscreteRandomVariable:\n",
    "    def __init__(self, actual_value, expected_value):\n",
    "        self.actual_value = actual_value\n",
    "        self.expected_value = expected_value\n",
    "        if len(actual_value) != len(expected_value):\n",
    "            raise ValueError(\"Length of actual_value and expected_value should be same\")\n",
    "\n",
    "    def calculate_expected_value(self):\n",
    "        return sum(actual * expected for actual, expected in zip(self.actual_value, self.expected_value))\n",
    "    \n",
    "    def calculate_variance(self):\n",
    "        value_expected = self.calculate_expected_value()\n",
    "        squared_difference = [(outcome - value_expected) ** 2 for outcome in self.actual_value]\n",
    "        return sum(a * b for a, b in zip(self.expected_value, squared_difference))\n",
    "\n",
    "# Example usage:\n",
    "outcomes = [1, 2, 3, 4, 5]\n",
    "probabilities = [0.1, 0.2, 0.3, 0.2, 0.2]\n",
    "\n",
    "random_variable = DiscreteRandomVariable(outcomes, probabilities)\n",
    "print(\"Expected Value:\", random_variable.calculate_expected_value())\n",
    "print(\"Variance:\", random_variable.calculate_variance())\n"
   ]
  },
  {
   "cell_type": "markdown",
   "id": "1f61a53f-4c0f-46db-9254-349369c6b600",
   "metadata": {},
   "source": [
    "# 4. Implement a program to simulate the rolling of a fair six-sided die and calculate the expected value and variance of the outcomes."
   ]
  },
  {
   "cell_type": "code",
   "execution_count": 2,
   "id": "05933195-a6c4-4709-af77-f6a150a86e9c",
   "metadata": {},
   "outputs": [
    {
     "name": "stdout",
     "output_type": "stream",
     "text": [
      "Expected Value: 3.5018\n",
      "Variance: 2.9263967600000003\n"
     ]
    }
   ],
   "source": [
    "import numpy as np\n",
    "\n",
    "# Simulate rolling a six-sided die n times\n",
    "n = 10000  # Number of times to roll the die\n",
    "rolls = np.random.randint(1, 7, size=n)\n",
    "\n",
    "# Calculate the expected value (mean)\n",
    "expected_value = np.mean(rolls)\n",
    "\n",
    "# Calculate the variance\n",
    "variance = np.var(rolls)\n",
    "\n",
    "print(f\"Expected Value: {expected_value}\")\n",
    "print(f\"Variance: {variance}\")\n"
   ]
  },
  {
   "cell_type": "markdown",
   "id": "9a51d2a9-75d2-4835-b640-09e98640b3ac",
   "metadata": {},
   "source": [
    "# 5. Create a Python function to generate random samples from a given probability distribution (e.g.,binomial, Poisson) and calculate their mean and variance."
   ]
  },
  {
   "cell_type": "code",
   "execution_count": 29,
   "id": "fbc83dcb-1eff-4f5e-ab2e-db951056ee28",
   "metadata": {},
   "outputs": [
    {
     "name": "stdout",
     "output_type": "stream",
     "text": [
      "Binomial Distribution: Mean = 50.2, Variance = 18.180000000000003\n",
      "Poisson Distrubution: Mean = 2.92,Variance = 2.373600000000001\n"
     ]
    }
   ],
   "source": [
    "def generate_random_sample(distribution_name,params,sample_size):\n",
    "    if distribution_name=='binomial':\n",
    "        n = params['n']\n",
    "        p = params['p']\n",
    "        sample = np.random.binomial(n,p,sample_size)\n",
    "        \n",
    "    elif distribution_name =='poisson':\n",
    "         lam = params['lambda']\n",
    "         sample = np.random.poisson(lam,sample_size)\n",
    "    else:\n",
    "        print(\"Unsupported Distribution\")\n",
    "        \n",
    "    sample_mean = sum(sample)/len(sample)\n",
    "    sample_variance = sum((x-sample_mean)**2 / len(sample) for x in sample)\n",
    "    return sample,sample_mean,sample_variance\n",
    "\n",
    "# call Bionomial Sample\n",
    "params = {'n':100,'p':0.5}\n",
    "samples, mean, variance = generate_random_sample('binomial', params, 100)\n",
    "print(f\"Binomial Distribution: Mean = {mean}, Variance = {variance}\")\n",
    "\n",
    "# call poisson sample \n",
    "poisson_params = {'lambda':3}\n",
    "samples,mean,variance = generate_random_sample('poisson',poisson_params,100)\n",
    "print(f\"Poisson Distrubution: Mean = {mean},Variance = {variance}\")"
   ]
  },
  {
   "cell_type": "markdown",
   "id": "95f6e68f-389c-485f-9ab7-0f026a656316",
   "metadata": {},
   "source": [
    "# 6. Write a Python script to generate random numbers from a Gaussian (normal) distribution and compute the mean, variance, and standard deviation of the samples"
   ]
  },
  {
   "cell_type": "code",
   "execution_count": 2,
   "id": "db7a769d-e5b3-44f9-8017-f328a6ebbe98",
   "metadata": {},
   "outputs": [
    {
     "data": {
      "text/plain": [
       "' Mean is 1.9835485120553766,Variance is 23.264255901651797, Standard Deviation is 4.82330342210106'"
      ]
     },
     "execution_count": 2,
     "metadata": {},
     "output_type": "execute_result"
    }
   ],
   "source": [
    "def gaussian_sample(sample_mean,sample_std,sample_size):\n",
    "    sample = np.random.normal(sample_mean,sample_std,sample_size)\n",
    "    N = len(sample)\n",
    "    mean = sum(sample)/N\n",
    "    variance = sum((x-mean)**2 / N for x in sample)\n",
    "    std = variance**0.5\n",
    "    return f\" Mean is {mean},Variance is {variance}, Standard Deviation is {std}\"\n",
    "    \n",
    "gaussian_sample(3,6,20)\n"
   ]
  },
  {
   "cell_type": "markdown",
   "id": "8ae8e4ec-489b-4692-9c24-25e4c3ea1b95",
   "metadata": {},
   "source": [
    "# 7. Use seaborn library to load `tips` dataset. Find the following from the dataset for the columns `total_bill` and `tip`:"
   ]
  },
  {
   "cell_type": "code",
   "execution_count": 2,
   "id": "e6ad92d1-36e5-4b1c-a26a-077e505871bc",
   "metadata": {
    "scrolled": true
   },
   "outputs": [
    {
     "data": {
      "text/html": [
       "<div>\n",
       "<style scoped>\n",
       "    .dataframe tbody tr th:only-of-type {\n",
       "        vertical-align: middle;\n",
       "    }\n",
       "\n",
       "    .dataframe tbody tr th {\n",
       "        vertical-align: top;\n",
       "    }\n",
       "\n",
       "    .dataframe thead th {\n",
       "        text-align: right;\n",
       "    }\n",
       "</style>\n",
       "<table border=\"1\" class=\"dataframe\">\n",
       "  <thead>\n",
       "    <tr style=\"text-align: right;\">\n",
       "      <th></th>\n",
       "      <th>total_bill</th>\n",
       "      <th>tip</th>\n",
       "      <th>sex</th>\n",
       "      <th>smoker</th>\n",
       "      <th>day</th>\n",
       "      <th>time</th>\n",
       "      <th>size</th>\n",
       "    </tr>\n",
       "  </thead>\n",
       "  <tbody>\n",
       "    <tr>\n",
       "      <th>0</th>\n",
       "      <td>16.99</td>\n",
       "      <td>1.01</td>\n",
       "      <td>Female</td>\n",
       "      <td>No</td>\n",
       "      <td>Sun</td>\n",
       "      <td>Dinner</td>\n",
       "      <td>2</td>\n",
       "    </tr>\n",
       "    <tr>\n",
       "      <th>1</th>\n",
       "      <td>10.34</td>\n",
       "      <td>1.66</td>\n",
       "      <td>Male</td>\n",
       "      <td>No</td>\n",
       "      <td>Sun</td>\n",
       "      <td>Dinner</td>\n",
       "      <td>3</td>\n",
       "    </tr>\n",
       "    <tr>\n",
       "      <th>2</th>\n",
       "      <td>21.01</td>\n",
       "      <td>3.50</td>\n",
       "      <td>Male</td>\n",
       "      <td>No</td>\n",
       "      <td>Sun</td>\n",
       "      <td>Dinner</td>\n",
       "      <td>3</td>\n",
       "    </tr>\n",
       "    <tr>\n",
       "      <th>3</th>\n",
       "      <td>23.68</td>\n",
       "      <td>3.31</td>\n",
       "      <td>Male</td>\n",
       "      <td>No</td>\n",
       "      <td>Sun</td>\n",
       "      <td>Dinner</td>\n",
       "      <td>2</td>\n",
       "    </tr>\n",
       "    <tr>\n",
       "      <th>4</th>\n",
       "      <td>24.59</td>\n",
       "      <td>3.61</td>\n",
       "      <td>Female</td>\n",
       "      <td>No</td>\n",
       "      <td>Sun</td>\n",
       "      <td>Dinner</td>\n",
       "      <td>4</td>\n",
       "    </tr>\n",
       "    <tr>\n",
       "      <th>...</th>\n",
       "      <td>...</td>\n",
       "      <td>...</td>\n",
       "      <td>...</td>\n",
       "      <td>...</td>\n",
       "      <td>...</td>\n",
       "      <td>...</td>\n",
       "      <td>...</td>\n",
       "    </tr>\n",
       "    <tr>\n",
       "      <th>239</th>\n",
       "      <td>29.03</td>\n",
       "      <td>5.92</td>\n",
       "      <td>Male</td>\n",
       "      <td>No</td>\n",
       "      <td>Sat</td>\n",
       "      <td>Dinner</td>\n",
       "      <td>3</td>\n",
       "    </tr>\n",
       "    <tr>\n",
       "      <th>240</th>\n",
       "      <td>27.18</td>\n",
       "      <td>2.00</td>\n",
       "      <td>Female</td>\n",
       "      <td>Yes</td>\n",
       "      <td>Sat</td>\n",
       "      <td>Dinner</td>\n",
       "      <td>2</td>\n",
       "    </tr>\n",
       "    <tr>\n",
       "      <th>241</th>\n",
       "      <td>22.67</td>\n",
       "      <td>2.00</td>\n",
       "      <td>Male</td>\n",
       "      <td>Yes</td>\n",
       "      <td>Sat</td>\n",
       "      <td>Dinner</td>\n",
       "      <td>2</td>\n",
       "    </tr>\n",
       "    <tr>\n",
       "      <th>242</th>\n",
       "      <td>17.82</td>\n",
       "      <td>1.75</td>\n",
       "      <td>Male</td>\n",
       "      <td>No</td>\n",
       "      <td>Sat</td>\n",
       "      <td>Dinner</td>\n",
       "      <td>2</td>\n",
       "    </tr>\n",
       "    <tr>\n",
       "      <th>243</th>\n",
       "      <td>18.78</td>\n",
       "      <td>3.00</td>\n",
       "      <td>Female</td>\n",
       "      <td>No</td>\n",
       "      <td>Thur</td>\n",
       "      <td>Dinner</td>\n",
       "      <td>2</td>\n",
       "    </tr>\n",
       "  </tbody>\n",
       "</table>\n",
       "<p>244 rows × 7 columns</p>\n",
       "</div>"
      ],
      "text/plain": [
       "     total_bill   tip     sex smoker   day    time  size\n",
       "0         16.99  1.01  Female     No   Sun  Dinner     2\n",
       "1         10.34  1.66    Male     No   Sun  Dinner     3\n",
       "2         21.01  3.50    Male     No   Sun  Dinner     3\n",
       "3         23.68  3.31    Male     No   Sun  Dinner     2\n",
       "4         24.59  3.61  Female     No   Sun  Dinner     4\n",
       "..          ...   ...     ...    ...   ...     ...   ...\n",
       "239       29.03  5.92    Male     No   Sat  Dinner     3\n",
       "240       27.18  2.00  Female    Yes   Sat  Dinner     2\n",
       "241       22.67  2.00    Male    Yes   Sat  Dinner     2\n",
       "242       17.82  1.75    Male     No   Sat  Dinner     2\n",
       "243       18.78  3.00  Female     No  Thur  Dinner     2\n",
       "\n",
       "[244 rows x 7 columns]"
      ]
     },
     "execution_count": 2,
     "metadata": {},
     "output_type": "execute_result"
    }
   ],
   "source": [
    "data = sns.load_dataset('tips')\n",
    "data"
   ]
  },
  {
   "cell_type": "markdown",
   "id": "56285ec4-eb16-42ad-a759-f5fcee51dc77",
   "metadata": {},
   "source": [
    "# 7. (i) Write a Python function that calculates their skewness."
   ]
  },
  {
   "cell_type": "code",
   "execution_count": 42,
   "id": "6619976f-d5fa-4288-9893-163ca83bbd22",
   "metadata": {},
   "outputs": [
    {
     "name": "stdout",
     "output_type": "stream",
     "text": [
      "Skewness of total_bill is 1.13 and skewness of tip is 1.47\n"
     ]
    }
   ],
   "source": [
    "def skewness_calculate(numbers):\n",
    "    n = len(numbers)\n",
    "    mean_value = np.mean(numbers)\n",
    "    std_value = np.std(numbers, ddof=1)  # Sample standard deviation\n",
    "    skewness_value = (n * np.sum((numbers - mean_value)**3)) / ((n - 1) * (n - 2) * std_value**3)\n",
    "    return skewness_value\n",
    "\n",
    "# Load the 'tips' dataset from seaborn\n",
    "data = sns.load_dataset('tips')\n",
    "\n",
    "# Calculate skewness for 'total_bill' and 'tip' columns\n",
    "skewness_total_bill = skewness_calculate(data['total_bill'])\n",
    "skewness_tip = skewness_calculate(data['tip'])\n",
    "\n",
    "print(f'Skewness of total_bill is {skewness_total_bill:.2f} and skewness of tip is {skewness_tip:.2f}')"
   ]
  },
  {
   "cell_type": "markdown",
   "id": "8f471e3f-d323-4df3-b5fb-d953c40f00fb",
   "metadata": {},
   "source": [
    "# 7. (ii) Create a program that determines whether the columns exhibit positive skewness, negative skewness, or is approximately symmetric."
   ]
  },
  {
   "cell_type": "code",
   "execution_count": 9,
   "id": "7b103f6e-c5a8-477d-929f-5ad06155cc90",
   "metadata": {},
   "outputs": [
    {
     "name": "stdout",
     "output_type": "stream",
     "text": [
      "Skewness of total_bill is positive skewness and Skewness of tip is positive skewness\n"
     ]
    }
   ],
   "source": [
    "\n",
    "# Function to classify skewness using Pearson's second skewness coefficient\n",
    "def classify_skewness_pearson(mean, median, std):\n",
    "    skewness_pearson = 3 * (mean - median) / std\n",
    "    if skewness_pearson > 0:\n",
    "        return \"positive skewness\"\n",
    "    elif skewness_pearson < 0:\n",
    "        return \"negative skewness\"\n",
    "    else:\n",
    "        return \"approximately symmetric\"\n",
    "\n",
    "# Main function to analyze skewness of DataFrame columns using Pearson's method\n",
    "def analyze_skewness_pearson(df):\n",
    "    \n",
    "    \n",
    "    mean = df.mean()\n",
    "    median = df.median()\n",
    "    std = df.std()\n",
    "    skewness_results = classify_skewness_pearson(mean, median, std)\n",
    "    return skewness_results\n",
    "\n",
    "df1 = data['total_bill']\n",
    "df2 = data['tip']\n",
    "result1 = analyze_skewness_pearson(df1)\n",
    "result2 = analyze_skewness_pearson(df2)\n",
    "print(f\"Skewness of total_bill is { result1} and Skewness of tip is {result2}\")"
   ]
  },
  {
   "cell_type": "markdown",
   "id": "07afa99e-f2a0-4b04-bec6-65160ed126c3",
   "metadata": {},
   "source": [
    "# 7. (iii) Write a function that calculates the covariance between two columns"
   ]
  },
  {
   "cell_type": "code",
   "execution_count": 15,
   "id": "7ff6b603-e2d3-4433-aee9-cc65c10b90c2",
   "metadata": {},
   "outputs": [
    {
     "name": "stdout",
     "output_type": "stream",
     "text": [
      "Covariance is 8.323501629224854 ,Positive relation\n"
     ]
    }
   ],
   "source": [
    "def covariance_between_columns(col1,col2):\n",
    "    mean1_x = np.mean(col1)\n",
    "    mean2_y = np.mean(col2)\n",
    "    N = len(col1)\n",
    "    covariance = sum((col1[i]-mean1_x)*(col2[i]-mean2_y) for i in range(N)) / (N-1)\n",
    "    return covariance\n",
    "\n",
    "x  = data['total_bill']\n",
    "y = data['tip']\n",
    "result = covariance_between_columns(x,y)\n",
    "if result>0:\n",
    "    print(f\"Covariance is { result} ,Positive relation\")\n",
    "elif result<0:\n",
    "    print(f\"Covariance is {result} ,Negative relation\")\n",
    "else:\n",
    "    print(f\"Covariance is {result} , No Relation\")"
   ]
  },
  {
   "cell_type": "markdown",
   "id": "eb71a773-51ed-49ef-ae51-0538042968fc",
   "metadata": {},
   "source": [
    "# 7. (iv) Implement a Python program that calculates the Pearson correlation coefficient between two columns."
   ]
  },
  {
   "cell_type": "code",
   "execution_count": 18,
   "id": "7cd0d918-15ca-4507-be9e-028f26245380",
   "metadata": {},
   "outputs": [
    {
     "name": "stdout",
     "output_type": "stream",
     "text": [
      "Pearson Correlation Coefficient: 0.6757341092113642\n"
     ]
    }
   ],
   "source": [
    "def pearson_correlation(x, y):\n",
    "    if len(x) != len(y):\n",
    "        raise ValueError(\"The input lists must have the same length.\")\n",
    "    \n",
    "    n = len(x)\n",
    "    \n",
    "    mean_x = sum(x) / n\n",
    "    mean_y = sum(y) / n\n",
    "    \n",
    "    sum_xy = sum((x[i] - mean_x) * (y[i] - mean_y) for i in range(n))\n",
    "    sum_xx = sum((x[i] - mean_x) ** 2 for i in range(n))\n",
    "    sum_yy = sum((y[i] - mean_y) ** 2 for i in range(n))\n",
    "    \n",
    "    correlation = sum_xy / ((sum_xx * sum_yy) ** 0.5)\n",
    "    \n",
    "    return correlation\n",
    "\n",
    "# Example usage:\n",
    "x = data['total_bill']\n",
    "y = data['tip']\n",
    "\n",
    "print(f\"Pearson Correlation Coefficient: {pearson_correlation(x, y)}\")\n"
   ]
  },
  {
   "cell_type": "markdown",
   "id": "5cd1f902-784e-45fe-80f1-319cb1a5cda0",
   "metadata": {},
   "source": [
    "# 7. (v) Write a script to visualize the correlation between two specific columns in a Pandas DataFrame using scatter plots."
   ]
  },
  {
   "cell_type": "code",
   "execution_count": 22,
   "id": "15c1997a-9694-47f0-a35e-ad349544ec4d",
   "metadata": {},
   "outputs": [
    {
     "data": {
      "image/png": "[encoded data removed]",
      "text/plain": [
       "<Figure size 1000x600 with 1 Axes>"
      ]
     },
     "metadata": {},
     "output_type": "display_data"
    }
   ],
   "source": [
    "\n",
    "def plot_correlation(df, col1, col2):\n",
    "    if col1 not in df.columns or col2 not in df.columns:\n",
    "        raise ValueError(\"The specified columns must be in the DataFrame.\")\n",
    "    \n",
    "    # Calculate the Pearson correlation coefficient\n",
    "    correlation = df[col1].corr(df[col2])\n",
    "    \n",
    "    # Create the scatter plot\n",
    "    plt.figure(figsize=(10, 6))\n",
    "    plt.scatter(df[col1], df[col2], alpha=0.5,color = 'green')\n",
    "    plt.title(f'Scatter Plot of {col1} vs {col2}\\nPearson Correlation: {correlation:.2f}')\n",
    "    plt.xlabel(col1)\n",
    "    plt.ylabel(col2)\n",
    "    plt.grid(True)\n",
    "    plt.show()\n",
    "\n",
    "\n",
    "\n",
    "plot_correlation(data, 'total_bill', 'tip')\n"
   ]
  },
  {
   "cell_type": "markdown",
   "id": "f3a7af53-6173-4888-bcb2-f12c28a905d9",
   "metadata": {},
   "source": [
    "# 8. Write a Python function to calculate the probability density function (PDF) of a continuous random variable for a given normal distribution."
   ]
  },
  {
   "cell_type": "code",
   "execution_count": 23,
   "id": "49d8d407-69b1-4b9e-aecb-7d277592f54f",
   "metadata": {},
   "outputs": [
    {
     "name": "stdout",
     "output_type": "stream",
     "text": [
      "The PDF value at x=1.0 for N(0.0, 1.0^2) is 0.24197072451914337\n"
     ]
    }
   ],
   "source": [
    "import math\n",
    "\n",
    "def normal_pdf(x, mu, sigma):\n",
    "    # Calculate the coefficient (1 / (sqrt(2 * pi) * sigma))\n",
    "    coeff = 1 / (math.sqrt(2 * math.pi) * sigma)\n",
    "    \n",
    "    # Calculate the exponent part (- (x - mu)^2 / (2 * sigma^2))\n",
    "    exponent = -((x - mu) ** 2) / (2 * sigma ** 2)\n",
    "    \n",
    "    # Combine the parts to get the PDF value\n",
    "    pdf_value = coeff * math.exp(exponent)\n",
    "    \n",
    "    return pdf_value\n",
    "\n",
    "# Example usage:\n",
    "x = 1.0\n",
    "mu = 0.0\n",
    "sigma = 1.0\n",
    "print(f\"The PDF value at x={x} for N({mu}, {sigma}^2) is {normal_pdf(x, mu, sigma)}\")\n"
   ]
  },
  {
   "cell_type": "markdown",
   "id": "88bf2fb3-44ca-4bd7-864c-5cd3a7703670",
   "metadata": {},
   "source": [
    "# 9. Create a program to calculate the cumulative distribution function (CDF) of exponential distribution."
   ]
  },
  {
   "cell_type": "code",
   "execution_count": 26,
   "id": "2d31eac4-ca0b-4e80-9f78-499aad8bbfa3",
   "metadata": {},
   "outputs": [
    {
     "name": "stdout",
     "output_type": "stream",
     "text": [
      "X = 0.00,CDF = 0.50\n",
      "X = 0.56,CDF = 0.38\n",
      "X = 1.11,CDF = 0.29\n",
      "X = 1.67,CDF = 0.22\n",
      "X = 2.22,CDF = 0.16\n",
      "X = 2.78,CDF = 0.12\n",
      "X = 3.33,CDF = 0.09\n",
      "X = 3.89,CDF = 0.07\n",
      "X = 4.44,CDF = 0.05\n",
      "X = 5.00,CDF = 0.04\n"
     ]
    }
   ],
   "source": [
    "def cdf_exponential_distribution(x,lambda_param):\n",
    "    \n",
    "    cdf_value = lambda_param*(np.exp(-lambda_param*x))\n",
    "    return  cdf_value\n",
    "\n",
    "x_value = np.linspace(0,5,10)\n",
    "lambda_param = 0.5\n",
    "\n",
    "cdf_value = cdf_exponential_distribution(x_value,lambda_param) \n",
    "for x,cdf in zip(x_value,cdf_value):\n",
    "    print(f\"X = {x:.2f},CDF = {cdf:.2f}\")"
   ]
  },
  {
   "cell_type": "markdown",
   "id": "78b18057-0fb9-491b-8f31-45df458cb682",
   "metadata": {},
   "source": [
    "# 10. Write a Python function to calculate the probability mass function (PMF) of Poisson distribution"
   ]
  },
  {
   "cell_type": "code",
   "execution_count": 33,
   "id": "0df9f9f2-d3ec-4757-9d4e-3ec467b52e61",
   "metadata": {},
   "outputs": [
    {
     "name": "stdout",
     "output_type": "stream",
     "text": [
      "X=0,PMF = 0.08\n",
      "X=1,PMF = 0.21\n",
      "X=2,PMF = 0.26\n",
      "X=3,PMF = 0.21\n",
      "X=4,PMF = 0.13\n",
      "X=5,PMF = 0.07\n",
      "X=6,PMF = 0.03\n",
      "X=7,PMF = 0.01\n",
      "X=8,PMF = 0.00\n",
      "X=9,PMF = 0.00\n"
     ]
    }
   ],
   "source": [
    "def pmf_of_poisson_distribution(x,lambda_param):\n",
    "    pmf_value = (lambda_param**x) * np.exp(-lambda_param) / np.vectorize(math.factorial)(x)\n",
    "    return pmf_value\n",
    "\n",
    "x_value = np.arange(0,10)\n",
    "lambda_param = 2.5\n",
    "pmf_value = pmf_of_poisson_distribution(x_value,lambda_param)\n",
    "\n",
    "\n",
    "for x , pmf in zip(x_value,pmf_value):\n",
    "    print(f\"X={x},PMF = {pmf:.2f}\")\n"
   ]
  },
  {
   "cell_type": "markdown",
   "id": "86f4bc6f-21ea-4cef-91dc-66f46b31f33d",
   "metadata": {},
   "source": [
    " # 11. A company wants to test if a new website layout leads to a higher conversion rate (percentage of visitors who make a purchase). They collect data from the old and new layouts to compare.To generate the data use the following command:\n",
    " ```python\n",
    " import numpy as np\n",
    " # 50 purchases out of 1000 visitors\n",
    " old_layout = np.array([1] * 50 + [0] * 950)\n",
    " # 70 purchases out of 1000 visitors  \n",
    "new_layout = np.array([1] * 70 + [0] * 930)\n",
    " ```\n",
    " Apply z-test to find which layout is successful."
   ]
  },
  {
   "cell_type": "code",
   "execution_count": 25,
   "id": "0dd4797b-bec2-45b0-8a27-1d4940532fdd",
   "metadata": {},
   "outputs": [
    {
     "name": "stdout",
     "output_type": "stream",
     "text": [
      "Z-test statistic: -1.883837962960912\n",
      "P-value: 0.029793448378725884\n",
      "Reject the null hypothesis. There is a statistically significant difference between the conversion rates.\n"
     ]
    }
   ],
   "source": [
    "import numpy as np\n",
    "from statsmodels.stats.weightstats import ztest\n",
    "\n",
    "# Data\n",
    "old_layout = np.array([1] * 50 + [0] * 950)\n",
    "new_layout = np.array([1] * 70 + [0] * 930)\n",
    "\n",
    "# Perform z-test\n",
    "stat, p_value = ztest(x1=old_layout, x2=new_layout, alternative='smaller') \n",
    "\n",
    "# Print results\n",
    "print(\"Z-test statistic:\", stat)\n",
    "print(\"P-value:\", p_value)\n",
    "\n",
    "# Interpret results\n",
    "alpha = 0.05\n",
    "if p_value < alpha:\n",
    "    print(\"Reject the null hypothesis. There is a statistically significant difference between the conversion rates.\")\n",
    "else:\n",
    "    print(\"Fail to reject the null hypothesis. There is no statistically significant difference between the conversion rates.\")\n"
   ]
  },
  {
   "cell_type": "markdown",
   "id": "96db22e0-2c7c-469c-98c4-be8269a30928",
   "metadata": {},
   "source": [
    "# 12.  A tutoring service claims that its program improves students' exam scores. A sample of students who participated in the program was taken, and their scores before and after the program were recorded.Use the below code to generate samples of respective arrays of marks:\n",
    " ```python\n",
    " before_program = np.array([75, 80, 85, 70, 90, 78, 92, 88, 82, 87])\n",
    " after_program = np.array([80, 85, 90, 80, 92, 80, 95, 90, 85, 88])\n",
    " ```\n",
    " Use z-test to find if the claims made by tutor are true or false"
   ]
  },
  {
   "cell_type": "code",
   "execution_count": 29,
   "id": "fe3a5c43-f291-4747-b419-825db640bef2",
   "metadata": {},
   "outputs": [
    {
     "name": "stdout",
     "output_type": "stream",
     "text": [
      "Z-score: 4.593190894944668, P-value: 2.182597052671683e-06\n",
      "P-value is: 2.182597052671683e-06. The improvement in scores is statistically significant, so the tutoring service's claim is likely true.\n"
     ]
    }
   ],
   "source": [
    "from statsmodels.stats.weightstats import ztest\n",
    "def perform_ztest_of_score(before_program, after_program):\n",
    "    difference = after_program - before_program\n",
    "    z_stat, pvalue = ztest(difference, value=0, alternative='larger')\n",
    "    return z_stat, pvalue\n",
    "\n",
    "before_program = np.array([75, 80, 85, 70, 90, 78, 92, 88, 82, 87])\n",
    "after_program = np.array([80, 85, 90, 80, 92, 80, 95, 90, 85, 88])\n",
    "z_stat, pvalue = perform_ztest_of_score(before_program, after_program)\n",
    "\n",
    "print(f\"Z-score: {z_stat}, P-value: {pvalue}\")\n",
    "\n",
    "# Interpretation\n",
    "if pvalue < 0.05:\n",
    "    print(f\"P-value is: {pvalue}. The improvement in scores is statistically significant, so the tutoring service's claim is likely true.\")\n",
    "else:\n",
    "    print(f\"P-value is: {pvalue}. The improvement in scores is not statistically significant, so the tutoring service's claim may not be true.\")\n"
   ]
  },
  {
   "cell_type": "markdown",
   "id": "c85ac4f9-5251-4f5a-a6a3-3b494be45203",
   "metadata": {},
   "source": [
    " # 13. A pharmaceutical company wants to determine if a new drug is effective in reducing blood pressure. They conduct a study and record blood pressure measurements before and after administering the drug.Use the below code to generate samples of respective arrays of blood pressure:\n",
    " ```python\n",
    " before_drug = np.array([145, 150, 140, 135, 155, 160, 152, 148, 130, 138])\n",
    " after_drug = np.array([130, 140, 132, 128, 145, 148, 138, 136, 125, 130])\n",
    " ```\n",
    " Implement z-test to find if the drug really works or not."
   ]
  },
  {
   "cell_type": "code",
   "execution_count": 30,
   "id": "39bfe0cb-609e-4045-87fb-9f3e4b9fc7f4",
   "metadata": {},
   "outputs": [
    {
     "name": "stdout",
     "output_type": "stream",
     "text": [
      "Z-statistic: -1.3600371723457605\n",
      "P-value: 0.17381816101827674\n",
      "Fail to reject null hypothesis: There is no significant improvement in scores after the program.\n"
     ]
    }
   ],
   "source": [
    "from statsmodels.stats import weightstats as stests\n",
    "\n",
    "# Sample data\n",
    "before_program = np.array([75, 80, 85, 70, 90, 78, 92, 88, 82, 87])\n",
    "after_program = np.array([80, 85, 90, 80, 92, 80, 95, 90, 85, 88])\n",
    "\n",
    "# Perform z-test\n",
    "z_stat, p_val = stests.ztest(before_program, after_program)\n",
    "\n",
    "# Assuming a significance level of 0.05,its two tail test\n",
    "alpha = 0.05\n",
    "\n",
    "# Print results\n",
    "print(\"Z-statistic:\", z_stat)\n",
    "print(\"P-value:\", p_val)\n",
    "\n",
    "if p_val < alpha:\n",
    "    print(\"Reject null hypothesis: There is a significant improvement in scores after the program.\")\n",
    "else:\n",
    "    print(\"Fail to reject null hypothesis: There is no significant improvement in scores after the program.\")\n",
    "  "
   ]
  },
  {
   "cell_type": "markdown",
   "id": "a9959b10-90f5-45c2-956e-244d10cee40b",
   "metadata": {},
   "source": [
    "# 14. A customer service department claims that their average response time is less than 5 minutes. A sample of recent customer interactions was taken, and the response times were recorded.Implement the below code to generate the array of response time:\n",
    " ```python\n",
    " response_times = np.array([4.3, 3.8, 5.1, 4.9, 4.7, 4.2, 5.2, 4.5, 4.6, 4.4])\n",
    " ```\n",
    " Implement z-test to find the claims made by customer service department are tru or false"
   ]
  },
  {
   "cell_type": "code",
   "execution_count": 14,
   "id": "7fe4390e-3e10-47d5-acf2-72458050d4fc",
   "metadata": {},
   "outputs": [
    {
     "name": "stdout",
     "output_type": "stream",
     "text": [
      "Z-Score:-3.356712648559143\n",
      "P-value:0.00039437520387081387\n",
      "Reject the null Hypothesis, so average response time is less than 5 minute means customer service department is True\n"
     ]
    }
   ],
   "source": [
    "# 1st. approach\n",
    "from scipy.stats import norm\n",
    "response_times = np.array([4.3, 3.8, 5.1, 4.9, 4.7, 4.2, 5.2, 4.5, 4.6, 4.4])\n",
    "mu = 5\n",
    "mean_sample = np.mean(response_times)\n",
    "std_sample = np.std(response_times)\n",
    "n = len(response_times)\n",
    "zscore = (mean_sample - mu)/ (std_sample/np.sqrt(n))\n",
    "p_value = norm.cdf(zscore)\n",
    "\n",
    "alpha = 0.05\n",
    "# above question is one tail test so\n",
    "alpha_value = alpha/2\n",
    "\n",
    "print(f\"Z-Score:{zscore}\")\n",
    "print(f\"P-value:{p_value}\")\n",
    "if p_value<alpha_value:\n",
    "    print(\"Reject the null Hypothesis, so average response time is less than 5 minute means customer service department is True\")\n",
    "else:\n",
    "    print(\"Fail to Reject the Null Hypothesis,so average response time is less than 5 minute means customer service department is False\")\n",
    "                              "
   ]
  },
  {
   "cell_type": "code",
   "execution_count": 15,
   "id": "ab39d1c5-b619-438a-88c9-6b74a44101c6",
   "metadata": {},
   "outputs": [
    {
     "name": "stdout",
     "output_type": "stream",
     "text": [
      "Z-Score:-3.1844572260429627\n",
      "P-value:0.0007251287113068958\n",
      "Reject the null Hypothesis, so average response time is less than 5 minute means customer service department is True\n"
     ]
    }
   ],
   "source": [
    "# 2nd approach\n",
    "from statsmodels.stats.weightstats import  ztest\n",
    "def customer_service_ztest(response_times):\n",
    "    null_alpha = 5\n",
    "    zscore,p_value = ztest(response_times,value = null_alpha, alternative = 'smaller')\n",
    "    return zscore,p_value\n",
    "    \n",
    "response_times = np.array([4.3, 3.8, 5.1, 4.9, 4.7, 4.2, 5.2, 4.5, 4.6, 4.4])\n",
    "zscore,pvalue = customer_service_ztest(response_times)\n",
    "print(f\"Z-Score:{zscore}\")\n",
    "print(f\"P-value:{pvalue}\")\n",
    "alpha = 0.05\n",
    "# above question is one tail test so\n",
    "alpha_value = alpha/2\n",
    "\n",
    "if pvalue<alpha:\n",
    "    print(\"Reject the null Hypothesis, so average response time is less than 5 minute means customer service department is True\")\n",
    "else:\n",
    "    print(\"Fail to Reject the Null Hypothesis,so average response time is less than 5 minute means customer service department is False\")"
   ]
  },
  {
   "cell_type": "markdown",
   "id": "1662dad3-a708-4a67-aad3-c12905bb6faa",
   "metadata": {},
   "source": [
    " # 15. A company is testing two different website layouts to see which one leads to higher click-through rates. Write a Python function to perform an A/B test analysis, including calculating the t-statistic, degrees of freedom, and p-value.\n",
    " Use the following data:\n",
    " ```python\n",
    " layout_a_clicks = [28, 32, 33, 29, 31, 34, 30, 35, 36, 37]\n",
    " layout_b_clicks = [40, 41, 38, 42, 39, 44, 43, 41, 45, 47]"
   ]
  },
  {
   "cell_type": "code",
   "execution_count": 34,
   "id": "e5d8d349-4b09-4042-881e-74c1e5c30a8d",
   "metadata": {},
   "outputs": [
    {
     "name": "stdout",
     "output_type": "stream",
     "text": [
      "Requirement already satisfied: scipy in c:\\users\\vijay\\anaconda3\\lib\\site-packages (1.13.0)\n",
      "Requirement already satisfied: numpy<2.3,>=1.22.4 in c:\\users\\vijay\\appdata\\roaming\\python\\python311\\site-packages (from scipy) (1.24.3)\n",
      "Note: you may need to restart the kernel to use updated packages.\n"
     ]
    }
   ],
   "source": [
    "pip install scipy"
   ]
  },
  {
   "cell_type": "code",
   "execution_count": 16,
   "id": "ecfb4da7-16d7-4ef3-a3cb-d57172a963cc",
   "metadata": {},
   "outputs": [
    {
     "name": "stdout",
     "output_type": "stream",
     "text": [
      "t-statistic: -7.298102156175071\n",
      "Degrees of freedom: 17.879871863320876\n",
      "p-value: 9.196596070789357e-07\n"
     ]
    }
   ],
   "source": [
    "from scipy import stats\n",
    "\n",
    "def ab_test_analysis(layout_a_clicks, layout_b_clicks):\n",
    "    # Convert lists to numpy arrays\n",
    "    a_clicks = np.array(layout_a_clicks)\n",
    "    b_clicks = np.array(layout_b_clicks)\n",
    "    \n",
    "    # Calculate the means\n",
    "    mean_a = np.mean(a_clicks)\n",
    "    mean_b = np.mean(b_clicks)\n",
    "    \n",
    "    # Calculate the standard deviations\n",
    "    std_a = np.std(a_clicks, ddof=1)  # ddof=1 for sample standard deviation\n",
    "    std_b = np.std(b_clicks, ddof=1)  # ddof=1 for sample standard deviation\n",
    "    \n",
    "    # Calculate the number of samples\n",
    "    n_a = len(a_clicks)\n",
    "    n_b = len(b_clicks)\n",
    "    \n",
    "    # Calculate the pooled standard deviation\n",
    "    pooled_std = np.sqrt(((std_a ** 2) / n_a) + ((std_b ** 2) / n_b))\n",
    "    \n",
    "    # Calculate the t-statistic\n",
    "    t_stat = (mean_a - mean_b) / pooled_std\n",
    "    \n",
    "    # Calculate the degrees of freedom\n",
    "    df = (((std_a ** 2) / n_a + (std_b ** 2) / n_b) ** 2) / \\\n",
    "         (((std_a ** 2) / n_a) ** 2 / (n_a - 1) + ((std_b ** 2) / n_b) ** 2 / (n_b - 1))\n",
    "    \n",
    "    # Calculate the p-value\n",
    "    p_value = stats.t.sf(np.abs(t_stat), df) * 2  # two-tailed test\n",
    "    \n",
    "    return t_stat, df, p_value\n",
    "\n",
    "# Provided data\n",
    "layout_a_clicks = [28, 32, 33, 29, 31, 34, 30, 35, 36, 37]\n",
    "layout_b_clicks = [40, 41, 38, 42, 39, 44, 43, 41, 45, 47]\n",
    "\n",
    "# Perform the A/B test analysis\n",
    "t_stat, df, p_value = ab_test_analysis(layout_a_clicks, layout_b_clicks)\n",
    "\n",
    "# Print the results\n",
    "print(f\"t-statistic: {t_stat}\")\n",
    "print(f\"Degrees of freedom: {df}\")\n",
    "print(f\"p-value: {p_value}\")\n",
    "\n"
   ]
  },
  {
   "cell_type": "markdown",
   "id": "dc1de0a7-36d0-4c03-82ae-6045ece13e4d",
   "metadata": {},
   "source": [
    "# 16. A pharmaceutical company wants to determine if a new drug is more effective than an existing drug in reducing cholesterol levels. Create a program to analyze the clinical trial data and calculate the t-statistic and p-value for the treatment effect\n",
    "Use the following data of cholestrol level:\n",
    " ```python\n",
    " existing_drug_levels = [180, 182, 175, 185, 178, 176, 172, 184, 179, 183]\n",
    " new_drug_levels = [170, 172, 165, 168, 175, 173, 170, 178, 172, 176"
   ]
  },
  {
   "cell_type": "code",
   "execution_count": 19,
   "id": "14ff67fe-552a-4c7d-b8cf-e1ecf99e964b",
   "metadata": {},
   "outputs": [
    {
     "name": "stdout",
     "output_type": "stream",
     "text": [
      "T-Statistic : 4.14048098620866\n",
      "P-value : 0.0006143398442372505\n",
      "Reject the null Hypothesis,new drug is not effective than an existing drug in reducing cholesterol levels\n"
     ]
    }
   ],
   "source": [
    "existing_drug_levels = [180, 182, 175, 185, 178, 176, 172, 184, 179, 183]\n",
    "new_drug_levels = [170, 172, 165, 168, 175, 173, 170, 178, 172, 176]\n",
    "t_statistic,p_value  = stats.ttest_ind(existing_drug_levels,new_drug_levels)\n",
    "print('T-Statistic :',t_statistic)\n",
    "print('P-value :',p_value)\n",
    "\n",
    "alpha = 0.05 \n",
    "if p_value:\n",
    "    print(\"Reject the null Hypothesis,new drug is not effective than an existing drug in reducing cholesterol levels\")\n",
    "else:\n",
    "    print(\"Fail to Reject the null Hypothesis,new drug is effective than an existing drug in reducing cholesterol levels\")"
   ]
  },
  {
   "cell_type": "markdown",
   "id": "8824f285-3719-482a-93c9-94e83e325efc",
   "metadata": {},
   "source": [
    "# 17. A school district introduces an educational intervention program to improve math scores. Write a Python function to analyze pre- and post-intervention test scores, calculating the t-statistic and p-value to determine if the intervention had a significant impact.\n",
    " Use the following data of test score:\n",
    " ```python\n",
    " pre_intervention_scores = [80, 85, 90, 75, 88, 82, 92, 78, 85, 87]\n",
    " post_intervention_scores = [90, 92, 88, 92, 95, 91, 96, 93, 89, 93]"
   ]
  },
  {
   "cell_type": "code",
   "execution_count": 18,
   "id": "cef97d4e-6723-48a8-857c-25d236b98dda",
   "metadata": {},
   "outputs": [
    {
     "name": "stdout",
     "output_type": "stream",
     "text": [
      "T-Statistic: -4.080355128162116\n",
      "P-Value: 0.0007022570725706455\n",
      "Reject the null Hypothesis,new drug is not effective than an existing drug in reducing cholesterol levels\n"
     ]
    }
   ],
   "source": [
    "def analyze_pre_post_intervention(pre_score,post_score):\n",
    "    t_statistic , p_value = stats.ttest_ind(pre_score,post_score)\n",
    "    return t_statistic,p_value\n",
    "\n",
    "pre_intervention_scores = [80, 85, 90, 75, 88, 82, 92, 78, 85, 87]\n",
    "post_intervention_scores = [90, 92, 88, 92, 95, 91, 96, 93, 89, 93]\n",
    "\n",
    "t_statistic , p_value = analyze_pre_post_intervention(pre_intervention_scores,post_intervention_scores)\n",
    "print(f\"T-Statistic: {t_statistic}\")\n",
    "print(f\"P-Value: {p_value}\")\n",
    "alpha = 0.05\n",
    "alpha_value = alpha/2\n",
    "if p_value<alpha_value:\n",
    "    print(\"Reject the null Hypothesis,new drug is not effective than an existing drug in reducing cholesterol levels\")\n",
    "else:\n",
    "    print(\"Fail to Reject the null Hypothesis,new drug is effective than an existing drug in reducing cholesterol levels\")"
   ]
  },
  {
   "cell_type": "markdown",
   "id": "e787ff83-5db0-4b42-882a-fb00f5ed1399",
   "metadata": {},
   "source": [
    "# 18. An HR department wants to investigate if there's a gender-based salary gap within the company. Develop a program to analyze salary data, calculate the t-statistic, and determine if there's a statistically significant difference between the average salaries of male and female employees.\n",
    " Use the below code to generate synthetic data:\n",
    " ```python\n",
    " # Generate synthetic salary data for male and female employees\n",
    " np.random.seed(0)  # For reproducibility\n",
    " male_salaries = np.random.normal(loc=50000, scale=10000, size=20)\n",
    " female_salaries = np.random.normal(loc=55000, scale=9000, size=20)"
   ]
  },
  {
   "cell_type": "code",
   "execution_count": 17,
   "id": "e3b301b5-6687-4104-8596-3e356b5a3efe",
   "metadata": {},
   "outputs": [
    {
     "name": "stdout",
     "output_type": "stream",
     "text": [
      "Mean salary of male employees: $55693.35\n",
      "Mean salary of female employees: $55501.75\n",
      "Standard Deviation of male salaries: $8722.69\n",
      "Standard Deviation of female salaries: $10968.10\n",
      "T-Statistic:0.0611\n",
      "P-value is:0.95\n",
      "There is No Gender Based Salary Gap in Company\n"
     ]
    }
   ],
   "source": [
    "def check_gender_based_salary_gap(male_salaries,female_salaries):\n",
    "    mean_male_salary = np.mean(male_salaries)\n",
    "    mean_female_salary = np.mean(female_salaries)\n",
    "    std_male_salary  = np.std(male_salaries,ddof=1)\n",
    "    std_female_salary = np.std(female_salaries,ddof=1)\n",
    "    \n",
    "    t_statistic, p_value = stats.ttest_ind(male_salaries,female_salaries)\n",
    "    return t_statistic, p_value, mean_male_salary,mean_female_salary,std_male_salary,std_female_salary\n",
    "\n",
    "np.random.seed(0)\n",
    "male_salaries = np.random.normal(loc=50000, scale=10000, size=20)\n",
    "female_salaries = np.random.normal(loc=55000, scale=9000, size=20)\n",
    "t_statistic,p_value, male_mean,female_mean,male_std,female_std = check_gender_based_salary_gap(male_salaries,female_salaries)\n",
    "print(f\"Mean salary of male employees: ${male_mean:.2f}\")\n",
    "print(f\"Mean salary of female employees: ${female_mean:.2f}\")\n",
    "print(f\"Standard Deviation of male salaries: ${male_std:.2f}\")\n",
    "print(f\"Standard Deviation of female salaries: ${female_std:.2f}\")\n",
    "print(f\"T-Statistic:{t_statistic:.4f}\")\n",
    "print(f\"P-value is:{p_value:.2f}\")\n",
    "if p_value<0.05:\n",
    "    print(\"There is Gender Based Salary Gap in Company\")\n",
    "else:\n",
    "    print(\"There is No Gender Based Salary Gap in Company\")\n",
    "\n"
   ]
  },
  {
   "cell_type": "markdown",
   "id": "885f7b84-6ac1-4594-9076-af95b43e4716",
   "metadata": {},
   "source": [
    "# 19. A manufacturer produces two different versions of a product and wants to compare their quality scores. Create a Python function to analyze quality assessment data, calculate the t-statistic, and decide whether there's a significant difference in quality between the two versions.\n",
    " Use the following data:\n",
    " ```python\n",
    " version1_scores = [85, 88, 82, 89, 87, 84, 90, 88, 85, 86, 91, 83, 87, 84, 89, 86, 84, 88, 85, 86, 89, 90, 87, 88, 85]\n",
    " version2_scores = [80, 78, 83, 81, 79, 82, 76, 80, 78, 81, 77, 82, 80, 79, 82, 79, 80, 81, 79, 82, 79, 78, 80, 81, 82]\n",
    " ``"
   ]
  },
  {
   "cell_type": "code",
   "execution_count": 18,
   "id": "b64bde69-d6b6-42ed-8844-c3a6318dc616",
   "metadata": {},
   "outputs": [
    {
     "name": "stdout",
     "output_type": "stream",
     "text": [
      "T-statistic: 11.325830417646698\n",
      "P-value: 3.6824250702873965e-15\n",
      "There is a significant difference in quality between the two versions.\n"
     ]
    }
   ],
   "source": [
    "def compare_quality(version1_scores, version2_scores):\n",
    "    # Perform two-sample t-test\n",
    "    t_statistic, p_value = stats.ttest_ind(version1_scores, version2_scores)\n",
    "\n",
    "    # Print the results\n",
    "    print(f\"T-statistic: {t_statistic}\")\n",
    "    print(f\"P-value: {p_value}\")\n",
    "\n",
    "    # Determine if there is a significant difference\n",
    "    alpha = 0.05  # significance level\n",
    "    if p_value < alpha:\n",
    "        print(\"There is a significant difference in quality between the two versions.\")\n",
    "    else:\n",
    "        print(\"There is no significant difference in quality between the two versions.\")\n",
    "\n",
    "# Data\n",
    "version1_scores = [85, 88, 82, 89, 87, 84, 90, 88, 85, 86, 91, 83, 87, 84, 89, 86, 84, 88, 85, 86, 89, 90, 87, 88, 85]\n",
    "version2_scores = [80, 78, 83, 81, 79, 82, 76, 80, 78, 81, 77, 82, 80, 79, 82, 79, 80, 81, 79, 82, 79, 78, 80, 81, 82]\n",
    "\n",
    "# Run the comparison\n",
    "compare_quality(version1_scores, version2_scores)\n"
   ]
  },
  {
   "cell_type": "markdown",
   "id": "4fb02239-5b30-4b75-b4c9-92580677d011",
   "metadata": {},
   "source": [
    "# 20. A restaurant chain collects customer satisfaction scores for two different branches. Write a program to analyze the scores, calculate the t-statistic, and determine if there's a statistically significant difference in customer satisfaction between the branches.\n",
    " Use the below data of scores:\n",
    " ```python\n",
    " branch_a_scores = [4, 5, 3, 4, 5, 4, 5, 3, 4, 4, 5, 4, 4, 3, 4, 5, 5, 4, 3, 4, 5, 4, 3, 5, 4, 4, 5, 3, 4, 5, 4]\n",
    " branch_b_scores = [3, 4, 2, 3, 4, 3, 4, 2, 3, 3, 4, 3, 3, 2, 3, 4, 4, 3, 2, 3, 4, 3, 2, 4, 3, 3, 4, 2, 3, 4, 3"
   ]
  },
  {
   "cell_type": "code",
   "execution_count": 22,
   "id": "1139e772-44db-400d-9337-17cd5119ded8",
   "metadata": {},
   "outputs": [
    {
     "name": "stdout",
     "output_type": "stream",
     "text": [
      "Branch A: mean = 4.13, standard deviation = 0.72, n = 31\n",
      "Branch B: mean = 3.13, standard deviation = 0.72, n = 31\n",
      "t-statistic = 5.48\n",
      "p-value = 0.0000\n",
      "The difference in customer satisfaction between the two branches is statistically significant.\n"
     ]
    }
   ],
   "source": [
    "# Customer satisfaction scores for the two branches\n",
    "branch_a_scores = [4, 5, 3, 4, 5, 4, 5, 3, 4, 4, 5, 4, 4, 3, 4, 5, 5, 4, 3, 4, 5, 4, 3, 5, 4, 4, 5, 3, 4, 5, 4]\n",
    "branch_b_scores = [3, 4, 2, 3, 4, 3, 4, 2, 3, 3, 4, 3, 3, 2, 3, 4, 4, 3, 2, 3, 4, 3, 2, 4, 3, 3, 4, 2, 3, 4, 3]\n",
    "\n",
    "# Calculate the mean and standard deviation of the scores\n",
    "mean_a = np.mean(branch_a_scores)\n",
    "mean_b = np.mean(branch_b_scores)\n",
    "std_a = np.std(branch_a_scores, ddof=1)\n",
    "std_b = np.std(branch_b_scores, ddof=1)\n",
    "n_a = len(branch_a_scores)\n",
    "n_b = len(branch_b_scores)\n",
    "\n",
    "# Print the descriptive statistics\n",
    "print(f\"Branch A: mean = {mean_a:.2f}, standard deviation = {std_a:.2f}, n = {n_a}\")\n",
    "print(f\"Branch B: mean = {mean_b:.2f}, standard deviation = {std_b:.2f}, n = {n_b}\")\n",
    "\n",
    "# Perform a two-sample t-test\n",
    "t_statistic, p_value = stats.ttest_ind(branch_a_scores, branch_b_scores)\n",
    "\n",
    "# Print the t-statistic and p-value\n",
    "print(f\"t-statistic = {t_statistic:.2f}\")\n",
    "print(f\"p-value = {p_value:.4f}\")\n",
    "\n",
    "# Determine if the result is statistically significant\n",
    "alpha = 0.05\n",
    "if p_value < alpha:\n",
    "    print(\"The difference in customer satisfaction between the two branches is statistically significant.\")\n",
    "else:\n",
    "    print(\"The difference in customer satisfaction between the two branches is not statistically significant.\")\n"
   ]
  },
  {
   "cell_type": "markdown",
   "id": "7fe7ec53-36d0-4d17-becd-beddd07f2bcc",
   "metadata": {},
   "source": [
    "# 21. A political analyst wants to determine if there is a significant association between age groups and voter preferences (Candidate A or Candidate B). They collect data from a sample of 500 voters and classify them into different age groups and candidate preferences. Perform a Chi-Square test to determine if there is a significant association between age groups and voter preferences.\n",
    "\n",
    "Use the below code to generate data:\r\n",
    " ```python\r\n",
    " np.random.seed(0)\r\n",
    " age_groups = np.random.choice(['18-30', '31-50', '51+', '51+'], size=30)\r\n",
    " voter_preferences = np.random.choice(['Candidate A', 'Candidate B'], size=30"
   ]
  },
  {
   "cell_type": "code",
   "execution_count": 56,
   "id": "9cd6ba0b-ffd6-4154-8bb1-16e27605d022",
   "metadata": {},
   "outputs": [],
   "source": [
    "from scipy import stats\n",
    "age_groups = np.random.choice(['18-30', '31-50', '51+', '51+'], size=30)\n",
    "voter_preferences = np.random.choice(['Candidate A', 'Candidate B'], size=30)\n"
   ]
  },
  {
   "cell_type": "code",
   "execution_count": 18,
   "id": "60cd217a-f49f-48aa-94b4-1a04c6ba83c0",
   "metadata": {
    "scrolled": true
   },
   "outputs": [
    {
     "data": {
      "text/html": [
       "<div>\n",
       "<style scoped>\n",
       "    .dataframe tbody tr th:only-of-type {\n",
       "        vertical-align: middle;\n",
       "    }\n",
       "\n",
       "    .dataframe tbody tr th {\n",
       "        vertical-align: top;\n",
       "    }\n",
       "\n",
       "    .dataframe thead th {\n",
       "        text-align: right;\n",
       "    }\n",
       "</style>\n",
       "<table border=\"1\" class=\"dataframe\">\n",
       "  <thead>\n",
       "    <tr style=\"text-align: right;\">\n",
       "      <th>col_0</th>\n",
       "      <th>Candidate A</th>\n",
       "      <th>Candidate B</th>\n",
       "    </tr>\n",
       "    <tr>\n",
       "      <th>row_0</th>\n",
       "      <th></th>\n",
       "      <th></th>\n",
       "    </tr>\n",
       "  </thead>\n",
       "  <tbody>\n",
       "    <tr>\n",
       "      <th>18-30</th>\n",
       "      <td>2</td>\n",
       "      <td>3</td>\n",
       "    </tr>\n",
       "    <tr>\n",
       "      <th>31-50</th>\n",
       "      <td>7</td>\n",
       "      <td>2</td>\n",
       "    </tr>\n",
       "    <tr>\n",
       "      <th>51+</th>\n",
       "      <td>5</td>\n",
       "      <td>11</td>\n",
       "    </tr>\n",
       "  </tbody>\n",
       "</table>\n",
       "</div>"
      ],
      "text/plain": [
       "col_0  Candidate A  Candidate B\n",
       "row_0                          \n",
       "18-30            2            3\n",
       "31-50            7            2\n",
       "51+              5           11"
      ]
     },
     "execution_count": 18,
     "metadata": {},
     "output_type": "execute_result"
    }
   ],
   "source": [
    "data_table = pd.crosstab(age_groups,voter_preferences)\n",
    "data_table"
   ]
  },
  {
   "cell_type": "code",
   "execution_count": 20,
   "id": "f4892342-a356-4d85-aac7-b19ba8a8057c",
   "metadata": {},
   "outputs": [
    {
     "data": {
      "text/plain": [
       "array([[ 2,  3],\n",
       "       [ 7,  2],\n",
       "       [ 5, 11]], dtype=int64)"
      ]
     },
     "execution_count": 20,
     "metadata": {},
     "output_type": "execute_result"
    }
   ],
   "source": [
    "observed_data = data_table.values\n",
    "observed_data"
   ]
  },
  {
   "cell_type": "code",
   "execution_count": 54,
   "id": "b3a7dd9e-6148-4f54-9fd7-a03153bc7c48",
   "metadata": {},
   "outputs": [
    {
     "data": {
      "text/plain": [
       "array([[2.33333333, 2.66666667],\n",
       "       [4.2       , 4.8       ],\n",
       "       [7.46666667, 8.53333333]])"
      ]
     },
     "execution_count": 54,
     "metadata": {},
     "output_type": "execute_result"
    }
   ],
   "source": [
    "stats_test,pvalue,dof,expected_values = stats.chi2_contingency(observed_data)\n",
    "expected_values"
   ]
  },
  {
   "cell_type": "code",
   "execution_count": 55,
   "id": "b4e0d191-7a06-4209-83ed-a94c3fbd62d4",
   "metadata": {},
   "outputs": [
    {
     "data": {
      "text/plain": [
       "0.0774135267069624"
      ]
     },
     "execution_count": 55,
     "metadata": {},
     "output_type": "execute_result"
    }
   ],
   "source": [
    "pvalue"
   ]
  },
  {
   "cell_type": "code",
   "execution_count": 29,
   "id": "e4953cbd-7b8e-460d-b30d-3bc7e39d71ef",
   "metadata": {},
   "outputs": [
    {
     "name": "stdout",
     "output_type": "stream",
     "text": [
      "(array([2, 3], dtype=int64), array([2.33333333, 2.66666667]))\n",
      "(array([7, 2], dtype=int64), array([4.2, 4.8]))\n",
      "(array([ 5, 11], dtype=int64), array([7.46666667, 8.53333333]))\n"
     ]
    }
   ],
   "source": [
    "for i in zip(observed_data,expected_values):\n",
    "    print(i)"
   ]
  },
  {
   "cell_type": "code",
   "execution_count": 34,
   "id": "e3d29cce-7653-4374-9f79-7fffa268b4c5",
   "metadata": {},
   "outputs": [
    {
     "data": {
      "text/plain": [
       "2"
      ]
     },
     "execution_count": 34,
     "metadata": {},
     "output_type": "execute_result"
    }
   ],
   "source": [
    "dof"
   ]
  },
  {
   "cell_type": "code",
   "execution_count": 43,
   "id": "c593e462-9db3-449f-89d7-d07df92e101d",
   "metadata": {},
   "outputs": [
    {
     "data": {
      "text/plain": [
       "array([2.72916667, 2.38802083])"
      ]
     },
     "execution_count": 43,
     "metadata": {},
     "output_type": "execute_result"
    }
   ],
   "source": [
    "chisquare_test = sum([(o-e)**2 / e for o,e in zip(observed_data,expected_values)])\n",
    "chisquare_test"
   ]
  },
  {
   "cell_type": "code",
   "execution_count": 45,
   "id": "6eda95d3-7b95-4595-a635-b53d849a4d6a",
   "metadata": {},
   "outputs": [
    {
     "data": {
      "text/plain": [
       "5.1171875"
      ]
     },
     "execution_count": 45,
     "metadata": {},
     "output_type": "execute_result"
    }
   ],
   "source": [
    "chisquare_states = chisquare_test[0]+ chisquare_test[1]\n",
    "chisquare_states"
   ]
  },
  {
   "cell_type": "code",
   "execution_count": 53,
   "id": "e7c1291e-d144-4dd0-864e-5c86d6270460",
   "metadata": {},
   "outputs": [
    {
     "data": {
      "text/plain": [
       "5.991464547107979"
      ]
     },
     "execution_count": 53,
     "metadata": {},
     "output_type": "execute_result"
    }
   ],
   "source": [
    "alpha = 0.05\n",
    "critical_value = stats.chi2.ppf(1-alpha,dof)\n",
    "critical_value"
   ]
  },
  {
   "cell_type": "code",
   "execution_count": 121,
   "id": "f8b1b14d-e52e-4acd-89e1-2cfc8d3560b1",
   "metadata": {},
   "outputs": [
    {
     "name": "stdout",
     "output_type": "stream",
     "text": [
      "Fail to Reject the Null Hypothesis,there is no a significant association between age groups and voter preferences\n"
     ]
    }
   ],
   "source": [
    "if chisquare_states>critical_value:\n",
    "    print(\"Reject the Null Hypothesis,there is a significant association between age groups and voter preferences\")\n",
    "else:\n",
    "    print(\"Fail to Reject the Null Hypothesis,there is no a significant association between age groups and voter preferences\")"
   ]
  },
  {
   "cell_type": "markdown",
   "id": "459f3e68-fceb-4be7-a74d-cdd2708bdb4e",
   "metadata": {},
   "source": [
    "# 22. A company conducted a customer satisfaction survey to determine if there is a significant relationship between product satisfaction levels (Satisfied, Neutral, Dissatisfied) and the region where customers are located (East, West, North, South). The survey data is summarized in a contingency table. Conduct a ChiSquare test to determine if there is a significant relationship between product satisfaction levels and customer regions.\n",
    " Sample data: Product satisfaction levels (rows) vs. Customer regions (columns) ,\n",
    " data = np.array([[50, 30, 40, 20], [30, 40, 30, 50], [20, 30, 40, 30]]"
   ]
  },
  {
   "cell_type": "code",
   "execution_count": 91,
   "id": "028eff7c-40d6-4af4-8b48-a164531277fb",
   "metadata": {},
   "outputs": [
    {
     "data": {
      "text/html": [
       "<div>\n",
       "<style scoped>\n",
       "    .dataframe tbody tr th:only-of-type {\n",
       "        vertical-align: middle;\n",
       "    }\n",
       "\n",
       "    .dataframe tbody tr th {\n",
       "        vertical-align: top;\n",
       "    }\n",
       "\n",
       "    .dataframe thead th {\n",
       "        text-align: right;\n",
       "    }\n",
       "</style>\n",
       "<table border=\"1\" class=\"dataframe\">\n",
       "  <thead>\n",
       "    <tr style=\"text-align: right;\">\n",
       "      <th></th>\n",
       "      <th>East</th>\n",
       "      <th>West</th>\n",
       "      <th>North</th>\n",
       "      <th>South</th>\n",
       "    </tr>\n",
       "  </thead>\n",
       "  <tbody>\n",
       "    <tr>\n",
       "      <th>Satisfied</th>\n",
       "      <td>50</td>\n",
       "      <td>30</td>\n",
       "      <td>40</td>\n",
       "      <td>20</td>\n",
       "    </tr>\n",
       "    <tr>\n",
       "      <th>Neutral</th>\n",
       "      <td>30</td>\n",
       "      <td>40</td>\n",
       "      <td>30</td>\n",
       "      <td>50</td>\n",
       "    </tr>\n",
       "    <tr>\n",
       "      <th>Dissatisfied</th>\n",
       "      <td>20</td>\n",
       "      <td>30</td>\n",
       "      <td>40</td>\n",
       "      <td>30</td>\n",
       "    </tr>\n",
       "  </tbody>\n",
       "</table>\n",
       "</div>"
      ],
      "text/plain": [
       "              East  West  North  South\n",
       "Satisfied       50    30     40     20\n",
       "Neutral         30    40     30     50\n",
       "Dissatisfied    20    30     40     30"
      ]
     },
     "execution_count": 91,
     "metadata": {},
     "output_type": "execute_result"
    }
   ],
   "source": [
    "observed_data = np.array([[50, 30, 40, 20], [30, 40, 30, 50], [20, 30, 40, 30]])\n",
    "df = pd.DataFrame(observed_data)\n",
    "df.index = ['Satisfied','Neutral','Dissatisfied']\n",
    "df.columns = ['East','West','North','South']\n",
    "df"
   ]
  },
  {
   "cell_type": "code",
   "execution_count": 69,
   "id": "2dd62b7d-4ae2-440f-93ce-db036d3e8d77",
   "metadata": {},
   "outputs": [
    {
     "data": {
      "text/plain": [
       "array([[34.14634146, 34.14634146, 37.56097561, 34.14634146],\n",
       "       [36.58536585, 36.58536585, 40.24390244, 36.58536585],\n",
       "       [29.26829268, 29.26829268, 32.19512195, 29.26829268]])"
      ]
     },
     "execution_count": 69,
     "metadata": {},
     "output_type": "execute_result"
    }
   ],
   "source": [
    "chisquare,pvalue,dof,expected_value = stats.chi2_contingency(data)\n",
    "expected_value"
   ]
  },
  {
   "cell_type": "code",
   "execution_count": 71,
   "id": "e1368811-7219-4584-b5cd-ec696213865c",
   "metadata": {},
   "outputs": [
    {
     "name": "stdout",
     "output_type": "stream",
     "text": [
      "(array([50, 30, 40, 20]), array([34.14634146, 34.14634146, 37.56097561, 34.14634146]))\n",
      "(array([30, 40, 30, 50]), array([36.58536585, 36.58536585, 40.24390244, 36.58536585]))\n",
      "(array([20, 30, 40, 30]), array([29.26829268, 29.26829268, 32.19512195, 29.26829268]))\n"
     ]
    }
   ],
   "source": [
    "for i in zip(observed_data,expected_value):\n",
    "    print(i)"
   ]
  },
  {
   "cell_type": "code",
   "execution_count": 74,
   "id": "df1d364c-fb76-45ae-a17c-1b36eeb76835",
   "metadata": {},
   "outputs": [
    {
     "data": {
      "text/plain": [
       "array([11.48095238,  0.84047619,  4.65800866, 10.79761905])"
      ]
     },
     "execution_count": 74,
     "metadata": {},
     "output_type": "execute_result"
    }
   ],
   "source": [
    "chisquare_test = sum([(o-e)**2 /e for o,e in zip(observed_data,expected_value)])\n",
    "chisquare_test"
   ]
  },
  {
   "cell_type": "code",
   "execution_count": 76,
   "id": "119e5e74-328d-4856-a0f6-e9db1a8e6321",
   "metadata": {},
   "outputs": [
    {
     "data": {
      "text/plain": [
       "16.979437229437227"
      ]
     },
     "execution_count": 76,
     "metadata": {},
     "output_type": "execute_result"
    }
   ],
   "source": [
    "chi2_statistic = chisquare_test[0] + chisquare_test[1] + chisquare_test[2]\n",
    "chi2_statistic"
   ]
  },
  {
   "cell_type": "code",
   "execution_count": 78,
   "id": "54555b54-8dd8-433e-ade0-834efff3e853",
   "metadata": {},
   "outputs": [
    {
     "data": {
      "text/plain": [
       "12.591587243743977"
      ]
     },
     "execution_count": 78,
     "metadata": {},
     "output_type": "execute_result"
    }
   ],
   "source": [
    "alpha = 0.05\n",
    "critical_value = stats.chi2.ppf(1-alpha,dof)\n",
    "critical_value"
   ]
  },
  {
   "cell_type": "code",
   "execution_count": 80,
   "id": "bd2c1b20-a672-4972-b385-0d37e9d93043",
   "metadata": {},
   "outputs": [
    {
     "name": "stdout",
     "output_type": "stream",
     "text": [
      "Reject the Null Hypothesis,there is a significant relationship between product satisfaction levels and customer regions\n"
     ]
    }
   ],
   "source": [
    "if chi2_statistic>critical_value:\n",
    "    print(\"Reject the Null Hypothesis,there is a significant relationship between product satisfaction levels and customer regions\")\n",
    "else:\n",
    "     print(\"Reject the Null Hypothesis,there is no a significant relationship between product satisfaction levels and customer regions\")"
   ]
  },
  {
   "cell_type": "markdown",
   "id": "f35f1452-ccda-4151-9bb7-45ed268ea393",
   "metadata": {},
   "source": [
    "# 23. A company implemented an employee training program to improve job performance (Effective, Neutral, Ineffective). After the training, they collected data from a sample of employees and classified them based on their job performance before and after the training. Perform a Chi-Square test to determine if there is a significant difference between job performance levels before and after the training.\n",
    " Sample data:\n",
    " ```python\n",
    " data = np.array([[50, 30, 20], [30, 40, 30], [20, 30, 40]])\n",
    " ```"
   ]
  },
  {
   "cell_type": "code",
   "execution_count": 94,
   "id": "8b9b6b4e-5b41-4fcc-9927-0ccef2754348",
   "metadata": {},
   "outputs": [
    {
     "data": {
      "text/html": [
       "<div>\n",
       "<style scoped>\n",
       "    .dataframe tbody tr th:only-of-type {\n",
       "        vertical-align: middle;\n",
       "    }\n",
       "\n",
       "    .dataframe tbody tr th {\n",
       "        vertical-align: top;\n",
       "    }\n",
       "\n",
       "    .dataframe thead th {\n",
       "        text-align: right;\n",
       "    }\n",
       "</style>\n",
       "<table border=\"1\" class=\"dataframe\">\n",
       "  <thead>\n",
       "    <tr style=\"text-align: right;\">\n",
       "      <th></th>\n",
       "      <th>0</th>\n",
       "      <th>1</th>\n",
       "      <th>2</th>\n",
       "    </tr>\n",
       "  </thead>\n",
       "  <tbody>\n",
       "    <tr>\n",
       "      <th>Effective</th>\n",
       "      <td>50</td>\n",
       "      <td>30</td>\n",
       "      <td>20</td>\n",
       "    </tr>\n",
       "    <tr>\n",
       "      <th>Neutral</th>\n",
       "      <td>30</td>\n",
       "      <td>40</td>\n",
       "      <td>30</td>\n",
       "    </tr>\n",
       "    <tr>\n",
       "      <th>Ineffecitve</th>\n",
       "      <td>20</td>\n",
       "      <td>30</td>\n",
       "      <td>40</td>\n",
       "    </tr>\n",
       "  </tbody>\n",
       "</table>\n",
       "</div>"
      ],
      "text/plain": [
       "              0   1   2\n",
       "Effective    50  30  20\n",
       "Neutral      30  40  30\n",
       "Ineffecitve  20  30  40"
      ]
     },
     "execution_count": 94,
     "metadata": {},
     "output_type": "execute_result"
    }
   ],
   "source": [
    "observed_value = np.array([[50, 30, 20], [30, 40, 30], [20, 30, 40]])\n",
    "df = pd.DataFrame(observed_value)\n",
    "df.index = ['Effective','Neutral','Ineffecitve']\n",
    "df"
   ]
  },
  {
   "cell_type": "code",
   "execution_count": 98,
   "id": "c7be71d8-cad5-4ada-96da-a3627d448ac7",
   "metadata": {},
   "outputs": [
    {
     "data": {
      "text/plain": [
       "array([[34.48275862, 34.48275862, 31.03448276],\n",
       "       [34.48275862, 34.48275862, 31.03448276],\n",
       "       [31.03448276, 31.03448276, 27.93103448]])"
      ]
     },
     "execution_count": 98,
     "metadata": {},
     "output_type": "execute_result"
    }
   ],
   "source": [
    "stats_Test, pvalue,dof,expected_value = stats.chi2_contingency(observed_value)\n",
    "expected_value"
   ]
  },
  {
   "cell_type": "code",
   "execution_count": 99,
   "id": "e0667209-6473-46cf-87b5-30d93c4786db",
   "metadata": {},
   "outputs": [
    {
     "name": "stdout",
     "output_type": "stream",
     "text": [
      "(array([50, 30, 20]), array([34.48275862, 34.48275862, 31.03448276]))\n",
      "(array([30, 40, 30]), array([34.48275862, 34.48275862, 31.03448276]))\n",
      "(array([20, 30, 40]), array([31.03448276, 31.03448276, 27.93103448]))\n"
     ]
    }
   ],
   "source": [
    "for i in zip(observed_value,expected_value):\n",
    "    print(i)"
   ]
  },
  {
   "cell_type": "code",
   "execution_count": 100,
   "id": "e2ea7a7f-71f5-4b7e-89dd-d3cde8f2a218",
   "metadata": {},
   "outputs": [
    {
     "data": {
      "text/plain": [
       "array([100., 100.,  90.])"
      ]
     },
     "execution_count": 100,
     "metadata": {},
     "output_type": "execute_result"
    }
   ],
   "source": [
    "chisquare_test = sum([(0-e)**2 /e for o,e in zip(observed_value,expected_value)])\n",
    "chisquare_test"
   ]
  },
  {
   "cell_type": "code",
   "execution_count": 101,
   "id": "4dfcc77d-32ed-4257-9c13-4898c6c7ae54",
   "metadata": {},
   "outputs": [
    {
     "data": {
      "text/plain": [
       "290.0"
      ]
     },
     "execution_count": 101,
     "metadata": {},
     "output_type": "execute_result"
    }
   ],
   "source": [
    "Chi2_stats = chisquare_test[0] + chisquare_test[1] + chisquare_test[2]\n",
    "Chi2_stats"
   ]
  },
  {
   "cell_type": "code",
   "execution_count": 102,
   "id": "8ce390f6-ed9c-4b2d-8bf4-4385f8577a5f",
   "metadata": {},
   "outputs": [
    {
     "data": {
      "text/plain": [
       "9.487729036781154"
      ]
     },
     "execution_count": 102,
     "metadata": {},
     "output_type": "execute_result"
    }
   ],
   "source": [
    "alpha = 0.05\n",
    "chi_critical_value = stats.chi2.ppf(1-alpha,dof)\n",
    "chi_critical_value"
   ]
  },
  {
   "cell_type": "code",
   "execution_count": 108,
   "id": "9a6bb693-c63f-47c1-8f06-652656b4855d",
   "metadata": {},
   "outputs": [
    {
     "name": "stdout",
     "output_type": "stream",
     "text": [
      "Reject the Null Hypothesis,there is a significant difference between job performance levels before and after the training\n"
     ]
    }
   ],
   "source": [
    "if Chi2_stats>chi_critical_value:\n",
    "    print(\"Reject the Null Hypothesis,there is a significant difference between job performance levels before and after the training\")\n",
    "else:\n",
    "    print(\"Fail to Reject the Null Hypothesis,there is no a significant difference between job performance levels before and after the training\")\n",
    "    "
   ]
  },
  {
   "cell_type": "markdown",
   "id": "83a48f14-6f1c-43dd-8e64-665cfb880d84",
   "metadata": {},
   "source": [
    "# 24. A company produces three different versions of a product: Standard, Premium, and Deluxe. The company wants to determine if there is a significant difference in customer satisfaction scores among the three product versions. They conducted a survey and collected customer satisfaction scores for each version from a random sample of customers. Perform an ANOVA test to determine if there is a significant difference in customer satisfaction scores.\n",
    " Use the following data:\n",
    " ```python\n",
    " # Sample data: Customer satisfaction scores for each product version\n",
    " standard_scores = [80, 85, 90, 78, 88, 82, 92, 78, 85, 87]\n",
    " premium_scores = [90, 92, 88, 92, 95, 91, 96, 93, 89, 93]\n",
    " deluxe_scores = [95, 98, 92, 97, 96, 94, 98, 97, 92, 99]\n",
    " ```\n",
    " "
   ]
  },
  {
   "cell_type": "code",
   "execution_count": 110,
   "id": "4933f94c-0f04-4e3b-82f4-c3be31fadb7b",
   "metadata": {},
   "outputs": [],
   "source": [
    "standard_scores = [80, 85, 90, 78, 88, 82, 92, 78, 85, 87]\n",
    "premium_scores = [90, 92, 88, 92, 95, 91, 96, 93, 89, 93]\n",
    "deluxe_scores = [95, 98, 92, 97, 96, 94, 98, 97, 92, 99]"
   ]
  },
  {
   "cell_type": "code",
   "execution_count": 113,
   "id": "d5ae9462-f2e7-40cc-befe-2412e54c76f5",
   "metadata": {},
   "outputs": [],
   "source": [
    "fstates, pvalue = stats.f_oneway(standard_scores,premium_scores,deluxe_scores)"
   ]
  },
  {
   "cell_type": "code",
   "execution_count": 120,
   "id": "46527736-ce3a-423f-b881-d6f4ce7816e6",
   "metadata": {},
   "outputs": [
    {
     "name": "stdout",
     "output_type": "stream",
     "text": [
      "F-Statistics: 27.03556231003039\n",
      "P-Value: 3.578632885734896e-07\n",
      "Reject the null Hypothesis,there is a significant difference in customer satisfaction scores\n"
     ]
    }
   ],
   "source": [
    "print(f\"F-Statistics: {fstates}\")\n",
    "print(f\"P-Value: {pvalue}\")\n",
    "alpha = 0.05\n",
    "if pvalue<=alpha:\n",
    "    print('Reject the null Hypothesis,there is a significant difference in customer satisfaction scores')\n",
    "else:\n",
    "    print(\"Fail Reject the null Hypothesis,there is no a significant difference in customer satisfaction scores\")"
   ]
  },
  {
   "cell_type": "code",
   "execution_count": null,
   "id": "80fd3280-163f-4f65-b723-b5112bc2c1d4",
   "metadata": {},
   "outputs": [],
   "source": []
  }
 ],
 "metadata": {
  "kernelspec": {
   "display_name": "Python 3 (ipykernel)",
   "language": "python",
   "name": "python3"
  },
  "language_info": {
   "codemirror_mode": {
    "name": "ipython",
    "version": 3
   },
   "file_extension": ".py",
   "mimetype": "text/x-python",
   "name": "python",
   "nbconvert_exporter": "python",
   "pygments_lexer": "ipython3",
   "version": "3.11.9"
  }
 },
 "nbformat": 4,
 "nbformat_minor": 5
}
