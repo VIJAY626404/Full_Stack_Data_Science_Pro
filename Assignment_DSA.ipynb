{
 "cells": [
  {
   "cell_type": "markdown",
   "id": "198a5ba4",
   "metadata": {},
   "source": [
    "# DSA Assignment"
   ]
  },
  {
   "cell_type": "markdown",
   "id": "7307118d",
   "metadata": {},
   "source": [
    "# Problem 1: Reverse a singly linked list.\n",
    " Input: 1 -> 2 -> 3 -> 4 -> 5\n",
    " Output: 5 -> 4 -> 3 -> 2 -> 1"
   ]
  },
  {
   "cell_type": "code",
   "execution_count": 1,
   "id": "b7c3174a",
   "metadata": {},
   "outputs": [
    {
     "name": "stdout",
     "output_type": "stream",
     "text": [
      "None\n",
      "Before Reverse:\n",
      "1->2->3->4->5->None\n",
      "After Reverse:\n",
      "5->4->3->2->1->None\n"
     ]
    }
   ],
   "source": [
    "class Node:\n",
    "    def __init__(self,value=0,next=None):\n",
    "        self.value=value\n",
    "        self.next = next\n",
    "        \n",
    "# define function for reverse list\n",
    "def reverse(head):\n",
    "    prev = None\n",
    "    curr = head\n",
    "    \n",
    "    # traverse list\n",
    "    while curr is not None:\n",
    "        nex = curr.next\n",
    "        curr.next = prev\n",
    "        prev = curr\n",
    "        curr = nex\n",
    "    head = prev\n",
    "    return head\n",
    "print(None)\n",
    "\n",
    "# define function to diplay list\n",
    "def printlist(head):\n",
    "    temp = head\n",
    "    while(temp):\n",
    "        print(temp.value,end = \"->\")\n",
    "        temp = temp.next\n",
    "    print(None)        \n",
    "\n",
    "    # create node\n",
    "head = Node(1)\n",
    "node2 = Node(2)\n",
    "node3 = Node(3)\n",
    "node4 = Node(4)\n",
    "node5 = Node(5)\n",
    "\n",
    "# define linked between node\n",
    "head.next = node2\n",
    "node2.next= node3\n",
    "node3.next = node4\n",
    "node4.next = node5\n",
    "\n",
    "# call the function\n",
    "print(\"Before Reverse:\")\n",
    "printlist(head)\n",
    "print(\"After Reverse:\")\n",
    "head = reverse(head)\n",
    "printlist(head)\n",
    "\n",
    "            "
   ]
  },
  {
   "cell_type": "markdown",
   "id": "1c1a42fc",
   "metadata": {},
   "source": [
    "Explanation:\n",
    "1. Using 3 pointer approach i have solve this problem\n",
    "2. 3 pointer are used like curr,prev,nex\n",
    "3. I traverse the list, reversing the direction of the pointer of each node. Finally, we update the head to the last node encountered, which becomes the head of the reversed linked list.\n"
   ]
  },
  {
   "cell_type": "code",
   "execution_count": null,
   "id": "c87b23f8",
   "metadata": {},
   "outputs": [],
   "source": []
  },
  {
   "cell_type": "markdown",
   "id": "d7e4dc81",
   "metadata": {},
   "source": [
    "# Problem 2: Merge two sorted linked lists into one sorted linked list.\n",
    " Input: List 1: 1 -> 3 -> 5, List 2: 2 -> 4 -> 6\n",
    " Output: 1 -> 2 -> 3 -> 4 -> 5 -> 6"
   ]
  },
  {
   "cell_type": "code",
   "execution_count": 2,
   "id": "64dac641",
   "metadata": {},
   "outputs": [
    {
     "name": "stdout",
     "output_type": "stream",
     "text": [
      "1->3->5->None\n",
      "2->4->6->None\n",
      "After Merged Two Sorted List:\n",
      "1->2->3->4->5->6->None\n"
     ]
    }
   ],
   "source": [
    "class ListNode:\n",
    "    def __init__(self,value=0,next=None):\n",
    "        self.value = value\n",
    "        self.next =next\n",
    "\n",
    "def merge_sorted_list(l1,l2):\n",
    "    # Create a dummy node to serve as the head of the merged list\n",
    "    dummy = ListNode()\n",
    "    current = dummy\n",
    "    \n",
    "    # Loop through both lists until one of them becomes None\n",
    "    while l1 is not None and l2 is not None:\n",
    "        # Compare the values of the two lists\n",
    "        if l1.value < l2.value:\n",
    "            current.next = l1\n",
    "            l1 = l1.next\n",
    "        else:\n",
    "            current.next = l2\n",
    "            l2 = l2.next\n",
    "        # Move the current pointer to the next node\n",
    "        current = current.next\n",
    "    \n",
    "    # Attach the remaining elements of the non-empty list\n",
    "    if l1 is not None:\n",
    "        current.next = l1\n",
    "    else:\n",
    "        current.next = l2\n",
    "    \n",
    "    # Return the merged list (excluding the dummy node)\n",
    "    return dummy.next     \n",
    "\n",
    "    # create first list\n",
    "head1 = Node(1)\n",
    "node2 = Node(3)\n",
    "node3 = Node(5)\n",
    "\n",
    "\n",
    "# define linked between node\n",
    "head1.next = node2\n",
    "node2.next= node3\n",
    "\n",
    " # creating second list\n",
    "head2 = Node(2)\n",
    "node2 = Node(4)\n",
    "node3 = Node(6)\n",
    "\n",
    "\n",
    "# define linked between node\n",
    "head2.next = node2\n",
    "node2.next= node3\n",
    "\n",
    "printlist(head1)  # printlist define in previous function\n",
    "printlist(head2)\n",
    "\n",
    "head = merge_sorted_list(head1,head2)\n",
    "print(\"After Merged Two Sorted List:\")\n",
    "printlist(head)\n",
    "\n",
    "    \n",
    "    \n"
   ]
  },
  {
   "cell_type": "markdown",
   "id": "71590ac4",
   "metadata": {},
   "source": [
    " # Problem 3: Remove the nth node from the end of a linked list.\n",
    " Input: 1 -> 2 -> 3 -> 4 -> 5, n = 2\n",
    " Output: 1 -> 2 -> 3 -> 5"
   ]
  },
  {
   "cell_type": "code",
   "execution_count": 28,
   "id": "bdc42074",
   "metadata": {},
   "outputs": [
    {
     "name": "stdout",
     "output_type": "stream",
     "text": [
      "Original List:\n",
      "1 -> 2 -> 3 -> 4 -> 5 -> None\n",
      "After removing the 2th node from the end:\n",
      "1 -> 2 -> 3 -> 5 -> None\n"
     ]
    }
   ],
   "source": [
    "class ListNode:\n",
    "    def __init__(self, val=0, next=None):\n",
    "        self.val = val\n",
    "        self.next = next\n",
    "\n",
    "def removeNthFromEnd(head, n):\n",
    "    # Create a dummy node and point its next to the head of the linked list\n",
    "    dummy = ListNode(0)\n",
    "    dummy.next = head\n",
    "\n",
    "    # Initialize two pointers, slow and fast, pointing to the dummy node\n",
    "    slow = fast = dummy\n",
    "\n",
    "    # Move the fast pointer n+1 steps ahead\n",
    "    for _ in range(n + 1):\n",
    "        fast = fast.next\n",
    "\n",
    "    # Move both pointers simultaneously until the fast pointer reaches the end\n",
    "    while fast is not None:\n",
    "        slow = slow.next\n",
    "        fast = fast.next\n",
    "\n",
    "    # Now, slow is pointing to the node just before the node to be removed\n",
    "    # Remove the nth node by adjusting the next pointer of the slow pointer\n",
    "    slow.next = slow.next.next\n",
    "\n",
    "    # Return the head of the updated linked list\n",
    "    return dummy.next\n",
    "\n",
    "# Helper function to print the linked list\n",
    "def printList(node):\n",
    "    while node:\n",
    "        print(node.val, end=\" -> \")\n",
    "        node = node.next\n",
    "    print(\"None\")\n",
    "\n",
    "# Create the linked list\n",
    "head = ListNode(1)\n",
    "head.next = ListNode(2)\n",
    "head.next.next = ListNode(3)\n",
    "head.next.next.next = ListNode(4)\n",
    "head.next.next.next.next = ListNode(5)\n",
    "\n",
    "n = 2\n",
    "print(\"Original List:\")\n",
    "printList(head)\n",
    "\n",
    "# Remove the nth node from the end\n",
    "head = removeNthFromEnd(head, n)\n",
    "\n",
    "print(f\"After removing the {n}th node from the end:\")\n",
    "printList(head)\n"
   ]
  },
  {
   "cell_type": "markdown",
   "id": "0e6953ba",
   "metadata": {},
   "source": [
    " # Problem 4: Find the intersection point of two linked lists.\n",
    " Input: List 1: 1 -> 2 -> 3 -> 4, List 2: 9 -> 8 -> 3 -> 4\n",
    " Output: Node with value 3"
   ]
  },
  {
   "cell_type": "code",
   "execution_count": 9,
   "id": "fddf6d9f",
   "metadata": {},
   "outputs": [
    {
     "name": "stdout",
     "output_type": "stream",
     "text": [
      "List 1:\n",
      "1->2->3->4->None\n",
      "List 2:\n",
      "9->8->3->4->None\n",
      "Intersection Node: Node with value 3\n"
     ]
    }
   ],
   "source": [
    "class Node:\n",
    "    def __init__(self,value=0,next=None):\n",
    "        self.value = value\n",
    "        self.next = next\n",
    "\n",
    "def intersection(list1,list2):\n",
    "     # fuction to get length of LL\n",
    "        def length(head):\n",
    "            length=0\n",
    "            while head:\n",
    "                length += 1\n",
    "                head = head.next\n",
    "            return length\n",
    "        \n",
    "        # get the length of both list\n",
    "        len1 = length(list1)\n",
    "        len2 = length(list2)\n",
    "        \n",
    "        # calculate the difference in lengths\n",
    "        diff = abs(len1-len2)\n",
    "        \n",
    "        # move the pointer of the longer LL forward by difference\n",
    "        if len1>len2:\n",
    "            for i in range(diff):\n",
    "                list1 = list1.next\n",
    "        else:\n",
    "            for i in range(diff):\n",
    "                list2 = list2.next\n",
    "                \n",
    "        # traverse the LL simultaneously until we find the intersection\n",
    "        while list1!=list2:\n",
    "            list1 = list1.next\n",
    "            list2 = list2.next\n",
    "            \n",
    "            # return intersection point\n",
    "        return list1\n",
    "\n",
    "# define function to print list\n",
    "def printlist(head):\n",
    "    while head:\n",
    "        print(head.value,end=\"->\")\n",
    "        head = head.next\n",
    "    print(\"None\")\n",
    "        \n",
    "    \n",
    "    \n",
    "    \n",
    "  # create first list\n",
    "head1 = Node(1)\n",
    "node2 = Node(2)\n",
    "node3 = Node(3)\n",
    "node4 = Node(4)\n",
    "\n",
    "\n",
    "# define linked between node\n",
    "head1.next = node2\n",
    "node2.next= node3\n",
    "node3.next = node4\n",
    "\n",
    " # creating second list\n",
    "head2 = Node(9)\n",
    "node2 = Node(8)\n",
    "node3 = Node(3)\n",
    "node4 = Node(4)\n",
    "\n",
    "\n",
    "# define linked between node\n",
    "head2.next = node2\n",
    "\n",
    "# create intersection point\n",
    "node2.next= head1.next.next\n",
    "\n",
    "\n",
    "print(\"List 1:\")\n",
    "printlist(head1)\n",
    "print(\"List 2:\")\n",
    "printlist(head2)\n",
    "\n",
    "ans = intersection(head1,head2)\n",
    "if ans:\n",
    "    print(f\"Intersection Node: Node with value {ans.value}\")\n",
    "else:\n",
    "    print(\"No intersection point found.\")\n",
    "    "
   ]
  },
  {
   "cell_type": "markdown",
   "id": "ecf91c07",
   "metadata": {},
   "source": [
    "Explanation:\n",
    "1. first calculate the lengths of both linked lists and adjust the pointers      accordingly to ensure that both pointers start at the same position from      the intersection point. \n",
    "2. Then, we traverse both lists simultaneously until we find the intersection    point or reach the end of either list. "
   ]
  },
  {
   "cell_type": "markdown",
   "id": "08c0245e",
   "metadata": {},
   "source": [
    "# Problem 5: Remove duplicates from a sorted linked list.\n",
    " Input: 1 -> 1 -> 2 -> 3 -> 3\n",
    " Output: 1 -> 2 -> 3"
   ]
  },
  {
   "cell_type": "code",
   "execution_count": 3,
   "id": "d3c98fe2",
   "metadata": {},
   "outputs": [
    {
     "name": "stdout",
     "output_type": "stream",
     "text": [
      "Given List is:\n",
      "1->1->2->3->5->None\n",
      "List after removing duplicates:\n",
      "1->2->3->5->None\n"
     ]
    }
   ],
   "source": [
    "class Node:\n",
    "    def __init__(self,value=0,next= None):\n",
    "        self.value = value\n",
    "        self.next = next\n",
    "\n",
    "# function to remove duplicate\n",
    "def removeDuplicate(head):\n",
    "    if head is None or head.next is None:\n",
    "        return head\n",
    "    \n",
    "    # initialize a pointer to traverse the LL\n",
    "    temp = head\n",
    "    \n",
    "    # Traverse the list\n",
    "    while temp.next is not None:\n",
    "        if temp.value==temp.next.value:\n",
    "            temp.next = temp.next.next\n",
    "        else:\n",
    "            # move to the next node\n",
    "            temp = temp.next\n",
    "    return head\n",
    "\n",
    "\n",
    "# define list\n",
    "head = Node(1)\n",
    "node2 = Node(1)\n",
    "node3 = Node(2)\n",
    "node4 = Node(3)\n",
    "node5 = Node(5)\n",
    "\n",
    "# create linked between this\n",
    "head.next = node2\n",
    "node2.next = node3\n",
    "node3.next = node4\n",
    "node4.next = node5\n",
    "\n",
    "print(\"Given List is:\")\n",
    "printlist(head)\n",
    "\n",
    "# remove duplicate from the LL\n",
    "head = removeDuplicate(head)\n",
    "print(\"List after removing duplicates:\")\n",
    "printlist(head)"
   ]
  },
  {
   "cell_type": "markdown",
   "id": "83795465",
   "metadata": {},
   "source": [
    "Explanation:\n",
    "1. In this code, we traverse the linked list using a pointer named current. 2. At each step, we compare the value of the current node with the value of      the next node. If they are equal, we skip the next node by adjusting the      next pointer of the current node. \n",
    "3. If they are not equal, we move to the next node. \n",
    "4. This way, we remove duplicates from the linked list while maintaining its    sorted order."
   ]
  },
  {
   "cell_type": "markdown",
   "id": "722fe9ea",
   "metadata": {},
   "source": [
    "# Problem 6: Add two numbers represented by linked lists (where each node contains a single digit).\n",
    " Input: List 1: 2 -> 4 -> 3, List 2: 5 -> 6 -> 4 (represents 342 + 465)\n",
    " Output: 7 -> 0 -> 8 (represents 807"
   ]
  },
  {
   "cell_type": "code",
   "execution_count": 4,
   "id": "417e353a",
   "metadata": {},
   "outputs": [
    {
     "name": "stdout",
     "output_type": "stream",
     "text": [
      "List 1:\n",
      "2 -> 4 -> 3 -> None\n",
      "List 2:\n",
      "5 -> 6 -> 4 -> None\n",
      "Sum:\n",
      "7 -> 0 -> 8 -> None\n"
     ]
    }
   ],
   "source": [
    "class ListNode:\n",
    "    def __init__(self, val=0, next=None):\n",
    "        self.val = val\n",
    "        self.next = next\n",
    "        \n",
    "def addTwoNumber(head1,head2):\n",
    "    dummy = ListNode()\n",
    "    current = dummy\n",
    "    carry =0\n",
    "    \n",
    "    while head1 or head2 or carry:\n",
    "        sum = carry\n",
    "        if head1:\n",
    "            sum += head1.val\n",
    "            head1 = head1.next\n",
    "        if head2:\n",
    "            sum += head2.val\n",
    "            head2 = head2.next\n",
    "            \n",
    "        # update the carry\n",
    "        carry = sum//10\n",
    "        # create a new node with the digit sum%10\n",
    "        current.next = ListNode(sum%10)\n",
    "        \n",
    "        # move to the next Node\n",
    "        current = current.next\n",
    "    return dummy.next\n",
    "\n",
    "# Helper function to print the linked list\n",
    "def printList(node):\n",
    "    while node:\n",
    "        print(node.val, end=\" -> \")\n",
    "        node = node.next\n",
    "    print(\"None\")\n",
    "    \n",
    "# create list1\n",
    "head1 = ListNode(2)\n",
    "head1.next = ListNode(4)\n",
    "head1.next.next = ListNode(3)\n",
    "\n",
    "# create list2\n",
    "head2 = ListNode(5)\n",
    "head2.next = ListNode(6)\n",
    "head2.next.next = ListNode(4)\n",
    "\n",
    "print(\"List 1:\")\n",
    "printList(head1)\n",
    "print(\"List 2:\")\n",
    "printList(head2)\n",
    "\n",
    "# add the numbers represented by the LL\n",
    "result = addTwoNumber(head1,head2)\n",
    "print(\"Sum:\")\n",
    "printList(result)"
   ]
  },
  {
   "cell_type": "markdown",
   "id": "058736cf",
   "metadata": {},
   "source": [
    "Explanation:\n",
    "1. In this code, we use a dummy node to facilitate the creation of the result    linked list.\n",
    "2. We iterate through both input linked lists, summing the digits and carry,    and updating the carry for the next iteration.\n",
    "3. We create a new node for each digit of the sum and link it to the result      linked list.\n",
    "4. Finally, we return the head of the result linked list."
   ]
  },
  {
   "cell_type": "markdown",
   "id": "4fee74a0",
   "metadata": {},
   "source": [
    "# Problem 7: Swap nodes in pairs in a linked list.\n",
    " Input: 1 -> 2 -> 3 -> 4\n",
    " Output: 2 -> 1 -> 4 -> 3"
   ]
  },
  {
   "cell_type": "code",
   "execution_count": 5,
   "id": "5f976b7e",
   "metadata": {},
   "outputs": [
    {
     "name": "stdout",
     "output_type": "stream",
     "text": [
      "Original List:\n",
      "1 -> 2 -> 3 -> 4 -> None\n",
      "List after swapping pairs:\n",
      "2 -> 1 -> 4 -> 3 -> None\n"
     ]
    }
   ],
   "source": [
    "class ListNode:\n",
    "    def __init__(self, val=0, next=None):\n",
    "        self.val = val\n",
    "        self.next = next\n",
    "\n",
    "def swapPairs(head):\n",
    "    # Create a dummy node to serve as the head of the result linked list\n",
    "    dummy = ListNode(0)\n",
    "    dummy.next = head\n",
    "    prev = dummy\n",
    "    \n",
    "    # Traverse the linked list and swap pairs of nodes\n",
    "    while prev.next and prev.next.next:\n",
    "        first_node = prev.next\n",
    "        second_node = prev.next.next\n",
    "        \n",
    "        # Swap the pair of nodes\n",
    "        prev.next = second_node\n",
    "        first_node.next = second_node.next\n",
    "        second_node.next = first_node\n",
    "        \n",
    "        # Move to the next pair of nodes\n",
    "        prev = first_node\n",
    "    \n",
    "    # Return the head of the result linked list (excluding the dummy node)\n",
    "    return dummy.next\n",
    "\n",
    "# Helper function to print the linked list\n",
    "def printList(node):\n",
    "    while node:\n",
    "        print(node.val, end=\" -> \")\n",
    "        node = node.next\n",
    "    print(\"None\")\n",
    "\n",
    "# Create the linked list\n",
    "head = ListNode(1)\n",
    "head.next = ListNode(2)\n",
    "head.next.next = ListNode(3)\n",
    "head.next.next.next = ListNode(4)\n",
    "\n",
    "print(\"Original List:\")\n",
    "printList(head)\n",
    "\n",
    "# Swap nodes in pairs\n",
    "head = swapPairs(head)\n",
    "\n",
    "print(\"List after swapping pairs:\")\n",
    "printList(head)\n"
   ]
  },
  {
   "cell_type": "markdown",
   "id": "ed54a093",
   "metadata": {},
   "source": [
    "Explanation:\n",
    "1. In this code, we use a dummy node to facilitate the manipulation of the      linked list.\n",
    "2. We iterate through the linked list and swap pairs of nodes by adjusting      the pointers. Finally, we return the head of the result linked list.\n",
    "    "
   ]
  },
  {
   "cell_type": "markdown",
   "id": "31ca608d",
   "metadata": {},
   "source": [
    " # Problem 8: Reverse nodes in a linked list in groups of k.\n",
    " Input: 1 -> 2 -> 3 -> 4 -> 5, k = 3\n",
    " Output: 3 -> 2 -> 1 -> 4 -> 5"
   ]
  },
  {
   "cell_type": "code",
   "execution_count": 10,
   "id": "2457c007",
   "metadata": {},
   "outputs": [
    {
     "name": "stdout",
     "output_type": "stream",
     "text": [
      "Original List:\n",
      "1 -> 2 -> 3 -> 4 -> 5 -> None\n",
      "List after reversing nodes in groups of 3:\n",
      "3 -> 2 -> 1 -> None\n"
     ]
    }
   ],
   "source": [
    "class ListNode:\n",
    "    def __init__(self, val=0, next=None):\n",
    "        self.val = val\n",
    "        self.next = next\n",
    "\n",
    "def reverseKGroup(head, k):\n",
    "    # Check if the linked list has at least k nodes\n",
    "    def hasKNodes(head, k):\n",
    "        count = 0\n",
    "        while head and count < k:\n",
    "            head = head.next\n",
    "            count += 1\n",
    "        return count == k\n",
    "    \n",
    "    # Reverse the first group of k nodes\n",
    "    def reverseFirstKNodes(head, k):\n",
    "        prev, current = None, head\n",
    "        while k > 0:\n",
    "            next_node = current.next\n",
    "            current.next = prev\n",
    "            prev = current\n",
    "            current = next_node\n",
    "            k -= 1\n",
    "        return prev\n",
    "    \n",
    "    # Reverse the remaining groups of k nodes recursively\n",
    "    def reverseRemainingKGroups(head, k):\n",
    "        if not hasKNodes(head, k):\n",
    "            return head\n",
    "        new_head = reverseKGroup(head, k)\n",
    "        head.next = reverseRemainingKGroups(new_head, k)\n",
    "        return new_head\n",
    "    \n",
    "    # Check if there are at least k nodes in the linked list\n",
    "    if not hasKNodes(head, k):\n",
    "        return head\n",
    "    \n",
    "    # Reverse the first group of k nodes\n",
    "    new_head = reverseFirstKNodes(head, k)\n",
    "    \n",
    "    # Reverse the remaining groups of k nodes recursively\n",
    "    head.next = reverseRemainingKGroups(head.next, k)\n",
    "    \n",
    "    return new_head\n",
    "\n",
    "# Helper function to print the linked list\n",
    "def printList(node):\n",
    "    while node:\n",
    "        print(node.val, end=\" -> \")\n",
    "        node = node.next\n",
    "    print(\"None\")\n",
    "\n",
    "# Create the linked list\n",
    "head = ListNode(1)\n",
    "head.next = ListNode(2)\n",
    "head.next.next = ListNode(3)\n",
    "head.next.next.next = ListNode(4)\n",
    "head.next.next.next.next = ListNode(5)\n",
    "\n",
    "print(\"Original List:\")\n",
    "printList(head)\n",
    "\n",
    "k = 3\n",
    "# Reverse nodes in groups of k\n",
    "head = reverseKGroup(head, k)\n",
    "\n",
    "print(f\"List after reversing nodes in groups of {k}:\")\n",
    "printList(head)\n"
   ]
  },
  {
   "cell_type": "markdown",
   "id": "9c1b0438",
   "metadata": {},
   "source": [
    "Explanation:\n",
    "1. In this code, we define three helper functions: hasKNodes,                  reverseFirstKNodes, and reverseRemainingKGroups. \n",
    "2. We use recursion to reverse the linked list in groups of k nodes.\n",
    "3. The reverseKGroup function takes the head of the linked list and the        value of k as input and returns the head of the new linked list with        reversed groups."
   ]
  },
  {
   "cell_type": "markdown",
   "id": "a737eb78",
   "metadata": {},
   "source": [
    "# Problem 9: Determine if a linked list is a palindrome.\n",
    " Input: 1 -> 2 -> 2 -> 1\n",
    " Output: True"
   ]
  },
  {
   "cell_type": "code",
   "execution_count": 11,
   "id": "896a9a54",
   "metadata": {},
   "outputs": [
    {
     "name": "stdout",
     "output_type": "stream",
     "text": [
      "Original List:\n",
      "1 -> 2 -> 2 -> 1 -> None\n",
      "Is the linked list a palindrome? True\n"
     ]
    }
   ],
   "source": [
    "class ListNode:\n",
    "    def __init__(self, val=0, next=None):\n",
    "        self.val = val\n",
    "        self.next = next\n",
    "\n",
    "def isPalindrome(head):\n",
    "    # Find the middle of the linked list using slow and fast pointers\n",
    "    slow = head\n",
    "    fast = head\n",
    "    while fast and fast.next:\n",
    "        slow = slow.next\n",
    "        fast = fast.next.next\n",
    "    \n",
    "    # Reverse the second half of the linked list\n",
    "    prev = None\n",
    "    while slow:\n",
    "        next_node = slow.next\n",
    "        slow.next = prev\n",
    "        prev = slow\n",
    "        slow = next_node\n",
    "    \n",
    "    # Compare the first half with the reversed second half\n",
    "    while prev:\n",
    "        if head.val != prev.val:\n",
    "            return False\n",
    "        head = head.next\n",
    "        prev = prev.next\n",
    "    return True\n",
    "\n",
    "# Helper function to print the linked list\n",
    "def printList(node):\n",
    "    while node:\n",
    "        print(node.val, end=\" -> \")\n",
    "        node = node.next\n",
    "    print(\"None\")\n",
    "\n",
    "# Create the linked list\n",
    "head = ListNode(1)\n",
    "head.next = ListNode(2)\n",
    "head.next.next = ListNode(2)\n",
    "head.next.next.next = ListNode(1)\n",
    "\n",
    "print(\"Original List:\")\n",
    "printList(head)\n",
    "\n",
    "# Determine if the linked list is a palindrome\n",
    "print(\"Is the linked list a palindrome?\", isPalindrome(head))\n"
   ]
  },
  {
   "cell_type": "markdown",
   "id": "3c8cf7ff",
   "metadata": {},
   "source": [
    "Explanation:\n",
    "1. In this code, we use the slow and fast pointer technique to find the        middle of the linked list.\n",
    "2. Then, we reverse the second half of the linked list.\n",
    "3. Finally, we compare each element of the first half with the reversed        second half.\n",
    "4. If all elements match, the linked list is a palindrome."
   ]
  },
  {
   "cell_type": "markdown",
   "id": "c0b8cdc9",
   "metadata": {},
   "source": [
    "# Problem 10: Rotate a linked list to the right by k places.\n",
    " Input: 1 -> 2 -> 3 -> 4 -> 5, k = 2\n",
    " Output: 4 -> 5 -> 1 -> 2 -> 3"
   ]
  },
  {
   "cell_type": "code",
   "execution_count": 12,
   "id": "d915900b",
   "metadata": {},
   "outputs": [
    {
     "name": "stdout",
     "output_type": "stream",
     "text": [
      "Original List:\n",
      "1 -> 2 -> 3 -> 4 -> 5 -> None\n",
      "List after rotating to the right by 2 places:\n",
      "4 -> 5 -> 1 -> 2 -> 3 -> None\n"
     ]
    }
   ],
   "source": [
    "class ListNode:\n",
    "    def __init__(self, val=0, next=None):\n",
    "        self.val = val\n",
    "        self.next = next\n",
    "\n",
    "def rotateRight(head, k):\n",
    "    # Edge cases: empty linked list or k is 0\n",
    "    if not head or k == 0:\n",
    "        return head\n",
    "    \n",
    "    # Find the length of the linked list and locate the tail\n",
    "    length = 1\n",
    "    tail = head\n",
    "    while tail.next:\n",
    "        tail = tail.next\n",
    "        length += 1\n",
    "    \n",
    "    # Calculate the effective rotation index\n",
    "    k %= length\n",
    "    if k == 0:\n",
    "        return head\n",
    "    \n",
    "    # Locate the new tail\n",
    "    new_tail_index = length - k - 1\n",
    "    new_tail = head\n",
    "    for _ in range(new_tail_index):\n",
    "        new_tail = new_tail.next\n",
    "    \n",
    "    # Perform rotation\n",
    "    tail.next = head\n",
    "    head = new_tail.next\n",
    "    new_tail.next = None\n",
    "    \n",
    "    return head\n",
    "\n",
    "# Helper function to print the linked list\n",
    "def printList(node):\n",
    "    while node:\n",
    "        print(node.val, end=\" -> \")\n",
    "        node = node.next\n",
    "    print(\"None\")\n",
    "\n",
    "# Create the linked list\n",
    "head = ListNode(1)\n",
    "head.next = ListNode(2)\n",
    "head.next.next = ListNode(3)\n",
    "head.next.next.next = ListNode(4)\n",
    "head.next.next.next.next = ListNode(5)\n",
    "\n",
    "print(\"Original List:\")\n",
    "printList(head)\n",
    "\n",
    "k = 2\n",
    "# Rotate the linked list to the right by k places\n",
    "head = rotateRight(head, k)\n",
    "\n",
    "print(f\"List after rotating to the right by {k} places:\")\n",
    "printList(head)\n"
   ]
  },
  {
   "cell_type": "markdown",
   "id": "2b6872d0",
   "metadata": {},
   "source": [
    "Explanation:\n",
    "1. In this code, we first find the length of the linked list and locate the    tail.\n",
    "2. Then, we calculate the effective rotation index by taking the remainder    of k divided by the length.\n",
    "3. After finding the new tail and performing rotation, we return the          modified head.    "
   ]
  },
  {
   "cell_type": "markdown",
   "id": "aa38e1c8",
   "metadata": {},
   "source": [
    "#  Problem 11: Flatten a multilevel doubly linked list.\n",
    " Input: 1 <-> 2 <-> 3 <-> 7 <-> 8 <-> 11 -> 12, 4 <-> 5 -> 9 -> 10, 6 -> 13\n",
    " Output: 1 <-> 2 <-> 3 <-> 4 <-> 5 <-> 6 <-> 7 <-> 8 <-> 9 <-> 10 <-> 11 <-> 12 <-> 13"
   ]
  },
  {
   "cell_type": "code",
   "execution_count": 14,
   "id": "b00c0085",
   "metadata": {},
   "outputs": [
    {
     "name": "stdout",
     "output_type": "stream",
     "text": [
      "Original Multilevel Doubly Linked List:\n",
      "1 <-> 2 <-> 3 <-> 4 <-> 5 <-> 6 <-> None\n",
      "Flattened Doubly Linked List:\n",
      "1 <-> 2 <-> 3 <-> 7 <-> 4 <-> 5 <-> 9 <-> 6 <-> 13 <-> None\n"
     ]
    }
   ],
   "source": [
    "class Node:\n",
    "    def __init__(self, val, prev=None, next=None, child=None):\n",
    "        self.val = val\n",
    "        self.prev = prev\n",
    "        self.next = next\n",
    "        self.child = child\n",
    "\n",
    "def flatten(head):\n",
    "    if not head:\n",
    "        return None\n",
    "    \n",
    "    current = head\n",
    "    while current:\n",
    "        if current.child:\n",
    "            # Save the next node in the same level\n",
    "            next_node = current.next\n",
    "            \n",
    "            # Flatten the child level\n",
    "            child_tail = flatten(current.child)\n",
    "            \n",
    "            # Connect the current node to the head of the flattened child level\n",
    "            current.next = current.child\n",
    "            current.child.prev = current\n",
    "            current.child = None\n",
    "            \n",
    "            # Connect the tail of the flattened child level to the next node in the same level\n",
    "            if child_tail:\n",
    "                child_tail.next = next_node\n",
    "                if next_node:\n",
    "                    next_node.prev = child_tail\n",
    "            \n",
    "            current = child_tail\n",
    "        else:\n",
    "            current = current.next\n",
    "    \n",
    "    return head\n",
    "\n",
    "# Helper function to print the flattened doubly linked list\n",
    "def printList(node):\n",
    "    while node:\n",
    "        print(node.val, end=\" <-> \")\n",
    "        node = node.next\n",
    "    print(\"None\")\n",
    "\n",
    "# Create the multilevel doubly linked list\n",
    "head = Node(1)\n",
    "head.next = Node(2)\n",
    "head.next.prev = head\n",
    "head.next.next = Node(3)\n",
    "head.next.next.prev = head.next\n",
    "head.next.next.child = Node(7)\n",
    "head.next.next.child.next = Node(8)\n",
    "head.next.next.child.next.prev = head.next.next.child\n",
    "head.next.next.child.child = Node(11)\n",
    "head.next.next.child.child.next = Node(12)\n",
    "head.next.next.child.child.next.prev = head.next.next.child.child\n",
    "head.next.next.next = Node(4)\n",
    "head.next.next.next.prev = head.next.next\n",
    "head.next.next.next.next = Node(5)\n",
    "head.next.next.next.next.prev = head.next.next.next\n",
    "head.next.next.next.next.child = Node(9)\n",
    "head.next.next.next.next.child.next = Node(10)\n",
    "head.next.next.next.next.child.next.prev = head.next.next.next.next.child\n",
    "head.next.next.next.next.next = Node(6)\n",
    "head.next.next.next.next.next.prev = head.next.next.next.next\n",
    "head.next.next.next.next.next.child = Node(13)\n",
    "\n",
    "print(\"Original Multilevel Doubly Linked List:\")\n",
    "printList(head)\n",
    "\n",
    "# Flatten the multilevel doubly linked list\n",
    "head = flatten(head)\n",
    "\n",
    "print(\"Flattened Doubly Linked List:\")\n",
    "printList(head)\n"
   ]
  },
  {
   "cell_type": "markdown",
   "id": "4040f9bb",
   "metadata": {},
   "source": [
    "Explanation:\n",
    "1. In this code, the flatten function is recursively flattening each level    of the doubly linked list.\n",
    "2. It traverses the list and, when it encounters a node with a child, it      flattens the child level and connects the nodes accordingly.\n",
    "3. The printList function is a helper function to print the flattened          doubly linked list.\n",
    "    "
   ]
  },
  {
   "cell_type": "markdown",
   "id": "77629eed",
   "metadata": {},
   "source": [
    " # Problem 12: Rearrange a linked list such that all even positioned nodes are placed at the end.\n",
    " Input: 1 -> 2 -> 3 -> 4 -> 5\n",
    " Output: 1 -> 3 -> 5 -> 2 -> 4"
   ]
  },
  {
   "cell_type": "code",
   "execution_count": 15,
   "id": "c8df0505",
   "metadata": {},
   "outputs": [
    {
     "name": "stdout",
     "output_type": "stream",
     "text": [
      "Original List:\n",
      "1 -> 2 -> 3 -> 4 -> 5 -> None\n",
      "Rearranged List:\n",
      "1 -> 3 -> 5 -> 2 -> 4 -> None\n"
     ]
    }
   ],
   "source": [
    "class ListNode:\n",
    "    def __init__(self, val=0, next=None):\n",
    "        self.val = val\n",
    "        self.next = next\n",
    "\n",
    "def rearrangeLinkedList(head):\n",
    "    # Edge case: empty linked list or single node\n",
    "    if not head or not head.next:\n",
    "        return head\n",
    "    \n",
    "    # Separate the odd and even positioned nodes\n",
    "    odd_head = odd_tail = ListNode()\n",
    "    even_head = even_tail = ListNode()\n",
    "    is_odd = True\n",
    "    current = head\n",
    "    while current:\n",
    "        if is_odd:\n",
    "            odd_tail.next = current\n",
    "            odd_tail = odd_tail.next\n",
    "        else:\n",
    "            even_tail.next = current\n",
    "            even_tail = even_tail.next\n",
    "        is_odd = not is_odd\n",
    "        current = current.next\n",
    "    \n",
    "    # Connect the odd positioned list with the even positioned list\n",
    "    odd_tail.next = None\n",
    "    even_tail.next = None\n",
    "    odd_head = odd_head.next\n",
    "    even_head = even_head.next\n",
    "    \n",
    "    # Concatenate the odd positioned list with the even positioned list\n",
    "    current = odd_head\n",
    "    while current.next:\n",
    "        current = current.next\n",
    "    current.next = even_head\n",
    "    \n",
    "    return odd_head\n",
    "\n",
    "# Helper function to print the linked list\n",
    "def printList(node):\n",
    "    while node:\n",
    "        print(node.val, end=\" -> \")\n",
    "        node = node.next\n",
    "    print(\"None\")\n",
    "\n",
    "# Create the linked list\n",
    "head = ListNode(1)\n",
    "head.next = ListNode(2)\n",
    "head.next.next = ListNode(3)\n",
    "head.next.next.next = ListNode(4)\n",
    "head.next.next.next.next = ListNode(5)\n",
    "\n",
    "print(\"Original List:\")\n",
    "printList(head)\n",
    "\n",
    "# Rearrange the linked list such that all even positioned nodes are placed at the end\n",
    "head = rearrangeLinkedList(head)\n",
    "\n",
    "print(\"Rearranged List:\")\n",
    "printList(head)\n"
   ]
  },
  {
   "cell_type": "markdown",
   "id": "9ebb388a",
   "metadata": {},
   "source": [
    "Explanation:\n",
    "1. In this code, we traverse the linked list and separate the odd and even    positioned nodes into two separate lists.\n",
    "2. Then, we connect the odd positioned list with the even positioned list      and concatenate them together.\n",
    "3. Finally, we return the head of the rearranged linked list."
   ]
  },
  {
   "cell_type": "markdown",
   "id": "ede22da7",
   "metadata": {},
   "source": [
    " # Problem 13: Given a non-negative number represented as a linked list, add one to it.\n",
    " Input: 1 -> 2 -> 3 (represents the number 123)\n",
    " Output: 1 -> 2 -> 4 (represents the number 124)"
   ]
  },
  {
   "cell_type": "code",
   "execution_count": 16,
   "id": "25ea18ac",
   "metadata": {},
   "outputs": [
    {
     "name": "stdout",
     "output_type": "stream",
     "text": [
      "Original List:\n",
      "1 -> 2 -> 3 -> None\n",
      "List after adding one:\n",
      "1 -> 2 -> 4 -> None\n"
     ]
    }
   ],
   "source": [
    "class ListNode:\n",
    "    def __init__(self, val=0, next=None):\n",
    "        self.val = val\n",
    "        self.next = next\n",
    "\n",
    "def addOneLinkedList(head):\n",
    "    # Reverse the linked list\n",
    "    prev = None\n",
    "    current = head\n",
    "    while current:\n",
    "        next_node = current.next\n",
    "        current.next = prev\n",
    "        prev = current\n",
    "        current = next_node\n",
    "    head = prev\n",
    "    \n",
    "    # Add one to the number represented by the linked list\n",
    "    carry = 1\n",
    "    current = head\n",
    "    while current and carry:\n",
    "        current.val += carry\n",
    "        if current.val >= 10:\n",
    "            current.val -= 10\n",
    "            carry = 1\n",
    "        else:\n",
    "            carry = 0\n",
    "        if current.next is None and carry:\n",
    "            current.next = ListNode(carry)\n",
    "            carry = 0\n",
    "        current = current.next\n",
    "    \n",
    "    # Reverse the linked list back to its original order\n",
    "    prev = None\n",
    "    current = head\n",
    "    while current:\n",
    "        next_node = current.next\n",
    "        current.next = prev\n",
    "        prev = current\n",
    "        current = next_node\n",
    "    head = prev\n",
    "    \n",
    "    return head\n",
    "\n",
    "# Helper function to print the linked list\n",
    "def printList(node):\n",
    "    while node:\n",
    "        print(node.val, end=\" -> \")\n",
    "        node = node.next\n",
    "    print(\"None\")\n",
    "\n",
    "# Create the linked list\n",
    "head = ListNode(1)\n",
    "head.next = ListNode(2)\n",
    "head.next.next = ListNode(3)\n",
    "\n",
    "print(\"Original List:\")\n",
    "printList(head)\n",
    "\n",
    "# Add one to the number represented by the linked list\n",
    "head = addOneLinkedList(head)\n",
    "\n",
    "print(\"List after adding one:\")\n",
    "printList(head)\n"
   ]
  },
  {
   "cell_type": "markdown",
   "id": "be2ba8c1",
   "metadata": {},
   "source": [
    "Explanation:\n",
    "1. In this code, we first reverse the linked list to make it easier to add    one to the number represented by the linked list.\n",
    "2. We then traverse the reversed linked list, adding one to each digit        while handling any carry.\n",
    "3. Finally, we reverse the linked list back to its original order and          return the updated head."
   ]
  },
  {
   "cell_type": "markdown",
   "id": "12cfdb6d",
   "metadata": {},
   "source": [
    "# Problem 14: Given a sorted array and a target value, return the index if the target is found. If not, return the index where it would be inserted.\n",
    " Input: nums = [1, 3, 5, 6], target = 5\n",
    " Output: 2"
   ]
  },
  {
   "cell_type": "code",
   "execution_count": 27,
   "id": "a41c5643",
   "metadata": {},
   "outputs": [
    {
     "name": "stdout",
     "output_type": "stream",
     "text": [
      "Output: 4\n"
     ]
    }
   ],
   "source": [
    "def searchInsert(nums, target):\n",
    "    left, right = 0, len(nums) - 1\n",
    "    \n",
    "    while left <= right:\n",
    "        mid = (left + right) // 2\n",
    "        if nums[mid] == target:\n",
    "            return mid\n",
    "        elif nums[mid] < target:\n",
    "            left = mid + 1\n",
    "        else:\n",
    "            right = mid - 1\n",
    "    \n",
    "    # If the target is not found, left points to the position where thez\n",
    "    return left\n",
    "\n",
    "# Test the function\n",
    "nums = [1, 3, 5, 6]\n",
    "target = 7\n",
    "print(\"Output:\", searchInsert(nums, target))\n"
   ]
  },
  {
   "cell_type": "markdown",
   "id": "209060a4",
   "metadata": {},
   "source": [
    "Explanation:\n",
    "1. In this implementation, we  can use binary search to find the target        value in the sorted array nums.\n",
    "2. If the target is found, we return its index. Otherwise, we return the      position where the target would be inserted, which is stored in the left    pointer. "
   ]
  },
  {
   "cell_type": "markdown",
   "id": "052a5f1f",
   "metadata": {},
   "source": [
    "# Problem 15: Find the minimum element in a rotated sorted array.\n",
    " Input: [4, 5, 6, 7, 0, 1, 2]\n",
    " Output: 0"
   ]
  },
  {
   "cell_type": "code",
   "execution_count": 32,
   "id": "faa60933",
   "metadata": {},
   "outputs": [
    {
     "name": "stdout",
     "output_type": "stream",
     "text": [
      "Output:  0\n"
     ]
    }
   ],
   "source": [
    "# define function to find minimum element in roated sorted array\n",
    "def findmin(arr):\n",
    "    left =0\n",
    "    right = len(arr)-1\n",
    "    mid = (left + (right-left)//2)\n",
    "    while(left<right):\n",
    "        if arr[mid]>arr[right]:\n",
    "            left = mid + 1\n",
    "        else:\n",
    "            right = mid\n",
    "        return nums[left]\n",
    "    \n",
    "nums = [4, 5, 6, 7, 0, 1, 2,]\n",
    "print(\"Output: \",findmin(nums))"
   ]
  },
  {
   "cell_type": "markdown",
   "id": "1b90e5f2",
   "metadata": {},
   "source": [
    "Explanation:\n",
    "1. In this implementation, we can use binary search to find the minimum        element in the rotated sorted array nums.\n",
    "2. At each step, we check if the middle element nums[mid] is greater than      the last element nums[right]. \n",
    "3. If it is, it means the minimum element must be to the right of mid, so      we update left = mid + 1.\n",
    "4. Otherwise, the minimum element must be to the left of or equal to mid,      so we update right = mid.\n",
    "5. Eventually, left and right will converge on the minimum element."
   ]
  },
  {
   "cell_type": "markdown",
   "id": "1bab2198",
   "metadata": {},
   "source": [
    " # Problem 16: Search for a target value in a rotated sorted array.\n",
    " Input: nums = [4, 5, 6, 7, 0, 1, 2], target = 0\n",
    " Output: 4"
   ]
  },
  {
   "cell_type": "code",
   "execution_count": 4,
   "id": "0924fff4",
   "metadata": {},
   "outputs": [
    {
     "name": "stdout",
     "output_type": "stream",
     "text": [
      "Output: 4\n"
     ]
    }
   ],
   "source": [
    "def search(nums, target):\n",
    "    left, right = 0, len(nums) - 1\n",
    "    \n",
    "    while left <= right:\n",
    "        mid = left + (right - left) // 2\n",
    "        \n",
    "        # If target is found at mid\n",
    "        if nums[mid] == target:\n",
    "            return mid\n",
    "        \n",
    "        # If the left half is sorted\n",
    "        if nums[left] <= nums[mid]:\n",
    "            if nums[left] <= target < nums[mid]:\n",
    "                right = mid - 1\n",
    "            else:\n",
    "                left = mid + 1\n",
    "        # If the right half is sorted\n",
    "        else:\n",
    "            if nums[mid] < target <= nums[right]:\n",
    "                left = mid + 1\n",
    "            else:\n",
    "                right = mid - 1\n",
    "    \n",
    "    # If target is not found\n",
    "    return -1\n",
    "\n",
    "# Test the function\n",
    "nums = [4, 5, 6, 7, 0, 1, 2]\n",
    "target = 0\n",
    "print(\"Output:\", search(nums, target))\n"
   ]
  },
  {
   "cell_type": "markdown",
   "id": "135ea2b4",
   "metadata": {},
   "source": [
    "Explanation:\n",
    "1. In this implementation, we can use binary search to search for the          target value in the rotated sorted array nums.\n",
    "2. We first check if the left half or the right half is sorted, and then      determine if the target value lies within the sorted half.\n",
    "3. We update the left and right pointers accordingly to continue the          search. If the target value is found, we return its index. If the target    value is not found, we return -1.\n",
    "    "
   ]
  },
  {
   "cell_type": "markdown",
   "id": "d17dd03a",
   "metadata": {},
   "source": [
    "# Problem 17: Find the peak element in an array. A peak element is greater than its neighbors.\n",
    " Input: nums = [1, 2, 3, 1]\n",
    " Output: 2 (index of peak element)"
   ]
  },
  {
   "cell_type": "code",
   "execution_count": 6,
   "id": "5bec26e4",
   "metadata": {},
   "outputs": [
    {
     "name": "stdout",
     "output_type": "stream",
     "text": [
      "Peak Element is: 2\n"
     ]
    }
   ],
   "source": [
    "def findPeakElement(nums):\n",
    "    left =0\n",
    "    right = len(nums)-1\n",
    "    while left<right:\n",
    "        mid = left + (right-left)//2\n",
    "        \n",
    "        # if the mid is greaer than right,\n",
    "        if nums[mid]>nums[mid+1]:\n",
    "            right = mid\n",
    "        else:\n",
    "            left = mid + 1\n",
    "       # at the end of the loop,left and right point to the peak element     \n",
    "    return left\n",
    "\n",
    "# call the function\n",
    "nums = [1,2,3,1]\n",
    "print(\"Peak Element is:\",findPeakElement(nums))"
   ]
  },
  {
   "cell_type": "markdown",
   "id": "ae309d0d",
   "metadata": {},
   "source": [
    "Explanation:\n",
    "1. In this implementation, we utilize binary search to find the peak          element in the array nums. \n",
    "2. At each step, we compare the middle element (nums[mid]) with its right      neighbor (nums[mid + 1]). \n",
    "3. If the middle element is greater than its right neighbor, a peak must be    to the left of the middle element, so we update right = mid.\n",
    "4. Otherwise, if the middle element is less than or equal to its right        neighbor, a peak must be to the right of the middle element, so we          update left = mid + 1. \n",
    "5. We continue this process until left and right converge on the peak          element.   "
   ]
  },
  {
   "cell_type": "markdown",
   "id": "a50dfca1",
   "metadata": {},
   "source": [
    " # Problem 18: Given a m x n matrix where each row and column is sorted in ascending order, count the number of negative numbers.\n",
    " Input: grid = [[4, 3, 2, -1], [3, 2, 1, -1], [1, 1, -1, -2], [-1, -1, -2,-3]]\n",
    " Output: 8"
   ]
  },
  {
   "cell_type": "code",
   "execution_count": 9,
   "id": "7912acc8",
   "metadata": {},
   "outputs": [
    {
     "name": "stdout",
     "output_type": "stream",
     "text": [
      "Output: 8\n"
     ]
    }
   ],
   "source": [
    "def countNegatives(grid):\n",
    "    m, n = len(grid), len(grid[0])\n",
    "    count = 0\n",
    "    \n",
    "    for row in grid:\n",
    "        left, right = 0, n - 1\n",
    "        \n",
    "        while left <= right:\n",
    "            mid = left + (right - left) // 2\n",
    "            \n",
    "            # If the middle element is negative, search in the left half\n",
    "            if row[mid] < 0:\n",
    "                right = mid - 1\n",
    "            # If the middle element is non-negative, search in the right half\n",
    "            else:\n",
    "                left = mid + 1\n",
    "        \n",
    "        # At the end of the loop, left points to the index after the last negative number\n",
    "        count += n - left\n",
    "    \n",
    "    return count\n",
    "\n",
    "# Test the function\n",
    "grid = [[4, 3, 2, -1], [3, 2, 1, -1], [1, 1, -1, -2], [-1, -1, -2, -3]]\n",
    "print(\"Output:\", countNegatives(grid))\n"
   ]
  },
  {
   "cell_type": "markdown",
   "id": "ae6f73a9",
   "metadata": {},
   "source": [
    "1. In this implementation, we iterate through each row of the matrix and      use binary search to find the rightmost negative number in each row.\n",
    "2. The count is then updated based on the number of negative numbers found    in each row.\n",
    "3. The final count is the total number of negative numbers in the matrix."
   ]
  },
  {
   "cell_type": "markdown",
   "id": "f99ad13f",
   "metadata": {},
   "source": [
    " # Problem 19: Given a 2D matrix sorted in ascending order in each row, and the first integer of each row is greater than the last integer of the previous row, determine if a target value is present in the matrix.\n",
    " Input: matrix = [[1, 3, 5, 7], [10, 11, 16, 20], [23, 30, 34, 60]], target = 3\n",
    " Output: True"
   ]
  },
  {
   "cell_type": "code",
   "execution_count": 15,
   "id": "d6754284",
   "metadata": {},
   "outputs": [
    {
     "name": "stdout",
     "output_type": "stream",
     "text": [
      "Output: True\n"
     ]
    }
   ],
   "source": [
    "def searchMatrix(matrix, target):\n",
    "    if not matrix or not matrix[0]:\n",
    "        return False\n",
    "    \n",
    "    rows, cols = len(matrix), len(matrix[0])\n",
    "    left, right = 0, rows * cols - 1\n",
    "    \n",
    "    while left <= right:\n",
    "        mid = left + (right - left) // 2\n",
    "        mid_element = matrix[mid // cols][mid % cols]\n",
    "        \n",
    "        if mid_element == target:\n",
    "            return True\n",
    "        elif mid_element < target:\n",
    "            left = mid + 1\n",
    "        else:\n",
    "            right = mid - 1\n",
    "    \n",
    "    return False\n",
    "\n",
    "# Test the function\n",
    "matrix = [[1, 3, 5, 7], [10, 11, 16, 20], [23, 30, 34, 60]]\n",
    "target = 3\n",
    "print(\"Output:\", searchMatrix(matrix, target))\n"
   ]
  },
  {
   "cell_type": "markdown",
   "id": "3bfc2601",
   "metadata": {},
   "source": [
    "Explanation:\n",
    "1. In this implementation, we treat the entire matrix as a single sorted      array and perform binary search to find the target value.\n",
    "2. We calculate the middle element using indices mid // cols and mid %        cols, and then compare it with the target value.\n",
    "3. If the target value is found, we return True. Otherwise, we update the      search range accordingly and continue the binary search until the target    value is found or the search range is exhausted. If the target value is    not found, we return False.    "
   ]
  },
  {
   "cell_type": "markdown",
   "id": "2f8278a1",
   "metadata": {},
   "source": [
    " # Problem 20: Find Median in Two Sorted Arrays\n",
    " Problem: Given two sorted arrays, find the median of the combined sorted array.\n",
    " Input: nums1 = [1, 3], nums2 = [2]\n",
    " Output: 2.0"
   ]
  },
  {
   "cell_type": "code",
   "execution_count": 27,
   "id": "4e0b7744",
   "metadata": {},
   "outputs": [
    {
     "name": "stdout",
     "output_type": "stream",
     "text": [
      "2.0\n"
     ]
    }
   ],
   "source": [
    "def median_array(arr1,arr2):\n",
    "    \n",
    "    # merge two sorted array\n",
    "    merged = sorted(nums1 + nums2)\n",
    "    n = len(merged)\n",
    "    \n",
    "    # calculate the median\n",
    "    if n%2 ==0:\n",
    "        mid1 = n//2\n",
    "        mid2 = mid1-1\n",
    "        return (merged[mid1] + merged[mid2])\n",
    "    else:\n",
    "        mid = n //2\n",
    "        return float(merged[mid])\n",
    "\n",
    "# call the function\n",
    "nums1 = [1,3]\n",
    "nums2 = [2]\n",
    "print(median_array(nums1,nums2))"
   ]
  },
  {
   "cell_type": "markdown",
   "id": "f8018a7d",
   "metadata": {},
   "source": [
    "Explanation:\n",
    "1. In this implementation, we first merge the two sorted arrays (nums1 and    nums2) into one sorted array (merged).\n",
    "2. Then, we calculate the median of the combined sorted array.\n",
    "3. If the length of the array is even, we take the average of the two          middle elements. If the length is odd, we simply take the middle            element."
   ]
  },
  {
   "cell_type": "markdown",
   "id": "e9e0ba12",
   "metadata": {},
   "source": [
    "# Problem 21: Given a sorted character array and a target letter, find the smallest letter in the array that is greater than the target.\n",
    " Input: letters = ['c', 'f', 'j'], target = 'a'\n",
    " Output: 'c"
   ]
  },
  {
   "cell_type": "code",
   "execution_count": 6,
   "id": "18f10efa",
   "metadata": {},
   "outputs": [
    {
     "name": "stdout",
     "output_type": "stream",
     "text": [
      "Smallest Letter is:  c\n"
     ]
    }
   ],
   "source": [
    "def smallest_letter(arr,target):\n",
    "   \n",
    "    left = 0\n",
    "    right = len(arr)-1\n",
    "    while(left<=right):\n",
    "        mid = (left + (left-right)//2)\n",
    "       \n",
    "            \n",
    "        if arr[mid]<=target:\n",
    "            left = mid +1\n",
    "        else:\n",
    "            right = mid-1\n",
    "    return arr[left] if left<len(arr) else arr[0]\n",
    "\n",
    "# test the function\n",
    "letters = ['c', 'f', 'j']\n",
    "target = 'a'\n",
    "print(\"Smallest Letter is: \",smallest_letter(letters,target))"
   ]
  },
  {
   "cell_type": "markdown",
   "id": "e14b90a8",
   "metadata": {},
   "source": [
    "Explanation:\n",
    "1. we can use binary search to find the smallest letter in the sorted character array letters that is greater than the target      letter.\n",
    "2. At each step, we compare the middle element (letters[mid]) with the target letter. \n",
    "3. If the middle element is less than or equal to the target letter, we search in the right half of the array.Otherwise, we        search in the left half of the array.\n",
    "4. We continue this process until left points to the smallest letter greater than the target letter, and then return that          letter."
   ]
  },
  {
   "cell_type": "markdown",
   "id": "39501cf5",
   "metadata": {},
   "source": [
    " # Problem 22: Given an array with n objects colored red, white, or blue, sort them in-place so that objects of the same color are adjacent, with the colors in the order red, white, and blue.\n",
    " Input: nums = [2, 0, 2, 1, 1, 0]\n",
    " Output: [0, 0, 1, 1, 2, 2"
   ]
  },
  {
   "cell_type": "code",
   "execution_count": 7,
   "id": "86ce1645",
   "metadata": {},
   "outputs": [
    {
     "name": "stdout",
     "output_type": "stream",
     "text": [
      "Output:  [0, 0, 1, 1, 2, 2]\n"
     ]
    }
   ],
   "source": [
    "# solve using Dutch Partitioning Algorithm or three way partitionning Algo\n",
    "\n",
    "def sortColors(nums):\n",
    "    # initialize pointers\n",
    "    low,mid,high = 0,0,len(nums)-1\n",
    "    \n",
    "    # perform the three-way partitioning\n",
    "    while mid<=high:\n",
    "        if nums[mid]==0:\n",
    "            nums[low],nums[mid] = nums[mid],nums[low]\n",
    "            low += 1\n",
    "            mid += 1\n",
    "        elif nums[mid]==1:\n",
    "            mid += 1\n",
    "        else:\n",
    "            nums[mid],nums[high] = nums[high],nums[mid]\n",
    "            high -= 1\n",
    "    return nums\n",
    "\n",
    "# test the function\n",
    "nums = [2,0,2,1,1,0]\n",
    "print(\"Output: \",sortColors(nums))\n",
    "    "
   ]
  },
  {
   "cell_type": "markdown",
   "id": "cc467c5b",
   "metadata": {},
   "source": [
    "Explanation:\n",
    "1. we  can use three pointers: low, mid, and high. The low pointer indicates the boundary for the region of 0s, the mid pointer    indicates the boundary for the region of 1s, and the high pointer indicates the boundary for the region of 2s.\n",
    "2. We iterate through the array, and based on the value at the mid pointer, we perform swaps to group the numbers by their          colors. "
   ]
  },
  {
   "cell_type": "markdown",
   "id": "79c5f0a9",
   "metadata": {},
   "source": [
    " # Problem 23: Find the kth largest element in an unsorted array.\n",
    " Input: nums = [3, 2, 1, 5, 6, 4], k = 2\n",
    " Output: 5"
   ]
  },
  {
   "cell_type": "code",
   "execution_count": 11,
   "id": "c3f29ca8",
   "metadata": {},
   "outputs": [
    {
     "name": "stdout",
     "output_type": "stream",
     "text": [
      "Output: 5\n"
     ]
    }
   ],
   "source": [
    "def findKthLargest(nums, k):\n",
    "    nums.sort(reverse=True)\n",
    "    return nums[k - 1]\n",
    "\n",
    "# Test the function\n",
    "nums = [3, 2, 1, 5, 6, 4]\n",
    "k = 2\n",
    "print(\"Output:\", findKthLargest(nums, k))\n"
   ]
  },
  {
   "cell_type": "markdown",
   "id": "c06830ca",
   "metadata": {},
   "source": [
    "Explanation: \n",
    "1. In this implementation, we first sort the list in descending order using the sort method.\n",
    "2. Then, we return the kth element in the sorted list, which corresponds to the kth largest element in the original                unsorted list.\n",
    "3. This approach has a time complexity of O(n log n) due to the sorting operation."
   ]
  },
  {
   "cell_type": "markdown",
   "id": "b628c2d1",
   "metadata": {},
   "source": [
    "# Problem 24: Given an unsorted array, reorder it in-place such that nums[0] <= nums[1] >= nums[2] <= nums[3]...\n",
    " Input: nums = [3, 5, 2, 1, 6, 4]\n",
    " Output: [3, 5, 1, 6, 2, 4"
   ]
  },
  {
   "cell_type": "code",
   "execution_count": 12,
   "id": "48de5128",
   "metadata": {},
   "outputs": [
    {
     "name": "stdout",
     "output_type": "stream",
     "text": [
      "Output: [1, 3, 2, 5, 4, 6]\n"
     ]
    }
   ],
   "source": [
    "def wiggleSort(nums):\n",
    "    nums.sort()\n",
    "    for i in range(1,len(nums)-1,2):\n",
    "        nums[i],nums[i+1] = nums[i+1],nums[i]\n",
    "        \n",
    "# test the function\n",
    "nums = [3, 5, 2, 1, 6, 4]\n",
    "wiggleSort(nums)\n",
    "print(\"Output:\", nums)"
   ]
  },
  {
   "cell_type": "markdown",
   "id": "4b9d7956",
   "metadata": {},
   "source": [
    "Explanation:\n",
    "1. we can  first sort the array nums in ascending order using the sort method. \n",
    "2. Then, we iterate over the sorted array starting from the second element (index 1) with a step size of 2. \n",
    "3. During each iteration, we perform a pairwise swap of the current element with its next adjacent element. \n",
    "4. This process results in the desired reorder of the array"
   ]
  },
  {
   "cell_type": "markdown",
   "id": "11ce6acf",
   "metadata": {},
   "source": [
    " # Problem 25: Given an array of integers, calculate the sum of all its elements.\n",
    " Input: [1, 2, 3, 4, 5]\n",
    " Output: 15"
   ]
  },
  {
   "cell_type": "code",
   "execution_count": 19,
   "id": "cea53c60",
   "metadata": {},
   "outputs": [
    {
     "name": "stdout",
     "output_type": "stream",
     "text": [
      "Sum is:  15\n"
     ]
    }
   ],
   "source": [
    "def calculate_sum(arr):\n",
    "    n = len(arr)\n",
    "    sum = 0\n",
    "    for i in range(n):\n",
    "        sum += nums[i]\n",
    "    return sum\n",
    "        \n",
    "\n",
    "# call the function\n",
    "nums = [1,2,3,4,5]\n",
    "print(\"Sum is: \",calculate_sum(nums))\n"
   ]
  },
  {
   "cell_type": "markdown",
   "id": "c7efa21b",
   "metadata": {},
   "source": [
    "Explanation:\n",
    "1. define function that take one arguments list as input\n",
    "2. traverse the list and calculate the sum of element in given list"
   ]
  },
  {
   "cell_type": "markdown",
   "id": "238bdb45",
   "metadata": {},
   "source": [
    " # Problem 26: Find the maximum element in an array of integers.\n",
    " Input: [3, 7, 2, 9, 4, 1]\n",
    " Output: 9"
   ]
  },
  {
   "cell_type": "code",
   "execution_count": 22,
   "id": "f5a7823a",
   "metadata": {},
   "outputs": [
    {
     "name": "stdout",
     "output_type": "stream",
     "text": [
      "Max value in {nums} is:  9\n"
     ]
    }
   ],
   "source": [
    "def max_element(arr):\n",
    "    n = len(arr)\n",
    "    max =-1\n",
    "    for i in range(n):\n",
    "        if arr[i]>max:\n",
    "            max = arr[i]\n",
    "    return max\n",
    "\n",
    "nums = [3,7,2,9,4,1]\n",
    "print(\"Max value in {nums} is: \",max_element(nums))\n",
    "        "
   ]
  },
  {
   "cell_type": "markdown",
   "id": "106530d3",
   "metadata": {},
   "source": [
    "Explanation:\n",
    "1. max_element just take list as input\n",
    "2. iterate the list and check for maximum value\n",
    "3. finally return max element"
   ]
  },
  {
   "cell_type": "markdown",
   "id": "cf1b7db9",
   "metadata": {},
   "source": [
    "# Problem 27: Implement linear search to find the index of a target element in an array.\n",
    " Input: [5, 3, 8, 2, 7, 4], target = 8\n",
    " Output: 2"
   ]
  },
  {
   "cell_type": "code",
   "execution_count": 28,
   "id": "4f4a7fd2",
   "metadata": {},
   "outputs": [
    {
     "name": "stdout",
     "output_type": "stream",
     "text": [
      "Index of Target Element is:  2\n"
     ]
    }
   ],
   "source": [
    "def linear_search(arr,target):\n",
    "    n = len(arr)\n",
    "    for i in range(n):\n",
    "        if arr[i]==target:\n",
    "            return i\n",
    "       \n",
    "    return -1\n",
    "\n",
    "# call the function\n",
    "arr = [5,3,8,2,7,4]\n",
    "target = 8\n",
    "print(\"Index of Target Element is: \",linear_search(arr,target))"
   ]
  },
  {
   "cell_type": "markdown",
   "id": "7ce6895a",
   "metadata": {},
   "source": [
    "Explanation:\n",
    "1. we iterate through the array nums using a for loop and compare each element with the target element.\n",
    "2. If we find a match, we return the index of the target element. If we iterate through the entire array and do not find the target element, we return -1 to indicate that the target element is not present in the array.    "
   ]
  },
  {
   "cell_type": "markdown",
   "id": "e2486d69",
   "metadata": {},
   "source": [
    " # Problem 28 Calculate the factorial of a given number.\n",
    " Input: 5\n",
    " Output: 120 (as 5! = 5 * 4 * 3 * 2 * 1 = 120)"
   ]
  },
  {
   "cell_type": "code",
   "execution_count": 38,
   "id": "d834c1a6",
   "metadata": {},
   "outputs": [
    {
     "name": "stdout",
     "output_type": "stream",
     "text": [
      "Factorial of 5 is: 120\n"
     ]
    }
   ],
   "source": [
    "# iterative method\n",
    "def factorial(n):\n",
    "    if n<0:\n",
    "        return None\n",
    "    result = 1\n",
    "    for i in range(1,n+1):\n",
    "        result *= i\n",
    "    return result\n",
    "        \n",
    "number = 5\n",
    "print(f\"Factorial of {number} is:\",factorial(number))"
   ]
  },
  {
   "cell_type": "code",
   "execution_count": 40,
   "id": "991b8af7",
   "metadata": {},
   "outputs": [
    {
     "name": "stdout",
     "output_type": "stream",
     "text": [
      "Factorial of 5 is:  120\n"
     ]
    }
   ],
   "source": [
    "# recursive method\n",
    "def fact(n):\n",
    "    #base case\n",
    "    if n<1:\n",
    "        return 1\n",
    "    return n*fact(n-1)\n",
    "\n",
    "# call the function\n",
    "n = 5\n",
    "print(f\"Factorial of {n} is: \",fact(n))"
   ]
  },
  {
   "cell_type": "markdown",
   "id": "94e42a4c",
   "metadata": {},
   "source": [
    "# Problem 29: Check if a given number is a prime number.\n",
    " Input: 7\n",
    " Output: True"
   ]
  },
  {
   "cell_type": "code",
   "execution_count": 51,
   "id": "a9e54f3c",
   "metadata": {},
   "outputs": [
    {
     "name": "stdout",
     "output_type": "stream",
     "text": [
      "Is 7 prime? : True\n"
     ]
    }
   ],
   "source": [
    "import math\n",
    "def isPrime(n):\n",
    "    if n<=1:\n",
    "        return False\n",
    "    if n==2:\n",
    "        return True\n",
    "    if n%2==0:\n",
    "        return False\n",
    "    \n",
    "    # checking divisibility up to the square root of n\n",
    "    sqrt_n = int(math.sqrt(n))\n",
    "    for i in range(3,sqrt_n+1,2):\n",
    "        if n%i==0:\n",
    "            return False\n",
    "    return True\n",
    "\n",
    "# Test the function\n",
    "num=7\n",
    "print(\"Is\",num,\"prime? :\",isPrime(num))\n",
    "        "
   ]
  },
  {
   "cell_type": "markdown",
   "id": "fe8c5a59",
   "metadata": {},
   "source": [
    "# Problem 30: Generate the Fibonacci series up to a given number n.\n",
    " Input: 8\n",
    " Output: [0, 1, 1, 2, 3, 5, 8, 13]"
   ]
  },
  {
   "cell_type": "code",
   "execution_count": 47,
   "id": "bf24dad2",
   "metadata": {},
   "outputs": [
    {
     "name": "stdout",
     "output_type": "stream",
     "text": [
      "Fibonacci Series:  [0, 1, 1, 2, 3, 5, 8, 13]\n"
     ]
    }
   ],
   "source": [
    "def fibo_series(n):\n",
    "    \n",
    "    fib = [0,1]\n",
    "    if n<=0:\n",
    "        return []\n",
    "    if n==1:\n",
    "        return [0]\n",
    "    if n==2:\n",
    "        return fib\n",
    "    for i in range(2,n):\n",
    "        ans = fib[i-1] + fib[i-2]\n",
    "        fib.append(ans)\n",
    "    return fib\n",
    "\n",
    "# call the function\n",
    "n =8\n",
    "print(\"Fibonacci Series: \",fibo_series(n))"
   ]
  },
  {
   "cell_type": "markdown",
   "id": "6bbf142a",
   "metadata": {},
   "source": [
    "Explanation:\n",
    "1. firstly we need to initialize series fib with two element\n",
    "2. we use a for loop to iteratively generate the subsequent Fibonacci numbers. \n",
    "3. Starting from the third Fibonacci number, each Fibonacci number is the sum of the two preceding numbers in the series.\n",
    "4. We append each newly generated Fibonacci number to the fib list. "
   ]
  },
  {
   "cell_type": "markdown",
   "id": "d17f10f6",
   "metadata": {},
   "source": [
    "# Problem 31: Calculate the power of a number using recursion.\n",
    " Input: base = 3, exponent = 4\n",
    " Output: 81 (as 3^4 = 3 * 3 * 3 * 3 = 81)"
   ]
  },
  {
   "cell_type": "code",
   "execution_count": 50,
   "id": "1e28ced0",
   "metadata": {},
   "outputs": [
    {
     "name": "stdout",
     "output_type": "stream",
     "text": [
      " Power of base 3 the power 4 is : 81\n"
     ]
    }
   ],
   "source": [
    "def calculate_power(base,exponent):\n",
    "    if exponent==0:\n",
    "        return 1\n",
    "    return base*calculate_power(base,exponent-1)\n",
    "\n",
    "# call the function\n",
    "base =3\n",
    "exponent =4\n",
    "print(f\" Power of base {base} the power {exponent} is :\",calculate_power(base,exponent))"
   ]
  },
  {
   "cell_type": "markdown",
   "id": "90cfeaee",
   "metadata": {},
   "source": [
    " # Problem 32: Reverse a given string.\n",
    " Input: \"hello\"\n",
    " Output: \"olleh"
   ]
  },
  {
   "cell_type": "code",
   "execution_count": 58,
   "id": "b8c23310",
   "metadata": {},
   "outputs": [
    {
     "name": "stdout",
     "output_type": "stream",
     "text": [
      "Input String is:  hello\n",
      "Reverse String is:  olleh\n"
     ]
    }
   ],
   "source": [
    "# using two pointer approach\n",
    "def reverse_string(string):\n",
    "    List = list(string)\n",
    "    \n",
    "    left=0\n",
    "    right=len(List)-1\n",
    "    while(left<=right):\n",
    "        List[left],List[right] = List[right],List[left]\n",
    "        left += 1\n",
    "        right -= 1\n",
    "    return ''.join(List)\n",
    "\n",
    "# call the function\n",
    "string = \"hello\"\n",
    "print(\"Input String is: \",string)\n",
    "print(\"Reverse String is: \",reverse_string(string))"
   ]
  },
  {
   "cell_type": "markdown",
   "id": "f91f5157",
   "metadata": {},
   "source": [
    "Explanation:\n",
    "1. This program defines a function reverse_string that takes a string as input and returns its reversed version using the two-      pointer approach.\n",
    "2. It iterates over the string with two pointers (left and right) starting from opposite ends, swapping characters until the        pointers meet at the middle of the string. Finally, it returns the reversed string."
   ]
  }
 ],
 "metadata": {
  "kernelspec": {
   "display_name": "Python 3 (ipykernel)",
   "language": "python",
   "name": "python3"
  },
  "language_info": {
   "codemirror_mode": {
    "name": "ipython",
    "version": 3
   },
   "file_extension": ".py",
   "mimetype": "text/x-python",
   "name": "python",
   "nbconvert_exporter": "python",
   "pygments_lexer": "ipython3",
   "version": "3.11.4"
  }
 },
 "nbformat": 4,
 "nbformat_minor": 5
}
