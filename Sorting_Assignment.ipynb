{
 "cells": [
  {
   "cell_type": "markdown",
   "id": "b154b127",
   "metadata": {},
   "source": [
    "# Problem 1.Given an array of n numbers, give an algorithm which gives the element appearing maximum number of times?"
   ]
  },
  {
   "cell_type": "code",
   "execution_count": 7,
   "id": "9960f39c",
   "metadata": {},
   "outputs": [
    {
     "name": "stdout",
     "output_type": "stream",
     "text": [
      "1\n"
     ]
    }
   ],
   "source": [
    "# define function that pass array\n",
    "def max_element(arr):\n",
    "    \n",
    "# define dictionary that can store count value of element\n",
    "    max_value = {}\n",
    "    \n",
    "# iterate array and traverse it for update the value of count in dictionary\n",
    "    for i in arr:\n",
    "        if i in max_value:\n",
    "            max_value[i] += 1\n",
    "        else:\n",
    "            max_value[i] = 1\n",
    "            \n",
    "#  find the element with maximum count\n",
    "        most_element = max(max_value,key = max_value.get)\n",
    "    return most_element\n",
    "\n",
    "# call the funtion\n",
    "arr = [1,2,3,1,1,2,3,]\n",
    "print(max_element(arr))"
   ]
  },
  {
   "cell_type": "markdown",
   "id": "18382141",
   "metadata": {},
   "source": [
    "Explanation:\n",
    "1. This function, max_element, takes an array as input and returns the element that appears most frequently in the array. \n",
    "2. It uses a dictionary (max_value) to store the count of each element, and the max function is used to find the key (element)      with the maximum count."
   ]
  },
  {
   "cell_type": "markdown",
   "id": "78003f55",
   "metadata": {},
   "source": [
    "# Problem 2 : We are given a list of n-1 integers and these integers are in the range of 1 to n . There are no duplicates in the list. One of the integers is missing in the list. Give an algorithm to find that element Ex: [1,2,4,6,3,7,8] 5 is the missing num."
   ]
  },
  {
   "cell_type": "code",
   "execution_count": 11,
   "id": "aedb9a59",
   "metadata": {},
   "outputs": [
    {
     "name": "stdout",
     "output_type": "stream",
     "text": [
      "The missing element is: 5\n"
     ]
    }
   ],
   "source": [
    "def find_missing_element(arr):\n",
    "    # Calculate the sum of the first n natural numbers\n",
    "    n = len(arr) + 1\n",
    "    expected_sum = n * (n + 1) // 2\n",
    "\n",
    "    # Calculate the sum of the given array\n",
    "    actual_sum = sum(arr)\n",
    "\n",
    "    # The missing element is the difference between the expected and actual sums\n",
    "    missing_element = expected_sum - actual_sum\n",
    "\n",
    "    return missing_element\n",
    "\n",
    "\n",
    "nums = [1, 2, 4, 6, 3, 7, 8]\n",
    "missing_number = find_missing_element(nums)\n",
    "print(f\"The missing element is: {missing_number}\")\n"
   ]
  },
  {
   "cell_type": "markdown",
   "id": "3af06be4",
   "metadata": {},
   "source": [
    "Explanation:\n",
    "1. the function find_missing_element takes an array of n-1 integers as input and returns the missing element. \n",
    "2. It calculates the expected sum of the first n natural numbers using the formula n * (n + 1) // 2 and then finds the actual      sum of the given array. \n",
    "3. The missing element is the difference between the expected and actual sums."
   ]
  },
  {
   "cell_type": "markdown",
   "id": "6bad6a71",
   "metadata": {},
   "source": [
    "# Problem 3 : Given an array of n positive numbers. All numbers occurs even number of times except 1 which occurs odd number of times. Find that number in O(n) time and O(1) space. Ex: [1,2,3,2,3,1,3]. 3 is repeats odd times"
   ]
  },
  {
   "cell_type": "code",
   "execution_count": 12,
   "id": "44b79b7a",
   "metadata": {},
   "outputs": [
    {
     "name": "stdout",
     "output_type": "stream",
     "text": [
      "The number occurring odd times is: 3\n"
     ]
    }
   ],
   "source": [
    "def find_odd_occurrence(arr):\n",
    "    result = 0\n",
    "\n",
    "    # XOR all elements in the array\n",
    "    for num in arr:\n",
    "        result ^= num\n",
    "\n",
    "    return result\n",
    "\n",
    "# Example usage:\n",
    "numbers = [1, 2, 3, 2, 3, 1, 3]\n",
    "odd_occurrence = find_odd_occurrence(numbers)\n",
    "print(f\"The number occurring odd times is: {odd_occurrence}\")\n"
   ]
  },
  {
   "cell_type": "markdown",
   "id": "69043af0",
   "metadata": {},
   "source": [
    "Explanation:\n",
    "1. the function find_odd_occurrence XORs all the elements in the array.\n",
    "2. Since all numbers occur even times except one, the XOR operation cancels out the even occurrences, and the result will be the    number occurring an odd number of times."
   ]
  },
  {
   "cell_type": "markdown",
   "id": "44581e44",
   "metadata": {},
   "source": [
    "#  Problem 4 : Given an array of n elements. Find two elements in the array such that their sum is equal to given element K"
   ]
  },
  {
   "cell_type": "code",
   "execution_count": 22,
   "id": "615c3c74",
   "metadata": {},
   "outputs": [
    {
     "name": "stdout",
     "output_type": "stream",
     "text": [
      "Pair with sum 10 found: (2, 8)\n"
     ]
    }
   ],
   "source": [
    "def find_pair_with_sum(arr, K):\n",
    "    # Sort the array\n",
    "    arr.sort()\n",
    "\n",
    "    # Initialize two pointers\n",
    "    left, right = 0, len(arr) - 1\n",
    "\n",
    "    while left < right:\n",
    "        current_sum = arr[left] + arr[right]\n",
    "\n",
    "        if current_sum == K:\n",
    "            # Pair found\n",
    "            return arr[left], arr[right]\n",
    "        elif current_sum < K:\n",
    "            # Move the left pointer to increase the sum\n",
    "            left += 1\n",
    "        else:\n",
    "            # Move the right pointer to decrease the sum\n",
    "            right -= 1\n",
    "\n",
    "    # If no pair is found\n",
    "    return None\n",
    "\n",
    "\n",
    "numbers = [1, 2, 4, 6, 3, 7, 8]\n",
    "target_sum = 10\n",
    "pair = find_pair_with_sum(numbers, target_sum)\n",
    "\n",
    "if pair:\n",
    "    print(f\"Pair with sum {target_sum} found: {pair}\")\n",
    "else:\n",
    "    print(f\"No pair with sum {target_sum} found.\")\n"
   ]
  },
  {
   "cell_type": "markdown",
   "id": "a495b084",
   "metadata": {},
   "source": [
    "Explanation:\n",
    "1. the function find_pair_with_sum takes an array arr and a target sum K as input and returns a pair of elements whose sum is      equal to K.\n",
    "2. The array is first sorted, and then two pointers (left and right) are used to iterate through the array. \n",
    "3. Depending on the current sum of the elements at the pointers, the pointers are adjusted to converge towards the target sum."
   ]
  },
  {
   "cell_type": "markdown",
   "id": "da18e3a3",
   "metadata": {},
   "source": [
    "# Problem 5 : Given an array of both positive and negative numbers, find two numbers such that their sum is closest to 0. Ex: [ 1 ,60 ,-10, 70, -80,85]. Ans : -80,85"
   ]
  },
  {
   "cell_type": "code",
   "execution_count": 23,
   "id": "2f0a56f6",
   "metadata": {},
   "outputs": [
    {
     "name": "stdout",
     "output_type": "stream",
     "text": [
      "Closest pair: (-80, 85)\n"
     ]
    }
   ],
   "source": [
    "def closest_sum_to_zero(arr):\n",
    "    # Sort the array\n",
    "    arr.sort()\n",
    "\n",
    "    # Initialize variables to track the closest sum and the pair of numbers\n",
    "    closest_sum = float('inf')\n",
    "    pair = None\n",
    "\n",
    "    # Two pointers approach\n",
    "    left, right = 0, len(arr) - 1\n",
    "\n",
    "    while left < right:\n",
    "        current_sum = arr[left] + arr[right]\n",
    "\n",
    "        # Update closest_sum and pair if the current sum is closer to zero\n",
    "        if abs(current_sum) < abs(closest_sum):\n",
    "            closest_sum = current_sum\n",
    "            pair = (arr[left], arr[right])\n",
    "\n",
    "        # Move pointers based on the value of the current sum\n",
    "        if current_sum < 0:\n",
    "            left += 1\n",
    "        elif current_sum > 0:\n",
    "            right -= 1\n",
    "        else:\n",
    "            # If the sum is 0, we found the closest possible pair\n",
    "            return pair\n",
    "\n",
    "    return pair\n",
    "\n",
    "\n",
    "arr = [1, 60, -10, 70, -80, 85]\n",
    "result = closest_sum_to_zero(arr)\n",
    "print(\"Closest pair:\", result)\n"
   ]
  },
  {
   "cell_type": "markdown",
   "id": "283de193",
   "metadata": {},
   "source": [
    "Explanation:\n",
    "1. This function first sorts the array, and then uses two pointers (one at the beginning and one at the end) to iterate through    the array, updating the closest sum and pair of numbers as needed.\n",
    "2. The time complexity of this algorithm is O(n log n) due to the sorting step."
   ]
  },
  {
   "cell_type": "markdown",
   "id": "5f250c5b",
   "metadata": {},
   "source": [
    "# Problem 6 : Given an array of n elements . Find three elements such that their sum is equal to the given number."
   ]
  },
  {
   "cell_type": "code",
   "execution_count": 1,
   "id": "b85fa505",
   "metadata": {},
   "outputs": [
    {
     "name": "stdout",
     "output_type": "stream",
     "text": [
      "Triplet found: [1, 2, 7]\n"
     ]
    }
   ],
   "source": [
    "def find_three_elements(arr, target_sum):\n",
    "    arr.sort()  # Sort the array in ascending order\n",
    "\n",
    "    n = len(arr)\n",
    "\n",
    "    for i in range(n - 2):\n",
    "        left, right = i + 1, n - 1\n",
    "\n",
    "        while left < right:\n",
    "            current_sum = arr[i] + arr[left] + arr[right]\n",
    "\n",
    "            if current_sum == target_sum:\n",
    "                # Found a triplet with the given sum\n",
    "                return [arr[i], arr[left], arr[right]]\n",
    "            elif current_sum < target_sum:\n",
    "                left += 1\n",
    "            else:\n",
    "                right -= 1\n",
    "\n",
    "    # No triplet found\n",
    "    return None\n",
    "\n",
    "# Example usage:\n",
    "arr = [1, 4, 2, 7, 5, 3]\n",
    "target_sum = 10\n",
    "result = find_three_elements(arr, target_sum)\n",
    "\n",
    "if result:\n",
    "    print(\"Triplet found:\", result)\n",
    "else:\n",
    "    print(\"No triplet found with the given sum.\")\n"
   ]
  },
  {
   "cell_type": "markdown",
   "id": "9ef6a6b1",
   "metadata": {},
   "source": [
    "Explanation:\n",
    "1. This function first sorts the array in ascending order. \n",
    "2. Then, it uses three pointers to traverse the array and find a triplet with the specified sum.\n",
    "3. The time complexity of this approach is O(n^2), where n is the size of the array."
   ]
  },
  {
   "cell_type": "markdown",
   "id": "bf1fbc62",
   "metadata": {},
   "source": [
    "# Problem 7 : Given an array of n elements . Find three elements i, j, k in the array such that i * i + j * j = k*k."
   ]
  },
  {
   "cell_type": "code",
   "execution_count": 2,
   "id": "b97b9074",
   "metadata": {},
   "outputs": [
    {
     "name": "stdout",
     "output_type": "stream",
     "text": [
      "Pythagorean triplet found: [3, 4, 5]\n"
     ]
    }
   ],
   "source": [
    "def find_pythagorean_triplet(arr):\n",
    "    arr.sort()  # Sort the array in ascending order\n",
    "\n",
    "    n = len(arr)\n",
    "\n",
    "    for k in range(n - 1, 1, -1):\n",
    "        left, right = 0, k - 1\n",
    "\n",
    "        while left < right:\n",
    "            sum_squares = arr[left] * arr[left] + arr[right] * arr[right]\n",
    "\n",
    "            if sum_squares == arr[k] * arr[k]:\n",
    "                # Found a Pythagorean triplet\n",
    "                return [arr[left], arr[right], arr[k]]\n",
    "            elif sum_squares < arr[k] * arr[k]:\n",
    "                left += 1\n",
    "            else:\n",
    "                right -= 1\n",
    "\n",
    "    # No triplet found\n",
    "    return None\n",
    "\n",
    "# Example usage:\n",
    "arr = [3, 1, 4, 6, 5]\n",
    "result = find_pythagorean_triplet(arr)\n",
    "\n",
    "if result:\n",
    "    print(\"Pythagorean triplet found:\", result)\n",
    "else:\n",
    "    print(\"No Pythagorean triplet found in the array.\")\n"
   ]
  },
  {
   "cell_type": "markdown",
   "id": "b898e667",
   "metadata": {},
   "source": [
    "Explanation:\n",
    "1. This function sorts the array in ascending order and then uses two pointers to find a pair (i, j) such that i*i + j*j = k*k,    where k is the largest element in the array.\n",
    "2. The time complexity of this approach is O(n^2), where n is the size of the array."
   ]
  },
  {
   "cell_type": "markdown",
   "id": "d18c04a2",
   "metadata": {},
   "source": [
    "# Problem 8 : An element is a majority if it appears more than n/2 times. Give an algorithm takes an array of n element as argument and identifies a majority (if it exists)."
   ]
  },
  {
   "cell_type": "code",
   "execution_count": 3,
   "id": "44526368",
   "metadata": {},
   "outputs": [
    {
     "name": "stdout",
     "output_type": "stream",
     "text": [
      "Majority element: 4\n"
     ]
    }
   ],
   "source": [
    "def find_majority_element(nums):\n",
    "    candidate = None\n",
    "    count = 0\n",
    "\n",
    "    # Phase 1: Find a potential candidate\n",
    "    for num in nums:\n",
    "        if count == 0:\n",
    "            candidate = num\n",
    "        count += 1 if num == candidate else -1\n",
    "\n",
    "    # Phase 2: Verify if the candidate is a majority element\n",
    "    count = 0\n",
    "    for num in nums:\n",
    "        if num == candidate:\n",
    "            count += 1\n",
    "\n",
    "    if count > len(nums) // 2:\n",
    "        return candidate\n",
    "    else:\n",
    "        return None\n",
    "\n",
    "# Example usage:\n",
    "arr = [3, 3, 4, 2, 4, 4, 2, 4, 4]\n",
    "result = find_majority_element(arr)\n",
    "\n",
    "if result is not None:\n",
    "    print(\"Majority element:\", result)\n",
    "else:\n",
    "    print(\"No majority element found.\")\n"
   ]
  },
  {
   "cell_type": "markdown",
   "id": "e98f875b",
   "metadata": {},
   "source": [
    "Explanation:\n",
    "1. This algorithm works in two phases. In the first phase, it finds a potential candidate for the majority element.\n",
    "2. In the second phase, it verifies whether the candidate is indeed a majority element by counting its occurrences in the array. 3. The time complexity of this algorithm is O(n), where n is the size of the array."
   ]
  },
  {
   "cell_type": "markdown",
   "id": "99bbce6a",
   "metadata": {},
   "source": [
    "#  Problem 9 : Given n × n matrix, and in each row all 1’s are followed by 0’s. Find the row with the maximum number of 0’s."
   ]
  },
  {
   "cell_type": "code",
   "execution_count": 4,
   "id": "2421ca8b",
   "metadata": {},
   "outputs": [
    {
     "name": "stdout",
     "output_type": "stream",
     "text": [
      "Row with the maximum number of zeros: 3\n"
     ]
    }
   ],
   "source": [
    "def find_row_with_max_zeros(matrix):\n",
    "    n = len(matrix)\n",
    "\n",
    "    max_zeros_row = 0\n",
    "    max_zeros_count = 0\n",
    "\n",
    "    for i in range(n):\n",
    "        zeros_count = matrix[i].count(0)\n",
    "\n",
    "        if zeros_count > max_zeros_count:\n",
    "            max_zeros_row = i\n",
    "            max_zeros_count = zeros_count\n",
    "\n",
    "    return max_zeros_row\n",
    "\n",
    "# Example usage:\n",
    "matrix = [\n",
    "    [1, 1, 1, 0, 0],\n",
    "    [1, 1, 0, 0, 0],\n",
    "    [1, 1, 1, 1, 0],\n",
    "    [1, 0, 0, 0, 0],\n",
    "    [1, 1, 1, 1, 1]\n",
    "]\n",
    "\n",
    "result = find_row_with_max_zeros(matrix)\n",
    "print(\"Row with the maximum number of zeros:\", result)\n"
   ]
  },
  {
   "cell_type": "markdown",
   "id": "d387a8e5",
   "metadata": {},
   "source": [
    "Explanation:\n",
    "1. This function iterates through each row, counts the number of zeros in each row using the count method, and updates the          max_zeros_row and max_zeros_count variables if a row with more zeros is found.\n",
    "2. The result is the row index with the maximum number of zeros."
   ]
  },
  {
   "cell_type": "markdown",
   "id": "75b6f1e2",
   "metadata": {},
   "source": [
    "# Problem 10 : Sort an array of 0’s, 1’s and 2’s [or R’s, G’s and B’s]: Given an array A[] consisting of 0’s, 1’s and 2’s, give an algorithm for sorting A[].The algorithm should put all 0’s first, then all 1’s and finally all 2’s at the end. Example Input = {0,1,1,0,1,2,1,2,0,0,0,1}, Output = {0,0,0,0,0,1,1,1,1,1,2,2}"
   ]
  },
  {
   "cell_type": "code",
   "execution_count": 5,
   "id": "c422b971",
   "metadata": {},
   "outputs": [
    {
     "name": "stdout",
     "output_type": "stream",
     "text": [
      "Sorted array: [0, 0, 0, 0, 0, 1, 1, 1, 1, 1, 2, 2]\n"
     ]
    }
   ],
   "source": [
    "def sort_colors(nums):\n",
    "    low, mid, high = 0, 0, len(nums) - 1\n",
    "\n",
    "    while mid <= high:\n",
    "        if nums[mid] == 0:\n",
    "            nums[low], nums[mid] = nums[mid], nums[low]\n",
    "            low += 1\n",
    "            mid += 1\n",
    "        elif nums[mid] == 1:\n",
    "            mid += 1\n",
    "        else:\n",
    "            nums[mid], nums[high] = nums[high], nums[mid]\n",
    "            high -= 1\n",
    "\n",
    "# Example usage:\n",
    "arr = [0, 1, 1, 0, 1, 2, 1, 2, 0, 0, 0, 1]\n",
    "sort_colors(arr)\n",
    "print(\"Sorted array:\", arr)\n"
   ]
  },
  {
   "cell_type": "markdown",
   "id": "934e2fe9",
   "metadata": {},
   "source": [
    "Explanation:\n",
    "1. This algorithm maintains three pointers: low, mid, and high. \n",
    "2. It uses the mid pointer to iterate through the array. \n",
    "3. If nums[mid] is 0, it swaps the elements at low and mid and increments both pointers. \n",
    "4. If nums[mid] is 1, it simply increments the mid pointer. \n",
    "5. If nums[mid] is 2, it swaps the elements at mid and high and decrements the high pointer.\n",
    "6. The algorithm continues until mid crosses over high."
   ]
  }
 ],
 "metadata": {
  "kernelspec": {
   "display_name": "Python 3 (ipykernel)",
   "language": "python",
   "name": "python3"
  },
  "language_info": {
   "codemirror_mode": {
    "name": "ipython",
    "version": 3
   },
   "file_extension": ".py",
   "mimetype": "text/x-python",
   "name": "python",
   "nbconvert_exporter": "python",
   "pygments_lexer": "ipython3",
   "version": "3.11.4"
  }
 },
 "nbformat": 4,
 "nbformat_minor": 5
}
