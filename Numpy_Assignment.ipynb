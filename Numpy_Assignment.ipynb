{
 "cells": [
  {
   "cell_type": "markdown",
   "id": "4b3bff86",
   "metadata": {},
   "source": [
    "# Numpy Assignment"
   ]
  },
  {
   "cell_type": "markdown",
   "id": "71e61f97",
   "metadata": {},
   "source": [
    "# 1. What is a Python library? Why do we use Python libraries"
   ]
  },
  {
   "cell_type": "markdown",
   "id": "a0068db4",
   "metadata": {},
   "source": [
    "Python Library:\n",
    "A Python library is a collection of pre-written code that offers ready-made functions and tools to perform various tasks. We use Python libraries to save time, improve efficiency, promote code reusability, leverage specialized functionality for specific domains like data science and web development, benefit from community support, and tap into the open-source nature of the Python ecosystem."
   ]
  },
  {
   "cell_type": "markdown",
   "id": "05ac618d",
   "metadata": {},
   "source": [
    " # 2. What is the difference between Numpy array and List?"
   ]
  },
  {
   "cell_type": "markdown",
   "id": "657955b9",
   "metadata": {},
   "source": [
    "NumPy arrays and Python lists are both used to store and manipulate collections of data, but they have some key differences. Here are the main distinctions:\n",
    "\n",
    "1. Data Type:\n",
    "In a NumPy array, all elements must be of the same data type. This homogeneity allows for more efficient storage and operations.\n",
    "Lists in Python can contain elements of different data types, providing more flexibility but potentially leading to less efficient numerical operations.\n",
    "\n",
    "2. Performance:\n",
    "NumPy arrays are more efficient for numerical operations than Python lists. NumPy is implemented in C and optimized for performance, making operations on large datasets significantly faster compared to the equivalent operations on lists.\n",
    "Lists are more general-purpose and not optimized for numerical computations, so they may be slower for tasks involving large amounts of numerical data.\n",
    "\n",
    "3. Size:\n",
    "NumPy arrays are more memory-efficient compared to lists, especially for large datasets. This is due to the homogeneity of data types and the optimized storage of elements.\n",
    "Lists, being more flexible, may consume more memory because each element can be of a different data type.\n",
    "\n",
    "4. Functionality:\n",
    "NumPy provides a wide range of mathematical functions and operations that can be applied directly to entire arrays. These operations are vectorized, meaning they can be performed on entire arrays without the need for explicit loops.\n",
    "Lists offer more general-purpose functionality but lack the specialized numerical operations provided by NumPy.\n",
    "\n",
    "5. Syntax:\n",
    "NumPy syntax is designed for array operations, and it supports multidimensional arrays. NumPy provides a variety of functions for array manipulation and mathematical operations.\n",
    "Lists are part of the core Python language and have a more general syntax. They are commonly used for a wide range of purposes beyond numerical computing."
   ]
  },
  {
   "cell_type": "markdown",
   "id": "b5078c27",
   "metadata": {},
   "source": [
    "# 3. Find the shape, size and dimension of the following array?\n",
    " [[1, 2, 3, 4]\n",
    " [5, 6, 7, 8],\n",
    " [9, 10, 11, 12]]"
   ]
  },
  {
   "cell_type": "code",
   "execution_count": 1,
   "id": "a2a42344",
   "metadata": {},
   "outputs": [
    {
     "data": {
      "text/plain": [
       "array([[ 1,  2,  3,  4],\n",
       "       [ 5,  6,  7,  8],\n",
       "       [ 9, 10, 11, 12]])"
      ]
     },
     "execution_count": 1,
     "metadata": {},
     "output_type": "execute_result"
    }
   ],
   "source": [
    "import numpy as np\n",
    "arr = np.array([[1,2,3,4],[5,6,7,8],[9,10,11,12]])\n",
    "arr"
   ]
  },
  {
   "cell_type": "code",
   "execution_count": 14,
   "id": "e713a44e",
   "metadata": {},
   "outputs": [
    {
     "data": {
      "text/plain": [
       "(3, 4)"
      ]
     },
     "execution_count": 14,
     "metadata": {},
     "output_type": "execute_result"
    }
   ],
   "source": [
    "# Shape is\n",
    "arr.shape"
   ]
  },
  {
   "cell_type": "code",
   "execution_count": 10,
   "id": "b28e5bfa",
   "metadata": {},
   "outputs": [
    {
     "data": {
      "text/plain": [
       "12"
      ]
     },
     "execution_count": 10,
     "metadata": {},
     "output_type": "execute_result"
    }
   ],
   "source": [
    "# size is:\n",
    "arr.size"
   ]
  },
  {
   "cell_type": "code",
   "execution_count": 11,
   "id": "446cd803",
   "metadata": {},
   "outputs": [
    {
     "data": {
      "text/plain": [
       "2"
      ]
     },
     "execution_count": 11,
     "metadata": {},
     "output_type": "execute_result"
    }
   ],
   "source": [
    "# dimension is:\n",
    "arr.ndim"
   ]
  },
  {
   "cell_type": "markdown",
   "id": "a459b386",
   "metadata": {},
   "source": [
    "Explanation:\n",
    "1. to find shape we can use arr.shape function in numpy\n",
    "2. for size we can use arr.size\n",
    "3. for dimension use arr.ndim"
   ]
  },
  {
   "cell_type": "markdown",
   "id": "cee50fdf",
   "metadata": {},
   "source": [
    "# 4. Write python code to access the first row of the following array?\n",
    " [[1, 2, 3, 4]\n",
    " [5, 6, 7, 8],\n",
    " [9, 10, 11, 12]]"
   ]
  },
  {
   "cell_type": "code",
   "execution_count": 15,
   "id": "297210b2",
   "metadata": {},
   "outputs": [
    {
     "data": {
      "text/plain": [
       "array([1, 2, 3, 4])"
      ]
     },
     "execution_count": 15,
     "metadata": {},
     "output_type": "execute_result"
    }
   ],
   "source": [
    "arr = np.array([[1,2,3,4],[5,6,7,8],[9,10,11,12]])\n",
    "arr[0]\n",
    "# access first row"
   ]
  },
  {
   "cell_type": "markdown",
   "id": "73d6ba12",
   "metadata": {},
   "source": [
    "Explanation:\n",
    "It's very easy to access first row of given array using row index like arr[0] here 0---> first row of array"
   ]
  },
  {
   "cell_type": "markdown",
   "id": "6e813cca",
   "metadata": {},
   "source": [
    "# 5. How do you access the element at the third row and fourth column from the given numpy array?\n",
    " [[1, 2, 3, 4]\n",
    " [5, 6, 7, 8],\n",
    " [9, 10, 11, 12]]"
   ]
  },
  {
   "cell_type": "code",
   "execution_count": 19,
   "id": "627087b4",
   "metadata": {},
   "outputs": [
    {
     "data": {
      "text/plain": [
       "12"
      ]
     },
     "execution_count": 19,
     "metadata": {},
     "output_type": "execute_result"
    }
   ],
   "source": [
    "arr = np.array([[1,2,3,4],[5,6,7,8],[9,10,11,12]])\n",
    "arr[2,3]\n",
    "# or arr[2][3]"
   ]
  },
  {
   "cell_type": "markdown",
   "id": "d2f98534",
   "metadata": {},
   "source": [
    "Explanation: \n",
    "1. to access element at third row and fourth column we generally used index like arr[2,3] or arr[2][3]"
   ]
  },
  {
   "cell_type": "markdown",
   "id": "e5b12eed",
   "metadata": {},
   "source": [
    " # 6. Write code to extract all odd-indexed elements from the given numpy array?\n",
    " [[1, 2, 3, 4]\n",
    " [5, 6, 7, 8],\n",
    " [9, 10, 11, 12]]"
   ]
  },
  {
   "cell_type": "code",
   "execution_count": 20,
   "id": "779b901b",
   "metadata": {},
   "outputs": [
    {
     "data": {
      "text/plain": [
       "array([[ 2,  4],\n",
       "       [ 6,  8],\n",
       "       [10, 12]])"
      ]
     },
     "execution_count": 20,
     "metadata": {},
     "output_type": "execute_result"
    }
   ],
   "source": [
    "arr = np.array([[1,2,3,4],[5,6,7,8],[9,10,11,12]])\n",
    "arr[:, 1::2]"
   ]
  },
  {
   "cell_type": "markdown",
   "id": "1f3cc84d",
   "metadata": {},
   "source": [
    "Explanation:\n",
    "1. arr[:, 1::2] slices the array along the columns (:), starts from index 1 (odd-indexed) in each row, and takes every second      element (::2). \n",
    "2. This extracts all the odd-indexed elements along the columns in each row of the array.\n",
    "    "
   ]
  },
  {
   "cell_type": "markdown",
   "id": "2ae843be",
   "metadata": {},
   "source": [
    "# 7. How can you generate a random 3x3 matrix with values between 0 and 1?"
   ]
  },
  {
   "cell_type": "code",
   "execution_count": 9,
   "id": "42c64a37",
   "metadata": {},
   "outputs": [
    {
     "data": {
      "text/plain": [
       "array([[0.48682575, 0.95809537, 0.95469079],\n",
       "       [0.21095567, 0.48025741, 0.14998178],\n",
       "       [0.1685179 , 0.65952467, 0.67435186]])"
      ]
     },
     "execution_count": 9,
     "metadata": {},
     "output_type": "execute_result"
    }
   ],
   "source": [
    "np.random.rand(3,3)"
   ]
  },
  {
   "cell_type": "markdown",
   "id": "85d86918",
   "metadata": {},
   "source": [
    "Explanation: \n",
    "1. The np.random.rand() function generates an array of random numbers from a uniform distribution over the range [0, 1) .\n",
    "\n",
    "2.  The arguments (3, 3) specify the shape of the array, resulting in a 3x3 matrix."
   ]
  },
  {
   "cell_type": "markdown",
   "id": "e2234849",
   "metadata": {},
   "source": [
    " # 8. Describe the difference between np.random.rand and np.random.randn?"
   ]
  },
  {
   "cell_type": "code",
   "execution_count": 22,
   "id": "a07dc2e8",
   "metadata": {},
   "outputs": [
    {
     "data": {
      "text/plain": [
       "array([[0.03032729, 0.12729496, 0.1640224 ],\n",
       "       [0.01563952, 0.59475468, 0.81434797]])"
      ]
     },
     "execution_count": 22,
     "metadata": {},
     "output_type": "execute_result"
    }
   ],
   "source": [
    "# Generate a 2x3 array of random numbers between 0 and 1\n",
    "random_array = np.random.rand(2, 3)\n",
    "random_array"
   ]
  },
  {
   "cell_type": "code",
   "execution_count": 20,
   "id": "28edc78f",
   "metadata": {},
   "outputs": [
    {
     "data": {
      "text/plain": [
       "array([[-0.62288676, -0.2931008 , -1.03162067],\n",
       "       [ 0.8337448 ,  1.45884429,  0.13975847]])"
      ]
     },
     "execution_count": 20,
     "metadata": {},
     "output_type": "execute_result"
    }
   ],
   "source": [
    "# Generate a 2x3 array of random numbers from a standard normal distribution\n",
    "random_array = np.random.randn(2, 3)\n",
    "random_array"
   ]
  },
  {
   "cell_type": "markdown",
   "id": "8676ec32",
   "metadata": {},
   "source": [
    "Explanation:\n",
    "1. np.random.rand generates random numbers from a uniform distribution over [0.0, 1.0) .\n",
    "\n",
    "2. while np.random.randn generates random numbers from a standard normal distribution with mean 0 and standard deviation 1."
   ]
  },
  {
   "cell_type": "markdown",
   "id": "4c5020e4",
   "metadata": {},
   "source": [
    "# 9. Write code to increase the dimension of the following array?\n",
    " [[1, 2, 3, 4]\n",
    " [5, 6, 7, 8],\n",
    " [9, 10, 11, 12]]"
   ]
  },
  {
   "cell_type": "code",
   "execution_count": 33,
   "id": "7c5a162d",
   "metadata": {},
   "outputs": [
    {
     "data": {
      "text/plain": [
       "array([[ 1,  2,  3,  4],\n",
       "       [ 5,  6,  7,  8],\n",
       "       [ 9, 10, 11, 12]])"
      ]
     },
     "execution_count": 33,
     "metadata": {},
     "output_type": "execute_result"
    }
   ],
   "source": [
    "arr1 = np.array([[1,2,3,4],[5,6,7,8],[9,10,11,12]])\n",
    "arr1"
   ]
  },
  {
   "cell_type": "code",
   "execution_count": 37,
   "id": "8ededd2a",
   "metadata": {},
   "outputs": [
    {
     "data": {
      "text/plain": [
       "array([[[ 1,  2,  3,  4],\n",
       "        [ 5,  6,  7,  8],\n",
       "        [ 9, 10, 11, 12]]])"
      ]
     },
     "execution_count": 37,
     "metadata": {},
     "output_type": "execute_result"
    }
   ],
   "source": [
    "# increase the dimension of arr1 using expand_dims()\n",
    "arr2 = np.expand_dims(arr1,axis=0)\n",
    "arr2"
   ]
  },
  {
   "cell_type": "code",
   "execution_count": 38,
   "id": "d22a84ae",
   "metadata": {},
   "outputs": [
    {
     "data": {
      "text/plain": [
       "array([[[[ 1,  2,  3,  4],\n",
       "         [ 5,  6,  7,  8],\n",
       "         [ 9, 10, 11, 12]]]])"
      ]
     },
     "execution_count": 38,
     "metadata": {},
     "output_type": "execute_result"
    }
   ],
   "source": [
    "arr3 = np.expand_dims(arr2,axis=0)\n",
    "arr3"
   ]
  },
  {
   "cell_type": "markdown",
   "id": "e42074e7",
   "metadata": {},
   "source": [
    "Explanation: \n",
    "1. For increase the dimension of given array we can use np.expand_dims()\n",
    "2. in above i will have to pass 2 data , first is array and second is axis"
   ]
  },
  {
   "cell_type": "markdown",
   "id": "7e5982b8",
   "metadata": {},
   "source": [
    "# 10. How to transpose the following array in NumPy?\n",
    " [[1, 2, 3, 4]\n",
    " [5, 6, 7, 8],\n",
    " [9, 10, 11, 12]]"
   ]
  },
  {
   "cell_type": "code",
   "execution_count": 43,
   "id": "ca4b0c47",
   "metadata": {},
   "outputs": [
    {
     "data": {
      "text/plain": [
       "array([[ 1,  2,  3,  4],\n",
       "       [ 5,  6,  7,  8],\n",
       "       [ 9, 10, 11, 12]])"
      ]
     },
     "execution_count": 43,
     "metadata": {},
     "output_type": "execute_result"
    }
   ],
   "source": [
    "arr1 = np.array([[1,2,3,4],[5,6,7,8],[9,10,11,12]])\n",
    "arr1"
   ]
  },
  {
   "cell_type": "code",
   "execution_count": 44,
   "id": "cb493ff8",
   "metadata": {},
   "outputs": [
    {
     "data": {
      "text/plain": [
       "array([[ 1,  5,  9],\n",
       "       [ 2,  6, 10],\n",
       "       [ 3,  7, 11],\n",
       "       [ 4,  8, 12]])"
      ]
     },
     "execution_count": 44,
     "metadata": {},
     "output_type": "execute_result"
    }
   ],
   "source": [
    "# Transpose of given matrix is\n",
    "arr1.T\n",
    "# we can use np.transpose(arr1)"
   ]
  },
  {
   "cell_type": "code",
   "execution_count": 46,
   "id": "812dcd48",
   "metadata": {},
   "outputs": [
    {
     "data": {
      "text/plain": [
       "array([[ 1,  5,  9],\n",
       "       [ 2,  6, 10],\n",
       "       [ 3,  7, 11],\n",
       "       [ 4,  8, 12]])"
      ]
     },
     "execution_count": 46,
     "metadata": {},
     "output_type": "execute_result"
    }
   ],
   "source": [
    "np.transpose(arr1)"
   ]
  },
  {
   "cell_type": "markdown",
   "id": "0b37d5fe",
   "metadata": {},
   "source": [
    "Explanation:\n",
    "1. The transposed array swaps the rows and columns of the original array.\n",
    "2. for transpose we can use np.transpose() or arr.T both will transpose the origional array\n",
    "    "
   ]
  },
  {
   "cell_type": "markdown",
   "id": "96b234ac",
   "metadata": {},
   "source": [
    "#  11. Consider the following matrix:\n",
    "Matrix A: [[1, 2, 3, 4] [5, 6, 7, 8],[9, 10, 11, 12]]\n",
    "Matrix B: [[1, 2, 3, 4] [5, 6, 7, 8],[9, 10, 11, 12]] \n",
    "Perform the following operation using Python\n",
    "1. Index wise multiplicatio\n",
    "2. Matrix multiplicatio\n",
    "3. Add both the matric\n",
    "4. Subtract matrix B from \n",
    "5. Divide Matrix B by A"
   ]
  },
  {
   "cell_type": "code",
   "execution_count": 49,
   "id": "97f42d04",
   "metadata": {},
   "outputs": [],
   "source": [
    "A = np.array([[1,2,3,4],[5,6,7,8],[9,10,11,12]])\n",
    "B = np.array([[1,2,3,4],[5,6,7,8],[9,10,11,12]])"
   ]
  },
  {
   "cell_type": "code",
   "execution_count": 50,
   "id": "dd7c2c09",
   "metadata": {},
   "outputs": [
    {
     "data": {
      "text/plain": [
       "array([[ 1,  2,  3,  4],\n",
       "       [ 5,  6,  7,  8],\n",
       "       [ 9, 10, 11, 12]])"
      ]
     },
     "execution_count": 50,
     "metadata": {},
     "output_type": "execute_result"
    }
   ],
   "source": [
    "A"
   ]
  },
  {
   "cell_type": "code",
   "execution_count": 51,
   "id": "e02f9acc",
   "metadata": {},
   "outputs": [
    {
     "data": {
      "text/plain": [
       "array([[ 1,  2,  3,  4],\n",
       "       [ 5,  6,  7,  8],\n",
       "       [ 9, 10, 11, 12]])"
      ]
     },
     "execution_count": 51,
     "metadata": {},
     "output_type": "execute_result"
    }
   ],
   "source": [
    "B"
   ]
  },
  {
   "cell_type": "markdown",
   "id": "15576729",
   "metadata": {},
   "source": [
    "# 1. Index wise multipication"
   ]
  },
  {
   "cell_type": "code",
   "execution_count": 52,
   "id": "3dc76a83",
   "metadata": {},
   "outputs": [
    {
     "data": {
      "text/plain": [
       "array([[  1,   4,   9,  16],\n",
       "       [ 25,  36,  49,  64],\n",
       "       [ 81, 100, 121, 144]])"
      ]
     },
     "execution_count": 52,
     "metadata": {},
     "output_type": "execute_result"
    }
   ],
   "source": [
    "A * B"
   ]
  },
  {
   "cell_type": "markdown",
   "id": "cbc76ac6",
   "metadata": {},
   "source": [
    "# 2. Matrix Multipication "
   ]
  },
  {
   "cell_type": "code",
   "execution_count": 58,
   "id": "7abb16e7",
   "metadata": {},
   "outputs": [
    {
     "data": {
      "text/plain": [
       "array([[ 30,  70, 110],\n",
       "       [ 70, 174, 278],\n",
       "       [110, 278, 446]])"
      ]
     },
     "execution_count": 58,
     "metadata": {},
     "output_type": "execute_result"
    }
   ],
   "source": [
    "# Here for matrix multipication number of column in A matrix = number of row in B matrix,so let's Transpose of B\n",
    "T_Of_B = B.T  # transpose of matrix B\n",
    "A@T_Of_B\n",
    "# we can use np.dot[A,B.T]\n"
   ]
  },
  {
   "cell_type": "markdown",
   "id": "f6b4d087",
   "metadata": {},
   "source": [
    "# 3. Add both the matric"
   ]
  },
  {
   "cell_type": "code",
   "execution_count": 59,
   "id": "955162fb",
   "metadata": {},
   "outputs": [
    {
     "data": {
      "text/plain": [
       "array([[ 2,  4,  6,  8],\n",
       "       [10, 12, 14, 16],\n",
       "       [18, 20, 22, 24]])"
      ]
     },
     "execution_count": 59,
     "metadata": {},
     "output_type": "execute_result"
    }
   ],
   "source": [
    "A+B"
   ]
  },
  {
   "cell_type": "markdown",
   "id": "72e80b88",
   "metadata": {},
   "source": [
    "# 4. Subtract matrix B from "
   ]
  },
  {
   "cell_type": "code",
   "execution_count": 60,
   "id": "b7c890e6",
   "metadata": {},
   "outputs": [
    {
     "data": {
      "text/plain": [
       "array([[0, 0, 0, 0],\n",
       "       [0, 0, 0, 0],\n",
       "       [0, 0, 0, 0]])"
      ]
     },
     "execution_count": 60,
     "metadata": {},
     "output_type": "execute_result"
    }
   ],
   "source": [
    "B-A"
   ]
  },
  {
   "cell_type": "markdown",
   "id": "d83b3a63",
   "metadata": {},
   "source": [
    "# 5. Divide Matrix B by A"
   ]
  },
  {
   "cell_type": "code",
   "execution_count": 61,
   "id": "08cce216",
   "metadata": {},
   "outputs": [
    {
     "data": {
      "text/plain": [
       "array([[1., 1., 1., 1.],\n",
       "       [1., 1., 1., 1.],\n",
       "       [1., 1., 1., 1.]])"
      ]
     },
     "execution_count": 61,
     "metadata": {},
     "output_type": "execute_result"
    }
   ],
   "source": [
    "B/A"
   ]
  },
  {
   "cell_type": "markdown",
   "id": "76512af1",
   "metadata": {},
   "source": [
    " # 12.  Which function in Numpy can be used to swap the byte order of an array?"
   ]
  },
  {
   "cell_type": "code",
   "execution_count": 5,
   "id": "75c5cac3",
   "metadata": {},
   "outputs": [],
   "source": [
    "arr = np.array([[1,2,3],[4,5,6],[8,9,5]])"
   ]
  },
  {
   "cell_type": "code",
   "execution_count": 7,
   "id": "163cd840",
   "metadata": {},
   "outputs": [
    {
     "data": {
      "text/plain": [
       "array([[ 16777216,  33554432,  50331648],\n",
       "       [ 67108864,  83886080, 100663296],\n",
       "       [134217728, 150994944,  83886080]])"
      ]
     },
     "execution_count": 7,
     "metadata": {},
     "output_type": "execute_result"
    }
   ],
   "source": [
    "arr2 = arr.byteswap()\n",
    "arr2"
   ]
  },
  {
   "cell_type": "markdown",
   "id": "6ecf7f9c",
   "metadata": {},
   "source": [
    "Explanation:\n",
    "1. In NumPy, you can use the byteswap() function to swap the byte order of    an array. \n",
    "2. This function creates a new array with the byte order swapped from the      original array. \n",
    "3. The byte order can be specified using the byteorder parameter."
   ]
  },
  {
   "cell_type": "markdown",
   "id": "f0a459ab",
   "metadata": {},
   "source": [
    "# 13.  What is the significance of the np.linalg.inv function?\n",
    " "
   ]
  },
  {
   "cell_type": "code",
   "execution_count": 8,
   "id": "7dd7aa09",
   "metadata": {},
   "outputs": [
    {
     "data": {
      "text/plain": [
       "array([[-1.93333333,  1.13333333, -0.2       ],\n",
       "       [ 1.86666667, -1.26666667,  0.4       ],\n",
       "       [-0.26666667,  0.46666667, -0.2       ]])"
      ]
     },
     "execution_count": 8,
     "metadata": {},
     "output_type": "execute_result"
    }
   ],
   "source": [
    "np.linalg.inv(arr)"
   ]
  },
  {
   "cell_type": "markdown",
   "id": "f988d93e",
   "metadata": {},
   "source": [
    "Explanation:\n",
    "1. The np.linalg.inv() function in NumPy is used to compute the inverse of    a square matrix.\n",
    "2. The significance of finding the inverse of a matrix lies in various        areas of mathematics and scientific computing, including solving systems    of linear equations, computing determinants, and solving certain            optimization problems."
   ]
  },
  {
   "cell_type": "markdown",
   "id": "114b5d6b",
   "metadata": {},
   "source": [
    "# 14.  What does the np.reshape function do, and how is it used?"
   ]
  },
  {
   "cell_type": "code",
   "execution_count": 9,
   "id": "38993912",
   "metadata": {},
   "outputs": [
    {
     "data": {
      "text/plain": [
       "array([1, 2, 3, 4, 5, 6])"
      ]
     },
     "execution_count": 9,
     "metadata": {},
     "output_type": "execute_result"
    }
   ],
   "source": [
    "arr2 = np.array([1,2,3,4,5,6])\n",
    "arr2"
   ]
  },
  {
   "cell_type": "code",
   "execution_count": 10,
   "id": "2f6acdad",
   "metadata": {},
   "outputs": [
    {
     "data": {
      "text/plain": [
       "array([[1, 2, 3],\n",
       "       [4, 5, 6]])"
      ]
     },
     "execution_count": 10,
     "metadata": {},
     "output_type": "execute_result"
    }
   ],
   "source": [
    "np.reshape(arr2,(2,3))"
   ]
  },
  {
   "cell_type": "markdown",
   "id": "992edd4b",
   "metadata": {},
   "source": [
    "Explanation:\n",
    "1. The np.reshape() function in NumPy is used to change the shape of an        array without changing its data.\n",
    "2. It allows you to rearrange the elements of an array into a new shape        while maintaining the same total number of elements."
   ]
  },
  {
   "cell_type": "markdown",
   "id": "a26af74c",
   "metadata": {},
   "source": [
    "# 15. What is broadcasting in Numpy?"
   ]
  },
  {
   "cell_type": "markdown",
   "id": "8627cd08",
   "metadata": {},
   "source": [
    "Broadcasting:\n",
    "1. Broadcasting in NumPy is a mechanism that allows arrays with different      shapes to be combined and operated upon in arithmetic and other            mathematical operations.\n",
    "2. It enables NumPy to perform element-wise operations between arrays of      different shapes without the need for explicit looping over the            elements."
   ]
  },
  {
   "cell_type": "code",
   "execution_count": 12,
   "id": "11c75554",
   "metadata": {},
   "outputs": [],
   "source": [
    "arr1 = np.array([[1,2,3,4],[5,6,7,8],[9,10,11,12]])\n",
    "arr2 = np.array([3,3,3,3])"
   ]
  },
  {
   "cell_type": "code",
   "execution_count": 13,
   "id": "2f4a2635",
   "metadata": {},
   "outputs": [
    {
     "data": {
      "text/plain": [
       "array([[ 1,  2,  3,  4],\n",
       "       [ 5,  6,  7,  8],\n",
       "       [ 9, 10, 11, 12]])"
      ]
     },
     "execution_count": 13,
     "metadata": {},
     "output_type": "execute_result"
    }
   ],
   "source": [
    "arr1"
   ]
  },
  {
   "cell_type": "code",
   "execution_count": 14,
   "id": "b423edcf",
   "metadata": {},
   "outputs": [
    {
     "data": {
      "text/plain": [
       "array([3, 3, 3, 3])"
      ]
     },
     "execution_count": 14,
     "metadata": {},
     "output_type": "execute_result"
    }
   ],
   "source": [
    "arr2"
   ]
  },
  {
   "cell_type": "code",
   "execution_count": 15,
   "id": "0f41dadf",
   "metadata": {},
   "outputs": [
    {
     "data": {
      "text/plain": [
       "array([[ 4,  5,  6,  7],\n",
       "       [ 8,  9, 10, 11],\n",
       "       [12, 13, 14, 15]])"
      ]
     },
     "execution_count": 15,
     "metadata": {},
     "output_type": "execute_result"
    }
   ],
   "source": [
    "arr1 + arr2"
   ]
  },
  {
   "cell_type": "code",
   "execution_count": null,
   "id": "72969985",
   "metadata": {},
   "outputs": [],
   "source": []
  }
 ],
 "metadata": {
  "kernelspec": {
   "display_name": "Python 3 (ipykernel)",
   "language": "python",
   "name": "python3"
  },
  "language_info": {
   "codemirror_mode": {
    "name": "ipython",
    "version": 3
   },
   "file_extension": ".py",
   "mimetype": "text/x-python",
   "name": "python",
   "nbconvert_exporter": "python",
   "pygments_lexer": "ipython3",
   "version": "3.11.4"
  }
 },
 "nbformat": 4,
 "nbformat_minor": 5
}
