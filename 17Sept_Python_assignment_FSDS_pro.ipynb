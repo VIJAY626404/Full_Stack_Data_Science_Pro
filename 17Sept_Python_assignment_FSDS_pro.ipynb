{
 "cells": [
  {
   "cell_type": "markdown",
   "id": "2149170e",
   "metadata": {},
   "source": [
    "# Map :-"
   ]
  },
  {
   "cell_type": "markdown",
   "id": "b63f0b5e",
   "metadata": {},
   "source": [
    "# 1. Explain the purpose of the `map()` function in Python and provide an example of how it can be used to apply a function to each element of an iterable."
   ]
  },
  {
   "cell_type": "markdown",
   "id": "4ae72b0b",
   "metadata": {},
   "source": [
    "Purpose of map() function:\n",
    "The map() function in Python is used to apply a specified function to each item in an iterable (such as a list, tuple, or other iterable). It returns a new iterable, often a map object, that contains the results of applying the function to each element in the original iterable. The original iterable remains unchanged, and the result can be converted into a list, tuple, or another iterable type as needed.\n",
    "\n",
    "The general syntax for the map() function is as follows:\n",
    "map(function,iterable)\n",
    "function: This is the function that you want to apply to each element of the iterable.\n",
    "iterable: This is the collection of elements (e.g., a list, tuple, or any other iterable) on which the function will be applied.\n",
    "Here's an example to illustrate how the map() function works:"
   ]
  },
  {
   "cell_type": "code",
   "execution_count": 11,
   "id": "44751f5d",
   "metadata": {},
   "outputs": [
    {
     "name": "stdout",
     "output_type": "stream",
     "text": [
      "After add 2 with every element in [2, 4, 6, 8] list is:  [3, 5, 7, 9]\n"
     ]
    }
   ],
   "source": [
    "# define function to add specific number in element of list\n",
    "def add_number(x):\n",
    "    return x+1\n",
    "\n",
    "# create a list\n",
    "list1 = [2,4,6,8]\n",
    "\n",
    "# itrate through the map() function\n",
    "added_val = map(add_number,list1)\n",
    "\n",
    "# convert into the list again\n",
    "final_list = list(added_val)\n",
    "print(f\"After add {2} with every element in {list1} list is: \",final_list)"
   ]
  },
  {
   "cell_type": "markdown",
   "id": "9421290f",
   "metadata": {},
   "source": [
    "Explanation:\n",
    "1. define function to add specific number in element of list that pass one arguments\n",
    "2. create list \n",
    "3. iterate list through the map() function and \n",
    "4. convert above map object in list using list() function"
   ]
  },
  {
   "cell_type": "markdown",
   "id": "59f4231e",
   "metadata": {},
   "source": [
    "# 2.Write a Python program that uses the `map()` function to square each element of a list of numbers."
   ]
  },
  {
   "cell_type": "code",
   "execution_count": 12,
   "id": "11fd0920",
   "metadata": {},
   "outputs": [
    {
     "name": "stdout",
     "output_type": "stream",
     "text": [
      "After square of element in {list1} list is:  [4, 9, 25, 36, 1]\n"
     ]
    }
   ],
   "source": [
    "# define function to find square \n",
    "def find_square(x):\n",
    "    return pow(x,2)\n",
    "\n",
    "# create list\n",
    "list1 = [2,3,5,6,1]\n",
    "\n",
    "# iterate list through the map()\n",
    "squared_val = map(find_square,list1)\n",
    "final_list = list(squared_val)\n",
    "\n",
    "# finally display your list\n",
    "print(\"After square of element in {list1} list is: \",final_list)"
   ]
  },
  {
   "cell_type": "markdown",
   "id": "82af7b6f",
   "metadata": {},
   "source": [
    "Explanation:\n",
    "1. define function to find square that pass one arguments\n",
    "2. create list with some element\n",
    "3. iterate list through the map()\n",
    "4. convert map object into list using list() function\n",
    "5. finall display your result"
   ]
  },
  {
   "cell_type": "markdown",
   "id": "92f7e165",
   "metadata": {},
   "source": [
    "# 3. How does the `map()` function differ from a list comprehension in Python, and when would you choose one over the other?"
   ]
  },
  {
   "cell_type": "markdown",
   "id": "6bff3e7b",
   "metadata": {},
   "source": [
    "The map() function and list comprehensions in Python are both used to transform elements in an iterable, but they have different syntax and use cases. Here's a comparison of the two and when you might choose one over the other:\n",
    "1. Syntax:\n",
    "map(): Uses a separate function to transform elements in an iterable. It takes the function and the iterable as arguments and returns a map object, which can be converted into another iterable (e.g., a list) using list().\n",
    "List Comprehension: Provides a more concise and inline way to create a new iterable by specifying the transformation logic directly within square brackets.\n",
    "\n",
    "2. Readability:\n",
    "map(): Can be less concise and may involve defining a separate function. While it can be more explicit about the transformation, it can sometimes make the code less readable, especially for simple transformations.\n",
    "List Comprehension: Generally more concise and readable, as the transformation logic is directly expressed within the comprehension. It's often preferred for simple transformations.\n",
    "\n",
    "3. Performance:\n",
    "In terms of performance, list comprehensions are generally faster than map() when applying a simple operation to each element of an iterable. This is because list comprehensions are optimized for common operations.\n",
    "\n",
    "4. Functionality:\n",
    "map(): Provides the flexibility to apply a function to multiple iterables of the same length. You can also pass multiple iterables to the function.\n",
    "List Comprehension: Works on a single iterable, making it more suitable for operations where you need to transform or filter elements from a single iterable.\n",
    "\n",
    "5. Generators:\n",
    "List comprehensions can create lists, which may consume more memory, especially for large iterables. In contrast, map() returns a map object (a lazy iterable), which is memory-efficient. If you want to create a memory-efficient generator, you might prefer using map().\n",
    "\n",
    "In summary, you might choose one over the other based on the complexity of your transformation, readability, and whether you need to apply a function to multiple iterables. For simple, one-to-one transformations, list comprehensions are often preferred due to their clarity and performance. However, for more complex scenarios or when you need to apply a function to multiple iterables, map() may be a better choice. Additionally, if you need a memory-efficient lazy iterable, map() is a suitable option."
   ]
  },
  {
   "cell_type": "markdown",
   "id": "01a8a0bd",
   "metadata": {},
   "source": [
    "# 4. Create a Python program that uses the `map()` function to convert a list of names to uppercase"
   ]
  },
  {
   "cell_type": "code",
   "execution_count": 23,
   "id": "b0e34c9d",
   "metadata": {},
   "outputs": [
    {
     "name": "stdout",
     "output_type": "stream",
     "text": [
      "Print list after uppercase conversion:  ['VIJAY', 'AMBRESH', 'PRABHAT', 'AJEET']\n"
     ]
    }
   ],
   "source": [
    "# create function that pass one arguments\n",
    "def convert_uppercase(x):\n",
    "    return x.upper()\n",
    "\n",
    "# create list with some name\n",
    "list1 = ['vijay','ambresh','prabhat','ajeet']\n",
    "converted_list = map(convert_uppercase,list1)\n",
    "final_list = list(converted_list)\n",
    "\n",
    "# finally display your result\n",
    "print(\"Print list after uppercase conversion: \",final_list)"
   ]
  },
  {
   "cell_type": "markdown",
   "id": "562117f9",
   "metadata": {},
   "source": [
    "Explanation:\n",
    "1. create function that pass one arguments\n",
    "2. create list with some name\n",
    "3. iterate list through the map() function and call the above function\n",
    "4. convert map object into list\n",
    "5. finally dispaly your result"
   ]
  },
  {
   "cell_type": "markdown",
   "id": "c5f5fbd8",
   "metadata": {},
   "source": [
    "# 5. Write a Python program that uses the `map()` function to calculate the length of each word in a list of strings"
   ]
  },
  {
   "cell_type": "code",
   "execution_count": 26,
   "id": "e5c66f40",
   "metadata": {},
   "outputs": [
    {
     "name": "stdout",
     "output_type": "stream",
     "text": [
      "Length of every string in list is:  [5, 7, 7, 5]\n"
     ]
    }
   ],
   "source": [
    "# create function that pass one arguments\n",
    "def find_length(x):\n",
    "    return len(x)\n",
    "\n",
    "# create list with some name\n",
    "list1 = ['vijay','ambresh','prabhat','ajeet']\n",
    "len_list = map(find_length,list1)\n",
    "final_list = list(len_list)\n",
    "\n",
    "# finally display your result\n",
    "print(\"Length of every string in list is: \",final_list)"
   ]
  },
  {
   "cell_type": "markdown",
   "id": "0e0005a4",
   "metadata": {},
   "source": [
    "Explanation:\n",
    "1. create function that pass one arguments\n",
    "2. create list with some name\n",
    "3. iterate list through the map() function and call the above function\n",
    "4. convert map object into list\n",
    "5. finally dispaly your result"
   ]
  },
  {
   "cell_type": "markdown",
   "id": "43a9acba",
   "metadata": {},
   "source": [
    "# 6. How can you use the `map()` function to apply a custom function to elements of multiple lists simultaneously in Python?"
   ]
  },
  {
   "cell_type": "code",
   "execution_count": 27,
   "id": "8dd3ba80",
   "metadata": {},
   "outputs": [
    {
     "name": "stdout",
     "output_type": "stream",
     "text": [
      "[12, 15, 18]\n"
     ]
    }
   ],
   "source": [
    "# Define a custom function to add elements from multiple lists\n",
    "def add_elements(x, y, z):\n",
    "    return x + y + z\n",
    "\n",
    "# Create three lists\n",
    "list1 = [1, 2, 3]\n",
    "list2 = [4, 5, 6]\n",
    "list3 = [7, 8, 9]\n",
    "\n",
    "# Use the map() function to apply the custom function to elements of all three lists\n",
    "result = map(add_elements, list1, list2, list3)\n",
    "\n",
    "# Convert the result to a list (or another iterable type) to see the added elements\n",
    "result_list = list(result)\n",
    "\n",
    "print(result_list)\n"
   ]
  },
  {
   "cell_type": "markdown",
   "id": "8c0601c4",
   "metadata": {},
   "source": [
    "Explanation:\n",
    "1. Define a custom function to add elements from multiple lists\n",
    "2. Create three lists\n",
    "3. Use the map() function to apply the custom function to elements of all three lists\n",
    "4. Convert the result to a list (or another iterable type) to see the added elements\n",
    "5. finally display your result using print() function"
   ]
  },
  {
   "cell_type": "markdown",
   "id": "d938f271",
   "metadata": {},
   "source": [
    "# 7. Create a Python program that uses `map()` to convert a list of temperatures from Celsius to Fahrenheit."
   ]
  },
  {
   "cell_type": "code",
   "execution_count": 28,
   "id": "d3d6b4dd",
   "metadata": {},
   "outputs": [
    {
     "name": "stdout",
     "output_type": "stream",
     "text": [
      "0°C is 32.0°F\n",
      "10°C is 50.0°F\n",
      "20°C is 68.0°F\n",
      "30°C is 86.0°F\n",
      "40°C is 104.0°F\n"
     ]
    }
   ],
   "source": [
    "# Define a function to convert Celsius to Fahrenheit\n",
    "def celsius_to_fahrenheit(celsius):\n",
    "    return (celsius * 9/5) + 32\n",
    "\n",
    "# Create a list of temperatures in Celsius\n",
    "celsius_temperatures = [0, 10, 20, 30, 40]\n",
    "\n",
    "# Use the map() function to convert Celsius temperatures to Fahrenheit\n",
    "fahrenheit_temperatures = map(celsius_to_fahrenheit, celsius_temperatures)\n",
    "\n",
    "# Convert the result to a list to see the Fahrenheit temperatures\n",
    "fahrenheit_temperatures_list = list(fahrenheit_temperatures)\n",
    "\n",
    "# Print the Fahrenheit temperatures\n",
    "for c, f in zip(celsius_temperatures, fahrenheit_temperatures_list):\n",
    "    print(f\"{c}°C is {f}°F\")\n"
   ]
  },
  {
   "cell_type": "markdown",
   "id": "ad9f81d1",
   "metadata": {},
   "source": [
    "Explanation:\n",
    "1. we define the celsius_to_fahrenheit() function to perform the temperature conversion. \n",
    "2. We have a list of temperatures in Celsius, celsius_temperatures, and we use the map() function to apply the\n",
    "   celsius_to_fahrenheit() function to each Celsius temperature. \n",
    "3. We then convert the result into a list, fahrenheit_temperatures_list, to see the temperatures in Fahrenheit.\n",
    "4. Finally, we print out the conversion results, displaying the Celsius and Fahrenheit temperatures for each value in the list."
   ]
  },
  {
   "cell_type": "markdown",
   "id": "5c28671c",
   "metadata": {},
   "source": [
    "# 8. Write a Python program that uses the `map()` function to round each element of a list of floating-point numbers to the nearest integer."
   ]
  },
  {
   "cell_type": "code",
   "execution_count": 31,
   "id": "1c5247ee",
   "metadata": {},
   "outputs": [
    {
     "name": "stdout",
     "output_type": "stream",
     "text": [
      "list is:  [23, 2, 0, 5]\n"
     ]
    }
   ],
   "source": [
    "# define function that pass one arguments\n",
    "def float_to_integer(x):\n",
    "    \n",
    "#     reutrn round value of x\n",
    "    return round(x)\n",
    "\n",
    "# create list with some floating-point numbers\n",
    "list1 = [23.45,2.034,0.34,5.123]\n",
    "\n",
    "# call the above function\n",
    "list2 = map(valdi,list1)\n",
    "\n",
    "# convert map object into list\n",
    "final = list(list2)\n",
    "\n",
    "# display list\n",
    "print(\"list is: \",final)"
   ]
  },
  {
   "cell_type": "markdown",
   "id": "28e17a1c",
   "metadata": {},
   "source": [
    "Explanation:\n",
    "1. define function that pass one arguments\n",
    "2. reutrn round value of x using round() function that convert floatring point number into nearest integer\n",
    "3. create list\n",
    "4. call the above function\n",
    "5. convert map object into list\n",
    "6. display list"
   ]
  },
  {
   "cell_type": "markdown",
   "id": "e9b9db94",
   "metadata": {},
   "source": [
    "# Reduce :-"
   ]
  },
  {
   "cell_type": "markdown",
   "id": "92bdf39d",
   "metadata": {},
   "source": [
    "#  1. What is the `reduce()` function in Python, and what module should you import to use it? Provide an example of its basic usage."
   ]
  },
  {
   "cell_type": "markdown",
   "id": "5677d949",
   "metadata": {},
   "source": [
    "reduce() function:\n",
    "The reduce() function in Python is used for accumulating elements in an iterable, such as a list, into a single value. It repeatedly applies a given binary function (a function that takes two arguments) to the elements of the iterable, accumulating the result as it goes along. To use the reduce() function, you need to import it from the functools module.\n"
   ]
  },
  {
   "cell_type": "code",
   "execution_count": null,
   "id": "d25bb669",
   "metadata": {},
   "outputs": [],
   "source": [
    "# Here's the basic syntax for the reduce() function:\n",
    "from functools import reduce\n",
    "result = reduce(function,iterable,initial)"
   ]
  },
  {
   "cell_type": "markdown",
   "id": "96b1bc7b",
   "metadata": {},
   "source": [
    "Explanation:\n",
    "1. function: The binary function that takes two arguments and is applied cumulatively to the items of the iterable.\n",
    "2. iterable: The iterable whose elements will be reduced.\n",
    "3. initial (optional): An optional initial value. If provided, it serves as the first argument to the function. If not provided,    the first two elements of the iterable are used as initial values.\n",
    " Here's an example of using the reduce() function to calculate the product of all elements in a list:"
   ]
  },
  {
   "cell_type": "code",
   "execution_count": 39,
   "id": "6eb71d49",
   "metadata": {},
   "outputs": [
    {
     "name": "stdout",
     "output_type": "stream",
     "text": [
      "Product of all number in [2, 4, 6, 8] is:  384\n"
     ]
    }
   ],
   "source": [
    "# import reduce from function tool\n",
    "from functools import reduce\n",
    "\n",
    "# define binary function that pass two arguments\n",
    "def multiply (x,y):\n",
    "    \n",
    "# return product of two number\n",
    "    return x*y\n",
    "\n",
    "# create list with some element\n",
    "list1 = [2,4,6,8]\n",
    "\n",
    "# call the function\n",
    "result = reduce(multiply,list1)\n",
    "\n",
    "# dispaly the result\n",
    "print(f\"Product of all number in {list1} is: \",result)"
   ]
  },
  {
   "cell_type": "markdown",
   "id": "c9d538ea",
   "metadata": {},
   "source": [
    "Explanation:\n",
    "1. import reduce from function tool\n",
    "2. define binary functin for multipication of two number\n",
    "3. return the product of two number\n",
    "4. create list with some element\n",
    "5. call the function and display your result"
   ]
  },
  {
   "cell_type": "markdown",
   "id": "40f5ccce",
   "metadata": {},
   "source": [
    "# 2. Write a Python program that uses the `reduce()` function to find the product of all elements in a list."
   ]
  },
  {
   "cell_type": "code",
   "execution_count": 40,
   "id": "d83517d5",
   "metadata": {},
   "outputs": [
    {
     "name": "stdout",
     "output_type": "stream",
     "text": [
      "Product of all number in [2, 4, 6, 8] is:  384\n"
     ]
    }
   ],
   "source": [
    "# import reduce from function tool\n",
    "from functools import reduce\n",
    "\n",
    "# define binary function that pass two arguments\n",
    "def multiply (x,y):\n",
    "    \n",
    "# return product of two number\n",
    "    return x*y\n",
    "\n",
    "# create list with some element\n",
    "list1 = [2,4,6,8]\n",
    "\n",
    "# call the function\n",
    "result = reduce(multiply,list1)\n",
    "\n",
    "# dispaly the result\n",
    "print(f\"Product of all number in {list1} is: \",result)"
   ]
  },
  {
   "cell_type": "markdown",
   "id": "e6428f61",
   "metadata": {},
   "source": [
    "Explanation:\n",
    "1. import reduce from function tool\n",
    "2. define binary functin for multipication of two number\n",
    "3. return the product of two number\n",
    "4. create list with some element\n",
    "5. call the function and display your result"
   ]
  },
  {
   "cell_type": "markdown",
   "id": "1613eab2",
   "metadata": {},
   "source": [
    "# 3. Create a Python program that uses `reduce()` to find the maximum element in a list of numbers."
   ]
  },
  {
   "cell_type": "code",
   "execution_count": 42,
   "id": "7bb915ad",
   "metadata": {},
   "outputs": [
    {
     "name": "stdout",
     "output_type": "stream",
     "text": [
      "Maximum value in list [23, 54, 5, 77, 90, 26] is: 90\n"
     ]
    }
   ],
   "source": [
    "from functools import reduce\n",
    "\n",
    "# define binary function for find maximum value between two number in list\n",
    "def find_max(x,y):\n",
    "    return max(x,y)\n",
    "\n",
    "# create list\n",
    "list1 = [23,54,5,77,90,26]\n",
    "\n",
    "# call the function\n",
    "max_val = reduce(find_max,list1)\n",
    "\n",
    "# finally display your result\n",
    "print(f\"Maximum value in list {list1} is:\",max_val)"
   ]
  },
  {
   "cell_type": "markdown",
   "id": "2b135bfd",
   "metadata": {},
   "source": [
    "Explanation:\n",
    "1. firstly import reduce from funtion tools\n",
    "2. define binary function for find maximum value between two number in list\n",
    "3. create list with some element\n",
    "4. finally display the result"
   ]
  },
  {
   "cell_type": "markdown",
   "id": "4cbe5c8e",
   "metadata": {},
   "source": [
    "# 4. How can you use the `reduce()` function to concatenate a list of strings into a single string?"
   ]
  },
  {
   "cell_type": "code",
   "execution_count": 46,
   "id": "cd46499b",
   "metadata": {},
   "outputs": [
    {
     "name": "stdout",
     "output_type": "stream",
     "text": [
      "Concatenated string is: Vijay\n"
     ]
    }
   ],
   "source": [
    "from functools import reduce\n",
    "\n",
    "# Define a binary function to concatenate two strings\n",
    "def concatenate_strings(x, y):\n",
    "    return x + y\n",
    "\n",
    "# Create a list of strings\n",
    "strings = [\"Vij\",\"ay\"]\n",
    "\n",
    "# Use the reduce() function to concatenate the strings into a single string\n",
    "result = reduce(concatenate_strings, strings)\n",
    "\n",
    "print(\"Concatenated string is:\", result)\n"
   ]
  },
  {
   "cell_type": "markdown",
   "id": "b2053cf5",
   "metadata": {},
   "source": [
    "Explanation:\n",
    "1. firstly import reduce from funtion tools\n",
    "2. Define a binary function to concatenate two strings\n",
    "3. Create a list of strings\n",
    "4. Use the reduce() function to concatenate the strings into a single string"
   ]
  },
  {
   "cell_type": "markdown",
   "id": "97ce5eed",
   "metadata": {},
   "source": [
    "# 5. Write a Python program that calculates the factorial of a number using the `reduce()` function."
   ]
  },
  {
   "cell_type": "code",
   "execution_count": 48,
   "id": "248f8881",
   "metadata": {},
   "outputs": [
    {
     "name": "stdout",
     "output_type": "stream",
     "text": [
      "Enter a number: 5\n",
      "The factorial of 5 is: 120\n"
     ]
    }
   ],
   "source": [
    "from functools import reduce\n",
    "\n",
    "# Define a binary function to calculate the product of two numbers\n",
    "def multiply(x, y):\n",
    "    return x * y\n",
    "\n",
    "# Function to calculate the factorial of a number\n",
    "def factorial(n):\n",
    "    # Check if n is 0 or 1, and return 1 in those cases\n",
    "    if n == 0 or n == 1:\n",
    "        return 1\n",
    "    # Use reduce() to calculate the factorial\n",
    "    return reduce(multiply, range(1, n + 1))\n",
    "\n",
    "# Input: Number for which you want to calculate the factorial\n",
    "num = int(input(\"Enter a number: \"))\n",
    "\n",
    "# Calculate the factorial using the factorial() function\n",
    "result = factorial(num)\n",
    "\n",
    "# Print the result\n",
    "print(f\"The factorial of {num} is: {result}\")\n"
   ]
  },
  {
   "cell_type": "markdown",
   "id": "5c57090a",
   "metadata": {},
   "source": [
    "Explanation:\n",
    "1. we define a binary function multiply(x, y) to calculate the product of two numbers.\n",
    "2. Then, we define the factorial(n) function that uses reduce() to calculate the factorial of a given number.\n",
    "3. We first check if the number is 0 or 1 (factorial of 0 and 1 is 1), and in other cases, we use reduce() with the multiply        function to calculate the factorial."
   ]
  },
  {
   "cell_type": "markdown",
   "id": "cd3be199",
   "metadata": {},
   "source": [
    "# 6. Create a Python program that uses `reduce()` to find the GCD (Greatest Common Divisor) of a list of numbers."
   ]
  },
  {
   "cell_type": "code",
   "execution_count": 49,
   "id": "b9ba7497",
   "metadata": {},
   "outputs": [
    {
     "name": "stdout",
     "output_type": "stream",
     "text": [
      "GCD of the list of numbers: 12\n"
     ]
    }
   ],
   "source": [
    "from functools import reduce\n",
    "import math\n",
    "\n",
    "# Define a binary function to calculate the GCD of two numbers\n",
    "def find_gcd(x, y):\n",
    "    return math.gcd(x, y)\n",
    "\n",
    "# Create a list of numbers\n",
    "numbers = [24, 36, 48, 60, 72]\n",
    "\n",
    "# Use the reduce() function to find the GCD of the list of numbers\n",
    "gcd_result = reduce(find_gcd, numbers)\n",
    "\n",
    "print(\"GCD of the list of numbers:\", gcd_result)\n"
   ]
  },
  {
   "cell_type": "markdown",
   "id": "49ff42dc",
   "metadata": {},
   "source": [
    "Explanation:\n",
    "1. we import reduce from the functools module and math to access the gcd function, which calculates the GCD of two numbers.\n",
    "2. We define the binary function find_gcd(x, y) to calculate the GCD of two numbers using the math.gcd function. \n",
    "3. We have a list of numbers, and we use the reduce() function to apply the find_gcd() function cumulatively to all elements in    the list. \n",
    "4. The result will be the GCD of all the numbers in the list."
   ]
  },
  {
   "cell_type": "markdown",
   "id": "1c63a744",
   "metadata": {},
   "source": [
    "# 7. Write a Python program that uses the `reduce()` function to find the sum of the digits of a given number."
   ]
  },
  {
   "cell_type": "code",
   "execution_count": 50,
   "id": "cad9ede1",
   "metadata": {},
   "outputs": [
    {
     "name": "stdout",
     "output_type": "stream",
     "text": [
      "Enter a number: 56\n",
      "The sum of digits in 56 is 11\n"
     ]
    }
   ],
   "source": [
    "from functools import reduce\n",
    "\n",
    "# Define a binary function to add two numbers\n",
    "def add_digits(x, y):\n",
    "    return x + y\n",
    "\n",
    "# Function to convert a number to a list of its digits\n",
    "def number_to_digits(number):\n",
    "    return [int(digit) for digit in str(number)]\n",
    "\n",
    "# Input: Number for which you want to find the sum of digits\n",
    "number = int(input(\"Enter a number: \"))\n",
    "\n",
    "# Convert the number to a list of its digits\n",
    "digits = number_to_digits(number)\n",
    "\n",
    "# Use the reduce() function to find the sum of the digits\n",
    "sum_of_digits = reduce(add_digits, digits)\n",
    "\n",
    "# Print the result\n",
    "print(f\"The sum of digits in {number} is {sum_of_digits}\")\n"
   ]
  },
  {
   "cell_type": "markdown",
   "id": "6a8f368a",
   "metadata": {},
   "source": [
    "1. we define a binary function add_digits(x, y) to add two numbers.\n",
    "2. We also define the number_to_digits(number) function, which takes a number and converts it to a list of its digits by first      converting the number to a string and then converting each character back to an integer. \n",
    "3. We then take user input for the number, convert it to a list of its digits, and use the reduce() function to find the sum of    those digits. Finally, we print the result."
   ]
  },
  {
   "cell_type": "markdown",
   "id": "cef600ad",
   "metadata": {},
   "source": [
    "# Filter :-"
   ]
  },
  {
   "cell_type": "markdown",
   "id": "d8d75752",
   "metadata": {},
   "source": [
    "# 1. Explain the purpose of the `filter()` function in Python and provide an example of how it can be used to filter elements from an iterable."
   ]
  },
  {
   "cell_type": "markdown",
   "id": "45f145f2",
   "metadata": {},
   "source": [
    "filter() function:\n",
    "The filter() function in Python is used to filter elements from an iterable based on a given condition or function. It returns a new iterable (often a filter object), which contains only the elements that satisfy the specified condition. In other words, it creates a subset of elements from the original iterable based on the provided filtering criteria.\n",
    "\n",
    "The general syntax for the filter() function is as follows:\n",
    "filter(function, iterable)\n",
    "\n",
    "Explanation:\n",
    "1. function: This is the function that defines the filtering criteria. It should return either True or False for each element in    the iterable.\n",
    "2. iterable: This is the collection of elements (e.g., a list, tuple, or any other iterable) from which elements are filtered.\n",
    " Here's an example of how the filter() function can be used to filter even numbers from a list of integers:"
   ]
  },
  {
   "cell_type": "code",
   "execution_count": 52,
   "id": "523f44bf",
   "metadata": {},
   "outputs": [
    {
     "name": "stdout",
     "output_type": "stream",
     "text": [
      "[1, 3, 5, 7, 9]\n"
     ]
    }
   ],
   "source": [
    "# Define a function to check if a number is odd\n",
    "def is_odd(x):\n",
    "    return x % 2!= 0\n",
    "\n",
    "# Create a list of numbers\n",
    "numbers = [1, 2, 3, 4, 5, 6, 7, 8, 9, 10]\n",
    "\n",
    "# Use the filter() function to filter odd numbers from the list\n",
    "odd_numbers = filter(is_odd, numbers)\n",
    "\n",
    "# Convert the result to a list (or another iterable type) to see the even numbers\n",
    "odd_numbers_list = list(odd_numbers)\n",
    "\n",
    "print(odd_numbers_list)\n"
   ]
  },
  {
   "cell_type": "markdown",
   "id": "bfcb8ffa",
   "metadata": {},
   "source": [
    "# 2. Write a Python program that uses the `filter()` function to select even numbers from a list of integers."
   ]
  },
  {
   "cell_type": "code",
   "execution_count": 56,
   "id": "27c6df3d",
   "metadata": {},
   "outputs": [
    {
     "name": "stdout",
     "output_type": "stream",
     "text": [
      "[2, 4, 6, 8, 10]\n"
     ]
    }
   ],
   "source": [
    "# Define a function to check if a number is even\n",
    "def is_even(x):\n",
    "    return x % 2 == 0\n",
    "\n",
    "# Create a list of numbers\n",
    "numbers = [1, 2, 3, 4, 5, 6, 7, 8, 9, 10]\n",
    "\n",
    "# Use the filter() function to filter even numbers from the list\n",
    "even_numbers = filter(is_even, numbers)\n",
    "\n",
    "# Convert the result to a list (or another iterable type) to see the even numbers\n",
    "even_numbers_list = list(even_numbers)\n",
    "\n",
    "print(even_numbers_list)\n"
   ]
  },
  {
   "cell_type": "markdown",
   "id": "97f36d69",
   "metadata": {},
   "source": [
    "Explanation:\n",
    "1. is_even() function is defined to check if a given number is even (i.e., its remainder when divided by 2 is 0).\n",
    "2. We have a list of numbers, and we use the filter() function to apply the is_even() function to each element in the numbers  list.\n",
    "3. The result is a filter object that contains only the even numbers.\n",
    "4. To see the results, we convert the filter object to a list, and then we print the even_numbers_list, which will contain \n",
    "   [2, 4, 6, 8, 10], the even numbers from the original list."
   ]
  },
  {
   "cell_type": "markdown",
   "id": "88132b3b",
   "metadata": {},
   "source": [
    "# 3. Create a Python program that uses the `filter()` function to select names that start with a specific letter from a list of strings."
   ]
  },
  {
   "cell_type": "code",
   "execution_count": 14,
   "id": "f3d0f660",
   "metadata": {},
   "outputs": [
    {
     "name": "stdout",
     "output_type": "stream",
     "text": [
      "Enter a letter: a\n",
      "Names that start with 'a':\n",
      "Alice\n",
      "ajay\n"
     ]
    }
   ],
   "source": [
    "# Define a function to check if a name starts with a specific letter\n",
    "def starts_with_letter(letter, name):\n",
    "    return name[0].lower() == letter.lower()\n",
    "\n",
    "# Create a list of names\n",
    "names = [\"Alice\", \"Bob\", \"Charlie\", \"David\", \"Eve\", \"Frank\", \"Grace\",\"ajay\"]\n",
    "\n",
    "# Input: The letter you want to filter names by\n",
    "letter = input(\"Enter a letter: \")\n",
    "\n",
    "# Use the filter() function to select names that start with the specified letter\n",
    "selected_names = filter(lambda name: starts_with_letter(letter, name), names)\n",
    "\n",
    "# Convert the result to a list (or another iterable type) to see the selected names\n",
    "selected_names_list = list(selected_names)\n",
    "\n",
    "# Print the selected names\n",
    "print(f\"Names that start with '{letter}':\")\n",
    "for name in selected_names_list:\n",
    "    print(name)\n"
   ]
  },
  {
   "cell_type": "markdown",
   "id": "3f62f8b6",
   "metadata": {},
   "source": [
    "Explanation:\n",
    "1. Define a function to check if a name starts with a specific letter\n",
    "2. Create a list of names\n",
    "3. Input: The letter you want to filter names by\n",
    "4. Use the filter() function to select names that start with the specified letter\n",
    "5. Convert the result to a list (or another iterable type) to see the selected names\n",
    "6. Print the selected names using print() function"
   ]
  },
  {
   "cell_type": "markdown",
   "id": "0ea79eab",
   "metadata": {},
   "source": [
    "# 4. Write a Python program that uses the `filter()` function to select prime numbers from a list of integers."
   ]
  },
  {
   "cell_type": "code",
   "execution_count": 19,
   "id": "3ccfa8fd",
   "metadata": {},
   "outputs": [
    {
     "name": "stdout",
     "output_type": "stream",
     "text": [
      "Prime numbers from the list: [2, 5, 7, 11, 13]\n"
     ]
    }
   ],
   "source": [
    "# Define a function to check if a number is prime\n",
    "def is_prime(n):\n",
    "    if n <= 1:\n",
    "        return False\n",
    "    if n <= 3:\n",
    "        return True\n",
    "    if n % 2 == 0 or n % 3 == 0:\n",
    "        return False\n",
    "    i = 5\n",
    "    while i * i <= n:\n",
    "        if n % i == 0 or n % (i + 2) == 0:\n",
    "            return False\n",
    "        i += 6\n",
    "    return True\n",
    "\n",
    "# Create a list of integers\n",
    "numbers = [2, 4, 5, 7, 9, 10, 11, 13, 15]\n",
    "\n",
    "# Use the filter() function to select prime numbers from the list\n",
    "prime_numbers = filter(is_prime, numbers)\n",
    "\n",
    "# Convert the result to a list (or another iterable type) to see the prime numbers\n",
    "prime_numbers_list = list(prime_numbers)\n",
    "\n",
    "# Print the prime numbers\n",
    "print(\"Prime numbers from the list:\", prime_numbers_list)\n"
   ]
  },
  {
   "cell_type": "markdown",
   "id": "ff6085f5",
   "metadata": {},
   "source": [
    "Explanation:\n",
    "1. we define the is_prime() function to check if a given number is prime.\n",
    "2. We use this function within a filter() call to filter the prime numbers from the numbers list.\n",
    "3. The is_prime() function implements a basic primality test that checks if a number is divisible by any integer from 2 to the      square root of the number."
   ]
  },
  {
   "cell_type": "markdown",
   "id": "a1fb497b",
   "metadata": {},
   "source": [
    "# 5. How can you use the `filter()` function to remove None values from a list in Python?"
   ]
  },
  {
   "cell_type": "code",
   "execution_count": 25,
   "id": "d4bcfafd",
   "metadata": {},
   "outputs": [
    {
     "name": "stdout",
     "output_type": "stream",
     "text": [
      "After remove none values from the list is:  [2, 3, 56, 7, 9]\n"
     ]
    }
   ],
   "source": [
    "# create list with some element\n",
    "list1 = [2,3,None,56,7,None,9,None]\n",
    "\n",
    "# check that element in list\n",
    "final_list = filter(lambda x: x is not None,list1)\n",
    "\n",
    "# convert iterable(filter ojbect) into list \n",
    "final_result = list(final_list)\n",
    "\n",
    "# display your result\n",
    "print(\"After remove none values from the list is: \",final_result)\n"
   ]
  },
  {
   "cell_type": "markdown",
   "id": "97b6d12d",
   "metadata": {},
   "source": [
    "Explanation:\n",
    "1. create list with some element\n",
    "2. check that element in list\n",
    "3. convert iterable(filter ojbect) into list using list() function\n",
    "4. display result using print() function"
   ]
  },
  {
   "cell_type": "markdown",
   "id": "eeaa699d",
   "metadata": {},
   "source": [
    "# 6. Create a Python program that uses `filter()` to select words longer than a certain length from a list of strings."
   ]
  },
  {
   "cell_type": "code",
   "execution_count": 34,
   "id": "3f4b68ca",
   "metadata": {},
   "outputs": [
    {
     "name": "stdout",
     "output_type": "stream",
     "text": [
      "Enter the minimum word length: 5\n",
      "Words longer than 5 characters: ['banana', 'cherry']\n"
     ]
    }
   ],
   "source": [
    "# Define a function to check if a word has more than a certain length\n",
    "def is_long_word(word, min_length):\n",
    "    return len(word) > min_length\n",
    "\n",
    "# Create a list of words\n",
    "words = [\"apple\", \"banana\", \"cherry\", \"date\", \"fig\", \"grape\", \"kiwi\", \"lemon\"]\n",
    "\n",
    "# Input: Minimum length for words to be selected\n",
    "min_length = int(input(\"Enter the minimum word length: \"))\n",
    "\n",
    "# Use the filter() function to select words longer than the specified length\n",
    "selected_words = filter(lambda word: is_long_word(word, min_length), words)\n",
    "\n",
    "# Convert the result to a list (or another iterable type) to see the selected words\n",
    "selected_words_list = list(selected_words)\n",
    "\n",
    "# Print the selected words\n",
    "print(f\"Words longer than {min_length} characters: {selected_words_list}\")\n"
   ]
  },
  {
   "cell_type": "markdown",
   "id": "cae6f2b3",
   "metadata": {},
   "source": [
    "Explanation:\n",
    "1. we define the is_long_word() function to check if a word has more than a certain length based on the min_length argument.\n",
    "2. We have a list of words, and we use the filter() function with a lambda function as the filtering criterion to select words      longer than the specified length.\n",
    "3. The user is prompted to enter the minimum word length, and the program prints the selected words."
   ]
  },
  {
   "cell_type": "markdown",
   "id": "2988630b",
   "metadata": {},
   "source": [
    "# 7. Write a Python program that uses the `filter()` function to select elements greater than a specified threshold from a list of values."
   ]
  },
  {
   "cell_type": "code",
   "execution_count": 38,
   "id": "8ee71619",
   "metadata": {},
   "outputs": [
    {
     "name": "stdout",
     "output_type": "stream",
     "text": [
      "Enter minimum value :30\n",
      "Final list with selet element which length have greater then 30 is:  [45, 67]\n"
     ]
    }
   ],
   "source": [
    "# define function that take two arguments\n",
    "def is_greater(x,min_len):\n",
    "    return x>min_len\n",
    "\n",
    "# create list with some element\n",
    "list1 = [23,45,67,12,11,8,10]\n",
    "value = int(input(\"Enter minimum value :\"))\n",
    "\n",
    "# filter the value based on given minimum length\n",
    "final_val = filter(lambda min_len: is_greater(min_len,value),list1)\n",
    "\n",
    "# convert filter object into list\n",
    "final_list = list(final_val)\n",
    "\n",
    "# finally display your result\n",
    "print(f\"Final list with selet element which length have greater then {value} is: \",final_list)"
   ]
  },
  {
   "cell_type": "markdown",
   "id": "ac9769ab",
   "metadata": {},
   "source": [
    "Explanation:\n",
    "1. define function that take two arguments\n",
    "2. create list with some element\n",
    "3. filter the value based on given minimum length\n",
    "4. convert filter object into list\n",
    "5. finally display your result"
   ]
  },
  {
   "cell_type": "markdown",
   "id": "9303ad93",
   "metadata": {},
   "source": [
    "# Recursion:-"
   ]
  },
  {
   "cell_type": "markdown",
   "id": "62706d15",
   "metadata": {},
   "source": [
    "# 1. Explain the concept of recursion in Python. How does it differ from iteration?"
   ]
  },
  {
   "cell_type": "markdown",
   "id": "42e85d36",
   "metadata": {},
   "source": [
    "Recursion:\n",
    "recursion is a technique that leverages functions calling themselves to solve problems by breaking them down into smaller sub-problems. It differs from iteration in its coding style, resource usage, and the way termination conditions are handled. Recursion can be a powerful and elegant approach for certain problems but should be used with care to avoid excessive memory usage and stack overflow errors.\n",
    "\n",
    "here are simple example of recursion"
   ]
  },
  {
   "cell_type": "code",
   "execution_count": 39,
   "id": "7793b6bd",
   "metadata": {},
   "outputs": [
    {
     "name": "stdout",
     "output_type": "stream",
     "text": [
      "Enter the number to calculate factorial: 5\n",
      "Factorial value of 5 is:  120\n"
     ]
    }
   ],
   "source": [
    "# define function that pass one arguments\n",
    "def factorial(n):\n",
    "    \n",
    "#   base case\n",
    "    if n==0:\n",
    "        return 1\n",
    "    \n",
    "#     recursive call\n",
    "    return n*factorial(n-1)\n",
    "n = int(input(\"Enter the number to calculate factorial: \"))\n",
    "fact_val = factorial(n)\n",
    "\n",
    "# display your result\n",
    "print(f\"Factorial value of {n} is: \",fact_val)"
   ]
  },
  {
   "cell_type": "markdown",
   "id": "7954bddf",
   "metadata": {},
   "source": [
    "Explanation:\n",
    "1. define function that pass one arguments as integer value\n",
    "2. define base for break recursive call\n",
    "3. call recursive call\n",
    "4. finally display your result using print() function"
   ]
  },
  {
   "cell_type": "markdown",
   "id": "43285fcb",
   "metadata": {},
   "source": [
    "# 2. Write a Python program to calculate the factorial of a number using recursion"
   ]
  },
  {
   "cell_type": "code",
   "execution_count": 40,
   "id": "4b3fefd7",
   "metadata": {},
   "outputs": [
    {
     "name": "stdout",
     "output_type": "stream",
     "text": [
      "Enter the number to calculate factorial: 8\n",
      "Factorial value of 8 is:  40320\n"
     ]
    }
   ],
   "source": [
    "# define function that pass one arguments\n",
    "def factorial(n):\n",
    "    \n",
    "#   base case\n",
    "    if n==0:\n",
    "        return 1\n",
    "    \n",
    "#     recursive call\n",
    "    return n*factorial(n-1)\n",
    "n = int(input(\"Enter the number to calculate factorial: \"))\n",
    "fact_val = factorial(n)\n",
    "\n",
    "# display your result\n",
    "print(f\"Factorial value of {n} is: \",fact_val)"
   ]
  },
  {
   "cell_type": "markdown",
   "id": "9dadbd07",
   "metadata": {},
   "source": [
    "Explanation:\n",
    "1. define function that pass one arguments as integer value\n",
    "2. define base for break recursive call\n",
    "3. call recursive call\n",
    "4. finally display your result using print() function"
   ]
  },
  {
   "cell_type": "markdown",
   "id": "e55fd503",
   "metadata": {},
   "source": [
    "# 3. Create a recursive Python function to find the nth Fibonacci number."
   ]
  },
  {
   "cell_type": "code",
   "execution_count": 46,
   "id": "63311be9",
   "metadata": {},
   "outputs": [
    {
     "name": "stdout",
     "output_type": "stream",
     "text": [
      "Enter the position (n) to find the nth Fibonacci number: 4\n",
      "The 4th Fibonacci number is: 3\n"
     ]
    }
   ],
   "source": [
    "def fibonacci(n):\n",
    "    if n <= 0:\n",
    "        return 0\n",
    "    elif n == 1:\n",
    "        return 1\n",
    "    else:\n",
    "        return fibonacci(n - 1) + fibonacci(n - 2)\n",
    "\n",
    "# Input: The desired position in the Fibonacci sequence\n",
    "n = int(input(\"Enter the position (n) to find the nth Fibonacci number: \"))\n",
    "\n",
    "# Calculate and print the nth Fibonacci number\n",
    "result = fibonacci(n)\n",
    "print(f\"The {n}th Fibonacci number is: {result}\")\n"
   ]
  },
  {
   "cell_type": "markdown",
   "id": "0406ee38",
   "metadata": {},
   "source": [
    "Explanation:\n",
    "1. define function that pass one arguments\n",
    "2. write base cases\n",
    "3. recursive call\n",
    "4. Input: The desired position in the Fibonacci sequence\n",
    "5. Calculate and print the nth Fibonacci number"
   ]
  },
  {
   "cell_type": "markdown",
   "id": "90cae6c6",
   "metadata": {},
   "source": [
    "# 4. Write a recursive Python function to calculate the sum of all elements in a list."
   ]
  },
  {
   "cell_type": "code",
   "execution_count": 47,
   "id": "b45a852d",
   "metadata": {},
   "outputs": [
    {
     "name": "stdout",
     "output_type": "stream",
     "text": [
      "The sum of the elements in the list is: 15\n"
     ]
    }
   ],
   "source": [
    "def recursive_sum(lst):\n",
    "    if not lst:  # Base case: if the list is empty, return 0\n",
    "        return 0\n",
    "    else:\n",
    "        return lst[0] + recursive_sum(lst[1:])  # Add the first element to the sum of the rest\n",
    "\n",
    "# Example usage:\n",
    "my_list = [1, 2, 3, 4, 5]\n",
    "result = recursive_sum(my_list)\n",
    "print(\"The sum of the elements in the list is:\", result)\n"
   ]
  },
  {
   "cell_type": "markdown",
   "id": "aa8642fb",
   "metadata": {},
   "source": [
    "1. we check for the base case, which is when the list is empty.\n",
    "2. If the list is empty, we return 0 because there are no elements to add.\n",
    "3. Otherwise, we add the first element of the list to the sum of the rest of the elements, which is calculated by calling the      recursive_sum function with the remaining part of the list (lst[1:]).\n",
    "4. This process continues recursively until the base case is reached, and then the sums are added up in reverse order to get the    final sum of all elements in the list.\n"
   ]
  },
  {
   "cell_type": "markdown",
   "id": "a0336627",
   "metadata": {},
   "source": [
    "# 5. How can you prevent a recursive function from running indefinitely, causing a stack overflow error?"
   ]
  },
  {
   "cell_type": "markdown",
   "id": "20eb7f36",
   "metadata": {},
   "source": [
    "Preventing a recursive function from running indefinitely and causing a stack overflow error is crucial to ensure your code runs correctly and doesn't crash due to excessive recursion. You can use several techniques to achieve this:\n",
    "\n",
    "1. Base Case: \n",
    "Ensure that your recursive function has a base case. A base case is a condition that, when met, stops the recursion. Make sure your base case is well-defined and correctly implemented to avoid infinite recursion.\n",
    "\n",
    "2. Progress Toward the Base Case: \n",
    "Ensure that the recursive calls make progress towards the base case. In the example above, we decrement n with each recursive call, bringing it closer to the base case (n <= 0).\n",
    "\n",
    "3. Test with Small Inputs: \n",
    "Before running your recursive function with large inputs, test it with small inputs to make sure it behaves as expected. This helps you catch potential issues early.\n",
    "\n",
    "4. Limiting Recursion Depth:\n",
    "In some cases, you can limit the maximum recursion depth by using language-specific mechanisms or libraries. For example, in Python, you can use the sys.setrecursionlimit() function, but this should be used with caution, as it can lead to stack overflow errors if set too high.\n",
    "\n",
    "5. Iterative Approach:\n",
    "If you're concerned about the depth of recursion, consider converting your recursive function into an iterative one. You can use loops like \"for\" or \"while\" to simulate the recursive behavior, using a stack or queue to keep track of intermediate values.\n",
    "\n",
    "6. Memoization: \n",
    "If your recursive function performs redundant calculations, consider using memoization. Memoization involves storing the results of previous function calls to avoid redundant work. This can significantly reduce the number of recursive calls and prevent stack overflow errors.\n",
    "\n",
    "7. Tail Recursion: \n",
    "In some programming languages, like Haskell and some Lisp dialects, you can use tail recursion optimization, which allows the compiler or interpreter to optimize tail-recursive functions to avoid stack overflow errors. In languages like Python, this optimization is not available by default.\n",
    "\n",
    "8. Dynamic Programming:\n",
    "If your problem can be solved using dynamic programming, consider this approach as it can eliminate the need for recursion altogether.\n",
    "\n",
    "9. Profiling and Debugging:\n",
    "Use debugging tools and profilers to analyze your code's execution and identify the source of infinite recursion. This can help you pinpoint the issue and apply the appropriate fix."
   ]
  },
  {
   "cell_type": "markdown",
   "id": "d4516971",
   "metadata": {},
   "source": [
    "# 6. Create a recursive Python function to find the greatest common divisor (GCD) of two numbers using the Euclidean algorithm."
   ]
  },
  {
   "cell_type": "code",
   "execution_count": 1,
   "id": "5f8a9711",
   "metadata": {},
   "outputs": [
    {
     "name": "stdout",
     "output_type": "stream",
     "text": [
      "Enter your first number: 12\n",
      "Enter your second number: 50\n",
      "GCd of 12 and 50 is:  2\n"
     ]
    }
   ],
   "source": [
    "# define function that pass two arguments\n",
    "def find_gcd(n1,n2):\n",
    "    \n",
    "# define base case\n",
    "    if n2==0:\n",
    "        return n1;\n",
    "    \n",
    "#     recursive call and function\n",
    "    return find_gcd(n2,n1%n2)\n",
    "\n",
    "# take input through user\n",
    "n1 = int(input(\"Enter your first number: \"))\n",
    "n2 = int(input(\"Enter your second number: \"))\n",
    "\n",
    "# find GCD\n",
    "final_result = find_gcd(n1,n2)\n",
    "\n",
    "# finally display your result\n",
    "print(f\"GCd of {n1} and {n2} is: \",final_result)"
   ]
  },
  {
   "cell_type": "markdown",
   "id": "980732ec",
   "metadata": {},
   "source": [
    "Explanation:\n",
    "1. define function that pass two arguments\n",
    "2. efine base case if n2==0, return n1\n",
    "3. recursive call\n",
    "4. finally take user input data and display your result"
   ]
  },
  {
   "cell_type": "markdown",
   "id": "73a83dca",
   "metadata": {},
   "source": [
    "# 7. Write a recursive Python function to reverse a string."
   ]
  },
  {
   "cell_type": "code",
   "execution_count": 2,
   "id": "c8b25e69",
   "metadata": {},
   "outputs": [
    {
     "name": "stdout",
     "output_type": "stream",
     "text": [
      "Original String: Hello, World!\n",
      "Reversed String: !dlroW ,olleH\n"
     ]
    }
   ],
   "source": [
    "# define the function\n",
    "def reverse_string(input_str):\n",
    "    # Base case: an empty string or a string of length 1 is already reversed\n",
    "    if len(input_str) <= 1:\n",
    "        return input_str\n",
    "    # Recursive case: reverse the substring excluding the first character,\n",
    "    # and append the first character at the end\n",
    "    return reverse_string(input_str[1:]) + input_str[0]\n",
    "\n",
    "# Example usage:\n",
    "original_str = \"Hello, World!\"\n",
    "reversed_str = reverse_string(original_str)\n",
    "print(\"Original String:\", original_str)\n",
    "print(\"Reversed String:\", reversed_str)\n"
   ]
  },
  {
   "cell_type": "markdown",
   "id": "434de0dd",
   "metadata": {},
   "source": [
    "Explanation:\n",
    "1. define the function that pass string as arguments\n",
    "2. Base case: an empty string or a string of length 1 is already reversed\n",
    "3. ecursive case: reverse the substring excluding the first character, and append the first character at the end\n",
    "4.  finally take input data and display your result using print()"
   ]
  },
  {
   "cell_type": "markdown",
   "id": "16085a90",
   "metadata": {},
   "source": [
    "# 8. Create a recursive Python function to calculate the power of a number (x^n)."
   ]
  },
  {
   "cell_type": "code",
   "execution_count": 9,
   "id": "341a65a0",
   "metadata": {},
   "outputs": [
    {
     "name": "stdout",
     "output_type": "stream",
     "text": [
      "The value of 2 to the power 4 is:  16\n"
     ]
    }
   ],
   "source": [
    "# define function that pass two arguments\n",
    "def power_of_number(x,n):\n",
    "    \n",
    "#    define base case\n",
    "    if x>0 and n==0 :\n",
    "        return 1\n",
    "    \n",
    "#     recursive call\n",
    "    return x* (power_of_number(x,n-1))\n",
    "# call the function\n",
    "power_val = power_of_number(2,4)\n",
    "print(f\"The value of 2 to the power 4 is: \",power_val)"
   ]
  },
  {
   "cell_type": "markdown",
   "id": "c212f1a5",
   "metadata": {},
   "source": [
    "Explanation:\n",
    "1. define function that pass two arguments\n",
    "2. define the base \n",
    "3. recursive call\n",
    "4. input data and call the function\n",
    "5. finally display your result"
   ]
  },
  {
   "cell_type": "markdown",
   "id": "1145a7a8",
   "metadata": {},
   "source": [
    "# 9. Write a recursive Python function to find all permutations of a given string."
   ]
  },
  {
   "cell_type": "code",
   "execution_count": 16,
   "id": "84f12de1",
   "metadata": {},
   "outputs": [
    {
     "name": "stdout",
     "output_type": "stream",
     "text": [
      "abc\n",
      "acb\n",
      "bac\n",
      "bca\n",
      "cab\n",
      "cba\n"
     ]
    }
   ],
   "source": [
    "# define the function that pass string as arguments\n",
    "def find_permutations(input_str):\n",
    "    # Base case: if the string has only one character or is empty,\n",
    "    # there's only one permutation (the string itself).\n",
    "    if len(input_str) <= 1:\n",
    "        return [input_str]\n",
    "\n",
    "    # Recursive case: for each character in the input string,\n",
    "    # find permutations of the string with that character fixed at the beginning.\n",
    "    permutations = []\n",
    "    for i in range(len(input_str)):\n",
    "        first_char = input_str[i]\n",
    "        rest_of_string = input_str[:i] + input_str[i + 1:]\n",
    "        rest_permutations = find_permutations(rest_of_string)\n",
    "\n",
    "        # Add the first character to the beginning of each permutation of the rest.\n",
    "        for perm in rest_permutations:\n",
    "            permutations.append(first_char + perm)\n",
    "\n",
    "    return permutations\n",
    "\n",
    "# Example usage:\n",
    "input_str = \"abc\"\n",
    "permutations = find_permutations(input_str)\n",
    "for perm in permutations:\n",
    "    print(perm)\n"
   ]
  },
  {
   "cell_type": "markdown",
   "id": "6ed30427",
   "metadata": {},
   "source": [
    "Explanation:\n",
    "1. define the function that pass string as arguments\n",
    "2. Base case: if the string has only one character or is empty,there's only one permutation (the string itself).\n",
    "3. Recursive case: for each character in the input string, find permutations of the string with that character fixed at the        beginning.\n",
    "4. Add the first character to the beginning of each permutation of the rest.\n",
    "5. finally input data and display your result"
   ]
  },
  {
   "cell_type": "markdown",
   "id": "663b7d03",
   "metadata": {},
   "source": [
    "# 10. Write a recursive Python function to check if a string is a palindrome."
   ]
  },
  {
   "cell_type": "code",
   "execution_count": 23,
   "id": "d0988cba",
   "metadata": {},
   "outputs": [
    {
     "name": "stdout",
     "output_type": "stream",
     "text": [
      "'racecar' is a palindrome: True\n",
      "'hello' is a palindrome: False\n"
     ]
    }
   ],
   "source": [
    "# define function that pass one string\n",
    "def is_palindrome(input_str):\n",
    "    # Base case: A string with 0 or 1 character is always a palindrome.\n",
    "    if len(input_str) <= 1:\n",
    "        return True\n",
    "\n",
    "    # Check if the first and last characters are the same.\n",
    "    if input_str[0] == input_str[-1]:\n",
    "        # If they are the same, check the substring between them.\n",
    "        return is_palindrome(input_str[1:-1])\n",
    "    else:\n",
    "        # If the first and last characters are different, it's not a palindrome.\n",
    "        return False\n",
    "\n",
    "# Example usage:\n",
    "palindrome_str = \"racecar\"\n",
    "non_palindrome_str = \"hello\"\n",
    "\n",
    "print(f\"'{palindrome_str}' is a palindrome: {is_palindrome(palindrome_str)}\")\n",
    "print(f\"'{non_palindrome_str}' is a palindrome: {is_palindrome(non_palindrome_str)}\")\n"
   ]
  },
  {
   "cell_type": "markdown",
   "id": "baab89a8",
   "metadata": {},
   "source": [
    "Explanation:\n",
    "1. is_palindrome function recursively checks if a string is a palindrome.\n",
    "2. The base case is when the string has 0 or 1 character, which is always a palindrome.\n",
    "3. In the recursive case, it checks if the first and last characters of the string are the same.\n",
    "4. If they are, it calls the function with the substring between those characters.\n",
    "5. If any pair of characters doesn't match, the function returns False."
   ]
  },
  {
   "cell_type": "markdown",
   "id": "79c3ec71",
   "metadata": {},
   "source": [
    "# 11.  Create a recursive Python function to generate all possible combinations of a list of elements."
   ]
  },
  {
   "cell_type": "code",
   "execution_count": 25,
   "id": "25566449",
   "metadata": {},
   "outputs": [
    {
     "name": "stdout",
     "output_type": "stream",
     "text": [
      "[1, 2]\n",
      "[1, 3]\n",
      "[1, 4]\n",
      "[2, 3]\n",
      "[2, 4]\n",
      "[3, 4]\n"
     ]
    }
   ],
   "source": [
    "# define the function\n",
    "def generate_combinations(elements, r):\n",
    "    # Base case: If r is 0, return an empty list\n",
    "    if r == 0:\n",
    "        return [[]]\n",
    "\n",
    "    # Base case: If the elements list is empty, return an empty list\n",
    "    if not elements:\n",
    "        return []\n",
    "\n",
    "    # Recursive case:\n",
    "    first, rest = elements[0], elements[1:]\n",
    "    \n",
    "    # Generate combinations that include the first element\n",
    "    combinations_with_first = generate_combinations(rest, r - 1)\n",
    "    for combo in combinations_with_first:\n",
    "        combo.insert(0, first)\n",
    "    \n",
    "    # Generate combinations that do not include the first element\n",
    "    combinations_without_first = generate_combinations(rest, r)\n",
    "    \n",
    "    return combinations_with_first + combinations_without_first\n",
    "\n",
    "# Example usage:\n",
    "elements = [1, 2, 3, 4]\n",
    "r = 2\n",
    "result = generate_combinations(elements, r)\n",
    "for combo in result:\n",
    "    print(combo)\n"
   ]
  },
  {
   "cell_type": "markdown",
   "id": "51945ce0",
   "metadata": {},
   "source": [
    "Explanation:\n",
    "1. generate_combinations function takes a list of elements and an integer r as input.\n",
    "2. It recursively generates all combinations of r elements from the input list.\n",
    "3. The base cases handle when r is 0 or when the elements list is empty.\n",
    "4. In the recursive case, the function splits the problem into two subproblems: one that includes the first element and one that    doesn't. \n",
    "5. It then combines the results from these two subproblems and returns the final list of combinations."
   ]
  },
  {
   "cell_type": "markdown",
   "id": "46d6a491",
   "metadata": {},
   "source": [
    "# Basics of Functions:"
   ]
  },
  {
   "cell_type": "markdown",
   "id": "7bcf369d",
   "metadata": {},
   "source": [
    "# 1. What is a function in Python, and why is it used?"
   ]
  },
  {
   "cell_type": "markdown",
   "id": "50f98ef1",
   "metadata": {},
   "source": [
    "In Python, a function is a reusable block of code that performs a specific task or set of tasks. Functions are defined using the def keyword and are an essential part of the Python programming language. Here are some key characteristics and reasons for using functions in Python:\n",
    "\n",
    "1. Modularity: Functions allow you to break down your code into smaller, more manageable pieces. Each function can perform a        specific task, making your code easier to read, understand, and maintain.\n",
    "\n",
    "2. Reusability: Once you've defined a function, you can call it from different parts of your program or even in different          programs. This promotes code reuse, saving you time and effort.\n",
    "\n",
    "3. Abstraction: Functions provide a level of abstraction. When you call a function, you don't need to know the details of how it    accomplishes its task. You only need to know what the function does and how to use it.\n",
    "\n",
    "4. Organization: Functions help organize your code. By grouping related code into functions, you can create a structured and        organized program. This is especially important as your codebase grows.\n",
    "\n",
    "5. Parameterization: Functions can accept parameters or arguments, which allow you to pass data into the function, making it        more flexible and customizable. You can use different arguments to achieve different results with the same function.\n",
    "\n",
    "6. Return Values: Functions can return values. This means they can compute a result and provide it back to the caller. The          return value can be used for further processing or stored in variables."
   ]
  },
  {
   "cell_type": "markdown",
   "id": "0608503c",
   "metadata": {},
   "source": [
    "# 2. How do you define a function in Python? Provide an example."
   ]
  },
  {
   "cell_type": "markdown",
   "id": "ef777445",
   "metadata": {},
   "source": [
    "To define a function in Python,\n",
    "we use the def keyword followed by the function name, a pair of parentheses, and a colon. The function definition typically includes a block of code indented under the def statement. Here's the basic syntax:\n",
    "\n",
    "def function_name(parameters):\n",
    "    # Function code\n",
    "    # ...\n",
    "    return result  # Optional\n",
    "Here's an example of a simple Python function that calculates the square of a number:"
   ]
  },
  {
   "cell_type": "code",
   "execution_count": 26,
   "id": "af7fb66c",
   "metadata": {},
   "outputs": [
    {
     "name": "stdout",
     "output_type": "stream",
     "text": [
      "25\n"
     ]
    }
   ],
   "source": [
    "def square(num):\n",
    "    result = num ** 2\n",
    "    return result\n",
    "result = square(5)\n",
    "print(result)  # Output: 25"
   ]
  },
  {
   "cell_type": "markdown",
   "id": "b2520ca3",
   "metadata": {},
   "source": [
    "Explanation:\n",
    "1. square is the function name.\n",
    "2. num is the parameter that the function takes. It represents the number whose square we want to calculate.\n",
    "3. The function code calculates the square of the input number using the exponentiation operator **.\n",
    "4. The return statement is optional but is used here to return the result to the caller. If there is no return statement, the      function will return None by default."
   ]
  },
  {
   "cell_type": "markdown",
   "id": "ad6d4143",
   "metadata": {},
   "source": [
    "# 3. Explain the difference between a function definition and a function call."
   ]
  },
  {
   "cell_type": "markdown",
   "id": "8c93b2dd",
   "metadata": {},
   "source": [
    "Difference between a function definition and a function call:\n",
    "a function definition is the blueprint or template that defines what a function does and how it operates, while a function call is the actual execution of that function with specific values or expressions. Defining a function sets up its behavior and structure, while calling a function puts that behavior into action and returns results (if any) based on the input provided during the call.\n",
    "Example are given below function definition and function call"
   ]
  },
  {
   "cell_type": "code",
   "execution_count": 28,
   "id": "e03009e5",
   "metadata": {},
   "outputs": [],
   "source": [
    "# function defination\n",
    "def add_numbers(a, b):\n",
    "    result = a + b\n",
    "    return result\n",
    "\n",
    "# function call\n",
    "sum_result = add_numbers(5, 3)\n"
   ]
  },
  {
   "cell_type": "markdown",
   "id": "f3000200",
   "metadata": {},
   "source": [
    "# 4. Write a Python program that defines a function to calculate the sum of two numbers and then calls the function"
   ]
  },
  {
   "cell_type": "code",
   "execution_count": 29,
   "id": "e24fa1ce",
   "metadata": {},
   "outputs": [
    {
     "name": "stdout",
     "output_type": "stream",
     "text": [
      "Enter the first number: 15\n",
      "Enter the second number: 12\n",
      "The sum of 15.0 and 12.0 is: 27.0\n"
     ]
    }
   ],
   "source": [
    "# Define a function to calculate the sum of two numbers\n",
    "def calculate_sum(a, b):\n",
    "    result = a + b\n",
    "    return result\n",
    "\n",
    "# Get user input for two numbers\n",
    "num1 = float(input(\"Enter the first number: \"))\n",
    "num2 = float(input(\"Enter the second number: \"))\n",
    "\n",
    "# Call the function with the user-provided numbers\n",
    "sum_result = calculate_sum(num1, num2)\n",
    "\n",
    "# Display the result\n",
    "print(f\"The sum of {num1} and {num2} is: {sum_result}\")\n"
   ]
  },
  {
   "cell_type": "markdown",
   "id": "7a37605e",
   "metadata": {},
   "source": [
    "Explanation:\n",
    "1. We define a function named calculate_sum that takes two parameters, a and b. It calculates the sum of these two numbers and\n",
    "   finally return the result\n",
    "2. use the input function to get user input for two numbers, and we convert the input to floating-point numbers using float().\n",
    "3. then call the calculate_sum function with the user-provided numbers, and the result is stored in the variable sum_result.\n",
    "4. Finally, we display the sum of the two numbers by printing the result using an f-string."
   ]
  },
  {
   "cell_type": "markdown",
   "id": "f0d4b37b",
   "metadata": {},
   "source": [
    "# 5. What is a function signature, and what information does it typically include?"
   ]
  },
  {
   "cell_type": "markdown",
   "id": "01cb045f",
   "metadata": {},
   "source": [
    "A function signature:\n",
    "it is also known as a function prototype, is a description of a function's interface, providing information about the function's name, parameters, return type, and access level (in the context of object-oriented programming). The function signature serves as a contract that defines how the function should be called and what it returns, without specifying the actual implementation details. Function signatures are typically used in documentation, code comments, and for describing the structure of functions.\n",
    "\n",
    "A typical function signature includes the following information:\n",
    "\n",
    "1. Function Name: This is the name of the function, which is used to identify and call the function.\n",
    "\n",
    "2. Parameters: The parameters or arguments the function accepts, along with their names and data types. This information           describes what input the function expects. Parameters can be mandatory or optional, and they specify the data that the           function will operate on.\n",
    "\n",
    "3. Return Type: The data type of the value that the function returns. This indicates what the function will provide as output. In some languages, such as Python, a function can return multiple values in the form of a tuple.\n",
    "\n",
    "4. Access Level (Optional): In object-oriented programming, functions can have access levels, such as \"public,\" \"private,\" or      \"protected.\" This information determines where and how the function can be accessed.\n",
    "\n",
    "Here's an example of a function signature in Python:"
   ]
  },
  {
   "cell_type": "code",
   "execution_count": null,
   "id": "d91a0877",
   "metadata": {},
   "outputs": [],
   "source": [
    "def calculate_sum(a: float, b: float) -> float:"
   ]
  },
  {
   "cell_type": "markdown",
   "id": "0f84d6bc",
   "metadata": {},
   "source": [
    "Explanation:\n",
    "1. calculate_sum is the function name.\n",
    "2. a and b are the parameters, and their data types are specified as float.\n",
    "3. float is the return type, indicating that the function will return a floating-point number."
   ]
  },
  {
   "cell_type": "markdown",
   "id": "266ea410",
   "metadata": {},
   "source": [
    "# 6. Create a Python function that takes two arguments and returns their product."
   ]
  },
  {
   "cell_type": "code",
   "execution_count": 30,
   "id": "f5035ae5",
   "metadata": {},
   "outputs": [
    {
     "name": "stdout",
     "output_type": "stream",
     "text": [
      "15\n"
     ]
    }
   ],
   "source": [
    "# define the function that pass two arguments a,b\n",
    "def calculate_product(a, b):\n",
    "    \n",
    "# calculate the product of a,b\n",
    "    result = a * b\n",
    "    return result\n",
    "\n",
    "result = calculate_product(5, 3)\n",
    "print(result)  # Output: 15\n"
   ]
  },
  {
   "cell_type": "markdown",
   "id": "214a678b",
   "metadata": {},
   "source": [
    "Explanation:\n",
    "1. calculate_product is the function name.\n",
    "2. It takes two arguments, a and b.\n",
    "3. It calculates the product of a and b using the multiplication operator *.\n",
    "4. The return statement is used to return the result of the multiplication."
   ]
  },
  {
   "cell_type": "markdown",
   "id": "1d8eb1db",
   "metadata": {},
   "source": [
    "# Function Parameters and Arguments:"
   ]
  },
  {
   "cell_type": "markdown",
   "id": "c18387c6",
   "metadata": {},
   "source": [
    "# 1. Explain the concepts of formal parameters and actual arguments in Python functions."
   ]
  },
  {
   "cell_type": "markdown",
   "id": "7ca1111a",
   "metadata": {},
   "source": [
    "In Python, formal parameters and actual arguments are fundamental concepts related to defining and calling functions. They play a crucial role in passing data to functions and enabling the functions to work with that data. Let's explore these concepts in detail:\n",
    "\n",
    "Formal Parameters:\n",
    "\n",
    "1. Formal parameters, also known as parameters or function parameters, are placeholders or variables declared in the function      definition. They specify the data that a function expects as input when it is called.\n",
    "2. Formal parameters are defined in the function's signature, inside the parentheses following the function name.\n",
    "3. They act as local variables within the function and are used to receive and work with the values passed as arguments when the    function is called.\n",
    "4. Formal parameters are typically used to define the interface of the function, indicating what kind of data the function          requires to perform its task.\n",
    "Example:"
   ]
  },
  {
   "cell_type": "code",
   "execution_count": null,
   "id": "e802ec34",
   "metadata": {},
   "outputs": [],
   "source": [
    "def greet(name):\n",
    "    print(f\"Hello, {name}!\")\n",
    "# In this example, \"name\" is the formal parameter of the \"greet\" function. \n",
    "#   It represents the data that the function expects as input."
   ]
  },
  {
   "cell_type": "markdown",
   "id": "59006940",
   "metadata": {},
   "source": [
    "Actual Arguments (Arguments):\n",
    "\n",
    "1. Actual arguments, often referred to as arguments or function arguments, are the values or expressions that are passed to a      function when it is called.\n",
    "2. These values are provided in the function call and are matched with the formal parameters of the function to supply the          required input data.\n",
    "3. There are different ways to pass actual arguments to a function, such as positional arguments, keyword arguments, and default    arguments, depending on the function's definition and the desired behavior.\n",
    "Example:"
   ]
  },
  {
   "cell_type": "code",
   "execution_count": null,
   "id": "97216a12",
   "metadata": {},
   "outputs": [],
   "source": [
    "name = \"Alice\"\n",
    "greet(name)"
   ]
  },
  {
   "cell_type": "markdown",
   "id": "9265ff1a",
   "metadata": {},
   "source": [
    "Explanation:\n",
    "1. In this example, \"name\" is the actual argument that is passed to the \"greet\" function. The function will use this value as\n",
    "   the \"name\" parameter inside the function to print a greeting to Alice.\n",
    "   \n",
    "When you call a function, Python matches the actual arguments with the formal parameters based on their positions or keyword names, depending on how the function is defined. This allows you to provide different values or data to the same function, making it versatile and reusable."
   ]
  },
  {
   "cell_type": "markdown",
   "id": "4bbc2709",
   "metadata": {},
   "source": [
    "# 2. Write a Python program that defines a function with default argument values."
   ]
  },
  {
   "cell_type": "code",
   "execution_count": 1,
   "id": "2794d9cc",
   "metadata": {},
   "outputs": [
    {
     "name": "stdout",
     "output_type": "stream",
     "text": [
      "Hello, Alice!\n",
      "Hi, Bob!\n"
     ]
    }
   ],
   "source": [
    "# define function that pass two arguments\n",
    "def greet(name, greeting=\"Hello\"):\n",
    "    \"\"\"\n",
    "    This function greets a person with a specified greeting (default is \"Hello\").\n",
    "    \"\"\"\n",
    "    print(f\"{greeting}, {name}!\")\n",
    "\n",
    "# Calling the function with and without specifying the 'greeting' argument\n",
    "greet(\"Alice\")  # Uses the default greeting value\n",
    "greet(\"Bob\", \"Hi\")  # Provides a custom greeting\n"
   ]
  },
  {
   "cell_type": "markdown",
   "id": "ac12797e",
   "metadata": {},
   "source": [
    "Explanation:\n",
    "1. define function that pass two arguments\n",
    "2. This function greets a person with a specified greeting (default is \"Hello\").\n",
    "3. display your result\n",
    "4. Calling the function with and without specifying the 'greeting' argument\n",
    "5. Uses the default greeting value\n",
    "6. Provides a custom greeting"
   ]
  },
  {
   "cell_type": "markdown",
   "id": "59121a52",
   "metadata": {},
   "source": [
    "# 3. How do you use keyword arguments in Python function calls? Provide an example"
   ]
  },
  {
   "cell_type": "code",
   "execution_count": 2,
   "id": "11c06d2e",
   "metadata": {},
   "outputs": [
    {
     "name": "stdout",
     "output_type": "stream",
     "text": [
      "Name: Alice\n",
      "Age: 25\n",
      "City: New York\n",
      "Name: Bob\n",
      "Age: 30\n",
      "City: Los Angeles\n"
     ]
    }
   ],
   "source": [
    "def describe_person(name, age, city):\n",
    "    \"\"\"\n",
    "    This function describes a person's name, age, and city.\n",
    "    \"\"\"\n",
    "    print(f\"Name: {name}\")\n",
    "    print(f\"Age: {age}\")\n",
    "    print(f\"City: {city}\")\n",
    "\n",
    "# Using keyword arguments to call the function\n",
    "describe_person(name=\"Alice\", age=25, city=\"New York\")\n",
    "describe_person(age=30, city=\"Los Angeles\", name=\"Bob\")\n"
   ]
  },
  {
   "cell_type": "markdown",
   "id": "34bbfa61",
   "metadata": {},
   "source": [
    "Explanation:\n",
    "1. define function that pass three arguments\n",
    "2. This function describes a person's name, age, and city.\n",
    "3. Using keyword arguments to call the function"
   ]
  },
  {
   "cell_type": "markdown",
   "id": "abb82b13",
   "metadata": {},
   "source": [
    "# 4. Create a Python function that accepts a variable number of arguments and calculates their sum."
   ]
  },
  {
   "cell_type": "code",
   "execution_count": 5,
   "id": "d8221bbb",
   "metadata": {},
   "outputs": [
    {
     "name": "stdout",
     "output_type": "stream",
     "text": [
      "Sum of args1 is:  30\n",
      "Sum of args2 is:  24\n",
      "Sum of args3 is:  30\n"
     ]
    }
   ],
   "source": [
    "# define function \n",
    "def calculate_sum(*args):\n",
    "    total = 0\n",
    "    \n",
    "#     calculate sum\n",
    "    for i in args:\n",
    "        total+= i\n",
    "    return total\n",
    "\n",
    "# enter arguments and call the function\n",
    "args1 = calculate_sum(2,4,6,8,10)\n",
    "args2 = calculate_sum(3,5,7,9)\n",
    "args3 = calculate_sum(1,4,9,16)\n",
    "\n",
    "# display your result\n",
    "print(\"Sum of args1 is: \",args1)\n",
    "print(\"Sum of args2 is: \",args2)\n",
    "print(\"Sum of args3 is: \",args3)"
   ]
  },
  {
   "cell_type": "markdown",
   "id": "8b296500",
   "metadata": {},
   "source": [
    "Explanation:\n",
    "1. define function with *args that allow many numbers of arguments\n",
    "2. caculate sum \n",
    "3. enter arguments and call the function\n",
    "4. display your result"
   ]
  },
  {
   "cell_type": "markdown",
   "id": "9ed9f5a4",
   "metadata": {},
   "source": [
    "# 5. What is the purpose of the `*args` and `**kwargs` syntax in function parameter lists?"
   ]
  },
  {
   "cell_type": "markdown",
   "id": "92dcc09d",
   "metadata": {},
   "source": [
    "The *args and **kwargs syntax in function parameter lists are used to handle a variable number of arguments in Python functions. They serve different purposes:\n",
    "\n",
    "*args (Arbitrary Positional Arguments):\n",
    "\n",
    "1. The *args syntax allows a function to accept a variable number of positional arguments. The name args is a convention, but\n",
    "   you can use any valid variable name with the * prefix.\n",
    "2. It is used when you want to pass an arbitrary number of non-keyword arguments to a function. These arguments are collected\n",
    "   into a tuple within the function.\n",
    "3. You can use *args to create more flexible functions that can accept different numbers of arguments.\n",
    "Example:"
   ]
  },
  {
   "cell_type": "code",
   "execution_count": 9,
   "id": "c5025bb7",
   "metadata": {},
   "outputs": [],
   "source": [
    "def add_numbers(*args):\n",
    "    result = 0\n",
    "    for num in args:\n",
    "        result += num\n",
    "    return result\n",
    "\n",
    "sum = add_numbers(1, 2, 3, 4)  # Calculates the sum of all arguments\n"
   ]
  },
  {
   "cell_type": "markdown",
   "id": "3953c146",
   "metadata": {},
   "source": [
    "**kwargs (Arbitrary Keyword Arguments):\n",
    "\n",
    "1. The **kwargs syntax allows a function to accept a variable number of keyword arguments. The name kwargs is a convention, but\n",
    "   like with *args, you can choose any valid variable name.\n",
    "2. It is used when you want to pass an arbitrary number of keyword arguments to a function. These arguments are collected into a\n",
    "   dictionary within the function, where the keys are the argument names and the values are the corresponding argument values.\n",
    "3. You can use **kwargs to create functions that are highly customizable and can accept a wide range of named parameters.\n",
    "Example:"
   ]
  },
  {
   "cell_type": "code",
   "execution_count": 10,
   "id": "741089b6",
   "metadata": {},
   "outputs": [
    {
     "name": "stdout",
     "output_type": "stream",
     "text": [
      "name: Alice\n",
      "age: 30\n",
      "city: New York\n"
     ]
    }
   ],
   "source": [
    "def display_info(**kwargs):\n",
    "    for key, value in kwargs.items():\n",
    "        print(f\"{key}: {value}\")\n",
    "\n",
    "display_info(name=\"Alice\", age=30, city=\"New York\")  # Prints key-value pairs\n"
   ]
  },
  {
   "cell_type": "markdown",
   "id": "5d7b5c6e",
   "metadata": {},
   "source": [
    "Explanation:\n",
    "In both cases, *args and **kwargs are useful when you want to create functions that can handle different numbers of arguments without specifying them explicitly in the function's parameter list. This flexibility is particularly valuable when designing generic or reusable functions that need to accommodate various use cases and configurations."
   ]
  },
  {
   "cell_type": "markdown",
   "id": "f9e0e61a",
   "metadata": {},
   "source": [
    "# Return Values and Scoping:"
   ]
  },
  {
   "cell_type": "markdown",
   "id": "af2913c5",
   "metadata": {},
   "source": [
    "# 1. Describe the role of the `return` statement in Python functions and provide examples"
   ]
  },
  {
   "cell_type": "markdown",
   "id": "d3c523fd",
   "metadata": {},
   "source": [
    "The return statement in Python functions is used to specify what value the function should produce as its result when it is called. It allows a function to send data back to the caller, which can then be used in various ways, such as assigning it to a variable, using it in expressions, or passing it as an argument to another function. The return statement also signifies the end of the function's execution, and the function exits once it is encountered.\n",
    "\n",
    "1. Returning a single value:"
   ]
  },
  {
   "cell_type": "code",
   "execution_count": 11,
   "id": "af6c6e9c",
   "metadata": {},
   "outputs": [
    {
     "name": "stdout",
     "output_type": "stream",
     "text": [
      "8\n"
     ]
    }
   ],
   "source": [
    "def add(a, b):\n",
    "    return a + b\n",
    "\n",
    "result = add(3, 5)\n",
    "print(result)  # Output: 8"
   ]
  },
  {
   "cell_type": "markdown",
   "id": "da288879",
   "metadata": {},
   "source": [
    "2. Returning multiple values as a tuple:"
   ]
  },
  {
   "cell_type": "code",
   "execution_count": 12,
   "id": "c6511572",
   "metadata": {},
   "outputs": [
    {
     "name": "stdout",
     "output_type": "stream",
     "text": [
      "('Alice', 30)\n"
     ]
    }
   ],
   "source": [
    "def get_name_and_age():\n",
    "    name = \"Alice\"\n",
    "    age = 30\n",
    "    return name, age\n",
    "\n",
    "info = get_name_and_age()\n",
    "print(info)  # Output: ('Alice', 30)\n"
   ]
  },
  {
   "cell_type": "markdown",
   "id": "c61e33d3",
   "metadata": {},
   "source": [
    "3. Returning early and conditionally:"
   ]
  },
  {
   "cell_type": "code",
   "execution_count": 13,
   "id": "d69b1b6b",
   "metadata": {},
   "outputs": [
    {
     "name": "stdout",
     "output_type": "stream",
     "text": [
      "5.0\n",
      "Division by zero is not allowed\n"
     ]
    }
   ],
   "source": [
    "def divide(a, b):\n",
    "    if b == 0:\n",
    "        return \"Division by zero is not allowed\"\n",
    "    return a / b\n",
    "\n",
    "result1 = divide(10, 2)\n",
    "result2 = divide(5, 0)\n",
    "\n",
    "print(result1)  # Output: 5.0\n",
    "print(result2)  # Output: Division by zero is not allowed\n"
   ]
  },
  {
   "cell_type": "markdown",
   "id": "deacad1a",
   "metadata": {},
   "source": [
    "4. Returning nothing (implicitly or with return None):"
   ]
  },
  {
   "cell_type": "code",
   "execution_count": 16,
   "id": "e690bf83",
   "metadata": {},
   "outputs": [
    {
     "name": "stdout",
     "output_type": "stream",
     "text": [
      "None\n"
     ]
    }
   ],
   "source": [
    "def do_something():\n",
    "    # Some code here, but no return statement\n",
    "    a = 10\n",
    "    b = 12\n",
    "#     print(f\"sum of {a} and {b} is: \",a+b)\n",
    "\n",
    "result = do_something()\n",
    "print(result)  # Output: None\n"
   ]
  },
  {
   "cell_type": "markdown",
   "id": "141d9c32",
   "metadata": {},
   "source": [
    "The return statement is a fundamental feature in Python functions, allowing them to provide results and pass data back to the caller, making functions versatile and powerful for various tasks."
   ]
  },
  {
   "cell_type": "markdown",
   "id": "9f0a1606",
   "metadata": {},
   "source": [
    "# 2. Explain the concept of variable scope in Python, including local and global variables"
   ]
  },
  {
   "cell_type": "markdown",
   "id": "c39798aa",
   "metadata": {},
   "source": [
    "Local Scope:\n",
    "\n",
    "1. A variable is in the local scope when it is defined inside a function. This means that the variable is only accessible within\n",
    "   that specific function.\n",
    "2. Variables defined in local scope are called \"local variables.\"\n",
    "3. They are created when the function is called and destroyed when the function exits.\n",
    "4. Local variables cannot be directly accessed from outside the function.\n",
    "Example of local scope:"
   ]
  },
  {
   "cell_type": "code",
   "execution_count": null,
   "id": "2c4ac169",
   "metadata": {},
   "outputs": [],
   "source": [
    "def my_function():\n",
    "    local_var = 42  # local_var is a local variable\n",
    "    print(local_var)\n",
    "\n",
    "my_function()\n",
    "print(local_var)  # This will result in an error; local_var is not defined in the global scope\n"
   ]
  },
  {
   "cell_type": "markdown",
   "id": "58ade3b0",
   "metadata": {},
   "source": [
    "Global Scope:\n",
    "\n",
    "1. A variable is in the global scope when it is defined outside of any function, typically at the top level of a Python script\n",
    "   or module.\n",
    "2. Variables in the global scope are called \"global variables.\"\n",
    "3. They are accessible from any part of the code, including inside functions.\n",
    "4. To modify a global variable from within a function, you need to use the global keyword.\n",
    "Example of global scope:"
   ]
  },
  {
   "cell_type": "code",
   "execution_count": 17,
   "id": "cf7da574",
   "metadata": {},
   "outputs": [
    {
     "name": "stdout",
     "output_type": "stream",
     "text": [
      "100\n",
      "100\n",
      "200\n"
     ]
    }
   ],
   "source": [
    "global_var = 100  # global_var is a global variable\n",
    "\n",
    "def my_function():\n",
    "    print(global_var)  # Accessing the global variable\n",
    "\n",
    "my_function()\n",
    "print(global_var)  # Accessing the global variable\n",
    "\n",
    "def modify_global():\n",
    "    global global_var\n",
    "    global_var = 200\n",
    "\n",
    "modify_global()\n",
    "print(global_var)  # global_var has been modified to 200\n"
   ]
  },
  {
   "cell_type": "markdown",
   "id": "af3377fe",
   "metadata": {},
   "source": [
    "Enclosing (Nested) Scope:\n",
    "\n",
    "1. In addition to local and global scope, Python has an enclosing scope, which comes into play when you have nested functions \n",
    "   (a function defined within another function).\n",
    "2. Variables in the enclosing scope are accessible to the inner function if they are not redefined within the inner function.\n",
    "3. If a variable is redefined in the inner function, it becomes a local variable within that inner function.\n",
    "Example of enclosing scope:"
   ]
  },
  {
   "cell_type": "code",
   "execution_count": 18,
   "id": "7b1d399f",
   "metadata": {},
   "outputs": [],
   "source": [
    "def outer_function():\n",
    "    outer_var = 10  # outer_var is in the enclosing scope\n",
    "\n",
    "    def inner_function():\n",
    "        inner_var = 20  # inner_var is a local variable\n",
    "        print(outer_var)  # Accessing the variable from the enclosing scope\n",
    "\n",
    "    inner_function()\n",
    "\n"
   ]
  },
  {
   "cell_type": "markdown",
   "id": "5aff5f85",
   "metadata": {},
   "source": [
    "# 3. Write a Python program that demonstrates the use of global variables within functions"
   ]
  },
  {
   "cell_type": "code",
   "execution_count": 19,
   "id": "9577bd8c",
   "metadata": {},
   "outputs": [
    {
     "name": "stdout",
     "output_type": "stream",
     "text": [
      "Initial global_var value: 10\n",
      "Accessing global_var from within the function: 10\n",
      "global_var value after accessing: 10\n",
      "Modified global_var from within the function: 20\n",
      "global_var value after modifying: 20\n"
     ]
    }
   ],
   "source": [
    "# Define a global variable\n",
    "global_var = 10\n",
    "\n",
    "def access_global_variable():\n",
    "    # Access the global variable from within a function\n",
    "    print(\"Accessing global_var from within the function:\", global_var)\n",
    "\n",
    "def modify_global_variable():\n",
    "    # Modify the global variable from within a function using the global keyword\n",
    "    global global_var\n",
    "    global_var = 20\n",
    "    print(\"Modified global_var from within the function:\", global_var)\n",
    "\n",
    "# Call functions to demonstrate the use of global variables\n",
    "print(\"Initial global_var value:\", global_var)\n",
    "\n",
    "access_global_variable()  # Access the global variable from the function\n",
    "print(\"global_var value after accessing:\", global_var)\n",
    "\n",
    "modify_global_variable()  # Modify the global variable from the function\n",
    "print(\"global_var value after modifying:\", global_var)\n"
   ]
  },
  {
   "cell_type": "markdown",
   "id": "c313492c",
   "metadata": {},
   "source": [
    "Explanation:\n",
    "1. We define a global variable global_var with an initial value of 10.\n",
    "2. The access_global_variable function demonstrates how to access the global variable from within a function. It simply prints      the value of global_var.   \n",
    "3. The modify_global_variable function demonstrates how to modify the global variable from within a function using the global\n",
    "   keyword. It changes the value of global_var to 20.\n",
    "4. We call these functions and print the values of global_var before and after accessing and modifying it"
   ]
  },
  {
   "cell_type": "markdown",
   "id": "f40f6c24",
   "metadata": {},
   "source": [
    "# 4. Create a Python function that calculates the factorial of a number and returns it."
   ]
  },
  {
   "cell_type": "code",
   "execution_count": 29,
   "id": "7c9eaf5b",
   "metadata": {},
   "outputs": [
    {
     "name": "stdout",
     "output_type": "stream",
     "text": [
      "The factorial of 5 is 120\n"
     ]
    }
   ],
   "source": [
    "def factorial_recursive(n):\n",
    "    \"\"\"\n",
    "    Calculate the factorial of a non-negative integer using recursion.\n",
    "    \"\"\"\n",
    "    if n == 0:\n",
    "        return 1  # Base case: 0! = 1\n",
    "    else:\n",
    "        return n * factorial_recursive(n - 1)\n",
    "\n",
    "# Example usage of the function\n",
    "num = 5\n",
    "result = factorial_recursive(num)\n",
    "print(f\"The factorial of {num} is {result}\")\n"
   ]
  },
  {
   "cell_type": "markdown",
   "id": "8744f1eb",
   "metadata": {},
   "source": [
    "Explanation:\n",
    "1. factorial_recursive function calculates the factorial of a non-negative integer n using a recursive approach. \n",
    "2. It uses the base case of 0! (factorial of 0), which is defined as 1, and recursively multiplies n by the factorial of n-1\n",
    "   until it reaches the base case."
   ]
  },
  {
   "cell_type": "markdown",
   "id": "d77e3945",
   "metadata": {},
   "source": [
    "# 5. How can you access variables defined outside a function from within the function?"
   ]
  },
  {
   "cell_type": "markdown",
   "id": "bec27977",
   "metadata": {},
   "source": [
    "1. Using Global Variables:\n",
    "\n",
    "You can access global variables directly within a function. Global variables are declared outside of any function and are accessible from any part of the code, including within functions. However, if you intend to modify a global variable from within a function, you should use the global keyword."
   ]
  },
  {
   "cell_type": "code",
   "execution_count": 30,
   "id": "c62f917a",
   "metadata": {},
   "outputs": [
    {
     "name": "stdout",
     "output_type": "stream",
     "text": [
      "Accessing global_var from within the function: 10\n",
      "Modified global_var from within the function: 20\n"
     ]
    }
   ],
   "source": [
    "global_var = 10  # This is a global variable\n",
    "\n",
    "def access_global_variable():\n",
    "    print(\"Accessing global_var from within the function:\", global_var)\n",
    "\n",
    "def modify_global_variable():\n",
    "    global global_var\n",
    "    global_var = 20\n",
    "    print(\"Modified global_var from within the function:\", global_var)\n",
    "\n",
    "access_global_variable()\n",
    "modify_global_variable()\n"
   ]
  },
  {
   "cell_type": "markdown",
   "id": "27f0c881",
   "metadata": {},
   "source": [
    "2. Passing Variables as Function Arguments:\n",
    "\n",
    "If you prefer not to use global variables, you can pass variables as function arguments. This is a more controlled and modular approach, as it allows you to explicitly specify which variables the function should work with."
   ]
  },
  {
   "cell_type": "code",
   "execution_count": 31,
   "id": "d8e5bab3",
   "metadata": {},
   "outputs": [
    {
     "name": "stdout",
     "output_type": "stream",
     "text": [
      "Accessing the variable from within the function: 10\n",
      "Modified variable from within the function: 20\n"
     ]
    }
   ],
   "source": [
    "def access_variable(var):\n",
    "    print(\"Accessing the variable from within the function:\", var)\n",
    "\n",
    "def modify_variable(var):\n",
    "    var = var * 2\n",
    "    print(\"Modified variable from within the function:\", var)\n",
    "    return var\n",
    "\n",
    "my_var = 10\n",
    "access_variable(my_var)\n",
    "my_var = modify_variable(my_var)\n"
   ]
  },
  {
   "cell_type": "markdown",
   "id": "aca7e91f",
   "metadata": {},
   "source": [
    "# Lambda Functions and Higher-Order Functions:"
   ]
  },
  {
   "cell_type": "markdown",
   "id": "7758e5ca",
   "metadata": {},
   "source": [
    "# 1. What are lambda functions in Python, and when are they typically used?"
   ]
  },
  {
   "cell_type": "markdown",
   "id": "1668406a",
   "metadata": {},
   "source": [
    "Lambda functions\n",
    "in Python,it is also known as anonymous functions, are small, unnamed, and often one-liner functions that are defined using the lambda keyword. They are typically used for simple operations and are particularly handy when you need a quick, throwaway function for a short, specific purpose. Lambda functions are defined using the following syntax:\n",
    "\n",
    "lambda arguments: expression\n",
    "\n",
    "Here are the key characteristics and common use cases for lambda functions:\n",
    "\n",
    "1. Simplicity:\n",
    "   Lambda functions are concise and can be defined in a single line of code. They are particularly useful for tasks \n",
    "   that involve simple, short operations.\n",
    "2. No Need for a Defining Name:\n",
    "   Lambda functions do not require a formal function name like regular functions defined with def.They are often used when you\n",
    "   need a small function without the overhead of defining a named function.\n",
    "3. Single Expression:\n",
    "   Lambda functions can only contain a single expression, which is evaluated and returned. This expression is typically used to    compute the result.\n",
    "4. common usesd for lambda function sorting,filtering,mapping and short task\n",
    "\n",
    "While lambda functions are convenient for certain tasks, it's important to keep in mind that they are limited in functionality compared to regular functions defined with def. Lambda functions are best suited for simple operations, and for more complex or reusable functions, it's recommended to use named functions defined with def."
   ]
  },
  {
   "cell_type": "code",
   "execution_count": 36,
   "id": "cc515bc3",
   "metadata": {},
   "outputs": [
    {
     "name": "stdout",
     "output_type": "stream",
     "text": [
      "Even list is:  [2, 4, 2, 6, 32, 22, 56]\n"
     ]
    }
   ],
   "source": [
    "list1 = [2,4,2,6,3,67,32,22,17,56]\n",
    "even_list = filter(lambda x: x%2==0 , list1)\n",
    "final_list = list(even_list)\n",
    "print(\"Even list is: \",final_list)"
   ]
  },
  {
   "cell_type": "markdown",
   "id": "d84c4637",
   "metadata": {},
   "source": [
    "# 2. Write a Python program that uses lambda functions to sort a list of tuples  based on the second element."
   ]
  },
  {
   "cell_type": "code",
   "execution_count": 44,
   "id": "231bf044",
   "metadata": {},
   "outputs": [
    {
     "name": "stdout",
     "output_type": "stream",
     "text": [
      "(4, 1)\n",
      "(3, 2)\n",
      "(5, 3)\n",
      "(1, 5)\n",
      "(2, 8)\n"
     ]
    }
   ],
   "source": [
    "# List of tuples\n",
    "data = [(1, 5), (3, 2), (2, 8), (4, 1), (5, 3)]\n",
    "\n",
    "# Sort the list of tuples based on the second element of each tuple\n",
    "sorted_data = sorted(data, key=lambda x: x[1])\n",
    "\n",
    "# Print the sorted list\n",
    "for item in sorted_data:\n",
    "    print(item)\n"
   ]
  },
  {
   "cell_type": "markdown",
   "id": "10ffa549",
   "metadata": {},
   "source": [
    "Explanation:\n",
    "1. create list with some elements\n",
    "2. Sort the list of tuples based on the second element of each tuple\n",
    "3. Print the sorted list using print() function"
   ]
  },
  {
   "cell_type": "markdown",
   "id": "cd3f5a42",
   "metadata": {},
   "source": [
    "# 3. Explain the concept of higher-order functions in Python, and provide an example."
   ]
  },
  {
   "cell_type": "markdown",
   "id": "73ee27c0",
   "metadata": {},
   "source": [
    "Higher-order functions:\n",
    "In Python, a higher-order function is a function that can accept other functions as arguments or return functions as results. Essentially, it treats functions as first-class citizens, just like any other data type, such as integers or strings. Higher-order functions are a powerful concept in functional programming and are useful for creating more flexible and abstract code."
   ]
  },
  {
   "cell_type": "code",
   "execution_count": 48,
   "id": "a0ee51e6",
   "metadata": {},
   "outputs": [
    {
     "name": "stdout",
     "output_type": "stream",
     "text": [
      "Result 1 (addition): 8\n",
      "Result 2 (subtraction): 6\n",
      "Result 3 (multiplication): 14\n"
     ]
    }
   ],
   "source": [
    "def apply_operation(operation, x, y):\n",
    "    \"\"\"\n",
    "    A higher-order function that applies a given operation to two numbers.\n",
    "    \"\"\"\n",
    "    return operation(x, y)\n",
    "\n",
    "# Define some simple operations as functions\n",
    "def add(x, y):\n",
    "    return x + y\n",
    "\n",
    "def subtract(x, y):\n",
    "    return x - y\n",
    "\n",
    "def multiply(x, y):\n",
    "    return x * y\n",
    "\n",
    "# Use the higher-order function with different operations\n",
    "result1 = apply_operation(add, 5, 3)  # Calls the 'add' function\n",
    "result2 = apply_operation(subtract, 10, 4)  # Calls the 'subtract' function\n",
    "result3 = apply_operation(multiply, 7, 2)  # Calls the 'multiply' function\n",
    "\n",
    "print(\"Result 1 (addition):\", result1)\n",
    "print(\"Result 2 (subtraction):\", result2)\n",
    "print(\"Result 3 (multiplication):\", result3)\n"
   ]
  },
  {
   "cell_type": "markdown",
   "id": "cdb8233a",
   "metadata": {},
   "source": [
    "Explanation:\n",
    "1. A higher-order function that applies a given operation to two numbers.\n",
    "2. Define some simple operations as functions\n",
    "3. Use the higher-order function with different operations\n",
    "4. call every function and display your result"
   ]
  },
  {
   "cell_type": "markdown",
   "id": "d8ca3fda",
   "metadata": {},
   "source": [
    "# 4. Create a Python function that takes a list of numbers and a function as arguments, applying the function to each element in the list."
   ]
  },
  {
   "cell_type": "code",
   "execution_count": 49,
   "id": "eaedf58d",
   "metadata": {},
   "outputs": [
    {
     "name": "stdout",
     "output_type": "stream",
     "text": [
      "Original numbers: [1, 2, 3, 4, 5]\n",
      "Squared numbers: [1, 4, 9, 16, 25]\n"
     ]
    }
   ],
   "source": [
    "def apply_function_to_list(numbers, func):\n",
    "    \"\"\"\n",
    "    Apply a given function to each element in the list of numbers.\n",
    "    \"\"\"\n",
    "    result = []\n",
    "    for num in numbers:\n",
    "        result.append(func(num))\n",
    "    return result\n",
    "\n",
    "# Define a sample function that squares a number\n",
    "def square(x):\n",
    "    return x ** 2\n",
    "\n",
    "# List of numbers\n",
    "numbers = [1, 2, 3, 4, 5]\n",
    "\n",
    "# Apply the 'square' function to each number in the list\n",
    "squared_numbers = apply_function_to_list(numbers, square)\n",
    "\n",
    "print(\"Original numbers:\", numbers)\n",
    "print(\"Squared numbers:\", squared_numbers)\n"
   ]
  },
  {
   "cell_type": "markdown",
   "id": "21e54d07",
   "metadata": {},
   "source": [
    "Explanation:\n",
    "1. We define a function called apply_function_to_list that takes two arguments: numbers (a list of numbers) and func (a function\n",
    "   to be applied to each element in the list).\n",
    "2. Inside the apply_function_to_list function, we iterate through the list of numbers and apply the given function func to each\n",
    "   element. The results are stored in the result list.\n",
    "3. We define a sample function called square that squares a given number. You can replace this function with any other function\n",
    "   that takes a single argument and returns a result.\n",
    "4. We create a list of numbers called numbers.\n",
    "5. We call the apply_function_to_list function, passing the numbers list and the square function as arguments. It calculates the\n",
    "   square of each number and stores the results in the squared_numbers list.\n",
    "6. Finally, we print the original list of numbers and the list of squared numbers"
   ]
  },
  {
   "cell_type": "markdown",
   "id": "cf570528",
   "metadata": {},
   "source": [
    "# Built-in Functions:"
   ]
  },
  {
   "cell_type": "markdown",
   "id": "7b1194df",
   "metadata": {},
   "source": [
    "# 1. Describe the role of built-in functions like `len()`, `max()`, and `min()` in Python."
   ]
  },
  {
   "cell_type": "markdown",
   "id": "0fb76822",
   "metadata": {},
   "source": [
    "Built-in functions like len(), max(), and min() are essential functions in Python that perform common operations on data structures and sequences. They provide a convenient way to obtain information or manipulate data without the need for custom code. Here's an overview of their roles and how they are used:\n",
    "\n",
    "1. len(): \n",
    "    The len() function is used to determine the length or the number of elements in a data structure, such as a string, list,       tuple, dictionary, or other iterable objects. It returns an integer representing the count of elements.\n",
    "\n",
    "Example:"
   ]
  },
  {
   "cell_type": "code",
   "execution_count": 54,
   "id": "3e9213e5",
   "metadata": {},
   "outputs": [
    {
     "name": "stdout",
     "output_type": "stream",
     "text": [
      "Length of the list: 5\n"
     ]
    }
   ],
   "source": [
    "my_list = [1, 2, 3, 4, 5]\n",
    "length = len(my_list)\n",
    "print(\"Length of the list:\", length)  # Output: 5"
   ]
  },
  {
   "cell_type": "markdown",
   "id": "052ef257",
   "metadata": {},
   "source": [
    "2. max():\n",
    "    The max() function is used to find the maximum value among a collection of values. It can accept multiple arguments and    b     returns the largest value. It can also be used with key functions to determine the maximum based on specific criteria.\n",
    "\n",
    "Example:"
   ]
  },
  {
   "cell_type": "code",
   "execution_count": 53,
   "id": "d4f1a60a",
   "metadata": {},
   "outputs": [
    {
     "name": "stdout",
     "output_type": "stream",
     "text": [
      "Maximum value in the list: 10\n"
     ]
    }
   ],
   "source": [
    "numbers = [5, 8, 2, 10, 3]\n",
    "maximum = max(numbers)\n",
    "print(\"Maximum value in the list:\", maximum)  # Output: 10"
   ]
  },
  {
   "cell_type": "markdown",
   "id": "afc481dc",
   "metadata": {},
   "source": [
    "3. min():\n",
    "     The min() function is used to find the minimum value among a collection of values. Like max(), it can accept multiple\n",
    "     arguments and return the smallest value. It can also be used with key functions to determine the minimum based on specific\n",
    "     criteria.\n",
    "\n",
    "Example:\n",
    "      "
   ]
  },
  {
   "cell_type": "code",
   "execution_count": 52,
   "id": "40e65f6b",
   "metadata": {},
   "outputs": [
    {
     "name": "stdout",
     "output_type": "stream",
     "text": [
      "Minimum value in the list: 2\n"
     ]
    }
   ],
   "source": [
    "numbers = [5, 8, 2, 10, 3]\n",
    "minimum = min(numbers)\n",
    "print(\"Minimum value in the list:\", minimum)  # Output: 2"
   ]
  },
  {
   "cell_type": "markdown",
   "id": "c1fcc274",
   "metadata": {},
   "source": [
    "# 2. Write a Python program that uses the `map()` function to apply a function to each element of a list."
   ]
  },
  {
   "cell_type": "code",
   "execution_count": 63,
   "id": "591c576e",
   "metadata": {},
   "outputs": [
    {
     "name": "stdout",
     "output_type": "stream",
     "text": [
      "Original numbers: [1, 2, 3, 4, 5]\n",
      "Squared numbers: [1, 4, 9, 16, 25]\n"
     ]
    }
   ],
   "source": [
    "# Define a function that squares a number\n",
    "def square(x):\n",
    "    return x ** 2\n",
    "\n",
    "# List of numbers\n",
    "numbers = [1, 2, 3, 4, 5]\n",
    "\n",
    "# Use the map() function to apply the 'square' function to each element in the list\n",
    "squared_numbers = map(square, numbers)\n",
    "\n",
    "# Convert the map object to a list (if needed) to view the results\n",
    "squared_numbers_list = list(squared_numbers)\n",
    "\n",
    "print(\"Original numbers:\", numbers)\n",
    "print(\"Squared numbers:\", squared_numbers_list)\n"
   ]
  },
  {
   "cell_type": "markdown",
   "id": "d69a6a02",
   "metadata": {},
   "source": [
    "Explanation:\n",
    "1. We define a function called square that squares a given number.\n",
    "2. We create a list of numbers called numbers.\n",
    "3. We use the map() function to apply the square function to each element in the numbers list. The result is a map object, which\n",
    "   is  an iterator\n",
    "4. To view the results, we convert the map object to a list using list(), and we store the squared numbers in the\n",
    "   squared_numbers_list variable.\n",
    "\n",
    "5. Finally, we print both the original list of numbers and the list of squared numbers.\n"
   ]
  },
  {
   "cell_type": "markdown",
   "id": "6de0bbb6",
   "metadata": {},
   "source": [
    "# 3. How does the `filter()` function work in Python, and when would you use it?"
   ]
  },
  {
   "cell_type": "markdown",
   "id": "1d951004",
   "metadata": {},
   "source": [
    "The filter() function:\n",
    "in Python , it is used to filter elements from an iterable (e.g., a list) based on a specified condition. It returns a new iterator that contains only the elements for which the condition is true. The basic syntax of the filter() function is as follows:\n",
    "filter(function, iterable)"
   ]
  },
  {
   "cell_type": "code",
   "execution_count": 66,
   "id": "8a9a6e21",
   "metadata": {},
   "outputs": [
    {
     "name": "stdout",
     "output_type": "stream",
     "text": [
      "Original numbers: [1, 2, 3, 4, 5, 6, 7, 8]\n",
      "Even numbers: [2, 4, 6, 8]\n"
     ]
    }
   ],
   "source": [
    "# Define a function to check if a number is even\n",
    "def is_even(number):\n",
    "    return number % 2 == 0\n",
    "\n",
    "# List of numbers\n",
    "numbers = [1, 2, 3, 4, 5, 6, 7, 8]\n",
    "\n",
    "# Use the filter() function to filter even numbers\n",
    "even_numbers = filter(is_even, numbers)\n",
    "\n",
    "# Convert the filter object to a list (if needed) to view the results\n",
    "even_numbers_list = list(even_numbers)\n",
    "\n",
    "print(\"Original numbers:\", numbers)\n",
    "print(\"Even numbers:\", even_numbers_list)\n"
   ]
  },
  {
   "cell_type": "markdown",
   "id": "a8c1595f",
   "metadata": {},
   "source": [
    "Explanation:\n",
    "1. We define a function called is_even that checks if a given number is even by evaluating the condition number % 2 == 0.\n",
    "2. We create a list of numbers called numbers.\n",
    "3. We use the filter() function to filter even numbers from the numbers list based on the is_even function. \n",
    "   The result is a 4. filter object, which is an iterator.\n",
    "5. To view the results, we convert the filter object to a list using list(), and we store the even numbers in the\n",
    "   even_numbers_list variable.\n",
    "6. Finally, we print both the original list of numbers and the list of even numbers."
   ]
  },
  {
   "cell_type": "markdown",
   "id": "ef302d72",
   "metadata": {},
   "source": [
    "# 4. Create a Python program that uses the `reduce()` function to find the product of all elements in a list."
   ]
  },
  {
   "cell_type": "code",
   "execution_count": 68,
   "id": "c15e5a21",
   "metadata": {},
   "outputs": [
    {
     "name": "stdout",
     "output_type": "stream",
     "text": [
      "List of numbers: [1, 2, 3, 4, 5]\n",
      "Product of all elements: 120\n"
     ]
    }
   ],
   "source": [
    "from functools import reduce\n",
    "\n",
    "# Define a function to multiply two numbers\n",
    "def multiply(x, y):\n",
    "    return x * y\n",
    "\n",
    "# List of numbers\n",
    "numbers = [1, 2, 3, 4, 5]\n",
    "\n",
    "# Use the reduce() function to find the product of all elements\n",
    "product = reduce(multiply, numbers)\n",
    "\n",
    "print(\"List of numbers:\", numbers)\n",
    "print(\"Product of all elements:\", product)\n"
   ]
  },
  {
   "cell_type": "markdown",
   "id": "f2600cef",
   "metadata": {},
   "source": [
    "Explanation:\n",
    "1. We import the reduce function from the functools module.\n",
    "2. We define a function called multiply that takes two arguments and returns their product.\n",
    "3. We create a list of numbers called numbers.\n",
    "4. We use the reduce() function to apply the multiply function cumulatively to all elements in the numbers list, resulting in\n",
    "   the product of all elements.\n",
    "5. Finally, we print both the original list of numbers and the product."
   ]
  },
  {
   "cell_type": "markdown",
   "id": "28a9270b",
   "metadata": {},
   "source": [
    "# Function Documentation and Best Practices:"
   ]
  },
  {
   "cell_type": "markdown",
   "id": "d3a75469",
   "metadata": {},
   "source": [
    "# 1. Explain the purpose of docstrings in Python functions and how to write them."
   ]
  },
  {
   "cell_type": "markdown",
   "id": "8261098d",
   "metadata": {},
   "source": [
    "Docstrings:\n",
    "It is a valuable tool for self-documenting code and improving code readability. They not only help other developers understand how to use your code but can also be used by automated documentation tools to generate documentation for your Python projects.\n",
    "\n",
    "1. Writing a Docstring:\n",
    "A docstring is typically a multi-line string enclosed within triple-quotes (either single or double quotes).\n",
    "It is placed as the first statement within a function, class, or module, immediately following the definition or import statement.\n",
    "It can provide information about the purpose of the function, its parameters, return values, and any other relevant details.\n",
    "Example of a function docstring:"
   ]
  },
  {
   "cell_type": "code",
   "execution_count": 69,
   "id": "6d251fb6",
   "metadata": {},
   "outputs": [],
   "source": [
    "def add(a, b):\n",
    "    \"\"\"\n",
    "    This function adds two numbers and returns the result.\n",
    "\n",
    "    Parameters:\n",
    "    a (int): The first number to be added.\n",
    "    b (int): The second number to be added.\n",
    "\n",
    "    Returns:\n",
    "    int: The sum of the two input numbers.\n",
    "    \"\"\"\n",
    "    return a + b\n"
   ]
  },
  {
   "cell_type": "markdown",
   "id": "43c104ba",
   "metadata": {},
   "source": [
    "2. Accessing Docstrings:\n",
    "\n",
    "Python allows you to access docstrings using the help() function or by accessing the __doc__ attribute of a function, class, or module.\n",
    "To access the docstring for the add function in the example above, you can use either of these methods:"
   ]
  },
  {
   "cell_type": "code",
   "execution_count": 70,
   "id": "82859674",
   "metadata": {},
   "outputs": [
    {
     "name": "stdout",
     "output_type": "stream",
     "text": [
      "Help on function add in module __main__:\n",
      "\n",
      "add(a, b)\n",
      "    This function adds two numbers and returns the result.\n",
      "    \n",
      "    Parameters:\n",
      "    a (int): The first number to be added.\n",
      "    b (int): The second number to be added.\n",
      "    \n",
      "    Returns:\n",
      "    int: The sum of the two input numbers.\n",
      "\n",
      "\n",
      "    This function adds two numbers and returns the result.\n",
      "\n",
      "    Parameters:\n",
      "    a (int): The first number to be added.\n",
      "    b (int): The second number to be added.\n",
      "\n",
      "    Returns:\n",
      "    int: The sum of the two input numbers.\n",
      "    \n"
     ]
    }
   ],
   "source": [
    "# Using the help() function\n",
    "help(add)\n",
    "\n",
    "# Accessing the __doc__ attribute\n",
    "print(add.__doc__)"
   ]
  },
  {
   "cell_type": "markdown",
   "id": "93cf7bd1",
   "metadata": {},
   "source": [
    "3. Best Practices for Writing Docstrings:\n",
    "    \n",
    "a. Use clear and concise language to describe the purpose and behavior of the code.\n",
    "b. Mention the types and meanings of function parameters.\n",
    "c. Describe the return values, including their types.\n",
    "d. If necessary, include information on exceptions raised by the function.\n",
    "d. Follow a consistent style guide, such as PEP 257, to maintain a unified format for docstrings.\n",
    "\n",
    "4. PEP 257 Recommendations:\n",
    "\n",
    "PEP 257 (Python Enhancement Proposal 257) provides recommendations for writing docstrings in Python.\n",
    "It suggests using triple-quotes (with double quotes preferred for consistency) and following specific formatting conventions for docstrings."
   ]
  },
  {
   "cell_type": "markdown",
   "id": "5916ca7b",
   "metadata": {},
   "source": [
    "# 2. Describe some best practices for naming functions and variables in Python, including naming conventions and guidelines."
   ]
  },
  {
   "cell_type": "markdown",
   "id": "23135f6e",
   "metadata": {},
   "source": [
    "Naming functions and variables in Python follows certain conventions and guidelines to ensure code readability and maintainability. Adhering to these best practices makes your code more understandable by you, your team, and potential collaborators. Here are some important naming conventions and guidelines for functions and variables in Python:\n",
    "\n",
    "1. Function Names:\n",
    "Use lowercase letters and underscores for function names. For example, calculate_total, process_data.\n",
    "Choose descriptive and meaningful names that indicate the function's purpose or action.\n",
    "If a function name consists of multiple words, separate them with underscores (snake_case). For example, calculate_area_of_circle, not calculateAreaOfCircle.\n",
    "Use verbs to describe actions performed by the function, such as get_user_data, validate_input, generate_report.\n",
    "\n",
    "2. Variable Names:\n",
    "Use lowercase letters and underscores for variable names. For example, counter, result_data.\n",
    "Choose descriptive and meaningful names that indicate the variable's purpose or contents.\n",
    "If a variable name consists of multiple words, separate them with underscores (snake_case). For example, user_name, not userName.\n",
    "Use nouns or noun phrases for variables, like total_price, employee_name, data_list.\n",
    "\n",
    "3. Constants:\n",
    "Use uppercase letters and underscores for constant names. For example, PI, MAX_VALUE.\n",
    "Constants are typically used for values that should not be modified throughout the program's execution.\n",
    "\n",
    "4. Module and Package Names:\n",
    "Use lowercase letters and underscores for module and package names. For example, my_module, my_package.\n",
    "Module names should be short and meaningful, and they should describe the purpose or content of the module.\n",
    "Avoid using Python built-in module names and keywords for your modules and packages to prevent naming conflicts.\n",
    "\n",
    "5. Class Names:\n",
    "Use CamelCase (also known as CapWords or PascalCase) for class names. For example, UserManager, EmployeeRecord.\n",
    "Class names should be descriptive and represent a noun or a concept.\n",
    "\n",
    "6. Naming Conventions:\n",
    "Follow the PEP 8 style guide for Python code, which provides a comprehensive set of guidelines for naming conventions and code formatting.\n",
    "Be consistent with your naming conventions within your codebase. Consistency enhances code readability.\n",
    "\n",
    "7. Avoid Ambiguous Names:\n",
    "Choose names that clearly and unambiguously represent the variable or function's purpose. Avoid generic names like data, value, or temp.\n",
    "Avoid single-character variable names, unless they are used for loop counters (i, j, k) and have a clear context.\n",
    "\n",
    "8. Document Your Code:\n",
    "Use docstrings to provide explanations and documentation for functions and modules. Clear and informative docstrings help others understand how to use your code.\n",
    "\n",
    "9. Refactor When Necessary:\n",
    "If you realize that a variable or function name doesn't accurately reflect its purpose, don't hesitate to refactor the name to improve clarity."
   ]
  }
 ],
 "metadata": {
  "kernelspec": {
   "display_name": "Python 3 (ipykernel)",
   "language": "python",
   "name": "python3"
  },
  "language_info": {
   "codemirror_mode": {
    "name": "ipython",
    "version": 3
   },
   "file_extension": ".py",
   "mimetype": "text/x-python",
   "name": "python",
   "nbconvert_exporter": "python",
   "pygments_lexer": "ipython3",
   "version": "3.11.4"
  }
 },
 "nbformat": 4,
 "nbformat_minor": 5
}
