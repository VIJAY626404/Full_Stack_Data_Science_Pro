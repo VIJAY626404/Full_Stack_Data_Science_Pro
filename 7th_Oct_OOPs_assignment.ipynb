{
 "cells": [
  {
   "cell_type": "markdown",
   "id": "f395022e",
   "metadata": {},
   "source": [
    "# 1. Bank Account Create a class representing a bank account with attributes like account number, account holder name, and balance. Implement methods to deposit and withdraw money from the account."
   ]
  },
  {
   "cell_type": "code",
   "execution_count": 1,
   "id": "5bdfed8e",
   "metadata": {},
   "outputs": [],
   "source": [
    "# create class bank account\n",
    "class bank_account:\n",
    "    def __init__(self,account_number,name,balance):\n",
    "        \n",
    "    \n",
    "        self.account_number = account_number\n",
    "        self.name = name\n",
    "        self.balance = balance\n",
    "        print(\"Account holder name is: \",self.account_number)\n",
    "        print(\"Account number is: \",self.name)\n",
    "        print(\"Account balance is: \",self.balance)\n",
    "\n",
    "#  defien function for deposite money\n",
    "    def deposite_money(self,amount):\n",
    "        self.balance += amount\n",
    "        print(f\"My money after deposite {amount} is: \",self.balance)\n",
    "        \n",
    "#   define function for withdraw money\n",
    "    def withdraw_money(self,amount):\n",
    "        if amount>balance:\n",
    "            print(\"Insufficient balance can't withdraw\")\n",
    "        else:\n",
    "            self.balance -= amount\n",
    "            print(f\"My money after deposite {amount} is: \",self.balance)"
   ]
  },
  {
   "cell_type": "code",
   "execution_count": 2,
   "id": "9a7cea3d",
   "metadata": {},
   "outputs": [
    {
     "name": "stdout",
     "output_type": "stream",
     "text": [
      "Account holder name is:  vijay\n",
      "Account number is:  12345\n",
      "Account balance is:  5000\n"
     ]
    }
   ],
   "source": [
    "user1 = bank_account(\"vijay\",\"12345\",5000)"
   ]
  },
  {
   "cell_type": "code",
   "execution_count": 3,
   "id": "1d47521a",
   "metadata": {},
   "outputs": [
    {
     "name": "stdout",
     "output_type": "stream",
     "text": [
      "My money after deposite 400 is:  5400\n"
     ]
    }
   ],
   "source": [
    "user1.deposite_money(400)"
   ]
  },
  {
   "cell_type": "markdown",
   "id": "1785c0b7",
   "metadata": {},
   "source": [
    "Explanation:\n",
    "1. create class bank account and inside class define function with some attributes like account number, accounter holder name      and balance\n",
    "2. declare the value of accounte number, account holder name and balance and display all these things\n",
    "3. define function for deposite money in your bank account and print result\n",
    "4. define function for withdraw money and display result \n",
    "5. if withdrawl amount > balance , can't withdraw insufficient balance"
   ]
  },
  {
   "cell_type": "markdown",
   "id": "329f7790",
   "metadata": {},
   "source": [
    "# 2.  Employee Management Create a class representing an employee with attributes like employee ID, name, and salary. Implement methods to calculate the yearly bonus and display employee details."
   ]
  },
  {
   "cell_type": "code",
   "execution_count": 4,
   "id": "f6eadc46",
   "metadata": {},
   "outputs": [],
   "source": [
    "# create class of employee and using __init__ method define attributes\n",
    "class employee:\n",
    "    def __init__(self,emp_id,name,salary):\n",
    "        self.emp_id = emp_id\n",
    "        self.name = name\n",
    "        self.salary = salary\n",
    "        \n",
    "# define function for calcualte yearly bonus      \n",
    "    def yearly_bonus(self,bonus_percentage):\n",
    "        bonus = (bonus_percentage/100)*self.salary\n",
    "        print(\"Yearly Bonus is: \",bonus)\n",
    "        \n",
    "#  display employee details\n",
    "    def display_details(self):\n",
    "        \n",
    "        print(\"Employee ID of Employee is: \",self.emp_id)\n",
    "        print(\"Employee name is: \",self.name)\n",
    "        print(\"Salary of employee is: \",self.salary)"
   ]
  },
  {
   "cell_type": "code",
   "execution_count": 6,
   "id": "e2353bf9",
   "metadata": {},
   "outputs": [],
   "source": [
    "employee1 = employee('1234','vijay',50000)"
   ]
  },
  {
   "cell_type": "code",
   "execution_count": 7,
   "id": "e8a9ae73",
   "metadata": {},
   "outputs": [
    {
     "name": "stdout",
     "output_type": "stream",
     "text": [
      "Employee ID of Employee is:  1234\n",
      "Employee name is:  vijay\n",
      "Salary of employee is:  50000\n"
     ]
    }
   ],
   "source": [
    "employee1.display_details()"
   ]
  },
  {
   "cell_type": "code",
   "execution_count": 8,
   "id": "53ae5dd2",
   "metadata": {},
   "outputs": [
    {
     "name": "stdout",
     "output_type": "stream",
     "text": [
      "Yearly Bonus is:  5000.0\n"
     ]
    }
   ],
   "source": [
    "employee1.yearly_bonus(10)"
   ]
  },
  {
   "cell_type": "code",
   "execution_count": 10,
   "id": "a166956c",
   "metadata": {},
   "outputs": [
    {
     "data": {
      "text/plain": [
       "'vijay'"
      ]
     },
     "execution_count": 10,
     "metadata": {},
     "output_type": "execute_result"
    }
   ],
   "source": [
    "employee1.name"
   ]
  },
  {
   "cell_type": "markdown",
   "id": "3c1651d4",
   "metadata": {},
   "source": [
    "Explanation:\n",
    "1. We define a employee class with an __init__ method to initialize the employee's attributes: employee_id, name, and salary.\n",
    "2. The yearly_bonus method takes a bonus_percentage as input and calculates the yearly bonus based on the employee's\n",
    "   salary. It returns the calculated bonus.\n",
    "3. The display_details method is used to print the employee's details, including their ID, name, and salary.\n",
    "4. In the example usage, we create an employee object (employee1), calculate a yearly bonus of 10%, and then display the\n",
    "   employee details along with the calculated bonus."
   ]
  },
  {
   "cell_type": "markdown",
   "id": "7e0e8de8",
   "metadata": {},
   "source": [
    "# 3. Vehicle Rental Create a class representing a vehicle rental system. Implement methods to rent a vehicle, return a vehicle, and display available vehicles."
   ]
  },
  {
   "cell_type": "code",
   "execution_count": 25,
   "id": "608cb678",
   "metadata": {},
   "outputs": [
    {
     "name": "stdout",
     "output_type": "stream",
     "text": [
      "Available Vehicles:\n",
      "Vehicle ID: V1, Type: Car\n",
      "Vehicle ID: V2, Type: Bike\n",
      "Vehicle ID: V3, Type: Scooter\n",
      "John has rented a Car.\n",
      "Available Vehicles:\n",
      "Vehicle ID: V2, Type: Bike\n",
      "Vehicle ID: V3, Type: Scooter\n",
      "John has returned the Car.\n",
      "Available Vehicles:\n",
      "Vehicle ID: V2, Type: Bike\n",
      "Vehicle ID: V3, Type: Scooter\n",
      "Vehicle ID: V1, Type: Car\n"
     ]
    }
   ],
   "source": [
    "class VehicleRentalSystem:\n",
    "    def __init__(self):\n",
    "        self.available_vehicles = {}\n",
    "        self.rented_vehicles = {}\n",
    "\n",
    "    def add_vehicle(self, vehicle_id, vehicle_type):\n",
    "        self.available_vehicles[vehicle_id] = vehicle_type\n",
    "\n",
    "    def rent_vehicle(self, vehicle_id, customer_name):\n",
    "        if vehicle_id in self.available_vehicles:\n",
    "            vehicle_type = self.available_vehicles.pop(vehicle_id)\n",
    "            self.rented_vehicles[vehicle_id] = (customer_name, vehicle_type)\n",
    "            print(f\"{customer_name} has rented a {vehicle_type}.\")\n",
    "        else:\n",
    "            print(\"Vehicle not available for rent.\")\n",
    "\n",
    "    def return_vehicle(self, vehicle_id):\n",
    "        if vehicle_id in self.rented_vehicles:\n",
    "            customer_name, vehicle_type = self.rented_vehicles.pop(vehicle_id)\n",
    "            self.available_vehicles[vehicle_id] = vehicle_type\n",
    "            print(f\"{customer_name} has returned the {vehicle_type}.\")\n",
    "        else:\n",
    "            print(\"Vehicle ID not found in rented vehicles.\")\n",
    "\n",
    "    def display_available_vehicles(self):\n",
    "        print(\"Available Vehicles:\")\n",
    "        for vehicle_id, vehicle_type in self.available_vehicles.items():\n",
    "            print(f\"Vehicle ID: {vehicle_id}, Type: {vehicle_type}\")\n",
    "\n",
    "# Example usage:\n",
    "rental_system = VehicleRentalSystem()\n",
    "\n",
    "# Add vehicles to the system\n",
    "rental_system.add_vehicle(\"V1\", \"Car\")\n",
    "rental_system.add_vehicle(\"V2\", \"Bike\")\n",
    "rental_system.add_vehicle(\"V3\", \"Scooter\")\n",
    "\n",
    "# Display available vehicles\n",
    "rental_system.display_available_vehicles()\n",
    "\n",
    "# Rent a vehicle\n",
    "rental_system.rent_vehicle(\"V1\", \"John\")\n",
    "\n",
    "# Display available vehicles after renting\n",
    "rental_system.display_available_vehicles()\n",
    "\n",
    "# Return a vehicle\n",
    "rental_system.return_vehicle(\"V1\")\n",
    "\n",
    "# Display available vehicles after returning\n",
    "rental_system.display_available_vehicles()\n"
   ]
  },
  {
   "cell_type": "markdown",
   "id": "f2849a6f",
   "metadata": {},
   "source": [
    "Explanation:\n",
    "1. We define a VehicleRentalSystem class with an __init__ method to initialize the available and rented vehicles as \n",
    "   dictionaries.\n",
    "2. The add_vehicle method allows you to add vehicles to the available vehicles list.\n",
    "3. The rent_vehicle method lets a customer rent a vehicle by moving it from the available list to the rented list.\n",
    "4. The return_vehicle method allows a customer to return a rented vehicle, moving it from the rented list back to the available    list.\n",
    "\n",
    "5. The display_available_vehicles method displays the currently available vehicles.\n"
   ]
  },
  {
   "cell_type": "markdown",
   "id": "fa98e397",
   "metadata": {},
   "source": [
    "# 4. Library Catalog Create classes representing a library and a book. Implement methods to add books to the library, borrow books, and display available books."
   ]
  },
  {
   "cell_type": "code",
   "execution_count": 1,
   "id": "48cbee6d",
   "metadata": {},
   "outputs": [],
   "source": [
    "class Book:\n",
    "    def __init__(self, title, author):\n",
    "        self.title = title\n",
    "        self.author = author\n",
    "        self.available = True\n",
    "\n",
    "    def __str__(self):\n",
    "        return f\"Title: {self.title}, Author: {self.author}, Available: {self.available}\"\n",
    "\n",
    "    def borrow(self):\n",
    "        if self.available:\n",
    "            self.available = False\n",
    "            return True\n",
    "        else:\n",
    "            return False\n",
    "\n",
    "    def return_book(self):\n",
    "        if not self.available:\n",
    "            self.available = True\n",
    "            return True\n",
    "        else:\n",
    "            return False\n",
    "\n",
    "class Library:\n",
    "    def __init__(self):\n",
    "        self.books = []\n",
    "\n",
    "    def add_book(self, title, author):\n",
    "        book = Book(title, author)\n",
    "        self.books.append(book)\n",
    "\n",
    "    def display_available_books(self):\n",
    "        available_books = [book for book in self.books if book.available]\n",
    "        if available_books:\n",
    "            for book in available_books:\n",
    "                print(book)\n",
    "        else:\n",
    "            print(\"No books available in the library.\")\n",
    "\n"
   ]
  },
  {
   "cell_type": "code",
   "execution_count": 2,
   "id": "311c283f",
   "metadata": {},
   "outputs": [],
   "source": [
    "Library1 = Library()"
   ]
  },
  {
   "cell_type": "code",
   "execution_count": 3,
   "id": "d0f08db3",
   "metadata": {},
   "outputs": [],
   "source": [
    "Library1.add_book(\"The man\",\"vijay\")"
   ]
  },
  {
   "cell_type": "code",
   "execution_count": 4,
   "id": "eb38da17",
   "metadata": {},
   "outputs": [
    {
     "name": "stdout",
     "output_type": "stream",
     "text": [
      "Title: The man, Author: vijay, Available: True\n"
     ]
    }
   ],
   "source": [
    "Library1.display_available_books()"
   ]
  },
  {
   "cell_type": "code",
   "execution_count": 5,
   "id": "bd3fe79f",
   "metadata": {},
   "outputs": [],
   "source": [
    "Library1.add_book(\"Ramayana\",\"Valmiki\")\n",
    "Library1.add_book(\"Mahabharat\",\"Krishna\")"
   ]
  },
  {
   "cell_type": "code",
   "execution_count": 6,
   "id": "4ea4f0e6",
   "metadata": {},
   "outputs": [
    {
     "name": "stdout",
     "output_type": "stream",
     "text": [
      "Title: The man, Author: vijay, Available: True\n",
      "Title: Ramayana, Author: Valmiki, Available: True\n",
      "Title: Mahabharat, Author: Krishna, Available: True\n"
     ]
    }
   ],
   "source": [
    "Library1.display_available_books()"
   ]
  },
  {
   "cell_type": "code",
   "execution_count": 8,
   "id": "e6dd10ab",
   "metadata": {},
   "outputs": [
    {
     "data": {
      "text/plain": [
       "[<__main__.Book at 0x262e8f46250>,\n",
       " <__main__.Book at 0x262e91c7f90>,\n",
       " <__main__.Book at 0x262e91d2710>]"
      ]
     },
     "execution_count": 8,
     "metadata": {},
     "output_type": "execute_result"
    }
   ],
   "source": [
    "Library1.books"
   ]
  },
  {
   "cell_type": "code",
   "execution_count": 10,
   "id": "6068826b",
   "metadata": {},
   "outputs": [],
   "source": [
    "borrow1 = Library1.books[0]"
   ]
  },
  {
   "cell_type": "code",
   "execution_count": 13,
   "id": "9baf26ee",
   "metadata": {},
   "outputs": [
    {
     "data": {
      "text/plain": [
       "True"
      ]
     },
     "execution_count": 13,
     "metadata": {},
     "output_type": "execute_result"
    }
   ],
   "source": [
    "borrow1.borrow()"
   ]
  },
  {
   "cell_type": "code",
   "execution_count": 14,
   "id": "a993a980",
   "metadata": {},
   "outputs": [
    {
     "name": "stdout",
     "output_type": "stream",
     "text": [
      "Title: Ramayana, Author: Valmiki, Available: True\n",
      "Title: Mahabharat, Author: Krishna, Available: True\n"
     ]
    }
   ],
   "source": [
    "Library1.display_available_books()"
   ]
  },
  {
   "cell_type": "code",
   "execution_count": 16,
   "id": "05e86172",
   "metadata": {},
   "outputs": [
    {
     "data": {
      "text/plain": [
       "True"
      ]
     },
     "execution_count": 16,
     "metadata": {},
     "output_type": "execute_result"
    }
   ],
   "source": [
    "borrow1.return_book()"
   ]
  },
  {
   "cell_type": "code",
   "execution_count": 17,
   "id": "1e314b6f",
   "metadata": {},
   "outputs": [
    {
     "name": "stdout",
     "output_type": "stream",
     "text": [
      "Title: The man, Author: vijay, Available: True\n",
      "Title: Ramayana, Author: Valmiki, Available: True\n",
      "Title: Mahabharat, Author: Krishna, Available: True\n"
     ]
    }
   ],
   "source": [
    "Library1.display_available_books()"
   ]
  },
  {
   "cell_type": "markdown",
   "id": "957759a2",
   "metadata": {},
   "source": [
    "Explanation:\n",
    "1. we have two classes: Book and Library. \n",
    "2. The Book class represents individual books, and the Library class manages a collection of books. \n",
    "3. The Book class has methods for borrowing and returning books, while the Library class allows you to add books to the library\n",
    "   and display the available books."
   ]
  },
  {
   "cell_type": "markdown",
   "id": "17eb3ba8",
   "metadata": {},
   "source": [
    "# 5.  Product Inventory Create classes representing a product and an inventory system. Implement methods to add products to the inventory, update product quantity, and display available products.\n"
   ]
  },
  {
   "cell_type": "code",
   "execution_count": 21,
   "id": "edec7ab6",
   "metadata": {},
   "outputs": [],
   "source": [
    "# create product class with use inbuild function that pass variable as object\n",
    "class Product:\n",
    "    def __init__(self, product_id, name, price, quantity):\n",
    "        self.product_id = product_id\n",
    "        self.name = name\n",
    "        self.price = price\n",
    "        self.quantity = quantity\n",
    "# define function to return product\n",
    "    def __str__(self):\n",
    "        return f\"Product ID: {self.product_id}, Name: {self.name}, Price: {self.price}, Quantity: {self.quantity}\"\n",
    "\n",
    "# again create inventory class that is passing another Product class\n",
    "class Inventory(Product):\n",
    "    def __init__(self):\n",
    "        self.products = []\n",
    "\n",
    "#  function for add product\n",
    "    def add_product(self, product_id, name, price, quantity):\n",
    "        product = Product(product_id, name, price, quantity)\n",
    "        self.products.append(product)\n",
    "# function for update quantity\n",
    "    def update_quantity(self, product_id, new_quantity):\n",
    "        for product in self.products:\n",
    "            if product.product_id == product_id:\n",
    "                product.quantity = new_quantity\n",
    "                return True\n",
    "        return False\n",
    "\n",
    "    \n",
    "# finally display available product\n",
    "    def display_available_products(self):\n",
    "        available_products = [product for product in self.products if product.quantity > 0]\n",
    "        if available_products:\n",
    "            for product in available_products:\n",
    "                print(product)\n",
    "        else:\n",
    "            print(\"No available products in the inventory.\")\n",
    "\n"
   ]
  },
  {
   "cell_type": "code",
   "execution_count": 25,
   "id": "7f77a06e",
   "metadata": {},
   "outputs": [],
   "source": [
    "system1 = Inventory()"
   ]
  },
  {
   "cell_type": "code",
   "execution_count": 27,
   "id": "64378a29",
   "metadata": {},
   "outputs": [],
   "source": [
    "system1.add_product(1,\"computer chip\",200,100)\n",
    "system1.add_product(2,\"software\",500,50)\n",
    "system1.add_product(3, \"iPhone\",50000,100)\n",
    "system1.add_product(4,\"IQNeo7\",40000,50)"
   ]
  },
  {
   "cell_type": "code",
   "execution_count": 28,
   "id": "2efaa1b1",
   "metadata": {},
   "outputs": [
    {
     "name": "stdout",
     "output_type": "stream",
     "text": [
      "Product ID: 1, Name: computer chip, Price: 200, Quantity: 100\n",
      "Product ID: 1, Name: computer chip, Price: 200, Quantity: 100\n",
      "Product ID: 2, Name: software, Price: 500, Quantity: 50\n",
      "Product ID: 3, Name: iPhone, Price: 50000, Quantity: 100\n",
      "Product ID: 4, Name: IQNeo7, Price: 40000, Quantity: 50\n"
     ]
    }
   ],
   "source": [
    "system1.display_available_products()"
   ]
  },
  {
   "cell_type": "markdown",
   "id": "df19b6e9",
   "metadata": {},
   "source": [
    "Explanation:\n",
    "1. create product class with use inbuild function that pass variable as object\n",
    "2. define function to return product\n",
    "3. again create inventory class that is passing another Product class\n",
    "4. function for add product\n",
    "5. function for update quantity\n",
    "6. finally display available product"
   ]
  },
  {
   "cell_type": "markdown",
   "id": "89c84433",
   "metadata": {},
   "source": [
    "# 6. Shape Calculation Create a class representing a shape with attributes like length, width, and height. Implement methods to calculate the area and perimeter of the shape."
   ]
  },
  {
   "cell_type": "code",
   "execution_count": 37,
   "id": "bfbc7c23",
   "metadata": {},
   "outputs": [
    {
     "name": "stdout",
     "output_type": "stream",
     "text": [
      "Rectangle Area: 20\n",
      "Rectangle Perimeter: 18\n",
      "Triangle Area: 6.0\n",
      "Triangle Perimeter: 12\n"
     ]
    }
   ],
   "source": [
    "class Shape:\n",
    "# Initialize the shape with its dimensions.\n",
    "    def __init__(self, length=0, width=0, height=0):\n",
    "       \n",
    "        self.length = length\n",
    "        self.width = width\n",
    "        self.height = height\n",
    "\n",
    "# Calculate and return the area of the shape.       \n",
    "    def calculate_area(self):       \n",
    "        raise NotImplementedError(\"Subclasses must implement this method.\")\n",
    "\n",
    "    def calculate_perimeter(self):\n",
    "# Calculate and return the perimeter of the shape.\n",
    "        raise NotImplementedError(\"Subclasses must implement this method.\")\n",
    "\n",
    "class Rectangle(Shape):\n",
    "    def calculate_area(self):\n",
    "# Calculate and return the area of a rectangle.\n",
    "        return self.length * self.width\n",
    "\n",
    "    def calculate_perimeter(self):\n",
    "# Calculate and return the perimeter of a rectangle.\n",
    "        return 2 * (self.length + self.width)\n",
    "\n",
    "class Triangle(Shape):\n",
    "    def calculate_area(self):\n",
    "# Calculate and return the area of a triangle.\n",
    "        # Using Heron's formula to calculate the area of a triangle\n",
    "        s = (self.length + self.width + self.height) / 2\n",
    "        area = (s * (s - self.length) * (s - self.width) * (s - self.height)) ** 0.5\n",
    "        return area\n",
    "\n",
    "    def calculate_perimeter(self):\n",
    "# Calculate and return the perimeter of a triangle.\n",
    "        return self.length + self.width + self.height\n",
    "\n",
    "# Example usage:\n",
    "rectangle = Rectangle(5, 4)\n",
    "triangle = Triangle(3, 4, 5)\n",
    "\n",
    "# Calculate and print the area and perimeter of the rectangle\n",
    "print(\"Rectangle Area:\", rectangle.calculate_area())\n",
    "print(\"Rectangle Perimeter:\", rectangle.calculate_perimeter())\n",
    "\n",
    "# Calculate and print the area and perimeter of the triangle\n",
    "print(\"Triangle Area:\", triangle.calculate_area())\n",
    "print(\"Triangle Perimeter:\", triangle.calculate_perimeter())\n"
   ]
  },
  {
   "cell_type": "markdown",
   "id": "949cec29",
   "metadata": {},
   "source": [
    "# 7. Student Management Create a class representing a student with attributes like student ID, name, and grades. Implement methods to calculate the average grade and display student details."
   ]
  },
  {
   "cell_type": "code",
   "execution_count": 38,
   "id": "10aae059",
   "metadata": {},
   "outputs": [
    {
     "name": "stdout",
     "output_type": "stream",
     "text": [
      "Student ID: S12345\n",
      "Name: Alice\n",
      "Average Grade: 89.0\n",
      "Student ID: S67890\n",
      "Name: Bob\n",
      "Average Grade: 80.33333333333333\n"
     ]
    }
   ],
   "source": [
    "class Student:\n",
    "    \n",
    "#  Initialize a student with a student ID and a name.\n",
    "    def __init__(self, student_id, name):\n",
    "        \n",
    "     \n",
    "        self.student_id = student_id\n",
    "        self.name = name\n",
    "        self.grades = []  # Initialize an empty list to store grades.\n",
    "\n",
    "        \n",
    "# Add a grade to the student's record.\n",
    "    def add_grade(self, grade):\n",
    "       \n",
    "        self.grades.append(grade)\n",
    "\n",
    "#  Calculate and return the average grade of the student.\n",
    "    def calculate_average_grade(self):\n",
    "        \n",
    "        if not self.grades:\n",
    "            return 0  # If no grades are available, return 0 to avoid division by zero.\n",
    "        total = sum(self.grades)\n",
    "        average = total / len(self.grades)\n",
    "        return average\n",
    "\n",
    "# Display the student's details, including student ID, name, and average grade.    \n",
    "    def display_details(self):\n",
    "        print(\"Student ID:\", self.student_id)\n",
    "        print(\"Name:\", self.name)\n",
    "        print(\"Average Grade:\", self.calculate_average_grade())\n",
    "\n",
    "# Example usage:\n",
    "student1 = Student(\"S12345\", \"Alice\")\n",
    "student1.add_grade(90)\n",
    "student1.add_grade(85)\n",
    "student1.add_grade(92)\n",
    "\n",
    "student2 = Student(\"S67890\", \"Bob\")\n",
    "student2.add_grade(78)\n",
    "student2.add_grade(88)\n",
    "student2.add_grade(75)\n",
    "\n",
    "# Display student details\n",
    "student1.display_details()\n",
    "student2.display_details()\n"
   ]
  },
  {
   "cell_type": "markdown",
   "id": "50a15270",
   "metadata": {},
   "source": [
    "Explanation:\n",
    "1. we have a Student class with methods to add grades, calculate the average grade, and display the student's details.\n",
    "2. we can create instances of the Student class, add grades for each student, and then display their details, including student\n",
    "   ID, name, and average grade."
   ]
  },
  {
   "cell_type": "markdown",
   "id": "422def9a",
   "metadata": {},
   "source": [
    "# 8. Email Management Create a class representing an email with attributes like sender, recipient, and subject. Implement methods to send an email and display email details."
   ]
  },
  {
   "cell_type": "code",
   "execution_count": 42,
   "id": "ea048082",
   "metadata": {},
   "outputs": [
    {
     "name": "stdout",
     "output_type": "stream",
     "text": [
      "Email Sent:\n",
      "Sender: user@example.com\n",
      "Recipient: recipient@example.com\n",
      "Subject: Important Update\n",
      "Body: Dear recipient, this is an important update.\n",
      "Email not sent. Please compose the email first.\n"
     ]
    }
   ],
   "source": [
    "class Email:\n",
    "    \n",
    "# Initialize an email with sender, recipient, and subject.\n",
    "    def __init__(self, sender, recipient, subject):\n",
    "        self.sender = sender\n",
    "        self.recipient = recipient\n",
    "        self.subject = subject\n",
    "        self.body = None\n",
    "\n",
    "# Compose the body of the email.\n",
    "    def compose(self, body):\n",
    "        self.body = body\n",
    "\n",
    "# Send the email.      \n",
    "    def send(self):\n",
    "        if self.body is not None:\n",
    "            print(\"Email Sent:\")\n",
    "            print(\"Sender:\", self.sender)\n",
    "            print(\"Recipient:\", self.recipient)\n",
    "            print(\"Subject:\", self.subject)\n",
    "            print(\"Body:\", self.body)\n",
    "        else:\n",
    "            print(\"Email not sent. Please compose the email first.\")\n",
    "\n",
    "# Example usage:\n",
    "email = Email(\"user@example.com\", \"recipient@example.com\", \"Important Update\")\n",
    "\n",
    "# Compose the email body\n",
    "email.compose(\"Dear recipient, this is an important update.\")\n",
    "\n",
    "# Send the email\n",
    "email.send()\n",
    "\n",
    "# Try to send an email without composing it first\n",
    "email2 = Email(\"user@example.com\", \"another@example.com\", \"Hello\")\n",
    "email2.send()\n"
   ]
  },
  {
   "cell_type": "markdown",
   "id": "257bbeb4",
   "metadata": {},
   "source": [
    "# 9. Social Media Profile Create a class representing a social media profile with attributes like username and posts. Implement methods to add posts, display posts, and search for posts by keyword."
   ]
  },
  {
   "cell_type": "code",
   "execution_count": 43,
   "id": "30d1bec1",
   "metadata": {},
   "outputs": [],
   "source": [
    "class SocialMediaProfile:\n",
    "    \n",
    "# Initialize a social media profile with a username and an empty list of posts.\n",
    "    def __init__(self, username):\n",
    "        self.username = username\n",
    "        self.posts = []\n",
    "\n",
    "# Add a post to the profile.\n",
    "    def add_post(self, text):\n",
    "        self.posts.append(text)\n",
    "\n",
    "#  Display all the posts on the profile.\n",
    "    def display_posts(self):\n",
    "        if self.posts:\n",
    "            print(f\"Posts by {self.username}:\")\n",
    "            for post in self.posts:\n",
    "                print(post)\n",
    "        else:\n",
    "            print(f\"{self.username} has no posts yet.\")\n",
    "\n",
    "# Search for posts containing a specific keyword and display the matching posts.\n",
    "    def search_posts(self, keyword):\n",
    "        matching_posts = [post for post in self.posts if keyword in post]\n",
    "        if matching_posts:\n",
    "            print(f\"Posts by {self.username} containing '{keyword}':\")\n",
    "            for post in matching_posts:\n",
    "                print(post)\n",
    "        else:\n",
    "            print(f\"No posts by {self.username} contain '{keyword}'.\")\n",
    "\n"
   ]
  },
  {
   "cell_type": "code",
   "execution_count": 45,
   "id": "63cdc8f0",
   "metadata": {},
   "outputs": [],
   "source": [
    "user1 = SocialMediaProfile(\"vijay786\")"
   ]
  },
  {
   "cell_type": "code",
   "execution_count": 47,
   "id": "28ec0e1b",
   "metadata": {},
   "outputs": [],
   "source": [
    "user1.add_post(\"Happy Diwali\")\n",
    "user1.add_post(\"Today indian economy is lower then other country\")\n",
    "user1.add_post(\"Now total population of india is 140cr\")"
   ]
  },
  {
   "cell_type": "code",
   "execution_count": 48,
   "id": "260c6487",
   "metadata": {},
   "outputs": [
    {
     "name": "stdout",
     "output_type": "stream",
     "text": [
      "Posts by vijay786:\n",
      "Happy Diwali\n",
      "Today indian economy is lower then other country\n",
      "Happy Diwali\n",
      "Today indian economy is lower then other country\n",
      "Now total population of india is 140cr\n"
     ]
    }
   ],
   "source": [
    "user1.display_posts()"
   ]
  },
  {
   "cell_type": "code",
   "execution_count": 50,
   "id": "e61f7a87",
   "metadata": {},
   "outputs": [
    {
     "data": {
      "text/plain": [
       "['Happy Diwali',\n",
       " 'Today indian economy is lower then other country',\n",
       " 'Happy Diwali',\n",
       " 'Today indian economy is lower then other country',\n",
       " 'Now total population of india is 140cr']"
      ]
     },
     "execution_count": 50,
     "metadata": {},
     "output_type": "execute_result"
    }
   ],
   "source": [
    "user1.posts"
   ]
  },
  {
   "cell_type": "code",
   "execution_count": 51,
   "id": "7ce37fe0",
   "metadata": {},
   "outputs": [
    {
     "name": "stdout",
     "output_type": "stream",
     "text": [
      "Posts by vijay786 containing 'country':\n",
      "Today indian economy is lower then other country\n",
      "Today indian economy is lower then other country\n"
     ]
    }
   ],
   "source": [
    "user1.search_posts(\"country\")"
   ]
  },
  {
   "cell_type": "code",
   "execution_count": 53,
   "id": "10a522d2",
   "metadata": {},
   "outputs": [
    {
     "data": {
      "text/plain": [
       "'vijay786'"
      ]
     },
     "execution_count": 53,
     "metadata": {},
     "output_type": "execute_result"
    }
   ],
   "source": [
    "user1.username"
   ]
  },
  {
   "cell_type": "markdown",
   "id": "311750ca",
   "metadata": {},
   "source": [
    "Explanation:\n",
    "1. we have a SocialMediaProfile class with methods to add posts, display posts, and search for posts by a keyword.\n",
    "2. You can create an instance of the class, add posts to the profile, and then display all posts or search for posts containing\n",
    "   specific keywords."
   ]
  },
  {
   "cell_type": "markdown",
   "id": "8c429d16",
   "metadata": {},
   "source": [
    "# 10. ToDo List Create a class representing a ToDo list with attributes like tasks and due dates. Implement methods to add tasks, mark tasks as completed, and display pending tasks."
   ]
  },
  {
   "cell_type": "code",
   "execution_count": 54,
   "id": "9ab1f9bd",
   "metadata": {},
   "outputs": [],
   "source": [
    "class ToDoList:\n",
    "    \n",
    "# Initialize a ToDo list with an empty list of tasks.\n",
    "    def __init__(self):\n",
    "        self.tasks = []\n",
    "\n",
    "# Add a task to the ToDo list with a due date.\n",
    "    def add_task(self, task, due_date):\n",
    "        self.tasks.append({\"task\": task, \"due_date\": due_date, \"completed\": False})\n",
    "\n",
    "# Mark a task as completed.\n",
    "    def mark_as_completed(self, task_name):\n",
    "        for task in self.tasks:\n",
    "            if task[\"task\"] == task_name:\n",
    "                task[\"completed\"] = True\n",
    "        return\n",
    "\n",
    "# Display pending tasks in the ToDo list.\n",
    "    def display_pending_tasks(self):\n",
    "        pending_tasks = [task for task in self.tasks if not task[\"completed\"]]\n",
    "        if pending_tasks:\n",
    "            print(\"Pending Tasks:\")\n",
    "            for task in pending_tasks:\n",
    "                print(f\"Task: {task['task']}, Due Date: {task['due_date']}\")\n",
    "        else:\n",
    "            print(\"No pending tasks in the ToDo list.\")\n"
   ]
  },
  {
   "cell_type": "code",
   "execution_count": 55,
   "id": "f10d3581",
   "metadata": {},
   "outputs": [],
   "source": [
    "list1 = ToDoList()"
   ]
  },
  {
   "cell_type": "code",
   "execution_count": 60,
   "id": "07f73cb5",
   "metadata": {},
   "outputs": [],
   "source": [
    "list1.add_task(\"Submit Assignment\",\"05-11-23\")\n",
    "list1.add_task(\"Submit Quize\",\"10-11-23\")\n",
    "list1.add_task(\"Travelling time\",\"12-12-23\")"
   ]
  },
  {
   "cell_type": "code",
   "execution_count": 62,
   "id": "7ba9f142",
   "metadata": {},
   "outputs": [],
   "source": [
    "list1.mark_as_completed(\"Submit Quize\")"
   ]
  },
  {
   "cell_type": "code",
   "execution_count": 63,
   "id": "7870111a",
   "metadata": {},
   "outputs": [
    {
     "name": "stdout",
     "output_type": "stream",
     "text": [
      "Pending Tasks:\n",
      "Task: Submit Assignment, Due Date: 05-11-23\n",
      "Task: Travelling time, Due Date: 12-12-23\n",
      "Task: Submit Assignment, Due Date: 05-11-23\n",
      "Task: Travelling time, Due Date: 12-12-23\n"
     ]
    }
   ],
   "source": [
    "list1.display_pending_tasks()"
   ]
  },
  {
   "cell_type": "markdown",
   "id": "02fa4f67",
   "metadata": {},
   "source": [
    "Explanation:\n",
    "1. Initialize a ToDo list with an empty list of tasks.\n",
    "2. Add a task to the ToDo list with a due date.\n",
    "3. Mark a task as completed.\n",
    "4. Display pending tasks in the ToDo list."
   ]
  }
 ],
 "metadata": {
  "kernelspec": {
   "display_name": "Python 3 (ipykernel)",
   "language": "python",
   "name": "python3"
  },
  "language_info": {
   "codemirror_mode": {
    "name": "ipython",
    "version": 3
   },
   "file_extension": ".py",
   "mimetype": "text/x-python",
   "name": "python",
   "nbconvert_exporter": "python",
   "pygments_lexer": "ipython3",
   "version": "3.11.4"
  }
 },
 "nbformat": 4,
 "nbformat_minor": 5
}
