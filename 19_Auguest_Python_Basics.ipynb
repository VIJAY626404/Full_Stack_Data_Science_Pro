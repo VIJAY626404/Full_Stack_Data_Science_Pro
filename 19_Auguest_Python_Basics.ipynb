{
 "cells": [
  {
   "cell_type": "markdown",
   "id": "4b7e46e9",
   "metadata": {},
   "source": [
    "# Python Basic Variables"
   ]
  },
  {
   "cell_type": "markdown",
   "id": "ee6446f9",
   "metadata": {},
   "source": [
    "# 1. Declare two variables, `x` and `y`, and assign them integer values. Swap the   values of these variables without using any temporary variable"
   ]
  },
  {
   "cell_type": "code",
   "execution_count": 3,
   "id": "0dd7e71a",
   "metadata": {
    "scrolled": true
   },
   "outputs": [
    {
     "name": "stdout",
     "output_type": "stream",
     "text": [
      "Befor swap value of x is: 10 and value of y is: 20\n",
      "After swap value of x is: 20 and value of y is: 10\n"
     ]
    }
   ],
   "source": [
    "# step 1: declare and initialize value of variable\n",
    "x = 10\n",
    "y = 20\n",
    "\n",
    "# step 2: create function for swap variables\n",
    "\n",
    "def swap_integer(x,y) :\n",
    "    print(f\"Befor swap value of x is: {x} and value of y is: {y}\")\n",
    "    x,y = y,x\n",
    "    print(f\"After swap value of x is: {x} and value of y is: {y}\")\n",
    "swap_integer(x,y)"
   ]
  },
  {
   "cell_type": "markdown",
   "id": "ff22e0b2",
   "metadata": {},
   "source": [
    "Explanation:\n",
    "1. x = 10 , initialize the value of first variable x.\n",
    "2. y = 20 , initialize the value of second variable y.\n",
    "3. def swap_integer(x,y): a function for swap variable which take two variables.\n",
    "4. print(f\"Befor swap value of x is: {x} and value of y is: {y}\"): print the value variable befor swapping.\n",
    "5. x , y = y, x : this is used to swap to variable x and y.\n",
    "6. print(f\"Befor swap value of x is: {x} and value of y is: {y}\"): print the value of variable after swapping.\n",
    "7. swap_integer(x,y): for passing the argument this function is call again.\n",
    "\n"
   ]
  },
  {
   "cell_type": "markdown",
   "id": "4de649cc",
   "metadata": {},
   "source": [
    "# 2. Create a program that calculates the area of a rectangle. Take the length and width as inputs from the user and store them in variables. Calculate and display the area."
   ]
  },
  {
   "cell_type": "code",
   "execution_count": 4,
   "id": "5382cafa",
   "metadata": {},
   "outputs": [
    {
     "name": "stdout",
     "output_type": "stream",
     "text": [
      "Enter the value of length of rectangle: 8\n",
      "Enter the value of width of rectangle: 5\n",
      "Area of rectangle is: 40\n"
     ]
    }
   ],
   "source": [
    "# step1: take input from the user\n",
    "\n",
    "length = int(input(\"Enter the value of length of rectangle: \"))\n",
    "width = int(input(\"Enter the value of width of rectangle: \"))\n",
    "\n",
    "# calculate the area of rectangle using formula\n",
    "area = length*width\n",
    "\n",
    "# display the calculated area of rectangle\n",
    "print(\"Area of rectangle is:\",area)"
   ]
  },
  {
   "cell_type": "markdown",
   "id": "5736e0a5",
   "metadata": {},
   "source": [
    "Explanation:\n",
    "1. take input from the user and use input() function\n",
    "2. calculate the area of rectangle using formula of area of rectangle\n",
    "3. print(\"Area of rectangle is:\",area) : display the area of rectangle using print()\n",
    "\n"
   ]
  },
  {
   "cell_type": "markdown",
   "id": "f20d7665",
   "metadata": {},
   "source": [
    "#  3. Write a Python program that converts temperatures from Celsius to Fahrenheit. Take the temperature in Celsius as input, store it in a variable, convert it to Fahrenheit, and display the result"
   ]
  },
  {
   "cell_type": "code",
   "execution_count": 5,
   "id": "e2a5eba6",
   "metadata": {},
   "outputs": [
    {
     "name": "stdout",
     "output_type": "stream",
     "text": [
      "Enter the value of celsius temperature: 100\n",
      "100.0 Celsius is equal to 212.00 Fahrenheit\n"
     ]
    }
   ],
   "source": [
    "# take input from the user to take celsius temperature value\n",
    "celsius_value = float(input(\"Enter the value of celsius temperature: \")) \n",
    "\n",
    "# convert celsius to fahrenheit using formula\n",
    "fahrenheit_value = (celsius_value * 9/5) + 32\n",
    "\n",
    "# display value after converstion\n",
    "print(f\"{celsius_value} Celsius is equal to {fahrenheit_value:.2f} Fahrenheit\")\n"
   ]
  },
  {
   "cell_type": "markdown",
   "id": "1bb0fae2",
   "metadata": {},
   "source": [
    "Explanation:\n",
    "1. first we can take input value of celsius temperature from the user \n",
    "2. we can convert value from celsius to fahrenheit using formula , celsius/5 = (fahrenheit-32)/9\n",
    "3. after the convert value we can dispaly the value using print()"
   ]
  },
  {
   "cell_type": "markdown",
   "id": "89d0b6db",
   "metadata": {},
   "source": [
    "#  String Based Questions"
   ]
  },
  {
   "cell_type": "markdown",
   "id": "ef60bb86",
   "metadata": {},
   "source": [
    "# 1.  Write a Python program that takes a string as input and prints the length of the string"
   ]
  },
  {
   "cell_type": "code",
   "execution_count": 6,
   "id": "479e3e5a",
   "metadata": {},
   "outputs": [
    {
     "name": "stdout",
     "output_type": "stream",
     "text": [
      "Enter your string name:vijaykumarshah\n",
      "Length of given string is: 14\n"
     ]
    }
   ],
   "source": [
    "# step1: take input as a string from the user\n",
    "s1 = str(input(\"Enter your string name:\"))\n",
    "\n",
    "# print the value length using len() function\n",
    "print(f\"Length of given string is:\",len(s1))"
   ]
  },
  {
   "cell_type": "markdown",
   "id": "dc1899b5",
   "metadata": {},
   "source": [
    "1. we can take input as a string from the user and for input string we can use input() function.\n",
    "2. after take take input find length of string using len() function and dispaly it using print() function"
   ]
  },
  {
   "cell_type": "markdown",
   "id": "b1be3135",
   "metadata": {},
   "source": [
    "# 2. Create a program that takes a sentence from the user and counts the number of vowels (a, e, i, o, u) in the string"
   ]
  },
  {
   "cell_type": "code",
   "execution_count": 16,
   "id": "b373cf56",
   "metadata": {},
   "outputs": [
    {
     "name": "stdout",
     "output_type": "stream",
     "text": [
      "Enter the sentence:vijay kumar shah\n",
      "Number of vowel is: 5\n"
     ]
    }
   ],
   "source": [
    "# get input from the user\n",
    "sentence = input(\"Enter the sentence:\")\n",
    "no_of_vowel = 0\n",
    "\n",
    "# traverse the sentence using for loop\n",
    "for char in sentence :\n",
    "    \n",
    "# convert uppercase to lowercase\n",
    "    char_lower = char.lower()\n",
    "    \n",
    "# check that vowel in entered sentence \n",
    "    if char in \"aeiou\":\n",
    "# count the number of vowel using increament operator\n",
    "            no_of_vowel += 1\n",
    "# finally print the value of vowel in our sentence\n",
    "print(\"Number of vowel is:\",no_of_vowel)"
   ]
  },
  {
   "cell_type": "markdown",
   "id": "5717fa1a",
   "metadata": {},
   "source": [
    "Explanation:\n",
    "1. we can take input from the user sentence using sentence as a variable and  using input() function\n",
    "2. initialize the number of vowel is 0\n",
    "3. we can use for loop for travese in sentence\n",
    "4. convert uppercase to lowercase using .lower() method\n",
    "5. 1 increament the value of number of vowel , we can use increatment operator like no_of_vowel++ or no_of_vowel += 1\n",
    "6. finally we can display the the value of vowel using print()"
   ]
  },
  {
   "cell_type": "markdown",
   "id": "71f1d48f",
   "metadata": {},
   "source": [
    "# 3.Given a string, reverse the order of characters using string slicing and print the reversed string"
   ]
  },
  {
   "cell_type": "code",
   "execution_count": 21,
   "id": "e9b59f10",
   "metadata": {},
   "outputs": [
    {
     "name": "stdout",
     "output_type": "stream",
     "text": [
      "Enter your string:barkatullah university\n",
      "Reverse String is: ytisrevinu hallutakrab\n"
     ]
    }
   ],
   "source": [
    "# step1: take string as a input from user\n",
    "s1 = str(input(\"Enter your string:\"))\n",
    "\n",
    "# step2: for reverse here we can use sliciing method string[start:end:jump]\n",
    "reverse_string = s1[::-1]\n",
    "\n",
    "# step3: print the string after reverse \n",
    "print(\"Reverse String is:\",reverse_string)\n"
   ]
  },
  {
   "cell_type": "markdown",
   "id": "53c12282",
   "metadata": {},
   "source": [
    "Explanation:\n",
    "1. in first step take user input as a string \n",
    "2. implement the slicing method to reverse string\n",
    "3. Display the string after reverse using print()"
   ]
  },
  {
   "cell_type": "markdown",
   "id": "2328ceca",
   "metadata": {},
   "source": [
    "#  4. Write a program that takes a string as input and checks if it is a palindrome (reads the same forwards and backwards)"
   ]
  },
  {
   "cell_type": "code",
   "execution_count": 24,
   "id": "a4b7fbfa",
   "metadata": {},
   "outputs": [
    {
     "name": "stdout",
     "output_type": "stream",
     "text": [
      "Enter your string:noon\n",
      "Yes, Entered string is palindrom\n"
     ]
    }
   ],
   "source": [
    "#step1: take user input string \n",
    "palindrome_string = str(input(\"Enter your string:\"))\n",
    "\n",
    "#step2: remove the spaces and convert in lowercase string\n",
    "cleaning_string = palindrome_string.replace(\" \",\"\").lower()\n",
    "#step3: after cleaning reverse the string using slicing method\n",
    "reverse_string = cleaning_string[::-1]\n",
    "\n",
    "#step4: compare clean string is palindrome or not \n",
    "if cleaning_string == reverse_string :\n",
    "    print(\"Yes, Entered string is palindrom\") \n",
    "else :\n",
    "    print(\"No, Entered string is not palindrome\")\n",
    "\n",
    "    "
   ]
  },
  {
   "cell_type": "markdown",
   "id": "8e501666",
   "metadata": {},
   "source": [
    "1. take user input string.\n",
    "2. remove the spaces and convert in lowercase string.\n",
    "3. after cleaning reverse the string using slicing method.\n",
    "4. compare clean string is palindrome or not using if(),else condition"
   ]
  },
  {
   "cell_type": "markdown",
   "id": "6600cd49",
   "metadata": {},
   "source": [
    "# 5. Create a program that takes a string as input and removes all the spaces from it. Print the modified string without spaces"
   ]
  },
  {
   "cell_type": "code",
   "execution_count": 25,
   "id": "f4d42fe3",
   "metadata": {},
   "outputs": [
    {
     "name": "stdout",
     "output_type": "stream",
     "text": [
      "Enter your string:vijay kumar shah\n",
      "Modified string without spaces: vijaykumarshah\n"
     ]
    }
   ],
   "source": [
    "# Step1: take string as input\n",
    "input_string = str(input(\"Enter your string:\"))\n",
    "#Step 2: Initialize an empty string to store the modified string without spaces\n",
    "modified_string = \"\"\n",
    "\n",
    "#Step 3: Iterate through each character in the input string\n",
    "for char in input_string:\n",
    "    \n",
    "    #Step 4: Check if the character is not a space\n",
    "    if char != \" \":\n",
    "        \n",
    "        #Step 5: If not a space, append the character to the modified string\n",
    "        modified_string += char\n",
    "\n",
    "#Step 6: Print the modified string without spaces\n",
    "print(\"Modified string without spaces:\", modified_string)"
   ]
  },
  {
   "cell_type": "markdown",
   "id": "17676562",
   "metadata": {},
   "source": [
    "Explanation:\n",
    "1. firstly i have take string as a user input using input() method.\n",
    "2. i have initialize one empty string called modifed string without space.\n",
    "3. traverse string throgh the foor loop.\n",
    "4. check that string is contains space or not.\n",
    "5. display the modified string without space."
   ]
  }
 ],
 "metadata": {
  "kernelspec": {
   "display_name": "Python 3 (ipykernel)",
   "language": "python",
   "name": "python3"
  },
  "language_info": {
   "codemirror_mode": {
    "name": "ipython",
    "version": 3
   },
   "file_extension": ".py",
   "mimetype": "text/x-python",
   "name": "python",
   "nbconvert_exporter": "python",
   "pygments_lexer": "ipython3",
   "version": "3.11.4"
  }
 },
 "nbformat": 4,
 "nbformat_minor": 5
}
